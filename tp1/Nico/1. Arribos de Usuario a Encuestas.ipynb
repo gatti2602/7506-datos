{
 "cells": [
  {
   "cell_type": "code",
   "execution_count": 1,
   "metadata": {},
   "outputs": [],
   "source": [
    "import pandas as pd\n",
    "import matplotlib as mp\n",
    "\n",
    "%matplotlib inline"
   ]
  },
  {
   "cell_type": "code",
   "execution_count": 2,
   "metadata": {},
   "outputs": [],
   "source": [
    "auctions = pd.read_csv('../data/auctions.csv.gzip',compression='gzip',\\\n",
    "                        usecols=['date','device_id','platform','ref_type_id','source_id'],\\\n",
    "                        dtype={'device_id':'int64','platform':'category','ref_type_id':'category','source_id':'category'},\\\n",
    "                        parse_dates=['date'])"
   ]
  },
  {
   "cell_type": "markdown",
   "metadata": {},
   "source": [
    "## Cada 3 dias, cuantas veces aparece un mismo id en promedio?"
   ]
  },
  {
   "cell_type": "code",
   "execution_count": 3,
   "metadata": {},
   "outputs": [
    {
     "data": {
      "text/html": [
       "<div>\n",
       "<style scoped>\n",
       "    .dataframe tbody tr th:only-of-type {\n",
       "        vertical-align: middle;\n",
       "    }\n",
       "\n",
       "    .dataframe tbody tr th {\n",
       "        vertical-align: top;\n",
       "    }\n",
       "\n",
       "    .dataframe thead th {\n",
       "        text-align: right;\n",
       "    }\n",
       "</style>\n",
       "<table border=\"1\" class=\"dataframe\">\n",
       "  <thead>\n",
       "    <tr style=\"text-align: right;\">\n",
       "      <th></th>\n",
       "      <th>date</th>\n",
       "      <th>device_id</th>\n",
       "      <th>platform</th>\n",
       "      <th>ref_type_id</th>\n",
       "      <th>source_id</th>\n",
       "    </tr>\n",
       "  </thead>\n",
       "  <tbody>\n",
       "    <tr>\n",
       "      <th>0</th>\n",
       "      <td>2019-03-11 14:18:33.290763</td>\n",
       "      <td>6059599345986491085</td>\n",
       "      <td>1</td>\n",
       "      <td>1</td>\n",
       "      <td>0</td>\n",
       "    </tr>\n",
       "    <tr>\n",
       "      <th>1</th>\n",
       "      <td>2019-03-11 14:18:34.440157</td>\n",
       "      <td>1115994996230693426</td>\n",
       "      <td>1</td>\n",
       "      <td>1</td>\n",
       "      <td>0</td>\n",
       "    </tr>\n",
       "    <tr>\n",
       "      <th>2</th>\n",
       "      <td>2019-03-11 14:18:35.862360</td>\n",
       "      <td>7463856250762200923</td>\n",
       "      <td>1</td>\n",
       "      <td>1</td>\n",
       "      <td>0</td>\n",
       "    </tr>\n",
       "    <tr>\n",
       "      <th>3</th>\n",
       "      <td>2019-03-11 14:18:36.167163</td>\n",
       "      <td>7829815350267792040</td>\n",
       "      <td>1</td>\n",
       "      <td>1</td>\n",
       "      <td>0</td>\n",
       "    </tr>\n",
       "    <tr>\n",
       "      <th>4</th>\n",
       "      <td>2019-03-11 14:18:37.728590</td>\n",
       "      <td>1448534231953777480</td>\n",
       "      <td>1</td>\n",
       "      <td>1</td>\n",
       "      <td>0</td>\n",
       "    </tr>\n",
       "  </tbody>\n",
       "</table>\n",
       "</div>"
      ],
      "text/plain": [
       "                        date            device_id platform ref_type_id  \\\n",
       "0 2019-03-11 14:18:33.290763  6059599345986491085        1           1   \n",
       "1 2019-03-11 14:18:34.440157  1115994996230693426        1           1   \n",
       "2 2019-03-11 14:18:35.862360  7463856250762200923        1           1   \n",
       "3 2019-03-11 14:18:36.167163  7829815350267792040        1           1   \n",
       "4 2019-03-11 14:18:37.728590  1448534231953777480        1           1   \n",
       "\n",
       "  source_id  \n",
       "0         0  \n",
       "1         0  \n",
       "2         0  \n",
       "3         0  \n",
       "4         0  "
      ]
     },
     "execution_count": 3,
     "metadata": {},
     "output_type": "execute_result"
    }
   ],
   "source": [
    "auctions.head()"
   ]
  },
  {
   "cell_type": "markdown",
   "metadata": {},
   "source": [
    "Primero se busca cuanto es el promedio de veces que aparece un usuario en las subastas. \n",
    "\n",
    "Se usan grupos de 3 dias para segmentar los datos ya que es la ventana que toma Jaamp.\n"
   ]
  },
  {
   "cell_type": "code",
   "execution_count": 4,
   "metadata": {},
   "outputs": [],
   "source": [
    "#Divido el intervalo en segmentos de 3 dias consecutivos que analizo por separado\n",
    "auctions['date_frame'] = (auctions['date'].dt.day - auctions['date'].dt.day.min()) % 3\n",
    "grp = ['device_id', 'date_frame']\n",
    "#Ordeno por grp y fecha\n",
    "auctions.sort_values(by=['device_id', 'date_frame', 'date'], inplace=True)"
   ]
  },
  {
   "cell_type": "code",
   "execution_count": 5,
   "metadata": {},
   "outputs": [
    {
     "name": "stdout",
     "output_type": "stream",
     "text": [
      "('Prom. de apariciones de usuarios en 3 dias: ', 43.157112615493176)\n",
      "('Min. de apariciones de usuarios en 3 dias: ', 1)\n",
      "('Max. de apariciones de usuarios en 3 dias: ', 11910)\n",
      "('Med. de apariciones de usuarios en 3 dias: ', 9.0)\n",
      "('Total de Registros: ', 453490)\n"
     ]
    },
    {
     "data": {
      "text/plain": [
       "Text(0,0.5,'Cant. Usuarios')"
      ]
     },
     "execution_count": 5,
     "metadata": {},
     "output_type": "execute_result"
    },
    {
     "data": {
      "image/png": "[encoded data removed]",
      "text/plain": [
       "<Figure size 432x288 with 1 Axes>"
      ]
     },
     "metadata": {},
     "output_type": "display_data"
    }
   ],
   "source": [
    "app_dev_id = auctions.groupby(grp, sort=False)['date'].count()\n",
    "print('Prom. de apariciones de usuarios en 3 dias: ', app_dev_id.mean())\n",
    "print('Min. de apariciones de usuarios en 3 dias: ', app_dev_id.min())\n",
    "print('Max. de apariciones de usuarios en 3 dias: ', app_dev_id.max())\n",
    "print('Med. de apariciones de usuarios en 3 dias: ', app_dev_id.median())\n",
    "print('Total de Registros: ', app_dev_id.count())\n",
    "\n",
    "plot = app_dev_id.hist(bins=50)\n",
    "plot.set_title(\"Usuarios por Cant. de apariciones \")\n",
    "plot.set_xlabel(\"Cant. de Apariciones\")\n",
    "plot.set_ylabel(\"Cant. Usuarios\")"
   ]
  },
  {
   "cell_type": "markdown",
   "metadata": {},
   "source": [
    "Elimino los que aparecen una sola vez (no se puede estimar tiempo de arribo) y los que aparecen mas de 100 veces (No tiene sentido, estan muy por arriba de la mediana)"
   ]
  },
  {
   "cell_type": "code",
   "execution_count": 6,
   "metadata": {},
   "outputs": [
    {
     "name": "stdout",
     "output_type": "stream",
     "text": [
      "('Prom. de apariciones de usuarios en 3 dias: ', 27.35093602995296)\n",
      "('Min. de apariciones de usuarios en 3 dias: ', 3)\n",
      "('Max. de apariciones de usuarios en 3 dias: ', 149)\n",
      "('Med. de apariciones de usuarios en 3 dias: ', 14.0)\n",
      "('Total de Registros: ', 312490)\n"
     ]
    },
    {
     "data": {
      "text/plain": [
       "Text(0,0.5,'Cant. Usuarios')"
      ]
     },
     "execution_count": 6,
     "metadata": {},
     "output_type": "execute_result"
    },
    {
     "data": {
      "image/png": "[encoded data removed]",
      "text/plain": [
       "<Figure size 432x288 with 1 Axes>"
      ]
     },
     "metadata": {},
     "output_type": "display_data"
    }
   ],
   "source": [
    "min_value = 2\n",
    "max_value = 150\n",
    "\n",
    "#Entre 1 y 1000 quedan 381582 registros \n",
    "#Entre 1 y 300 quedan 371666 registros\n",
    "#Entre 5 y 200 quedan 250549 registros\n",
    "\n",
    "auctions = auctions.groupby(grp, sort=False).filter(lambda data: (min_value < len(data) < max_value))\n",
    "                                                                                                                  \n",
    "app_dev_id = auctions.groupby(grp, sort=False)['date'].count()\n",
    "print('Prom. de apariciones de usuarios en 3 dias: ', app_dev_id.mean())\n",
    "print('Min. de apariciones de usuarios en 3 dias: ', app_dev_id.min())\n",
    "print('Max. de apariciones de usuarios en 3 dias: ', app_dev_id.max())\n",
    "print('Med. de apariciones de usuarios en 3 dias: ', app_dev_id.median())\n",
    "print('Total de Registros: ', app_dev_id.count())\n",
    "\n",
    "plot = app_dev_id.hist(bins=100)\n",
    "plot.set_title(\"Usuarios por Cant. de apariciones \")\n",
    "plot.set_xlabel(\"Cant. de Apariciones\")\n",
    "plot.set_ylabel(\"Cant. Usuarios\")"
   ]
  },
  {
   "cell_type": "code",
   "execution_count": 7,
   "metadata": {},
   "outputs": [
    {
     "data": {
      "text/plain": [
       "count    312490.000000\n",
       "mean         27.350936\n",
       "std          31.332911\n",
       "min           3.000000\n",
       "25%           6.000000\n",
       "50%          14.000000\n",
       "75%          36.000000\n",
       "max         149.000000\n",
       "Name: date, dtype: float64"
      ]
     },
     "execution_count": 7,
     "metadata": {},
     "output_type": "execute_result"
    }
   ],
   "source": [
    "app_dev_id.describe()"
   ]
  },
  {
   "cell_type": "markdown",
   "metadata": {},
   "source": [
    "## Cada 3 dias, cuanto es el tiempo promedio entre apariciones de un dispositivo? "
   ]
  },
  {
   "cell_type": "code",
   "execution_count": 11,
   "metadata": {},
   "outputs": [
    {
     "name": "stderr",
     "output_type": "stream",
     "text": [
      "/home/gatti2602/.local/lib/python2.7/site-packages/ipykernel_launcher.py:3: SettingWithCopyWarning: \n",
      "A value is trying to be set on a copy of a slice from a DataFrame.\n",
      "Try using .loc[row_indexer,col_indexer] = value instead\n",
      "\n",
      "See the caveats in the documentation: http://pandas.pydata.org/pandas-docs/stable/indexing.html#indexing-view-versus-copy\n",
      "  This is separate from the ipykernel package so we can avoid doing imports until\n"
     ]
    }
   ],
   "source": [
    "auctions['next_date'] = auctions.groupby(grp, as_index = False, sort=False)['date']\\\n",
    "                                              .transform(lambda x: x.shift(-1))\n",
    "auctions = auctions.loc[(~auctions['next_date'].isnull())]\n",
    "auctions['secs_to_next'] = (auctions['next_date'] - auctions['date'])\\\n",
    "                                        .transform(lambda x: round(x.total_seconds(), 2))"
   ]
  },
  {
   "cell_type": "code",
   "execution_count": 12,
   "metadata": {},
   "outputs": [
    {
     "data": {
      "text/html": [
       "<div>\n",
       "<style scoped>\n",
       "    .dataframe tbody tr th:only-of-type {\n",
       "        vertical-align: middle;\n",
       "    }\n",
       "\n",
       "    .dataframe tbody tr th {\n",
       "        vertical-align: top;\n",
       "    }\n",
       "\n",
       "    .dataframe thead th {\n",
       "        text-align: right;\n",
       "    }\n",
       "</style>\n",
       "<table border=\"1\" class=\"dataframe\">\n",
       "  <thead>\n",
       "    <tr style=\"text-align: right;\">\n",
       "      <th></th>\n",
       "      <th>date</th>\n",
       "      <th>device_id</th>\n",
       "      <th>platform</th>\n",
       "      <th>ref_type_id</th>\n",
       "      <th>source_id</th>\n",
       "      <th>date_frame</th>\n",
       "      <th>next_date</th>\n",
       "      <th>secs_to_next</th>\n",
       "    </tr>\n",
       "  </thead>\n",
       "  <tbody>\n",
       "    <tr>\n",
       "      <th>16055271</th>\n",
       "      <td>2019-03-08 11:20:19.361762</td>\n",
       "      <td>113858820194433</td>\n",
       "      <td>1</td>\n",
       "      <td>1</td>\n",
       "      <td>0</td>\n",
       "      <td>0</td>\n",
       "      <td>2019-03-08 11:20:19.411501</td>\n",
       "      <td>0.05</td>\n",
       "    </tr>\n",
       "    <tr>\n",
       "      <th>7910618</th>\n",
       "      <td>2019-03-08 11:20:19.411501</td>\n",
       "      <td>113858820194433</td>\n",
       "      <td>1</td>\n",
       "      <td>1</td>\n",
       "      <td>0</td>\n",
       "      <td>0</td>\n",
       "      <td>2019-03-08 13:41:53.701108</td>\n",
       "      <td>8494.29</td>\n",
       "    </tr>\n",
       "    <tr>\n",
       "      <th>10114916</th>\n",
       "      <td>2019-03-08 13:41:53.701108</td>\n",
       "      <td>113858820194433</td>\n",
       "      <td>1</td>\n",
       "      <td>1</td>\n",
       "      <td>0</td>\n",
       "      <td>0</td>\n",
       "      <td>2019-03-11 00:47:34.259903</td>\n",
       "      <td>212740.56</td>\n",
       "    </tr>\n",
       "    <tr>\n",
       "      <th>10198607</th>\n",
       "      <td>2019-03-11 00:47:34.259903</td>\n",
       "      <td>113858820194433</td>\n",
       "      <td>1</td>\n",
       "      <td>1</td>\n",
       "      <td>0</td>\n",
       "      <td>0</td>\n",
       "      <td>2019-03-11 22:05:35.290441</td>\n",
       "      <td>76681.03</td>\n",
       "    </tr>\n",
       "    <tr>\n",
       "      <th>17311907</th>\n",
       "      <td>2019-03-11 22:05:35.290441</td>\n",
       "      <td>113858820194433</td>\n",
       "      <td>1</td>\n",
       "      <td>1</td>\n",
       "      <td>0</td>\n",
       "      <td>0</td>\n",
       "      <td>2019-03-11 23:43:52.418474</td>\n",
       "      <td>5897.13</td>\n",
       "    </tr>\n",
       "  </tbody>\n",
       "</table>\n",
       "</div>"
      ],
      "text/plain": [
       "                               date        device_id platform ref_type_id  \\\n",
       "16055271 2019-03-08 11:20:19.361762  113858820194433        1           1   \n",
       "7910618  2019-03-08 11:20:19.411501  113858820194433        1           1   \n",
       "10114916 2019-03-08 13:41:53.701108  113858820194433        1           1   \n",
       "10198607 2019-03-11 00:47:34.259903  113858820194433        1           1   \n",
       "17311907 2019-03-11 22:05:35.290441  113858820194433        1           1   \n",
       "\n",
       "         source_id  date_frame                  next_date  secs_to_next  \n",
       "16055271         0           0 2019-03-08 11:20:19.411501          0.05  \n",
       "7910618          0           0 2019-03-08 13:41:53.701108       8494.29  \n",
       "10114916         0           0 2019-03-11 00:47:34.259903     212740.56  \n",
       "10198607         0           0 2019-03-11 22:05:35.290441      76681.03  \n",
       "17311907         0           0 2019-03-11 23:43:52.418474       5897.13  "
      ]
     },
     "execution_count": 12,
     "metadata": {},
     "output_type": "execute_result"
    }
   ],
   "source": [
    "auctions.head()"
   ]
  },
  {
   "cell_type": "code",
   "execution_count": 13,
   "metadata": {},
   "outputs": [
    {
     "data": {
      "text/html": [
       "<div>\n",
       "<style scoped>\n",
       "    .dataframe tbody tr th:only-of-type {\n",
       "        vertical-align: middle;\n",
       "    }\n",
       "\n",
       "    .dataframe tbody tr th {\n",
       "        vertical-align: top;\n",
       "    }\n",
       "\n",
       "    .dataframe thead th {\n",
       "        text-align: right;\n",
       "    }\n",
       "</style>\n",
       "<table border=\"1\" class=\"dataframe\">\n",
       "  <thead>\n",
       "    <tr style=\"text-align: right;\">\n",
       "      <th></th>\n",
       "      <th>count</th>\n",
       "      <th>mean</th>\n",
       "      <th>std</th>\n",
       "      <th>min</th>\n",
       "      <th>25%</th>\n",
       "      <th>50%</th>\n",
       "      <th>75%</th>\n",
       "      <th>max</th>\n",
       "    </tr>\n",
       "    <tr>\n",
       "      <th>date_frame</th>\n",
       "      <th></th>\n",
       "      <th></th>\n",
       "      <th></th>\n",
       "      <th></th>\n",
       "      <th></th>\n",
       "      <th></th>\n",
       "      <th></th>\n",
       "      <th></th>\n",
       "    </tr>\n",
       "  </thead>\n",
       "  <tbody>\n",
       "    <tr>\n",
       "      <th>0</th>\n",
       "      <td>2620914.0</td>\n",
       "      <td>11109.700431</td>\n",
       "      <td>49839.340738</td>\n",
       "      <td>0.0</td>\n",
       "      <td>5.36</td>\n",
       "      <td>45.74</td>\n",
       "      <td>402.390</td>\n",
       "      <td>601189.10</td>\n",
       "    </tr>\n",
       "    <tr>\n",
       "      <th>1</th>\n",
       "      <td>2621983.0</td>\n",
       "      <td>11079.701738</td>\n",
       "      <td>51230.262371</td>\n",
       "      <td>0.0</td>\n",
       "      <td>4.89</td>\n",
       "      <td>42.09</td>\n",
       "      <td>366.000</td>\n",
       "      <td>602045.94</td>\n",
       "    </tr>\n",
       "    <tr>\n",
       "      <th>2</th>\n",
       "      <td>2991507.0</td>\n",
       "      <td>11693.655876</td>\n",
       "      <td>51991.247801</td>\n",
       "      <td>0.0</td>\n",
       "      <td>5.29</td>\n",
       "      <td>44.93</td>\n",
       "      <td>448.025</td>\n",
       "      <td>603942.98</td>\n",
       "    </tr>\n",
       "  </tbody>\n",
       "</table>\n",
       "</div>"
      ],
      "text/plain": [
       "                count          mean           std  min   25%    50%      75%  \\\n",
       "date_frame                                                                     \n",
       "0           2620914.0  11109.700431  49839.340738  0.0  5.36  45.74  402.390   \n",
       "1           2621983.0  11079.701738  51230.262371  0.0  4.89  42.09  366.000   \n",
       "2           2991507.0  11693.655876  51991.247801  0.0  5.29  44.93  448.025   \n",
       "\n",
       "                  max  \n",
       "date_frame             \n",
       "0           601189.10  \n",
       "1           602045.94  \n",
       "2           603942.98  "
      ]
     },
     "execution_count": 13,
     "metadata": {},
     "output_type": "execute_result"
    }
   ],
   "source": [
    "auctions.groupby('date_frame')['secs_to_next'].describe()"
   ]
  },
  {
   "cell_type": "markdown",
   "metadata": {},
   "source": [
    "Se observa que el 3 cuantil se encuentra por abajo de los 150 seg siempre, lo que indica que la mayoria de las veces un dispositivo aparece varias veces en un tiempo muy acotado y luego desaparece por bastante tiempo hasta que aparece de nuevo.\n",
    "\n",
    "Se filtran los que tardaron mas de 120 seg. para que no se vean una cantidad grande de outliers en el boxplot"
   ]
  },
  {
   "cell_type": "code",
   "execution_count": 15,
   "metadata": {},
   "outputs": [],
   "source": [
    "filtered = auctions.loc[auctions['secs_to_next'] < 120]"
   ]
  },
  {
   "cell_type": "code",
   "execution_count": 16,
   "metadata": {},
   "outputs": [
    {
     "data": {
      "text/html": [
       "<div>\n",
       "<style scoped>\n",
       "    .dataframe tbody tr th:only-of-type {\n",
       "        vertical-align: middle;\n",
       "    }\n",
       "\n",
       "    .dataframe tbody tr th {\n",
       "        vertical-align: top;\n",
       "    }\n",
       "\n",
       "    .dataframe thead th {\n",
       "        text-align: right;\n",
       "    }\n",
       "</style>\n",
       "<table border=\"1\" class=\"dataframe\">\n",
       "  <thead>\n",
       "    <tr style=\"text-align: right;\">\n",
       "      <th></th>\n",
       "      <th>count</th>\n",
       "      <th>mean</th>\n",
       "      <th>std</th>\n",
       "      <th>min</th>\n",
       "      <th>25%</th>\n",
       "      <th>50%</th>\n",
       "      <th>75%</th>\n",
       "      <th>max</th>\n",
       "    </tr>\n",
       "    <tr>\n",
       "      <th>date_frame</th>\n",
       "      <th></th>\n",
       "      <th></th>\n",
       "      <th></th>\n",
       "      <th></th>\n",
       "      <th></th>\n",
       "      <th></th>\n",
       "      <th></th>\n",
       "      <th></th>\n",
       "    </tr>\n",
       "  </thead>\n",
       "  <tbody>\n",
       "    <tr>\n",
       "      <th>0</th>\n",
       "      <td>1651685.0</td>\n",
       "      <td>24.456697</td>\n",
       "      <td>29.775551</td>\n",
       "      <td>0.0</td>\n",
       "      <td>2.01</td>\n",
       "      <td>10.43</td>\n",
       "      <td>37.48</td>\n",
       "      <td>119.99</td>\n",
       "    </tr>\n",
       "    <tr>\n",
       "      <th>1</th>\n",
       "      <td>1675170.0</td>\n",
       "      <td>23.908661</td>\n",
       "      <td>29.508505</td>\n",
       "      <td>0.0</td>\n",
       "      <td>1.93</td>\n",
       "      <td>9.88</td>\n",
       "      <td>36.53</td>\n",
       "      <td>119.99</td>\n",
       "    </tr>\n",
       "    <tr>\n",
       "      <th>2</th>\n",
       "      <td>1877120.0</td>\n",
       "      <td>23.897391</td>\n",
       "      <td>29.373083</td>\n",
       "      <td>0.0</td>\n",
       "      <td>1.96</td>\n",
       "      <td>10.11</td>\n",
       "      <td>36.27</td>\n",
       "      <td>119.99</td>\n",
       "    </tr>\n",
       "  </tbody>\n",
       "</table>\n",
       "</div>"
      ],
      "text/plain": [
       "                count       mean        std  min   25%    50%    75%     max\n",
       "date_frame                                                                  \n",
       "0           1651685.0  24.456697  29.775551  0.0  2.01  10.43  37.48  119.99\n",
       "1           1675170.0  23.908661  29.508505  0.0  1.93   9.88  36.53  119.99\n",
       "2           1877120.0  23.897391  29.373083  0.0  1.96  10.11  36.27  119.99"
      ]
     },
     "execution_count": 16,
     "metadata": {},
     "output_type": "execute_result"
    }
   ],
   "source": [
    "filtered.groupby('date_frame')['secs_to_next'].describe()"
   ]
  },
  {
   "cell_type": "code",
   "execution_count": 17,
   "metadata": {},
   "outputs": [],
   "source": [
    "#Quiero estandarizar los datos y ver si la distribucion es similar en los grupos de 3 dias\n",
    "#filtered.groupby('date_frame')['secs_to_next'].transform(lambda x: ((x-x.mean()) / x.std())) "
   ]
  },
  {
   "cell_type": "code",
   "execution_count": 23,
   "metadata": {},
   "outputs": [
    {
     "data": {
      "text/plain": [
       "Text(0,0.5,'Tiempo (Seg.)')"
      ]
     },
     "execution_count": 23,
     "metadata": {},
     "output_type": "execute_result"
    },
    {
     "data": {
      "image/png": "[encoded data removed]",
      "text/plain": [
       "<Figure size 432x288 with 1 Axes>"
      ]
     },
     "metadata": {},
     "output_type": "display_data"
    }
   ],
   "source": [
    "plot = filtered.boxplot(by='date_frame', column='secs_to_next')\n",
    "#plot.set_title(\"Tiempo entre apariciones\")\n",
    "plot.set_xlabel(\"Por ventana de 3 dias\")\n",
    "plot.set_ylabel(\"Tiempo (Seg.)\")"
   ]
  },
  {
   "cell_type": "markdown",
   "metadata": {},
   "source": [
    "Se observa que para los 3 periodos se mantiene la tendencia a que los usuarios aparezcan varias veces en rafagas de periodos muy cortos. Desapareciendo luego por un periodo mas extenso. \n",
    "\n",
    "Es asi que podria decirse que si un usuario aparecio hace poco tiene mas probabilidades de volver a aparecer que un usuario que aparecio hace mas tiempo (Probablemente ya no esta usando la aplicacion)."
   ]
  },
  {
   "cell_type": "code",
   "execution_count": 25,
   "metadata": {},
   "outputs": [
    {
     "data": {
      "text/plain": [
       "Text(0,0.5,'Proporcion de los casos')"
      ]
     },
     "execution_count": 25,
     "metadata": {},
     "output_type": "execute_result"
    },
    {
     "data": {
      "image/png": "[encoded data removed]",
      "text/plain": [
       "<Figure size 432x288 with 1 Axes>"
      ]
     },
     "metadata": {},
     "output_type": "display_data"
    }
   ],
   "source": [
    "plt = filtered['secs_to_next'].hist(bins = 100, density=True, cumulative=True)\n",
    "plt.set_title(\"Distribucion de tiempo de aparicion por periodo de 3 dias\")\n",
    "plt.set_xlabel(\"Tiempo (Seg.)\")\n",
    "plt.set_ylabel(\"Proporcion de los casos\")"
   ]
  },
  {
   "cell_type": "markdown",
   "metadata": {},
   "source": [
    "## En que horarios hay mas subastas? Dia Laboral vs Dia no Laboral"
   ]
  },
  {
   "cell_type": "code",
   "execution_count": 26,
   "metadata": {},
   "outputs": [],
   "source": [
    "auctions['hour'] = auctions['date'].dt.hour\n",
    "auctions['is_weekend'] = auctions['date'].dt.weekday >= 5"
   ]
  },
  {
   "cell_type": "code",
   "execution_count": 34,
   "metadata": {},
   "outputs": [
    {
     "data": {
      "text/plain": [
       "Text(0,0.5,u'Cant. de encuestas')"
      ]
     },
     "execution_count": 34,
     "metadata": {},
     "output_type": "execute_result"
    },
    {
     "data": {
      "image/png": "[encoded data removed]",
      "text/plain": [
       "<Figure size 432x288 with 1 Axes>"
      ]
     },
     "metadata": {},
     "output_type": "display_data"
    }
   ],
   "source": [
    "plot = auctions.groupby('is_weekend')['hour'].value_counts().unstack().transpose().plot.bar()\n",
    "plot.set_title(u'Cantidad de encuestas por hora del día')\n",
    "plot.set_xlabel(u'Horario del dia')\n",
    "plot.set_ylabel(u'Cant. de encuestas')"
   ]
  },
  {
   "cell_type": "code",
   "execution_count": 35,
   "metadata": {},
   "outputs": [
    {
     "data": {
      "text/plain": [
       "Text(0,0.5,u'Cant. de encuestas')"
      ]
     },
     "execution_count": 35,
     "metadata": {},
     "output_type": "execute_result"
    },
    {
     "data": {
      "image/png": "[encoded data removed]",
      "text/plain": [
       "<Figure size 432x288 with 1 Axes>"
      ]
     },
     "metadata": {},
     "output_type": "display_data"
    }
   ],
   "source": [
    "plot = auctions.groupby('is_weekend')['hour'].value_counts().unstack().transpose().plot()\n",
    "plot.set_title(u'Distribucion de encuestas en el día')\n",
    "plot.set_xlabel(u'Horario del dia')\n",
    "plot.set_ylabel(u'Cant. de encuestas')"
   ]
  }
 ],
 "metadata": {
  "kernelspec": {
   "display_name": "Python 2",
   "language": "python",
   "name": "python2"
  },
  "language_info": {
   "codemirror_mode": {
    "name": "ipython",
    "version": 2
   },
   "file_extension": ".py",
   "mimetype": "text/x-python",
   "name": "python",
   "nbconvert_exporter": "python",
   "pygments_lexer": "ipython2",
   "version": "2.7.15rc1"
  }
 },
 "nbformat": 4,
 "nbformat_minor": 2
}
