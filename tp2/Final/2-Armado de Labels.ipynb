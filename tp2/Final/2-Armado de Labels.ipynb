{
 "cells": [
  {
   "cell_type": "code",
   "execution_count": 1,
   "metadata": {},
   "outputs": [],
   "source": [
    "import pandas as pd\n",
    "import matplotlib as mp\n",
    "import numpy as np\n",
    "from datetime import timedelta\n",
    "import datetime as dt\n",
    "\n",
    "%matplotlib inline\n",
    "\n",
    "#Root de archivos de datos\n",
    "root_dir = '../data/'\n",
    "\n",
    "#Lee menos data si es testing\n",
    "is_testing = False\n",
    "\n",
    "# Cantidad minima de aparicion de equipos en un dataframe\n",
    "min_devices = 5\n",
    "\n",
    "# Ventanas de tiempo\n",
    "windows = pd.DataFrame({\n",
    "    'begin_date': [dt.datetime(2019,4,18),dt.datetime(2019,4,21),dt.datetime(2019,4,24)],\n",
    "    'window_nr':[1,2,3]\n",
    "})"
   ]
  },
  {
   "cell_type": "code",
   "execution_count": 2,
   "metadata": {},
   "outputs": [
    {
     "name": "stdout",
     "output_type": "stream",
     "text": [
      "Not Testing, #records: 47409528\n"
     ]
    }
   ],
   "source": [
    "#Optimizado para menos memoria\n",
    "auction_dtypes = {\n",
    "    'device_id': np.int64,\n",
    "    'source_id': np.int8\n",
    "}\n",
    "\n",
    "auctions = pd.read_csv(root_dir + 'auctions.csv.gzip',\n",
    "                       compression = 'gzip',\n",
    "                       dtype = auction_dtypes,\n",
    "                       usecols=list(auction_dtypes.keys()) + ['date'],\n",
    "                       parse_dates = ['date'])\n",
    "auctions.rename({'device_id':'ref_hash',\n",
    "                 'date':'created'}, inplace=True, axis='columns')\n",
    "auctions['n'] = 1\n",
    "\n",
    "# Para hacer pruebas ocupando menos memoria se hace un sampleo aleatorio de la mitad del dataframe y se elimina el resto\n",
    "if is_testing:\n",
    "    auctions = auctions.sample(frac=.30)\n",
    "    print(\"Is Testing, #records:\", auctions['n'].sum())\n",
    "else:\n",
    "    print(\"Not Testing, #records:\", auctions['n'].sum())"
   ]
  },
  {
   "cell_type": "code",
   "execution_count": 3,
   "metadata": {},
   "outputs": [
    {
     "name": "stdout",
     "output_type": "stream",
     "text": [
      "#records: 481511\n"
     ]
    }
   ],
   "source": [
    "installs_dtypes = {\n",
    "    'application_id': np.int32,\n",
    "    'ref_hash': np.int64, \n",
    "    #'click_hash':'category',\n",
    "    'attributed': 'category',\n",
    "    'implicit': 'category',\n",
    "    #'device_countrycode': 'object', \n",
    "    'device_brand': 'object',\n",
    "    'device_model': 'object', \n",
    "    'session_user_agent': 'object', \n",
    "    'user_agent': 'object', \n",
    "    'event_uuid':'object',\n",
    "    'kind': 'object',\n",
    "    'wifi': 'object', \n",
    "    'trans_id': 'object', \n",
    "    #'ip_address':'object', \n",
    "    'device_language': 'object'\n",
    "}\n",
    "install_cols = list(installs_dtypes.keys()) + ['created']\n",
    "installs = pd.read_csv(root_dir + 'installs.csv.gzip', \n",
    "                       compression='gzip', \n",
    "                       usecols=install_cols,\n",
    "                       dtype= installs_dtypes,\n",
    "                      parse_dates=['created'])\n",
    "\n",
    "installs['n'] = 1\n",
    "print('#records:', installs['n'].sum())"
   ]
  },
  {
   "cell_type": "code",
   "execution_count": 4,
   "metadata": {},
   "outputs": [],
   "source": [
    "unique_hashes = pd.read_csv(root_dir+'unique_hashes.csv')"
   ]
  },
  {
   "cell_type": "markdown",
   "metadata": {},
   "source": [
    "---\n",
    "## 2. Arreglo de los datos\n",
    "\n",
    "### Separo las semanas de entrenamiento\n",
    "\n",
    "Se utiliza el siguiente metodo: \n",
    "\n",
    "1. Ventana del 18 al 20 inclusive (1) -> Predice valores entre el 21 y 24 (2)\n",
    "2. Ventana del 21 al 23 inclusive (2) -> Predice valores entre el 24 y 26 (3)"
   ]
  },
  {
   "cell_type": "code",
   "execution_count": 5,
   "metadata": {},
   "outputs": [],
   "source": [
    "#Agrego la ventana de tiempo\n",
    "auctions = auctions.loc[auctions['ref_hash'].isin(unique_hashes['ref_hash'])]\\\n",
    "                   .sort_values(by='created')\n",
    "auctions = pd.merge_asof(auctions,windows,left_on='created',right_on='begin_date')"
   ]
  },
  {
   "cell_type": "code",
   "execution_count": 6,
   "metadata": {},
   "outputs": [],
   "source": [
    "installs = installs.loc[installs['ref_hash'].isin(unique_hashes['ref_hash'])]\n",
    "installs.sort_values(by='created',inplace=True)\n",
    "installs = pd.merge_asof(installs,windows,left_on='created',right_on='begin_date')"
   ]
  },
  {
   "cell_type": "markdown",
   "metadata": {},
   "source": [
    "### 2.2 Arreglo de datos de Installs"
   ]
  },
  {
   "cell_type": "code",
   "execution_count": 7,
   "metadata": {},
   "outputs": [],
   "source": [
    "installs['kind'] = installs['kind'].str.replace(' ','_')\n",
    "installs['kind'] = installs['kind'].str.replace('af_app_open ','af_app_opened')\n",
    "installs['kind'] = installs['kind'].str.replace('af_app_opend','af_app_opened')\n",
    "installs['kind'] = installs['kind'].str.lower()"
   ]
  },
  {
   "cell_type": "code",
   "execution_count": 8,
   "metadata": {},
   "outputs": [
    {
     "data": {
      "text/plain": [
       "created                    0\n",
       "application_id             0\n",
       "ref_hash                   0\n",
       "attributed                 0\n",
       "implicit                   0\n",
       "device_brand          204813\n",
       "device_model           26871\n",
       "session_user_agent     14828\n",
       "user_agent            150111\n",
       "event_uuid            377704\n",
       "kind                  377704\n",
       "wifi                  186016\n",
       "trans_id              472140\n",
       "device_language        27552\n",
       "n                          0\n",
       "begin_date                 0\n",
       "window_nr                  0\n",
       "dtype: int64"
      ]
     },
     "execution_count": 8,
     "metadata": {},
     "output_type": "execute_result"
    }
   ],
   "source": [
    "installs.isnull().sum()"
   ]
  },
  {
   "cell_type": "code",
   "execution_count": 9,
   "metadata": {},
   "outputs": [],
   "source": [
    "for i in ['device_brand','device_model','session_user_agent','user_agent','kind','wifi','device_language']:\n",
    "    installs[i] = installs[i].fillna('unknown')\n",
    "installs['device_brand'] = installs['device_brand'].astype('category')\n",
    "installs['device_model'] = installs['device_model'].astype('category')\n",
    "installs['session_user_agent'] = installs['session_user_agent'].astype('category')\n",
    "installs['user_agent'] = installs['user_agent'].astype('category')\n",
    "installs['kind'] = installs['kind'].astype('category')\n",
    "installs['wifi'] = installs['wifi'].astype('category')\n",
    "installs['device_language'] = installs['device_language'].astype('category')"
   ]
  },
  {
   "cell_type": "code",
   "execution_count": 10,
   "metadata": {},
   "outputs": [
    {
     "data": {
      "text/html": [
       "<div>\n",
       "<style scoped>\n",
       "    .dataframe tbody tr th:only-of-type {\n",
       "        vertical-align: middle;\n",
       "    }\n",
       "\n",
       "    .dataframe tbody tr th {\n",
       "        vertical-align: top;\n",
       "    }\n",
       "\n",
       "    .dataframe thead th {\n",
       "        text-align: right;\n",
       "    }\n",
       "</style>\n",
       "<table border=\"1\" class=\"dataframe\">\n",
       "  <thead>\n",
       "    <tr style=\"text-align: right;\">\n",
       "      <th></th>\n",
       "      <th>0</th>\n",
       "      <th>1</th>\n",
       "      <th>2</th>\n",
       "      <th>3</th>\n",
       "      <th>4</th>\n",
       "    </tr>\n",
       "  </thead>\n",
       "  <tbody>\n",
       "    <tr>\n",
       "      <th>created</th>\n",
       "      <td>2019-04-18 00:00:01.560000</td>\n",
       "      <td>2019-04-18 00:00:01.851000</td>\n",
       "      <td>2019-04-18 00:00:05.152000</td>\n",
       "      <td>2019-04-18 00:00:05.589000</td>\n",
       "      <td>2019-04-18 00:00:06.795000</td>\n",
       "    </tr>\n",
       "    <tr>\n",
       "      <th>application_id</th>\n",
       "      <td>70</td>\n",
       "      <td>70</td>\n",
       "      <td>65</td>\n",
       "      <td>27</td>\n",
       "      <td>339</td>\n",
       "    </tr>\n",
       "    <tr>\n",
       "      <th>ref_hash</th>\n",
       "      <td>4432995619177048534</td>\n",
       "      <td>5904733559638204455</td>\n",
       "      <td>896373747754111825</td>\n",
       "      <td>3399210824535017892</td>\n",
       "      <td>1541425881979513687</td>\n",
       "    </tr>\n",
       "    <tr>\n",
       "      <th>attributed</th>\n",
       "      <td>False</td>\n",
       "      <td>False</td>\n",
       "      <td>False</td>\n",
       "      <td>False</td>\n",
       "      <td>False</td>\n",
       "    </tr>\n",
       "    <tr>\n",
       "      <th>implicit</th>\n",
       "      <td>False</td>\n",
       "      <td>False</td>\n",
       "      <td>True</td>\n",
       "      <td>False</td>\n",
       "      <td>False</td>\n",
       "    </tr>\n",
       "    <tr>\n",
       "      <th>device_brand</th>\n",
       "      <td>unknown</td>\n",
       "      <td>unknown</td>\n",
       "      <td>3.083058605577787e+17</td>\n",
       "      <td>unknown</td>\n",
       "      <td>unknown</td>\n",
       "    </tr>\n",
       "    <tr>\n",
       "      <th>device_model</th>\n",
       "      <td>unknown</td>\n",
       "      <td>unknown</td>\n",
       "      <td>5.274185305862703e+18</td>\n",
       "      <td>6.794880020077885e+18</td>\n",
       "      <td>6.794880020077885e+18</td>\n",
       "    </tr>\n",
       "    <tr>\n",
       "      <th>session_user_agent</th>\n",
       "      <td>Apsalar-Postback</td>\n",
       "      <td>Apsalar-Postback</td>\n",
       "      <td>http-kit/2.0</td>\n",
       "      <td>http-kit/2.0</td>\n",
       "      <td>http-kit/2.0</td>\n",
       "    </tr>\n",
       "    <tr>\n",
       "      <th>user_agent</th>\n",
       "      <td>unknown</td>\n",
       "      <td>unknown</td>\n",
       "      <td>Dalvik/2.1.0 (Linux; U; Android 9; SM-G9650 Bu...</td>\n",
       "      <td>trivago/216 CFNetwork/978.0.7 Darwin/18.5.0</td>\n",
       "      <td>TikTok/109005 CFNetwork/758.5.3 Darwin/15.6.0</td>\n",
       "    </tr>\n",
       "    <tr>\n",
       "      <th>event_uuid</th>\n",
       "      <td>NaN</td>\n",
       "      <td>NaN</td>\n",
       "      <td>8c8af5e3-96e7-4a49-9f17-cafa7f300f2c</td>\n",
       "      <td>NaN</td>\n",
       "      <td>NaN</td>\n",
       "    </tr>\n",
       "    <tr>\n",
       "      <th>kind</th>\n",
       "      <td>unknown</td>\n",
       "      <td>unknown</td>\n",
       "      <td>af_app_opened</td>\n",
       "      <td>unknown</td>\n",
       "      <td>unknown</td>\n",
       "    </tr>\n",
       "    <tr>\n",
       "      <th>wifi</th>\n",
       "      <td>unknown</td>\n",
       "      <td>unknown</td>\n",
       "      <td>false</td>\n",
       "      <td>true</td>\n",
       "      <td>true</td>\n",
       "    </tr>\n",
       "    <tr>\n",
       "      <th>trans_id</th>\n",
       "      <td>NaN</td>\n",
       "      <td>NaN</td>\n",
       "      <td>NaN</td>\n",
       "      <td>NaN</td>\n",
       "      <td>NaN</td>\n",
       "    </tr>\n",
       "    <tr>\n",
       "      <th>device_language</th>\n",
       "      <td>unknown</td>\n",
       "      <td>unknown</td>\n",
       "      <td>6.977049253562486e+18</td>\n",
       "      <td>5.221862722669226e+18</td>\n",
       "      <td>7.528973756559112e+18</td>\n",
       "    </tr>\n",
       "    <tr>\n",
       "      <th>n</th>\n",
       "      <td>1</td>\n",
       "      <td>1</td>\n",
       "      <td>1</td>\n",
       "      <td>1</td>\n",
       "      <td>1</td>\n",
       "    </tr>\n",
       "    <tr>\n",
       "      <th>begin_date</th>\n",
       "      <td>2019-04-18 00:00:00</td>\n",
       "      <td>2019-04-18 00:00:00</td>\n",
       "      <td>2019-04-18 00:00:00</td>\n",
       "      <td>2019-04-18 00:00:00</td>\n",
       "      <td>2019-04-18 00:00:00</td>\n",
       "    </tr>\n",
       "    <tr>\n",
       "      <th>window_nr</th>\n",
       "      <td>1</td>\n",
       "      <td>1</td>\n",
       "      <td>1</td>\n",
       "      <td>1</td>\n",
       "      <td>1</td>\n",
       "    </tr>\n",
       "  </tbody>\n",
       "</table>\n",
       "</div>"
      ],
      "text/plain": [
       "                                             0                           1  \\\n",
       "created             2019-04-18 00:00:01.560000  2019-04-18 00:00:01.851000   \n",
       "application_id                              70                          70   \n",
       "ref_hash                   4432995619177048534         5904733559638204455   \n",
       "attributed                               False                       False   \n",
       "implicit                                 False                       False   \n",
       "device_brand                           unknown                     unknown   \n",
       "device_model                           unknown                     unknown   \n",
       "session_user_agent            Apsalar-Postback            Apsalar-Postback   \n",
       "user_agent                             unknown                     unknown   \n",
       "event_uuid                                 NaN                         NaN   \n",
       "kind                                   unknown                     unknown   \n",
       "wifi                                   unknown                     unknown   \n",
       "trans_id                                   NaN                         NaN   \n",
       "device_language                        unknown                     unknown   \n",
       "n                                            1                           1   \n",
       "begin_date                 2019-04-18 00:00:00         2019-04-18 00:00:00   \n",
       "window_nr                                    1                           1   \n",
       "\n",
       "                                                                    2  \\\n",
       "created                                    2019-04-18 00:00:05.152000   \n",
       "application_id                                                     65   \n",
       "ref_hash                                           896373747754111825   \n",
       "attributed                                                      False   \n",
       "implicit                                                         True   \n",
       "device_brand                                    3.083058605577787e+17   \n",
       "device_model                                    5.274185305862703e+18   \n",
       "session_user_agent                                       http-kit/2.0   \n",
       "user_agent          Dalvik/2.1.0 (Linux; U; Android 9; SM-G9650 Bu...   \n",
       "event_uuid                       8c8af5e3-96e7-4a49-9f17-cafa7f300f2c   \n",
       "kind                                                    af_app_opened   \n",
       "wifi                                                            false   \n",
       "trans_id                                                          NaN   \n",
       "device_language                                 6.977049253562486e+18   \n",
       "n                                                                   1   \n",
       "begin_date                                        2019-04-18 00:00:00   \n",
       "window_nr                                                           1   \n",
       "\n",
       "                                                              3  \\\n",
       "created                              2019-04-18 00:00:05.589000   \n",
       "application_id                                               27   \n",
       "ref_hash                                    3399210824535017892   \n",
       "attributed                                                False   \n",
       "implicit                                                  False   \n",
       "device_brand                                            unknown   \n",
       "device_model                              6.794880020077885e+18   \n",
       "session_user_agent                                 http-kit/2.0   \n",
       "user_agent          trivago/216 CFNetwork/978.0.7 Darwin/18.5.0   \n",
       "event_uuid                                                  NaN   \n",
       "kind                                                    unknown   \n",
       "wifi                                                       true   \n",
       "trans_id                                                    NaN   \n",
       "device_language                           5.221862722669226e+18   \n",
       "n                                                             1   \n",
       "begin_date                                  2019-04-18 00:00:00   \n",
       "window_nr                                                     1   \n",
       "\n",
       "                                                                4  \n",
       "created                                2019-04-18 00:00:06.795000  \n",
       "application_id                                                339  \n",
       "ref_hash                                      1541425881979513687  \n",
       "attributed                                                  False  \n",
       "implicit                                                    False  \n",
       "device_brand                                              unknown  \n",
       "device_model                                6.794880020077885e+18  \n",
       "session_user_agent                                   http-kit/2.0  \n",
       "user_agent          TikTok/109005 CFNetwork/758.5.3 Darwin/15.6.0  \n",
       "event_uuid                                                    NaN  \n",
       "kind                                                      unknown  \n",
       "wifi                                                         true  \n",
       "trans_id                                                      NaN  \n",
       "device_language                             7.528973756559112e+18  \n",
       "n                                                               1  \n",
       "begin_date                                    2019-04-18 00:00:00  \n",
       "window_nr                                                       1  "
      ]
     },
     "execution_count": 10,
     "metadata": {},
     "output_type": "execute_result"
    }
   ],
   "source": [
    "installs.head().transpose()"
   ]
  },
  {
   "cell_type": "markdown",
   "metadata": {},
   "source": [
    "---\n",
    "## 3. Armado de Labels"
   ]
  },
  {
   "cell_type": "code",
   "execution_count": 11,
   "metadata": {},
   "outputs": [],
   "source": [
    "group = ['ref_hash','window_nr']\n",
    "max_dates = pd.DataFrame({'w_max_date': [dt.datetime(2019,4,21),dt.datetime(2019,4,24),dt.datetime(2019,4,27)], 'window_nr' : [1,2,3]})"
   ]
  },
  {
   "cell_type": "code",
   "execution_count": 12,
   "metadata": {},
   "outputs": [],
   "source": [
    "sample = auctions.tail(100)"
   ]
  },
  {
   "cell_type": "code",
   "execution_count": 13,
   "metadata": {},
   "outputs": [
    {
     "data": {
      "text/html": [
       "<div>\n",
       "<style scoped>\n",
       "    .dataframe tbody tr th:only-of-type {\n",
       "        vertical-align: middle;\n",
       "    }\n",
       "\n",
       "    .dataframe tbody tr th {\n",
       "        vertical-align: top;\n",
       "    }\n",
       "\n",
       "    .dataframe thead th {\n",
       "        text-align: right;\n",
       "    }\n",
       "</style>\n",
       "<table border=\"1\" class=\"dataframe\">\n",
       "  <thead>\n",
       "    <tr style=\"text-align: right;\">\n",
       "      <th></th>\n",
       "      <th>created</th>\n",
       "      <th>ref_hash</th>\n",
       "      <th>source_id</th>\n",
       "      <th>n</th>\n",
       "      <th>begin_date</th>\n",
       "      <th>window_nr</th>\n",
       "    </tr>\n",
       "  </thead>\n",
       "  <tbody>\n",
       "    <tr>\n",
       "      <th>46587817</th>\n",
       "      <td>2019-04-26 23:59:58.341529</td>\n",
       "      <td>4398508384670976399</td>\n",
       "      <td>0</td>\n",
       "      <td>1</td>\n",
       "      <td>2019-04-24</td>\n",
       "      <td>3</td>\n",
       "    </tr>\n",
       "    <tr>\n",
       "      <th>46587818</th>\n",
       "      <td>2019-04-26 23:59:58.351963</td>\n",
       "      <td>2883468145566915144</td>\n",
       "      <td>0</td>\n",
       "      <td>1</td>\n",
       "      <td>2019-04-24</td>\n",
       "      <td>3</td>\n",
       "    </tr>\n",
       "    <tr>\n",
       "      <th>46587819</th>\n",
       "      <td>2019-04-26 23:59:58.421174</td>\n",
       "      <td>6249640533610682060</td>\n",
       "      <td>0</td>\n",
       "      <td>1</td>\n",
       "      <td>2019-04-24</td>\n",
       "      <td>3</td>\n",
       "    </tr>\n",
       "    <tr>\n",
       "      <th>46587820</th>\n",
       "      <td>2019-04-26 23:59:58.438705</td>\n",
       "      <td>6731471049110499914</td>\n",
       "      <td>0</td>\n",
       "      <td>1</td>\n",
       "      <td>2019-04-24</td>\n",
       "      <td>3</td>\n",
       "    </tr>\n",
       "    <tr>\n",
       "      <th>46587821</th>\n",
       "      <td>2019-04-26 23:59:58.445829</td>\n",
       "      <td>3724654214762970380</td>\n",
       "      <td>1</td>\n",
       "      <td>1</td>\n",
       "      <td>2019-04-24</td>\n",
       "      <td>3</td>\n",
       "    </tr>\n",
       "  </tbody>\n",
       "</table>\n",
       "</div>"
      ],
      "text/plain": [
       "                            created             ref_hash  source_id  n  \\\n",
       "46587817 2019-04-26 23:59:58.341529  4398508384670976399          0  1   \n",
       "46587818 2019-04-26 23:59:58.351963  2883468145566915144          0  1   \n",
       "46587819 2019-04-26 23:59:58.421174  6249640533610682060          0  1   \n",
       "46587820 2019-04-26 23:59:58.438705  6731471049110499914          0  1   \n",
       "46587821 2019-04-26 23:59:58.445829  3724654214762970380          1  1   \n",
       "\n",
       "         begin_date  window_nr  \n",
       "46587817 2019-04-24          3  \n",
       "46587818 2019-04-24          3  \n",
       "46587819 2019-04-24          3  \n",
       "46587820 2019-04-24          3  \n",
       "46587821 2019-04-24          3  "
      ]
     },
     "execution_count": 13,
     "metadata": {},
     "output_type": "execute_result"
    }
   ],
   "source": [
    "sample.head()"
   ]
  },
  {
   "cell_type": "code",
   "execution_count": 14,
   "metadata": {},
   "outputs": [],
   "source": [
    "temp = unique_hashes\n",
    "temp['window_nr'] = 1\n",
    "devices = temp.copy()\n",
    "#temp['window_nr'] = 2\n",
    "#devices = devices.append(temp)"
   ]
  },
  {
   "cell_type": "code",
   "execution_count": 15,
   "metadata": {},
   "outputs": [
    {
     "data": {
      "text/plain": [
       "1    662110\n",
       "Name: window_nr, dtype: int64"
      ]
     },
     "execution_count": 15,
     "metadata": {},
     "output_type": "execute_result"
    }
   ],
   "source": [
    "devices['window_nr'].value_counts()"
   ]
  },
  {
   "cell_type": "code",
   "execution_count": 16,
   "metadata": {},
   "outputs": [
    {
     "name": "stdout",
     "output_type": "stream",
     "text": [
      "CPU times: user 1min 15s, sys: 11.7 s, total: 1min 27s\n",
      "Wall time: 1min 27s\n"
     ]
    }
   ],
   "source": [
    "%%time\n",
    "auctions.sort_values(by=group+['created'], inplace=True)"
   ]
  },
  {
   "cell_type": "code",
   "execution_count": 17,
   "metadata": {},
   "outputs": [
    {
     "name": "stdout",
     "output_type": "stream",
     "text": [
      "CPU times: user 545 ms, sys: 231 µs, total: 546 ms\n",
      "Wall time: 544 ms\n"
     ]
    }
   ],
   "source": [
    "%%time\n",
    "installs.sort_values(by=group+['created'], inplace=True)"
   ]
  },
  {
   "cell_type": "markdown",
   "metadata": {},
   "source": [
    "### 3.1 Label Tiempo hasta reaparicion (St)"
   ]
  },
  {
   "cell_type": "code",
   "execution_count": 18,
   "metadata": {},
   "outputs": [],
   "source": [
    "max_secs = 3*24*60*60\n",
    "temp = auctions.loc[auctions['window_nr'] != 1]\\\n",
    "               .groupby(group,sort=False)\\\n",
    "               .head(1)\\\n",
    "               .copy()\n",
    "temp['window_nr'] = temp['window_nr'] - 1\n",
    "temp = temp.set_index(group)\n",
    "st = (temp['created'] - temp['begin_date']).transform(lambda x: round(x.total_seconds()))\\\n",
    "                                           .rename('target_st')\n",
    "\n",
    "target_st = devices.set_index(group)\\\n",
    "                   .merge(st, how='left', left_index=True, right_index=True)\\\n",
    "                   .fillna(max_secs)"
   ]
  },
  {
   "cell_type": "code",
   "execution_count": 19,
   "metadata": {},
   "outputs": [
    {
     "data": {
      "text/html": [
       "<div>\n",
       "<style scoped>\n",
       "    .dataframe tbody tr th:only-of-type {\n",
       "        vertical-align: middle;\n",
       "    }\n",
       "\n",
       "    .dataframe tbody tr th {\n",
       "        vertical-align: top;\n",
       "    }\n",
       "\n",
       "    .dataframe thead th {\n",
       "        text-align: right;\n",
       "    }\n",
       "</style>\n",
       "<table border=\"1\" class=\"dataframe\">\n",
       "  <thead>\n",
       "    <tr style=\"text-align: right;\">\n",
       "      <th></th>\n",
       "      <th></th>\n",
       "      <th>target_st</th>\n",
       "    </tr>\n",
       "    <tr>\n",
       "      <th>ref_hash</th>\n",
       "      <th>window_nr</th>\n",
       "      <th></th>\n",
       "    </tr>\n",
       "  </thead>\n",
       "  <tbody>\n",
       "    <tr>\n",
       "      <th>2564673204772915246</th>\n",
       "      <th>1</th>\n",
       "      <td>63743.0</td>\n",
       "    </tr>\n",
       "    <tr>\n",
       "      <th>4441121667607578179</th>\n",
       "      <th>1</th>\n",
       "      <td>74414.0</td>\n",
       "    </tr>\n",
       "    <tr>\n",
       "      <th>7721769811471055264</th>\n",
       "      <th>1</th>\n",
       "      <td>565.0</td>\n",
       "    </tr>\n",
       "    <tr>\n",
       "      <th>6416039086842158968</th>\n",
       "      <th>1</th>\n",
       "      <td>13864.0</td>\n",
       "    </tr>\n",
       "    <tr>\n",
       "      <th>1258642015983312729</th>\n",
       "      <th>1</th>\n",
       "      <td>148073.0</td>\n",
       "    </tr>\n",
       "  </tbody>\n",
       "</table>\n",
       "</div>"
      ],
      "text/plain": [
       "                               target_st\n",
       "ref_hash            window_nr           \n",
       "2564673204772915246 1            63743.0\n",
       "4441121667607578179 1            74414.0\n",
       "7721769811471055264 1              565.0\n",
       "6416039086842158968 1            13864.0\n",
       "1258642015983312729 1           148073.0"
      ]
     },
     "execution_count": 19,
     "metadata": {},
     "output_type": "execute_result"
    }
   ],
   "source": [
    "target_st.head()"
   ]
  },
  {
   "cell_type": "markdown",
   "metadata": {},
   "source": [
    "### 3.1 Label Tiempo hasta install (Sc)"
   ]
  },
  {
   "cell_type": "code",
   "execution_count": 20,
   "metadata": {},
   "outputs": [],
   "source": [
    "temp = installs.loc[installs['window_nr'] != 1]\\\n",
    "               .groupby(group,sort=False)\\\n",
    "               .head(1)\\\n",
    "               .copy()\n",
    "temp['window_nr'] = temp['window_nr'] - 1\n",
    "temp = temp.set_index(group)\n",
    "sc = (temp['created'] - temp['begin_date']).transform(lambda x: round(x.total_seconds()))\\\n",
    "                                           .rename('target_sc')\n",
    "\n",
    "target_sc = devices.set_index(group)\\\n",
    "                   .merge(sc, how='left',left_index=True, right_index=True)\\\n",
    "                   .fillna(max_secs)"
   ]
  },
  {
   "cell_type": "code",
   "execution_count": 21,
   "metadata": {},
   "outputs": [
    {
     "data": {
      "text/plain": [
       "target_sc    662110\n",
       "dtype: int64"
      ]
     },
     "execution_count": 21,
     "metadata": {},
     "output_type": "execute_result"
    }
   ],
   "source": [
    "target_sc.count()"
   ]
  },
  {
   "cell_type": "markdown",
   "metadata": {},
   "source": [
    "### 3.3. Merge y guardo a file"
   ]
  },
  {
   "cell_type": "code",
   "execution_count": 22,
   "metadata": {},
   "outputs": [],
   "source": [
    "targets = target_st.merge(target_sc, how='left',left_index=True, right_index=True)"
   ]
  },
  {
   "cell_type": "code",
   "execution_count": 23,
   "metadata": {},
   "outputs": [],
   "source": [
    "targets.to_csv(\"targets.csv\", header=True,index=True)"
   ]
  }
 ],
 "metadata": {
  "kernelspec": {
   "display_name": "Python 3",
   "language": "python",
   "name": "python3"
  },
  "language_info": {
   "codemirror_mode": {
    "name": "ipython",
    "version": 3
   },
   "file_extension": ".py",
   "mimetype": "text/x-python",
   "name": "python",
   "nbconvert_exporter": "python",
   "pygments_lexer": "ipython3",
   "version": "3.6.7"
  }
 },
 "nbformat": 4,
 "nbformat_minor": 2
}
