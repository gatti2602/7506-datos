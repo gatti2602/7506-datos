{
 "cells": [
  {
   "cell_type": "code",
   "execution_count": 1,
   "metadata": {},
   "outputs": [],
   "source": [
    "import pandas as pd\n",
    "import matplotlib as mp\n",
    "\n",
    "%matplotlib inline"
   ]
  },
  {
   "cell_type": "code",
   "execution_count": 2,
   "metadata": {},
   "outputs": [],
   "source": [
    "auctions = pd.read_csv('../data/auctions.csv.gzip',compression='gzip',\\\n",
    "                        usecols=['date','device_id','platform','ref_type_id','source_id'],\\\n",
    "                        dtype={'device_id':'int64','platform':'category','ref_type_id':'category','source_id':'category'},\\\n",
    "                        parse_dates=['date'])"
   ]
  },
  {
   "cell_type": "markdown",
   "metadata": {},
   "source": [
    "## Cada 3 dias, cuantas veces aparece un mismo id en promedio?"
   ]
  },
  {
   "cell_type": "code",
   "execution_count": 3,
   "metadata": {},
   "outputs": [
    {
     "data": {
      "text/html": [
       "<div>\n",
       "<style scoped>\n",
       "    .dataframe tbody tr th:only-of-type {\n",
       "        vertical-align: middle;\n",
       "    }\n",
       "\n",
       "    .dataframe tbody tr th {\n",
       "        vertical-align: top;\n",
       "    }\n",
       "\n",
       "    .dataframe thead th {\n",
       "        text-align: right;\n",
       "    }\n",
       "</style>\n",
       "<table border=\"1\" class=\"dataframe\">\n",
       "  <thead>\n",
       "    <tr style=\"text-align: right;\">\n",
       "      <th></th>\n",
       "      <th>date</th>\n",
       "      <th>device_id</th>\n",
       "      <th>platform</th>\n",
       "      <th>ref_type_id</th>\n",
       "      <th>source_id</th>\n",
       "    </tr>\n",
       "  </thead>\n",
       "  <tbody>\n",
       "    <tr>\n",
       "      <th>0</th>\n",
       "      <td>2019-03-11 14:18:33.290763</td>\n",
       "      <td>6059599345986491085</td>\n",
       "      <td>1</td>\n",
       "      <td>1</td>\n",
       "      <td>0</td>\n",
       "    </tr>\n",
       "    <tr>\n",
       "      <th>1</th>\n",
       "      <td>2019-03-11 14:18:34.440157</td>\n",
       "      <td>1115994996230693426</td>\n",
       "      <td>1</td>\n",
       "      <td>1</td>\n",
       "      <td>0</td>\n",
       "    </tr>\n",
       "    <tr>\n",
       "      <th>2</th>\n",
       "      <td>2019-03-11 14:18:35.862360</td>\n",
       "      <td>7463856250762200923</td>\n",
       "      <td>1</td>\n",
       "      <td>1</td>\n",
       "      <td>0</td>\n",
       "    </tr>\n",
       "    <tr>\n",
       "      <th>3</th>\n",
       "      <td>2019-03-11 14:18:36.167163</td>\n",
       "      <td>7829815350267792040</td>\n",
       "      <td>1</td>\n",
       "      <td>1</td>\n",
       "      <td>0</td>\n",
       "    </tr>\n",
       "    <tr>\n",
       "      <th>4</th>\n",
       "      <td>2019-03-11 14:18:37.728590</td>\n",
       "      <td>1448534231953777480</td>\n",
       "      <td>1</td>\n",
       "      <td>1</td>\n",
       "      <td>0</td>\n",
       "    </tr>\n",
       "  </tbody>\n",
       "</table>\n",
       "</div>"
      ],
      "text/plain": [
       "                        date            device_id platform ref_type_id  \\\n",
       "0 2019-03-11 14:18:33.290763  6059599345986491085        1           1   \n",
       "1 2019-03-11 14:18:34.440157  1115994996230693426        1           1   \n",
       "2 2019-03-11 14:18:35.862360  7463856250762200923        1           1   \n",
       "3 2019-03-11 14:18:36.167163  7829815350267792040        1           1   \n",
       "4 2019-03-11 14:18:37.728590  1448534231953777480        1           1   \n",
       "\n",
       "  source_id  \n",
       "0         0  \n",
       "1         0  \n",
       "2         0  \n",
       "3         0  \n",
       "4         0  "
      ]
     },
     "execution_count": 3,
     "metadata": {},
     "output_type": "execute_result"
    }
   ],
   "source": [
    "auctions.head()"
   ]
  },
  {
   "cell_type": "markdown",
   "metadata": {},
   "source": [
    "Primero se busca cuanto es el promedio de veces que aparece un usuario en las subastas. \n",
    "\n",
    "Se usan grupos de 3 dias para segmentar los datos ya que es la ventana que toma Jaamp.\n"
   ]
  },
  {
   "cell_type": "code",
   "execution_count": 4,
   "metadata": {},
   "outputs": [],
   "source": [
    "#Divido el intervalo en segmentos de 3 dias consecutivos que analizo por separado\n",
    "auctions['date_frame'] = (auctions['date'].dt.day - auctions['date'].dt.day.min()) % 3\n",
    "grp = ['device_id', 'date_frame']\n",
    "#Ordeno por grp y fecha\n",
    "auctions.sort_values(by=['device_id', 'date_frame', 'date'], inplace=True)"
   ]
  },
  {
   "cell_type": "code",
   "execution_count": 5,
   "metadata": {},
   "outputs": [
    {
     "name": "stdout",
     "output_type": "stream",
     "text": [
      "Prom. de apariciones de usuarios en 3 dias:  43.157112615493176\n",
      "Min. de apariciones de usuarios en 3 dias:  1\n",
      "Max. de apariciones de usuarios en 3 dias:  11910\n",
      "Med. de apariciones de usuarios en 3 dias:  9.0\n",
      "Total de Registros:  453490\n"
     ]
    },
    {
     "data": {
      "text/plain": [
       "Text(0,0.5,'Cant. Usuarios')"
      ]
     },
     "execution_count": 5,
     "metadata": {},
     "output_type": "execute_result"
    },
    {
     "data": {
      "image/png": "[encoded data removed]",
      "text/plain": [
       "<Figure size 432x288 with 1 Axes>"
      ]
     },
     "metadata": {
      "needs_background": "light"
     },
     "output_type": "display_data"
    }
   ],
   "source": [
    "app_dev_id = auctions.groupby(grp, sort=False)['date'].count()\n",
    "print('Prom. de apariciones de usuarios en 3 dias: ', app_dev_id.mean())\n",
    "print('Min. de apariciones de usuarios en 3 dias: ', app_dev_id.min())\n",
    "print('Max. de apariciones de usuarios en 3 dias: ', app_dev_id.max())\n",
    "print('Med. de apariciones de usuarios en 3 dias: ', app_dev_id.median())\n",
    "print('Total de Registros: ', app_dev_id.count())\n",
    "\n",
    "plot = app_dev_id.hist(bins=50)\n",
    "plot.set_title(\"Usuarios por Cant. de apariciones \")\n",
    "plot.set_xlabel(\"Cant. de Apariciones\")\n",
    "plot.set_ylabel(\"Cant. Usuarios\")"
   ]
  },
  {
   "cell_type": "markdown",
   "metadata": {},
   "source": [
    "Elimino los que aparecen una sola vez (no se puede estimar tiempo de arribo) y los que aparecen mas de 100 veces (No tiene sentido, estan muy por arriba de la mediana)"
   ]
  },
  {
   "cell_type": "code",
   "execution_count": 6,
   "metadata": {},
   "outputs": [
    {
     "name": "stdout",
     "output_type": "stream",
     "text": [
      "Prom. de apariciones de usuarios en 3 dias:  34.220609885201974\n",
      "Min. de apariciones de usuarios en 3 dias:  6\n",
      "Max. de apariciones de usuarios en 3 dias:  149\n",
      "Med. de apariciones de usuarios en 3 dias:  21.0\n",
      "Total de Registros:  241816\n"
     ]
    },
    {
     "data": {
      "text/plain": [
       "Text(0,0.5,'Cant. Usuarios')"
      ]
     },
     "execution_count": 6,
     "metadata": {},
     "output_type": "execute_result"
    },
    {
     "data": {
      "image/png": "[encoded data removed]",
      "text/plain": [
       "<Figure size 432x288 with 1 Axes>"
      ]
     },
     "metadata": {
      "needs_background": "light"
     },
     "output_type": "display_data"
    }
   ],
   "source": [
    "min_value = 5\n",
    "max_value = 150\n",
    "\n",
    "#Entre 1 y 1000 quedan 381582 registros \n",
    "#Entre 1 y 300 quedan 371666 registros\n",
    "#Entre 5 y 200 quedan 250549 registros\n",
    "\n",
    "auctions = auctions.groupby(grp, sort=False).filter(lambda data: (min_value < len(data) < max_value))\n",
    "                                                                                                                  \n",
    "app_dev_id = auctions.groupby(grp, sort=False)['date'].count()\n",
    "print('Prom. de apariciones de usuarios en 3 dias: ', app_dev_id.mean())\n",
    "print('Min. de apariciones de usuarios en 3 dias: ', app_dev_id.min())\n",
    "print('Max. de apariciones de usuarios en 3 dias: ', app_dev_id.max())\n",
    "print('Med. de apariciones de usuarios en 3 dias: ', app_dev_id.median())\n",
    "print('Total de Registros: ', app_dev_id.count())\n",
    "\n",
    "plot = app_dev_id.hist(bins=100)\n",
    "plot.set_title(\"Usuarios por Cant. de apariciones \")\n",
    "plot.set_xlabel(\"Cant. de Apariciones\")\n",
    "plot.set_ylabel(\"Cant. Usuarios\")"
   ]
  },
  {
   "cell_type": "markdown",
   "metadata": {},
   "source": [
    "## Cada 3 dias, cuanto es el tiempo promedio entre apariciones de un dispositivo? "
   ]
  },
  {
   "cell_type": "code",
   "execution_count": 7,
   "metadata": {},
   "outputs": [],
   "source": [
    "auctions['next_date'] = auctions.groupby(grp, as_index = False, sort=False)['date']\\\n",
    "                                              .transform(lambda x: x.shift(-1))\n",
    "auctions = auctions.loc[(~auctions['next_date'].isnull())]\n",
    "auctions['secs_to_next'] = (auctions['next_date'] - auctions['date'])\\\n",
    "                                        .transform(lambda x: round(x.total_seconds(), 2))"
   ]
  },
  {
   "cell_type": "code",
   "execution_count": 8,
   "metadata": {},
   "outputs": [
    {
     "data": {
      "text/html": [
       "<div>\n",
       "<style scoped>\n",
       "    .dataframe tbody tr th:only-of-type {\n",
       "        vertical-align: middle;\n",
       "    }\n",
       "\n",
       "    .dataframe tbody tr th {\n",
       "        vertical-align: top;\n",
       "    }\n",
       "\n",
       "    .dataframe thead th {\n",
       "        text-align: right;\n",
       "    }\n",
       "</style>\n",
       "<table border=\"1\" class=\"dataframe\">\n",
       "  <thead>\n",
       "    <tr style=\"text-align: right;\">\n",
       "      <th></th>\n",
       "      <th>date</th>\n",
       "      <th>device_id</th>\n",
       "      <th>platform</th>\n",
       "      <th>ref_type_id</th>\n",
       "      <th>source_id</th>\n",
       "      <th>date_frame</th>\n",
       "      <th>next_date</th>\n",
       "      <th>secs_to_next</th>\n",
       "    </tr>\n",
       "  </thead>\n",
       "  <tbody>\n",
       "    <tr>\n",
       "      <th>16055271</th>\n",
       "      <td>2019-03-08 11:20:19.361762</td>\n",
       "      <td>113858820194433</td>\n",
       "      <td>1</td>\n",
       "      <td>1</td>\n",
       "      <td>0</td>\n",
       "      <td>0</td>\n",
       "      <td>2019-03-08 11:20:19.411501</td>\n",
       "      <td>0.05</td>\n",
       "    </tr>\n",
       "    <tr>\n",
       "      <th>7910618</th>\n",
       "      <td>2019-03-08 11:20:19.411501</td>\n",
       "      <td>113858820194433</td>\n",
       "      <td>1</td>\n",
       "      <td>1</td>\n",
       "      <td>0</td>\n",
       "      <td>0</td>\n",
       "      <td>2019-03-08 13:41:53.701108</td>\n",
       "      <td>8494.29</td>\n",
       "    </tr>\n",
       "    <tr>\n",
       "      <th>10114916</th>\n",
       "      <td>2019-03-08 13:41:53.701108</td>\n",
       "      <td>113858820194433</td>\n",
       "      <td>1</td>\n",
       "      <td>1</td>\n",
       "      <td>0</td>\n",
       "      <td>0</td>\n",
       "      <td>2019-03-11 00:47:34.259903</td>\n",
       "      <td>212740.56</td>\n",
       "    </tr>\n",
       "    <tr>\n",
       "      <th>10198607</th>\n",
       "      <td>2019-03-11 00:47:34.259903</td>\n",
       "      <td>113858820194433</td>\n",
       "      <td>1</td>\n",
       "      <td>1</td>\n",
       "      <td>0</td>\n",
       "      <td>0</td>\n",
       "      <td>2019-03-11 22:05:35.290441</td>\n",
       "      <td>76681.03</td>\n",
       "    </tr>\n",
       "    <tr>\n",
       "      <th>17311907</th>\n",
       "      <td>2019-03-11 22:05:35.290441</td>\n",
       "      <td>113858820194433</td>\n",
       "      <td>1</td>\n",
       "      <td>1</td>\n",
       "      <td>0</td>\n",
       "      <td>0</td>\n",
       "      <td>2019-03-11 23:43:52.418474</td>\n",
       "      <td>5897.13</td>\n",
       "    </tr>\n",
       "  </tbody>\n",
       "</table>\n",
       "</div>"
      ],
      "text/plain": [
       "                               date        device_id platform ref_type_id  \\\n",
       "16055271 2019-03-08 11:20:19.361762  113858820194433        1           1   \n",
       "7910618  2019-03-08 11:20:19.411501  113858820194433        1           1   \n",
       "10114916 2019-03-08 13:41:53.701108  113858820194433        1           1   \n",
       "10198607 2019-03-11 00:47:34.259903  113858820194433        1           1   \n",
       "17311907 2019-03-11 22:05:35.290441  113858820194433        1           1   \n",
       "\n",
       "         source_id  date_frame                  next_date  secs_to_next  \n",
       "16055271         0           0 2019-03-08 11:20:19.411501          0.05  \n",
       "7910618          0           0 2019-03-08 13:41:53.701108       8494.29  \n",
       "10114916         0           0 2019-03-11 00:47:34.259903     212740.56  \n",
       "10198607         0           0 2019-03-11 22:05:35.290441      76681.03  \n",
       "17311907         0           0 2019-03-11 23:43:52.418474       5897.13  "
      ]
     },
     "execution_count": 8,
     "metadata": {},
     "output_type": "execute_result"
    }
   ],
   "source": [
    "auctions.head()"
   ]
  },
  {
   "cell_type": "code",
   "execution_count": 9,
   "metadata": {},
   "outputs": [
    {
     "data": {
      "text/html": [
       "<div>\n",
       "<style scoped>\n",
       "    .dataframe tbody tr th:only-of-type {\n",
       "        vertical-align: middle;\n",
       "    }\n",
       "\n",
       "    .dataframe tbody tr th {\n",
       "        vertical-align: top;\n",
       "    }\n",
       "\n",
       "    .dataframe thead th {\n",
       "        text-align: right;\n",
       "    }\n",
       "</style>\n",
       "<table border=\"1\" class=\"dataframe\">\n",
       "  <thead>\n",
       "    <tr style=\"text-align: right;\">\n",
       "      <th></th>\n",
       "      <th>count</th>\n",
       "      <th>mean</th>\n",
       "      <th>std</th>\n",
       "      <th>min</th>\n",
       "      <th>25%</th>\n",
       "      <th>50%</th>\n",
       "      <th>75%</th>\n",
       "      <th>max</th>\n",
       "    </tr>\n",
       "    <tr>\n",
       "      <th>date_frame</th>\n",
       "      <th></th>\n",
       "      <th></th>\n",
       "      <th></th>\n",
       "      <th></th>\n",
       "      <th></th>\n",
       "      <th></th>\n",
       "      <th></th>\n",
       "      <th></th>\n",
       "    </tr>\n",
       "  </thead>\n",
       "  <tbody>\n",
       "    <tr>\n",
       "      <th>0</th>\n",
       "      <td>2554385.0</td>\n",
       "      <td>9937.049141</td>\n",
       "      <td>46250.230068</td>\n",
       "      <td>0.0</td>\n",
       "      <td>5.24</td>\n",
       "      <td>44.31</td>\n",
       "      <td>369.8400</td>\n",
       "      <td>600075.98</td>\n",
       "    </tr>\n",
       "    <tr>\n",
       "      <th>1</th>\n",
       "      <td>2556922.0</td>\n",
       "      <td>9912.996440</td>\n",
       "      <td>47577.899684</td>\n",
       "      <td>0.0</td>\n",
       "      <td>4.80</td>\n",
       "      <td>40.84</td>\n",
       "      <td>342.3075</td>\n",
       "      <td>601717.95</td>\n",
       "    </tr>\n",
       "    <tr>\n",
       "      <th>2</th>\n",
       "      <td>2921968.0</td>\n",
       "      <td>10440.330446</td>\n",
       "      <td>47921.304396</td>\n",
       "      <td>0.0</td>\n",
       "      <td>5.18</td>\n",
       "      <td>43.46</td>\n",
       "      <td>409.5425</td>\n",
       "      <td>603942.98</td>\n",
       "    </tr>\n",
       "  </tbody>\n",
       "</table>\n",
       "</div>"
      ],
      "text/plain": [
       "                count          mean           std  min   25%    50%       75%  \\\n",
       "date_frame                                                                      \n",
       "0           2554385.0   9937.049141  46250.230068  0.0  5.24  44.31  369.8400   \n",
       "1           2556922.0   9912.996440  47577.899684  0.0  4.80  40.84  342.3075   \n",
       "2           2921968.0  10440.330446  47921.304396  0.0  5.18  43.46  409.5425   \n",
       "\n",
       "                  max  \n",
       "date_frame             \n",
       "0           600075.98  \n",
       "1           601717.95  \n",
       "2           603942.98  "
      ]
     },
     "execution_count": 9,
     "metadata": {},
     "output_type": "execute_result"
    }
   ],
   "source": [
    "auctions.groupby('date_frame')['secs_to_next'].describe()"
   ]
  },
  {
   "cell_type": "markdown",
   "metadata": {},
   "source": [
    "Se observa que el 3 cuantil se encuentra por abajo de los 150 seg siempre, lo que indica que la mayoria de las veces un dispositivo aparece varias veces en un tiempo muy acotado y luego desaparece por bastante tiempo hasta que aparece de nuevo.\n",
    "\n",
    "Se filtran los que tardaron mas de 120 seg. para que no se vean una cantidad grande de outliers en el boxplot"
   ]
  },
  {
   "cell_type": "code",
   "execution_count": 26,
   "metadata": {},
   "outputs": [],
   "source": [
    "filtered = auctions.loc[auctions['secs_to_next'] < 120]"
   ]
  },
  {
   "cell_type": "code",
   "execution_count": 27,
   "metadata": {},
   "outputs": [
    {
     "data": {
      "text/html": [
       "<div>\n",
       "<style scoped>\n",
       "    .dataframe tbody tr th:only-of-type {\n",
       "        vertical-align: middle;\n",
       "    }\n",
       "\n",
       "    .dataframe tbody tr th {\n",
       "        vertical-align: top;\n",
       "    }\n",
       "\n",
       "    .dataframe thead th {\n",
       "        text-align: right;\n",
       "    }\n",
       "</style>\n",
       "<table border=\"1\" class=\"dataframe\">\n",
       "  <thead>\n",
       "    <tr style=\"text-align: right;\">\n",
       "      <th></th>\n",
       "      <th>count</th>\n",
       "      <th>mean</th>\n",
       "      <th>std</th>\n",
       "      <th>min</th>\n",
       "      <th>25%</th>\n",
       "      <th>50%</th>\n",
       "      <th>75%</th>\n",
       "      <th>max</th>\n",
       "    </tr>\n",
       "    <tr>\n",
       "      <th>date_frame</th>\n",
       "      <th></th>\n",
       "      <th></th>\n",
       "      <th></th>\n",
       "      <th></th>\n",
       "      <th></th>\n",
       "      <th></th>\n",
       "      <th></th>\n",
       "      <th></th>\n",
       "    </tr>\n",
       "  </thead>\n",
       "  <tbody>\n",
       "    <tr>\n",
       "      <th>0</th>\n",
       "      <td>1623535.0</td>\n",
       "      <td>24.469135</td>\n",
       "      <td>29.775313</td>\n",
       "      <td>0.0</td>\n",
       "      <td>2.01</td>\n",
       "      <td>10.44</td>\n",
       "      <td>37.52</td>\n",
       "      <td>119.99</td>\n",
       "    </tr>\n",
       "    <tr>\n",
       "      <th>1</th>\n",
       "      <td>1647732.0</td>\n",
       "      <td>23.922345</td>\n",
       "      <td>29.508342</td>\n",
       "      <td>0.0</td>\n",
       "      <td>1.93</td>\n",
       "      <td>9.90</td>\n",
       "      <td>36.57</td>\n",
       "      <td>119.99</td>\n",
       "    </tr>\n",
       "    <tr>\n",
       "      <th>2</th>\n",
       "      <td>1848910.0</td>\n",
       "      <td>23.905030</td>\n",
       "      <td>29.368525</td>\n",
       "      <td>0.0</td>\n",
       "      <td>1.97</td>\n",
       "      <td>10.13</td>\n",
       "      <td>36.29</td>\n",
       "      <td>119.99</td>\n",
       "    </tr>\n",
       "  </tbody>\n",
       "</table>\n",
       "</div>"
      ],
      "text/plain": [
       "                count       mean        std  min   25%    50%    75%     max\n",
       "date_frame                                                                  \n",
       "0           1623535.0  24.469135  29.775313  0.0  2.01  10.44  37.52  119.99\n",
       "1           1647732.0  23.922345  29.508342  0.0  1.93   9.90  36.57  119.99\n",
       "2           1848910.0  23.905030  29.368525  0.0  1.97  10.13  36.29  119.99"
      ]
     },
     "execution_count": 27,
     "metadata": {},
     "output_type": "execute_result"
    }
   ],
   "source": [
    "filtered.groupby('date_frame')['secs_to_next'].describe()"
   ]
  },
  {
   "cell_type": "code",
   "execution_count": 28,
   "metadata": {},
   "outputs": [],
   "source": [
    "#Quiero estandarizar los datos y ver si la distribucion es similar en los grupos de 3 dias\n",
    "#filtered.groupby('date_frame')['secs_to_next'].transform(lambda x: ((x-x.mean()) / x.std())) "
   ]
  },
  {
   "cell_type": "code",
   "execution_count": 46,
   "metadata": {},
   "outputs": [
    {
     "data": {
      "text/plain": [
       "Text(0,0.5,'Tiempo (Seg.)')"
      ]
     },
     "execution_count": 46,
     "metadata": {},
     "output_type": "execute_result"
    },
    {
     "data": {
      "image/png": "[encoded data removed]",
      "text/plain": [
       "<Figure size 432x288 with 1 Axes>"
      ]
     },
     "metadata": {
      "needs_background": "light"
     },
     "output_type": "display_data"
    }
   ],
   "source": [
    "plot = filtered.boxplot(by='date_frame', column='secs_to_next')\n",
    "plot.set_title(\"Tiempo entre apariciones\")\n",
    "plot.set_xlabel(\"Por ventana de 3 dias\")\n",
    "plot.set_ylabel(\"Tiempo (Seg.)\")"
   ]
  },
  {
   "cell_type": "markdown",
   "metadata": {},
   "source": [
    "Se observa que para los 3 periodos se mantiene la tendencia a que los usuarios aparezcan varias veces en rafagas de periodos muy cortos. Desapareciendo luego por un periodo mas extenso. \n",
    "\n",
    "Es asi que podria decirse que si un usuario aparecio hace poco tiene mas probabilidades de volver a aparecer que un usuario que aparecio hace mas tiempo (Probablemente ya no esta usando la aplicacion)."
   ]
  },
  {
   "cell_type": "code",
   "execution_count": 30,
   "metadata": {},
   "outputs": [
    {
     "data": {
      "text/plain": [
       "array([[<matplotlib.axes._subplots.AxesSubplot object at 0x00000291884BCA20>,\n",
       "        <matplotlib.axes._subplots.AxesSubplot object at 0x000002918AA810F0>],\n",
       "       [<matplotlib.axes._subplots.AxesSubplot object at 0x000002919F37A400>,\n",
       "        <matplotlib.axes._subplots.AxesSubplot object at 0x000002919F3A4710>]],\n",
       "      dtype=object)"
      ]
     },
     "execution_count": 30,
     "metadata": {},
     "output_type": "execute_result"
    },
    {
     "data": {
      "image/png": "[encoded data removed]",
      "text/plain": [
       "<Figure size 432x288 with 4 Axes>"
      ]
     },
     "metadata": {
      "needs_background": "light"
     },
     "output_type": "display_data"
    }
   ],
   "source": [
    "filtered.hist(by='date_frame', bins = 100, column='secs_to_next', density=True)"
   ]
  },
  {
   "cell_type": "markdown",
   "metadata": {},
   "source": [
    "## En que horarios hay mas subastas? Dia Laboral vs Dia no Laboral"
   ]
  },
  {
   "cell_type": "code",
   "execution_count": 36,
   "metadata": {},
   "outputs": [],
   "source": [
    "auctions['hour'] = auctions['date'].dt.hour\n",
    "auctions['is_weekend'] = auctions['date'].dt.weekday >= 5"
   ]
  },
  {
   "cell_type": "code",
   "execution_count": 49,
   "metadata": {},
   "outputs": [
    {
     "data": {
      "text/plain": [
       "Text(0,0.5,'Cant. de encuestas')"
      ]
     },
     "execution_count": 49,
     "metadata": {},
     "output_type": "execute_result"
    },
    {
     "data": {
      "image/png": "[encoded data removed]",
      "text/plain": [
       "<Figure size 432x288 with 1 Axes>"
      ]
     },
     "metadata": {
      "needs_background": "light"
     },
     "output_type": "display_data"
    }
   ],
   "source": [
    "plot = auctions.groupby('is_weekend')['hour'].value_counts().unstack().transpose().plot.bar()\n",
    "plot.set_title('Cantidad de encuestas por hora del día')\n",
    "plot.set_xlabel('Horario del dia')\n",
    "plot.set_ylabel('Cant. de encuestas')"
   ]
  }
 ],
 "metadata": {
  "kernelspec": {
   "display_name": "Python 3",
   "language": "python",
   "name": "python3"
  },
  "language_info": {
   "codemirror_mode": {
    "name": "ipython",
    "version": 3
   },
   "file_extension": ".py",
   "mimetype": "text/x-python",
   "name": "python",
   "nbconvert_exporter": "python",
   "pygments_lexer": "ipython3",
   "version": "3.7.0"
  }
 },
 "nbformat": 4,
 "nbformat_minor": 2
}
