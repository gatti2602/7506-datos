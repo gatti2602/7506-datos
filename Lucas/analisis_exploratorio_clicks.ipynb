{
 "cells": [
  {
   "cell_type": "code",
   "execution_count": 1,
   "metadata": {
    "collapsed": true
   },
   "outputs": [],
   "source": [
    "# magic function para hacer que los graficos de matplotlib se renderizen en el notebook.\n",
    "#%matplotlib notebook\n",
    "%matplotlib inline\n",
    "\n",
    "import datetime as datetime\n",
    "import pandas as pd\n",
    "import numpy as np\n",
    "import matplotlib.pyplot as plt"
   ]
  },
  {
   "cell_type": "markdown",
   "metadata": {},
   "source": [
    "advertiser_id: id de anunciante, cliente de Jampp que paga por el anuncio.<br>\n",
    "action_id: id de acción.<br>\n",
    "source_id: ID interna para la fuente (intercambio) desde la cual se originó el click.<br>\n",
    "created: tiempo en el cual se produjo el click.<br>\n",
    "latitude,longitude: ubicación de donde se produjo el click.<br>\n",
    "carrier_id: Id para el operador de telefonía móvil del dispositivo.<br>\n",
    "trans_id: Id de transacción(valor interno).<br>\n",
    "os_minor: mínima version del OS.<br>\n",
    "os_major: máxima versión del OS.<br>\n",
    "agent_device : Agente para el dispositivo en el que se realizó el clic (modelo).<br>\n",
    "specs_brand: especificaciones del dispositvo<br>\n",
    "brand: marca del dispositivo<br>\n",
    "timeToClick: tiempo de click<br>\n",
    "touchX: posición en x del click<br>\n",
    "touchY: posición en y del click<br>\n",
    "ref_type: id de publicidad de Google ó apple_ifa ???<br>\n",
    "ref_hash: id del ref_type"
   ]
  },
  {
   "cell_type": "code",
   "execution_count": 2,
   "metadata": {},
   "outputs": [],
   "source": [
    "clicks = pd.read_csv('../data2/clicks.csv.gzip',compression='gzip', dtype='object')"
   ]
  },
  {
   "cell_type": "code",
   "execution_count": 3,
   "metadata": {},
   "outputs": [
    {
     "data": {
      "text/html": [
       "<div>\n",
       "<style scoped>\n",
       "    .dataframe tbody tr th:only-of-type {\n",
       "        vertical-align: middle;\n",
       "    }\n",
       "\n",
       "    .dataframe tbody tr th {\n",
       "        vertical-align: top;\n",
       "    }\n",
       "\n",
       "    .dataframe thead th {\n",
       "        text-align: right;\n",
       "    }\n",
       "</style>\n",
       "<table border=\"1\" class=\"dataframe\">\n",
       "  <thead>\n",
       "    <tr style=\"text-align: right;\">\n",
       "      <th></th>\n",
       "      <th>advertiser_id</th>\n",
       "      <th>action_id</th>\n",
       "      <th>source_id</th>\n",
       "      <th>created</th>\n",
       "      <th>country_code</th>\n",
       "      <th>latitude</th>\n",
       "      <th>longitude</th>\n",
       "      <th>wifi_connection</th>\n",
       "      <th>carrier_id</th>\n",
       "      <th>trans_id</th>\n",
       "      <th>os_minor</th>\n",
       "      <th>agent_device</th>\n",
       "      <th>os_major</th>\n",
       "      <th>specs_brand</th>\n",
       "      <th>brand</th>\n",
       "      <th>timeToClick</th>\n",
       "      <th>touchX</th>\n",
       "      <th>touchY</th>\n",
       "      <th>ref_type</th>\n",
       "      <th>ref_hash</th>\n",
       "    </tr>\n",
       "  </thead>\n",
       "  <tbody>\n",
       "    <tr>\n",
       "      <th>0</th>\n",
       "      <td>2</td>\n",
       "      <td>NaN</td>\n",
       "      <td>4</td>\n",
       "      <td>2019-03-06T22:42:12.755Z</td>\n",
       "      <td>6333597102633388268</td>\n",
       "      <td>1.2056887519199482</td>\n",
       "      <td>1.0702342714774236</td>\n",
       "      <td>False</td>\n",
       "      <td>1.0</td>\n",
       "      <td>iGgClCM9exiHF4K31g94XmvHEBSLKIY</td>\n",
       "      <td>6.768137412412545e+18</td>\n",
       "      <td>NaN</td>\n",
       "      <td>3.072849339937028e+18</td>\n",
       "      <td>2733035977666442898</td>\n",
       "      <td>NaN</td>\n",
       "      <td>1.563</td>\n",
       "      <td>0.905</td>\n",
       "      <td>0.078</td>\n",
       "      <td>1891515180541284343</td>\n",
       "      <td>1904083516767779093</td>\n",
       "    </tr>\n",
       "    <tr>\n",
       "      <th>1</th>\n",
       "      <td>0</td>\n",
       "      <td>NaN</td>\n",
       "      <td>0</td>\n",
       "      <td>2019-03-08T10:24:30.641Z</td>\n",
       "      <td>6333597102633388268</td>\n",
       "      <td>1.218923733431926</td>\n",
       "      <td>1.0712090638488148</td>\n",
       "      <td>False</td>\n",
       "      <td>4.0</td>\n",
       "      <td>MMHTOJ6qKAOeIH_Eywh1KIcCaxtO9oM</td>\n",
       "      <td>3.025219449024123e+18</td>\n",
       "      <td>NaN</td>\n",
       "      <td>1.77408510258909e+18</td>\n",
       "      <td>392184377613098015</td>\n",
       "      <td>NaN</td>\n",
       "      <td>NaN</td>\n",
       "      <td>NaN</td>\n",
       "      <td>NaN</td>\n",
       "      <td>1891515180541284343</td>\n",
       "      <td>3086509764961796666</td>\n",
       "    </tr>\n",
       "    <tr>\n",
       "      <th>2</th>\n",
       "      <td>0</td>\n",
       "      <td>NaN</td>\n",
       "      <td>0</td>\n",
       "      <td>2019-03-08T15:24:16.069Z</td>\n",
       "      <td>6333597102633388268</td>\n",
       "      <td>1.2056887519199482</td>\n",
       "      <td>1.0702342714774236</td>\n",
       "      <td>False</td>\n",
       "      <td>6.0</td>\n",
       "      <td>vIrEIdf9izUaWdAri6Ezk7T3nHFvNQU</td>\n",
       "      <td>5.97565607170903e+18</td>\n",
       "      <td>NaN</td>\n",
       "      <td>3.072849339937028e+18</td>\n",
       "      <td>392184377613098015</td>\n",
       "      <td>NaN</td>\n",
       "      <td>NaN</td>\n",
       "      <td>0.946</td>\n",
       "      <td>0.473</td>\n",
       "      <td>1891515180541284343</td>\n",
       "      <td>6958163894863846647</td>\n",
       "    </tr>\n",
       "    <tr>\n",
       "      <th>3</th>\n",
       "      <td>2</td>\n",
       "      <td>NaN</td>\n",
       "      <td>3</td>\n",
       "      <td>2019-03-06T03:08:51.543Z</td>\n",
       "      <td>6333597102633388268</td>\n",
       "      <td>1.2056887519199482</td>\n",
       "      <td>1.0702342714774236</td>\n",
       "      <td>False</td>\n",
       "      <td>45.0</td>\n",
       "      <td>YaKxxEAs2UmZhSpRfiCO9Zpa82B_AKM</td>\n",
       "      <td>6.768137412412545e+18</td>\n",
       "      <td>NaN</td>\n",
       "      <td>3.072849339937028e+18</td>\n",
       "      <td>2733035977666442898</td>\n",
       "      <td>NaN</td>\n",
       "      <td>19.013</td>\n",
       "      <td>0.035</td>\n",
       "      <td>0.431</td>\n",
       "      <td>1891515180541284343</td>\n",
       "      <td>4368617728156436525</td>\n",
       "    </tr>\n",
       "    <tr>\n",
       "      <th>4</th>\n",
       "      <td>2</td>\n",
       "      <td>NaN</td>\n",
       "      <td>3</td>\n",
       "      <td>2019-03-06T03:32:55.570Z</td>\n",
       "      <td>6333597102633388268</td>\n",
       "      <td>1.2056887519199482</td>\n",
       "      <td>1.0702342714774236</td>\n",
       "      <td>False</td>\n",
       "      <td>45.0</td>\n",
       "      <td>X5XTOcYQovkl6yadYdAD7xioVGU9jiY</td>\n",
       "      <td>6.768137412412545e+18</td>\n",
       "      <td>NaN</td>\n",
       "      <td>3.072849339937028e+18</td>\n",
       "      <td>2733035977666442898</td>\n",
       "      <td>NaN</td>\n",
       "      <td>28.11</td>\n",
       "      <td>0.054</td>\n",
       "      <td>0.423</td>\n",
       "      <td>1891515180541284343</td>\n",
       "      <td>4368617728156436525</td>\n",
       "    </tr>\n",
       "  </tbody>\n",
       "</table>\n",
       "</div>"
      ],
      "text/plain": [
       "  advertiser_id action_id source_id                   created  \\\n",
       "0             2       NaN         4  2019-03-06T22:42:12.755Z   \n",
       "1             0       NaN         0  2019-03-08T10:24:30.641Z   \n",
       "2             0       NaN         0  2019-03-08T15:24:16.069Z   \n",
       "3             2       NaN         3  2019-03-06T03:08:51.543Z   \n",
       "4             2       NaN         3  2019-03-06T03:32:55.570Z   \n",
       "\n",
       "          country_code            latitude           longitude  \\\n",
       "0  6333597102633388268  1.2056887519199482  1.0702342714774236   \n",
       "1  6333597102633388268   1.218923733431926  1.0712090638488148   \n",
       "2  6333597102633388268  1.2056887519199482  1.0702342714774236   \n",
       "3  6333597102633388268  1.2056887519199482  1.0702342714774236   \n",
       "4  6333597102633388268  1.2056887519199482  1.0702342714774236   \n",
       "\n",
       "  wifi_connection carrier_id                         trans_id  \\\n",
       "0           False        1.0  iGgClCM9exiHF4K31g94XmvHEBSLKIY   \n",
       "1           False        4.0  MMHTOJ6qKAOeIH_Eywh1KIcCaxtO9oM   \n",
       "2           False        6.0  vIrEIdf9izUaWdAri6Ezk7T3nHFvNQU   \n",
       "3           False       45.0  YaKxxEAs2UmZhSpRfiCO9Zpa82B_AKM   \n",
       "4           False       45.0  X5XTOcYQovkl6yadYdAD7xioVGU9jiY   \n",
       "\n",
       "                os_minor agent_device               os_major  \\\n",
       "0  6.768137412412545e+18          NaN  3.072849339937028e+18   \n",
       "1  3.025219449024123e+18          NaN   1.77408510258909e+18   \n",
       "2   5.97565607170903e+18          NaN  3.072849339937028e+18   \n",
       "3  6.768137412412545e+18          NaN  3.072849339937028e+18   \n",
       "4  6.768137412412545e+18          NaN  3.072849339937028e+18   \n",
       "\n",
       "           specs_brand brand timeToClick touchX touchY             ref_type  \\\n",
       "0  2733035977666442898   NaN       1.563  0.905  0.078  1891515180541284343   \n",
       "1   392184377613098015   NaN         NaN    NaN    NaN  1891515180541284343   \n",
       "2   392184377613098015   NaN         NaN  0.946  0.473  1891515180541284343   \n",
       "3  2733035977666442898   NaN      19.013  0.035  0.431  1891515180541284343   \n",
       "4  2733035977666442898   NaN       28.11  0.054  0.423  1891515180541284343   \n",
       "\n",
       "              ref_hash  \n",
       "0  1904083516767779093  \n",
       "1  3086509764961796666  \n",
       "2  6958163894863846647  \n",
       "3  4368617728156436525  \n",
       "4  4368617728156436525  "
      ]
     },
     "execution_count": 3,
     "metadata": {},
     "output_type": "execute_result"
    }
   ],
   "source": [
    "clicks.head()"
   ]
  },
  {
   "cell_type": "code",
   "execution_count": 4,
   "metadata": {},
   "outputs": [
    {
     "name": "stdout",
     "output_type": "stream",
     "text": [
      "<class 'pandas.core.frame.DataFrame'>\n",
      "RangeIndex: 26351 entries, 0 to 26350\n",
      "Data columns (total 20 columns):\n",
      "advertiser_id      26351 non-null object\n",
      "action_id          0 non-null object\n",
      "source_id          26351 non-null object\n",
      "created            26351 non-null object\n",
      "country_code       26351 non-null object\n",
      "latitude           26351 non-null object\n",
      "longitude          26351 non-null object\n",
      "wifi_connection    26351 non-null object\n",
      "carrier_id         26340 non-null object\n",
      "trans_id           26351 non-null object\n",
      "os_minor           26339 non-null object\n",
      "agent_device       3243 non-null object\n",
      "os_major           26339 non-null object\n",
      "specs_brand        26351 non-null object\n",
      "brand              6235 non-null object\n",
      "timeToClick        22977 non-null object\n",
      "touchX             23011 non-null object\n",
      "touchY             23011 non-null object\n",
      "ref_type           26351 non-null object\n",
      "ref_hash           26351 non-null object\n",
      "dtypes: object(20)\n",
      "memory usage: 4.0+ MB\n"
     ]
    }
   ],
   "source": [
    "clicks.info()"
   ]
  },
  {
   "cell_type": "code",
   "execution_count": 5,
   "metadata": {},
   "outputs": [
    {
     "name": "stdout",
     "output_type": "stream",
     "text": [
      "# Anunciantes: 26351\n"
     ]
    }
   ],
   "source": [
    "print(\"# Anunciantes: \"+str(clicks['advertiser_id'].describe()[0]))"
   ]
  },
  {
   "cell_type": "code",
   "execution_count": 12,
   "metadata": {},
   "outputs": [
    {
     "data": {
      "text/plain": [
       "7"
      ]
     },
     "execution_count": 12,
     "metadata": {},
     "output_type": "execute_result"
    }
   ],
   "source": [
    "anunciantes = clicks.groupby('advertiser_id').count()\n",
    "len(anunciantes.index)\n",
    "#Hay 7 anunciantes"
   ]
  },
  {
   "cell_type": "code",
   "execution_count": 26,
   "metadata": {},
   "outputs": [
    {
     "data": {
      "text/plain": [
       "55"
      ]
     },
     "execution_count": 26,
     "metadata": {},
     "output_type": "execute_result"
    }
   ],
   "source": [
    "carriers = clicks.groupby('carrier_id').count()\n",
    "len(carriers.index)\n",
    "#Hay 55 operadores moviles"
   ]
  },
  {
   "cell_type": "code",
   "execution_count": 24,
   "metadata": {
    "collapsed": true
   },
   "outputs": [],
   "source": [
    "# Existe sólo 1 país\n",
    "clicks.drop(['action_id'],axis='columns',inplace=True)"
   ]
  },
  {
   "cell_type": "markdown",
   "metadata": {},
   "source": [
    "## Alguna info\n",
    "#### * Todas las conexiones son por wifi\n",
    "#### * agent_device tiene muchos valores nulos\n",
    "#### * brand tiene muchos valores nulos"
   ]
  },
  {
   "cell_type": "code",
   "execution_count": 19,
   "metadata": {},
   "outputs": [],
   "source": [
    "clicks.drop(['action_id','country_code','latitude','longitude','trans_id','os_major','os_minor','wifi_connection','brand'],axis='columns',inplace=True)"
   ]
  },
  {
   "cell_type": "code",
   "execution_count": 27,
   "metadata": {},
   "outputs": [
    {
     "data": {
      "text/html": [
       "<div>\n",
       "<style scoped>\n",
       "    .dataframe tbody tr th:only-of-type {\n",
       "        vertical-align: middle;\n",
       "    }\n",
       "\n",
       "    .dataframe tbody tr th {\n",
       "        vertical-align: top;\n",
       "    }\n",
       "\n",
       "    .dataframe thead th {\n",
       "        text-align: right;\n",
       "    }\n",
       "</style>\n",
       "<table border=\"1\" class=\"dataframe\">\n",
       "  <thead>\n",
       "    <tr style=\"text-align: right;\">\n",
       "      <th></th>\n",
       "      <th>advertiser_id</th>\n",
       "      <th>source_id</th>\n",
       "      <th>created</th>\n",
       "      <th>carrier_id</th>\n",
       "      <th>agent_device</th>\n",
       "      <th>specs_brand</th>\n",
       "      <th>timeToClick</th>\n",
       "      <th>touchX</th>\n",
       "      <th>touchY</th>\n",
       "      <th>ref_type</th>\n",
       "      <th>ref_hash</th>\n",
       "    </tr>\n",
       "  </thead>\n",
       "  <tbody>\n",
       "    <tr>\n",
       "      <th>0</th>\n",
       "      <td>2</td>\n",
       "      <td>4</td>\n",
       "      <td>2019-03-06T22:42:12.755Z</td>\n",
       "      <td>1.0</td>\n",
       "      <td>NaN</td>\n",
       "      <td>2733035977666442898</td>\n",
       "      <td>1.563</td>\n",
       "      <td>0.905</td>\n",
       "      <td>0.078</td>\n",
       "      <td>1891515180541284343</td>\n",
       "      <td>1904083516767779093</td>\n",
       "    </tr>\n",
       "    <tr>\n",
       "      <th>1</th>\n",
       "      <td>0</td>\n",
       "      <td>0</td>\n",
       "      <td>2019-03-08T10:24:30.641Z</td>\n",
       "      <td>4.0</td>\n",
       "      <td>NaN</td>\n",
       "      <td>392184377613098015</td>\n",
       "      <td>NaN</td>\n",
       "      <td>NaN</td>\n",
       "      <td>NaN</td>\n",
       "      <td>1891515180541284343</td>\n",
       "      <td>3086509764961796666</td>\n",
       "    </tr>\n",
       "    <tr>\n",
       "      <th>2</th>\n",
       "      <td>0</td>\n",
       "      <td>0</td>\n",
       "      <td>2019-03-08T15:24:16.069Z</td>\n",
       "      <td>6.0</td>\n",
       "      <td>NaN</td>\n",
       "      <td>392184377613098015</td>\n",
       "      <td>NaN</td>\n",
       "      <td>0.946</td>\n",
       "      <td>0.473</td>\n",
       "      <td>1891515180541284343</td>\n",
       "      <td>6958163894863846647</td>\n",
       "    </tr>\n",
       "    <tr>\n",
       "      <th>3</th>\n",
       "      <td>2</td>\n",
       "      <td>3</td>\n",
       "      <td>2019-03-06T03:08:51.543Z</td>\n",
       "      <td>45.0</td>\n",
       "      <td>NaN</td>\n",
       "      <td>2733035977666442898</td>\n",
       "      <td>19.013</td>\n",
       "      <td>0.035</td>\n",
       "      <td>0.431</td>\n",
       "      <td>1891515180541284343</td>\n",
       "      <td>4368617728156436525</td>\n",
       "    </tr>\n",
       "    <tr>\n",
       "      <th>4</th>\n",
       "      <td>2</td>\n",
       "      <td>3</td>\n",
       "      <td>2019-03-06T03:32:55.570Z</td>\n",
       "      <td>45.0</td>\n",
       "      <td>NaN</td>\n",
       "      <td>2733035977666442898</td>\n",
       "      <td>28.11</td>\n",
       "      <td>0.054</td>\n",
       "      <td>0.423</td>\n",
       "      <td>1891515180541284343</td>\n",
       "      <td>4368617728156436525</td>\n",
       "    </tr>\n",
       "  </tbody>\n",
       "</table>\n",
       "</div>"
      ],
      "text/plain": [
       "  advertiser_id source_id                   created carrier_id agent_device  \\\n",
       "0             2         4  2019-03-06T22:42:12.755Z        1.0          NaN   \n",
       "1             0         0  2019-03-08T10:24:30.641Z        4.0          NaN   \n",
       "2             0         0  2019-03-08T15:24:16.069Z        6.0          NaN   \n",
       "3             2         3  2019-03-06T03:08:51.543Z       45.0          NaN   \n",
       "4             2         3  2019-03-06T03:32:55.570Z       45.0          NaN   \n",
       "\n",
       "           specs_brand timeToClick touchX touchY             ref_type  \\\n",
       "0  2733035977666442898       1.563  0.905  0.078  1891515180541284343   \n",
       "1   392184377613098015         NaN    NaN    NaN  1891515180541284343   \n",
       "2   392184377613098015         NaN  0.946  0.473  1891515180541284343   \n",
       "3  2733035977666442898      19.013  0.035  0.431  1891515180541284343   \n",
       "4  2733035977666442898       28.11  0.054  0.423  1891515180541284343   \n",
       "\n",
       "              ref_hash  \n",
       "0  1904083516767779093  \n",
       "1  3086509764961796666  \n",
       "2  6958163894863846647  \n",
       "3  4368617728156436525  \n",
       "4  4368617728156436525  "
      ]
     },
     "execution_count": 27,
     "metadata": {},
     "output_type": "execute_result"
    }
   ],
   "source": [
    "clicks.head()"
   ]
  },
  {
   "cell_type": "code",
   "execution_count": 28,
   "metadata": {},
   "outputs": [
    {
     "name": "stdout",
     "output_type": "stream",
     "text": [
      "touchX nulas: advertiser_id    3340\n",
      "source_id        3340\n",
      "created          3340\n",
      "carrier_id       3329\n",
      "agent_device      601\n",
      "specs_brand      3340\n",
      "timeToClick        16\n",
      "touchX              0\n",
      "touchY              0\n",
      "ref_type         3340\n",
      "ref_hash         3340\n",
      "dtype: int64\n",
      "touchX NO nulas: advertiser_id    23011\n",
      "source_id        23011\n",
      "created          23011\n",
      "carrier_id       23011\n",
      "agent_device      2642\n",
      "specs_brand      23011\n",
      "timeToClick      22961\n",
      "touchX           23011\n",
      "touchY           23011\n",
      "ref_type         23011\n",
      "ref_hash         23011\n",
      "dtype: int64\n"
     ]
    }
   ],
   "source": [
    "print(\"touchX nulas: \"+ str(clicks[clicks['touchX'].isnull()].count()))\n",
    "print(\"touchX NO nulas: \"+ str(clicks[clicks['touchX'].notnull()].count()))"
   ]
  },
  {
   "cell_type": "code",
   "execution_count": 29,
   "metadata": {},
   "outputs": [
    {
     "data": {
      "text/plain": [
       "23011"
      ]
     },
     "execution_count": 29,
     "metadata": {},
     "output_type": "execute_result"
    }
   ],
   "source": [
    "# ???\n",
    "clicks['touchX'].count()"
   ]
  },
  {
   "cell_type": "code",
   "execution_count": 30,
   "metadata": {},
   "outputs": [
    {
     "data": {
      "text/plain": [
       "3340"
      ]
     },
     "execution_count": 30,
     "metadata": {},
     "output_type": "execute_result"
    }
   ],
   "source": [
    "#Valores nulos en X e Y\n",
    "clicks[clicks['touchX'].isnull()]['ref_hash'].count()"
   ]
  },
  {
   "cell_type": "code",
   "execution_count": 31,
   "metadata": {},
   "outputs": [
    {
     "data": {
      "text/plain": [
       "3340"
      ]
     },
     "execution_count": 31,
     "metadata": {},
     "output_type": "execute_result"
    }
   ],
   "source": [
    "clicks[clicks['touchY'].isnull()]['ref_hash'].count()"
   ]
  },
  {
   "cell_type": "code",
   "execution_count": 10,
   "metadata": {},
   "outputs": [
    {
     "data": {
      "text/plain": [
       "23011"
      ]
     },
     "execution_count": 10,
     "metadata": {},
     "output_type": "execute_result"
    }
   ],
   "source": [
    "#Valores no nulos en X e Y\n",
    "clicks[clicks['touchX'].notnull()]['ref_hash'].count()"
   ]
  },
  {
   "cell_type": "code",
   "execution_count": 11,
   "metadata": {},
   "outputs": [
    {
     "data": {
      "text/plain": [
       "23011"
      ]
     },
     "execution_count": 11,
     "metadata": {},
     "output_type": "execute_result"
    }
   ],
   "source": [
    "clicks[clicks['touchY'].notnull()]['ref_hash'].count()"
   ]
  },
  {
   "cell_type": "code",
   "execution_count": 14,
   "metadata": {},
   "outputs": [
    {
     "data": {
      "text/plain": [
       "23011"
      ]
     },
     "execution_count": 14,
     "metadata": {},
     "output_type": "execute_result"
    }
   ],
   "source": [
    "clicks['touchY'].count()"
   ]
  },
  {
   "cell_type": "code",
   "execution_count": 33,
   "metadata": {},
   "outputs": [
    {
     "name": "stdout",
     "output_type": "stream",
     "text": [
      "<class 'pandas.core.frame.DataFrame'>\n",
      "RangeIndex: 26351 entries, 0 to 26350\n",
      "Data columns (total 11 columns):\n",
      "advertiser_id    26351 non-null object\n",
      "source_id        26351 non-null object\n",
      "created          26351 non-null object\n",
      "carrier_id       26340 non-null object\n",
      "agent_device     3243 non-null object\n",
      "specs_brand      26351 non-null object\n",
      "timeToClick      22977 non-null float64\n",
      "touchX           23011 non-null float64\n",
      "touchY           23011 non-null float64\n",
      "ref_type         26351 non-null object\n",
      "ref_hash         26351 non-null object\n",
      "dtypes: float64(3), object(8)\n",
      "memory usage: 2.2+ MB\n"
     ]
    }
   ],
   "source": [
    "#Transformo a numerico\n",
    "clicks_ok = clicks\n",
    "clicks_ok['touchX'] = clicks['touchX'].apply(pd.to_numeric)\n",
    "clicks_ok['touchY'] = clicks['touchY'].apply(pd.to_numeric)\n",
    "clicks_ok['timeToClick'] = clicks['timeToClick'].apply(pd.to_numeric)\n",
    "clicks_ok.info()"
   ]
  },
  {
   "cell_type": "code",
   "execution_count": 34,
   "metadata": {},
   "outputs": [
    {
     "data": {
      "text/html": [
       "<div>\n",
       "<style scoped>\n",
       "    .dataframe tbody tr th:only-of-type {\n",
       "        vertical-align: middle;\n",
       "    }\n",
       "\n",
       "    .dataframe tbody tr th {\n",
       "        vertical-align: top;\n",
       "    }\n",
       "\n",
       "    .dataframe thead th {\n",
       "        text-align: right;\n",
       "    }\n",
       "</style>\n",
       "<table border=\"1\" class=\"dataframe\">\n",
       "  <thead>\n",
       "    <tr style=\"text-align: right;\">\n",
       "      <th></th>\n",
       "      <th>advertiser_id</th>\n",
       "      <th>source_id</th>\n",
       "      <th>created</th>\n",
       "      <th>carrier_id</th>\n",
       "      <th>agent_device</th>\n",
       "      <th>specs_brand</th>\n",
       "      <th>timeToClick</th>\n",
       "      <th>touchX</th>\n",
       "      <th>touchY</th>\n",
       "      <th>ref_type</th>\n",
       "      <th>ref_hash</th>\n",
       "    </tr>\n",
       "  </thead>\n",
       "  <tbody>\n",
       "    <tr>\n",
       "      <th>0</th>\n",
       "      <td>2</td>\n",
       "      <td>4</td>\n",
       "      <td>2019-03-06T22:42:12.755Z</td>\n",
       "      <td>1.0</td>\n",
       "      <td>NaN</td>\n",
       "      <td>2733035977666442898</td>\n",
       "      <td>1.563</td>\n",
       "      <td>0.905</td>\n",
       "      <td>0.078</td>\n",
       "      <td>1891515180541284343</td>\n",
       "      <td>1904083516767779093</td>\n",
       "    </tr>\n",
       "    <tr>\n",
       "      <th>1</th>\n",
       "      <td>0</td>\n",
       "      <td>0</td>\n",
       "      <td>2019-03-08T10:24:30.641Z</td>\n",
       "      <td>4.0</td>\n",
       "      <td>NaN</td>\n",
       "      <td>392184377613098015</td>\n",
       "      <td>NaN</td>\n",
       "      <td>NaN</td>\n",
       "      <td>NaN</td>\n",
       "      <td>1891515180541284343</td>\n",
       "      <td>3086509764961796666</td>\n",
       "    </tr>\n",
       "    <tr>\n",
       "      <th>2</th>\n",
       "      <td>0</td>\n",
       "      <td>0</td>\n",
       "      <td>2019-03-08T15:24:16.069Z</td>\n",
       "      <td>6.0</td>\n",
       "      <td>NaN</td>\n",
       "      <td>392184377613098015</td>\n",
       "      <td>NaN</td>\n",
       "      <td>0.946</td>\n",
       "      <td>0.473</td>\n",
       "      <td>1891515180541284343</td>\n",
       "      <td>6958163894863846647</td>\n",
       "    </tr>\n",
       "    <tr>\n",
       "      <th>3</th>\n",
       "      <td>2</td>\n",
       "      <td>3</td>\n",
       "      <td>2019-03-06T03:08:51.543Z</td>\n",
       "      <td>45.0</td>\n",
       "      <td>NaN</td>\n",
       "      <td>2733035977666442898</td>\n",
       "      <td>19.013</td>\n",
       "      <td>0.035</td>\n",
       "      <td>0.431</td>\n",
       "      <td>1891515180541284343</td>\n",
       "      <td>4368617728156436525</td>\n",
       "    </tr>\n",
       "    <tr>\n",
       "      <th>4</th>\n",
       "      <td>2</td>\n",
       "      <td>3</td>\n",
       "      <td>2019-03-06T03:32:55.570Z</td>\n",
       "      <td>45.0</td>\n",
       "      <td>NaN</td>\n",
       "      <td>2733035977666442898</td>\n",
       "      <td>28.110</td>\n",
       "      <td>0.054</td>\n",
       "      <td>0.423</td>\n",
       "      <td>1891515180541284343</td>\n",
       "      <td>4368617728156436525</td>\n",
       "    </tr>\n",
       "  </tbody>\n",
       "</table>\n",
       "</div>"
      ],
      "text/plain": [
       "  advertiser_id source_id                   created carrier_id agent_device  \\\n",
       "0             2         4  2019-03-06T22:42:12.755Z        1.0          NaN   \n",
       "1             0         0  2019-03-08T10:24:30.641Z        4.0          NaN   \n",
       "2             0         0  2019-03-08T15:24:16.069Z        6.0          NaN   \n",
       "3             2         3  2019-03-06T03:08:51.543Z       45.0          NaN   \n",
       "4             2         3  2019-03-06T03:32:55.570Z       45.0          NaN   \n",
       "\n",
       "           specs_brand  timeToClick  touchX  touchY             ref_type  \\\n",
       "0  2733035977666442898        1.563   0.905   0.078  1891515180541284343   \n",
       "1   392184377613098015          NaN     NaN     NaN  1891515180541284343   \n",
       "2   392184377613098015          NaN   0.946   0.473  1891515180541284343   \n",
       "3  2733035977666442898       19.013   0.035   0.431  1891515180541284343   \n",
       "4  2733035977666442898       28.110   0.054   0.423  1891515180541284343   \n",
       "\n",
       "              ref_hash  \n",
       "0  1904083516767779093  \n",
       "1  3086509764961796666  \n",
       "2  6958163894863846647  \n",
       "3  4368617728156436525  \n",
       "4  4368617728156436525  "
      ]
     },
     "execution_count": 34,
     "metadata": {},
     "output_type": "execute_result"
    }
   ],
   "source": [
    "clicks_ok.head()"
   ]
  },
  {
   "cell_type": "code",
   "execution_count": 35,
   "metadata": {},
   "outputs": [
    {
     "data": {
      "text/html": [
       "<div>\n",
       "<style scoped>\n",
       "    .dataframe tbody tr th:only-of-type {\n",
       "        vertical-align: middle;\n",
       "    }\n",
       "\n",
       "    .dataframe tbody tr th {\n",
       "        vertical-align: top;\n",
       "    }\n",
       "\n",
       "    .dataframe thead th {\n",
       "        text-align: right;\n",
       "    }\n",
       "</style>\n",
       "<table border=\"1\" class=\"dataframe\">\n",
       "  <thead>\n",
       "    <tr style=\"text-align: right;\">\n",
       "      <th></th>\n",
       "      <th>touchX</th>\n",
       "      <th>touchY</th>\n",
       "      <th>timeToClick</th>\n",
       "    </tr>\n",
       "  </thead>\n",
       "  <tbody>\n",
       "  </tbody>\n",
       "</table>\n",
       "</div>"
      ],
      "text/plain": [
       "Empty DataFrame\n",
       "Columns: [touchX, touchY, timeToClick]\n",
       "Index: []"
      ]
     },
     "execution_count": 35,
     "metadata": {},
     "output_type": "execute_result"
    }
   ],
   "source": [
    "#Remuevo los valores nulos de X e Y\n",
    "clicks_ok = clicks_ok[(clicks_ok['touchX'].notnull()) & (clicks_ok['touchY'].notnull()) & clicks_ok['timeToClick'].notnull() ]\n",
    "clicks_ok = clicks_ok[['touchX','touchY','timeToClick']]\n",
    "clicks_ok\n",
    "clicks_ok[clicks_ok['touchX'].isnull()]\n",
    "clicks_ok[clicks_ok['touchY'].isnull()]\n",
    "clicks_ok[clicks_ok['timeToClick'].isnull()]"
   ]
  },
  {
   "cell_type": "code",
   "execution_count": 37,
   "metadata": {},
   "outputs": [
    {
     "data": {
      "text/html": [
       "<div>\n",
       "<style scoped>\n",
       "    .dataframe tbody tr th:only-of-type {\n",
       "        vertical-align: middle;\n",
       "    }\n",
       "\n",
       "    .dataframe tbody tr th {\n",
       "        vertical-align: top;\n",
       "    }\n",
       "\n",
       "    .dataframe thead th {\n",
       "        text-align: right;\n",
       "    }\n",
       "</style>\n",
       "<table border=\"1\" class=\"dataframe\">\n",
       "  <thead>\n",
       "    <tr style=\"text-align: right;\">\n",
       "      <th></th>\n",
       "      <th>touchX</th>\n",
       "      <th>touchY</th>\n",
       "      <th>timeToClick</th>\n",
       "    </tr>\n",
       "  </thead>\n",
       "  <tbody>\n",
       "    <tr>\n",
       "      <th>count</th>\n",
       "      <td>22961.000000</td>\n",
       "      <td>22961.000000</td>\n",
       "      <td>22961.000000</td>\n",
       "    </tr>\n",
       "    <tr>\n",
       "      <th>mean</th>\n",
       "      <td>0.639075</td>\n",
       "      <td>1.481326</td>\n",
       "      <td>230.334055</td>\n",
       "    </tr>\n",
       "    <tr>\n",
       "      <th>std</th>\n",
       "      <td>0.301806</td>\n",
       "      <td>2.624922</td>\n",
       "      <td>977.085237</td>\n",
       "    </tr>\n",
       "    <tr>\n",
       "      <th>min</th>\n",
       "      <td>0.000000</td>\n",
       "      <td>0.000000</td>\n",
       "      <td>0.017000</td>\n",
       "    </tr>\n",
       "    <tr>\n",
       "      <th>25%</th>\n",
       "      <td>0.427000</td>\n",
       "      <td>0.185000</td>\n",
       "      <td>2.911000</td>\n",
       "    </tr>\n",
       "    <tr>\n",
       "      <th>50%</th>\n",
       "      <td>0.726000</td>\n",
       "      <td>0.646000</td>\n",
       "      <td>10.581000</td>\n",
       "    </tr>\n",
       "    <tr>\n",
       "      <th>75%</th>\n",
       "      <td>0.901000</td>\n",
       "      <td>0.991000</td>\n",
       "      <td>71.496000</td>\n",
       "    </tr>\n",
       "    <tr>\n",
       "      <th>max</th>\n",
       "      <td>1.000000</td>\n",
       "      <td>16.600000</td>\n",
       "      <td>17616.188000</td>\n",
       "    </tr>\n",
       "  </tbody>\n",
       "</table>\n",
       "</div>"
      ],
      "text/plain": [
       "             touchX        touchY   timeToClick\n",
       "count  22961.000000  22961.000000  22961.000000\n",
       "mean       0.639075      1.481326    230.334055\n",
       "std        0.301806      2.624922    977.085237\n",
       "min        0.000000      0.000000      0.017000\n",
       "25%        0.427000      0.185000      2.911000\n",
       "50%        0.726000      0.646000     10.581000\n",
       "75%        0.901000      0.991000     71.496000\n",
       "max        1.000000     16.600000  17616.188000"
      ]
     },
     "execution_count": 37,
     "metadata": {},
     "output_type": "execute_result"
    }
   ],
   "source": [
    "clicks_ok.describe()"
   ]
  },
  {
   "cell_type": "code",
   "execution_count": 40,
   "metadata": {},
   "outputs": [
    {
     "data": {
      "text/html": [
       "<div>\n",
       "<style scoped>\n",
       "    .dataframe tbody tr th:only-of-type {\n",
       "        vertical-align: middle;\n",
       "    }\n",
       "\n",
       "    .dataframe tbody tr th {\n",
       "        vertical-align: top;\n",
       "    }\n",
       "\n",
       "    .dataframe thead th {\n",
       "        text-align: right;\n",
       "    }\n",
       "</style>\n",
       "<table border=\"1\" class=\"dataframe\">\n",
       "  <thead>\n",
       "    <tr style=\"text-align: right;\">\n",
       "      <th></th>\n",
       "      <th>touchX</th>\n",
       "      <th>touchY</th>\n",
       "      <th>timeToClick</th>\n",
       "    </tr>\n",
       "  </thead>\n",
       "  <tbody>\n",
       "    <tr>\n",
       "      <th>26342</th>\n",
       "      <td>0.575</td>\n",
       "      <td>0.661</td>\n",
       "      <td>0.180</td>\n",
       "    </tr>\n",
       "    <tr>\n",
       "      <th>26343</th>\n",
       "      <td>0.001</td>\n",
       "      <td>0.333</td>\n",
       "      <td>21.362</td>\n",
       "    </tr>\n",
       "    <tr>\n",
       "      <th>26344</th>\n",
       "      <td>0.910</td>\n",
       "      <td>0.603</td>\n",
       "      <td>145.121</td>\n",
       "    </tr>\n",
       "    <tr>\n",
       "      <th>26345</th>\n",
       "      <td>0.942</td>\n",
       "      <td>0.003</td>\n",
       "      <td>4.092</td>\n",
       "    </tr>\n",
       "    <tr>\n",
       "      <th>26350</th>\n",
       "      <td>0.194</td>\n",
       "      <td>0.517</td>\n",
       "      <td>4.325</td>\n",
       "    </tr>\n",
       "  </tbody>\n",
       "</table>\n",
       "</div>"
      ],
      "text/plain": [
       "       touchX  touchY  timeToClick\n",
       "26342   0.575   0.661        0.180\n",
       "26343   0.001   0.333       21.362\n",
       "26344   0.910   0.603      145.121\n",
       "26345   0.942   0.003        4.092\n",
       "26350   0.194   0.517        4.325"
      ]
     },
     "execution_count": 40,
     "metadata": {},
     "output_type": "execute_result"
    }
   ],
   "source": [
    "clicks_ok.tail()"
   ]
  },
  {
   "cell_type": "code",
   "execution_count": 38,
   "metadata": {},
   "outputs": [
    {
     "data": {
      "text/plain": [
       "<matplotlib.axes._subplots.AxesSubplot at 0x7f178694a510>"
      ]
     },
     "execution_count": 38,
     "metadata": {},
     "output_type": "execute_result"
    },
    {
     "data": {
      "image/png": "[encoded data removed]",
      "text/plain": [
       "<matplotlib.figure.Figure at 0x7f1786aa5410>"
      ]
     },
     "metadata": {},
     "output_type": "display_data"
    },
    {
     "data": {
      "image/png": "[encoded data removed]",
      "text/plain": [
       "<matplotlib.figure.Figure at 0x7f17869a4490>"
      ]
     },
     "metadata": {},
     "output_type": "display_data"
    },
    {
     "data": {
      "image/png": "[encoded data removed]",
      "text/plain": [
       "<matplotlib.figure.Figure at 0x7f1786984590>"
      ]
     },
     "metadata": {},
     "output_type": "display_data"
    }
   ],
   "source": [
    "#Miro la distribución de los clicks\n",
    "clicks_ok.plot.scatter(x='touchX', y='touchY', color='DarkGreen', label='clicks',s = 1)\n",
    "clicks_ok.plot.scatter(x='touchX', y='touchY', color='DarkBlue', label='clicks',s = 0.001)\n",
    "clicks_ok.plot.scatter(x='touchX', y='touchY', color='DarkRed', label='clicks',s = 0.00001)\n",
    "#Parece ser que la gran mayoría de los usuarios clickean en la parte inferior de la publicidad.\n",
    "#En la parte inferior derecha existe la mayor cantidad de clicks\n",
    "#Se pueden diferenciar(?) 3 zonas de click en base a una aparente densidad, a saber,\n",
    "#los click comprendidos entre 15~2.5 ; 2.5~1 ; 1~0"
   ]
  },
  {
   "cell_type": "code",
   "execution_count": 42,
   "metadata": {},
   "outputs": [
    {
     "data": {
      "text/html": [
       "<div>\n",
       "<style scoped>\n",
       "    .dataframe tbody tr th:only-of-type {\n",
       "        vertical-align: middle;\n",
       "    }\n",
       "\n",
       "    .dataframe tbody tr th {\n",
       "        vertical-align: top;\n",
       "    }\n",
       "\n",
       "    .dataframe thead th {\n",
       "        text-align: right;\n",
       "    }\n",
       "</style>\n",
       "<table border=\"1\" class=\"dataframe\">\n",
       "  <thead>\n",
       "    <tr style=\"text-align: right;\">\n",
       "      <th></th>\n",
       "      <th>touchX</th>\n",
       "      <th>touchY</th>\n",
       "      <th>timeToClick</th>\n",
       "    </tr>\n",
       "  </thead>\n",
       "  <tbody>\n",
       "    <tr>\n",
       "      <th>count</th>\n",
       "      <td>22961.000000</td>\n",
       "      <td>22961.000000</td>\n",
       "      <td>22961.000000</td>\n",
       "    </tr>\n",
       "    <tr>\n",
       "      <th>mean</th>\n",
       "      <td>0.639075</td>\n",
       "      <td>1.481326</td>\n",
       "      <td>230.334055</td>\n",
       "    </tr>\n",
       "    <tr>\n",
       "      <th>std</th>\n",
       "      <td>0.301806</td>\n",
       "      <td>2.624922</td>\n",
       "      <td>977.085237</td>\n",
       "    </tr>\n",
       "    <tr>\n",
       "      <th>min</th>\n",
       "      <td>0.000000</td>\n",
       "      <td>0.000000</td>\n",
       "      <td>0.017000</td>\n",
       "    </tr>\n",
       "    <tr>\n",
       "      <th>25%</th>\n",
       "      <td>0.427000</td>\n",
       "      <td>0.185000</td>\n",
       "      <td>2.911000</td>\n",
       "    </tr>\n",
       "    <tr>\n",
       "      <th>50%</th>\n",
       "      <td>0.726000</td>\n",
       "      <td>0.646000</td>\n",
       "      <td>10.581000</td>\n",
       "    </tr>\n",
       "    <tr>\n",
       "      <th>75%</th>\n",
       "      <td>0.901000</td>\n",
       "      <td>0.991000</td>\n",
       "      <td>71.496000</td>\n",
       "    </tr>\n",
       "    <tr>\n",
       "      <th>max</th>\n",
       "      <td>1.000000</td>\n",
       "      <td>16.600000</td>\n",
       "      <td>17616.188000</td>\n",
       "    </tr>\n",
       "  </tbody>\n",
       "</table>\n",
       "</div>"
      ],
      "text/plain": [
       "             touchX        touchY   timeToClick\n",
       "count  22961.000000  22961.000000  22961.000000\n",
       "mean       0.639075      1.481326    230.334055\n",
       "std        0.301806      2.624922    977.085237\n",
       "min        0.000000      0.000000      0.017000\n",
       "25%        0.427000      0.185000      2.911000\n",
       "50%        0.726000      0.646000     10.581000\n",
       "75%        0.901000      0.991000     71.496000\n",
       "max        1.000000     16.600000  17616.188000"
      ]
     },
     "execution_count": 42,
     "metadata": {},
     "output_type": "execute_result"
    }
   ],
   "source": [
    "#ordenamos x timeToClick\n",
    "c_ok_sort = clicks_ok.sort_values(by='timeToClick',ascending=False)\n",
    "c_ok_sort.describe()"
   ]
  },
  {
   "cell_type": "code",
   "execution_count": 44,
   "metadata": {},
   "outputs": [
    {
     "data": {
      "text/html": [
       "<div>\n",
       "<style scoped>\n",
       "    .dataframe tbody tr th:only-of-type {\n",
       "        vertical-align: middle;\n",
       "    }\n",
       "\n",
       "    .dataframe tbody tr th {\n",
       "        vertical-align: top;\n",
       "    }\n",
       "\n",
       "    .dataframe thead th {\n",
       "        text-align: right;\n",
       "    }\n",
       "</style>\n",
       "<table border=\"1\" class=\"dataframe\">\n",
       "  <thead>\n",
       "    <tr style=\"text-align: right;\">\n",
       "      <th></th>\n",
       "      <th>touchX</th>\n",
       "      <th>touchY</th>\n",
       "      <th>timeToClick</th>\n",
       "    </tr>\n",
       "  </thead>\n",
       "  <tbody>\n",
       "    <tr>\n",
       "      <th>23818</th>\n",
       "      <td>0.619</td>\n",
       "      <td>0.774</td>\n",
       "      <td>17616.188</td>\n",
       "    </tr>\n",
       "    <tr>\n",
       "      <th>5606</th>\n",
       "      <td>0.092</td>\n",
       "      <td>2.579</td>\n",
       "      <td>16915.195</td>\n",
       "    </tr>\n",
       "    <tr>\n",
       "      <th>13465</th>\n",
       "      <td>0.859</td>\n",
       "      <td>5.173</td>\n",
       "      <td>16698.536</td>\n",
       "    </tr>\n",
       "    <tr>\n",
       "      <th>14350</th>\n",
       "      <td>0.636</td>\n",
       "      <td>10.979</td>\n",
       "      <td>16466.667</td>\n",
       "    </tr>\n",
       "    <tr>\n",
       "      <th>15691</th>\n",
       "      <td>0.570</td>\n",
       "      <td>7.444</td>\n",
       "      <td>15776.097</td>\n",
       "    </tr>\n",
       "  </tbody>\n",
       "</table>\n",
       "</div>"
      ],
      "text/plain": [
       "       touchX  touchY  timeToClick\n",
       "23818   0.619   0.774    17616.188\n",
       "5606    0.092   2.579    16915.195\n",
       "13465   0.859   5.173    16698.536\n",
       "14350   0.636  10.979    16466.667\n",
       "15691   0.570   7.444    15776.097"
      ]
     },
     "execution_count": 44,
     "metadata": {},
     "output_type": "execute_result"
    }
   ],
   "source": [
    "#Vemos como fueron esos clicks en tiempo\n",
    "#Sabemos que el timeToClick es el tiempo(segundos) que demora un usuario en hacer 1 click desde que aparece\n",
    "#la impresion(publicidad)\n",
    "c_ok_sort.head()"
   ]
  },
  {
   "cell_type": "code",
   "execution_count": 48,
   "metadata": {},
   "outputs": [
    {
     "data": {
      "text/plain": [
       "22961"
      ]
     },
     "execution_count": 48,
     "metadata": {},
     "output_type": "execute_result"
    }
   ],
   "source": [
    "len(c_ok_sort['timeToClick'])"
   ]
  },
  {
   "cell_type": "code",
   "execution_count": 81,
   "metadata": {},
   "outputs": [
    {
     "name": "stdout",
     "output_type": "stream",
     "text": [
      "Cantidad Registros :8399 en max timeToClick 5.0 | % total: 36.5794172728\n",
      "Cantidad Registros :11240 en max timeToClick 10.0 | % total: 48.9525717521\n",
      "Cantidad Registros :14023 en max timeToClick 20.0 | % total: 61.0731239929\n",
      "Cantidad Registros :15177 en max timeToClick 30.0 | % total: 66.0990374984\n",
      "Cantidad Registros :16822 en max timeToClick 60.0 | % total: 73.2633596098\n",
      "Cantidad Registros :17718 en max timeToClick 90.0 | % total: 77.1656286747\n",
      "Cantidad Registros :18308 en max timeToClick 120.0 | % total: 79.7352031706\n",
      "Cantidad Registros :19092 en max timeToClick 180.0 | % total: 83.1496886024\n",
      "Cantidad Registros :22961 en max timeToClick 20000.0 | % total: 100.0\n"
     ]
    }
   ],
   "source": [
    "max=20000.0\n",
    "min=5.0\n",
    "lista = [min,10.0,20.0,30.0,60.0,90.0,120.0,180.0,max]\n",
    "tot = len(c_ok_sort[(c_ok_sort['timeToClick'] > 0) & (c_ok_sort['timeToClick'] < max) ]['timeToClick'])\n",
    "tot = float(tot)\n",
    "for sec in enumerate(lista):\n",
    "    \n",
    "    reg = len(c_ok_sort[(c_ok_sort['timeToClick'] > 0) & (c_ok_sort['timeToClick'] < sec[1]) ]['timeToClick'])\n",
    "    print(\"Cantidad Registros :\"+str(reg)+\" en max timeToClick \" +str(sec[1])+ \" | % total: \"+str(100*float(reg/tot)) )\n",
    "    "
   ]
  },
  {
   "cell_type": "code",
   "execution_count": 108,
   "metadata": {
    "collapsed": true
   },
   "outputs": [],
   "source": [
    "#Reacemos el analisis sobre el tiempo hasta los clicks. Seteamos por defecto un tiempo de click < 20 segundos\n",
    "c_ok_sort2 = c_ok_sort[(c_ok_sort['timeToClick'] > 0) & (c_ok_sort['timeToClick'] < 20) ]"
   ]
  },
  {
   "cell_type": "code",
   "execution_count": 109,
   "metadata": {},
   "outputs": [
    {
     "data": {
      "text/plain": [
       "14023"
      ]
     },
     "execution_count": 109,
     "metadata": {},
     "output_type": "execute_result"
    }
   ],
   "source": [
    "len(c_ok_sort2['timeToClick'])"
   ]
  },
  {
   "cell_type": "code",
   "execution_count": 110,
   "metadata": {},
   "outputs": [
    {
     "data": {
      "text/plain": [
       "[5.1, 7.93, 8.87, 7.87, 7.46, 8.29]"
      ]
     },
     "execution_count": 110,
     "metadata": {},
     "output_type": "execute_result"
    }
   ],
   "source": [
    "#Densidad en Y\n",
    "#defino los rangos de separación\n",
    "r0 = (0,1)\n",
    "r1 = (1,2.5)\n",
    "r2 = (2.5,5)\n",
    "r3 = (5,7.5)\n",
    "r4 = (7.5,10)\n",
    "r5 = (10,15)\n",
    "lista = [r0,r1,r2,r3,r4,r5]\n",
    "res = []\n",
    "#Itero los rangos y saco la media para cada de tiempo para cada caso\n",
    "for rango in lista:\n",
    "    r = c_ok_sort2[(c_ok_sort2['touchY'] > rango[0]) & (c_ok_sort2['touchY'] < rango[1])]['timeToClick'].mean()\n",
    "    r = np.round(r,2)\n",
    "    res.append(r)\n",
    "res"
   ]
  },
  {
   "cell_type": "code",
   "execution_count": 111,
   "metadata": {},
   "outputs": [
    {
     "data": {
      "text/html": [
       "<div>\n",
       "<style scoped>\n",
       "    .dataframe tbody tr th:only-of-type {\n",
       "        vertical-align: middle;\n",
       "    }\n",
       "\n",
       "    .dataframe tbody tr th {\n",
       "        vertical-align: top;\n",
       "    }\n",
       "\n",
       "    .dataframe thead th {\n",
       "        text-align: right;\n",
       "    }\n",
       "</style>\n",
       "<table border=\"1\" class=\"dataframe\">\n",
       "  <thead>\n",
       "    <tr style=\"text-align: right;\">\n",
       "      <th></th>\n",
       "      <th>tiempo_clicks</th>\n",
       "      <th>ubicacion</th>\n",
       "    </tr>\n",
       "  </thead>\n",
       "  <tbody>\n",
       "    <tr>\n",
       "      <th>0</th>\n",
       "      <td>5.10</td>\n",
       "      <td>0</td>\n",
       "    </tr>\n",
       "    <tr>\n",
       "      <th>1</th>\n",
       "      <td>7.93</td>\n",
       "      <td>1</td>\n",
       "    </tr>\n",
       "    <tr>\n",
       "      <th>2</th>\n",
       "      <td>8.87</td>\n",
       "      <td>2</td>\n",
       "    </tr>\n",
       "    <tr>\n",
       "      <th>3</th>\n",
       "      <td>7.87</td>\n",
       "      <td>3</td>\n",
       "    </tr>\n",
       "    <tr>\n",
       "      <th>4</th>\n",
       "      <td>7.46</td>\n",
       "      <td>4</td>\n",
       "    </tr>\n",
       "    <tr>\n",
       "      <th>5</th>\n",
       "      <td>8.29</td>\n",
       "      <td>5</td>\n",
       "    </tr>\n",
       "  </tbody>\n",
       "</table>\n",
       "</div>"
      ],
      "text/plain": [
       "   tiempo_clicks  ubicacion\n",
       "0           5.10          0\n",
       "1           7.93          1\n",
       "2           8.87          2\n",
       "3           7.87          3\n",
       "4           7.46          4\n",
       "5           8.29          5"
      ]
     },
     "execution_count": 111,
     "metadata": {},
     "output_type": "execute_result"
    }
   ],
   "source": [
    "#Armo un df\n",
    "lista = res\n",
    "#lista2 = [\"0.0-1.0\",\"1.0-2.5\",\"2.5-5.0\",\"5.0-7.5\",\"7.5-10.0\",\"10.0-15.0\"]\n",
    "lista2 =list(range(0, 6))\n",
    "lista2\n",
    "data={'ubicacion':lista2,'tiempo_clicks':lista}\n",
    "df = pd.DataFrame(data=data)\n",
    "df"
   ]
  },
  {
   "cell_type": "code",
   "execution_count": 112,
   "metadata": {},
   "outputs": [
    {
     "data": {
      "image/png": "[encoded data removed]",
      "text/plain": [
       "<matplotlib.figure.Figure at 0x7f17868577d0>"
      ]
     },
     "metadata": {},
     "output_type": "display_data"
    }
   ],
   "source": [
    "#Ploteo los resultados\n",
    "xc = df['ubicacion']\n",
    "yc = df['tiempo_clicks']\n",
    "\n",
    "types = [\"0.0~1.0\",\"1.0~2.5\",\"2.5~5.0\",\"5.0~7.5\",\"7.5~10.0\",\"10.0~15.0\"]\n",
    "x_coords = xc = df['ubicacion']\n",
    "y_coords = yc = df['tiempo_clicks']\n",
    "\n",
    "for i,type in enumerate(types):\n",
    "    x = x_coords[i]\n",
    "    y = y_coords[i]\n",
    "    plt.scatter(x, y, marker='x', color='red')\n",
    "    plt.text(x+0.1, y+0.1, type, fontsize=9)\n",
    "plt.title(\"Duracion tiempo clicks\")\n",
    "plt.xlabel(\"Ubicacion en Y\")\n",
    "plt.ylabel(\"Duracion publicidad hasta clicks [s]\")\n",
    "\n",
    "plt.show()"
   ]
  },
  {
   "cell_type": "code",
   "execution_count": null,
   "metadata": {
    "collapsed": true
   },
   "outputs": [],
   "source": [
    "#podemos ver que la duración de la publicidad es mucho más baja respecto del resto cuando la ubicación del\n",
    "#click es muy cercana a la parte inferior de la pantalla 0~1/15."
   ]
  }
 ],
 "metadata": {
  "kernelspec": {
   "display_name": "Python 2",
   "language": "python",
   "name": "python2"
  },
  "language_info": {
   "codemirror_mode": {
    "name": "ipython",
    "version": 2
   },
   "file_extension": ".py",
   "mimetype": "text/x-python",
   "name": "python",
   "nbconvert_exporter": "python",
   "pygments_lexer": "ipython2",
   "version": "2.7.12"
  }
 },
 "nbformat": 4,
 "nbformat_minor": 2
}
