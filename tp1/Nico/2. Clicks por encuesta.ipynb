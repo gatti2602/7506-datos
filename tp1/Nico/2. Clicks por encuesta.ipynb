{
 "cells": [
  {
   "cell_type": "code",
   "execution_count": 1,
   "metadata": {},
   "outputs": [],
   "source": [
    "import pandas as pd\n",
    "import matplotlib as mp\n",
    "\n",
    "%matplotlib inline"
   ]
  },
  {
   "cell_type": "code",
   "execution_count": 2,
   "metadata": {},
   "outputs": [],
   "source": [
    "auctions = pd.read_csv('../data/auctions.csv.gzip',compression='gzip',\\\n",
    "                        usecols=['date','device_id','platform','ref_type_id','source_id'],\\\n",
    "                        dtype={'device_id':'int64','platform':'category','ref_type_id':'category','source_id':'category'},\\\n",
    "                        parse_dates=['date'])"
   ]
  },
  {
   "cell_type": "code",
   "execution_count": 3,
   "metadata": {},
   "outputs": [],
   "source": [
    "auctions.sort_values(by=['device_id', 'date'], inplace=True)"
   ]
  },
  {
   "cell_type": "code",
   "execution_count": 4,
   "metadata": {},
   "outputs": [],
   "source": [
    "auctions['next_date'] = auctions.groupby('device_id', as_index = False, sort=False)['date']\\\n",
    "                                              .transform(lambda x: x.shift(-1))\n",
    "auctions = auctions.loc[(~auctions['next_date'].isnull())]\n",
    "auctions['secs_to_next'] = (auctions['next_date'] - auctions['date'])\\\n",
    "                                        .transform(lambda x: round(x.total_seconds(), 2))\n",
    "auctions['hour'] = auctions['date'].dt.hour\n",
    "auctions['is_weekend'] = auctions['date'].dt.weekday >= 5"
   ]
  },
  {
   "cell_type": "code",
   "execution_count": 5,
   "metadata": {},
   "outputs": [],
   "source": [
    "clicks = pd.read_csv('../data/clicks.csv.gzip',compression='gzip',\\\n",
    "                     parse_dates=['created'],\\\n",
    "                     dtype={'action_id':'category',\\\n",
    "                            'source_id':'category',\\\n",
    "                            'carrier_id':'category',\\\n",
    "                            'source_id':'category'})"
   ]
  },
  {
   "cell_type": "code",
   "execution_count": 6,
   "metadata": {},
   "outputs": [
    {
     "data": {
      "text/plain": [
       "(26351, 20)"
      ]
     },
     "execution_count": 6,
     "metadata": {},
     "output_type": "execute_result"
    }
   ],
   "source": [
    "clicks.shape"
   ]
  },
  {
   "cell_type": "markdown",
   "metadata": {},
   "source": [
    "## En que horario del dia se hacen mas clicks?"
   ]
  },
  {
   "cell_type": "code",
   "execution_count": 7,
   "metadata": {},
   "outputs": [],
   "source": [
    "clicks_on_auctions = clicks.merge(auctions, how='inner', left_on='ref_hash', right_on='device_id')\n",
    "clicks_on_auctions = clicks_on_auctions.loc[((clicks_on_auctions['created'] >= clicks_on_auctions['date']) & (clicks_on_auctions['created'] <= clicks_on_auctions['next_date']))]"
   ]
  },
  {
   "cell_type": "code",
   "execution_count": 8,
   "metadata": {},
   "outputs": [
    {
     "data": {
      "text/plain": [
       "(24723, 29)"
      ]
     },
     "execution_count": 8,
     "metadata": {},
     "output_type": "execute_result"
    }
   ],
   "source": [
    "clicks_on_auctions.shape"
   ]
  },
  {
   "cell_type": "code",
   "execution_count": 9,
   "metadata": {},
   "outputs": [
    {
     "data": {
      "text/html": [
       "<div>\n",
       "<style scoped>\n",
       "    .dataframe tbody tr th:only-of-type {\n",
       "        vertical-align: middle;\n",
       "    }\n",
       "\n",
       "    .dataframe tbody tr th {\n",
       "        vertical-align: top;\n",
       "    }\n",
       "\n",
       "    .dataframe thead th {\n",
       "        text-align: right;\n",
       "    }\n",
       "</style>\n",
       "<table border=\"1\" class=\"dataframe\">\n",
       "  <thead>\n",
       "    <tr style=\"text-align: right;\">\n",
       "      <th></th>\n",
       "      <th>advertiser_id</th>\n",
       "      <th>action_id</th>\n",
       "      <th>source_id_x</th>\n",
       "      <th>created</th>\n",
       "      <th>country_code</th>\n",
       "      <th>latitude</th>\n",
       "      <th>longitude</th>\n",
       "      <th>wifi_connection</th>\n",
       "      <th>carrier_id</th>\n",
       "      <th>trans_id</th>\n",
       "      <th>...</th>\n",
       "      <th>ref_hash</th>\n",
       "      <th>date</th>\n",
       "      <th>device_id</th>\n",
       "      <th>platform</th>\n",
       "      <th>ref_type_id</th>\n",
       "      <th>source_id_y</th>\n",
       "      <th>next_date</th>\n",
       "      <th>secs_to_next</th>\n",
       "      <th>hour</th>\n",
       "      <th>is_weekend</th>\n",
       "    </tr>\n",
       "  </thead>\n",
       "  <tbody>\n",
       "    <tr>\n",
       "      <th>67</th>\n",
       "      <td>2</td>\n",
       "      <td>NaN</td>\n",
       "      <td>4</td>\n",
       "      <td>2019-03-06 22:42:12.755</td>\n",
       "      <td>6333597102633388268</td>\n",
       "      <td>1.205689</td>\n",
       "      <td>1.070234</td>\n",
       "      <td>False</td>\n",
       "      <td>1.0</td>\n",
       "      <td>iGgClCM9exiHF4K31g94XmvHEBSLKIY</td>\n",
       "      <td>...</td>\n",
       "      <td>1904083516767779093</td>\n",
       "      <td>2019-03-06 03:05:18.504699</td>\n",
       "      <td>1904083516767779093</td>\n",
       "      <td>1</td>\n",
       "      <td>1</td>\n",
       "      <td>5</td>\n",
       "      <td>2019-03-08 16:37:22.716724</td>\n",
       "      <td>221524.21</td>\n",
       "      <td>3</td>\n",
       "      <td>False</td>\n",
       "    </tr>\n",
       "    <tr>\n",
       "      <th>517</th>\n",
       "      <td>0</td>\n",
       "      <td>NaN</td>\n",
       "      <td>0</td>\n",
       "      <td>2019-03-08 10:24:30.641</td>\n",
       "      <td>6333597102633388268</td>\n",
       "      <td>1.218924</td>\n",
       "      <td>1.071209</td>\n",
       "      <td>False</td>\n",
       "      <td>4.0</td>\n",
       "      <td>MMHTOJ6qKAOeIH_Eywh1KIcCaxtO9oM</td>\n",
       "      <td>...</td>\n",
       "      <td>3086509764961796666</td>\n",
       "      <td>2019-03-08 10:24:23.903678</td>\n",
       "      <td>3086509764961796666</td>\n",
       "      <td>1</td>\n",
       "      <td>1</td>\n",
       "      <td>0</td>\n",
       "      <td>2019-03-08 14:58:25.463601</td>\n",
       "      <td>16441.56</td>\n",
       "      <td>10</td>\n",
       "      <td>False</td>\n",
       "    </tr>\n",
       "    <tr>\n",
       "      <th>611</th>\n",
       "      <td>0</td>\n",
       "      <td>NaN</td>\n",
       "      <td>0</td>\n",
       "      <td>2019-03-08 15:24:16.069</td>\n",
       "      <td>6333597102633388268</td>\n",
       "      <td>1.205689</td>\n",
       "      <td>1.070234</td>\n",
       "      <td>False</td>\n",
       "      <td>6.0</td>\n",
       "      <td>vIrEIdf9izUaWdAri6Ezk7T3nHFvNQU</td>\n",
       "      <td>...</td>\n",
       "      <td>6958163894863846647</td>\n",
       "      <td>2019-03-08 15:23:35.538873</td>\n",
       "      <td>6958163894863846647</td>\n",
       "      <td>1</td>\n",
       "      <td>1</td>\n",
       "      <td>0</td>\n",
       "      <td>2019-03-08 15:24:40.052461</td>\n",
       "      <td>64.51</td>\n",
       "      <td>15</td>\n",
       "      <td>False</td>\n",
       "    </tr>\n",
       "    <tr>\n",
       "      <th>673</th>\n",
       "      <td>2</td>\n",
       "      <td>NaN</td>\n",
       "      <td>3</td>\n",
       "      <td>2019-03-06 03:08:51.543</td>\n",
       "      <td>6333597102633388268</td>\n",
       "      <td>1.205689</td>\n",
       "      <td>1.070234</td>\n",
       "      <td>False</td>\n",
       "      <td>45.0</td>\n",
       "      <td>YaKxxEAs2UmZhSpRfiCO9Zpa82B_AKM</td>\n",
       "      <td>...</td>\n",
       "      <td>4368617728156436525</td>\n",
       "      <td>2019-03-06 03:07:56.250576</td>\n",
       "      <td>4368617728156436525</td>\n",
       "      <td>1</td>\n",
       "      <td>1</td>\n",
       "      <td>0</td>\n",
       "      <td>2019-03-06 03:24:02.524376</td>\n",
       "      <td>966.27</td>\n",
       "      <td>3</td>\n",
       "      <td>False</td>\n",
       "    </tr>\n",
       "    <tr>\n",
       "      <th>1176</th>\n",
       "      <td>2</td>\n",
       "      <td>NaN</td>\n",
       "      <td>3</td>\n",
       "      <td>2019-03-06 03:32:55.570</td>\n",
       "      <td>6333597102633388268</td>\n",
       "      <td>1.205689</td>\n",
       "      <td>1.070234</td>\n",
       "      <td>False</td>\n",
       "      <td>45.0</td>\n",
       "      <td>X5XTOcYQovkl6yadYdAD7xioVGU9jiY</td>\n",
       "      <td>...</td>\n",
       "      <td>4368617728156436525</td>\n",
       "      <td>2019-03-06 03:31:01.896438</td>\n",
       "      <td>4368617728156436525</td>\n",
       "      <td>1</td>\n",
       "      <td>1</td>\n",
       "      <td>0</td>\n",
       "      <td>2019-03-06 05:08:38.105531</td>\n",
       "      <td>5856.21</td>\n",
       "      <td>3</td>\n",
       "      <td>False</td>\n",
       "    </tr>\n",
       "  </tbody>\n",
       "</table>\n",
       "<p>5 rows × 29 columns</p>\n",
       "</div>"
      ],
      "text/plain": [
       "      advertiser_id action_id source_id_x                 created  \\\n",
       "67                2       NaN           4 2019-03-06 22:42:12.755   \n",
       "517               0       NaN           0 2019-03-08 10:24:30.641   \n",
       "611               0       NaN           0 2019-03-08 15:24:16.069   \n",
       "673               2       NaN           3 2019-03-06 03:08:51.543   \n",
       "1176              2       NaN           3 2019-03-06 03:32:55.570   \n",
       "\n",
       "             country_code  latitude  longitude  wifi_connection carrier_id  \\\n",
       "67    6333597102633388268  1.205689   1.070234            False        1.0   \n",
       "517   6333597102633388268  1.218924   1.071209            False        4.0   \n",
       "611   6333597102633388268  1.205689   1.070234            False        6.0   \n",
       "673   6333597102633388268  1.205689   1.070234            False       45.0   \n",
       "1176  6333597102633388268  1.205689   1.070234            False       45.0   \n",
       "\n",
       "                             trans_id     ...                 ref_hash  \\\n",
       "67    iGgClCM9exiHF4K31g94XmvHEBSLKIY     ...      1904083516767779093   \n",
       "517   MMHTOJ6qKAOeIH_Eywh1KIcCaxtO9oM     ...      3086509764961796666   \n",
       "611   vIrEIdf9izUaWdAri6Ezk7T3nHFvNQU     ...      6958163894863846647   \n",
       "673   YaKxxEAs2UmZhSpRfiCO9Zpa82B_AKM     ...      4368617728156436525   \n",
       "1176  X5XTOcYQovkl6yadYdAD7xioVGU9jiY     ...      4368617728156436525   \n",
       "\n",
       "                           date            device_id  platform  ref_type_id  \\\n",
       "67   2019-03-06 03:05:18.504699  1904083516767779093         1            1   \n",
       "517  2019-03-08 10:24:23.903678  3086509764961796666         1            1   \n",
       "611  2019-03-08 15:23:35.538873  6958163894863846647         1            1   \n",
       "673  2019-03-06 03:07:56.250576  4368617728156436525         1            1   \n",
       "1176 2019-03-06 03:31:01.896438  4368617728156436525         1            1   \n",
       "\n",
       "      source_id_y                  next_date  secs_to_next  hour  is_weekend  \n",
       "67              5 2019-03-08 16:37:22.716724     221524.21     3       False  \n",
       "517             0 2019-03-08 14:58:25.463601      16441.56    10       False  \n",
       "611             0 2019-03-08 15:24:40.052461         64.51    15       False  \n",
       "673             0 2019-03-06 03:24:02.524376        966.27     3       False  \n",
       "1176            0 2019-03-06 05:08:38.105531       5856.21     3       False  \n",
       "\n",
       "[5 rows x 29 columns]"
      ]
     },
     "execution_count": 9,
     "metadata": {},
     "output_type": "execute_result"
    }
   ],
   "source": [
    "clicks_on_auctions.head()"
   ]
  },
  {
   "cell_type": "code",
   "execution_count": 10,
   "metadata": {},
   "outputs": [
    {
     "data": {
      "text/plain": [
       "Text(0,0.5,'Cant. de encuestas')"
      ]
     },
     "execution_count": 10,
     "metadata": {},
     "output_type": "execute_result"
    },
    {
     "data": {
      "image/png": "[encoded data removed]",
      "text/plain": [
       "<Figure size 432x288 with 1 Axes>"
      ]
     },
     "metadata": {
      "needs_background": "light"
     },
     "output_type": "display_data"
    }
   ],
   "source": [
    "plot = clicks_on_auctions.groupby('is_weekend')['hour'].value_counts().unstack().transpose().plot.bar()\n",
    "plot.set_title('Cantidad de clicks por hora del día')\n",
    "plot.set_xlabel('Horario del dia')\n",
    "plot.set_ylabel('Cant. de encuestas')"
   ]
  },
  {
   "cell_type": "markdown",
   "metadata": {},
   "source": [
    "## Cuantos clicks se hace por subasta? "
   ]
  },
  {
   "cell_type": "code",
   "execution_count": 12,
   "metadata": {},
   "outputs": [
    {
     "data": {
      "text/plain": [
       "1    22324\n",
       "2     1046\n",
       "3       90\n",
       "4        8\n",
       "5        1\n",
       "Name: trans_id, dtype: int64"
      ]
     },
     "execution_count": 12,
     "metadata": {},
     "output_type": "execute_result"
    }
   ],
   "source": [
    "clicks_on_auctions.groupby(['device_id', 'date'], as_index=False, sort=False)['trans_id'].count()['trans_id'].value_counts()"
   ]
  }
 ],
 "metadata": {
  "kernelspec": {
   "display_name": "Python 3",
   "language": "python",
   "name": "python3"
  },
  "language_info": {
   "codemirror_mode": {
    "name": "ipython",
    "version": 3
   },
   "file_extension": ".py",
   "mimetype": "text/x-python",
   "name": "python",
   "nbconvert_exporter": "python",
   "pygments_lexer": "ipython3",
   "version": "3.7.0"
  }
 },
 "nbformat": 4,
 "nbformat_minor": 2
}
