{
 "cells": [
  {
   "cell_type": "code",
   "execution_count": 3,
   "metadata": {},
   "outputs": [
    {
     "name": "stderr",
     "output_type": "stream",
     "text": [
      "/home/manu/anaconda3/lib/python3.7/site-packages/IPython/core/interactiveshell.py:3020: DtypeWarning: Columns (12,18,19) have mixed types. Specify dtype option on import or set low_memory=False.\n",
      "  interactivity=interactivity, compiler=compiler, result=result)\n"
     ]
    },
    {
     "data": {
      "text/html": [
       "<div>\n",
       "<style scoped>\n",
       "    .dataframe tbody tr th:only-of-type {\n",
       "        vertical-align: middle;\n",
       "    }\n",
       "\n",
       "    .dataframe tbody tr th {\n",
       "        vertical-align: top;\n",
       "    }\n",
       "\n",
       "    .dataframe thead th {\n",
       "        text-align: right;\n",
       "    }\n",
       "</style>\n",
       "<table border=\"1\" class=\"dataframe\">\n",
       "  <thead>\n",
       "    <tr style=\"text-align: right;\">\n",
       "      <th></th>\n",
       "      <th>date</th>\n",
       "      <th>event_id</th>\n",
       "      <th>ref_type</th>\n",
       "      <th>ref_hash</th>\n",
       "      <th>application_id</th>\n",
       "      <th>attributed</th>\n",
       "      <th>device_countrycode</th>\n",
       "      <th>device_os_version</th>\n",
       "      <th>device_brand</th>\n",
       "      <th>device_model</th>\n",
       "      <th>...</th>\n",
       "      <th>trans_id</th>\n",
       "      <th>user_agent</th>\n",
       "      <th>event_uuid</th>\n",
       "      <th>carrier</th>\n",
       "      <th>kind</th>\n",
       "      <th>device_os</th>\n",
       "      <th>wifi</th>\n",
       "      <th>connection_type</th>\n",
       "      <th>ip_address</th>\n",
       "      <th>device_language</th>\n",
       "    </tr>\n",
       "  </thead>\n",
       "  <tbody>\n",
       "    <tr>\n",
       "      <th>0</th>\n",
       "      <td>2019-03-05 00:09:36.966</td>\n",
       "      <td>0</td>\n",
       "      <td>1891515180541284343</td>\n",
       "      <td>2688759737656491380</td>\n",
       "      <td>38</td>\n",
       "      <td>False</td>\n",
       "      <td>6333597102633388268</td>\n",
       "      <td>590,870,303,409,729,792.00</td>\n",
       "      <td>nan</td>\n",
       "      <td>5,990,116,681,709,080,576.00</td>\n",
       "      <td>...</td>\n",
       "      <td>NaN</td>\n",
       "      <td>nan</td>\n",
       "      <td>a9c0b263-acb2-4577-92c5-cbde5d7a5db1</td>\n",
       "      <td>224,815,696,425,431,552.00</td>\n",
       "      <td>5,516,623,012,570,945,536.00</td>\n",
       "      <td>7,531,669,329,342,817,280.00</td>\n",
       "      <td>NaN</td>\n",
       "      <td>Cable/DSL</td>\n",
       "      <td>7858558567428669000</td>\n",
       "      <td>407,706,219,895,259,712.00</td>\n",
       "    </tr>\n",
       "    <tr>\n",
       "      <th>1</th>\n",
       "      <td>2019-03-05 00:09:38.920</td>\n",
       "      <td>1</td>\n",
       "      <td>1891515180541284343</td>\n",
       "      <td>2688759737656491380</td>\n",
       "      <td>38</td>\n",
       "      <td>False</td>\n",
       "      <td>6333597102633388268</td>\n",
       "      <td>590,870,303,409,729,792.00</td>\n",
       "      <td>nan</td>\n",
       "      <td>5,990,116,681,709,080,576.00</td>\n",
       "      <td>...</td>\n",
       "      <td>NaN</td>\n",
       "      <td>nan</td>\n",
       "      <td>1cd98205-0d97-4ec2-a019-667997dbfe7a</td>\n",
       "      <td>224,815,696,425,431,552.00</td>\n",
       "      <td>997,766,018,131,693,568.00</td>\n",
       "      <td>7,531,669,329,342,817,280.00</td>\n",
       "      <td>NaN</td>\n",
       "      <td>Cable/DSL</td>\n",
       "      <td>7858558567428669000</td>\n",
       "      <td>407,706,219,895,259,712.00</td>\n",
       "    </tr>\n",
       "    <tr>\n",
       "      <th>2</th>\n",
       "      <td>2019-03-05 00:09:26.195</td>\n",
       "      <td>0</td>\n",
       "      <td>1891515180541284343</td>\n",
       "      <td>2688759737656491380</td>\n",
       "      <td>38</td>\n",
       "      <td>False</td>\n",
       "      <td>6333597102633388268</td>\n",
       "      <td>590,870,303,409,729,792.00</td>\n",
       "      <td>nan</td>\n",
       "      <td>5,990,116,681,709,080,576.00</td>\n",
       "      <td>...</td>\n",
       "      <td>NaN</td>\n",
       "      <td>nan</td>\n",
       "      <td>f02e2924-21ae-492b-b625-9021ae0a4eca</td>\n",
       "      <td>224,815,696,425,431,552.00</td>\n",
       "      <td>5,516,623,012,570,945,536.00</td>\n",
       "      <td>7,531,669,329,342,817,280.00</td>\n",
       "      <td>NaN</td>\n",
       "      <td>Cable/DSL</td>\n",
       "      <td>7858558567428669000</td>\n",
       "      <td>407,706,219,895,259,712.00</td>\n",
       "    </tr>\n",
       "    <tr>\n",
       "      <th>3</th>\n",
       "      <td>2019-03-05 00:09:31.107</td>\n",
       "      <td>2</td>\n",
       "      <td>1891515180541284343</td>\n",
       "      <td>2688759737656491380</td>\n",
       "      <td>38</td>\n",
       "      <td>False</td>\n",
       "      <td>6333597102633388268</td>\n",
       "      <td>590,870,303,409,729,792.00</td>\n",
       "      <td>nan</td>\n",
       "      <td>5,990,116,681,709,080,576.00</td>\n",
       "      <td>...</td>\n",
       "      <td>NaN</td>\n",
       "      <td>nan</td>\n",
       "      <td>a813cf45-a36e-4668-85e2-5395f1564e98</td>\n",
       "      <td>224,815,696,425,431,552.00</td>\n",
       "      <td>8,561,152,834,701,073,408.00</td>\n",
       "      <td>7,531,669,329,342,817,280.00</td>\n",
       "      <td>NaN</td>\n",
       "      <td>Cable/DSL</td>\n",
       "      <td>6324037615828123965</td>\n",
       "      <td>407,706,219,895,259,712.00</td>\n",
       "    </tr>\n",
       "    <tr>\n",
       "      <th>4</th>\n",
       "      <td>2019-03-09 21:00:36.585</td>\n",
       "      <td>3</td>\n",
       "      <td>1891515180541284343</td>\n",
       "      <td>2635154697734164782</td>\n",
       "      <td>38</td>\n",
       "      <td>False</td>\n",
       "      <td>6333597102633388268</td>\n",
       "      <td>7,391,843,585,977,942,016.00</td>\n",
       "      <td>nan</td>\n",
       "      <td>5,960,895,846,746,644,480.00</td>\n",
       "      <td>...</td>\n",
       "      <td>NaN</td>\n",
       "      <td>nan</td>\n",
       "      <td>63a4f0aa-e147-469f-8c55-4ca4f8d0e310</td>\n",
       "      <td>224,815,696,425,431,552.00</td>\n",
       "      <td>873,190,165,761,955,328.00</td>\n",
       "      <td>7,531,669,329,342,817,280.00</td>\n",
       "      <td>NaN</td>\n",
       "      <td>Cable/DSL</td>\n",
       "      <td>2894495631302821483</td>\n",
       "      <td>3,301,377,775,977,699,840.00</td>\n",
       "    </tr>\n",
       "  </tbody>\n",
       "</table>\n",
       "<p>5 rows × 22 columns</p>\n",
       "</div>"
      ],
      "text/plain": [
       "                      date  event_id             ref_type  \\\n",
       "0  2019-03-05 00:09:36.966         0  1891515180541284343   \n",
       "1  2019-03-05 00:09:38.920         1  1891515180541284343   \n",
       "2  2019-03-05 00:09:26.195         0  1891515180541284343   \n",
       "3  2019-03-05 00:09:31.107         2  1891515180541284343   \n",
       "4  2019-03-09 21:00:36.585         3  1891515180541284343   \n",
       "\n",
       "              ref_hash  application_id  attributed   device_countrycode  \\\n",
       "0  2688759737656491380              38       False  6333597102633388268   \n",
       "1  2688759737656491380              38       False  6333597102633388268   \n",
       "2  2688759737656491380              38       False  6333597102633388268   \n",
       "3  2688759737656491380              38       False  6333597102633388268   \n",
       "4  2635154697734164782              38       False  6333597102633388268   \n",
       "\n",
       "             device_os_version         device_brand  \\\n",
       "0   590,870,303,409,729,792.00                  nan   \n",
       "1   590,870,303,409,729,792.00                  nan   \n",
       "2   590,870,303,409,729,792.00                  nan   \n",
       "3   590,870,303,409,729,792.00                  nan   \n",
       "4 7,391,843,585,977,942,016.00                  nan   \n",
       "\n",
       "                  device_model             ...               trans_id  \\\n",
       "0 5,990,116,681,709,080,576.00             ...                    NaN   \n",
       "1 5,990,116,681,709,080,576.00             ...                    NaN   \n",
       "2 5,990,116,681,709,080,576.00             ...                    NaN   \n",
       "3 5,990,116,681,709,080,576.00             ...                    NaN   \n",
       "4 5,960,895,846,746,644,480.00             ...                    NaN   \n",
       "\n",
       "            user_agent                            event_uuid  \\\n",
       "0                  nan  a9c0b263-acb2-4577-92c5-cbde5d7a5db1   \n",
       "1                  nan  1cd98205-0d97-4ec2-a019-667997dbfe7a   \n",
       "2                  nan  f02e2924-21ae-492b-b625-9021ae0a4eca   \n",
       "3                  nan  a813cf45-a36e-4668-85e2-5395f1564e98   \n",
       "4                  nan  63a4f0aa-e147-469f-8c55-4ca4f8d0e310   \n",
       "\n",
       "                     carrier                         kind  \\\n",
       "0 224,815,696,425,431,552.00 5,516,623,012,570,945,536.00   \n",
       "1 224,815,696,425,431,552.00   997,766,018,131,693,568.00   \n",
       "2 224,815,696,425,431,552.00 5,516,623,012,570,945,536.00   \n",
       "3 224,815,696,425,431,552.00 8,561,152,834,701,073,408.00   \n",
       "4 224,815,696,425,431,552.00   873,190,165,761,955,328.00   \n",
       "\n",
       "                     device_os  wifi  connection_type           ip_address  \\\n",
       "0 7,531,669,329,342,817,280.00   NaN        Cable/DSL  7858558567428669000   \n",
       "1 7,531,669,329,342,817,280.00   NaN        Cable/DSL  7858558567428669000   \n",
       "2 7,531,669,329,342,817,280.00   NaN        Cable/DSL  7858558567428669000   \n",
       "3 7,531,669,329,342,817,280.00   NaN        Cable/DSL  6324037615828123965   \n",
       "4 7,531,669,329,342,817,280.00   NaN        Cable/DSL  2894495631302821483   \n",
       "\n",
       "               device_language  \n",
       "0   407,706,219,895,259,712.00  \n",
       "1   407,706,219,895,259,712.00  \n",
       "2   407,706,219,895,259,712.00  \n",
       "3   407,706,219,895,259,712.00  \n",
       "4 3,301,377,775,977,699,840.00  \n",
       "\n",
       "[5 rows x 22 columns]"
      ]
     },
     "execution_count": 3,
     "metadata": {},
     "output_type": "execute_result"
    }
   ],
   "source": [
    "import pandas as pd\n",
    "import numpy as np\n",
    "import matplotlib.pyplot as plt\n",
    "import seaborn as sns\n",
    "\n",
    "%matplotlib inline\n",
    "\n",
    "plt.style.use('default') # haciendo los graficos un poco mas bonitos en matplotlib\n",
    "#plt.rcParams['figure.figsize'] = (20, 10)\n",
    "\n",
    "sns.set(style=\"whitegrid\") # seteando tipo de grid en seaborn\n",
    "\n",
    "pd.options.display.float_format = '{:20,.2f}'.format # suprimimos la notacion cientifica en los outputs\n",
    "\n",
    "events = pd.read_csv('datos/events.csv.gzip', compression = 'gzip')\n",
    "events.head()"
   ]
  },
  {
   "cell_type": "code",
   "execution_count": 4,
   "metadata": {},
   "outputs": [
    {
     "data": {
      "text/plain": [
       "date                  2494423\n",
       "event_id              2494423\n",
       "ref_type              2494423\n",
       "ref_hash              2494423\n",
       "application_id        2494423\n",
       "attributed            2494423\n",
       "device_countrycode    2494423\n",
       "device_os_version     1022066\n",
       "device_brand          1164963\n",
       "device_model          2406456\n",
       "device_city            614698\n",
       "session_user_agent    2482637\n",
       "trans_id                   82\n",
       "user_agent            1391527\n",
       "event_uuid            2489324\n",
       "carrier                616434\n",
       "kind                  2489324\n",
       "device_os              657667\n",
       "wifi                  1378872\n",
       "connection_type        612463\n",
       "ip_address            2494423\n",
       "device_language       2406604\n",
       "dtype: int64"
      ]
     },
     "execution_count": 4,
     "metadata": {},
     "output_type": "execute_result"
    }
   ],
   "source": [
    "events.count()"
   ]
  },
  {
   "cell_type": "code",
   "execution_count": 5,
   "metadata": {},
   "outputs": [
    {
     "data": {
      "text/plain": [
       "568"
      ]
     },
     "execution_count": 5,
     "metadata": {},
     "output_type": "execute_result"
    }
   ],
   "source": [
    "events['event_id'].value_counts().count()"
   ]
  },
  {
   "cell_type": "markdown",
   "metadata": {},
   "source": [
    " 568 != 2494423 (len(eventos)) Esto me dice que el event_id es el \"tipo\" de evento. Pueden suceder en distintas ocasiones. Pero cada vez que genero un evento no genero un id nuevo.\n",
    "\n",
    "Algo similar sucede con application_id"
   ]
  },
  {
   "cell_type": "code",
   "execution_count": 6,
   "metadata": {},
   "outputs": [
    {
     "data": {
      "text/plain": [
       "2489324"
      ]
     },
     "execution_count": 6,
     "metadata": {},
     "output_type": "execute_result"
    }
   ],
   "source": [
    "events['event_uuid'].value_counts().count()"
   ]
  },
  {
   "cell_type": "markdown",
   "metadata": {},
   "source": [
    "Pareciera que event_uuid es unico para cada evento generado... Pero hay algunos que no tienen valor. Por que?"
   ]
  },
  {
   "cell_type": "code",
   "execution_count": 7,
   "metadata": {},
   "outputs": [
    {
     "data": {
      "text/plain": [
       "5099"
      ]
     },
     "execution_count": 7,
     "metadata": {},
     "output_type": "execute_result"
    }
   ],
   "source": [
    "events['event_uuid'].isnull().sum().sum()"
   ]
  },
  {
   "cell_type": "markdown",
   "metadata": {},
   "source": [
    "## Porcentaje de eventos atribuidos a Jampp"
   ]
  },
  {
   "cell_type": "code",
   "execution_count": 8,
   "metadata": {},
   "outputs": [
    {
     "data": {
      "text/plain": [
       "5099"
      ]
     },
     "execution_count": 8,
     "metadata": {},
     "output_type": "execute_result"
    }
   ],
   "source": [
    "cantidad_eventos_atribuidos_a_Jampp = events['attributed'].sum()\n",
    "cantidad_eventos_atribuidos_a_Jampp"
   ]
  },
  {
   "cell_type": "markdown",
   "metadata": {},
   "source": [
    "Es la misma cantidad!! De eventos con id Nulls y los que fueron atribuidos a Jampp"
   ]
  },
  {
   "cell_type": "code",
   "execution_count": 9,
   "metadata": {},
   "outputs": [
    {
     "data": {
      "text/plain": [
       "0.20441601123786943"
      ]
     },
     "execution_count": 9,
     "metadata": {},
     "output_type": "execute_result"
    }
   ],
   "source": [
    "cantidad_eventos_atribuidos_a_Jampp = float(events['attributed'].sum())\n",
    "total_eventos = len(events['attributed'])\n",
    "(cantidad_eventos_atribuidos_a_Jampp) / (total_eventos) * 100"
   ]
  },
  {
   "cell_type": "markdown",
   "metadata": {},
   "source": [
    "~ 0.2% es el porcentaje de eventos atribuidos a Jampp"
   ]
  },
  {
   "cell_type": "code",
   "execution_count": 10,
   "metadata": {},
   "outputs": [],
   "source": [
    "df = events[['attributed','event_uuid']]\n",
    "es_atribuido = df['attributed'] == True"
   ]
  },
  {
   "cell_type": "code",
   "execution_count": 11,
   "metadata": {},
   "outputs": [],
   "source": [
    "df_filtrado = df[es_atribuido]"
   ]
  },
  {
   "cell_type": "code",
   "execution_count": 12,
   "metadata": {},
   "outputs": [
    {
     "data": {
      "text/html": [
       "<div>\n",
       "<style scoped>\n",
       "    .dataframe tbody tr th:only-of-type {\n",
       "        vertical-align: middle;\n",
       "    }\n",
       "\n",
       "    .dataframe tbody tr th {\n",
       "        vertical-align: top;\n",
       "    }\n",
       "\n",
       "    .dataframe thead th {\n",
       "        text-align: right;\n",
       "    }\n",
       "</style>\n",
       "<table border=\"1\" class=\"dataframe\">\n",
       "  <thead>\n",
       "    <tr style=\"text-align: right;\">\n",
       "      <th></th>\n",
       "      <th>attributed</th>\n",
       "      <th>event_uuid</th>\n",
       "    </tr>\n",
       "  </thead>\n",
       "  <tbody>\n",
       "    <tr>\n",
       "      <th>0</th>\n",
       "      <td>False</td>\n",
       "      <td>a9c0b263-acb2-4577-92c5-cbde5d7a5db1</td>\n",
       "    </tr>\n",
       "    <tr>\n",
       "      <th>1</th>\n",
       "      <td>False</td>\n",
       "      <td>1cd98205-0d97-4ec2-a019-667997dbfe7a</td>\n",
       "    </tr>\n",
       "    <tr>\n",
       "      <th>2</th>\n",
       "      <td>False</td>\n",
       "      <td>f02e2924-21ae-492b-b625-9021ae0a4eca</td>\n",
       "    </tr>\n",
       "    <tr>\n",
       "      <th>3</th>\n",
       "      <td>False</td>\n",
       "      <td>a813cf45-a36e-4668-85e2-5395f1564e98</td>\n",
       "    </tr>\n",
       "    <tr>\n",
       "      <th>4</th>\n",
       "      <td>False</td>\n",
       "      <td>63a4f0aa-e147-469f-8c55-4ca4f8d0e310</td>\n",
       "    </tr>\n",
       "  </tbody>\n",
       "</table>\n",
       "</div>"
      ],
      "text/plain": [
       "   attributed                            event_uuid\n",
       "0       False  a9c0b263-acb2-4577-92c5-cbde5d7a5db1\n",
       "1       False  1cd98205-0d97-4ec2-a019-667997dbfe7a\n",
       "2       False  f02e2924-21ae-492b-b625-9021ae0a4eca\n",
       "3       False  a813cf45-a36e-4668-85e2-5395f1564e98\n",
       "4       False  63a4f0aa-e147-469f-8c55-4ca4f8d0e310"
      ]
     },
     "execution_count": 12,
     "metadata": {},
     "output_type": "execute_result"
    }
   ],
   "source": [
    "df.head()"
   ]
  },
  {
   "cell_type": "code",
   "execution_count": 13,
   "metadata": {},
   "outputs": [
    {
     "data": {
      "text/html": [
       "<div>\n",
       "<style scoped>\n",
       "    .dataframe tbody tr th:only-of-type {\n",
       "        vertical-align: middle;\n",
       "    }\n",
       "\n",
       "    .dataframe tbody tr th {\n",
       "        vertical-align: top;\n",
       "    }\n",
       "\n",
       "    .dataframe thead th {\n",
       "        text-align: right;\n",
       "    }\n",
       "</style>\n",
       "<table border=\"1\" class=\"dataframe\">\n",
       "  <thead>\n",
       "    <tr style=\"text-align: right;\">\n",
       "      <th></th>\n",
       "      <th>attributed</th>\n",
       "      <th>event_uuid</th>\n",
       "    </tr>\n",
       "  </thead>\n",
       "  <tbody>\n",
       "    <tr>\n",
       "      <th>11150</th>\n",
       "      <td>True</td>\n",
       "      <td>NaN</td>\n",
       "    </tr>\n",
       "    <tr>\n",
       "      <th>11151</th>\n",
       "      <td>True</td>\n",
       "      <td>NaN</td>\n",
       "    </tr>\n",
       "    <tr>\n",
       "      <th>11152</th>\n",
       "      <td>True</td>\n",
       "      <td>NaN</td>\n",
       "    </tr>\n",
       "    <tr>\n",
       "      <th>31408</th>\n",
       "      <td>True</td>\n",
       "      <td>NaN</td>\n",
       "    </tr>\n",
       "    <tr>\n",
       "      <th>31482</th>\n",
       "      <td>True</td>\n",
       "      <td>NaN</td>\n",
       "    </tr>\n",
       "  </tbody>\n",
       "</table>\n",
       "</div>"
      ],
      "text/plain": [
       "       attributed event_uuid\n",
       "11150        True        NaN\n",
       "11151        True        NaN\n",
       "11152        True        NaN\n",
       "31408        True        NaN\n",
       "31482        True        NaN"
      ]
     },
     "execution_count": 13,
     "metadata": {},
     "output_type": "execute_result"
    }
   ],
   "source": [
    "df_filtrado.head()"
   ]
  },
  {
   "cell_type": "code",
   "execution_count": 14,
   "metadata": {},
   "outputs": [
    {
     "data": {
      "text/plain": [
       "5099"
      ]
     },
     "execution_count": 14,
     "metadata": {},
     "output_type": "execute_result"
    }
   ],
   "source": [
    "df_filtrado['event_uuid'].isnull().sum().sum()"
   ]
  },
  {
   "cell_type": "code",
   "execution_count": 15,
   "metadata": {},
   "outputs": [
    {
     "data": {
      "text/plain": [
       "5099"
      ]
     },
     "execution_count": 15,
     "metadata": {},
     "output_type": "execute_result"
    }
   ],
   "source": [
    "len(df_filtrado)"
   ]
  },
  {
   "cell_type": "markdown",
   "metadata": {},
   "source": [
    "Evidentemente todos los eventos que son atribuidos a Jampp no tienen ningun uuid"
   ]
  },
  {
   "cell_type": "markdown",
   "metadata": {},
   "source": [
    "## Eventos distribuidos a lo largo del dia"
   ]
  },
  {
   "cell_type": "code",
   "execution_count": 16,
   "metadata": {},
   "outputs": [],
   "source": [
    "events['date'] = pd.to_datetime(events['date'])"
   ]
  },
  {
   "cell_type": "code",
   "execution_count": 17,
   "metadata": {},
   "outputs": [],
   "source": [
    "events['year'] = events['date'].dt.year"
   ]
  },
  {
   "cell_type": "code",
   "execution_count": 18,
   "metadata": {},
   "outputs": [
    {
     "data": {
      "text/plain": [
       "2019    2494423\n",
       "Name: year, dtype: int64"
      ]
     },
     "execution_count": 18,
     "metadata": {},
     "output_type": "execute_result"
    }
   ],
   "source": [
    "events['year'].value_counts()"
   ]
  },
  {
   "cell_type": "markdown",
   "metadata": {},
   "source": [
    "Todos los eventos se suceden en el 2019"
   ]
  },
  {
   "cell_type": "code",
   "execution_count": 19,
   "metadata": {},
   "outputs": [],
   "source": [
    "events['hour'] = events['date'].dt.hour"
   ]
  },
  {
   "cell_type": "code",
   "execution_count": 20,
   "metadata": {},
   "outputs": [
    {
     "data": {
      "text/plain": [
       "Text(0, 0.5, 'Cantidad')"
      ]
     },
     "execution_count": 20,
     "metadata": {},
     "output_type": "execute_result"
    },
    {
     "data": {
      "image/png": "[encoded data removed]",
      "text/plain": [
       "<Figure size 1080x576 with 1 Axes>"
      ]
     },
     "metadata": {
      "needs_background": "light"
     },
     "output_type": "display_data"
    }
   ],
   "source": [
    "grafico_hora = events['hour'].plot.hist(bins = 24, color = 'blue', figsize = (15,8))\n",
    "grafico_hora.set_title('Cantidad de eventos por hora', fontsize = 18)\n",
    "plt.xticks( [n for n in range(0,24,1)])\n",
    "grafico_hora.set_xlabel('hora', fontsize = 18)\n",
    "grafico_hora.set_ylabel('Cantidad', fontsize = 18)"
   ]
  },
  {
   "cell_type": "markdown",
   "metadata": {},
   "source": [
    "La mayor cantidad de eventos se generan en la tarde noche. A partir de las 00hs decaen, posiblemente debido a que la gente esta durmiendo "
   ]
  },
  {
   "cell_type": "markdown",
   "metadata": {},
   "source": [
    "## Depende del dia de la semana la cantidad de eventos"
   ]
  },
  {
   "cell_type": "code",
   "execution_count": 29,
   "metadata": {},
   "outputs": [],
   "source": [
    "events['weekday'] = events['date'].dt.weekday"
   ]
  },
  {
   "cell_type": "code",
   "execution_count": 32,
   "metadata": {},
   "outputs": [
    {
     "data": {
      "text/plain": [
       "Text(0, 0.5, 'Cantidad')"
      ]
     },
     "execution_count": 32,
     "metadata": {},
     "output_type": "execute_result"
    },
    {
     "data": {
      "image/png": "[encoded data removed]",
      "text/plain": [
       "<Figure size 1080x576 with 1 Axes>"
      ]
     },
     "metadata": {
      "needs_background": "light"
     },
     "output_type": "display_data"
    }
   ],
   "source": [
    "grafico_dia = events['weekday'].plot.hist(bins = 7, color = 'blue', figsize = (15,8))\n",
    "grafico_dia.set_title('Cantidad de eventos por dia de la semana', fontsize = 18)\n",
    "grafico_dia.set_xlabel('Dia de la semana (0 es lunes)', fontsize = 18)\n",
    "grafico_dia.set_ylabel('Cantidad', fontsize = 1)"
   ]
  },
  {
   "cell_type": "markdown",
   "metadata": {},
   "source": [
    "Tenemos un pico el martes y el miercoles. Igual que en el caso de instalaciones"
   ]
  },
  {
   "cell_type": "markdown",
   "metadata": {},
   "source": [
    "# Aplicaciones y usuarios"
   ]
  },
  {
   "cell_type": "code",
   "execution_count": 21,
   "metadata": {},
   "outputs": [
    {
     "data": {
      "text/plain": [
       "7823950631004872496    2913\n",
       "7298478026707033340    2822\n",
       "5034957474698180142    2681\n",
       "5724169280369284055    2524\n",
       "1706781657278990931    2300\n",
       "244029859389272148     2240\n",
       "7526135353349769077    2079\n",
       "8876061431560425145    2053\n",
       "99390558091295167      1966\n",
       "2514745445577342929    1925\n",
       "7932055701089699678    1880\n",
       "959309904051180368     1879\n",
       "2172957424689981672    1737\n",
       "8938936221115319274    1712\n",
       "5517347051664000025    1696\n",
       "7881865551295335841    1680\n",
       "2911380620292361100    1615\n",
       "7984059267284799536    1599\n",
       "3931396627810108588    1558\n",
       "5929807100024800254    1460\n",
       "8291491622395815056    1431\n",
       "6431911391083614553    1398\n",
       "6290225060459708362    1384\n",
       "1392381574052047210    1369\n",
       "524370095063968889     1355\n",
       "5639133576747886119    1345\n",
       "2456256724056711249    1339\n",
       "8847676025636425100    1336\n",
       "3436575239155975568    1317\n",
       "6630253456783010456    1312\n",
       "                       ... \n",
       "157629049434270787        1\n",
       "2404462553287446258       1\n",
       "9194020315316075441       1\n",
       "7813739129937447890       1\n",
       "7252925027847170864       1\n",
       "6497110467134734601       1\n",
       "7846308428567388570       1\n",
       "7450112722474049841       1\n",
       "6030838739871961810       1\n",
       "2861158773196675544       1\n",
       "4996706370106526680       1\n",
       "6153453875679286080       1\n",
       "6437303752994466598       1\n",
       "6241553451794252443       1\n",
       "3888220736043156678       1\n",
       "964510756464106068        1\n",
       "1026522613097263957       1\n",
       "4441592449899097563       1\n",
       "3187791432440347967       1\n",
       "6820016316520018347       1\n",
       "7009562562297148893       1\n",
       "5724067282482505135       1\n",
       "542920284203096810        1\n",
       "8824967259386729287       1\n",
       "4587959808658474870       1\n",
       "3863444691996527919       1\n",
       "5262023704498348823       1\n",
       "7023391121731554099       1\n",
       "5985661816547571320       1\n",
       "7797654345365407302       1\n",
       "Name: ref_hash, Length: 196049, dtype: int64"
      ]
     },
     "execution_count": 21,
     "metadata": {},
     "output_type": "execute_result"
    }
   ],
   "source": [
    "events['ref_hash'].value_counts()"
   ]
  },
  {
   "cell_type": "code",
   "execution_count": 22,
   "metadata": {},
   "outputs": [
    {
     "data": {
      "text/plain": [
       "196049"
      ]
     },
     "execution_count": 22,
     "metadata": {},
     "output_type": "execute_result"
    }
   ],
   "source": [
    "events['ref_hash'].value_counts().count()"
   ]
  },
  {
   "cell_type": "code",
   "execution_count": 23,
   "metadata": {},
   "outputs": [
    {
     "data": {
      "text/plain": [
       "269"
      ]
     },
     "execution_count": 23,
     "metadata": {},
     "output_type": "execute_result"
    }
   ],
   "source": [
    "events['application_id'].value_counts().count()"
   ]
  },
  {
   "cell_type": "markdown",
   "metadata": {},
   "source": [
    "Tengo 196049 usuarios DISTINTOS generando eventos en 269 aplicaciones distinas..."
   ]
  },
  {
   "cell_type": "markdown",
   "metadata": {},
   "source": [
    "## Aplicaciones que mas eventos generan (mas usadas?)"
   ]
  },
  {
   "cell_type": "markdown",
   "metadata": {},
   "source": [
    "Me interesaria ver en un grafico la distribucion de eventos en cantidad en cada aplicacion que hay"
   ]
  },
  {
   "cell_type": "markdown",
   "metadata": {},
   "source": [
    "Tal grafico es imposible porque son demasiadas apps"
   ]
  },
  {
   "cell_type": "code",
   "execution_count": 37,
   "metadata": {},
   "outputs": [
    {
     "data": {
      "text/plain": [
       "66     325696\n",
       "64     259084\n",
       "145    252431\n",
       "63     181555\n",
       "103    137513\n",
       "57     134498\n",
       "121    123711\n",
       "212    108489\n",
       "113     82962\n",
       "39      76448\n",
       "120     68421\n",
       "149     60326\n",
       "10      58311\n",
       "170     55820\n",
       "7       48005\n",
       "8       38972\n",
       "102     32579\n",
       "248     31070\n",
       "54      29284\n",
       "166     27611\n",
       "16      24365\n",
       "125     23018\n",
       "140     22215\n",
       "136     15362\n",
       "119     15282\n",
       "45      14321\n",
       "214     10112\n",
       "134     10003\n",
       "112      9871\n",
       "43       9336\n",
       "        ...  \n",
       "127         3\n",
       "62          3\n",
       "232         3\n",
       "91          3\n",
       "135         2\n",
       "36          2\n",
       "290         2\n",
       "49          2\n",
       "11          2\n",
       "228         2\n",
       "209         2\n",
       "206         2\n",
       "117         2\n",
       "188         2\n",
       "81          2\n",
       "322         1\n",
       "25          1\n",
       "86          1\n",
       "132         1\n",
       "146         1\n",
       "155         1\n",
       "158         1\n",
       "165         1\n",
       "240         1\n",
       "245         1\n",
       "255         1\n",
       "286         1\n",
       "295         1\n",
       "305         1\n",
       "154         1\n",
       "Name: application_id, Length: 269, dtype: int64"
      ]
     },
     "execution_count": 37,
     "metadata": {},
     "output_type": "execute_result"
    }
   ],
   "source": [
    "events['application_id'].value_counts()"
   ]
  },
  {
   "cell_type": "markdown",
   "metadata": {},
   "source": [
    "## Aplicaciones con mayor cantidad de usuarios"
   ]
  },
  {
   "cell_type": "markdown",
   "metadata": {},
   "source": [
    "Podemos ver las aplicaciones que más eventos generan. También sería interesante ver que aplicaciones son las que más usuarios distintos usan"
   ]
  },
  {
   "cell_type": "code",
   "execution_count": 25,
   "metadata": {},
   "outputs": [
    {
     "data": {
      "text/plain": [
       "36838"
      ]
     },
     "execution_count": 25,
     "metadata": {},
     "output_type": "execute_result"
    }
   ],
   "source": [
    "(events['ref_hash'].value_counts() == 1).sum()"
   ]
  },
  {
   "cell_type": "markdown",
   "metadata": {},
   "source": [
    "36838 es la cantidad de usuarios que generan 1 solo evento en alguna aplicacion... Por que alguien generaria solamente un evento...?"
   ]
  },
  {
   "cell_type": "code",
   "execution_count": 26,
   "metadata": {},
   "outputs": [
    {
     "data": {
      "text/plain": [
       "1.4768144777369354"
      ]
     },
     "execution_count": 26,
     "metadata": {},
     "output_type": "execute_result"
    }
   ],
   "source": [
    "((events['ref_hash'].value_counts() == 1).sum())/len(events)*100"
   ]
  },
  {
   "cell_type": "markdown",
   "metadata": {},
   "source": [
    "Representan solo el 1,5%... "
   ]
  },
  {
   "cell_type": "code",
   "execution_count": 35,
   "metadata": {},
   "outputs": [
    {
     "data": {
      "text/html": [
       "<div>\n",
       "<style scoped>\n",
       "    .dataframe tbody tr th:only-of-type {\n",
       "        vertical-align: middle;\n",
       "    }\n",
       "\n",
       "    .dataframe tbody tr th {\n",
       "        vertical-align: top;\n",
       "    }\n",
       "\n",
       "    .dataframe thead th {\n",
       "        text-align: right;\n",
       "    }\n",
       "</style>\n",
       "<table border=\"1\" class=\"dataframe\">\n",
       "  <thead>\n",
       "    <tr style=\"text-align: right;\">\n",
       "      <th></th>\n",
       "      <th>total_users</th>\n",
       "    </tr>\n",
       "    <tr>\n",
       "      <th>application_id</th>\n",
       "      <th></th>\n",
       "    </tr>\n",
       "  </thead>\n",
       "  <tbody>\n",
       "    <tr>\n",
       "      <th>66</th>\n",
       "      <td>70312</td>\n",
       "    </tr>\n",
       "    <tr>\n",
       "      <th>63</th>\n",
       "      <td>18419</td>\n",
       "    </tr>\n",
       "    <tr>\n",
       "      <th>145</th>\n",
       "      <td>17576</td>\n",
       "    </tr>\n",
       "    <tr>\n",
       "      <th>64</th>\n",
       "      <td>17007</td>\n",
       "    </tr>\n",
       "    <tr>\n",
       "      <th>103</th>\n",
       "      <td>15053</td>\n",
       "    </tr>\n",
       "    <tr>\n",
       "      <th>170</th>\n",
       "      <td>9739</td>\n",
       "    </tr>\n",
       "    <tr>\n",
       "      <th>212</th>\n",
       "      <td>6198</td>\n",
       "    </tr>\n",
       "    <tr>\n",
       "      <th>7</th>\n",
       "      <td>4780</td>\n",
       "    </tr>\n",
       "    <tr>\n",
       "      <th>182</th>\n",
       "      <td>4711</td>\n",
       "    </tr>\n",
       "    <tr>\n",
       "      <th>10</th>\n",
       "      <td>3974</td>\n",
       "    </tr>\n",
       "  </tbody>\n",
       "</table>\n",
       "</div>"
      ],
      "text/plain": [
       "                total_users\n",
       "application_id             \n",
       "66                    70312\n",
       "63                    18419\n",
       "145                   17576\n",
       "64                    17007\n",
       "103                   15053\n",
       "170                    9739\n",
       "212                    6198\n",
       "7                      4780\n",
       "182                    4711\n",
       "10                     3974"
      ]
     },
     "execution_count": 35,
     "metadata": {},
     "output_type": "execute_result"
    }
   ],
   "source": [
    "events_per_app = events.groupby('application_id').agg({'ref_hash':'nunique'})\n",
    "events_per_app.columns = [ 'total_users']\n",
    "events_per_app.nlargest(10, 'total_users')"
   ]
  },
  {
   "cell_type": "code",
   "execution_count": 28,
   "metadata": {},
   "outputs": [
    {
     "data": {
      "text/plain": [
       "application_id\n",
       "66     70312\n",
       "63     18419\n",
       "145    17576\n",
       "64     17007\n",
       "103    15053\n",
       "170     9739\n",
       "212     6198\n",
       "7       4780\n",
       "182     4711\n",
       "10      3974\n",
       "Name: ref_hash, dtype: int64"
      ]
     },
     "execution_count": 28,
     "metadata": {},
     "output_type": "execute_result"
    }
   ],
   "source": [
    "events.groupby('application_id')['ref_hash'].nunique().sort_values(ascending = False).head(10)"
   ]
  },
  {
   "cell_type": "markdown",
   "metadata": {},
   "source": [
    "Así podemos ver las aplicaciones que mas eventos de distintos usuarios producen. No difiere mucho de las aplicaciones que más eventos producen en general"
   ]
  },
  {
   "cell_type": "code",
   "execution_count": null,
   "metadata": {},
   "outputs": [],
   "source": []
  }
 ],
 "metadata": {
  "kernelspec": {
   "display_name": "Python 3",
   "language": "python",
   "name": "python3"
  },
  "language_info": {
   "codemirror_mode": {
    "name": "ipython",
    "version": 3
   },
   "file_extension": ".py",
   "mimetype": "text/x-python",
   "name": "python",
   "nbconvert_exporter": "python",
   "pygments_lexer": "ipython3",
   "version": "3.7.1"
  }
 },
 "nbformat": 4,
 "nbformat_minor": 2
}
