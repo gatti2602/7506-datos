{
 "cells": [
  {
   "cell_type": "code",
   "execution_count": 1,
   "metadata": {},
   "outputs": [],
   "source": [
    "import pandas as pd\n",
    "import numpy as np\n",
    "import matplotlib as mp\n",
    "import seaborn as sns"
   ]
  },
  {
   "cell_type": "code",
   "execution_count": 2,
   "metadata": {},
   "outputs": [
    {
     "name": "stderr",
     "output_type": "stream",
     "text": [
      "/home/gatti2602/.local/lib/python2.7/site-packages/IPython/core/interactiveshell.py:2714: DtypeWarning: Columns (12,18) have mixed types. Specify dtype option on import or set low_memory=False.\n",
      "  interactivity=interactivity, compiler=compiler, result=result)\n"
     ]
    }
   ],
   "source": [
    "events = pd.read_csv('../data/events.csv.gzip', compression='gzip',\\\n",
    "                     parse_dates=['date'],\\\n",
    "                     dtype={'event_id':'object',\\\n",
    "                            'application_id':'category',\\\n",
    "                            'ref_type':'int64',\\\n",
    "                            'ref_hash':'int64',\\\n",
    "                            'attributed':'bool',\\\n",
    "                            'device_countrycode':'category',\\\n",
    "                            'device_os_version':'category',\\\n",
    "                            'device_brand':'category',\\\n",
    "                            'device_model':'category',\\\n",
    "                            'device_city':'category',\\\n",
    "                            'carrier':'category',\\\n",
    "                            'event_uuid':'object',\\\n",
    "                            'device_os':'category',\\\n",
    "                            'wifi':'bool',\\\n",
    "                            'connection_type':'category'\\\n",
    "                           })"
   ]
  },
  {
   "cell_type": "code",
   "execution_count": 3,
   "metadata": {},
   "outputs": [
    {
     "data": {
      "text/html": [
       "<div>\n",
       "<style scoped>\n",
       "    .dataframe tbody tr th:only-of-type {\n",
       "        vertical-align: middle;\n",
       "    }\n",
       "\n",
       "    .dataframe tbody tr th {\n",
       "        vertical-align: top;\n",
       "    }\n",
       "\n",
       "    .dataframe thead th {\n",
       "        text-align: right;\n",
       "    }\n",
       "</style>\n",
       "<table border=\"1\" class=\"dataframe\">\n",
       "  <thead>\n",
       "    <tr style=\"text-align: right;\">\n",
       "      <th></th>\n",
       "      <th>count</th>\n",
       "      <th>unique</th>\n",
       "      <th>top</th>\n",
       "      <th>freq</th>\n",
       "      <th>first</th>\n",
       "      <th>last</th>\n",
       "      <th>mean</th>\n",
       "      <th>std</th>\n",
       "      <th>min</th>\n",
       "      <th>25%</th>\n",
       "      <th>50%</th>\n",
       "      <th>75%</th>\n",
       "      <th>max</th>\n",
       "    </tr>\n",
       "  </thead>\n",
       "  <tbody>\n",
       "    <tr>\n",
       "      <th>date</th>\n",
       "      <td>2494423</td>\n",
       "      <td>2488829</td>\n",
       "      <td>2019-03-12 14:36:58.017000</td>\n",
       "      <td>3</td>\n",
       "      <td>2019-03-05 00:00:00.255000</td>\n",
       "      <td>2019-03-13 23:59:59.984000</td>\n",
       "      <td>NaN</td>\n",
       "      <td>NaN</td>\n",
       "      <td>NaN</td>\n",
       "      <td>NaN</td>\n",
       "      <td>NaN</td>\n",
       "      <td>NaN</td>\n",
       "      <td>NaN</td>\n",
       "    </tr>\n",
       "    <tr>\n",
       "      <th>event_id</th>\n",
       "      <td>2494423</td>\n",
       "      <td>568</td>\n",
       "      <td>22</td>\n",
       "      <td>618228</td>\n",
       "      <td>NaN</td>\n",
       "      <td>NaN</td>\n",
       "      <td>NaN</td>\n",
       "      <td>NaN</td>\n",
       "      <td>NaN</td>\n",
       "      <td>NaN</td>\n",
       "      <td>NaN</td>\n",
       "      <td>NaN</td>\n",
       "      <td>NaN</td>\n",
       "    </tr>\n",
       "    <tr>\n",
       "      <th>ref_type</th>\n",
       "      <td>2.49442e+06</td>\n",
       "      <td>NaN</td>\n",
       "      <td>NaN</td>\n",
       "      <td>NaN</td>\n",
       "      <td>NaN</td>\n",
       "      <td>NaN</td>\n",
       "      <td>1.79416e+18</td>\n",
       "      <td>1.70794e+17</td>\n",
       "      <td>1.49452e+18</td>\n",
       "      <td>1.89152e+18</td>\n",
       "      <td>1.89152e+18</td>\n",
       "      <td>1.89152e+18</td>\n",
       "      <td>1.89152e+18</td>\n",
       "    </tr>\n",
       "    <tr>\n",
       "      <th>ref_hash</th>\n",
       "      <td>2.49442e+06</td>\n",
       "      <td>NaN</td>\n",
       "      <td>NaN</td>\n",
       "      <td>NaN</td>\n",
       "      <td>NaN</td>\n",
       "      <td>NaN</td>\n",
       "      <td>4.64149e+18</td>\n",
       "      <td>2.66072e+18</td>\n",
       "      <td>1.63368e+14</td>\n",
       "      <td>2.32614e+18</td>\n",
       "      <td>4.68896e+18</td>\n",
       "      <td>6.92759e+18</td>\n",
       "      <td>9.22332e+18</td>\n",
       "    </tr>\n",
       "    <tr>\n",
       "      <th>application_id</th>\n",
       "      <td>2494423</td>\n",
       "      <td>269</td>\n",
       "      <td>66</td>\n",
       "      <td>325696</td>\n",
       "      <td>NaN</td>\n",
       "      <td>NaN</td>\n",
       "      <td>NaN</td>\n",
       "      <td>NaN</td>\n",
       "      <td>NaN</td>\n",
       "      <td>NaN</td>\n",
       "      <td>NaN</td>\n",
       "      <td>NaN</td>\n",
       "      <td>NaN</td>\n",
       "    </tr>\n",
       "    <tr>\n",
       "      <th>attributed</th>\n",
       "      <td>2494423</td>\n",
       "      <td>2</td>\n",
       "      <td>False</td>\n",
       "      <td>2489324</td>\n",
       "      <td>NaN</td>\n",
       "      <td>NaN</td>\n",
       "      <td>NaN</td>\n",
       "      <td>NaN</td>\n",
       "      <td>NaN</td>\n",
       "      <td>NaN</td>\n",
       "      <td>NaN</td>\n",
       "      <td>NaN</td>\n",
       "      <td>NaN</td>\n",
       "    </tr>\n",
       "    <tr>\n",
       "      <th>device_countrycode</th>\n",
       "      <td>2494423</td>\n",
       "      <td>1</td>\n",
       "      <td>6333597102633388268</td>\n",
       "      <td>2494423</td>\n",
       "      <td>NaN</td>\n",
       "      <td>NaN</td>\n",
       "      <td>NaN</td>\n",
       "      <td>NaN</td>\n",
       "      <td>NaN</td>\n",
       "      <td>NaN</td>\n",
       "      <td>NaN</td>\n",
       "      <td>NaN</td>\n",
       "      <td>NaN</td>\n",
       "    </tr>\n",
       "    <tr>\n",
       "      <th>device_os_version</th>\n",
       "      <td>1022066</td>\n",
       "      <td>81</td>\n",
       "      <td>4.3537503246500966e+18</td>\n",
       "      <td>277691</td>\n",
       "      <td>NaN</td>\n",
       "      <td>NaN</td>\n",
       "      <td>NaN</td>\n",
       "      <td>NaN</td>\n",
       "      <td>NaN</td>\n",
       "      <td>NaN</td>\n",
       "      <td>NaN</td>\n",
       "      <td>NaN</td>\n",
       "      <td>NaN</td>\n",
       "    </tr>\n",
       "    <tr>\n",
       "      <th>device_brand</th>\n",
       "      <td>1164963</td>\n",
       "      <td>250</td>\n",
       "      <td>3.083058605577787e+17</td>\n",
       "      <td>579861</td>\n",
       "      <td>NaN</td>\n",
       "      <td>NaN</td>\n",
       "      <td>NaN</td>\n",
       "      <td>NaN</td>\n",
       "      <td>NaN</td>\n",
       "      <td>NaN</td>\n",
       "      <td>NaN</td>\n",
       "      <td>NaN</td>\n",
       "      <td>NaN</td>\n",
       "    </tr>\n",
       "    <tr>\n",
       "      <th>device_model</th>\n",
       "      <td>2406456</td>\n",
       "      <td>2624</td>\n",
       "      <td>2.33194661091417e+18</td>\n",
       "      <td>210697</td>\n",
       "      <td>NaN</td>\n",
       "      <td>NaN</td>\n",
       "      <td>NaN</td>\n",
       "      <td>NaN</td>\n",
       "      <td>NaN</td>\n",
       "      <td>NaN</td>\n",
       "      <td>NaN</td>\n",
       "      <td>NaN</td>\n",
       "      <td>NaN</td>\n",
       "    </tr>\n",
       "    <tr>\n",
       "      <th>device_city</th>\n",
       "      <td>614698</td>\n",
       "      <td>127</td>\n",
       "      <td>3.8000799488967747e+18</td>\n",
       "      <td>561876</td>\n",
       "      <td>NaN</td>\n",
       "      <td>NaN</td>\n",
       "      <td>NaN</td>\n",
       "      <td>NaN</td>\n",
       "      <td>NaN</td>\n",
       "      <td>NaN</td>\n",
       "      <td>NaN</td>\n",
       "      <td>NaN</td>\n",
       "      <td>NaN</td>\n",
       "    </tr>\n",
       "    <tr>\n",
       "      <th>session_user_agent</th>\n",
       "      <td>2.48264e+06</td>\n",
       "      <td>NaN</td>\n",
       "      <td>NaN</td>\n",
       "      <td>NaN</td>\n",
       "      <td>NaN</td>\n",
       "      <td>NaN</td>\n",
       "      <td>4.71931e+18</td>\n",
       "      <td>1.76956e+18</td>\n",
       "      <td>5.52763e+15</td>\n",
       "      <td>3.81952e+18</td>\n",
       "      <td>3.81952e+18</td>\n",
       "      <td>7.16432e+18</td>\n",
       "      <td>9.22095e+18</td>\n",
       "    </tr>\n",
       "    <tr>\n",
       "      <th>trans_id</th>\n",
       "      <td>82</td>\n",
       "      <td>13</td>\n",
       "      <td>{hash}</td>\n",
       "      <td>33</td>\n",
       "      <td>NaN</td>\n",
       "      <td>NaN</td>\n",
       "      <td>NaN</td>\n",
       "      <td>NaN</td>\n",
       "      <td>NaN</td>\n",
       "      <td>NaN</td>\n",
       "      <td>NaN</td>\n",
       "      <td>NaN</td>\n",
       "      <td>NaN</td>\n",
       "    </tr>\n",
       "    <tr>\n",
       "      <th>user_agent</th>\n",
       "      <td>1.39153e+06</td>\n",
       "      <td>NaN</td>\n",
       "      <td>NaN</td>\n",
       "      <td>NaN</td>\n",
       "      <td>NaN</td>\n",
       "      <td>NaN</td>\n",
       "      <td>4.85649e+18</td>\n",
       "      <td>2.48755e+18</td>\n",
       "      <td>5.07253e+15</td>\n",
       "      <td>2.72347e+18</td>\n",
       "      <td>5.02294e+18</td>\n",
       "      <td>6.84086e+18</td>\n",
       "      <td>9.22328e+18</td>\n",
       "    </tr>\n",
       "    <tr>\n",
       "      <th>event_uuid</th>\n",
       "      <td>2489324</td>\n",
       "      <td>2489324</td>\n",
       "      <td>f3277538-2a0d-46ce-97bd-c5a65f2c675b</td>\n",
       "      <td>1</td>\n",
       "      <td>NaN</td>\n",
       "      <td>NaN</td>\n",
       "      <td>NaN</td>\n",
       "      <td>NaN</td>\n",
       "      <td>NaN</td>\n",
       "      <td>NaN</td>\n",
       "      <td>NaN</td>\n",
       "      <td>NaN</td>\n",
       "      <td>NaN</td>\n",
       "    </tr>\n",
       "    <tr>\n",
       "      <th>carrier</th>\n",
       "      <td>616434</td>\n",
       "      <td>84</td>\n",
       "      <td>2.2481569642543155e+17</td>\n",
       "      <td>436983</td>\n",
       "      <td>NaN</td>\n",
       "      <td>NaN</td>\n",
       "      <td>NaN</td>\n",
       "      <td>NaN</td>\n",
       "      <td>NaN</td>\n",
       "      <td>NaN</td>\n",
       "      <td>NaN</td>\n",
       "      <td>NaN</td>\n",
       "      <td>NaN</td>\n",
       "    </tr>\n",
       "    <tr>\n",
       "      <th>kind</th>\n",
       "      <td>2.48932e+06</td>\n",
       "      <td>NaN</td>\n",
       "      <td>NaN</td>\n",
       "      <td>NaN</td>\n",
       "      <td>NaN</td>\n",
       "      <td>NaN</td>\n",
       "      <td>5.36436e+18</td>\n",
       "      <td>2.24298e+18</td>\n",
       "      <td>7.75827e+16</td>\n",
       "      <td>4.64795e+18</td>\n",
       "      <td>5.50085e+18</td>\n",
       "      <td>6.16967e+18</td>\n",
       "      <td>9.21547e+18</td>\n",
       "    </tr>\n",
       "    <tr>\n",
       "      <th>device_os</th>\n",
       "      <td>657667</td>\n",
       "      <td>4</td>\n",
       "      <td>7.531669329342818e+18</td>\n",
       "      <td>389811</td>\n",
       "      <td>NaN</td>\n",
       "      <td>NaN</td>\n",
       "      <td>NaN</td>\n",
       "      <td>NaN</td>\n",
       "      <td>NaN</td>\n",
       "      <td>NaN</td>\n",
       "      <td>NaN</td>\n",
       "      <td>NaN</td>\n",
       "      <td>NaN</td>\n",
       "    </tr>\n",
       "    <tr>\n",
       "      <th>wifi</th>\n",
       "      <td>1378872</td>\n",
       "      <td>2</td>\n",
       "      <td>True</td>\n",
       "      <td>930902</td>\n",
       "      <td>NaN</td>\n",
       "      <td>NaN</td>\n",
       "      <td>NaN</td>\n",
       "      <td>NaN</td>\n",
       "      <td>NaN</td>\n",
       "      <td>NaN</td>\n",
       "      <td>NaN</td>\n",
       "      <td>NaN</td>\n",
       "      <td>NaN</td>\n",
       "    </tr>\n",
       "    <tr>\n",
       "      <th>connection_type</th>\n",
       "      <td>612463</td>\n",
       "      <td>3</td>\n",
       "      <td>Cable/DSL</td>\n",
       "      <td>331948</td>\n",
       "      <td>NaN</td>\n",
       "      <td>NaN</td>\n",
       "      <td>NaN</td>\n",
       "      <td>NaN</td>\n",
       "      <td>NaN</td>\n",
       "      <td>NaN</td>\n",
       "      <td>NaN</td>\n",
       "      <td>NaN</td>\n",
       "      <td>NaN</td>\n",
       "    </tr>\n",
       "    <tr>\n",
       "      <th>ip_address</th>\n",
       "      <td>2.49442e+06</td>\n",
       "      <td>NaN</td>\n",
       "      <td>NaN</td>\n",
       "      <td>NaN</td>\n",
       "      <td>NaN</td>\n",
       "      <td>NaN</td>\n",
       "      <td>4.62079e+18</td>\n",
       "      <td>2.67275e+18</td>\n",
       "      <td>5.28776e+12</td>\n",
       "      <td>2.33341e+18</td>\n",
       "      <td>4.5415e+18</td>\n",
       "      <td>7.04431e+18</td>\n",
       "      <td>9.22337e+18</td>\n",
       "    </tr>\n",
       "    <tr>\n",
       "      <th>device_language</th>\n",
       "      <td>2.4066e+06</td>\n",
       "      <td>NaN</td>\n",
       "      <td>NaN</td>\n",
       "      <td>NaN</td>\n",
       "      <td>NaN</td>\n",
       "      <td>NaN</td>\n",
       "      <td>5.86545e+18</td>\n",
       "      <td>2.28119e+18</td>\n",
       "      <td>2.02581e+16</td>\n",
       "      <td>3.30138e+18</td>\n",
       "      <td>6.80443e+18</td>\n",
       "      <td>6.97705e+18</td>\n",
       "      <td>9.18788e+18</td>\n",
       "    </tr>\n",
       "  </tbody>\n",
       "</table>\n",
       "</div>"
      ],
      "text/plain": [
       "                          count   unique  \\\n",
       "date                    2494423  2488829   \n",
       "event_id                2494423      568   \n",
       "ref_type            2.49442e+06      NaN   \n",
       "ref_hash            2.49442e+06      NaN   \n",
       "application_id          2494423      269   \n",
       "attributed              2494423        2   \n",
       "device_countrycode      2494423        1   \n",
       "device_os_version       1022066       81   \n",
       "device_brand            1164963      250   \n",
       "device_model            2406456     2624   \n",
       "device_city              614698      127   \n",
       "session_user_agent  2.48264e+06      NaN   \n",
       "trans_id                     82       13   \n",
       "user_agent          1.39153e+06      NaN   \n",
       "event_uuid              2489324  2489324   \n",
       "carrier                  616434       84   \n",
       "kind                2.48932e+06      NaN   \n",
       "device_os                657667        4   \n",
       "wifi                    1378872        2   \n",
       "connection_type          612463        3   \n",
       "ip_address          2.49442e+06      NaN   \n",
       "device_language      2.4066e+06      NaN   \n",
       "\n",
       "                                                     top     freq  \\\n",
       "date                          2019-03-12 14:36:58.017000        3   \n",
       "event_id                                              22   618228   \n",
       "ref_type                                             NaN      NaN   \n",
       "ref_hash                                             NaN      NaN   \n",
       "application_id                                        66   325696   \n",
       "attributed                                         False  2489324   \n",
       "device_countrycode                   6333597102633388268  2494423   \n",
       "device_os_version                 4.3537503246500966e+18   277691   \n",
       "device_brand                       3.083058605577787e+17   579861   \n",
       "device_model                        2.33194661091417e+18   210697   \n",
       "device_city                       3.8000799488967747e+18   561876   \n",
       "session_user_agent                                   NaN      NaN   \n",
       "trans_id                                          {hash}       33   \n",
       "user_agent                                           NaN      NaN   \n",
       "event_uuid          f3277538-2a0d-46ce-97bd-c5a65f2c675b        1   \n",
       "carrier                           2.2481569642543155e+17   436983   \n",
       "kind                                                 NaN      NaN   \n",
       "device_os                          7.531669329342818e+18   389811   \n",
       "wifi                                                True   930902   \n",
       "connection_type                                Cable/DSL   331948   \n",
       "ip_address                                           NaN      NaN   \n",
       "device_language                                      NaN      NaN   \n",
       "\n",
       "                                         first                        last  \\\n",
       "date                2019-03-05 00:00:00.255000  2019-03-13 23:59:59.984000   \n",
       "event_id                                   NaN                         NaN   \n",
       "ref_type                                   NaN                         NaN   \n",
       "ref_hash                                   NaN                         NaN   \n",
       "application_id                             NaN                         NaN   \n",
       "attributed                                 NaN                         NaN   \n",
       "device_countrycode                         NaN                         NaN   \n",
       "device_os_version                          NaN                         NaN   \n",
       "device_brand                               NaN                         NaN   \n",
       "device_model                               NaN                         NaN   \n",
       "device_city                                NaN                         NaN   \n",
       "session_user_agent                         NaN                         NaN   \n",
       "trans_id                                   NaN                         NaN   \n",
       "user_agent                                 NaN                         NaN   \n",
       "event_uuid                                 NaN                         NaN   \n",
       "carrier                                    NaN                         NaN   \n",
       "kind                                       NaN                         NaN   \n",
       "device_os                                  NaN                         NaN   \n",
       "wifi                                       NaN                         NaN   \n",
       "connection_type                            NaN                         NaN   \n",
       "ip_address                                 NaN                         NaN   \n",
       "device_language                            NaN                         NaN   \n",
       "\n",
       "                           mean          std          min          25%  \\\n",
       "date                        NaN          NaN          NaN          NaN   \n",
       "event_id                    NaN          NaN          NaN          NaN   \n",
       "ref_type            1.79416e+18  1.70794e+17  1.49452e+18  1.89152e+18   \n",
       "ref_hash            4.64149e+18  2.66072e+18  1.63368e+14  2.32614e+18   \n",
       "application_id              NaN          NaN          NaN          NaN   \n",
       "attributed                  NaN          NaN          NaN          NaN   \n",
       "device_countrycode          NaN          NaN          NaN          NaN   \n",
       "device_os_version           NaN          NaN          NaN          NaN   \n",
       "device_brand                NaN          NaN          NaN          NaN   \n",
       "device_model                NaN          NaN          NaN          NaN   \n",
       "device_city                 NaN          NaN          NaN          NaN   \n",
       "session_user_agent  4.71931e+18  1.76956e+18  5.52763e+15  3.81952e+18   \n",
       "trans_id                    NaN          NaN          NaN          NaN   \n",
       "user_agent          4.85649e+18  2.48755e+18  5.07253e+15  2.72347e+18   \n",
       "event_uuid                  NaN          NaN          NaN          NaN   \n",
       "carrier                     NaN          NaN          NaN          NaN   \n",
       "kind                5.36436e+18  2.24298e+18  7.75827e+16  4.64795e+18   \n",
       "device_os                   NaN          NaN          NaN          NaN   \n",
       "wifi                        NaN          NaN          NaN          NaN   \n",
       "connection_type             NaN          NaN          NaN          NaN   \n",
       "ip_address          4.62079e+18  2.67275e+18  5.28776e+12  2.33341e+18   \n",
       "device_language     5.86545e+18  2.28119e+18  2.02581e+16  3.30138e+18   \n",
       "\n",
       "                            50%          75%          max  \n",
       "date                        NaN          NaN          NaN  \n",
       "event_id                    NaN          NaN          NaN  \n",
       "ref_type            1.89152e+18  1.89152e+18  1.89152e+18  \n",
       "ref_hash            4.68896e+18  6.92759e+18  9.22332e+18  \n",
       "application_id              NaN          NaN          NaN  \n",
       "attributed                  NaN          NaN          NaN  \n",
       "device_countrycode          NaN          NaN          NaN  \n",
       "device_os_version           NaN          NaN          NaN  \n",
       "device_brand                NaN          NaN          NaN  \n",
       "device_model                NaN          NaN          NaN  \n",
       "device_city                 NaN          NaN          NaN  \n",
       "session_user_agent  3.81952e+18  7.16432e+18  9.22095e+18  \n",
       "trans_id                    NaN          NaN          NaN  \n",
       "user_agent          5.02294e+18  6.84086e+18  9.22328e+18  \n",
       "event_uuid                  NaN          NaN          NaN  \n",
       "carrier                     NaN          NaN          NaN  \n",
       "kind                5.50085e+18  6.16967e+18  9.21547e+18  \n",
       "device_os                   NaN          NaN          NaN  \n",
       "wifi                        NaN          NaN          NaN  \n",
       "connection_type             NaN          NaN          NaN  \n",
       "ip_address           4.5415e+18  7.04431e+18  9.22337e+18  \n",
       "device_language     6.80443e+18  6.97705e+18  9.18788e+18  "
      ]
     },
     "execution_count": 3,
     "metadata": {},
     "output_type": "execute_result"
    }
   ],
   "source": [
    "events.describe(include='all').transpose()"
   ]
  },
  {
   "cell_type": "markdown",
   "metadata": {},
   "source": [
    "**device_country_code** es unico por lo que no aporta informacion para segmentar los datos.\n",
    "**event_uuid** es clave unica para cada registro"
   ]
  },
  {
   "cell_type": "code",
   "execution_count": 4,
   "metadata": {},
   "outputs": [
    {
     "data": {
      "text/plain": [
       "(2494423, 22)"
      ]
     },
     "execution_count": 4,
     "metadata": {},
     "output_type": "execute_result"
    }
   ],
   "source": [
    "events.shape"
   ]
  },
  {
   "cell_type": "code",
   "execution_count": 5,
   "metadata": {},
   "outputs": [
    {
     "name": "stdout",
     "output_type": "stream",
     "text": [
      "<class 'pandas.core.frame.DataFrame'>\n",
      "RangeIndex: 2494423 entries, 0 to 2494422\n",
      "Data columns (total 22 columns):\n",
      "date                  datetime64[ns]\n",
      "event_id              object\n",
      "ref_type              int64\n",
      "ref_hash              int64\n",
      "application_id        category\n",
      "attributed            bool\n",
      "device_countrycode    category\n",
      "device_os_version     category\n",
      "device_brand          category\n",
      "device_model          category\n",
      "device_city           category\n",
      "session_user_agent    float64\n",
      "trans_id              object\n",
      "user_agent            float64\n",
      "event_uuid            object\n",
      "carrier               category\n",
      "kind                  float64\n",
      "device_os             category\n",
      "wifi                  object\n",
      "connection_type       category\n",
      "ip_address            int64\n",
      "device_language       float64\n",
      "dtypes: bool(1), category(9), datetime64[ns](1), float64(4), int64(3), object(4)\n",
      "memory usage: 261.8+ MB\n"
     ]
    }
   ],
   "source": [
    "events.info()"
   ]
  },
  {
   "cell_type": "code",
   "execution_count": 6,
   "metadata": {},
   "outputs": [],
   "source": [
    "events.sort_values(by=['ref_hash','application_id','date'], inplace=True)"
   ]
  },
  {
   "cell_type": "code",
   "execution_count": 7,
   "metadata": {},
   "outputs": [],
   "source": [
    "events['next_date'] = events.groupby(['ref_hash','application_id'], as_index = False, sort=False)['date']\\\n",
    "                                              .transform(lambda x: x.shift(-1))"
   ]
  },
  {
   "cell_type": "code",
   "execution_count": 8,
   "metadata": {},
   "outputs": [],
   "source": [
    "events['next_event'] = events.groupby(['ref_hash','application_id'], as_index = False, sort=False)['event_id']\\\n",
    "                                              .transform(lambda x: x.shift(-1))"
   ]
  },
  {
   "cell_type": "code",
   "execution_count": 9,
   "metadata": {},
   "outputs": [],
   "source": [
    "events['next_event_2'] = events.groupby(['ref_hash','application_id'], as_index = False, sort=False)['event_id']\\\n",
    "                                              .transform(lambda x: x.shift(-2))"
   ]
  },
  {
   "cell_type": "code",
   "execution_count": 10,
   "metadata": {},
   "outputs": [],
   "source": [
    "events = events.loc[(~events['next_date'].isnull())]\n",
    "events['secs_to_next'] = (events['next_date'] - events['date'])\\\n",
    "                                        .transform(lambda x: round(x.total_seconds(), 2))\n",
    "events['hour'] = events['date'].dt.hour\n",
    "events['is_weekend'] = events['date'].dt.weekday >= 5"
   ]
  },
  {
   "cell_type": "markdown",
   "metadata": {},
   "source": [
    "## Tiempo entre eventos"
   ]
  },
  {
   "cell_type": "code",
   "execution_count": 11,
   "metadata": {},
   "outputs": [
    {
     "data": {
      "text/plain": [
       "Text(0.5,0,'Tiempo (Seg.)')"
      ]
     },
     "execution_count": 11,
     "metadata": {},
     "output_type": "execute_result"
    },
    {
     "data": {
      "image/png": "[encoded data removed]",
      "text/plain": [
       "<Figure size 432x288 with 1 Axes>"
      ]
     },
     "metadata": {},
     "output_type": "display_data"
    }
   ],
   "source": [
    "plt = events['secs_to_next'].loc[((events['secs_to_next'] < (10)) & (events['secs_to_next'] > 0))].hist(bins=200, density=True)\n",
    "plt.set_title(\"Tiempo entre eventos\")\n",
    "plt.set_xlabel(\"Tiempo (Seg.)\")"
   ]
  },
  {
   "cell_type": "markdown",
   "metadata": {},
   "source": [
    "Se pueden ver dos picos, el primero ocurre muy cerca del 0, por lo que parece que se debe a dos eventos que ocurren en paralelo. \n",
    "Lo interesante es que practicamente todos los eventos ocurren en intervalos de no mas de 3 segundos. Tomamos 5 segundos como intervalo para no considerar que los eventos estan relacionado con el evento siguiente"
   ]
  },
  {
   "cell_type": "markdown",
   "metadata": {},
   "source": [
    "## Cual es la secuencia de eventos mas comun? \n",
    "\n",
    "Para este analisis se separan las secuencias de eventos diferentes, y se cuentan las secuencias. \n",
    "\n",
    "Consideraciones: \n",
    "* Si se demora mas de 5 segundos entre eventos se los considera no relacionados.\n",
    "* Solo se consideran secuencias de eventos distintos, si el usuario realiza el mismo evento varias veces no se tiene en cuenta"
   ]
  },
  {
   "cell_type": "code",
   "execution_count": 12,
   "metadata": {},
   "outputs": [],
   "source": [
    "events['n'] = 1\n",
    "e_list = events.loc[((events['secs_to_next'] < 5) & (events['event_id'] != events['next_event']))]"
   ]
  },
  {
   "cell_type": "code",
   "execution_count": 13,
   "metadata": {},
   "outputs": [
    {
     "data": {
      "text/html": [
       "<div>\n",
       "<style scoped>\n",
       "    .dataframe tbody tr th:only-of-type {\n",
       "        vertical-align: middle;\n",
       "    }\n",
       "\n",
       "    .dataframe tbody tr th {\n",
       "        vertical-align: top;\n",
       "    }\n",
       "\n",
       "    .dataframe thead th {\n",
       "        text-align: right;\n",
       "    }\n",
       "</style>\n",
       "<table border=\"1\" class=\"dataframe\">\n",
       "  <thead>\n",
       "    <tr style=\"text-align: right;\">\n",
       "      <th></th>\n",
       "      <th>event_id</th>\n",
       "      <th>next_event</th>\n",
       "      <th>n</th>\n",
       "    </tr>\n",
       "  </thead>\n",
       "  <tbody>\n",
       "    <tr>\n",
       "      <th>0</th>\n",
       "      <td>0</td>\n",
       "      <td>1</td>\n",
       "      <td>15</td>\n",
       "    </tr>\n",
       "    <tr>\n",
       "      <th>1</th>\n",
       "      <td>0</td>\n",
       "      <td>2</td>\n",
       "      <td>7</td>\n",
       "    </tr>\n",
       "    <tr>\n",
       "      <th>2</th>\n",
       "      <td>1</td>\n",
       "      <td>112</td>\n",
       "      <td>17</td>\n",
       "    </tr>\n",
       "    <tr>\n",
       "      <th>3</th>\n",
       "      <td>1</td>\n",
       "      <td>113</td>\n",
       "      <td>44</td>\n",
       "    </tr>\n",
       "    <tr>\n",
       "      <th>4</th>\n",
       "      <td>1</td>\n",
       "      <td>117</td>\n",
       "      <td>1</td>\n",
       "    </tr>\n",
       "  </tbody>\n",
       "</table>\n",
       "</div>"
      ],
      "text/plain": [
       "  event_id next_event   n\n",
       "0        0          1  15\n",
       "1        0          2   7\n",
       "2        1        112  17\n",
       "3        1        113  44\n",
       "4        1        117   1"
      ]
     },
     "execution_count": 13,
     "metadata": {},
     "output_type": "execute_result"
    }
   ],
   "source": [
    "cant_sec = e_list.groupby(['event_id','next_event'], as_index=False)['n'].sum().dropna()"
   ]
  },
  {
   "cell_type": "code",
   "execution_count": 14,
   "metadata": {},
   "outputs": [
    {
     "data": {
      "text/plain": [
       "Text(0.5,0,'Secuencia de 2 eventos')"
      ]
     },
     "execution_count": 14,
     "metadata": {},
     "output_type": "execute_result"
    },
    {
     "data": {
      "image/png": "[encoded data removed]",
      "text/plain": [
       "<Figure size 432x288 with 1 Axes>"
      ]
     },
     "metadata": {},
     "output_type": "display_data"
    }
   ],
   "source": [
    "plt = cant_sec.sort_values(by='n',ascending=False).head(20).set_index(['event_id','next_event'])['n'].plot.bar()\n",
    "plt.set_title('Par de eventos mas comunes')\n",
    "plt.set_xlabel('Secuencia de 2 eventos')"
   ]
  },
  {
   "cell_type": "markdown",
   "metadata": {},
   "source": [
    "Si considero que luego de 5 segundos sin interaccion, se dejo de usar la aplicacion, llamo a este evento \"Fin\":"
   ]
  },
  {
   "cell_type": "code",
   "execution_count": 17,
   "metadata": {},
   "outputs": [],
   "source": [
    "events['next_event_cfin'] = events['next_event']\n",
    "events.loc[(events['secs_to_next'] > 5), 'next_event_cfin'] = 'Fin'"
   ]
  },
  {
   "cell_type": "code",
   "execution_count": 21,
   "metadata": {},
   "outputs": [
    {
     "data": {
      "text/plain": [
       "Text(0.5,0,'Secuencia de 2 eventos')"
      ]
     },
     "execution_count": 21,
     "metadata": {},
     "output_type": "execute_result"
    },
    {
     "data": {
      "image/png": "[encoded data removed]",
      "text/plain": [
       "<Figure size 432x288 with 1 Axes>"
      ]
     },
     "metadata": {},
     "output_type": "display_data"
    }
   ],
   "source": [
    "plt = events.groupby(['event_id','next_event_cfin'], as_index=False)['n'].sum().dropna().sort_values(by='n',ascending=False).head(20).set_index(['event_id','next_event_cfin'])['n'].plot.bar()\n",
    "plt.set_title('Par de eventos mas comunes, con fin de uso')\n",
    "plt.set_xlabel('Secuencia de 2 eventos')"
   ]
  },
  {
   "cell_type": "markdown",
   "metadata": {},
   "source": [
    "### Secuencia de 3 eventos:"
   ]
  },
  {
   "cell_type": "code",
   "execution_count": 24,
   "metadata": {},
   "outputs": [
    {
     "data": {
      "text/plain": [
       "Text(0.5,0,'Secuencia de 3 eventos')"
      ]
     },
     "execution_count": 24,
     "metadata": {},
     "output_type": "execute_result"
    },
    {
     "data": {
      "image/png": "[encoded data removed]",
      "text/plain": [
       "<Figure size 432x288 with 1 Axes>"
      ]
     },
     "metadata": {},
     "output_type": "display_data"
    }
   ],
   "source": [
    "e_list = events.loc[((events['secs_to_next'] < 5) & (events['event_id'] != events['next_event']) & (events['next_event'] != events['next_event_2']))]\n",
    "cant_sec = e_list.groupby(['event_id','next_event','next_event_2'], as_index=False)['n'].sum().dropna()\n",
    "plt = cant_sec.sort_values(by='n',ascending=False).head(20).set_index(['event_id','next_event','next_event_2'])['n'].plot.bar()\n",
    "plt.set_title('Terna de eventos mas comunes')\n",
    "plt.set_xlabel('Secuencia de 3 eventos')"
   ]
  }
 ],
 "metadata": {
  "kernelspec": {
   "display_name": "Python 2",
   "language": "python",
   "name": "python2"
  },
  "language_info": {
   "codemirror_mode": {
    "name": "ipython",
    "version": 3
   },
   "file_extension": ".py",
   "mimetype": "text/x-python",
   "name": "python",
   "nbconvert_exporter": "python",
   "pygments_lexer": "ipython3",
   "version": "3.7.0"
  }
 },
 "nbformat": 4,
 "nbformat_minor": 2
}
