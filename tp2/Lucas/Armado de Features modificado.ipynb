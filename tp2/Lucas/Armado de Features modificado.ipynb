{
 "cells": [
  {
   "cell_type": "code",
   "execution_count": 3,
   "metadata": {
    "collapsed": true
   },
   "outputs": [],
   "source": [
    "import pandas as pd\n",
    "import matplotlib as mp\n",
    "import numpy as np\n",
    "from datetime import timedelta\n",
    "import datetime as dt\n",
    "\n",
    "%matplotlib inline\n",
    "\n",
    "#Root de archivos de datos\n",
    "root_dir = '../data/'\n",
    "\n",
    "#Lee menos data si es testing\n",
    "is_testing = False\n",
    "\n",
    "# Cantidad minima de aparicion de equipos en un dataframe\n",
    "#min_devices = 5\n",
    "min_devices = 20\n",
    "\n",
    "# Identificador unico de equipos\n",
    "device_uuid = ['ref_hash']\n",
    "\n",
    "# Ventanas de tiempo\n",
    "windows = pd.DataFrame({\n",
    "    'begin_date': [dt.datetime(2019,4,18),dt.datetime(2019,4,21),dt.datetime(2019,4,24)],\n",
    "    'window_nr':[1,2,3]\n",
    "})"
   ]
  },
  {
   "cell_type": "markdown",
   "metadata": {},
   "source": [
    "# Armado de Features\n",
    "\n",
    "Se utilizan 3 ventanas de tiempo y se procesan los dataframes para obtener features de esas 3 ventanas por separado. \n",
    "\n",
    "Como resultado se obtiene un dataset de features mas grande cuyos datos no se solapan en tiempo. Por lo que son validos para la prediccion. \n",
    "\n",
    "Se realiza la lectura y limpiado de los dataframes principales, con los mismos se realiza el filtrado y armado de los features. \n",
    "\n",
    "---\n",
    "## 1. Lectura de DataFrames"
   ]
  },
  {
   "cell_type": "code",
   "execution_count": 4,
   "metadata": {},
   "outputs": [
    {
     "name": "stdout",
     "output_type": "stream",
     "text": [
      "('Not Testing, #records auctions:', 47409528)\n"
     ]
    }
   ],
   "source": [
    "#Optimizado para menos memoria\n",
    "auction_dtypes = {\n",
    "    'device_id': np.int64,\n",
    "    'source_id': np.int8\n",
    "}\n",
    "\n",
    "auctions = pd.read_csv(root_dir + 'auctions.csv.gzip',\n",
    "                       compression = 'gzip',\n",
    "                       dtype = auction_dtypes,\n",
    "                       usecols=list(auction_dtypes.keys()) + ['date'],\n",
    "                       parse_dates = ['date'])\n",
    "auctions.rename({'device_id':'ref_hash',\n",
    "                 'date':'created'}, inplace=True, axis='columns')\n",
    "auctions['n'] = 1\n",
    "\n",
    "# Para hacer pruebas ocupando menos memoria se hace un sampleo aleatorio de la mitad del dataframe y se elimina el resto\n",
    "if is_testing:\n",
    "    auctions = auctions.sample(frac=.30)\n",
    "    print(\"Is Testing, #records auctions:\", auctions['n'].sum())\n",
    "else:\n",
    "    print(\"Not Testing, #records auctions:\", auctions['n'].sum())"
   ]
  },
  {
   "cell_type": "code",
   "execution_count": 5,
   "metadata": {},
   "outputs": [
    {
     "name": "stdout",
     "output_type": "stream",
     "text": [
      "('#records install:', 481511)\n"
     ]
    }
   ],
   "source": [
    "installs_dtypes = {\n",
    "    'application_id': np.int32,\n",
    "    'ref_hash': np.int64, \n",
    "    #'click_hash':'category',\n",
    "    'attributed': 'category',\n",
    "    'implicit': 'category',\n",
    "    #'device_countrycode': 'object', \n",
    "    'device_brand': 'object',\n",
    "    'device_model': 'object', \n",
    "    'session_user_agent': 'object', \n",
    "    'user_agent': 'object', \n",
    "    'event_uuid':'object',\n",
    "    'kind': 'object',\n",
    "    'wifi': 'object', \n",
    "    'trans_id': 'object', \n",
    "    #'ip_address':'object', \n",
    "    'device_language': 'object'\n",
    "}\n",
    "install_cols = list(installs_dtypes.keys()) + ['created']\n",
    "installs = pd.read_csv(root_dir + 'installs.csv.gzip', \n",
    "                       compression='gzip', \n",
    "                       usecols=install_cols,\n",
    "                       dtype= installs_dtypes,\n",
    "                      parse_dates=['created'])\n",
    "\n",
    "installs['n'] = 1\n",
    "print('#records install:', installs['n'].sum())"
   ]
  },
  {
   "cell_type": "code",
   "execution_count": 6,
   "metadata": {},
   "outputs": [
    {
     "name": "stdout",
     "output_type": "stream",
     "text": [
      "('#records clicks:', 64296)\n"
     ]
    }
   ],
   "source": [
    "clicks_dtypes = {\n",
    "    'advertiser_id': np.int64, \n",
    "    'action_id': np.float, \n",
    "    'source_id': np.int8, \n",
    "    'latitude' : np.float64, \n",
    "    'longitude': np.float64, \n",
    "    'wifi_connection': np.bool, \n",
    "    'carrier_id': 'object', \n",
    "    'trans_id': 'object',\n",
    "    'os_minor':'object', \n",
    "    'agent_device' : 'object', \n",
    "    'os_major': 'object', \n",
    "    'specs_brand': 'category', \n",
    "    'brand': 'object',\n",
    "    'timeToClick': np.float64, \n",
    "    'touchX': 'object', \n",
    "    'touchY': 'object', \n",
    "    'ref_hash':np.int64,\n",
    "    'created' : 'object'\n",
    "}\n",
    "clicks = pd.read_csv(root_dir + 'clicks.csv.gzip', \n",
    "                     compression='gzip',\n",
    "                     usecols=list(clicks_dtypes.keys()) + ['created'],\n",
    "                     dtype=clicks_dtypes,\n",
    "                     parse_dates=['created'])\n",
    "clicks['n'] = 1\n",
    "print('#records clicks:', clicks['n'].sum())"
   ]
  },
  {
   "cell_type": "code",
   "execution_count": 7,
   "metadata": {},
   "outputs": [
    {
     "name": "stdout",
     "output_type": "stream",
     "text": [
      "('Not Testing, #records events:', 7744581)\n"
     ]
    }
   ],
   "source": [
    "events_dtypes = {\n",
    "    'event_id': np.int64,\n",
    "    'ref_hash': np.int64,\n",
    "    'application_id': np.int64,\n",
    "    'attributed': np.bool,\n",
    "    'device_os_version': 'object',\n",
    "    'device_brand': 'object',\n",
    "    'device_model': 'object',\n",
    "    'device_city': 'object',\n",
    "    'session_user_agent': 'object',\n",
    "    'trans_id': 'category',\n",
    "    'user_agent': 'object',\n",
    "    'event_uuid': 'object',\n",
    "    'carrier': 'object',\n",
    "    'kind': 'object',\n",
    "    'device_os': 'object',\n",
    "    'wifi': np.bool,\n",
    "    'connection_type': 'object',\n",
    "    #'ip_address': np.int64,\n",
    "    #'device_language': 'category'\n",
    "}\n",
    "events_cols = list(events_dtypes.keys()) + ['date']\n",
    "events = pd.read_csv(root_dir + 'events.csv.gzip', \n",
    "                     compression='gzip',\n",
    "                     dtype=events_dtypes,\n",
    "                     usecols=events_cols,\n",
    "                     parse_dates=['date'])\n",
    "\n",
    "events.rename({'date':'created'}, inplace=True, axis='columns')\n",
    "events['n'] = 1\n",
    "# Para hacer pruebas ocupando menos memoria se hace un sampleo aleatorio de la mitad del dataframe y se elimina el resto\n",
    "if is_testing:\n",
    "    events = events.sample(frac=.30)\n",
    "    print(\"Is Testing, #records events:\", events['n'].sum())\n",
    "else:\n",
    "    print(\"Not Testing, #records events:\", events['n'].sum())"
   ]
  },
  {
   "cell_type": "code",
   "execution_count": 8,
   "metadata": {
    "collapsed": true
   },
   "outputs": [],
   "source": [
    "# Labels a submitir con las predicciones\n",
    "to_predict = pd.read_csv(root_dir + 'target_competencia_ids.csv')\n",
    "to_predict = to_predict.apply(lambda x: np.int64(x['ref_hash'][0:x['ref_hash'].find('_')]), axis='columns').drop_duplicates().to_frame()\n",
    "to_predict.columns = ['ref_hash']"
   ]
  },
  {
   "cell_type": "code",
   "execution_count": 9,
   "metadata": {
    "collapsed": true
   },
   "outputs": [],
   "source": [
    "unique_hashes = pd.read_csv(root_dir+'unique_hashes.csv')"
   ]
  },
  {
   "cell_type": "markdown",
   "metadata": {},
   "source": [
    "---\n",
    "## 2. Arreglo de los datos\n",
    "\n",
    "### Separo las semanas de entrenamiento\n",
    "\n",
    "Se utiliza el siguiente metodo: \n",
    "\n",
    "1. Ventana del 18 al 20 inclusive (1) -> Predice valores entre el 21 y 24 (2)\n",
    "2. Ventana del 21 al 23 inclusive (2) -> Predice valores entre el 24 y 26 (3)"
   ]
  },
  {
   "cell_type": "code",
   "execution_count": 14,
   "metadata": {},
   "outputs": [
    {
     "name": "stdout",
     "output_type": "stream",
     "text": [
      "Tiempo init: 2019-06-22 12:47:50.205528\n"
     ]
    }
   ],
   "source": [
    "print(\"Tiempo init: \"+str(pd.Timestamp.now()))"
   ]
  },
  {
   "cell_type": "code",
   "execution_count": 15,
   "metadata": {
    "collapsed": true
   },
   "outputs": [],
   "source": [
    "#Agrego la ventana de tiempo\n",
    "auctions = auctions.loc[auctions['ref_hash'].isin(unique_hashes['ref_hash'])]\n",
    "auctions.sort_values(by='created',inplace=True)\n",
    "auctions = pd.merge_asof(auctions,windows,left_on='created',right_on='begin_date').drop('begin_date', axis='columns')"
   ]
  },
  {
   "cell_type": "code",
   "execution_count": 16,
   "metadata": {},
   "outputs": [],
   "source": [
    "installs = installs.loc[installs['ref_hash'].isin(unique_hashes['ref_hash'])]\n",
    "installs.sort_values(by='created',inplace=True)\n",
    "installs = pd.merge_asof(installs,windows,left_on='created',right_on='begin_date').drop('begin_date', axis='columns')"
   ]
  },
  {
   "cell_type": "code",
   "execution_count": 17,
   "metadata": {
    "collapsed": true
   },
   "outputs": [],
   "source": [
    "##FIX en clicks: pasar de datetime UTC a datetime en DF windows\n",
    "clicks['created'] = clicks['created'].apply(lambda x: x.replace(tzinfo=None))"
   ]
  },
  {
   "cell_type": "code",
   "execution_count": 18,
   "metadata": {
    "collapsed": true
   },
   "outputs": [],
   "source": [
    "clicks = clicks.loc[clicks['ref_hash'].isin(unique_hashes['ref_hash'])]\n",
    "clicks.sort_values(by='created',inplace=True)\n",
    "clicks = pd.merge_asof(clicks,windows,left_on='created',right_on='begin_date').drop('begin_date', axis='columns')"
   ]
  },
  {
   "cell_type": "code",
   "execution_count": 19,
   "metadata": {
    "collapsed": true
   },
   "outputs": [],
   "source": [
    "events = events.loc[events['ref_hash'].isin(unique_hashes['ref_hash'])]\n",
    "events.sort_values(by='created',inplace=True)\n",
    "events = pd.merge_asof(events,windows,left_on='created',right_on='begin_date').drop('begin_date', axis='columns')"
   ]
  },
  {
   "cell_type": "code",
   "execution_count": 20,
   "metadata": {},
   "outputs": [
    {
     "data": {
      "text/plain": [
       "created               datetime64[ns]\n",
       "event_id                       int64\n",
       "ref_hash                       int64\n",
       "application_id                 int64\n",
       "attributed                      bool\n",
       "device_os_version             object\n",
       "device_brand                  object\n",
       "device_model                  object\n",
       "device_city                   object\n",
       "session_user_agent            object\n",
       "trans_id                    category\n",
       "user_agent                    object\n",
       "event_uuid                    object\n",
       "carrier                       object\n",
       "kind                          object\n",
       "device_os                     object\n",
       "wifi                            bool\n",
       "connection_type               object\n",
       "n                              int64\n",
       "window_nr                      int64\n",
       "dtype: object"
      ]
     },
     "execution_count": 20,
     "metadata": {},
     "output_type": "execute_result"
    }
   ],
   "source": [
    "events.dtypes"
   ]
  },
  {
   "cell_type": "code",
   "execution_count": 21,
   "metadata": {},
   "outputs": [
    {
     "name": "stdout",
     "output_type": "stream",
     "text": [
      "Tiempo end: 2019-06-22 12:49:41.045030\n"
     ]
    }
   ],
   "source": [
    "print(\"Tiempo end: \"+str(pd.Timestamp.now()))"
   ]
  },
  {
   "cell_type": "markdown",
   "metadata": {},
   "source": [
    "### 2.1 Arreglo de Auctions"
   ]
  },
  {
   "cell_type": "code",
   "execution_count": 22,
   "metadata": {},
   "outputs": [
    {
     "name": "stdout",
     "output_type": "stream",
     "text": [
      "Tiempo init: 2019-06-22 12:49:46.064621\n"
     ]
    }
   ],
   "source": [
    "#print(\"Tiempo init: \"+str(pd.Timestamp.now()))"
   ]
  },
  {
   "cell_type": "code",
   "execution_count": 23,
   "metadata": {},
   "outputs": [
    {
     "name": "stdout",
     "output_type": "stream",
     "text": [
      "Minimo de devices a usar 20\n",
      "Cantidad auctions originales 46587917\n",
      "Cantidad auctions eliminados 3687776\n",
      "Cantidad auctions restantes 42900141\n"
     ]
    }
   ],
   "source": [
    "###### OJO DEMORA MUCHO EN CORRER ######\n",
    "#Elimino los registros con menos de un minimo de entradas, ya que no hay mucho que predecir en estos casos\n",
    "print(\"Tiempo init: \"+str(pd.Timestamp.now()))\n",
    "print('Minimo de devices a usar '+str(min_devices))\n",
    "group = ['ref_hash','window_nr']\n",
    "orig_count = auctions['n'].sum()\n",
    "auctions = auctions.groupby(group, sort = False).filter(lambda x: x['n'].sum() >= min_devices) \n",
    "last_count = auctions['n'].sum()\n",
    "print('Cantidad auctions originales '+str(orig_count))\n",
    "print('Cantidad auctions eliminados '+str(orig_count-last_count))\n",
    "print('Cantidad auctions restantes '+str(last_count))\n",
    "print(\"Tiempo end: \"+str(pd.Timestamp.now()))"
   ]
  },
  {
   "cell_type": "code",
   "execution_count": 24,
   "metadata": {
    "collapsed": true
   },
   "outputs": [],
   "source": [
    "auctions.sort_values(by=group+['created'], inplace=True)"
   ]
  },
  {
   "cell_type": "code",
   "execution_count": 25,
   "metadata": {},
   "outputs": [
    {
     "name": "stdout",
     "output_type": "stream",
     "text": [
      "Tiempo init: 2019-06-22 12:58:30.783035\n",
      "Tiempo end: 2019-06-22 13:04:58.815034\n"
     ]
    }
   ],
   "source": [
    "###### OJO DEMORA MUCHO EN CORRER ######\n",
    "print(\"Tiempo init: \"+str(pd.Timestamp.now()))\n",
    "auctions['next_date'] = auctions.groupby(group, as_index = False, sort=False)['created'].transform(lambda x: x.shift(-1))\n",
    "auctions = auctions.loc[(~auctions['next_date'].isnull())]\n",
    "auctions['secs_to_next'] = (auctions['next_date'] - auctions['created']).transform(lambda x: round(x.total_seconds()))\n",
    "print(\"Tiempo end: \"+str(pd.Timestamp.now()))"
   ]
  },
  {
   "cell_type": "code",
   "execution_count": 26,
   "metadata": {},
   "outputs": [
    {
     "data": {
      "text/html": [
       "<div>\n",
       "<style scoped>\n",
       "    .dataframe tbody tr th:only-of-type {\n",
       "        vertical-align: middle;\n",
       "    }\n",
       "\n",
       "    .dataframe tbody tr th {\n",
       "        vertical-align: top;\n",
       "    }\n",
       "\n",
       "    .dataframe thead th {\n",
       "        text-align: right;\n",
       "    }\n",
       "</style>\n",
       "<table border=\"1\" class=\"dataframe\">\n",
       "  <thead>\n",
       "    <tr style=\"text-align: right;\">\n",
       "      <th></th>\n",
       "      <th>created</th>\n",
       "      <th>ref_hash</th>\n",
       "      <th>source_id</th>\n",
       "      <th>n</th>\n",
       "      <th>window_nr</th>\n",
       "      <th>next_date</th>\n",
       "      <th>secs_to_next</th>\n",
       "    </tr>\n",
       "  </thead>\n",
       "  <tbody>\n",
       "    <tr>\n",
       "      <th>9146132</th>\n",
       "      <td>2019-04-19 19:40:28.465866</td>\n",
       "      <td>41863526108385</td>\n",
       "      <td>8</td>\n",
       "      <td>1</td>\n",
       "      <td>1</td>\n",
       "      <td>2019-04-20 02:52:26.892880</td>\n",
       "      <td>25918.0</td>\n",
       "    </tr>\n",
       "  </tbody>\n",
       "</table>\n",
       "</div>"
      ],
      "text/plain": [
       "                           created        ref_hash  source_id  n  window_nr  \\\n",
       "9146132 2019-04-19 19:40:28.465866  41863526108385          8  1          1   \n",
       "\n",
       "                         next_date  secs_to_next  \n",
       "9146132 2019-04-20 02:52:26.892880       25918.0  "
      ]
     },
     "execution_count": 26,
     "metadata": {},
     "output_type": "execute_result"
    }
   ],
   "source": [
    "auctions.head(1)"
   ]
  },
  {
   "cell_type": "code",
   "execution_count": 30,
   "metadata": {},
   "outputs": [
    {
     "name": "stdout",
     "output_type": "stream",
     "text": [
      "Cantidad auctions: 42577642\n"
     ]
    }
   ],
   "source": [
    "print(\"Cantidad auctions: \"+str(auctions['ref_hash'].count()))"
   ]
  },
  {
   "cell_type": "code",
   "execution_count": 35,
   "metadata": {},
   "outputs": [],
   "source": [
    "#auctions.to_csv('/tmp/auctions_arreglados.csv')"
   ]
  },
  {
   "cell_type": "markdown",
   "metadata": {},
   "source": [
    "### 2.2 Arreglo de datos de Installs"
   ]
  },
  {
   "cell_type": "code",
   "execution_count": 36,
   "metadata": {
    "collapsed": true
   },
   "outputs": [],
   "source": [
    "installs['kind'] = installs['kind'].str.replace(' ','_')\n",
    "installs['kind'] = installs['kind'].str.replace('af_app_open ','af_app_opened')\n",
    "installs['kind'] = installs['kind'].str.replace('af_app_opend','af_app_opened')\n",
    "installs['kind'] = installs['kind'].str.lower()"
   ]
  },
  {
   "cell_type": "code",
   "execution_count": 37,
   "metadata": {},
   "outputs": [
    {
     "data": {
      "text/plain": [
       "created                    0\n",
       "application_id             0\n",
       "ref_hash                   0\n",
       "attributed                 0\n",
       "implicit                   0\n",
       "device_brand          204813\n",
       "device_model           26871\n",
       "session_user_agent     14828\n",
       "user_agent            150111\n",
       "event_uuid            377704\n",
       "kind                  377704\n",
       "wifi                  186016\n",
       "trans_id              472140\n",
       "device_language        27552\n",
       "n                          0\n",
       "window_nr                  0\n",
       "dtype: int64"
      ]
     },
     "execution_count": 37,
     "metadata": {},
     "output_type": "execute_result"
    }
   ],
   "source": [
    "installs.isnull().sum()"
   ]
  },
  {
   "cell_type": "code",
   "execution_count": 38,
   "metadata": {
    "collapsed": true
   },
   "outputs": [],
   "source": [
    "for i in ['device_brand','device_model','session_user_agent','user_agent','kind','wifi','device_language']:\n",
    "    installs[i] = installs[i].fillna('unknown')\n",
    "installs['device_brand'] = installs['device_brand'].astype('category')\n",
    "installs['device_model'] = installs['device_model'].astype('category')\n",
    "installs['session_user_agent'] = installs['session_user_agent'].astype('category')\n",
    "installs['user_agent'] = installs['user_agent'].astype('category')\n",
    "installs['kind'] = installs['kind'].astype('category')\n",
    "installs['wifi'] = installs['wifi'].astype('category')\n",
    "installs['device_language'] = installs['device_language'].astype('category')"
   ]
  },
  {
   "cell_type": "code",
   "execution_count": 39,
   "metadata": {},
   "outputs": [
    {
     "data": {
      "text/html": [
       "<div>\n",
       "<style scoped>\n",
       "    .dataframe tbody tr th:only-of-type {\n",
       "        vertical-align: middle;\n",
       "    }\n",
       "\n",
       "    .dataframe tbody tr th {\n",
       "        vertical-align: top;\n",
       "    }\n",
       "\n",
       "    .dataframe thead th {\n",
       "        text-align: right;\n",
       "    }\n",
       "</style>\n",
       "<table border=\"1\" class=\"dataframe\">\n",
       "  <thead>\n",
       "    <tr style=\"text-align: right;\">\n",
       "      <th></th>\n",
       "      <th>0</th>\n",
       "      <th>1</th>\n",
       "      <th>2</th>\n",
       "      <th>3</th>\n",
       "      <th>4</th>\n",
       "    </tr>\n",
       "  </thead>\n",
       "  <tbody>\n",
       "    <tr>\n",
       "      <th>created</th>\n",
       "      <td>2019-04-18 00:00:01.560000</td>\n",
       "      <td>2019-04-18 00:00:01.851000</td>\n",
       "      <td>2019-04-18 00:00:05.152000</td>\n",
       "      <td>2019-04-18 00:00:05.589000</td>\n",
       "      <td>2019-04-18 00:00:06.795000</td>\n",
       "    </tr>\n",
       "    <tr>\n",
       "      <th>application_id</th>\n",
       "      <td>70</td>\n",
       "      <td>70</td>\n",
       "      <td>65</td>\n",
       "      <td>27</td>\n",
       "      <td>339</td>\n",
       "    </tr>\n",
       "    <tr>\n",
       "      <th>ref_hash</th>\n",
       "      <td>4432995619177048534</td>\n",
       "      <td>5904733559638204455</td>\n",
       "      <td>896373747754111825</td>\n",
       "      <td>3399210824535017892</td>\n",
       "      <td>1541425881979513687</td>\n",
       "    </tr>\n",
       "    <tr>\n",
       "      <th>attributed</th>\n",
       "      <td>False</td>\n",
       "      <td>False</td>\n",
       "      <td>False</td>\n",
       "      <td>False</td>\n",
       "      <td>False</td>\n",
       "    </tr>\n",
       "    <tr>\n",
       "      <th>implicit</th>\n",
       "      <td>False</td>\n",
       "      <td>False</td>\n",
       "      <td>True</td>\n",
       "      <td>False</td>\n",
       "      <td>False</td>\n",
       "    </tr>\n",
       "    <tr>\n",
       "      <th>device_brand</th>\n",
       "      <td>unknown</td>\n",
       "      <td>unknown</td>\n",
       "      <td>3.083058605577787e+17</td>\n",
       "      <td>unknown</td>\n",
       "      <td>unknown</td>\n",
       "    </tr>\n",
       "    <tr>\n",
       "      <th>device_model</th>\n",
       "      <td>unknown</td>\n",
       "      <td>unknown</td>\n",
       "      <td>5.274185305862703e+18</td>\n",
       "      <td>6.794880020077885e+18</td>\n",
       "      <td>6.794880020077885e+18</td>\n",
       "    </tr>\n",
       "    <tr>\n",
       "      <th>session_user_agent</th>\n",
       "      <td>Apsalar-Postback</td>\n",
       "      <td>Apsalar-Postback</td>\n",
       "      <td>http-kit/2.0</td>\n",
       "      <td>http-kit/2.0</td>\n",
       "      <td>http-kit/2.0</td>\n",
       "    </tr>\n",
       "    <tr>\n",
       "      <th>user_agent</th>\n",
       "      <td>unknown</td>\n",
       "      <td>unknown</td>\n",
       "      <td>Dalvik/2.1.0 (Linux; U; Android 9; SM-G9650 Bu...</td>\n",
       "      <td>trivago/216 CFNetwork/978.0.7 Darwin/18.5.0</td>\n",
       "      <td>TikTok/109005 CFNetwork/758.5.3 Darwin/15.6.0</td>\n",
       "    </tr>\n",
       "    <tr>\n",
       "      <th>event_uuid</th>\n",
       "      <td>NaN</td>\n",
       "      <td>NaN</td>\n",
       "      <td>8c8af5e3-96e7-4a49-9f17-cafa7f300f2c</td>\n",
       "      <td>NaN</td>\n",
       "      <td>NaN</td>\n",
       "    </tr>\n",
       "    <tr>\n",
       "      <th>kind</th>\n",
       "      <td>unknown</td>\n",
       "      <td>unknown</td>\n",
       "      <td>af_app_opened</td>\n",
       "      <td>unknown</td>\n",
       "      <td>unknown</td>\n",
       "    </tr>\n",
       "    <tr>\n",
       "      <th>wifi</th>\n",
       "      <td>unknown</td>\n",
       "      <td>unknown</td>\n",
       "      <td>false</td>\n",
       "      <td>true</td>\n",
       "      <td>true</td>\n",
       "    </tr>\n",
       "    <tr>\n",
       "      <th>trans_id</th>\n",
       "      <td>NaN</td>\n",
       "      <td>NaN</td>\n",
       "      <td>NaN</td>\n",
       "      <td>NaN</td>\n",
       "      <td>NaN</td>\n",
       "    </tr>\n",
       "    <tr>\n",
       "      <th>device_language</th>\n",
       "      <td>unknown</td>\n",
       "      <td>unknown</td>\n",
       "      <td>6.977049253562486e+18</td>\n",
       "      <td>5.221862722669226e+18</td>\n",
       "      <td>7.528973756559112e+18</td>\n",
       "    </tr>\n",
       "    <tr>\n",
       "      <th>n</th>\n",
       "      <td>1</td>\n",
       "      <td>1</td>\n",
       "      <td>1</td>\n",
       "      <td>1</td>\n",
       "      <td>1</td>\n",
       "    </tr>\n",
       "    <tr>\n",
       "      <th>window_nr</th>\n",
       "      <td>1</td>\n",
       "      <td>1</td>\n",
       "      <td>1</td>\n",
       "      <td>1</td>\n",
       "      <td>1</td>\n",
       "    </tr>\n",
       "  </tbody>\n",
       "</table>\n",
       "</div>"
      ],
      "text/plain": [
       "                                             0                           1  \\\n",
       "created             2019-04-18 00:00:01.560000  2019-04-18 00:00:01.851000   \n",
       "application_id                              70                          70   \n",
       "ref_hash                   4432995619177048534         5904733559638204455   \n",
       "attributed                               False                       False   \n",
       "implicit                                 False                       False   \n",
       "device_brand                           unknown                     unknown   \n",
       "device_model                           unknown                     unknown   \n",
       "session_user_agent            Apsalar-Postback            Apsalar-Postback   \n",
       "user_agent                             unknown                     unknown   \n",
       "event_uuid                                 NaN                         NaN   \n",
       "kind                                   unknown                     unknown   \n",
       "wifi                                   unknown                     unknown   \n",
       "trans_id                                   NaN                         NaN   \n",
       "device_language                        unknown                     unknown   \n",
       "n                                            1                           1   \n",
       "window_nr                                    1                           1   \n",
       "\n",
       "                                                                    2  \\\n",
       "created                                    2019-04-18 00:00:05.152000   \n",
       "application_id                                                     65   \n",
       "ref_hash                                           896373747754111825   \n",
       "attributed                                                      False   \n",
       "implicit                                                         True   \n",
       "device_brand                                    3.083058605577787e+17   \n",
       "device_model                                    5.274185305862703e+18   \n",
       "session_user_agent                                       http-kit/2.0   \n",
       "user_agent          Dalvik/2.1.0 (Linux; U; Android 9; SM-G9650 Bu...   \n",
       "event_uuid                       8c8af5e3-96e7-4a49-9f17-cafa7f300f2c   \n",
       "kind                                                    af_app_opened   \n",
       "wifi                                                            false   \n",
       "trans_id                                                          NaN   \n",
       "device_language                                 6.977049253562486e+18   \n",
       "n                                                                   1   \n",
       "window_nr                                                           1   \n",
       "\n",
       "                                                              3  \\\n",
       "created                              2019-04-18 00:00:05.589000   \n",
       "application_id                                               27   \n",
       "ref_hash                                    3399210824535017892   \n",
       "attributed                                                False   \n",
       "implicit                                                  False   \n",
       "device_brand                                            unknown   \n",
       "device_model                              6.794880020077885e+18   \n",
       "session_user_agent                                 http-kit/2.0   \n",
       "user_agent          trivago/216 CFNetwork/978.0.7 Darwin/18.5.0   \n",
       "event_uuid                                                  NaN   \n",
       "kind                                                    unknown   \n",
       "wifi                                                       true   \n",
       "trans_id                                                    NaN   \n",
       "device_language                           5.221862722669226e+18   \n",
       "n                                                             1   \n",
       "window_nr                                                     1   \n",
       "\n",
       "                                                                4  \n",
       "created                                2019-04-18 00:00:06.795000  \n",
       "application_id                                                339  \n",
       "ref_hash                                      1541425881979513687  \n",
       "attributed                                                  False  \n",
       "implicit                                                    False  \n",
       "device_brand                                              unknown  \n",
       "device_model                                6.794880020077885e+18  \n",
       "session_user_agent                                   http-kit/2.0  \n",
       "user_agent          TikTok/109005 CFNetwork/758.5.3 Darwin/15.6.0  \n",
       "event_uuid                                                    NaN  \n",
       "kind                                                      unknown  \n",
       "wifi                                                         true  \n",
       "trans_id                                                      NaN  \n",
       "device_language                             7.528973756559112e+18  \n",
       "n                                                               1  \n",
       "window_nr                                                       1  "
      ]
     },
     "execution_count": 39,
     "metadata": {},
     "output_type": "execute_result"
    }
   ],
   "source": [
    "installs.head().transpose()"
   ]
  },
  {
   "cell_type": "markdown",
   "metadata": {},
   "source": [
    "### 2.3. Arreglo de datos de Clicks"
   ]
  },
  {
   "cell_type": "code",
   "execution_count": 40,
   "metadata": {
    "collapsed": true
   },
   "outputs": [],
   "source": [
    "clicks.touchX = clicks.touchX.apply(lambda x: np.float64(x))\n",
    "clicks.touchY = clicks.touchY.apply(lambda x: np.float64(x))\n",
    "clicks['created'] = clicks['created'].dt.tz_localize(None)"
   ]
  },
  {
   "cell_type": "code",
   "execution_count": 41,
   "metadata": {
    "collapsed": true
   },
   "outputs": [],
   "source": [
    "for i in ['carrier_id','os_minor', 'agent_device', 'brand', 'os_major']:\n",
    "    clicks[i] = clicks[i].fillna('unknown').astype('category')"
   ]
  },
  {
   "cell_type": "code",
   "execution_count": 42,
   "metadata": {},
   "outputs": [
    {
     "data": {
      "text/plain": [
       "advertiser_id          0\n",
       "action_id          63835\n",
       "source_id              0\n",
       "created                0\n",
       "latitude               0\n",
       "longitude              0\n",
       "wifi_connection        0\n",
       "carrier_id             0\n",
       "trans_id               0\n",
       "os_minor               0\n",
       "agent_device           0\n",
       "os_major               0\n",
       "specs_brand            0\n",
       "brand                  0\n",
       "timeToClick        25885\n",
       "touchX             20428\n",
       "touchY             20428\n",
       "ref_hash               0\n",
       "n                      0\n",
       "window_nr          19730\n",
       "dtype: int64"
      ]
     },
     "execution_count": 42,
     "metadata": {},
     "output_type": "execute_result"
    }
   ],
   "source": [
    "clicks.isnull().sum()"
   ]
  },
  {
   "cell_type": "markdown",
   "metadata": {},
   "source": [
    "### 2.4 Arreglo de datos de Events"
   ]
  },
  {
   "cell_type": "code",
   "execution_count": 43,
   "metadata": {
    "collapsed": true
   },
   "outputs": [],
   "source": [
    "for i in ['device_os_version','device_brand','device_model','device_city','session_user_agent','user_agent','carrier','kind','device_os','connection_type']:\n",
    "    events[i] = events[i].fillna('unknown').astype('category')"
   ]
  },
  {
   "cell_type": "code",
   "execution_count": 44,
   "metadata": {},
   "outputs": [
    {
     "data": {
      "text/plain": [
       "created                     0\n",
       "event_id                    0\n",
       "ref_hash                    0\n",
       "application_id              0\n",
       "attributed                  0\n",
       "device_os_version           0\n",
       "device_brand                0\n",
       "device_model                0\n",
       "device_city                 0\n",
       "session_user_agent          0\n",
       "trans_id              7700153\n",
       "user_agent                  0\n",
       "event_uuid              29631\n",
       "carrier                     0\n",
       "kind                        0\n",
       "device_os                   0\n",
       "wifi                        0\n",
       "connection_type             0\n",
       "n                           0\n",
       "window_nr                   0\n",
       "dtype: int64"
      ]
     },
     "execution_count": 44,
     "metadata": {},
     "output_type": "execute_result"
    }
   ],
   "source": [
    "events.isnull().sum()"
   ]
  },
  {
   "cell_type": "markdown",
   "metadata": {},
   "source": [
    "---\n",
    "## 3. Armado de Features\n",
    "\n",
    "A continuacion se comienzan a extraer los distintos features que formaran el set de entrenamiento. \n",
    "Se cruza cada ventana con los labels que se desean predecir. \n",
    "\n",
    "Para entrenar el set debe decidirse como utilizar los datos de las distintas ventanas. \n",
    "\n",
    "Se tomaran los datos en 2 ventanas diferentes y se validaran con dos ventanas diferentes, de esta forma no deberia haber problemas de solapamiento y se maximiza la cantidad de datos.\n",
    "\n",
    "Para el set final puede armarse un set de labels con los valores de los ultimos 3 dias."
   ]
  },
  {
   "cell_type": "markdown",
   "metadata": {},
   "source": [
    "### Tiempo promedio de arribos\n",
    "\n",
    "Se desea saber el tiempo promedio entre arribos de los dispositivos a las encuestas."
   ]
  },
  {
   "cell_type": "code",
   "execution_count": null,
   "metadata": {
    "collapsed": true
   },
   "outputs": [],
   "source": [
    "#filtered = auctions.loc[auctions['secs_to_next'] < 120]"
   ]
  },
  {
   "cell_type": "code",
   "execution_count": 45,
   "metadata": {
    "collapsed": true
   },
   "outputs": [],
   "source": [
    "temp = unique_hashes\n",
    "temp['window_nr'] = 1\n",
    "devices = temp.copy()\n",
    "temp['window_nr'] = 2\n",
    "devices = devices.append(temp)\n",
    "temp['window_nr'] = 3\n",
    "devices = devices.append(temp)"
   ]
  },
  {
   "cell_type": "code",
   "execution_count": 46,
   "metadata": {},
   "outputs": [
    {
     "data": {
      "text/plain": [
       "3    662110\n",
       "2    662110\n",
       "1    662110\n",
       "Name: window_nr, dtype: int64"
      ]
     },
     "execution_count": 46,
     "metadata": {},
     "output_type": "execute_result"
    }
   ],
   "source": [
    "devices['window_nr'].value_counts()"
   ]
  },
  {
   "cell_type": "code",
   "execution_count": 47,
   "metadata": {},
   "outputs": [
    {
     "data": {
      "text/html": [
       "<div>\n",
       "<style scoped>\n",
       "    .dataframe tbody tr th:only-of-type {\n",
       "        vertical-align: middle;\n",
       "    }\n",
       "\n",
       "    .dataframe tbody tr th {\n",
       "        vertical-align: top;\n",
       "    }\n",
       "\n",
       "    .dataframe thead th {\n",
       "        text-align: right;\n",
       "    }\n",
       "</style>\n",
       "<table border=\"1\" class=\"dataframe\">\n",
       "  <thead>\n",
       "    <tr style=\"text-align: right;\">\n",
       "      <th></th>\n",
       "      <th></th>\n",
       "    </tr>\n",
       "    <tr>\n",
       "      <th>ref_hash</th>\n",
       "      <th>window_nr</th>\n",
       "    </tr>\n",
       "  </thead>\n",
       "  <tbody>\n",
       "    <tr>\n",
       "      <th>2564673204772915246</th>\n",
       "      <th>1</th>\n",
       "    </tr>\n",
       "    <tr>\n",
       "      <th>4441121667607578179</th>\n",
       "      <th>1</th>\n",
       "    </tr>\n",
       "    <tr>\n",
       "      <th>7721769811471055264</th>\n",
       "      <th>1</th>\n",
       "    </tr>\n",
       "    <tr>\n",
       "      <th>6416039086842158968</th>\n",
       "      <th>1</th>\n",
       "    </tr>\n",
       "    <tr>\n",
       "      <th>1258642015983312729</th>\n",
       "      <th>1</th>\n",
       "    </tr>\n",
       "    <tr>\n",
       "      <th>6707090658317158573</th>\n",
       "      <th>1</th>\n",
       "    </tr>\n",
       "    <tr>\n",
       "      <th>8869722088125970841</th>\n",
       "      <th>1</th>\n",
       "    </tr>\n",
       "    <tr>\n",
       "      <th>7445213948764639634</th>\n",
       "      <th>1</th>\n",
       "    </tr>\n",
       "    <tr>\n",
       "      <th>2932617030932207332</th>\n",
       "      <th>1</th>\n",
       "    </tr>\n",
       "    <tr>\n",
       "      <th>6405811806780450397</th>\n",
       "      <th>1</th>\n",
       "    </tr>\n",
       "    <tr>\n",
       "      <th>1016964604674548371</th>\n",
       "      <th>1</th>\n",
       "    </tr>\n",
       "    <tr>\n",
       "      <th>6128993631208059516</th>\n",
       "      <th>1</th>\n",
       "    </tr>\n",
       "    <tr>\n",
       "      <th>3611339082207397874</th>\n",
       "      <th>1</th>\n",
       "    </tr>\n",
       "    <tr>\n",
       "      <th>2749372725404302683</th>\n",
       "      <th>1</th>\n",
       "    </tr>\n",
       "    <tr>\n",
       "      <th>2511255463637788199</th>\n",
       "      <th>1</th>\n",
       "    </tr>\n",
       "    <tr>\n",
       "      <th>4449848882683774963</th>\n",
       "      <th>1</th>\n",
       "    </tr>\n",
       "    <tr>\n",
       "      <th>7918003943044320156</th>\n",
       "      <th>1</th>\n",
       "    </tr>\n",
       "    <tr>\n",
       "      <th>4260139173429359652</th>\n",
       "      <th>1</th>\n",
       "    </tr>\n",
       "    <tr>\n",
       "      <th>6979971691991862458</th>\n",
       "      <th>1</th>\n",
       "    </tr>\n",
       "    <tr>\n",
       "      <th>599652221973595515</th>\n",
       "      <th>1</th>\n",
       "    </tr>\n",
       "    <tr>\n",
       "      <th>8315323311690794428</th>\n",
       "      <th>1</th>\n",
       "    </tr>\n",
       "    <tr>\n",
       "      <th>8163472114152043023</th>\n",
       "      <th>1</th>\n",
       "    </tr>\n",
       "    <tr>\n",
       "      <th>670595227383970341</th>\n",
       "      <th>1</th>\n",
       "    </tr>\n",
       "    <tr>\n",
       "      <th>2179233056266516762</th>\n",
       "      <th>1</th>\n",
       "    </tr>\n",
       "    <tr>\n",
       "      <th>7122348392743770281</th>\n",
       "      <th>1</th>\n",
       "    </tr>\n",
       "    <tr>\n",
       "      <th>3429312538327323541</th>\n",
       "      <th>1</th>\n",
       "    </tr>\n",
       "    <tr>\n",
       "      <th>6764331047130237504</th>\n",
       "      <th>1</th>\n",
       "    </tr>\n",
       "    <tr>\n",
       "      <th>1615307091672280645</th>\n",
       "      <th>1</th>\n",
       "    </tr>\n",
       "    <tr>\n",
       "      <th>7629401915670669810</th>\n",
       "      <th>1</th>\n",
       "    </tr>\n",
       "    <tr>\n",
       "      <th>5178179337242355738</th>\n",
       "      <th>1</th>\n",
       "    </tr>\n",
       "    <tr>\n",
       "      <th>...</th>\n",
       "      <th>...</th>\n",
       "    </tr>\n",
       "    <tr>\n",
       "      <th>8091994514450628984</th>\n",
       "      <th>3</th>\n",
       "    </tr>\n",
       "    <tr>\n",
       "      <th>8238412779605159354</th>\n",
       "      <th>3</th>\n",
       "    </tr>\n",
       "    <tr>\n",
       "      <th>6798346504634019537</th>\n",
       "      <th>3</th>\n",
       "    </tr>\n",
       "    <tr>\n",
       "      <th>9044707616246089154</th>\n",
       "      <th>3</th>\n",
       "    </tr>\n",
       "    <tr>\n",
       "      <th>6240332267432566251</th>\n",
       "      <th>3</th>\n",
       "    </tr>\n",
       "    <tr>\n",
       "      <th>3632151483109027324</th>\n",
       "      <th>3</th>\n",
       "    </tr>\n",
       "    <tr>\n",
       "      <th>6297953853623195939</th>\n",
       "      <th>3</th>\n",
       "    </tr>\n",
       "    <tr>\n",
       "      <th>5437075271164211135</th>\n",
       "      <th>3</th>\n",
       "    </tr>\n",
       "    <tr>\n",
       "      <th>7920821548377602385</th>\n",
       "      <th>3</th>\n",
       "    </tr>\n",
       "    <tr>\n",
       "      <th>3354962866294911260</th>\n",
       "      <th>3</th>\n",
       "    </tr>\n",
       "    <tr>\n",
       "      <th>7884192504235868132</th>\n",
       "      <th>3</th>\n",
       "    </tr>\n",
       "    <tr>\n",
       "      <th>3192833310182475412</th>\n",
       "      <th>3</th>\n",
       "    </tr>\n",
       "    <tr>\n",
       "      <th>1085359925723060093</th>\n",
       "      <th>3</th>\n",
       "    </tr>\n",
       "    <tr>\n",
       "      <th>3024335360557657670</th>\n",
       "      <th>3</th>\n",
       "    </tr>\n",
       "    <tr>\n",
       "      <th>981159146812984334</th>\n",
       "      <th>3</th>\n",
       "    </tr>\n",
       "    <tr>\n",
       "      <th>7778019821291565351</th>\n",
       "      <th>3</th>\n",
       "    </tr>\n",
       "    <tr>\n",
       "      <th>5183072847899454701</th>\n",
       "      <th>3</th>\n",
       "    </tr>\n",
       "    <tr>\n",
       "      <th>4621868305588852911</th>\n",
       "      <th>3</th>\n",
       "    </tr>\n",
       "    <tr>\n",
       "      <th>6308203684894346811</th>\n",
       "      <th>3</th>\n",
       "    </tr>\n",
       "    <tr>\n",
       "      <th>2874880670725286367</th>\n",
       "      <th>3</th>\n",
       "    </tr>\n",
       "    <tr>\n",
       "      <th>2622422369879024883</th>\n",
       "      <th>3</th>\n",
       "    </tr>\n",
       "    <tr>\n",
       "      <th>5138280945780659319</th>\n",
       "      <th>3</th>\n",
       "    </tr>\n",
       "    <tr>\n",
       "      <th>7185355372483819893</th>\n",
       "      <th>3</th>\n",
       "    </tr>\n",
       "    <tr>\n",
       "      <th>7781629466723003394</th>\n",
       "      <th>3</th>\n",
       "    </tr>\n",
       "    <tr>\n",
       "      <th>2162670487345139080</th>\n",
       "      <th>3</th>\n",
       "    </tr>\n",
       "    <tr>\n",
       "      <th>1261491684697176167</th>\n",
       "      <th>3</th>\n",
       "    </tr>\n",
       "    <tr>\n",
       "      <th>3382218743127490223</th>\n",
       "      <th>3</th>\n",
       "    </tr>\n",
       "    <tr>\n",
       "      <th>1812088968084347152</th>\n",
       "      <th>3</th>\n",
       "    </tr>\n",
       "    <tr>\n",
       "      <th>1317973409243271932</th>\n",
       "      <th>3</th>\n",
       "    </tr>\n",
       "    <tr>\n",
       "      <th>2764717333881563853</th>\n",
       "      <th>3</th>\n",
       "    </tr>\n",
       "  </tbody>\n",
       "</table>\n",
       "<p>1986330 rows × 0 columns</p>\n",
       "</div>"
      ],
      "text/plain": [
       "Empty DataFrame\n",
       "Columns: []\n",
       "Index: [(2564673204772915246, 1), (4441121667607578179, 1), (7721769811471055264, 1), (6416039086842158968, 1), (1258642015983312729, 1), (6707090658317158573, 1), (8869722088125970841, 1), (7445213948764639634, 1), (2932617030932207332, 1), (6405811806780450397, 1), (1016964604674548371, 1), (6128993631208059516, 1), (3611339082207397874, 1), (2749372725404302683, 1), (2511255463637788199, 1), (4449848882683774963, 1), (7918003943044320156, 1), (4260139173429359652, 1), (6979971691991862458, 1), (599652221973595515, 1), (8315323311690794428, 1), (8163472114152043023, 1), (670595227383970341, 1), (2179233056266516762, 1), (7122348392743770281, 1), (3429312538327323541, 1), (6764331047130237504, 1), (1615307091672280645, 1), (7629401915670669810, 1), (5178179337242355738, 1), (5090554651215875766, 1), (2633686059653986910, 1), (8295148471294345313, 1), (3699844778581354485, 1), (3742763971006471066, 1), (3947787848076540639, 1), (5380940989825636411, 1), (3131988490852463973, 1), (7029951377496036514, 1), (2133310771251033378, 1), (867784864367290250, 1), (7570894330076210132, 1), (343081057244765266, 1), (6089479998905728520, 1), (6488295110559785958, 1), (3231466902033746403, 1), (2989838269464003844, 1), (4166171707836899373, 1), (455777597064521104, 1), (248918322959656589, 1), (1062816372410420954, 1), (6060948052055988955, 1), (6424307885596905204, 1), (2928047885137002257, 1), (4387225522552640517, 1), (6781020342679131794, 1), (6499784193189887141, 1), (5705762716164421039, 1), (563419132237047906, 1), (3623025877409691837, 1), (8307207936834725703, 1), (4644040415584442469, 1), (7041226240165495352, 1), (4957235840548025624, 1), (4071849124966326790, 1), (4552881442956715945, 1), (7420724791467951253, 1), (798469165358860691, 1), (7788028089145536933, 1), (5770915108996516552, 1), (2574172674740468361, 1), (9209619586460965671, 1), (6525578929189738674, 1), (6733924935129780959, 1), (6796522020696241953, 1), (8516567090523236407, 1), (2742357523268240611, 1), (8530452618109918631, 1), (3741421153106142791, 1), (1368358562094374394, 1), (9090404672728726736, 1), (2548850214960561861, 1), (6476009121479854118, 1), (8514959568536237107, 1), (4787075592330960790, 1), (5489681103310955680, 1), (7205846750030715274, 1), (829368978622529799, 1), (6110280340791170171, 1), (191698831160819035, 1), (4464324084219716027, 1), (4449157189029964530, 1), (1207744208153403315, 1), (2335569987026098167, 1), (670915069043726028, 1), (6061499408659090954, 1), (8588134357167134175, 1), (7580898037915104718, 1), (6108239185400727185, 1), (4603430086560467676, 1), ...]\n",
       "\n",
       "[1986330 rows x 0 columns]"
      ]
     },
     "execution_count": 47,
     "metadata": {},
     "output_type": "execute_result"
    }
   ],
   "source": [
    "devices.set_index(group)"
   ]
  },
  {
   "cell_type": "markdown",
   "metadata": {},
   "source": [
    "### Tiempo desde ultima aparicion"
   ]
  },
  {
   "cell_type": "code",
   "execution_count": 48,
   "metadata": {
    "collapsed": true
   },
   "outputs": [],
   "source": [
    "sample = auctions.sample(frac=0.4)"
   ]
  },
  {
   "cell_type": "code",
   "execution_count": 49,
   "metadata": {},
   "outputs": [
    {
     "ename": "ValueError",
     "evalue": "transforms cannot produce aggregated results",
     "output_type": "error",
     "traceback": [
      "\u001b[0;31m---------------------------------------------------------------------------\u001b[0m",
      "\u001b[0;31mValueError\u001b[0m                                Traceback (most recent call last)",
      "\u001b[0;32m<ipython-input-49-ab9d88f1188b>\u001b[0m in \u001b[0;36m<module>\u001b[0;34m()\u001b[0m\n\u001b[1;32m      1\u001b[0m \u001b[0;31m#Estimo los segundos hasta la siguiente ventana y luego me quedo con el minimo tiempo\u001b[0m\u001b[0;34m\u001b[0m\u001b[0;34m\u001b[0m\u001b[0m\n\u001b[1;32m      2\u001b[0m \u001b[0mmax_dates\u001b[0m \u001b[0;34m=\u001b[0m \u001b[0mpd\u001b[0m\u001b[0;34m.\u001b[0m\u001b[0mDataFrame\u001b[0m\u001b[0;34m(\u001b[0m\u001b[0;34m{\u001b[0m\u001b[0;34m'w_max_date'\u001b[0m\u001b[0;34m:\u001b[0m \u001b[0;34m[\u001b[0m\u001b[0mdt\u001b[0m\u001b[0;34m.\u001b[0m\u001b[0mdatetime\u001b[0m\u001b[0;34m(\u001b[0m\u001b[0;36m2019\u001b[0m\u001b[0;34m,\u001b[0m\u001b[0;36m4\u001b[0m\u001b[0;34m,\u001b[0m\u001b[0;36m21\u001b[0m\u001b[0;34m)\u001b[0m\u001b[0;34m,\u001b[0m\u001b[0mdt\u001b[0m\u001b[0;34m.\u001b[0m\u001b[0mdatetime\u001b[0m\u001b[0;34m(\u001b[0m\u001b[0;36m2019\u001b[0m\u001b[0;34m,\u001b[0m\u001b[0;36m4\u001b[0m\u001b[0;34m,\u001b[0m\u001b[0;36m24\u001b[0m\u001b[0;34m)\u001b[0m\u001b[0;34m,\u001b[0m\u001b[0mdt\u001b[0m\u001b[0;34m.\u001b[0m\u001b[0mdatetime\u001b[0m\u001b[0;34m(\u001b[0m\u001b[0;36m2019\u001b[0m\u001b[0;34m,\u001b[0m\u001b[0;36m4\u001b[0m\u001b[0;34m,\u001b[0m\u001b[0;36m27\u001b[0m\u001b[0;34m)\u001b[0m\u001b[0;34m]\u001b[0m\u001b[0;34m,\u001b[0m \u001b[0;34m'window_nr'\u001b[0m \u001b[0;34m:\u001b[0m \u001b[0;34m[\u001b[0m\u001b[0;36m1\u001b[0m\u001b[0;34m,\u001b[0m\u001b[0;36m2\u001b[0m\u001b[0;34m,\u001b[0m\u001b[0;36m3\u001b[0m\u001b[0;34m]\u001b[0m\u001b[0;34m}\u001b[0m\u001b[0;34m)\u001b[0m\u001b[0;34m\u001b[0m\u001b[0m\n\u001b[0;32m----> 3\u001b[0;31m \u001b[0mtime\u001b[0m \u001b[0;34m=\u001b[0m \u001b[0msample\u001b[0m\u001b[0;34m.\u001b[0m\u001b[0mmerge\u001b[0m\u001b[0;34m(\u001b[0m\u001b[0mmax_dates\u001b[0m\u001b[0;34m,\u001b[0m \u001b[0mon\u001b[0m\u001b[0;34m=\u001b[0m\u001b[0;34m'window_nr'\u001b[0m\u001b[0;34m,\u001b[0m \u001b[0mhow\u001b[0m\u001b[0;34m=\u001b[0m\u001b[0;34m'left'\u001b[0m\u001b[0;34m)\u001b[0m               \u001b[0;34m.\u001b[0m\u001b[0mset_index\u001b[0m\u001b[0;34m(\u001b[0m\u001b[0mgroup\u001b[0m\u001b[0;34m)\u001b[0m               \u001b[0;34m.\u001b[0m\u001b[0mtransform\u001b[0m\u001b[0;34m(\u001b[0m\u001b[0;32mlambda\u001b[0m \u001b[0mx\u001b[0m\u001b[0;34m:\u001b[0m \u001b[0mround\u001b[0m\u001b[0;34m(\u001b[0m\u001b[0;34m(\u001b[0m\u001b[0mx\u001b[0m\u001b[0;34m[\u001b[0m\u001b[0;34m'w_max_date'\u001b[0m\u001b[0;34m]\u001b[0m \u001b[0;34m-\u001b[0m \u001b[0mx\u001b[0m\u001b[0;34m[\u001b[0m\u001b[0;34m'created'\u001b[0m\u001b[0;34m]\u001b[0m\u001b[0;34m)\u001b[0m\u001b[0;34m.\u001b[0m\u001b[0mtotal_seconds\u001b[0m\u001b[0;34m(\u001b[0m\u001b[0;34m)\u001b[0m\u001b[0;34m)\u001b[0m\u001b[0;34m,\u001b[0m \u001b[0maxis\u001b[0m \u001b[0;34m=\u001b[0m \u001b[0;36m1\u001b[0m\u001b[0;34m)\u001b[0m               \u001b[0;34m.\u001b[0m\u001b[0mrename\u001b[0m\u001b[0;34m(\u001b[0m\u001b[0;34m'secs_since_last_arrival'\u001b[0m\u001b[0;34m)\u001b[0m               \u001b[0;34m.\u001b[0m\u001b[0mreset_index\u001b[0m\u001b[0;34m(\u001b[0m\u001b[0;34m)\u001b[0m               \u001b[0;34m.\u001b[0m\u001b[0mgroupby\u001b[0m\u001b[0;34m(\u001b[0m\u001b[0mgroup\u001b[0m\u001b[0;34m,\u001b[0m\u001b[0;34m)\u001b[0m\u001b[0;34m[\u001b[0m\u001b[0;34m'secs_since_last_arrival'\u001b[0m\u001b[0;34m]\u001b[0m               \u001b[0;34m.\u001b[0m\u001b[0magg\u001b[0m\u001b[0;34m(\u001b[0m\u001b[0;34m'min'\u001b[0m\u001b[0;34m)\u001b[0m\u001b[0;34m\u001b[0m\u001b[0m\n\u001b[0m",
      "\u001b[0;32m/usr/local/lib/python2.7/dist-packages/pandas/core/frame.pyc\u001b[0m in \u001b[0;36mtransform\u001b[0;34m(self, func, axis, *args, **kwargs)\u001b[0m\n\u001b[1;32m   6305\u001b[0m         \u001b[0maxis\u001b[0m \u001b[0;34m=\u001b[0m \u001b[0mself\u001b[0m\u001b[0;34m.\u001b[0m\u001b[0m_get_axis_number\u001b[0m\u001b[0;34m(\u001b[0m\u001b[0maxis\u001b[0m\u001b[0;34m)\u001b[0m\u001b[0;34m\u001b[0m\u001b[0m\n\u001b[1;32m   6306\u001b[0m         \u001b[0;32mif\u001b[0m \u001b[0maxis\u001b[0m \u001b[0;34m==\u001b[0m \u001b[0;36m1\u001b[0m\u001b[0;34m:\u001b[0m\u001b[0;34m\u001b[0m\u001b[0m\n\u001b[0;32m-> 6307\u001b[0;31m             \u001b[0;32mreturn\u001b[0m \u001b[0msuper\u001b[0m\u001b[0;34m(\u001b[0m\u001b[0mDataFrame\u001b[0m\u001b[0;34m,\u001b[0m \u001b[0mself\u001b[0m\u001b[0;34m.\u001b[0m\u001b[0mT\u001b[0m\u001b[0;34m)\u001b[0m\u001b[0;34m.\u001b[0m\u001b[0mtransform\u001b[0m\u001b[0;34m(\u001b[0m\u001b[0mfunc\u001b[0m\u001b[0;34m,\u001b[0m \u001b[0;34m*\u001b[0m\u001b[0margs\u001b[0m\u001b[0;34m,\u001b[0m \u001b[0;34m**\u001b[0m\u001b[0mkwargs\u001b[0m\u001b[0;34m)\u001b[0m\u001b[0;34m.\u001b[0m\u001b[0mT\u001b[0m\u001b[0;34m\u001b[0m\u001b[0m\n\u001b[0m\u001b[1;32m   6308\u001b[0m         \u001b[0;32mreturn\u001b[0m \u001b[0msuper\u001b[0m\u001b[0;34m(\u001b[0m\u001b[0mDataFrame\u001b[0m\u001b[0;34m,\u001b[0m \u001b[0mself\u001b[0m\u001b[0;34m)\u001b[0m\u001b[0;34m.\u001b[0m\u001b[0mtransform\u001b[0m\u001b[0;34m(\u001b[0m\u001b[0mfunc\u001b[0m\u001b[0;34m,\u001b[0m \u001b[0;34m*\u001b[0m\u001b[0margs\u001b[0m\u001b[0;34m,\u001b[0m \u001b[0;34m**\u001b[0m\u001b[0mkwargs\u001b[0m\u001b[0;34m)\u001b[0m\u001b[0;34m\u001b[0m\u001b[0m\n\u001b[1;32m   6309\u001b[0m \u001b[0;34m\u001b[0m\u001b[0m\n",
      "\u001b[0;32m/usr/local/lib/python2.7/dist-packages/pandas/core/generic.pyc\u001b[0m in \u001b[0;36mtransform\u001b[0;34m(self, func, *args, **kwargs)\u001b[0m\n\u001b[1;32m  10172\u001b[0m         \u001b[0mresult\u001b[0m \u001b[0;34m=\u001b[0m \u001b[0mself\u001b[0m\u001b[0;34m.\u001b[0m\u001b[0magg\u001b[0m\u001b[0;34m(\u001b[0m\u001b[0mfunc\u001b[0m\u001b[0;34m,\u001b[0m \u001b[0;34m*\u001b[0m\u001b[0margs\u001b[0m\u001b[0;34m,\u001b[0m \u001b[0;34m**\u001b[0m\u001b[0mkwargs\u001b[0m\u001b[0;34m)\u001b[0m\u001b[0;34m\u001b[0m\u001b[0m\n\u001b[1;32m  10173\u001b[0m         \u001b[0;32mif\u001b[0m \u001b[0mis_scalar\u001b[0m\u001b[0;34m(\u001b[0m\u001b[0mresult\u001b[0m\u001b[0;34m)\u001b[0m \u001b[0;32mor\u001b[0m \u001b[0mlen\u001b[0m\u001b[0;34m(\u001b[0m\u001b[0mresult\u001b[0m\u001b[0;34m)\u001b[0m \u001b[0;34m!=\u001b[0m \u001b[0mlen\u001b[0m\u001b[0;34m(\u001b[0m\u001b[0mself\u001b[0m\u001b[0;34m)\u001b[0m\u001b[0;34m:\u001b[0m\u001b[0;34m\u001b[0m\u001b[0m\n\u001b[0;32m> 10174\u001b[0;31m             raise ValueError(\"transforms cannot produce \"\n\u001b[0m\u001b[1;32m  10175\u001b[0m                              \"aggregated results\")\n\u001b[1;32m  10176\u001b[0m \u001b[0;34m\u001b[0m\u001b[0m\n",
      "\u001b[0;31mValueError\u001b[0m: transforms cannot produce aggregated results"
     ]
    }
   ],
   "source": [
    "print(\"Tiempo init: \"+str(pd.Timestamp.now()))\n",
    "#Estimo los segundos hasta la siguiente ventana y luego me quedo con el minimo tiempo\n",
    "max_dates = pd.DataFrame({'w_max_date': [dt.datetime(2019,4,21),dt.datetime(2019,4,24),dt.datetime(2019,4,27)], 'window_nr' : [1,2,3]})\n",
    "time = sample.merge(max_dates, on='window_nr', how='left')\\\n",
    "               .set_index(group)\\\n",
    "               .transform(lambda x: round((x['w_max_date'] - x['created']).total_seconds()), axis = 1)\\\n",
    "               .rename('secs_since_last_arrival')\\\n",
    "               .reset_index()\\\n",
    "               .groupby(group,)['secs_since_last_arrival']\\\n",
    "               .agg('min')\n",
    "print(\"Tiempo end: \"+str(pd.Timestamp.now()))"
   ]
  },
  {
   "cell_type": "code",
   "execution_count": null,
   "metadata": {
    "collapsed": true
   },
   "outputs": [],
   "source": [
    "time.head()"
   ]
  },
  {
   "cell_type": "code",
   "execution_count": null,
   "metadata": {
    "collapsed": true
   },
   "outputs": [],
   "source": [
    "devices = devices.merge(time, how='left', left_index=True, right_index=True)"
   ]
  },
  {
   "cell_type": "code",
   "execution_count": null,
   "metadata": {
    "collapsed": true
   },
   "outputs": [],
   "source": [
    "devices.head()"
   ]
  },
  {
   "cell_type": "markdown",
   "metadata": {},
   "source": [
    "### Cantidad de apariciones en encuestas en la ventana"
   ]
  },
  {
   "cell_type": "code",
   "execution_count": null,
   "metadata": {
    "collapsed": true
   },
   "outputs": [],
   "source": [
    "amount_auctions = auctions.groupby(group ,sort=False)['n'].count().rename('auctions_total')\n",
    "devices = devices.merge(auctions,how = 'left', left_index=True, right_index=True)\n",
    "devices.head()"
   ]
  },
  {
   "cell_type": "markdown",
   "metadata": {},
   "source": [
    "### Cantidad de apariciones en encuestas en la ultima hora"
   ]
  },
  {
   "cell_type": "code",
   "execution_count": null,
   "metadata": {
    "collapsed": true
   },
   "outputs": [],
   "source": [
    "time = auctions.merge(max_dates, on='window_nr', how='left').set_index(group)\n",
    "time = time.loc[time['created'] > (time['w_max_date']-timedelta(hours=1))]\\\n",
    "           .groupby(group,as_index=False,sort=false)['n']\\\n",
    "           .sum()\n",
    "           .rename('auctions_last_hour')\n",
    "            \n",
    "devices = devices.merge(time, how='left', left_index=True, right_index=True)\n",
    "devices.head()"
   ]
  }
 ],
 "metadata": {
  "kernelspec": {
   "display_name": "Python 2",
   "language": "python",
   "name": "python2"
  },
  "language_info": {
   "codemirror_mode": {
    "name": "ipython",
    "version": 2
   },
   "file_extension": ".py",
   "mimetype": "text/x-python",
   "name": "python",
   "nbconvert_exporter": "python",
   "pygments_lexer": "ipython2",
   "version": "2.7.12"
  }
 },
 "nbformat": 4,
 "nbformat_minor": 2
}
