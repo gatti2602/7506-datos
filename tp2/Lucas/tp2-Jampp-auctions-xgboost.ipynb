{
 "cells": [
  {
   "cell_type": "code",
   "execution_count": null,
   "metadata": {
    "collapsed": true
   },
   "outputs": [],
   "source": [
    "#Algunos datos de utilidad según conclusiones del TP1\n",
    "\n",
    "#En qué horarios se realizan más subastas?\n",
    "# Teniendo en cuenta solo los días hábiles\n",
    "# 5~10    : < 200k\n",
    "# 4,11~20 : 200k~300k\n",
    "# 20~0   : 300k ~ 400k\n",
    "# 1~2    : > 400k\n",
    "\n",
    "# :. entre las 20~2 hs se realizan la mayor cantidad de subastas con picos entre 1~2 hs."
   ]
  },
  {
   "cell_type": "code",
   "execution_count": null,
   "metadata": {
    "collapsed": true
   },
   "outputs": [],
   "source": [
    "# Depende un evento o una conversión de un usuario del día de la semana? Y de la hora?\n",
    "\n",
    "#La cantidad de eventos se mantine constantes, excepto en los días M y X, donde encontramos un pico.\n",
    "#Teniendo en cuenta la hora, la mayor cantidad de eventos se produce durante la tarde noche, inicio de la madrugada:\n",
    "#Pico(+175k):    [0,1]\n",
    "#Alta(150k~100k):(1,4)U[15,0)\n",
    "#Media(100k~50k): [4,15)\n",
    "#Baja(0~25k):(7,9)\n",
    "#:. La mayor cantidad de eventos sucede durante el rango 15~1(tarde noche)\n",
    "\n",
    "#INSTALACIONES\n",
    "# La mayor cantidad se realiza los días M y X\n",
    "# Los días M y X se duplica la cantidad de instalaciones aproximadamente(350~400)vs(750~800)\n",
    "# Respecto del horario: Comportamiento similar a los eventos; la mayor cantidad se registran durante la tarde~noche(13~3)\n",
    "# Afecta la presencia de wifi a la cantidad de instalaciones?\n",
    "#El 80% de las instalaciones se lleva a cabo con dispositivos usando wifi.\n",
    "#Cualés son las app mas populares?\n",
    "# app_id | users | events\n",
    "# 66       70k      325k\n",
    "# 63       18k      181k \n",
    "# 145      17.5k    252k\n",
    "# 64       17k      259k\n",
    "# 103       15k     137k"
   ]
  },
  {
   "cell_type": "markdown",
   "metadata": {},
   "source": [
    "## Predicciones\n",
    "- En un instante dado, estimar St(d) el tiempo hasta que un dispositivo d aparezca de vuelta en una subasta RTB\n",
    "- En un instante dado, estimar Sc(d) el tiempo hasta que un dispositivo d convierta\n",
    "\n"
   ]
  },
  {
   "cell_type": "markdown",
   "metadata": {},
   "source": [
    "# Arboles - xgboost"
   ]
  },
  {
   "cell_type": "code",
   "execution_count": 110,
   "metadata": {},
   "outputs": [],
   "source": [
    "import pandas as pd\n",
    "import matplotlib as mp\n",
    "import numpy as np\n",
    "from datetime import timedelta\n",
    "import datetime as dt\n",
    "import gc\n",
    "\n",
    "from sklearn.ensemble import RandomForestRegressor\n",
    "from sklearn.metrics import mean_squared_error\n",
    "from sklearn.model_selection import train_test_split\n",
    "import xgboost as xgb\n",
    "\n",
    "%matplotlib inline"
   ]
  },
  {
   "cell_type": "markdown",
   "metadata": {},
   "source": [
    "## Preparación de datos"
   ]
  },
  {
   "cell_type": "markdown",
   "metadata": {},
   "source": [
    "## Configuracion"
   ]
  },
  {
   "cell_type": "code",
   "execution_count": 19,
   "metadata": {},
   "outputs": [
    {
     "name": "stdout",
     "output_type": "stream",
     "text": [
      "Root path data: ../data/\n",
      "Es testing: True\n",
      "Faccion de registros a usar para testing: 0.01\n",
      "Min de device a tener en cuenta: 10\n"
     ]
    }
   ],
   "source": [
    "#Root de archivos de datos\n",
    "root_dir = '../data/'\n",
    "print('Root path data: '+root_dir)\n",
    "#Lee menos data si es testing\n",
    "is_testing = True\n",
    "print('Es testing: '+str(is_testing))\n",
    "fraccion_a_usar = 0.01\n",
    "print('Faccion de registros a usar para testing: '+str(fraccion_a_usar))\n",
    "# Cantidad minima de aparicion de equipos en un dataframe. Esta variable se usa para eliminar los registros\n",
    "# que tengan pocas apariciones dentro del set de datos total.\n",
    "min_devices = 10\n",
    "print('Min de device a tener en cuenta: '+str(min_devices))\n",
    "\n",
    "# Identificador unico de equipos\n",
    "device_uuid = ['ref_type','ref_hash']\n",
    "\n",
    "# Ventanas de tiempo\n",
    "windows = pd.DataFrame({\n",
    "'window_nr':[1,2,3,4],\n",
    "'n': 1,\n",
    "'min_date': dt.datetime(2019,4,18),\n",
    "'max_date': [dt.datetime(2019,4,21),dt.datetime(2019,4,22),dt.datetime(2019,4,23),dt.datetime(2019,4,24)]\n",
    "})"
   ]
  },
  {
   "cell_type": "code",
   "execution_count": 20,
   "metadata": {},
   "outputs": [
    {
     "data": {
      "text/html": [
       "<div>\n",
       "<style scoped>\n",
       "    .dataframe tbody tr th:only-of-type {\n",
       "        vertical-align: middle;\n",
       "    }\n",
       "\n",
       "    .dataframe tbody tr th {\n",
       "        vertical-align: top;\n",
       "    }\n",
       "\n",
       "    .dataframe thead th {\n",
       "        text-align: right;\n",
       "    }\n",
       "</style>\n",
       "<table border=\"1\" class=\"dataframe\">\n",
       "  <thead>\n",
       "    <tr style=\"text-align: right;\">\n",
       "      <th></th>\n",
       "      <th>max_date</th>\n",
       "      <th>min_date</th>\n",
       "      <th>n</th>\n",
       "      <th>window_nr</th>\n",
       "    </tr>\n",
       "  </thead>\n",
       "  <tbody>\n",
       "    <tr>\n",
       "      <th>0</th>\n",
       "      <td>2019-04-21</td>\n",
       "      <td>2019-04-18</td>\n",
       "      <td>1</td>\n",
       "      <td>1</td>\n",
       "    </tr>\n",
       "    <tr>\n",
       "      <th>1</th>\n",
       "      <td>2019-04-22</td>\n",
       "      <td>2019-04-18</td>\n",
       "      <td>1</td>\n",
       "      <td>2</td>\n",
       "    </tr>\n",
       "    <tr>\n",
       "      <th>2</th>\n",
       "      <td>2019-04-23</td>\n",
       "      <td>2019-04-18</td>\n",
       "      <td>1</td>\n",
       "      <td>3</td>\n",
       "    </tr>\n",
       "    <tr>\n",
       "      <th>3</th>\n",
       "      <td>2019-04-24</td>\n",
       "      <td>2019-04-18</td>\n",
       "      <td>1</td>\n",
       "      <td>4</td>\n",
       "    </tr>\n",
       "  </tbody>\n",
       "</table>\n",
       "</div>"
      ],
      "text/plain": [
       "    max_date   min_date  n  window_nr\n",
       "0 2019-04-21 2019-04-18  1          1\n",
       "1 2019-04-22 2019-04-18  1          2\n",
       "2 2019-04-23 2019-04-18  1          3\n",
       "3 2019-04-24 2019-04-18  1          4"
      ]
     },
     "execution_count": 20,
     "metadata": {},
     "output_type": "execute_result"
    }
   ],
   "source": [
    "windows"
   ]
  },
  {
   "cell_type": "code",
   "execution_count": 4,
   "metadata": {
    "collapsed": true
   },
   "outputs": [],
   "source": [
    "#Se lee el dataframe de auctions\n",
    "\n",
    "#Optimizado para menos memoria\n",
    "auction_dtypes = {\n",
    "    'ref_type_id': np.int8,\n",
    "    'device_id': np.int64,\n",
    "    'source_id': np.int8\n",
    "}\n",
    "#root_dir + 'auctions.csv.gzip'\n",
    "auctions = pd.read_csv(root_dir+'auctions.csv.gzip',\n",
    "                       compression = 'gzip',\n",
    "                       dtype = auction_dtypes,\n",
    "                       parse_dates = ['date'])\n",
    "auctions.rename({'device_id':'ref_hash',\n",
    "                 'ref_type_id':'ref_type'}, inplace=True, axis='columns')\n",
    "\n",
    "# Para sumar los registros\n",
    "auctions['n'] = 1"
   ]
  },
  {
   "cell_type": "code",
   "execution_count": 5,
   "metadata": {},
   "outputs": [
    {
     "name": "stdout",
     "output_type": "stream",
     "text": [
      "('Total records:', 47409528)\n",
      "('Is Testing, #records:', 474095)\n"
     ]
    }
   ],
   "source": [
    "# Info de registros totales/a usar para entrenar\n",
    "print('Total records:',auctions['n'].sum())\n",
    "if is_testing:\n",
    "    auctions = auctions.sample(frac=fraccion_a_usar)\n",
    "    print(\"Is Testing, #records:\", auctions['n'].sum())\n",
    "else:\n",
    "    print(\"Not Testing, #records:\", auctions['n'].sum())"
   ]
  },
  {
   "cell_type": "code",
   "execution_count": 7,
   "metadata": {},
   "outputs": [
    {
     "data": {
      "text/html": [
       "<div>\n",
       "<style scoped>\n",
       "    .dataframe tbody tr th:only-of-type {\n",
       "        vertical-align: middle;\n",
       "    }\n",
       "\n",
       "    .dataframe tbody tr th {\n",
       "        vertical-align: top;\n",
       "    }\n",
       "\n",
       "    .dataframe thead th {\n",
       "        text-align: right;\n",
       "    }\n",
       "</style>\n",
       "<table border=\"1\" class=\"dataframe\">\n",
       "  <thead>\n",
       "    <tr style=\"text-align: right;\">\n",
       "      <th></th>\n",
       "      <th>0</th>\n",
       "    </tr>\n",
       "  </thead>\n",
       "  <tbody>\n",
       "    <tr>\n",
       "      <th>0</th>\n",
       "      <td>1000169251625791246</td>\n",
       "    </tr>\n",
       "    <tr>\n",
       "      <th>2</th>\n",
       "      <td>1000395625957344683</td>\n",
       "    </tr>\n",
       "    <tr>\n",
       "      <th>4</th>\n",
       "      <td>1003027494996471685</td>\n",
       "    </tr>\n",
       "    <tr>\n",
       "      <th>6</th>\n",
       "      <td>1006670001679961544</td>\n",
       "    </tr>\n",
       "    <tr>\n",
       "      <th>8</th>\n",
       "      <td>1007573308966476713</td>\n",
       "    </tr>\n",
       "  </tbody>\n",
       "</table>\n",
       "</div>"
      ],
      "text/plain": [
       "                     0\n",
       "0  1000169251625791246\n",
       "2  1000395625957344683\n",
       "4  1003027494996471685\n",
       "6  1006670001679961544\n",
       "8  1007573308966476713"
      ]
     },
     "execution_count": 7,
     "metadata": {},
     "output_type": "execute_result"
    }
   ],
   "source": [
    "to_predict = pd.read_csv(root_dir+'target_competencia_ids.csv')\n",
    "#predict reaparicion=st\n",
    "predict_ids = to_predict.apply(lambda x: np.int64(x['ref_hash'][0:x['ref_hash'].find('_')]), axis='columns').drop_duplicates().to_frame()\n",
    "#predict conversion=sc\n",
    "predict_ids.head()"
   ]
  },
  {
   "cell_type": "markdown",
   "metadata": {},
   "source": [
    "### Arreglo de datos en auctions"
   ]
  },
  {
   "cell_type": "code",
   "execution_count": 8,
   "metadata": {},
   "outputs": [
    {
     "data": {
      "text/html": [
       "<div>\n",
       "<style scoped>\n",
       "    .dataframe tbody tr th:only-of-type {\n",
       "        vertical-align: middle;\n",
       "    }\n",
       "\n",
       "    .dataframe tbody tr th {\n",
       "        vertical-align: top;\n",
       "    }\n",
       "\n",
       "    .dataframe thead th {\n",
       "        text-align: right;\n",
       "    }\n",
       "</style>\n",
       "<table border=\"1\" class=\"dataframe\">\n",
       "  <thead>\n",
       "    <tr style=\"text-align: right;\">\n",
       "      <th></th>\n",
       "      <th>date</th>\n",
       "      <th>ref_hash</th>\n",
       "      <th>ref_type</th>\n",
       "      <th>source_id</th>\n",
       "      <th>n</th>\n",
       "    </tr>\n",
       "  </thead>\n",
       "  <tbody>\n",
       "    <tr>\n",
       "      <th>26464112</th>\n",
       "      <td>2019-04-21 02:25:26.903358</td>\n",
       "      <td>6489924860691406939</td>\n",
       "      <td>1</td>\n",
       "      <td>1</td>\n",
       "      <td>1</td>\n",
       "    </tr>\n",
       "    <tr>\n",
       "      <th>41622451</th>\n",
       "      <td>2019-04-22 22:11:57.903062</td>\n",
       "      <td>3422777417513500532</td>\n",
       "      <td>7</td>\n",
       "      <td>0</td>\n",
       "      <td>1</td>\n",
       "    </tr>\n",
       "    <tr>\n",
       "      <th>43335676</th>\n",
       "      <td>2019-04-21 03:16:02.192333</td>\n",
       "      <td>1458201828341030914</td>\n",
       "      <td>7</td>\n",
       "      <td>0</td>\n",
       "      <td>1</td>\n",
       "    </tr>\n",
       "  </tbody>\n",
       "</table>\n",
       "</div>"
      ],
      "text/plain": [
       "                               date             ref_hash  ref_type  source_id  \\\n",
       "26464112 2019-04-21 02:25:26.903358  6489924860691406939         1          1   \n",
       "41622451 2019-04-22 22:11:57.903062  3422777417513500532         7          0   \n",
       "43335676 2019-04-21 03:16:02.192333  1458201828341030914         7          0   \n",
       "\n",
       "          n  \n",
       "26464112  1  \n",
       "41622451  1  \n",
       "43335676  1  "
      ]
     },
     "execution_count": 8,
     "metadata": {},
     "output_type": "execute_result"
    }
   ],
   "source": [
    "auctions.head(3)"
   ]
  },
  {
   "cell_type": "code",
   "execution_count": 9,
   "metadata": {},
   "outputs": [
    {
     "name": "stdout",
     "output_type": "stream",
     "text": [
      "Minimo de devices a usar 10\n",
      "Cantidad auctions originales 474095\n",
      "Cantidad auctions eliminados 288706\n",
      "Cantidad auctions finales 185389\n"
     ]
    }
   ],
   "source": [
    "# Se eliminan los reg con pocas apariciones dentro del set de datos\n",
    "print('Minimo de devices a usar '+str(min_devices))\n",
    "orig_count = auctions['n'].sum()\n",
    "auctions_clean = auctions.groupby(device_uuid, sort = False).filter(lambda x: x['n'].sum() >= min_devices) \n",
    "last_count = auctions_clean['n'].sum()\n",
    "print('Cantidad auctions originales '+str(orig_count))\n",
    "print('Cantidad auctions eliminados '+str(orig_count-last_count))\n",
    "print('Cantidad auctions restantes '+str(last_count))"
   ]
  },
  {
   "cell_type": "code",
   "execution_count": 10,
   "metadata": {},
   "outputs": [
    {
     "data": {
      "text/html": [
       "<div>\n",
       "<style scoped>\n",
       "    .dataframe tbody tr th:only-of-type {\n",
       "        vertical-align: middle;\n",
       "    }\n",
       "\n",
       "    .dataframe tbody tr th {\n",
       "        vertical-align: top;\n",
       "    }\n",
       "\n",
       "    .dataframe thead th {\n",
       "        text-align: right;\n",
       "    }\n",
       "</style>\n",
       "<table border=\"1\" class=\"dataframe\">\n",
       "  <thead>\n",
       "    <tr style=\"text-align: right;\">\n",
       "      <th></th>\n",
       "      <th>date</th>\n",
       "      <th>ref_hash</th>\n",
       "      <th>ref_type</th>\n",
       "      <th>source_id</th>\n",
       "      <th>n</th>\n",
       "    </tr>\n",
       "  </thead>\n",
       "  <tbody>\n",
       "    <tr>\n",
       "      <th>43335676</th>\n",
       "      <td>2019-04-21 03:16:02.192333</td>\n",
       "      <td>1458201828341030914</td>\n",
       "      <td>7</td>\n",
       "      <td>0</td>\n",
       "      <td>1</td>\n",
       "    </tr>\n",
       "    <tr>\n",
       "      <th>24741188</th>\n",
       "      <td>2019-04-25 17:24:40.246125</td>\n",
       "      <td>1260686783384403796</td>\n",
       "      <td>1</td>\n",
       "      <td>1</td>\n",
       "      <td>1</td>\n",
       "    </tr>\n",
       "    <tr>\n",
       "      <th>26783913</th>\n",
       "      <td>2019-04-25 21:11:05.549285</td>\n",
       "      <td>3424623430150500455</td>\n",
       "      <td>1</td>\n",
       "      <td>1</td>\n",
       "      <td>1</td>\n",
       "    </tr>\n",
       "    <tr>\n",
       "      <th>28617588</th>\n",
       "      <td>2019-04-25 21:25:26.432189</td>\n",
       "      <td>3086216490891530850</td>\n",
       "      <td>7</td>\n",
       "      <td>1</td>\n",
       "      <td>1</td>\n",
       "    </tr>\n",
       "    <tr>\n",
       "      <th>35126626</th>\n",
       "      <td>2019-04-25 14:26:09.479632</td>\n",
       "      <td>8324366947559667326</td>\n",
       "      <td>1</td>\n",
       "      <td>1</td>\n",
       "      <td>1</td>\n",
       "    </tr>\n",
       "  </tbody>\n",
       "</table>\n",
       "</div>"
      ],
      "text/plain": [
       "                               date             ref_hash  ref_type  source_id  \\\n",
       "43335676 2019-04-21 03:16:02.192333  1458201828341030914         7          0   \n",
       "24741188 2019-04-25 17:24:40.246125  1260686783384403796         1          1   \n",
       "26783913 2019-04-25 21:11:05.549285  3424623430150500455         1          1   \n",
       "28617588 2019-04-25 21:25:26.432189  3086216490891530850         7          1   \n",
       "35126626 2019-04-25 14:26:09.479632  8324366947559667326         1          1   \n",
       "\n",
       "          n  \n",
       "43335676  1  \n",
       "24741188  1  \n",
       "26783913  1  \n",
       "28617588  1  \n",
       "35126626  1  "
      ]
     },
     "execution_count": 10,
     "metadata": {},
     "output_type": "execute_result"
    }
   ],
   "source": [
    "auctions_clean.head()"
   ]
  },
  {
   "cell_type": "code",
   "execution_count": 18,
   "metadata": {},
   "outputs": [
    {
     "data": {
      "text/plain": [
       "['ref_type', 'ref_hash', 'date']"
      ]
     },
     "execution_count": 18,
     "metadata": {},
     "output_type": "execute_result"
    }
   ],
   "source": [
    "device_uuid+['date']"
   ]
  },
  {
   "cell_type": "code",
   "execution_count": 22,
   "metadata": {},
   "outputs": [
    {
     "data": {
      "text/plain": [
       "date         datetime64[ns]\n",
       "ref_hash              int64\n",
       "ref_type               int8\n",
       "source_id              int8\n",
       "n                     int64\n",
       "dtype: object"
      ]
     },
     "execution_count": 22,
     "metadata": {},
     "output_type": "execute_result"
    }
   ],
   "source": [
    "auctions_clean.dtypes"
   ]
  },
  {
   "cell_type": "code",
   "execution_count": 12,
   "metadata": {},
   "outputs": [
    {
     "data": {
      "text/html": [
       "<div>\n",
       "<style scoped>\n",
       "    .dataframe tbody tr th:only-of-type {\n",
       "        vertical-align: middle;\n",
       "    }\n",
       "\n",
       "    .dataframe tbody tr th {\n",
       "        vertical-align: top;\n",
       "    }\n",
       "\n",
       "    .dataframe thead th {\n",
       "        text-align: right;\n",
       "    }\n",
       "</style>\n",
       "<table border=\"1\" class=\"dataframe\">\n",
       "  <thead>\n",
       "    <tr style=\"text-align: right;\">\n",
       "      <th></th>\n",
       "      <th>date</th>\n",
       "      <th>ref_hash</th>\n",
       "      <th>ref_type</th>\n",
       "      <th>source_id</th>\n",
       "      <th>n</th>\n",
       "      <th>next_date</th>\n",
       "      <th>secs_to_next</th>\n",
       "    </tr>\n",
       "  </thead>\n",
       "  <tbody>\n",
       "    <tr>\n",
       "      <th>19683348</th>\n",
       "      <td>2019-04-18 07:18:46.350778</td>\n",
       "      <td>2125435237741841</td>\n",
       "      <td>1</td>\n",
       "      <td>3</td>\n",
       "      <td>1</td>\n",
       "      <td>2019-04-18 07:22:18.798585</td>\n",
       "      <td>212.0</td>\n",
       "    </tr>\n",
       "    <tr>\n",
       "      <th>4895991</th>\n",
       "      <td>2019-04-18 07:22:18.798585</td>\n",
       "      <td>2125435237741841</td>\n",
       "      <td>1</td>\n",
       "      <td>1</td>\n",
       "      <td>1</td>\n",
       "      <td>2019-04-18 08:35:32.924509</td>\n",
       "      <td>4394.0</td>\n",
       "    </tr>\n",
       "    <tr>\n",
       "      <th>9278379</th>\n",
       "      <td>2019-04-18 08:35:32.924509</td>\n",
       "      <td>2125435237741841</td>\n",
       "      <td>1</td>\n",
       "      <td>3</td>\n",
       "      <td>1</td>\n",
       "      <td>2019-04-18 08:54:54.872365</td>\n",
       "      <td>1162.0</td>\n",
       "    </tr>\n",
       "    <tr>\n",
       "      <th>41311212</th>\n",
       "      <td>2019-04-18 08:54:54.872365</td>\n",
       "      <td>2125435237741841</td>\n",
       "      <td>1</td>\n",
       "      <td>3</td>\n",
       "      <td>1</td>\n",
       "      <td>2019-04-18 20:48:18.888273</td>\n",
       "      <td>42804.0</td>\n",
       "    </tr>\n",
       "    <tr>\n",
       "      <th>13938745</th>\n",
       "      <td>2019-04-18 20:48:18.888273</td>\n",
       "      <td>2125435237741841</td>\n",
       "      <td>1</td>\n",
       "      <td>3</td>\n",
       "      <td>1</td>\n",
       "      <td>2019-04-19 14:15:39.599201</td>\n",
       "      <td>62841.0</td>\n",
       "    </tr>\n",
       "  </tbody>\n",
       "</table>\n",
       "</div>"
      ],
      "text/plain": [
       "                               date          ref_hash  ref_type  source_id  n  \\\n",
       "19683348 2019-04-18 07:18:46.350778  2125435237741841         1          3  1   \n",
       "4895991  2019-04-18 07:22:18.798585  2125435237741841         1          1  1   \n",
       "9278379  2019-04-18 08:35:32.924509  2125435237741841         1          3  1   \n",
       "41311212 2019-04-18 08:54:54.872365  2125435237741841         1          3  1   \n",
       "13938745 2019-04-18 20:48:18.888273  2125435237741841         1          3  1   \n",
       "\n",
       "                          next_date  secs_to_next  \n",
       "19683348 2019-04-18 07:22:18.798585         212.0  \n",
       "4895991  2019-04-18 08:35:32.924509        4394.0  \n",
       "9278379  2019-04-18 08:54:54.872365        1162.0  \n",
       "41311212 2019-04-18 20:48:18.888273       42804.0  \n",
       "13938745 2019-04-19 14:15:39.599201       62841.0  "
      ]
     },
     "execution_count": 12,
     "metadata": {},
     "output_type": "execute_result"
    }
   ],
   "source": [
    "auc_clean = auctions_clean.sort_values(by=device_uuid+['date'], inplace=False)\n",
    "#setea el próximo día de aparición(next_date)\n",
    "auc_clean['next_date'] = auc_clean.groupby(device_uuid, as_index = False, sort=False)['date'].transform(lambda x: x.shift(-1))\n",
    "# saco los registros 'borde', aquellos que no tienen 'next_date'\n",
    "auc_clean = auc_clean.loc[(~auc_clean['next_date'].isnull())]\n",
    "# Seteo los segundos de las apariciones\n",
    "auc_clean['secs_to_next'] = (auc_clean['next_date'] - auc_clean['date']).transform(lambda x: round(x.total_seconds()))\n",
    "auc_clean.head()"
   ]
  },
  {
   "cell_type": "code",
   "execution_count": 13,
   "metadata": {},
   "outputs": [
    {
     "data": {
      "text/html": [
       "<div>\n",
       "<style scoped>\n",
       "    .dataframe tbody tr th:only-of-type {\n",
       "        vertical-align: middle;\n",
       "    }\n",
       "\n",
       "    .dataframe tbody tr th {\n",
       "        vertical-align: top;\n",
       "    }\n",
       "\n",
       "    .dataframe thead th {\n",
       "        text-align: right;\n",
       "    }\n",
       "</style>\n",
       "<table border=\"1\" class=\"dataframe\">\n",
       "  <thead>\n",
       "    <tr style=\"text-align: right;\">\n",
       "      <th></th>\n",
       "      <th>date</th>\n",
       "      <th>ref_hash</th>\n",
       "      <th>ref_type</th>\n",
       "      <th>source_id</th>\n",
       "      <th>n</th>\n",
       "      <th>next_date</th>\n",
       "      <th>secs_to_next</th>\n",
       "      <th>hs_to_next</th>\n",
       "    </tr>\n",
       "  </thead>\n",
       "  <tbody>\n",
       "    <tr>\n",
       "      <th>19683348</th>\n",
       "      <td>2019-04-18 07:18:46.350778</td>\n",
       "      <td>2125435237741841</td>\n",
       "      <td>1</td>\n",
       "      <td>3</td>\n",
       "      <td>1</td>\n",
       "      <td>2019-04-18 07:22:18.798585</td>\n",
       "      <td>212.0</td>\n",
       "      <td>0.058889</td>\n",
       "    </tr>\n",
       "    <tr>\n",
       "      <th>4895991</th>\n",
       "      <td>2019-04-18 07:22:18.798585</td>\n",
       "      <td>2125435237741841</td>\n",
       "      <td>1</td>\n",
       "      <td>1</td>\n",
       "      <td>1</td>\n",
       "      <td>2019-04-18 08:35:32.924509</td>\n",
       "      <td>4394.0</td>\n",
       "      <td>1.220556</td>\n",
       "    </tr>\n",
       "    <tr>\n",
       "      <th>9278379</th>\n",
       "      <td>2019-04-18 08:35:32.924509</td>\n",
       "      <td>2125435237741841</td>\n",
       "      <td>1</td>\n",
       "      <td>3</td>\n",
       "      <td>1</td>\n",
       "      <td>2019-04-18 08:54:54.872365</td>\n",
       "      <td>1162.0</td>\n",
       "      <td>0.322778</td>\n",
       "    </tr>\n",
       "    <tr>\n",
       "      <th>41311212</th>\n",
       "      <td>2019-04-18 08:54:54.872365</td>\n",
       "      <td>2125435237741841</td>\n",
       "      <td>1</td>\n",
       "      <td>3</td>\n",
       "      <td>1</td>\n",
       "      <td>2019-04-18 20:48:18.888273</td>\n",
       "      <td>42804.0</td>\n",
       "      <td>11.890000</td>\n",
       "    </tr>\n",
       "    <tr>\n",
       "      <th>13938745</th>\n",
       "      <td>2019-04-18 20:48:18.888273</td>\n",
       "      <td>2125435237741841</td>\n",
       "      <td>1</td>\n",
       "      <td>3</td>\n",
       "      <td>1</td>\n",
       "      <td>2019-04-19 14:15:39.599201</td>\n",
       "      <td>62841.0</td>\n",
       "      <td>17.455833</td>\n",
       "    </tr>\n",
       "  </tbody>\n",
       "</table>\n",
       "</div>"
      ],
      "text/plain": [
       "                               date          ref_hash  ref_type  source_id  n  \\\n",
       "19683348 2019-04-18 07:18:46.350778  2125435237741841         1          3  1   \n",
       "4895991  2019-04-18 07:22:18.798585  2125435237741841         1          1  1   \n",
       "9278379  2019-04-18 08:35:32.924509  2125435237741841         1          3  1   \n",
       "41311212 2019-04-18 08:54:54.872365  2125435237741841         1          3  1   \n",
       "13938745 2019-04-18 20:48:18.888273  2125435237741841         1          3  1   \n",
       "\n",
       "                          next_date  secs_to_next  hs_to_next  \n",
       "19683348 2019-04-18 07:22:18.798585         212.0    0.058889  \n",
       "4895991  2019-04-18 08:35:32.924509        4394.0    1.220556  \n",
       "9278379  2019-04-18 08:54:54.872365        1162.0    0.322778  \n",
       "41311212 2019-04-18 20:48:18.888273       42804.0   11.890000  \n",
       "13938745 2019-04-19 14:15:39.599201       62841.0   17.455833  "
      ]
     },
     "execution_count": 13,
     "metadata": {},
     "output_type": "execute_result"
    }
   ],
   "source": [
    "auc_clean['hs_to_next'] = (auc_clean['secs_to_next'] ).transform(lambda x: x/(60*60))\n",
    "auc_clean.head()"
   ]
  },
  {
   "cell_type": "code",
   "execution_count": 14,
   "metadata": {},
   "outputs": [
    {
     "data": {
      "text/plain": [
       "176106"
      ]
     },
     "execution_count": 14,
     "metadata": {},
     "output_type": "execute_result"
    }
   ],
   "source": [
    "auc_clean['n'].sum()"
   ]
  },
  {
   "cell_type": "code",
   "execution_count": 15,
   "metadata": {},
   "outputs": [
    {
     "data": {
      "text/plain": [
       "Timestamp('2019-04-18 00:00:00.259283')"
      ]
     },
     "execution_count": 15,
     "metadata": {},
     "output_type": "execute_result"
    }
   ],
   "source": [
    "auc_clean['date'].min()"
   ]
  },
  {
   "cell_type": "code",
   "execution_count": 16,
   "metadata": {},
   "outputs": [
    {
     "data": {
      "text/plain": [
       "Timestamp('2019-04-26 23:57:42.603836')"
      ]
     },
     "execution_count": 16,
     "metadata": {},
     "output_type": "execute_result"
    }
   ],
   "source": [
    "auc_clean['date'].max()"
   ]
  },
  {
   "cell_type": "markdown",
   "metadata": {},
   "source": [
    "# Armado de features"
   ]
  },
  {
   "cell_type": "code",
   "execution_count": 22,
   "metadata": {},
   "outputs": [
    {
     "data": {
      "text/html": [
       "<div>\n",
       "<style scoped>\n",
       "    .dataframe tbody tr th:only-of-type {\n",
       "        vertical-align: middle;\n",
       "    }\n",
       "\n",
       "    .dataframe tbody tr th {\n",
       "        vertical-align: top;\n",
       "    }\n",
       "\n",
       "    .dataframe thead th {\n",
       "        text-align: right;\n",
       "    }\n",
       "</style>\n",
       "<table border=\"1\" class=\"dataframe\">\n",
       "  <thead>\n",
       "    <tr style=\"text-align: right;\">\n",
       "      <th></th>\n",
       "      <th>max_date</th>\n",
       "      <th>min_date</th>\n",
       "      <th>n</th>\n",
       "    </tr>\n",
       "    <tr>\n",
       "      <th>window_nr</th>\n",
       "      <th></th>\n",
       "      <th></th>\n",
       "      <th></th>\n",
       "    </tr>\n",
       "  </thead>\n",
       "  <tbody>\n",
       "    <tr>\n",
       "      <th>1</th>\n",
       "      <td>2019-04-21</td>\n",
       "      <td>2019-04-18</td>\n",
       "      <td>1</td>\n",
       "    </tr>\n",
       "    <tr>\n",
       "      <th>2</th>\n",
       "      <td>2019-04-22</td>\n",
       "      <td>2019-04-18</td>\n",
       "      <td>1</td>\n",
       "    </tr>\n",
       "    <tr>\n",
       "      <th>3</th>\n",
       "      <td>2019-04-23</td>\n",
       "      <td>2019-04-18</td>\n",
       "      <td>1</td>\n",
       "    </tr>\n",
       "    <tr>\n",
       "      <th>4</th>\n",
       "      <td>2019-04-24</td>\n",
       "      <td>2019-04-18</td>\n",
       "      <td>1</td>\n",
       "    </tr>\n",
       "  </tbody>\n",
       "</table>\n",
       "</div>"
      ],
      "text/plain": [
       "            max_date   min_date  n\n",
       "window_nr                         \n",
       "1         2019-04-21 2019-04-18  1\n",
       "2         2019-04-22 2019-04-18  1\n",
       "3         2019-04-23 2019-04-18  1\n",
       "4         2019-04-24 2019-04-18  1"
      ]
     },
     "execution_count": 22,
     "metadata": {},
     "output_type": "execute_result"
    }
   ],
   "source": [
    "windows.set_index('window_nr')"
   ]
  },
  {
   "cell_type": "markdown",
   "metadata": {},
   "source": [
    "## Rearmado de ventanas"
   ]
  },
  {
   "cell_type": "code",
   "execution_count": 25,
   "metadata": {},
   "outputs": [
    {
     "data": {
      "text/html": [
       "<div>\n",
       "<style scoped>\n",
       "    .dataframe tbody tr th:only-of-type {\n",
       "        vertical-align: middle;\n",
       "    }\n",
       "\n",
       "    .dataframe tbody tr th {\n",
       "        vertical-align: top;\n",
       "    }\n",
       "\n",
       "    .dataframe thead th {\n",
       "        text-align: right;\n",
       "    }\n",
       "</style>\n",
       "<table border=\"1\" class=\"dataframe\">\n",
       "  <thead>\n",
       "    <tr style=\"text-align: right;\">\n",
       "      <th></th>\n",
       "      <th>max_date</th>\n",
       "      <th>min_date</th>\n",
       "      <th>n</th>\n",
       "      <th>window_nr</th>\n",
       "    </tr>\n",
       "  </thead>\n",
       "  <tbody>\n",
       "    <tr>\n",
       "      <th>0</th>\n",
       "      <td>2019-04-21</td>\n",
       "      <td>2019-04-18</td>\n",
       "      <td>1</td>\n",
       "      <td>1</td>\n",
       "    </tr>\n",
       "    <tr>\n",
       "      <th>1</th>\n",
       "      <td>2019-04-22</td>\n",
       "      <td>2019-04-19</td>\n",
       "      <td>1</td>\n",
       "      <td>2</td>\n",
       "    </tr>\n",
       "    <tr>\n",
       "      <th>2</th>\n",
       "      <td>2019-04-23</td>\n",
       "      <td>2019-04-20</td>\n",
       "      <td>1</td>\n",
       "      <td>3</td>\n",
       "    </tr>\n",
       "    <tr>\n",
       "      <th>3</th>\n",
       "      <td>2019-04-24</td>\n",
       "      <td>2019-04-21</td>\n",
       "      <td>1</td>\n",
       "      <td>4</td>\n",
       "    </tr>\n",
       "  </tbody>\n",
       "</table>\n",
       "</div>"
      ],
      "text/plain": [
       "    max_date   min_date  n  window_nr\n",
       "0 2019-04-21 2019-04-18  1          1\n",
       "1 2019-04-22 2019-04-19  1          2\n",
       "2 2019-04-23 2019-04-20  1          3\n",
       "3 2019-04-24 2019-04-21  1          4"
      ]
     },
     "execution_count": 25,
     "metadata": {},
     "output_type": "execute_result"
    }
   ],
   "source": [
    "windows2 = pd.DataFrame({\n",
    "'window_nr':[1,2,3,4],\n",
    "'n': 1,\n",
    "'min_date': [dt.datetime(2019,4,18),dt.datetime(2019,4,19),dt.datetime(2019,4,20),dt.datetime(2019,4,21)],\n",
    "'max_date': [dt.datetime(2019,4,21),dt.datetime(2019,4,22),dt.datetime(2019,4,23),dt.datetime(2019,4,24)]\n",
    "})\n",
    "windows2"
   ]
  },
  {
   "cell_type": "code",
   "execution_count": 26,
   "metadata": {},
   "outputs": [
    {
     "data": {
      "text/plain": [
       "Timestamp('2019-04-21 00:00:00')"
      ]
     },
     "execution_count": 26,
     "metadata": {},
     "output_type": "execute_result"
    }
   ],
   "source": [
    "cutoff_date = windows2.set_index('window_nr').loc[1,'max_date']\n",
    "cutoff_date"
   ]
  },
  {
   "cell_type": "code",
   "execution_count": 27,
   "metadata": {},
   "outputs": [
    {
     "data": {
      "text/plain": [
       "date            60778\n",
       "ref_hash        60778\n",
       "ref_type        60778\n",
       "source_id       60778\n",
       "n               60778\n",
       "next_date       60778\n",
       "secs_to_next    60778\n",
       "hs_to_next      60778\n",
       "dtype: int64"
      ]
     },
     "execution_count": 27,
     "metadata": {},
     "output_type": "execute_result"
    }
   ],
   "source": [
    "train_auctions = auc_clean.loc[auctions['date'] < cutoff_date]\n",
    "train_auctions.head(3)\n",
    "train_auctions.count()"
   ]
  },
  {
   "cell_type": "code",
   "execution_count": 28,
   "metadata": {},
   "outputs": [
    {
     "data": {
      "text/plain": [
       "['ref_type', 'ref_hash']"
      ]
     },
     "execution_count": 28,
     "metadata": {},
     "output_type": "execute_result"
    }
   ],
   "source": [
    "device_uuid"
   ]
  },
  {
   "cell_type": "code",
   "execution_count": 29,
   "metadata": {},
   "outputs": [
    {
     "data": {
      "text/plain": [
       "8066"
      ]
     },
     "execution_count": 29,
     "metadata": {},
     "output_type": "execute_result"
    }
   ],
   "source": [
    "#Veo cuantos device tengo para el 'train_auctions'\n",
    "devices = train_auctions[device_uuid].drop_duplicates()\n",
    "devices['ref_hash'].count()"
   ]
  },
  {
   "cell_type": "code",
   "execution_count": 99,
   "metadata": {},
   "outputs": [
    {
     "data": {
      "text/plain": [
       "26464.76923076923"
      ]
     },
     "execution_count": 99,
     "metadata": {},
     "output_type": "execute_result"
    }
   ],
   "source": [
    "#train_auctions[train_auctions['ref_hash'] == 2125435237741841]#13\n",
    "train_auctions.groupby(by='ref_hash')['secs_to_next'].sum().loc[2125435237741841,]/13#344042.0"
   ]
  },
  {
   "cell_type": "code",
   "execution_count": 37,
   "metadata": {},
   "outputs": [
    {
     "data": {
      "text/html": [
       "<div>\n",
       "<style scoped>\n",
       "    .dataframe tbody tr th:only-of-type {\n",
       "        vertical-align: middle;\n",
       "    }\n",
       "\n",
       "    .dataframe tbody tr th {\n",
       "        vertical-align: top;\n",
       "    }\n",
       "\n",
       "    .dataframe thead th {\n",
       "        text-align: right;\n",
       "    }\n",
       "</style>\n",
       "<table border=\"1\" class=\"dataframe\">\n",
       "  <thead>\n",
       "    <tr style=\"text-align: right;\">\n",
       "      <th></th>\n",
       "      <th>date</th>\n",
       "      <th>ref_hash</th>\n",
       "      <th>source_id</th>\n",
       "      <th>next_date</th>\n",
       "      <th>secs_to_next</th>\n",
       "      <th>hs_to_next</th>\n",
       "    </tr>\n",
       "  </thead>\n",
       "  <tbody>\n",
       "    <tr>\n",
       "      <th>0</th>\n",
       "      <td>2019-04-18 07:18:46.350778</td>\n",
       "      <td>2125435237741841</td>\n",
       "      <td>3</td>\n",
       "      <td>2019-04-18 07:22:18.798585</td>\n",
       "      <td>212.0</td>\n",
       "      <td>0.058889</td>\n",
       "    </tr>\n",
       "    <tr>\n",
       "      <th>1</th>\n",
       "      <td>2019-04-18 07:22:18.798585</td>\n",
       "      <td>2125435237741841</td>\n",
       "      <td>1</td>\n",
       "      <td>2019-04-18 08:35:32.924509</td>\n",
       "      <td>4394.0</td>\n",
       "      <td>1.220556</td>\n",
       "    </tr>\n",
       "    <tr>\n",
       "      <th>2</th>\n",
       "      <td>2019-04-18 08:35:32.924509</td>\n",
       "      <td>2125435237741841</td>\n",
       "      <td>3</td>\n",
       "      <td>2019-04-18 08:54:54.872365</td>\n",
       "      <td>1162.0</td>\n",
       "      <td>0.322778</td>\n",
       "    </tr>\n",
       "    <tr>\n",
       "      <th>3</th>\n",
       "      <td>2019-04-18 08:54:54.872365</td>\n",
       "      <td>2125435237741841</td>\n",
       "      <td>3</td>\n",
       "      <td>2019-04-18 20:48:18.888273</td>\n",
       "      <td>42804.0</td>\n",
       "      <td>11.890000</td>\n",
       "    </tr>\n",
       "    <tr>\n",
       "      <th>4</th>\n",
       "      <td>2019-04-18 20:48:18.888273</td>\n",
       "      <td>2125435237741841</td>\n",
       "      <td>3</td>\n",
       "      <td>2019-04-19 14:15:39.599201</td>\n",
       "      <td>62841.0</td>\n",
       "      <td>17.455833</td>\n",
       "    </tr>\n",
       "  </tbody>\n",
       "</table>\n",
       "</div>"
      ],
      "text/plain": [
       "                        date          ref_hash  source_id  \\\n",
       "0 2019-04-18 07:18:46.350778  2125435237741841          3   \n",
       "1 2019-04-18 07:22:18.798585  2125435237741841          1   \n",
       "2 2019-04-18 08:35:32.924509  2125435237741841          3   \n",
       "3 2019-04-18 08:54:54.872365  2125435237741841          3   \n",
       "4 2019-04-18 20:48:18.888273  2125435237741841          3   \n",
       "\n",
       "                   next_date  secs_to_next  hs_to_next  \n",
       "0 2019-04-18 07:22:18.798585         212.0    0.058889  \n",
       "1 2019-04-18 08:35:32.924509        4394.0    1.220556  \n",
       "2 2019-04-18 08:54:54.872365        1162.0    0.322778  \n",
       "3 2019-04-18 20:48:18.888273       42804.0   11.890000  \n",
       "4 2019-04-19 14:15:39.599201       62841.0   17.455833  "
      ]
     },
     "execution_count": 37,
     "metadata": {},
     "output_type": "execute_result"
    }
   ],
   "source": [
    "#train_auctions2 = train_auctions[[]]\n",
    "train_auc = train_auc.reset_index()\n",
    "train_auc = train_auc[['date','ref_hash','source_id','next_date','secs_to_next','hs_to_next']]\n",
    "train_auc.head()"
   ]
  },
  {
   "cell_type": "code",
   "execution_count": 38,
   "metadata": {
    "collapsed": true
   },
   "outputs": [],
   "source": [
    "#Se desea saber el tiempo promedio entre arribos de los dispositivos a las encuestas.\n",
    "temp = train_auctions.groupby(device_uuid, as_index='False')['secs_to_next'].mean().to_frame()['secs_to_next']\n",
    "temp.columns = ['secs_to_next_mean']"
   ]
  },
  {
   "cell_type": "code",
   "execution_count": 55,
   "metadata": {},
   "outputs": [
    {
     "data": {
      "text/html": [
       "<div>\n",
       "<style scoped>\n",
       "    .dataframe tbody tr th:only-of-type {\n",
       "        vertical-align: middle;\n",
       "    }\n",
       "\n",
       "    .dataframe tbody tr th {\n",
       "        vertical-align: top;\n",
       "    }\n",
       "\n",
       "    .dataframe thead th {\n",
       "        text-align: right;\n",
       "    }\n",
       "</style>\n",
       "<table border=\"1\" class=\"dataframe\">\n",
       "  <thead>\n",
       "    <tr style=\"text-align: right;\">\n",
       "      <th></th>\n",
       "      <th>ref_type</th>\n",
       "      <th>ref_hash</th>\n",
       "      <th>secs_to_next_mean</th>\n",
       "    </tr>\n",
       "  </thead>\n",
       "  <tbody>\n",
       "    <tr>\n",
       "      <th>0</th>\n",
       "      <td>1</td>\n",
       "      <td>2125435237741841</td>\n",
       "      <td>40927.750000</td>\n",
       "    </tr>\n",
       "    <tr>\n",
       "      <th>1</th>\n",
       "      <td>1</td>\n",
       "      <td>2417786714126835</td>\n",
       "      <td>59362.166667</td>\n",
       "    </tr>\n",
       "    <tr>\n",
       "      <th>2</th>\n",
       "      <td>1</td>\n",
       "      <td>3918731566612368</td>\n",
       "      <td>37712.000000</td>\n",
       "    </tr>\n",
       "    <tr>\n",
       "      <th>3</th>\n",
       "      <td>1</td>\n",
       "      <td>4542345673503215</td>\n",
       "      <td>82628.333333</td>\n",
       "    </tr>\n",
       "    <tr>\n",
       "      <th>4</th>\n",
       "      <td>1</td>\n",
       "      <td>6380906313550611</td>\n",
       "      <td>54287.200000</td>\n",
       "    </tr>\n",
       "  </tbody>\n",
       "</table>\n",
       "</div>"
      ],
      "text/plain": [
       "   ref_type          ref_hash  secs_to_next_mean\n",
       "0         1  2125435237741841       40927.750000\n",
       "1         1  2417786714126835       59362.166667\n",
       "2         1  3918731566612368       37712.000000\n",
       "3         1  4542345673503215       82628.333333\n",
       "4         1  6380906313550611       54287.200000"
      ]
     },
     "execution_count": 55,
     "metadata": {},
     "output_type": "execute_result"
    }
   ],
   "source": [
    "temp=train_auctions.groupby(device_uuid, as_index='False')['secs_to_next'].mean().to_frame().reset_index()\n",
    "temp=temp.rename(columns={'secs_to_next':'secs_to_next_mean'})\n",
    "temp.head()"
   ]
  },
  {
   "cell_type": "code",
   "execution_count": 57,
   "metadata": {},
   "outputs": [
    {
     "data": {
      "text/html": [
       "<div>\n",
       "<style scoped>\n",
       "    .dataframe tbody tr th:only-of-type {\n",
       "        vertical-align: middle;\n",
       "    }\n",
       "\n",
       "    .dataframe tbody tr th {\n",
       "        vertical-align: top;\n",
       "    }\n",
       "\n",
       "    .dataframe thead th {\n",
       "        text-align: right;\n",
       "    }\n",
       "</style>\n",
       "<table border=\"1\" class=\"dataframe\">\n",
       "  <thead>\n",
       "    <tr style=\"text-align: right;\">\n",
       "      <th></th>\n",
       "      <th>date</th>\n",
       "      <th>ref_hash</th>\n",
       "      <th>source_id</th>\n",
       "      <th>next_date</th>\n",
       "      <th>secs_to_next</th>\n",
       "      <th>hs_to_next</th>\n",
       "      <th>ref_type</th>\n",
       "      <th>secs_to_next_mean</th>\n",
       "    </tr>\n",
       "  </thead>\n",
       "  <tbody>\n",
       "    <tr>\n",
       "      <th>0</th>\n",
       "      <td>2019-04-18 07:18:46.350778</td>\n",
       "      <td>2125435237741841</td>\n",
       "      <td>3</td>\n",
       "      <td>2019-04-18 07:22:18.798585</td>\n",
       "      <td>212.0</td>\n",
       "      <td>0.058889</td>\n",
       "      <td>1</td>\n",
       "      <td>40927.75</td>\n",
       "    </tr>\n",
       "    <tr>\n",
       "      <th>1</th>\n",
       "      <td>2019-04-18 07:22:18.798585</td>\n",
       "      <td>2125435237741841</td>\n",
       "      <td>1</td>\n",
       "      <td>2019-04-18 08:35:32.924509</td>\n",
       "      <td>4394.0</td>\n",
       "      <td>1.220556</td>\n",
       "      <td>1</td>\n",
       "      <td>40927.75</td>\n",
       "    </tr>\n",
       "    <tr>\n",
       "      <th>2</th>\n",
       "      <td>2019-04-18 08:35:32.924509</td>\n",
       "      <td>2125435237741841</td>\n",
       "      <td>3</td>\n",
       "      <td>2019-04-18 08:54:54.872365</td>\n",
       "      <td>1162.0</td>\n",
       "      <td>0.322778</td>\n",
       "      <td>1</td>\n",
       "      <td>40927.75</td>\n",
       "    </tr>\n",
       "    <tr>\n",
       "      <th>3</th>\n",
       "      <td>2019-04-18 08:54:54.872365</td>\n",
       "      <td>2125435237741841</td>\n",
       "      <td>3</td>\n",
       "      <td>2019-04-18 20:48:18.888273</td>\n",
       "      <td>42804.0</td>\n",
       "      <td>11.890000</td>\n",
       "      <td>1</td>\n",
       "      <td>40927.75</td>\n",
       "    </tr>\n",
       "    <tr>\n",
       "      <th>4</th>\n",
       "      <td>2019-04-18 20:48:18.888273</td>\n",
       "      <td>2125435237741841</td>\n",
       "      <td>3</td>\n",
       "      <td>2019-04-19 14:15:39.599201</td>\n",
       "      <td>62841.0</td>\n",
       "      <td>17.455833</td>\n",
       "      <td>1</td>\n",
       "      <td>40927.75</td>\n",
       "    </tr>\n",
       "  </tbody>\n",
       "</table>\n",
       "</div>"
      ],
      "text/plain": [
       "                        date          ref_hash  source_id  \\\n",
       "0 2019-04-18 07:18:46.350778  2125435237741841          3   \n",
       "1 2019-04-18 07:22:18.798585  2125435237741841          1   \n",
       "2 2019-04-18 08:35:32.924509  2125435237741841          3   \n",
       "3 2019-04-18 08:54:54.872365  2125435237741841          3   \n",
       "4 2019-04-18 20:48:18.888273  2125435237741841          3   \n",
       "\n",
       "                   next_date  secs_to_next  hs_to_next  ref_type  \\\n",
       "0 2019-04-18 07:22:18.798585         212.0    0.058889         1   \n",
       "1 2019-04-18 08:35:32.924509        4394.0    1.220556         1   \n",
       "2 2019-04-18 08:54:54.872365        1162.0    0.322778         1   \n",
       "3 2019-04-18 20:48:18.888273       42804.0   11.890000         1   \n",
       "4 2019-04-19 14:15:39.599201       62841.0   17.455833         1   \n",
       "\n",
       "   secs_to_next_mean  \n",
       "0           40927.75  \n",
       "1           40927.75  \n",
       "2           40927.75  \n",
       "3           40927.75  \n",
       "4           40927.75  "
      ]
     },
     "execution_count": 57,
     "metadata": {},
     "output_type": "execute_result"
    }
   ],
   "source": [
    "train_auc2 = train_auc.merge(temp,how='inner',on='ref_hash')\n",
    "train_auc2.head()"
   ]
  },
  {
   "cell_type": "markdown",
   "metadata": {},
   "source": [
    "# Primer prueba con XGBoost"
   ]
  },
  {
   "cell_type": "code",
   "execution_count": 58,
   "metadata": {},
   "outputs": [
    {
     "data": {
      "text/html": [
       "<div>\n",
       "<style scoped>\n",
       "    .dataframe tbody tr th:only-of-type {\n",
       "        vertical-align: middle;\n",
       "    }\n",
       "\n",
       "    .dataframe tbody tr th {\n",
       "        vertical-align: top;\n",
       "    }\n",
       "\n",
       "    .dataframe thead th {\n",
       "        text-align: right;\n",
       "    }\n",
       "</style>\n",
       "<table border=\"1\" class=\"dataframe\">\n",
       "  <thead>\n",
       "    <tr style=\"text-align: right;\">\n",
       "      <th></th>\n",
       "      <th>max_date</th>\n",
       "      <th>min_date</th>\n",
       "      <th>n</th>\n",
       "      <th>window_nr</th>\n",
       "    </tr>\n",
       "  </thead>\n",
       "  <tbody>\n",
       "    <tr>\n",
       "      <th>0</th>\n",
       "      <td>2019-04-21</td>\n",
       "      <td>2019-04-18</td>\n",
       "      <td>1</td>\n",
       "      <td>1</td>\n",
       "    </tr>\n",
       "    <tr>\n",
       "      <th>1</th>\n",
       "      <td>2019-04-22</td>\n",
       "      <td>2019-04-19</td>\n",
       "      <td>1</td>\n",
       "      <td>2</td>\n",
       "    </tr>\n",
       "    <tr>\n",
       "      <th>2</th>\n",
       "      <td>2019-04-23</td>\n",
       "      <td>2019-04-20</td>\n",
       "      <td>1</td>\n",
       "      <td>3</td>\n",
       "    </tr>\n",
       "    <tr>\n",
       "      <th>3</th>\n",
       "      <td>2019-04-24</td>\n",
       "      <td>2019-04-21</td>\n",
       "      <td>1</td>\n",
       "      <td>4</td>\n",
       "    </tr>\n",
       "  </tbody>\n",
       "</table>\n",
       "</div>"
      ],
      "text/plain": [
       "    max_date   min_date  n  window_nr\n",
       "0 2019-04-21 2019-04-18  1          1\n",
       "1 2019-04-22 2019-04-19  1          2\n",
       "2 2019-04-23 2019-04-20  1          3\n",
       "3 2019-04-24 2019-04-21  1          4"
      ]
     },
     "execution_count": 58,
     "metadata": {},
     "output_type": "execute_result"
    }
   ],
   "source": [
    "windows2"
   ]
  },
  {
   "cell_type": "code",
   "execution_count": 65,
   "metadata": {
    "collapsed": true
   },
   "outputs": [],
   "source": [
    "win = 0\n",
    "max_date = windows2.loc[win,].max_date"
   ]
  },
  {
   "cell_type": "code",
   "execution_count": 71,
   "metadata": {},
   "outputs": [
    {
     "data": {
      "text/html": [
       "<div>\n",
       "<style scoped>\n",
       "    .dataframe tbody tr th:only-of-type {\n",
       "        vertical-align: middle;\n",
       "    }\n",
       "\n",
       "    .dataframe tbody tr th {\n",
       "        vertical-align: top;\n",
       "    }\n",
       "\n",
       "    .dataframe thead th {\n",
       "        text-align: right;\n",
       "    }\n",
       "</style>\n",
       "<table border=\"1\" class=\"dataframe\">\n",
       "  <thead>\n",
       "    <tr style=\"text-align: right;\">\n",
       "      <th></th>\n",
       "      <th>date</th>\n",
       "      <th>ref_hash</th>\n",
       "      <th>source_id</th>\n",
       "      <th>next_date</th>\n",
       "      <th>secs_to_next</th>\n",
       "      <th>hs_to_next</th>\n",
       "      <th>ref_type</th>\n",
       "      <th>secs_to_next_mean</th>\n",
       "    </tr>\n",
       "  </thead>\n",
       "  <tbody>\n",
       "    <tr>\n",
       "      <th>0</th>\n",
       "      <td>2019-04-18 07:18:46.350778</td>\n",
       "      <td>2125435237741841</td>\n",
       "      <td>3</td>\n",
       "      <td>2019-04-18 07:22:18.798585</td>\n",
       "      <td>212.0</td>\n",
       "      <td>0.058889</td>\n",
       "      <td>1</td>\n",
       "      <td>40927.75</td>\n",
       "    </tr>\n",
       "    <tr>\n",
       "      <th>1</th>\n",
       "      <td>2019-04-18 07:22:18.798585</td>\n",
       "      <td>2125435237741841</td>\n",
       "      <td>1</td>\n",
       "      <td>2019-04-18 08:35:32.924509</td>\n",
       "      <td>4394.0</td>\n",
       "      <td>1.220556</td>\n",
       "      <td>1</td>\n",
       "      <td>40927.75</td>\n",
       "    </tr>\n",
       "    <tr>\n",
       "      <th>2</th>\n",
       "      <td>2019-04-18 08:35:32.924509</td>\n",
       "      <td>2125435237741841</td>\n",
       "      <td>3</td>\n",
       "      <td>2019-04-18 08:54:54.872365</td>\n",
       "      <td>1162.0</td>\n",
       "      <td>0.322778</td>\n",
       "      <td>1</td>\n",
       "      <td>40927.75</td>\n",
       "    </tr>\n",
       "    <tr>\n",
       "      <th>3</th>\n",
       "      <td>2019-04-18 08:54:54.872365</td>\n",
       "      <td>2125435237741841</td>\n",
       "      <td>3</td>\n",
       "      <td>2019-04-18 20:48:18.888273</td>\n",
       "      <td>42804.0</td>\n",
       "      <td>11.890000</td>\n",
       "      <td>1</td>\n",
       "      <td>40927.75</td>\n",
       "    </tr>\n",
       "    <tr>\n",
       "      <th>4</th>\n",
       "      <td>2019-04-18 20:48:18.888273</td>\n",
       "      <td>2125435237741841</td>\n",
       "      <td>3</td>\n",
       "      <td>2019-04-19 14:15:39.599201</td>\n",
       "      <td>62841.0</td>\n",
       "      <td>17.455833</td>\n",
       "      <td>1</td>\n",
       "      <td>40927.75</td>\n",
       "    </tr>\n",
       "  </tbody>\n",
       "</table>\n",
       "</div>"
      ],
      "text/plain": [
       "                        date          ref_hash  source_id  \\\n",
       "0 2019-04-18 07:18:46.350778  2125435237741841          3   \n",
       "1 2019-04-18 07:22:18.798585  2125435237741841          1   \n",
       "2 2019-04-18 08:35:32.924509  2125435237741841          3   \n",
       "3 2019-04-18 08:54:54.872365  2125435237741841          3   \n",
       "4 2019-04-18 20:48:18.888273  2125435237741841          3   \n",
       "\n",
       "                   next_date  secs_to_next  hs_to_next  ref_type  \\\n",
       "0 2019-04-18 07:22:18.798585         212.0    0.058889         1   \n",
       "1 2019-04-18 08:35:32.924509        4394.0    1.220556         1   \n",
       "2 2019-04-18 08:54:54.872365        1162.0    0.322778         1   \n",
       "3 2019-04-18 20:48:18.888273       42804.0   11.890000         1   \n",
       "4 2019-04-19 14:15:39.599201       62841.0   17.455833         1   \n",
       "\n",
       "   secs_to_next_mean  \n",
       "0           40927.75  \n",
       "1           40927.75  \n",
       "2           40927.75  \n",
       "3           40927.75  \n",
       "4           40927.75  "
      ]
     },
     "execution_count": 71,
     "metadata": {},
     "output_type": "execute_result"
    }
   ],
   "source": [
    "#Filtramos para la primer ventana\n",
    "train_auc2 = train_auc2.groupby('date').filter(lambda x: x.date < max_date)\n",
    "train_auc2.head()"
   ]
  },
  {
   "cell_type": "code",
   "execution_count": 132,
   "metadata": {},
   "outputs": [],
   "source": [
    "#convertidor de fecha(Timestamp) a int\n",
    "def convert_date_int(date):\n",
    "    d = pd.to_datetime(date)\n",
    "    return np.datetime64(d).astype(int)"
   ]
  },
  {
   "cell_type": "code",
   "execution_count": 133,
   "metadata": {},
   "outputs": [
    {
     "data": {
      "text/plain": [
       "1555545600259283"
      ]
     },
     "execution_count": 133,
     "metadata": {},
     "output_type": "execute_result"
    }
   ],
   "source": [
    "convert_date_int(d)"
   ]
  },
  {
   "cell_type": "code",
   "execution_count": 138,
   "metadata": {},
   "outputs": [],
   "source": [
    "train_auc2['date_int'] = train_auc2['date'].apply(convert_date_int)\n",
    "train_auc2['next_date_int'] = train_auc2['next_date'].apply(convert_date_int)"
   ]
  },
  {
   "cell_type": "code",
   "execution_count": 139,
   "metadata": {},
   "outputs": [
    {
     "data": {
      "text/html": [
       "<div>\n",
       "<style scoped>\n",
       "    .dataframe tbody tr th:only-of-type {\n",
       "        vertical-align: middle;\n",
       "    }\n",
       "\n",
       "    .dataframe tbody tr th {\n",
       "        vertical-align: top;\n",
       "    }\n",
       "\n",
       "    .dataframe thead th {\n",
       "        text-align: right;\n",
       "    }\n",
       "</style>\n",
       "<table border=\"1\" class=\"dataframe\">\n",
       "  <thead>\n",
       "    <tr style=\"text-align: right;\">\n",
       "      <th></th>\n",
       "      <th>date</th>\n",
       "      <th>ref_hash</th>\n",
       "      <th>source_id</th>\n",
       "      <th>next_date</th>\n",
       "      <th>secs_to_next</th>\n",
       "      <th>hs_to_next</th>\n",
       "      <th>ref_type</th>\n",
       "      <th>secs_to_next_mean</th>\n",
       "      <th>date_int</th>\n",
       "      <th>next_date_int</th>\n",
       "    </tr>\n",
       "  </thead>\n",
       "  <tbody>\n",
       "    <tr>\n",
       "      <th>0</th>\n",
       "      <td>2019-04-18 07:18:46.350778</td>\n",
       "      <td>2125435237741841</td>\n",
       "      <td>3</td>\n",
       "      <td>2019-04-18 07:22:18.798585</td>\n",
       "      <td>212.0</td>\n",
       "      <td>0.058889</td>\n",
       "      <td>1</td>\n",
       "      <td>40927.75</td>\n",
       "      <td>1555571926350778</td>\n",
       "      <td>1555572138798585</td>\n",
       "    </tr>\n",
       "    <tr>\n",
       "      <th>1</th>\n",
       "      <td>2019-04-18 07:22:18.798585</td>\n",
       "      <td>2125435237741841</td>\n",
       "      <td>1</td>\n",
       "      <td>2019-04-18 08:35:32.924509</td>\n",
       "      <td>4394.0</td>\n",
       "      <td>1.220556</td>\n",
       "      <td>1</td>\n",
       "      <td>40927.75</td>\n",
       "      <td>1555572138798585</td>\n",
       "      <td>1555576532924509</td>\n",
       "    </tr>\n",
       "    <tr>\n",
       "      <th>2</th>\n",
       "      <td>2019-04-18 08:35:32.924509</td>\n",
       "      <td>2125435237741841</td>\n",
       "      <td>3</td>\n",
       "      <td>2019-04-18 08:54:54.872365</td>\n",
       "      <td>1162.0</td>\n",
       "      <td>0.322778</td>\n",
       "      <td>1</td>\n",
       "      <td>40927.75</td>\n",
       "      <td>1555576532924509</td>\n",
       "      <td>1555577694872365</td>\n",
       "    </tr>\n",
       "    <tr>\n",
       "      <th>3</th>\n",
       "      <td>2019-04-18 08:54:54.872365</td>\n",
       "      <td>2125435237741841</td>\n",
       "      <td>3</td>\n",
       "      <td>2019-04-18 20:48:18.888273</td>\n",
       "      <td>42804.0</td>\n",
       "      <td>11.890000</td>\n",
       "      <td>1</td>\n",
       "      <td>40927.75</td>\n",
       "      <td>1555577694872365</td>\n",
       "      <td>1555620498888273</td>\n",
       "    </tr>\n",
       "    <tr>\n",
       "      <th>4</th>\n",
       "      <td>2019-04-18 20:48:18.888273</td>\n",
       "      <td>2125435237741841</td>\n",
       "      <td>3</td>\n",
       "      <td>2019-04-19 14:15:39.599201</td>\n",
       "      <td>62841.0</td>\n",
       "      <td>17.455833</td>\n",
       "      <td>1</td>\n",
       "      <td>40927.75</td>\n",
       "      <td>1555620498888273</td>\n",
       "      <td>1555683339599201</td>\n",
       "    </tr>\n",
       "  </tbody>\n",
       "</table>\n",
       "</div>"
      ],
      "text/plain": [
       "                        date          ref_hash  source_id  \\\n",
       "0 2019-04-18 07:18:46.350778  2125435237741841          3   \n",
       "1 2019-04-18 07:22:18.798585  2125435237741841          1   \n",
       "2 2019-04-18 08:35:32.924509  2125435237741841          3   \n",
       "3 2019-04-18 08:54:54.872365  2125435237741841          3   \n",
       "4 2019-04-18 20:48:18.888273  2125435237741841          3   \n",
       "\n",
       "                   next_date  secs_to_next  hs_to_next  ref_type  \\\n",
       "0 2019-04-18 07:22:18.798585         212.0    0.058889         1   \n",
       "1 2019-04-18 08:35:32.924509        4394.0    1.220556         1   \n",
       "2 2019-04-18 08:54:54.872365        1162.0    0.322778         1   \n",
       "3 2019-04-18 20:48:18.888273       42804.0   11.890000         1   \n",
       "4 2019-04-19 14:15:39.599201       62841.0   17.455833         1   \n",
       "\n",
       "   secs_to_next_mean          date_int     next_date_int  \n",
       "0           40927.75  1555571926350778  1555572138798585  \n",
       "1           40927.75  1555572138798585  1555576532924509  \n",
       "2           40927.75  1555576532924509  1555577694872365  \n",
       "3           40927.75  1555577694872365  1555620498888273  \n",
       "4           40927.75  1555620498888273  1555683339599201  "
      ]
     },
     "execution_count": 139,
     "metadata": {},
     "output_type": "execute_result"
    }
   ],
   "source": [
    "train_auc2.head()"
   ]
  },
  {
   "cell_type": "code",
   "execution_count": 143,
   "metadata": {
    "collapsed": true
   },
   "outputs": [],
   "source": [
    "columns_to_xgboost = ['ref_hash','source_id','secs_to_next',\\\n",
    "                      'hs_to_next','ref_type','secs_to_next_mean'\\\n",
    "                      ,'date_int','next_date_int']"
   ]
  },
  {
   "cell_type": "code",
   "execution_count": 144,
   "metadata": {},
   "outputs": [],
   "source": [
    "train_auc3 = train_auc2[columns_to_xgboost]"
   ]
  },
  {
   "cell_type": "code",
   "execution_count": 145,
   "metadata": {},
   "outputs": [
    {
     "data": {
      "text/html": [
       "<div>\n",
       "<style scoped>\n",
       "    .dataframe tbody tr th:only-of-type {\n",
       "        vertical-align: middle;\n",
       "    }\n",
       "\n",
       "    .dataframe tbody tr th {\n",
       "        vertical-align: top;\n",
       "    }\n",
       "\n",
       "    .dataframe thead th {\n",
       "        text-align: right;\n",
       "    }\n",
       "</style>\n",
       "<table border=\"1\" class=\"dataframe\">\n",
       "  <thead>\n",
       "    <tr style=\"text-align: right;\">\n",
       "      <th></th>\n",
       "      <th>ref_hash</th>\n",
       "      <th>source_id</th>\n",
       "      <th>secs_to_next</th>\n",
       "      <th>hs_to_next</th>\n",
       "      <th>ref_type</th>\n",
       "      <th>secs_to_next_mean</th>\n",
       "      <th>date_int</th>\n",
       "      <th>next_date_int</th>\n",
       "    </tr>\n",
       "  </thead>\n",
       "  <tbody>\n",
       "    <tr>\n",
       "      <th>0</th>\n",
       "      <td>2125435237741841</td>\n",
       "      <td>3</td>\n",
       "      <td>212.0</td>\n",
       "      <td>0.058889</td>\n",
       "      <td>1</td>\n",
       "      <td>40927.75</td>\n",
       "      <td>1555571926350778</td>\n",
       "      <td>1555572138798585</td>\n",
       "    </tr>\n",
       "    <tr>\n",
       "      <th>1</th>\n",
       "      <td>2125435237741841</td>\n",
       "      <td>1</td>\n",
       "      <td>4394.0</td>\n",
       "      <td>1.220556</td>\n",
       "      <td>1</td>\n",
       "      <td>40927.75</td>\n",
       "      <td>1555572138798585</td>\n",
       "      <td>1555576532924509</td>\n",
       "    </tr>\n",
       "    <tr>\n",
       "      <th>2</th>\n",
       "      <td>2125435237741841</td>\n",
       "      <td>3</td>\n",
       "      <td>1162.0</td>\n",
       "      <td>0.322778</td>\n",
       "      <td>1</td>\n",
       "      <td>40927.75</td>\n",
       "      <td>1555576532924509</td>\n",
       "      <td>1555577694872365</td>\n",
       "    </tr>\n",
       "    <tr>\n",
       "      <th>3</th>\n",
       "      <td>2125435237741841</td>\n",
       "      <td>3</td>\n",
       "      <td>42804.0</td>\n",
       "      <td>11.890000</td>\n",
       "      <td>1</td>\n",
       "      <td>40927.75</td>\n",
       "      <td>1555577694872365</td>\n",
       "      <td>1555620498888273</td>\n",
       "    </tr>\n",
       "    <tr>\n",
       "      <th>4</th>\n",
       "      <td>2125435237741841</td>\n",
       "      <td>3</td>\n",
       "      <td>62841.0</td>\n",
       "      <td>17.455833</td>\n",
       "      <td>1</td>\n",
       "      <td>40927.75</td>\n",
       "      <td>1555620498888273</td>\n",
       "      <td>1555683339599201</td>\n",
       "    </tr>\n",
       "  </tbody>\n",
       "</table>\n",
       "</div>"
      ],
      "text/plain": [
       "           ref_hash  source_id  secs_to_next  hs_to_next  ref_type  \\\n",
       "0  2125435237741841          3         212.0    0.058889         1   \n",
       "1  2125435237741841          1        4394.0    1.220556         1   \n",
       "2  2125435237741841          3        1162.0    0.322778         1   \n",
       "3  2125435237741841          3       42804.0   11.890000         1   \n",
       "4  2125435237741841          3       62841.0   17.455833         1   \n",
       "\n",
       "   secs_to_next_mean          date_int     next_date_int  \n",
       "0           40927.75  1555571926350778  1555572138798585  \n",
       "1           40927.75  1555572138798585  1555576532924509  \n",
       "2           40927.75  1555576532924509  1555577694872365  \n",
       "3           40927.75  1555577694872365  1555620498888273  \n",
       "4           40927.75  1555620498888273  1555683339599201  "
      ]
     },
     "execution_count": 145,
     "metadata": {},
     "output_type": "execute_result"
    }
   ],
   "source": [
    "train_auc3.head()"
   ]
  },
  {
   "cell_type": "code",
   "execution_count": 148,
   "metadata": {},
   "outputs": [],
   "source": [
    "#Separamos X y Y\n",
    "X = train_auc3.loc[:,train_auc3.columns != 'next_date_int']"
   ]
  },
  {
   "cell_type": "code",
   "execution_count": 149,
   "metadata": {},
   "outputs": [
    {
     "data": {
      "text/html": [
       "<div>\n",
       "<style scoped>\n",
       "    .dataframe tbody tr th:only-of-type {\n",
       "        vertical-align: middle;\n",
       "    }\n",
       "\n",
       "    .dataframe tbody tr th {\n",
       "        vertical-align: top;\n",
       "    }\n",
       "\n",
       "    .dataframe thead th {\n",
       "        text-align: right;\n",
       "    }\n",
       "</style>\n",
       "<table border=\"1\" class=\"dataframe\">\n",
       "  <thead>\n",
       "    <tr style=\"text-align: right;\">\n",
       "      <th></th>\n",
       "      <th>ref_hash</th>\n",
       "      <th>source_id</th>\n",
       "      <th>secs_to_next</th>\n",
       "      <th>hs_to_next</th>\n",
       "      <th>ref_type</th>\n",
       "      <th>secs_to_next_mean</th>\n",
       "      <th>date_int</th>\n",
       "    </tr>\n",
       "  </thead>\n",
       "  <tbody>\n",
       "    <tr>\n",
       "      <th>0</th>\n",
       "      <td>2125435237741841</td>\n",
       "      <td>3</td>\n",
       "      <td>212.0</td>\n",
       "      <td>0.058889</td>\n",
       "      <td>1</td>\n",
       "      <td>40927.75</td>\n",
       "      <td>1555571926350778</td>\n",
       "    </tr>\n",
       "    <tr>\n",
       "      <th>1</th>\n",
       "      <td>2125435237741841</td>\n",
       "      <td>1</td>\n",
       "      <td>4394.0</td>\n",
       "      <td>1.220556</td>\n",
       "      <td>1</td>\n",
       "      <td>40927.75</td>\n",
       "      <td>1555572138798585</td>\n",
       "    </tr>\n",
       "    <tr>\n",
       "      <th>2</th>\n",
       "      <td>2125435237741841</td>\n",
       "      <td>3</td>\n",
       "      <td>1162.0</td>\n",
       "      <td>0.322778</td>\n",
       "      <td>1</td>\n",
       "      <td>40927.75</td>\n",
       "      <td>1555576532924509</td>\n",
       "    </tr>\n",
       "    <tr>\n",
       "      <th>3</th>\n",
       "      <td>2125435237741841</td>\n",
       "      <td>3</td>\n",
       "      <td>42804.0</td>\n",
       "      <td>11.890000</td>\n",
       "      <td>1</td>\n",
       "      <td>40927.75</td>\n",
       "      <td>1555577694872365</td>\n",
       "    </tr>\n",
       "    <tr>\n",
       "      <th>4</th>\n",
       "      <td>2125435237741841</td>\n",
       "      <td>3</td>\n",
       "      <td>62841.0</td>\n",
       "      <td>17.455833</td>\n",
       "      <td>1</td>\n",
       "      <td>40927.75</td>\n",
       "      <td>1555620498888273</td>\n",
       "    </tr>\n",
       "  </tbody>\n",
       "</table>\n",
       "</div>"
      ],
      "text/plain": [
       "           ref_hash  source_id  secs_to_next  hs_to_next  ref_type  \\\n",
       "0  2125435237741841          3         212.0    0.058889         1   \n",
       "1  2125435237741841          1        4394.0    1.220556         1   \n",
       "2  2125435237741841          3        1162.0    0.322778         1   \n",
       "3  2125435237741841          3       42804.0   11.890000         1   \n",
       "4  2125435237741841          3       62841.0   17.455833         1   \n",
       "\n",
       "   secs_to_next_mean          date_int  \n",
       "0           40927.75  1555571926350778  \n",
       "1           40927.75  1555572138798585  \n",
       "2           40927.75  1555576532924509  \n",
       "3           40927.75  1555577694872365  \n",
       "4           40927.75  1555620498888273  "
      ]
     },
     "execution_count": 149,
     "metadata": {},
     "output_type": "execute_result"
    }
   ],
   "source": [
    "X.head()"
   ]
  },
  {
   "cell_type": "code",
   "execution_count": null,
   "metadata": {
    "collapsed": true
   },
   "outputs": [],
   "source": []
  },
  {
   "cell_type": "code",
   "execution_count": 151,
   "metadata": {},
   "outputs": [
    {
     "data": {
      "text/html": [
       "<div>\n",
       "<style scoped>\n",
       "    .dataframe tbody tr th:only-of-type {\n",
       "        vertical-align: middle;\n",
       "    }\n",
       "\n",
       "    .dataframe tbody tr th {\n",
       "        vertical-align: top;\n",
       "    }\n",
       "\n",
       "    .dataframe thead th {\n",
       "        text-align: right;\n",
       "    }\n",
       "</style>\n",
       "<table border=\"1\" class=\"dataframe\">\n",
       "  <thead>\n",
       "    <tr style=\"text-align: right;\">\n",
       "      <th></th>\n",
       "      <th>next_date_int</th>\n",
       "    </tr>\n",
       "  </thead>\n",
       "  <tbody>\n",
       "    <tr>\n",
       "      <th>0</th>\n",
       "      <td>1555572138798585</td>\n",
       "    </tr>\n",
       "    <tr>\n",
       "      <th>1</th>\n",
       "      <td>1555576532924509</td>\n",
       "    </tr>\n",
       "    <tr>\n",
       "      <th>2</th>\n",
       "      <td>1555577694872365</td>\n",
       "    </tr>\n",
       "    <tr>\n",
       "      <th>3</th>\n",
       "      <td>1555620498888273</td>\n",
       "    </tr>\n",
       "    <tr>\n",
       "      <th>4</th>\n",
       "      <td>1555683339599201</td>\n",
       "    </tr>\n",
       "  </tbody>\n",
       "</table>\n",
       "</div>"
      ],
      "text/plain": [
       "      next_date_int\n",
       "0  1555572138798585\n",
       "1  1555576532924509\n",
       "2  1555577694872365\n",
       "3  1555620498888273\n",
       "4  1555683339599201"
      ]
     },
     "execution_count": 151,
     "metadata": {},
     "output_type": "execute_result"
    }
   ],
   "source": [
    "y = train_auc3.loc[:,train_auc3.columns == 'next_date_int']\n",
    "y.head()"
   ]
  },
  {
   "cell_type": "code",
   "execution_count": 152,
   "metadata": {},
   "outputs": [
    {
     "data": {
      "text/plain": [
       "((60778, 8), (60778, 7), (60778, 1))"
      ]
     },
     "execution_count": 152,
     "metadata": {},
     "output_type": "execute_result"
    }
   ],
   "source": [
    "train_auc3.shape,X.shape,y.shape"
   ]
  },
  {
   "cell_type": "code",
   "execution_count": 153,
   "metadata": {
    "collapsed": true
   },
   "outputs": [],
   "source": [
    "X_train,X_test,y_train,y_test = train_test_split(X,y,test_size=0.3,random_state=1)"
   ]
  },
  {
   "cell_type": "markdown",
   "metadata": {},
   "source": [
    "### Hiper-parámetros\n",
    "- learning_rate: tasa de aprendizaje\n",
    "- max_depth: máxima profundidad de cada árbol(default=6)\n",
    "- subsample: porcentaje de muestras usadas para cada árbol (valor muy bajo, posible underfitting)\n",
    "- colsample_bytree: porcentaje de features usadas para cada árbol (valores muy alto, posible overfitting)\n",
    "- n_estimators: cantidad de árboles a construir.\n",
    "- objective: función de error a utilizar (algunas: reg:linear para regresión, reg:logistic o binary:logistic para clasificación)\n",
    "### Parámetros de regularización:\n",
    "\n",
    "- gamma: umbral para hacer split basado en la reducción de error de hacer el nuevo split.\n",
    "- alpha: regularización para los pesos de las hojas. Un valor más alto genera una mayor regularización.\n",
    "- lambda: similar alpha pero para la sintonia fina.\n",
    "### Otros parámetros\n",
    "- Verbosite: si muestra mensajes de info,aviso,error,debug"
   ]
  },
  {
   "cell_type": "code",
   "execution_count": 323,
   "metadata": {},
   "outputs": [],
   "source": [
    "# Regressor\n",
    "xg_reg = xgb.XGBRegressor(objective ='reg:linear', colsample_bytree = 0.95, learning_rate = 0.42,\n",
    "                max_depth = 6, alpha = 20, n_estimators = 300,verbosity=1)"
   ]
  },
  {
   "cell_type": "code",
   "execution_count": 317,
   "metadata": {},
   "outputs": [
    {
     "name": "stdout",
     "output_type": "stream",
     "text": [
      "[12:05:23] WARNING: src/objective/regression_obj.cu:144: reg:linear is now deprecated in favor of reg:squarederror.\n"
     ]
    },
    {
     "data": {
      "text/plain": [
       "XGBRegressor(alpha=20, base_score=0.5, booster='gbtree', colsample_bylevel=1,\n",
       "       colsample_bynode=1, colsample_bytree=0.95, gamma=0,\n",
       "       importance_type='gain', learning_rate=0.42, max_delta_step=0,\n",
       "       max_depth=6, min_child_weight=1, missing=None, n_estimators=300,\n",
       "       n_jobs=1, nthread=None, objective='reg:linear', random_state=0,\n",
       "       reg_alpha=0, reg_lambda=1, scale_pos_weight=1, seed=None,\n",
       "       silent=None, subsample=1, verbosity=1)"
      ]
     },
     "execution_count": 317,
     "metadata": {},
     "output_type": "execute_result"
    }
   ],
   "source": [
    "xg_reg.fit(X_train,y_train)"
   ]
  },
  {
   "cell_type": "code",
   "execution_count": null,
   "metadata": {
    "collapsed": true
   },
   "outputs": [],
   "source": [
    "preds = xg_reg.predict(X_test)"
   ]
  },
  {
   "cell_type": "code",
   "execution_count": 316,
   "metadata": {},
   "outputs": [
    {
     "name": "stdout",
     "output_type": "stream",
     "text": [
      "mean_squared_error: 2.584968880796633e+18\n",
      "RMSE: 1607783841.440333\n",
      "Nico: 3400688504.3380723\n"
     ]
    }
   ],
   "source": [
    "mse = mean_squared_error(y_test, preds)\n",
    "print(\"mean_squared_error: \"+str(mse))\n",
    "rmse = np.sqrt(mse)\n",
    "print(\"RMSE: %f\" % (rmse))\n",
    "print(\"Nico: 3400688504.3380723\")\n",
    "#RMSE con :\n",
    "#xgb.XGBRegressor(objective ='reg:linear', colsample_bytree = 0.3, learning_rate = 0.1,\n",
    "#                max_depth = 5, alpha = 10, n_estimators = 10)regresor lineal,\n",
    "#                colsample_bytree=0.3, learning_rat=0.1,max_depth=1-,n_estimators=10"
   ]
  },
  {
   "cell_type": "markdown",
   "metadata": {},
   "source": [
    "# Otros casos"
   ]
  },
  {
   "cell_type": "code",
   "execution_count": 318,
   "metadata": {},
   "outputs": [
    {
     "data": {
      "text/html": [
       "<div>\n",
       "<style scoped>\n",
       "    .dataframe tbody tr th:only-of-type {\n",
       "        vertical-align: middle;\n",
       "    }\n",
       "\n",
       "    .dataframe tbody tr th {\n",
       "        vertical-align: top;\n",
       "    }\n",
       "\n",
       "    .dataframe thead th {\n",
       "        text-align: right;\n",
       "    }\n",
       "</style>\n",
       "<table border=\"1\" class=\"dataframe\">\n",
       "  <thead>\n",
       "    <tr style=\"text-align: right;\">\n",
       "      <th></th>\n",
       "      <th>ref_hash</th>\n",
       "      <th>source_id</th>\n",
       "      <th>secs_to_next</th>\n",
       "      <th>hs_to_next</th>\n",
       "      <th>ref_type</th>\n",
       "      <th>secs_to_next_mean</th>\n",
       "      <th>date_int</th>\n",
       "      <th>next_date_int</th>\n",
       "    </tr>\n",
       "  </thead>\n",
       "  <tbody>\n",
       "    <tr>\n",
       "      <th>0</th>\n",
       "      <td>2125435237741841</td>\n",
       "      <td>3</td>\n",
       "      <td>212.0</td>\n",
       "      <td>0.058889</td>\n",
       "      <td>1</td>\n",
       "      <td>40927.75</td>\n",
       "      <td>1555571926350778</td>\n",
       "      <td>1555572138798585</td>\n",
       "    </tr>\n",
       "    <tr>\n",
       "      <th>1</th>\n",
       "      <td>2125435237741841</td>\n",
       "      <td>1</td>\n",
       "      <td>4394.0</td>\n",
       "      <td>1.220556</td>\n",
       "      <td>1</td>\n",
       "      <td>40927.75</td>\n",
       "      <td>1555572138798585</td>\n",
       "      <td>1555576532924509</td>\n",
       "    </tr>\n",
       "    <tr>\n",
       "      <th>2</th>\n",
       "      <td>2125435237741841</td>\n",
       "      <td>3</td>\n",
       "      <td>1162.0</td>\n",
       "      <td>0.322778</td>\n",
       "      <td>1</td>\n",
       "      <td>40927.75</td>\n",
       "      <td>1555576532924509</td>\n",
       "      <td>1555577694872365</td>\n",
       "    </tr>\n",
       "    <tr>\n",
       "      <th>3</th>\n",
       "      <td>2125435237741841</td>\n",
       "      <td>3</td>\n",
       "      <td>42804.0</td>\n",
       "      <td>11.890000</td>\n",
       "      <td>1</td>\n",
       "      <td>40927.75</td>\n",
       "      <td>1555577694872365</td>\n",
       "      <td>1555620498888273</td>\n",
       "    </tr>\n",
       "    <tr>\n",
       "      <th>4</th>\n",
       "      <td>2125435237741841</td>\n",
       "      <td>3</td>\n",
       "      <td>62841.0</td>\n",
       "      <td>17.455833</td>\n",
       "      <td>1</td>\n",
       "      <td>40927.75</td>\n",
       "      <td>1555620498888273</td>\n",
       "      <td>1555683339599201</td>\n",
       "    </tr>\n",
       "  </tbody>\n",
       "</table>\n",
       "</div>"
      ],
      "text/plain": [
       "           ref_hash  source_id  secs_to_next  hs_to_next  ref_type  \\\n",
       "0  2125435237741841          3         212.0    0.058889         1   \n",
       "1  2125435237741841          1        4394.0    1.220556         1   \n",
       "2  2125435237741841          3        1162.0    0.322778         1   \n",
       "3  2125435237741841          3       42804.0   11.890000         1   \n",
       "4  2125435237741841          3       62841.0   17.455833         1   \n",
       "\n",
       "   secs_to_next_mean          date_int     next_date_int  \n",
       "0           40927.75  1555571926350778  1555572138798585  \n",
       "1           40927.75  1555572138798585  1555576532924509  \n",
       "2           40927.75  1555576532924509  1555577694872365  \n",
       "3           40927.75  1555577694872365  1555620498888273  \n",
       "4           40927.75  1555620498888273  1555683339599201  "
      ]
     },
     "execution_count": 318,
     "metadata": {},
     "output_type": "execute_result"
    }
   ],
   "source": [
    "train_auc3.head()"
   ]
  },
  {
   "cell_type": "code",
   "execution_count": 319,
   "metadata": {},
   "outputs": [
    {
     "data": {
      "text/html": [
       "<div>\n",
       "<style scoped>\n",
       "    .dataframe tbody tr th:only-of-type {\n",
       "        vertical-align: middle;\n",
       "    }\n",
       "\n",
       "    .dataframe tbody tr th {\n",
       "        vertical-align: top;\n",
       "    }\n",
       "\n",
       "    .dataframe thead th {\n",
       "        text-align: right;\n",
       "    }\n",
       "</style>\n",
       "<table border=\"1\" class=\"dataframe\">\n",
       "  <thead>\n",
       "    <tr style=\"text-align: right;\">\n",
       "      <th></th>\n",
       "      <th>secs_to_next</th>\n",
       "    </tr>\n",
       "  </thead>\n",
       "  <tbody>\n",
       "    <tr>\n",
       "      <th>0</th>\n",
       "      <td>212.0</td>\n",
       "    </tr>\n",
       "    <tr>\n",
       "      <th>1</th>\n",
       "      <td>4394.0</td>\n",
       "    </tr>\n",
       "    <tr>\n",
       "      <th>2</th>\n",
       "      <td>1162.0</td>\n",
       "    </tr>\n",
       "    <tr>\n",
       "      <th>3</th>\n",
       "      <td>42804.0</td>\n",
       "    </tr>\n",
       "    <tr>\n",
       "      <th>4</th>\n",
       "      <td>62841.0</td>\n",
       "    </tr>\n",
       "  </tbody>\n",
       "</table>\n",
       "</div>"
      ],
      "text/plain": [
       "   secs_to_next\n",
       "0         212.0\n",
       "1        4394.0\n",
       "2        1162.0\n",
       "3       42804.0\n",
       "4       62841.0"
      ]
     },
     "execution_count": 319,
     "metadata": {},
     "output_type": "execute_result"
    }
   ],
   "source": [
    "#Separamos X y Y\n",
    "X2 = train_auc3.loc[:,train_auc3.columns != 'secs_to_next']\n",
    "y2 = train_auc3.loc[:,train_auc3.columns == 'secs_to_next']\n",
    "y2.head()"
   ]
  },
  {
   "cell_type": "code",
   "execution_count": 321,
   "metadata": {},
   "outputs": [
    {
     "data": {
      "text/plain": [
       "((60778, 8), (60778, 7), (60778, 1))"
      ]
     },
     "execution_count": 321,
     "metadata": {},
     "output_type": "execute_result"
    }
   ],
   "source": [
    "#Filas y columnas\n",
    "train_auc3.shape,X2.shape,y2.shape"
   ]
  },
  {
   "cell_type": "code",
   "execution_count": 322,
   "metadata": {
    "collapsed": true
   },
   "outputs": [],
   "source": [
    "X_train2,X_test2,y_train2,y_test2 = train_test_split(X2,y2,test_size=0.3,random_state=1)"
   ]
  },
  {
   "cell_type": "code",
   "execution_count": 324,
   "metadata": {
    "collapsed": true
   },
   "outputs": [],
   "source": [
    "# Regressor\n",
    "xg_reg = xgb.XGBRegressor(objective ='reg:linear', colsample_bytree = 0.95, learning_rate = 0.42,\n",
    "                max_depth = 6, alpha = 20, n_estimators = 300,verbosity=1)"
   ]
  },
  {
   "cell_type": "code",
   "execution_count": 325,
   "metadata": {},
   "outputs": [
    {
     "name": "stdout",
     "output_type": "stream",
     "text": [
      "[12:19:31] WARNING: src/objective/regression_obj.cu:144: reg:linear is now deprecated in favor of reg:squarederror.\n",
      "mean_squared_error: 3454587.5162069383\n",
      "RMSE: 1858.652070\n",
      "Nico: 3400688504.3380723\n"
     ]
    }
   ],
   "source": [
    "xg_reg.fit(X_train2,y_train2)\n",
    "preds2 = xg_reg.predict(X_test2)\n",
    "mse = mean_squared_error(y_test2, preds2)\n",
    "print(\"mean_squared_error: \"+str(mse))\n",
    "rmse = np.sqrt(mse)\n",
    "print(\"RMSE: %f\" % (rmse))\n",
    "print(\"Nico: 3400688504.3380723\")"
   ]
  },
  {
   "cell_type": "code",
   "execution_count": 326,
   "metadata": {},
   "outputs": [
    {
     "data": {
      "text/plain": [
       "array([1.2281933e-04, 9.5269657e-05, 2.7305067e-01, 9.2463866e-05,\n",
       "       3.3848044e-02, 1.3531029e-01, 5.5748045e-01], dtype=float32)"
      ]
     },
     "execution_count": 326,
     "metadata": {},
     "output_type": "execute_result"
    }
   ],
   "source": [
    "xg_reg.feature_importances_"
   ]
  }
 ],
 "metadata": {
  "kernelspec": {
   "display_name": "Python 2",
   "language": "python",
   "name": "python2"
  },
  "language_info": {
   "codemirror_mode": {
    "name": "ipython",
    "version": 2
   },
   "file_extension": ".py",
   "mimetype": "text/x-python",
   "name": "python",
   "nbconvert_exporter": "python",
   "pygments_lexer": "ipython2",
   "version": "2.7.12"
  }
 },
 "nbformat": 4,
 "nbformat_minor": 2
}
