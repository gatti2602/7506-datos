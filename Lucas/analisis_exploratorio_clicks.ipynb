{
 "cells": [
  {
   "cell_type": "code",
   "execution_count": 1,
   "metadata": {
    "collapsed": true
   },
   "outputs": [],
   "source": [
    "# magic function para hacer que los graficos de matplotlib se renderizen en el notebook.\n",
    "#%matplotlib notebook\n",
    "%matplotlib inline\n",
    "\n",
    "import datetime as datetime\n",
    "import pandas as pd\n",
    "import numpy as np\n",
    "import matplotlib.pyplot as plt"
   ]
  },
  {
   "cell_type": "markdown",
   "metadata": {},
   "source": [
    "advertiser_id: id de anunciante, cliente de Jampp que paga por el anuncio.<br>\n",
    "action_id: id de acción.<br>\n",
    "source_id: ID interna para la fuente (intercambio) desde la cual se originó el click.<br>\n",
    "created: tiempo en el cual se produjo el click.<br>\n",
    "latitude,longitude: ubicación de donde se produjo el click.<br>\n",
    "carrier_id: Id para el operador de telefonía móvil del dispositivo.<br>\n",
    "trans_id: Id de transacción(valor interno).<br>\n",
    "os_minor: mínima version del OS.<br>\n",
    "os_major: máxima versión del OS.<br>\n",
    "agent_device : Agente para el dispositivo en el que se realizó el clic (modelo).<br>\n",
    "specs_brand: especificaciones del dispositvo<br>\n",
    "brand: marca del dispositivo<br>\n",
    "timeToClick: tiempo de click<br>\n",
    "touchX: posición en x del click<br>\n",
    "touchY: posición en y del click<br>\n",
    "ref_type: id de publicidad de Google ó apple_ifa ???<br>\n",
    "ref_hash: id del ref_type"
   ]
  },
  {
   "cell_type": "code",
   "execution_count": 3,
   "metadata": {},
   "outputs": [],
   "source": [
    "clicks = pd.read_csv('../data2/clicks.csv.gzip',compression='gzip', dtype='object')"
   ]
  },
  {
   "cell_type": "code",
   "execution_count": 4,
   "metadata": {},
   "outputs": [
    {
     "data": {
      "text/html": [
       "<div>\n",
       "<style scoped>\n",
       "    .dataframe tbody tr th:only-of-type {\n",
       "        vertical-align: middle;\n",
       "    }\n",
       "\n",
       "    .dataframe tbody tr th {\n",
       "        vertical-align: top;\n",
       "    }\n",
       "\n",
       "    .dataframe thead th {\n",
       "        text-align: right;\n",
       "    }\n",
       "</style>\n",
       "<table border=\"1\" class=\"dataframe\">\n",
       "  <thead>\n",
       "    <tr style=\"text-align: right;\">\n",
       "      <th></th>\n",
       "      <th>advertiser_id</th>\n",
       "      <th>action_id</th>\n",
       "      <th>source_id</th>\n",
       "      <th>created</th>\n",
       "      <th>country_code</th>\n",
       "      <th>latitude</th>\n",
       "      <th>longitude</th>\n",
       "      <th>wifi_connection</th>\n",
       "      <th>carrier_id</th>\n",
       "      <th>trans_id</th>\n",
       "      <th>os_minor</th>\n",
       "      <th>agent_device</th>\n",
       "      <th>os_major</th>\n",
       "      <th>specs_brand</th>\n",
       "      <th>brand</th>\n",
       "      <th>timeToClick</th>\n",
       "      <th>touchX</th>\n",
       "      <th>touchY</th>\n",
       "      <th>ref_type</th>\n",
       "      <th>ref_hash</th>\n",
       "    </tr>\n",
       "  </thead>\n",
       "  <tbody>\n",
       "    <tr>\n",
       "      <th>0</th>\n",
       "      <td>2</td>\n",
       "      <td>NaN</td>\n",
       "      <td>4</td>\n",
       "      <td>2019-03-06T22:42:12.755Z</td>\n",
       "      <td>6333597102633388268</td>\n",
       "      <td>1.2056887519199482</td>\n",
       "      <td>1.0702342714774236</td>\n",
       "      <td>False</td>\n",
       "      <td>1.0</td>\n",
       "      <td>iGgClCM9exiHF4K31g94XmvHEBSLKIY</td>\n",
       "      <td>6.768137412412545e+18</td>\n",
       "      <td>NaN</td>\n",
       "      <td>3.072849339937028e+18</td>\n",
       "      <td>2733035977666442898</td>\n",
       "      <td>NaN</td>\n",
       "      <td>1.563</td>\n",
       "      <td>0.905</td>\n",
       "      <td>0.078</td>\n",
       "      <td>1891515180541284343</td>\n",
       "      <td>1904083516767779093</td>\n",
       "    </tr>\n",
       "    <tr>\n",
       "      <th>1</th>\n",
       "      <td>0</td>\n",
       "      <td>NaN</td>\n",
       "      <td>0</td>\n",
       "      <td>2019-03-08T10:24:30.641Z</td>\n",
       "      <td>6333597102633388268</td>\n",
       "      <td>1.218923733431926</td>\n",
       "      <td>1.0712090638488148</td>\n",
       "      <td>False</td>\n",
       "      <td>4.0</td>\n",
       "      <td>MMHTOJ6qKAOeIH_Eywh1KIcCaxtO9oM</td>\n",
       "      <td>3.025219449024123e+18</td>\n",
       "      <td>NaN</td>\n",
       "      <td>1.77408510258909e+18</td>\n",
       "      <td>392184377613098015</td>\n",
       "      <td>NaN</td>\n",
       "      <td>NaN</td>\n",
       "      <td>NaN</td>\n",
       "      <td>NaN</td>\n",
       "      <td>1891515180541284343</td>\n",
       "      <td>3086509764961796666</td>\n",
       "    </tr>\n",
       "    <tr>\n",
       "      <th>2</th>\n",
       "      <td>0</td>\n",
       "      <td>NaN</td>\n",
       "      <td>0</td>\n",
       "      <td>2019-03-08T15:24:16.069Z</td>\n",
       "      <td>6333597102633388268</td>\n",
       "      <td>1.2056887519199482</td>\n",
       "      <td>1.0702342714774236</td>\n",
       "      <td>False</td>\n",
       "      <td>6.0</td>\n",
       "      <td>vIrEIdf9izUaWdAri6Ezk7T3nHFvNQU</td>\n",
       "      <td>5.97565607170903e+18</td>\n",
       "      <td>NaN</td>\n",
       "      <td>3.072849339937028e+18</td>\n",
       "      <td>392184377613098015</td>\n",
       "      <td>NaN</td>\n",
       "      <td>NaN</td>\n",
       "      <td>0.946</td>\n",
       "      <td>0.473</td>\n",
       "      <td>1891515180541284343</td>\n",
       "      <td>6958163894863846647</td>\n",
       "    </tr>\n",
       "    <tr>\n",
       "      <th>3</th>\n",
       "      <td>2</td>\n",
       "      <td>NaN</td>\n",
       "      <td>3</td>\n",
       "      <td>2019-03-06T03:08:51.543Z</td>\n",
       "      <td>6333597102633388268</td>\n",
       "      <td>1.2056887519199482</td>\n",
       "      <td>1.0702342714774236</td>\n",
       "      <td>False</td>\n",
       "      <td>45.0</td>\n",
       "      <td>YaKxxEAs2UmZhSpRfiCO9Zpa82B_AKM</td>\n",
       "      <td>6.768137412412545e+18</td>\n",
       "      <td>NaN</td>\n",
       "      <td>3.072849339937028e+18</td>\n",
       "      <td>2733035977666442898</td>\n",
       "      <td>NaN</td>\n",
       "      <td>19.013</td>\n",
       "      <td>0.035</td>\n",
       "      <td>0.431</td>\n",
       "      <td>1891515180541284343</td>\n",
       "      <td>4368617728156436525</td>\n",
       "    </tr>\n",
       "    <tr>\n",
       "      <th>4</th>\n",
       "      <td>2</td>\n",
       "      <td>NaN</td>\n",
       "      <td>3</td>\n",
       "      <td>2019-03-06T03:32:55.570Z</td>\n",
       "      <td>6333597102633388268</td>\n",
       "      <td>1.2056887519199482</td>\n",
       "      <td>1.0702342714774236</td>\n",
       "      <td>False</td>\n",
       "      <td>45.0</td>\n",
       "      <td>X5XTOcYQovkl6yadYdAD7xioVGU9jiY</td>\n",
       "      <td>6.768137412412545e+18</td>\n",
       "      <td>NaN</td>\n",
       "      <td>3.072849339937028e+18</td>\n",
       "      <td>2733035977666442898</td>\n",
       "      <td>NaN</td>\n",
       "      <td>28.11</td>\n",
       "      <td>0.054</td>\n",
       "      <td>0.423</td>\n",
       "      <td>1891515180541284343</td>\n",
       "      <td>4368617728156436525</td>\n",
       "    </tr>\n",
       "  </tbody>\n",
       "</table>\n",
       "</div>"
      ],
      "text/plain": [
       "  advertiser_id action_id source_id                   created  \\\n",
       "0             2       NaN         4  2019-03-06T22:42:12.755Z   \n",
       "1             0       NaN         0  2019-03-08T10:24:30.641Z   \n",
       "2             0       NaN         0  2019-03-08T15:24:16.069Z   \n",
       "3             2       NaN         3  2019-03-06T03:08:51.543Z   \n",
       "4             2       NaN         3  2019-03-06T03:32:55.570Z   \n",
       "\n",
       "          country_code            latitude           longitude  \\\n",
       "0  6333597102633388268  1.2056887519199482  1.0702342714774236   \n",
       "1  6333597102633388268   1.218923733431926  1.0712090638488148   \n",
       "2  6333597102633388268  1.2056887519199482  1.0702342714774236   \n",
       "3  6333597102633388268  1.2056887519199482  1.0702342714774236   \n",
       "4  6333597102633388268  1.2056887519199482  1.0702342714774236   \n",
       "\n",
       "  wifi_connection carrier_id                         trans_id  \\\n",
       "0           False        1.0  iGgClCM9exiHF4K31g94XmvHEBSLKIY   \n",
       "1           False        4.0  MMHTOJ6qKAOeIH_Eywh1KIcCaxtO9oM   \n",
       "2           False        6.0  vIrEIdf9izUaWdAri6Ezk7T3nHFvNQU   \n",
       "3           False       45.0  YaKxxEAs2UmZhSpRfiCO9Zpa82B_AKM   \n",
       "4           False       45.0  X5XTOcYQovkl6yadYdAD7xioVGU9jiY   \n",
       "\n",
       "                os_minor agent_device               os_major  \\\n",
       "0  6.768137412412545e+18          NaN  3.072849339937028e+18   \n",
       "1  3.025219449024123e+18          NaN   1.77408510258909e+18   \n",
       "2   5.97565607170903e+18          NaN  3.072849339937028e+18   \n",
       "3  6.768137412412545e+18          NaN  3.072849339937028e+18   \n",
       "4  6.768137412412545e+18          NaN  3.072849339937028e+18   \n",
       "\n",
       "           specs_brand brand timeToClick touchX touchY             ref_type  \\\n",
       "0  2733035977666442898   NaN       1.563  0.905  0.078  1891515180541284343   \n",
       "1   392184377613098015   NaN         NaN    NaN    NaN  1891515180541284343   \n",
       "2   392184377613098015   NaN         NaN  0.946  0.473  1891515180541284343   \n",
       "3  2733035977666442898   NaN      19.013  0.035  0.431  1891515180541284343   \n",
       "4  2733035977666442898   NaN       28.11  0.054  0.423  1891515180541284343   \n",
       "\n",
       "              ref_hash  \n",
       "0  1904083516767779093  \n",
       "1  3086509764961796666  \n",
       "2  6958163894863846647  \n",
       "3  4368617728156436525  \n",
       "4  4368617728156436525  "
      ]
     },
     "execution_count": 4,
     "metadata": {},
     "output_type": "execute_result"
    }
   ],
   "source": [
    "clicks.head()"
   ]
  },
  {
   "cell_type": "code",
   "execution_count": 5,
   "metadata": {},
   "outputs": [
    {
     "name": "stdout",
     "output_type": "stream",
     "text": [
      "<class 'pandas.core.frame.DataFrame'>\n",
      "RangeIndex: 26351 entries, 0 to 26350\n",
      "Data columns (total 20 columns):\n",
      "advertiser_id      26351 non-null object\n",
      "action_id          0 non-null object\n",
      "source_id          26351 non-null object\n",
      "created            26351 non-null object\n",
      "country_code       26351 non-null object\n",
      "latitude           26351 non-null object\n",
      "longitude          26351 non-null object\n",
      "wifi_connection    26351 non-null object\n",
      "carrier_id         26340 non-null object\n",
      "trans_id           26351 non-null object\n",
      "os_minor           26339 non-null object\n",
      "agent_device       3243 non-null object\n",
      "os_major           26339 non-null object\n",
      "specs_brand        26351 non-null object\n",
      "brand              6235 non-null object\n",
      "timeToClick        22977 non-null object\n",
      "touchX             23011 non-null object\n",
      "touchY             23011 non-null object\n",
      "ref_type           26351 non-null object\n",
      "ref_hash           26351 non-null object\n",
      "dtypes: object(20)\n",
      "memory usage: 4.0+ MB\n"
     ]
    }
   ],
   "source": [
    "clicks.info()"
   ]
  },
  {
   "cell_type": "code",
   "execution_count": 6,
   "metadata": {},
   "outputs": [
    {
     "name": "stdout",
     "output_type": "stream",
     "text": [
      "# Anunciantes: 26351\n"
     ]
    }
   ],
   "source": [
    "print(\"# Anunciantes: \"+str(clicks['advertiser_id'].describe()[0]))"
   ]
  },
  {
   "cell_type": "markdown",
   "metadata": {},
   "source": [
    "## Alguna info\n",
    "#### * Todas las conexiones son por wifi\n",
    "#### * agent_device tiene muchos valores nulos\n",
    "#### * brand tiene muchos valores nulos"
   ]
  },
  {
   "cell_type": "code",
   "execution_count": 9,
   "metadata": {},
   "outputs": [
    {
     "name": "stdout",
     "output_type": "stream",
     "text": [
      "touchX nulas: advertiser_id      3340\n",
      "action_id             0\n",
      "source_id          3340\n",
      "created            3340\n",
      "country_code       3340\n",
      "latitude           3340\n",
      "longitude          3340\n",
      "wifi_connection    3340\n",
      "carrier_id         3329\n",
      "trans_id           3340\n",
      "os_minor           3330\n",
      "agent_device        601\n",
      "os_major           3330\n",
      "specs_brand        3340\n",
      "brand               849\n",
      "timeToClick          16\n",
      "touchX                0\n",
      "touchY                0\n",
      "ref_type           3340\n",
      "ref_hash           3340\n",
      "dtype: int64\n",
      "touchX NO nulas: advertiser_id      23011\n",
      "action_id              0\n",
      "source_id          23011\n",
      "created            23011\n",
      "country_code       23011\n",
      "latitude           23011\n",
      "longitude          23011\n",
      "wifi_connection    23011\n",
      "carrier_id         23011\n",
      "trans_id           23011\n",
      "os_minor           23009\n",
      "agent_device        2642\n",
      "os_major           23009\n",
      "specs_brand        23011\n",
      "brand               5386\n",
      "timeToClick        22961\n",
      "touchX             23011\n",
      "touchY             23011\n",
      "ref_type           23011\n",
      "ref_hash           23011\n",
      "dtype: int64\n"
     ]
    }
   ],
   "source": [
    "print(\"touchX nulas: \"+ str(clicks[clicks['touchX'].isnull()].count()))\n",
    "print(\"touchX NO nulas: \"+ str(clicks[clicks['touchX'].notnull()].count()))"
   ]
  },
  {
   "cell_type": "code",
   "execution_count": 31,
   "metadata": {},
   "outputs": [
    {
     "data": {
      "text/plain": [
       "23011"
      ]
     },
     "execution_count": 31,
     "metadata": {},
     "output_type": "execute_result"
    }
   ],
   "source": [
    "# ???\n",
    "clicks['touchX'].count()"
   ]
  },
  {
   "cell_type": "code",
   "execution_count": 24,
   "metadata": {},
   "outputs": [
    {
     "data": {
      "text/plain": [
       "3340"
      ]
     },
     "execution_count": 24,
     "metadata": {},
     "output_type": "execute_result"
    }
   ],
   "source": [
    "#Valores nulos en X e Y\n",
    "clicks[clicks['touchX'].isnull()]['ref_hash'].count()"
   ]
  },
  {
   "cell_type": "code",
   "execution_count": 25,
   "metadata": {},
   "outputs": [
    {
     "data": {
      "text/plain": [
       "3340"
      ]
     },
     "execution_count": 25,
     "metadata": {},
     "output_type": "execute_result"
    }
   ],
   "source": [
    "clicks[clicks['touchY'].isnull()]['ref_hash'].count()"
   ]
  },
  {
   "cell_type": "code",
   "execution_count": 29,
   "metadata": {},
   "outputs": [
    {
     "data": {
      "text/plain": [
       "23011"
      ]
     },
     "execution_count": 29,
     "metadata": {},
     "output_type": "execute_result"
    }
   ],
   "source": [
    "#Valores no nulos en X e Y\n",
    "clicks[clicks['touchX'].notnull()]['ref_hash'].count()"
   ]
  },
  {
   "cell_type": "code",
   "execution_count": 28,
   "metadata": {},
   "outputs": [
    {
     "data": {
      "text/plain": [
       "23011"
      ]
     },
     "execution_count": 28,
     "metadata": {},
     "output_type": "execute_result"
    }
   ],
   "source": [
    "clicks[clicks['touchY'].notnull()]['ref_hash'].count()"
   ]
  },
  {
   "cell_type": "code",
   "execution_count": 33,
   "metadata": {},
   "outputs": [
    {
     "data": {
      "text/html": [
       "<div>\n",
       "<style scoped>\n",
       "    .dataframe tbody tr th:only-of-type {\n",
       "        vertical-align: middle;\n",
       "    }\n",
       "\n",
       "    .dataframe tbody tr th {\n",
       "        vertical-align: top;\n",
       "    }\n",
       "\n",
       "    .dataframe thead th {\n",
       "        text-align: right;\n",
       "    }\n",
       "</style>\n",
       "<table border=\"1\" class=\"dataframe\">\n",
       "  <thead>\n",
       "    <tr style=\"text-align: right;\">\n",
       "      <th></th>\n",
       "      <th>touchX</th>\n",
       "      <th>touchY</th>\n",
       "    </tr>\n",
       "  </thead>\n",
       "  <tbody>\n",
       "    <tr>\n",
       "      <th>0</th>\n",
       "      <td>0.905</td>\n",
       "      <td>0.078</td>\n",
       "    </tr>\n",
       "    <tr>\n",
       "      <th>2</th>\n",
       "      <td>0.946</td>\n",
       "      <td>0.473</td>\n",
       "    </tr>\n",
       "    <tr>\n",
       "      <th>3</th>\n",
       "      <td>0.035</td>\n",
       "      <td>0.431</td>\n",
       "    </tr>\n",
       "    <tr>\n",
       "      <th>4</th>\n",
       "      <td>0.054</td>\n",
       "      <td>0.423</td>\n",
       "    </tr>\n",
       "    <tr>\n",
       "      <th>5</th>\n",
       "      <td>0.606</td>\n",
       "      <td>0.459</td>\n",
       "    </tr>\n",
       "  </tbody>\n",
       "</table>\n",
       "</div>"
      ],
      "text/plain": [
       "  touchX touchY\n",
       "0  0.905  0.078\n",
       "2  0.946  0.473\n",
       "3  0.035  0.431\n",
       "4  0.054  0.423\n",
       "5  0.606  0.459"
      ]
     },
     "execution_count": 33,
     "metadata": {},
     "output_type": "execute_result"
    }
   ],
   "source": [
    "#Remuevlo los valores nulos de X e Y\n",
    "clicks_ok = clicks[clicks['touchX'].notnull()][['touchX','touchY']]\n",
    "clicks_ok.head()"
   ]
  },
  {
   "cell_type": "code",
   "execution_count": 42,
   "metadata": {},
   "outputs": [
    {
     "name": "stdout",
     "output_type": "stream",
     "text": [
      "<class 'pandas.core.frame.DataFrame'>\n",
      "Int64Index: 23011 entries, 0 to 26350\n",
      "Data columns (total 2 columns):\n",
      "touchX    23011 non-null float64\n",
      "touchY    23011 non-null float64\n",
      "dtypes: float64(2)\n",
      "memory usage: 539.3 KB\n"
     ]
    }
   ],
   "source": [
    "#Transformo a numerico\n",
    "clicks_ok['touchX'] = clicks_ok['touchX'].apply(pd.to_numeric)\n",
    "clicks_ok['touchY'] = clicks_ok['touchY'].apply(pd.to_numeric)\n",
    "clicks_ok.head()\n",
    "clicks_ok.info()"
   ]
  },
  {
   "cell_type": "code",
   "execution_count": 44,
   "metadata": {},
   "outputs": [
    {
     "data": {
      "text/plain": [
       "<matplotlib.axes._subplots.AxesSubplot at 0x7fd63e6965d0>"
      ]
     },
     "execution_count": 44,
     "metadata": {},
     "output_type": "execute_result"
    },
    {
     "data": {
      "image/png": "[encoded data removed]",
      "text/plain": [
       "<matplotlib.figure.Figure at 0x7fd66c4e7950>"
      ]
     },
     "metadata": {},
     "output_type": "display_data"
    },
    {
     "data": {
      "image/png": "[encoded data removed]",
      "text/plain": [
       "<matplotlib.figure.Figure at 0x7fd63e724910>"
      ]
     },
     "metadata": {},
     "output_type": "display_data"
    },
    {
     "data": {
      "image/png": "[encoded data removed]",
      "text/plain": [
       "<matplotlib.figure.Figure at 0x7fd63e7b6050>"
      ]
     },
     "metadata": {},
     "output_type": "display_data"
    }
   ],
   "source": [
    "#Miro la distribución de los clicks\n",
    "clicks_ok.plot.scatter(x='touchX', y='touchY', color='DarkGreen', label='clicks',s = 1)\n",
    "clicks_ok.plot.scatter(x='touchX', y='touchY', color='DarkBlue', label='clicks',s = 0.001)\n",
    "clicks_ok.plot.scatter(x='touchX', y='touchY', color='DarkRed', label='clicks',s = 0.00001)\n",
    "#Parece ser que la gran mayoría de los usuarios clickean en la parte inferior de la publicidad.\n",
    "#En la parte inferior derecha existe la mayor cantidad de clicks\n",
    "#Se pueden diferenciar(?) 3 zonas de click en base a una aparente densidad, a saber,\n",
    "#los click comprendidos entre 15~2.5 ; 2.5~1 ; 1~0"
   ]
  },
  {
   "cell_type": "code",
   "execution_count": 46,
   "metadata": {},
   "outputs": [
    {
     "data": {
      "text/html": [
       "<div>\n",
       "<style scoped>\n",
       "    .dataframe tbody tr th:only-of-type {\n",
       "        vertical-align: middle;\n",
       "    }\n",
       "\n",
       "    .dataframe tbody tr th {\n",
       "        vertical-align: top;\n",
       "    }\n",
       "\n",
       "    .dataframe thead th {\n",
       "        text-align: right;\n",
       "    }\n",
       "</style>\n",
       "<table border=\"1\" class=\"dataframe\">\n",
       "  <thead>\n",
       "    <tr style=\"text-align: right;\">\n",
       "      <th></th>\n",
       "      <th>advertiser_id</th>\n",
       "      <th>action_id</th>\n",
       "      <th>source_id</th>\n",
       "      <th>created</th>\n",
       "      <th>country_code</th>\n",
       "      <th>latitude</th>\n",
       "      <th>longitude</th>\n",
       "      <th>wifi_connection</th>\n",
       "      <th>carrier_id</th>\n",
       "      <th>trans_id</th>\n",
       "      <th>os_minor</th>\n",
       "      <th>agent_device</th>\n",
       "      <th>os_major</th>\n",
       "      <th>specs_brand</th>\n",
       "      <th>brand</th>\n",
       "      <th>timeToClick</th>\n",
       "      <th>touchX</th>\n",
       "      <th>touchY</th>\n",
       "      <th>ref_type</th>\n",
       "      <th>ref_hash</th>\n",
       "    </tr>\n",
       "  </thead>\n",
       "  <tbody>\n",
       "    <tr>\n",
       "      <th>0</th>\n",
       "      <td>2</td>\n",
       "      <td>NaN</td>\n",
       "      <td>4</td>\n",
       "      <td>2019-03-06T22:42:12.755Z</td>\n",
       "      <td>6333597102633388268</td>\n",
       "      <td>1.2056887519199482</td>\n",
       "      <td>1.0702342714774236</td>\n",
       "      <td>False</td>\n",
       "      <td>1.0</td>\n",
       "      <td>iGgClCM9exiHF4K31g94XmvHEBSLKIY</td>\n",
       "      <td>6.768137412412545e+18</td>\n",
       "      <td>NaN</td>\n",
       "      <td>3.072849339937028e+18</td>\n",
       "      <td>2733035977666442898</td>\n",
       "      <td>NaN</td>\n",
       "      <td>1.563</td>\n",
       "      <td>0.905</td>\n",
       "      <td>0.078</td>\n",
       "      <td>1891515180541284343</td>\n",
       "      <td>1904083516767779093</td>\n",
       "    </tr>\n",
       "    <tr>\n",
       "      <th>1</th>\n",
       "      <td>0</td>\n",
       "      <td>NaN</td>\n",
       "      <td>0</td>\n",
       "      <td>2019-03-08T10:24:30.641Z</td>\n",
       "      <td>6333597102633388268</td>\n",
       "      <td>1.218923733431926</td>\n",
       "      <td>1.0712090638488148</td>\n",
       "      <td>False</td>\n",
       "      <td>4.0</td>\n",
       "      <td>MMHTOJ6qKAOeIH_Eywh1KIcCaxtO9oM</td>\n",
       "      <td>3.025219449024123e+18</td>\n",
       "      <td>NaN</td>\n",
       "      <td>1.77408510258909e+18</td>\n",
       "      <td>392184377613098015</td>\n",
       "      <td>NaN</td>\n",
       "      <td>NaN</td>\n",
       "      <td>NaN</td>\n",
       "      <td>NaN</td>\n",
       "      <td>1891515180541284343</td>\n",
       "      <td>3086509764961796666</td>\n",
       "    </tr>\n",
       "    <tr>\n",
       "      <th>2</th>\n",
       "      <td>0</td>\n",
       "      <td>NaN</td>\n",
       "      <td>0</td>\n",
       "      <td>2019-03-08T15:24:16.069Z</td>\n",
       "      <td>6333597102633388268</td>\n",
       "      <td>1.2056887519199482</td>\n",
       "      <td>1.0702342714774236</td>\n",
       "      <td>False</td>\n",
       "      <td>6.0</td>\n",
       "      <td>vIrEIdf9izUaWdAri6Ezk7T3nHFvNQU</td>\n",
       "      <td>5.97565607170903e+18</td>\n",
       "      <td>NaN</td>\n",
       "      <td>3.072849339937028e+18</td>\n",
       "      <td>392184377613098015</td>\n",
       "      <td>NaN</td>\n",
       "      <td>NaN</td>\n",
       "      <td>0.946</td>\n",
       "      <td>0.473</td>\n",
       "      <td>1891515180541284343</td>\n",
       "      <td>6958163894863846647</td>\n",
       "    </tr>\n",
       "    <tr>\n",
       "      <th>3</th>\n",
       "      <td>2</td>\n",
       "      <td>NaN</td>\n",
       "      <td>3</td>\n",
       "      <td>2019-03-06T03:08:51.543Z</td>\n",
       "      <td>6333597102633388268</td>\n",
       "      <td>1.2056887519199482</td>\n",
       "      <td>1.0702342714774236</td>\n",
       "      <td>False</td>\n",
       "      <td>45.0</td>\n",
       "      <td>YaKxxEAs2UmZhSpRfiCO9Zpa82B_AKM</td>\n",
       "      <td>6.768137412412545e+18</td>\n",
       "      <td>NaN</td>\n",
       "      <td>3.072849339937028e+18</td>\n",
       "      <td>2733035977666442898</td>\n",
       "      <td>NaN</td>\n",
       "      <td>19.013</td>\n",
       "      <td>0.035</td>\n",
       "      <td>0.431</td>\n",
       "      <td>1891515180541284343</td>\n",
       "      <td>4368617728156436525</td>\n",
       "    </tr>\n",
       "    <tr>\n",
       "      <th>4</th>\n",
       "      <td>2</td>\n",
       "      <td>NaN</td>\n",
       "      <td>3</td>\n",
       "      <td>2019-03-06T03:32:55.570Z</td>\n",
       "      <td>6333597102633388268</td>\n",
       "      <td>1.2056887519199482</td>\n",
       "      <td>1.0702342714774236</td>\n",
       "      <td>False</td>\n",
       "      <td>45.0</td>\n",
       "      <td>X5XTOcYQovkl6yadYdAD7xioVGU9jiY</td>\n",
       "      <td>6.768137412412545e+18</td>\n",
       "      <td>NaN</td>\n",
       "      <td>3.072849339937028e+18</td>\n",
       "      <td>2733035977666442898</td>\n",
       "      <td>NaN</td>\n",
       "      <td>28.11</td>\n",
       "      <td>0.054</td>\n",
       "      <td>0.423</td>\n",
       "      <td>1891515180541284343</td>\n",
       "      <td>4368617728156436525</td>\n",
       "    </tr>\n",
       "  </tbody>\n",
       "</table>\n",
       "</div>"
      ],
      "text/plain": [
       "  advertiser_id action_id source_id                   created  \\\n",
       "0             2       NaN         4  2019-03-06T22:42:12.755Z   \n",
       "1             0       NaN         0  2019-03-08T10:24:30.641Z   \n",
       "2             0       NaN         0  2019-03-08T15:24:16.069Z   \n",
       "3             2       NaN         3  2019-03-06T03:08:51.543Z   \n",
       "4             2       NaN         3  2019-03-06T03:32:55.570Z   \n",
       "\n",
       "          country_code            latitude           longitude  \\\n",
       "0  6333597102633388268  1.2056887519199482  1.0702342714774236   \n",
       "1  6333597102633388268   1.218923733431926  1.0712090638488148   \n",
       "2  6333597102633388268  1.2056887519199482  1.0702342714774236   \n",
       "3  6333597102633388268  1.2056887519199482  1.0702342714774236   \n",
       "4  6333597102633388268  1.2056887519199482  1.0702342714774236   \n",
       "\n",
       "  wifi_connection carrier_id                         trans_id  \\\n",
       "0           False        1.0  iGgClCM9exiHF4K31g94XmvHEBSLKIY   \n",
       "1           False        4.0  MMHTOJ6qKAOeIH_Eywh1KIcCaxtO9oM   \n",
       "2           False        6.0  vIrEIdf9izUaWdAri6Ezk7T3nHFvNQU   \n",
       "3           False       45.0  YaKxxEAs2UmZhSpRfiCO9Zpa82B_AKM   \n",
       "4           False       45.0  X5XTOcYQovkl6yadYdAD7xioVGU9jiY   \n",
       "\n",
       "                os_minor agent_device               os_major  \\\n",
       "0  6.768137412412545e+18          NaN  3.072849339937028e+18   \n",
       "1  3.025219449024123e+18          NaN   1.77408510258909e+18   \n",
       "2   5.97565607170903e+18          NaN  3.072849339937028e+18   \n",
       "3  6.768137412412545e+18          NaN  3.072849339937028e+18   \n",
       "4  6.768137412412545e+18          NaN  3.072849339937028e+18   \n",
       "\n",
       "           specs_brand brand timeToClick touchX touchY             ref_type  \\\n",
       "0  2733035977666442898   NaN       1.563  0.905  0.078  1891515180541284343   \n",
       "1   392184377613098015   NaN         NaN    NaN    NaN  1891515180541284343   \n",
       "2   392184377613098015   NaN         NaN  0.946  0.473  1891515180541284343   \n",
       "3  2733035977666442898   NaN      19.013  0.035  0.431  1891515180541284343   \n",
       "4  2733035977666442898   NaN       28.11  0.054  0.423  1891515180541284343   \n",
       "\n",
       "              ref_hash  \n",
       "0  1904083516767779093  \n",
       "1  3086509764961796666  \n",
       "2  6958163894863846647  \n",
       "3  4368617728156436525  \n",
       "4  4368617728156436525  "
      ]
     },
     "execution_count": 46,
     "metadata": {},
     "output_type": "execute_result"
    }
   ],
   "source": [
    "#Vemos como fueron esos clicks en tiempo\n",
    "#Sabemos que el timeToClick es el tiempo(segundos) que demora un usuario en hacer 1 click desde que aparece\n",
    "#la impresion(publicidad)\n",
    "clicks.head()"
   ]
  },
  {
   "cell_type": "code",
   "execution_count": 70,
   "metadata": {},
   "outputs": [],
   "source": [
    "#Saco los nulos\n",
    "clicks_ok['timeToClick'] = clicks[clicks['timeToClick'].notnull()]['timeToClick']\n",
    "#clicks_ok['timeToClick'] = clicks_ok.loc[(~clicks_ok['timeToClick'].isnull())]"
   ]
  },
  {
   "cell_type": "code",
   "execution_count": 93,
   "metadata": {},
   "outputs": [
    {
     "name": "stdout",
     "output_type": "stream",
     "text": [
      "<class 'pandas.core.frame.DataFrame'>\n",
      "Int64Index: 22961 entries, 18789 to 22355\n",
      "Data columns (total 3 columns):\n",
      "touchX         22961 non-null float64\n",
      "touchY         22961 non-null float64\n",
      "timeToClick    22961 non-null float64\n",
      "dtypes: float64(3)\n",
      "memory usage: 717.5 KB\n"
     ]
    }
   ],
   "source": [
    "c_ok_sort.info()"
   ]
  },
  {
   "cell_type": "code",
   "execution_count": 92,
   "metadata": {
    "collapsed": true
   },
   "outputs": [],
   "source": [
    "c_ok_sort['timeToClick'] = c_ok_sort['timeToClick'].apply(pd.to_numeric)"
   ]
  },
  {
   "cell_type": "code",
   "execution_count": 71,
   "metadata": {},
   "outputs": [],
   "source": [
    "c_ok_sort = clicks_ok.sort_values(by='timeToClick',ascending=False)"
   ]
  },
  {
   "cell_type": "code",
   "execution_count": 76,
   "metadata": {},
   "outputs": [],
   "source": [
    "c_ok_sort = c_ok_sort[c_ok_sort['timeToClick'] > 0]"
   ]
  },
  {
   "cell_type": "code",
   "execution_count": 94,
   "metadata": {},
   "outputs": [
    {
     "data": {
      "text/plain": [
       "touchX           0.919521\n",
       "touchY           0.347811\n",
       "timeToClick    129.317842\n",
       "dtype: float64"
      ]
     },
     "execution_count": 94,
     "metadata": {},
     "output_type": "execute_result"
    }
   ],
   "source": [
    "c_ok_sort[(c_ok_sort['touchX'] > 0.8) & (c_ok_sort['touchY'] < 1)].mean()"
   ]
  },
  {
   "cell_type": "code",
   "execution_count": null,
   "metadata": {
    "collapsed": true
   },
   "outputs": [],
   "source": [
    "#La media de tiempo de 1 publicación es ~129(~ 2 minutos) en la zona de mayor densidad de clicks"
   ]
  },
  {
   "cell_type": "code",
   "execution_count": 95,
   "metadata": {},
   "outputs": [
    {
     "data": {
      "text/plain": [
       "touchX           0.599919\n",
       "touchY           1.235983\n",
       "timeToClick    240.147028\n",
       "dtype: float64"
      ]
     },
     "execution_count": 95,
     "metadata": {},
     "output_type": "execute_result"
    }
   ],
   "source": [
    "#Cuál es el tiempo de la publicación entre los click de menor densidad?\n",
    "c_ok_sort[(c_ok_sort['touchY'] > 1) & (c_ok_sort['touchY'] < 2.5)].mean()"
   ]
  },
  {
   "cell_type": "code",
   "execution_count": 145,
   "metadata": {},
   "outputs": [
    {
     "data": {
      "text/plain": [
       "684.3137341269842"
      ]
     },
     "execution_count": 145,
     "metadata": {},
     "output_type": "execute_result"
    }
   ],
   "source": [
    "#Densidad en Y\n",
    "d5 = c_ok_sort[(c_ok_sort['touchY'] > 10) & (c_ok_sort['touchY'] < 15)]['timeToClick'].mean()\n",
    "d5"
   ]
  },
  {
   "cell_type": "code",
   "execution_count": 146,
   "metadata": {},
   "outputs": [
    {
     "data": {
      "text/plain": [
       "524.9569775429327"
      ]
     },
     "execution_count": 146,
     "metadata": {},
     "output_type": "execute_result"
    }
   ],
   "source": [
    "d4 = c_ok_sort[(c_ok_sort['touchY'] > 7.5) & (c_ok_sort['touchY'] < 10)]['timeToClick'].mean()\n",
    "d4"
   ]
  },
  {
   "cell_type": "code",
   "execution_count": 147,
   "metadata": {},
   "outputs": [
    {
     "data": {
      "text/plain": [
       "640.2895349593496"
      ]
     },
     "execution_count": 147,
     "metadata": {},
     "output_type": "execute_result"
    }
   ],
   "source": [
    "d3 = c_ok_sort[(c_ok_sort['touchY'] > 5) & (c_ok_sort['touchY'] < 7.5)]['timeToClick'].mean()\n",
    "d3"
   ]
  },
  {
   "cell_type": "code",
   "execution_count": 148,
   "metadata": {},
   "outputs": [
    {
     "data": {
      "text/plain": [
       "477.46055993150685"
      ]
     },
     "execution_count": 148,
     "metadata": {},
     "output_type": "execute_result"
    }
   ],
   "source": [
    "d2 = c_ok_sort[(c_ok_sort['touchY'] > 2.5) & (c_ok_sort['touchY'] < 5)]['timeToClick'].mean()\n",
    "d2"
   ]
  },
  {
   "cell_type": "code",
   "execution_count": 149,
   "metadata": {},
   "outputs": [
    {
     "data": {
      "text/plain": [
       "186.05920935960594"
      ]
     },
     "execution_count": 149,
     "metadata": {},
     "output_type": "execute_result"
    }
   ],
   "source": [
    "d1 = c_ok_sort[(c_ok_sort['touchY'] > 1) & (c_ok_sort['touchY'] < 2.5)]['timeToClick'].mean()\n",
    "d1"
   ]
  },
  {
   "cell_type": "code",
   "execution_count": 150,
   "metadata": {},
   "outputs": [
    {
     "data": {
      "text/plain": [
       "181.9519464285714"
      ]
     },
     "execution_count": 150,
     "metadata": {},
     "output_type": "execute_result"
    }
   ],
   "source": [
    "d0 = c_ok_sort[(c_ok_sort['touchY'] > 0) & (c_ok_sort['touchY'] < 1)]['timeToClick'].mean()\n",
    "d0"
   ]
  },
  {
   "cell_type": "code",
   "execution_count": 184,
   "metadata": {},
   "outputs": [
    {
     "data": {
      "text/plain": [
       "[0, 1, 2, 3, 4, 5]"
      ]
     },
     "execution_count": 184,
     "metadata": {},
     "output_type": "execute_result"
    }
   ],
   "source": [
    "lista = [d0,d1,d2,d3,d4,d5]\n",
    "#lista2 = [\"0.0-1.0\",\"1.0-2.5\",\"2.5-5.0\",\"5.0-7.5\",\"7.5-10.0\",\"10.0-15.0\"]\n",
    "lista2 =list(range(0, 6))\n",
    "lista2"
   ]
  },
  {
   "cell_type": "code",
   "execution_count": 185,
   "metadata": {},
   "outputs": [
    {
     "data": {
      "text/html": [
       "<div>\n",
       "<style scoped>\n",
       "    .dataframe tbody tr th:only-of-type {\n",
       "        vertical-align: middle;\n",
       "    }\n",
       "\n",
       "    .dataframe tbody tr th {\n",
       "        vertical-align: top;\n",
       "    }\n",
       "\n",
       "    .dataframe thead th {\n",
       "        text-align: right;\n",
       "    }\n",
       "</style>\n",
       "<table border=\"1\" class=\"dataframe\">\n",
       "  <thead>\n",
       "    <tr style=\"text-align: right;\">\n",
       "      <th></th>\n",
       "      <th>tiempo_clicks</th>\n",
       "      <th>ubicacion</th>\n",
       "    </tr>\n",
       "  </thead>\n",
       "  <tbody>\n",
       "    <tr>\n",
       "      <th>0</th>\n",
       "      <td>181.951946</td>\n",
       "      <td>0</td>\n",
       "    </tr>\n",
       "    <tr>\n",
       "      <th>1</th>\n",
       "      <td>186.059209</td>\n",
       "      <td>1</td>\n",
       "    </tr>\n",
       "    <tr>\n",
       "      <th>2</th>\n",
       "      <td>477.460560</td>\n",
       "      <td>2</td>\n",
       "    </tr>\n",
       "    <tr>\n",
       "      <th>3</th>\n",
       "      <td>640.289535</td>\n",
       "      <td>3</td>\n",
       "    </tr>\n",
       "    <tr>\n",
       "      <th>4</th>\n",
       "      <td>524.956978</td>\n",
       "      <td>4</td>\n",
       "    </tr>\n",
       "    <tr>\n",
       "      <th>5</th>\n",
       "      <td>684.313734</td>\n",
       "      <td>5</td>\n",
       "    </tr>\n",
       "  </tbody>\n",
       "</table>\n",
       "</div>"
      ],
      "text/plain": [
       "   tiempo_clicks  ubicacion\n",
       "0     181.951946          0\n",
       "1     186.059209          1\n",
       "2     477.460560          2\n",
       "3     640.289535          3\n",
       "4     524.956978          4\n",
       "5     684.313734          5"
      ]
     },
     "execution_count": 185,
     "metadata": {},
     "output_type": "execute_result"
    }
   ],
   "source": [
    "data={'ubicacion':lista2,'tiempo_clicks':lista}\n",
    "df = pd.DataFrame(data=data)\n",
    "df"
   ]
  },
  {
   "cell_type": "code",
   "execution_count": 198,
   "metadata": {},
   "outputs": [
    {
     "data": {
      "image/png": "[encoded data removed]",
      "text/plain": [
       "<matplotlib.figure.Figure at 0x7fd63d015c90>"
      ]
     },
     "metadata": {},
     "output_type": "display_data"
    }
   ],
   "source": [
    "xc = df['ubicacion']\n",
    "yc = df['tiempo_clicks']\n",
    "\n",
    "types = [\"0.0~1.0\",\"1.0~2.5\",\"2.5~5.0\",\"5.0~7.5\",\"7.5~10.0\",\"10.0~15.0\"]\n",
    "x_coords = xc = df['ubicacion']\n",
    "y_coords = yc = df['tiempo_clicks']\n",
    "\n",
    "for i,type in enumerate(types):\n",
    "    x = x_coords[i]\n",
    "    y = y_coords[i]\n",
    "    plt.scatter(x, y, marker='x', color='red')\n",
    "    plt.text(x+0.1, y+0.1, type, fontsize=9)\n",
    "plt.title(\"Duracion tiempo clicks\")\n",
    "plt.xlabel(\"Ubicacion en Y\")\n",
    "plt.ylabel(\"Duracion publicidad hasta clicks [s]\")\n",
    "\n",
    "plt.show()"
   ]
  },
  {
   "cell_type": "markdown",
   "metadata": {},
   "source": [
    "### Podemos ver que los eventos(clicks) que están en la parte superior de la pantalla suceden después de un tiempo más largo.\n",
    "### Mientras que en la parte inferior de la pantalla suceden suceden más rápido."
   ]
  }
 ],
 "metadata": {
  "kernelspec": {
   "display_name": "Python 2",
   "language": "python",
   "name": "python2"
  },
  "language_info": {
   "codemirror_mode": {
    "name": "ipython",
    "version": 2
   },
   "file_extension": ".py",
   "mimetype": "text/x-python",
   "name": "python",
   "nbconvert_exporter": "python",
   "pygments_lexer": "ipython2",
   "version": "2.7.12"
  }
 },
 "nbformat": 4,
 "nbformat_minor": 2
}
