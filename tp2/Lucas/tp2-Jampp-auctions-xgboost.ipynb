{
 "cells": [
  {
   "cell_type": "code",
   "execution_count": 29,
   "metadata": {
    "collapsed": true
   },
   "outputs": [],
   "source": [
    "#Algunos datos de utilidad según conclusiones del TP1\n",
    "\n",
    "#En qué horarios se realizan más subastas?\n",
    "# Teniendo en cuenta solo los días hábiles\n",
    "# 5~10    : < 200k\n",
    "# 4,11~20 : 200k~300k\n",
    "# 20~0   : 300k ~ 400k\n",
    "# 1~2    : > 400k\n",
    "\n",
    "# :. entre las 20~2 hs se realizan la mayor cantidad de subastas con picos entre 1~2 hs."
   ]
  },
  {
   "cell_type": "code",
   "execution_count": 30,
   "metadata": {
    "collapsed": true
   },
   "outputs": [],
   "source": [
    "# Depende un evento o una conversión de un usuario del día de la semana? Y de la hora?\n",
    "\n",
    "#La cantidad de eventos se mantine constantes, excepto en los días M y X, donde encontramos un pico.\n",
    "#Teniendo en cuenta la hora, la mayor cantidad de eventos se produce durante la tarde noche, inicio de la madrugada:\n",
    "#Pico(+175k):    [0,1]\n",
    "#Alta(150k~100k):(1,4)U[15,0)\n",
    "#Media(100k~50k): [4,15)\n",
    "#Baja(0~25k):(7,9)\n",
    "#:. La mayor cantidad de eventos sucede durante el rango 15~1(tarde noche)\n",
    "\n",
    "#INSTALACIONES\n",
    "# La mayor cantidad se realiza los días M y X\n",
    "# Los días M y X se duplica la cantidad de instalaciones aproximadamente(350~400)vs(750~800)\n",
    "# Respecto del horario: Comportamiento similar a los eventos; la mayor cantidad se registran durante la tarde~noche(13~3)\n",
    "# Afecta la presencia de wifi a la cantidad de instalaciones?\n",
    "#El 80% de las instalaciones se lleva a cabo con dispositivos usando wifi.\n",
    "#Cualés son las app mas populares?\n",
    "# app_id | users | events\n",
    "# 66       70k      325k\n",
    "# 63       18k      181k \n",
    "# 145      17.5k    252k\n",
    "# 64       17k      259k\n",
    "# 103       15k     137k"
   ]
  },
  {
   "cell_type": "markdown",
   "metadata": {},
   "source": [
    "## Predicciones\n",
    "- En un instante dado, estimar St(d) el tiempo hasta que un dispositivo d aparezca de vuelta en una subasta RTB\n",
    "- En un instante dado, estimar Sc(d) el tiempo hasta que un dispositivo d convierta\n",
    "\n"
   ]
  },
  {
   "cell_type": "markdown",
   "metadata": {},
   "source": [
    "# Arboles - xgboost"
   ]
  },
  {
   "cell_type": "code",
   "execution_count": 31,
   "metadata": {},
   "outputs": [],
   "source": [
    "import pandas as pd\n",
    "import matplotlib as mp\n",
    "import numpy as np\n",
    "from datetime import timedelta\n",
    "import datetime as dt\n",
    "import gc\n",
    "\n",
    "from sklearn.ensemble import RandomForestRegressor\n",
    "from sklearn.metrics import mean_squared_error\n",
    "from sklearn.model_selection import train_test_split\n",
    "import xgboost as xgb\n",
    "\n",
    "%matplotlib inline"
   ]
  },
  {
   "cell_type": "markdown",
   "metadata": {},
   "source": [
    "## Preparación de datos"
   ]
  },
  {
   "cell_type": "markdown",
   "metadata": {},
   "source": [
    "## Configuracion"
   ]
  },
  {
   "cell_type": "code",
   "execution_count": 123,
   "metadata": {},
   "outputs": [
    {
     "name": "stdout",
     "output_type": "stream",
     "text": [
      "Root path data: ../data/\n",
      "Es testing: True\n",
      "Faccion de registros a usar para testing: 0.01\n",
      "Min de device a tener en cuenta: 10\n"
     ]
    }
   ],
   "source": [
    "#Root de archivos de datos\n",
    "root_dir = '../data/'\n",
    "#Lee menos data si es testing\n",
    "is_testing = True\n",
    "fraccion_a_usar = 0.01\n",
    "\n",
    "print('Root path data: '+root_dir)\n",
    "print('Es testing: '+str(is_testing))\n",
    "print('Faccion de registros a usar para testing: '+str(fraccion_a_usar))\n",
    "# Cantidad minima de aparicion de equipos en un dataframe. Esta variable se usa para eliminar los registros\n",
    "# que tengan pocas apariciones dentro del set de datos total.\n",
    "min_devices = 10\n",
    "print('Min de device a tener en cuenta: '+str(min_devices))\n",
    "\n",
    "# Identificador unico de equipos\n",
    "device_uuid = ['ref_type','ref_hash']\n",
    "\n",
    "# Ventanas de tiempo\n",
    "windows = pd.DataFrame({\n",
    "'window_nr':[1,2,3,4],\n",
    "'n': 1,\n",
    "'min_date': dt.datetime(2019,4,18),\n",
    "'max_date': [dt.datetime(2019,4,21),dt.datetime(2019,4,22),dt.datetime(2019,4,23),dt.datetime(2019,4,24)]\n",
    "})"
   ]
  },
  {
   "cell_type": "code",
   "execution_count": 124,
   "metadata": {},
   "outputs": [
    {
     "data": {
      "text/html": [
       "<div>\n",
       "<style scoped>\n",
       "    .dataframe tbody tr th:only-of-type {\n",
       "        vertical-align: middle;\n",
       "    }\n",
       "\n",
       "    .dataframe tbody tr th {\n",
       "        vertical-align: top;\n",
       "    }\n",
       "\n",
       "    .dataframe thead th {\n",
       "        text-align: right;\n",
       "    }\n",
       "</style>\n",
       "<table border=\"1\" class=\"dataframe\">\n",
       "  <thead>\n",
       "    <tr style=\"text-align: right;\">\n",
       "      <th></th>\n",
       "      <th>max_date</th>\n",
       "      <th>min_date</th>\n",
       "      <th>n</th>\n",
       "      <th>window_nr</th>\n",
       "    </tr>\n",
       "  </thead>\n",
       "  <tbody>\n",
       "    <tr>\n",
       "      <th>0</th>\n",
       "      <td>2019-04-21</td>\n",
       "      <td>2019-04-18</td>\n",
       "      <td>1</td>\n",
       "      <td>1</td>\n",
       "    </tr>\n",
       "    <tr>\n",
       "      <th>1</th>\n",
       "      <td>2019-04-22</td>\n",
       "      <td>2019-04-18</td>\n",
       "      <td>1</td>\n",
       "      <td>2</td>\n",
       "    </tr>\n",
       "    <tr>\n",
       "      <th>2</th>\n",
       "      <td>2019-04-23</td>\n",
       "      <td>2019-04-18</td>\n",
       "      <td>1</td>\n",
       "      <td>3</td>\n",
       "    </tr>\n",
       "    <tr>\n",
       "      <th>3</th>\n",
       "      <td>2019-04-24</td>\n",
       "      <td>2019-04-18</td>\n",
       "      <td>1</td>\n",
       "      <td>4</td>\n",
       "    </tr>\n",
       "  </tbody>\n",
       "</table>\n",
       "</div>"
      ],
      "text/plain": [
       "    max_date   min_date  n  window_nr\n",
       "0 2019-04-21 2019-04-18  1          1\n",
       "1 2019-04-22 2019-04-18  1          2\n",
       "2 2019-04-23 2019-04-18  1          3\n",
       "3 2019-04-24 2019-04-18  1          4"
      ]
     },
     "execution_count": 124,
     "metadata": {},
     "output_type": "execute_result"
    }
   ],
   "source": [
    "windows"
   ]
  },
  {
   "cell_type": "code",
   "execution_count": 34,
   "metadata": {
    "collapsed": true
   },
   "outputs": [],
   "source": [
    "#Se lee el dataframe de auctions\n",
    "\n",
    "#Optimizado para menos memoria\n",
    "auction_dtypes = {\n",
    "    'ref_type_id': np.int8,\n",
    "    'device_id': np.int64,\n",
    "    'source_id': np.int8\n",
    "}\n",
    "#root_dir + 'auctions.csv.gzip'\n",
    "auctions = pd.read_csv(root_dir+'auctions.csv.gzip',\n",
    "                       compression = 'gzip',\n",
    "                       dtype = auction_dtypes,\n",
    "                       parse_dates = ['date'])\n",
    "auctions.rename({'device_id':'ref_hash',\n",
    "                 'ref_type_id':'ref_type'}, inplace=True, axis='columns')\n",
    "\n",
    "# Para sumar los registros\n",
    "auctions['n'] = 1"
   ]
  },
  {
   "cell_type": "code",
   "execution_count": 35,
   "metadata": {},
   "outputs": [
    {
     "name": "stdout",
     "output_type": "stream",
     "text": [
      "('Total records:', 47409528)\n",
      "('Is Testing, #records:', 474095)\n"
     ]
    }
   ],
   "source": [
    "# Info de registros totales/a usar para entrenar\n",
    "print('Total records:',auctions['n'].sum())\n",
    "if is_testing:\n",
    "    auctions = auctions.sample(frac=fraccion_a_usar)\n",
    "    print(\"Is Testing, #records:\", auctions['n'].sum())\n",
    "else:\n",
    "    print(\"Not Testing, #records:\", auctions['n'].sum())"
   ]
  },
  {
   "cell_type": "code",
   "execution_count": 36,
   "metadata": {},
   "outputs": [
    {
     "data": {
      "text/html": [
       "<div>\n",
       "<style scoped>\n",
       "    .dataframe tbody tr th:only-of-type {\n",
       "        vertical-align: middle;\n",
       "    }\n",
       "\n",
       "    .dataframe tbody tr th {\n",
       "        vertical-align: top;\n",
       "    }\n",
       "\n",
       "    .dataframe thead th {\n",
       "        text-align: right;\n",
       "    }\n",
       "</style>\n",
       "<table border=\"1\" class=\"dataframe\">\n",
       "  <thead>\n",
       "    <tr style=\"text-align: right;\">\n",
       "      <th></th>\n",
       "      <th>0</th>\n",
       "    </tr>\n",
       "  </thead>\n",
       "  <tbody>\n",
       "    <tr>\n",
       "      <th>0</th>\n",
       "      <td>1000169251625791246</td>\n",
       "    </tr>\n",
       "    <tr>\n",
       "      <th>2</th>\n",
       "      <td>1000395625957344683</td>\n",
       "    </tr>\n",
       "    <tr>\n",
       "      <th>4</th>\n",
       "      <td>1003027494996471685</td>\n",
       "    </tr>\n",
       "    <tr>\n",
       "      <th>6</th>\n",
       "      <td>1006670001679961544</td>\n",
       "    </tr>\n",
       "    <tr>\n",
       "      <th>8</th>\n",
       "      <td>1007573308966476713</td>\n",
       "    </tr>\n",
       "  </tbody>\n",
       "</table>\n",
       "</div>"
      ],
      "text/plain": [
       "                     0\n",
       "0  1000169251625791246\n",
       "2  1000395625957344683\n",
       "4  1003027494996471685\n",
       "6  1006670001679961544\n",
       "8  1007573308966476713"
      ]
     },
     "execution_count": 36,
     "metadata": {},
     "output_type": "execute_result"
    }
   ],
   "source": [
    "to_predict = pd.read_csv(root_dir+'target_competencia_ids.csv')\n",
    "#predict reaparicion=st\n",
    "predict_ids = to_predict.apply(lambda x: np.int64(x['ref_hash'][0:x['ref_hash'].find('_')]), axis='columns').drop_duplicates().to_frame()\n",
    "#predict conversion=sc\n",
    "predict_ids.head()"
   ]
  },
  {
   "cell_type": "markdown",
   "metadata": {},
   "source": [
    "### Arreglo de datos en auctions"
   ]
  },
  {
   "cell_type": "code",
   "execution_count": 37,
   "metadata": {},
   "outputs": [
    {
     "data": {
      "text/html": [
       "<div>\n",
       "<style scoped>\n",
       "    .dataframe tbody tr th:only-of-type {\n",
       "        vertical-align: middle;\n",
       "    }\n",
       "\n",
       "    .dataframe tbody tr th {\n",
       "        vertical-align: top;\n",
       "    }\n",
       "\n",
       "    .dataframe thead th {\n",
       "        text-align: right;\n",
       "    }\n",
       "</style>\n",
       "<table border=\"1\" class=\"dataframe\">\n",
       "  <thead>\n",
       "    <tr style=\"text-align: right;\">\n",
       "      <th></th>\n",
       "      <th>date</th>\n",
       "      <th>ref_hash</th>\n",
       "      <th>ref_type</th>\n",
       "      <th>source_id</th>\n",
       "      <th>n</th>\n",
       "    </tr>\n",
       "  </thead>\n",
       "  <tbody>\n",
       "    <tr>\n",
       "      <th>5008935</th>\n",
       "      <td>2019-04-21 15:38:48.883211</td>\n",
       "      <td>735982827853855852</td>\n",
       "      <td>1</td>\n",
       "      <td>1</td>\n",
       "      <td>1</td>\n",
       "    </tr>\n",
       "    <tr>\n",
       "      <th>663483</th>\n",
       "      <td>2019-04-19 05:48:26.263505</td>\n",
       "      <td>7263427207369556942</td>\n",
       "      <td>1</td>\n",
       "      <td>1</td>\n",
       "      <td>1</td>\n",
       "    </tr>\n",
       "    <tr>\n",
       "      <th>28660809</th>\n",
       "      <td>2019-04-25 04:51:03.882531</td>\n",
       "      <td>2207318136648149188</td>\n",
       "      <td>1</td>\n",
       "      <td>7</td>\n",
       "      <td>1</td>\n",
       "    </tr>\n",
       "  </tbody>\n",
       "</table>\n",
       "</div>"
      ],
      "text/plain": [
       "                               date             ref_hash  ref_type  source_id  \\\n",
       "5008935  2019-04-21 15:38:48.883211   735982827853855852         1          1   \n",
       "663483   2019-04-19 05:48:26.263505  7263427207369556942         1          1   \n",
       "28660809 2019-04-25 04:51:03.882531  2207318136648149188         1          7   \n",
       "\n",
       "          n  \n",
       "5008935   1  \n",
       "663483    1  \n",
       "28660809  1  "
      ]
     },
     "execution_count": 37,
     "metadata": {},
     "output_type": "execute_result"
    }
   ],
   "source": [
    "auctions.head(3)"
   ]
  },
  {
   "cell_type": "code",
   "execution_count": 38,
   "metadata": {},
   "outputs": [
    {
     "name": "stdout",
     "output_type": "stream",
     "text": [
      "Minimo de devices a usar 10\n",
      "Cantidad auctions originales 474095\n",
      "Cantidad auctions eliminados 287955\n",
      "Cantidad auctions restantes 186140\n"
     ]
    }
   ],
   "source": [
    "# Se eliminan los reg con pocas apariciones dentro del set de datos\n",
    "print('Minimo de devices a usar '+str(min_devices))\n",
    "orig_count = auctions['n'].sum()\n",
    "auctions_clean = auctions.groupby(device_uuid, sort = False).filter(lambda x: x['n'].sum() >= min_devices) \n",
    "last_count = auctions_clean['n'].sum()\n",
    "print('Cantidad auctions originales '+str(orig_count))\n",
    "print('Cantidad auctions eliminados '+str(orig_count-last_count))\n",
    "print('Cantidad auctions restantes '+str(last_count))"
   ]
  },
  {
   "cell_type": "code",
   "execution_count": 39,
   "metadata": {},
   "outputs": [
    {
     "data": {
      "text/html": [
       "<div>\n",
       "<style scoped>\n",
       "    .dataframe tbody tr th:only-of-type {\n",
       "        vertical-align: middle;\n",
       "    }\n",
       "\n",
       "    .dataframe tbody tr th {\n",
       "        vertical-align: top;\n",
       "    }\n",
       "\n",
       "    .dataframe thead th {\n",
       "        text-align: right;\n",
       "    }\n",
       "</style>\n",
       "<table border=\"1\" class=\"dataframe\">\n",
       "  <thead>\n",
       "    <tr style=\"text-align: right;\">\n",
       "      <th></th>\n",
       "      <th>date</th>\n",
       "      <th>ref_hash</th>\n",
       "      <th>ref_type</th>\n",
       "      <th>source_id</th>\n",
       "      <th>n</th>\n",
       "    </tr>\n",
       "  </thead>\n",
       "  <tbody>\n",
       "    <tr>\n",
       "      <th>5008935</th>\n",
       "      <td>2019-04-21 15:38:48.883211</td>\n",
       "      <td>735982827853855852</td>\n",
       "      <td>1</td>\n",
       "      <td>1</td>\n",
       "      <td>1</td>\n",
       "    </tr>\n",
       "    <tr>\n",
       "      <th>39370812</th>\n",
       "      <td>2019-04-23 02:57:30.405789</td>\n",
       "      <td>334825238317164912</td>\n",
       "      <td>1</td>\n",
       "      <td>1</td>\n",
       "      <td>1</td>\n",
       "    </tr>\n",
       "    <tr>\n",
       "      <th>22577208</th>\n",
       "      <td>2019-04-19 06:19:40.588747</td>\n",
       "      <td>6663761678917706060</td>\n",
       "      <td>1</td>\n",
       "      <td>3</td>\n",
       "      <td>1</td>\n",
       "    </tr>\n",
       "    <tr>\n",
       "      <th>46691078</th>\n",
       "      <td>2019-04-18 22:15:49.707233</td>\n",
       "      <td>4550303430425129899</td>\n",
       "      <td>1</td>\n",
       "      <td>3</td>\n",
       "      <td>1</td>\n",
       "    </tr>\n",
       "    <tr>\n",
       "      <th>4224951</th>\n",
       "      <td>2019-04-26 16:47:26.170351</td>\n",
       "      <td>1105908109143296216</td>\n",
       "      <td>1</td>\n",
       "      <td>0</td>\n",
       "      <td>1</td>\n",
       "    </tr>\n",
       "  </tbody>\n",
       "</table>\n",
       "</div>"
      ],
      "text/plain": [
       "                               date             ref_hash  ref_type  source_id  \\\n",
       "5008935  2019-04-21 15:38:48.883211   735982827853855852         1          1   \n",
       "39370812 2019-04-23 02:57:30.405789   334825238317164912         1          1   \n",
       "22577208 2019-04-19 06:19:40.588747  6663761678917706060         1          3   \n",
       "46691078 2019-04-18 22:15:49.707233  4550303430425129899         1          3   \n",
       "4224951  2019-04-26 16:47:26.170351  1105908109143296216         1          0   \n",
       "\n",
       "          n  \n",
       "5008935   1  \n",
       "39370812  1  \n",
       "22577208  1  \n",
       "46691078  1  \n",
       "4224951   1  "
      ]
     },
     "execution_count": 39,
     "metadata": {},
     "output_type": "execute_result"
    }
   ],
   "source": [
    "auctions_clean.head()"
   ]
  },
  {
   "cell_type": "code",
   "execution_count": 40,
   "metadata": {},
   "outputs": [
    {
     "data": {
      "text/plain": [
       "['ref_type', 'ref_hash', 'date']"
      ]
     },
     "execution_count": 40,
     "metadata": {},
     "output_type": "execute_result"
    }
   ],
   "source": [
    "device_uuid+['date']"
   ]
  },
  {
   "cell_type": "code",
   "execution_count": 41,
   "metadata": {},
   "outputs": [
    {
     "data": {
      "text/plain": [
       "date         datetime64[ns]\n",
       "ref_hash              int64\n",
       "ref_type               int8\n",
       "source_id              int8\n",
       "n                     int64\n",
       "dtype: object"
      ]
     },
     "execution_count": 41,
     "metadata": {},
     "output_type": "execute_result"
    }
   ],
   "source": [
    "auctions_clean.dtypes"
   ]
  },
  {
   "cell_type": "code",
   "execution_count": 42,
   "metadata": {},
   "outputs": [
    {
     "data": {
      "text/html": [
       "<div>\n",
       "<style scoped>\n",
       "    .dataframe tbody tr th:only-of-type {\n",
       "        vertical-align: middle;\n",
       "    }\n",
       "\n",
       "    .dataframe tbody tr th {\n",
       "        vertical-align: top;\n",
       "    }\n",
       "\n",
       "    .dataframe thead th {\n",
       "        text-align: right;\n",
       "    }\n",
       "</style>\n",
       "<table border=\"1\" class=\"dataframe\">\n",
       "  <thead>\n",
       "    <tr style=\"text-align: right;\">\n",
       "      <th></th>\n",
       "      <th>date</th>\n",
       "      <th>ref_hash</th>\n",
       "      <th>ref_type</th>\n",
       "      <th>source_id</th>\n",
       "      <th>n</th>\n",
       "      <th>next_date</th>\n",
       "      <th>secs_to_next</th>\n",
       "    </tr>\n",
       "  </thead>\n",
       "  <tbody>\n",
       "    <tr>\n",
       "      <th>2012559</th>\n",
       "      <td>2019-04-19 18:26:55.718385</td>\n",
       "      <td>1666627460470179</td>\n",
       "      <td>1</td>\n",
       "      <td>1</td>\n",
       "      <td>1</td>\n",
       "      <td>2019-04-19 18:29:58.659713</td>\n",
       "      <td>183.0</td>\n",
       "    </tr>\n",
       "    <tr>\n",
       "      <th>9684262</th>\n",
       "      <td>2019-04-19 18:29:58.659713</td>\n",
       "      <td>1666627460470179</td>\n",
       "      <td>1</td>\n",
       "      <td>1</td>\n",
       "      <td>1</td>\n",
       "      <td>2019-04-21 05:10:20.220516</td>\n",
       "      <td>124822.0</td>\n",
       "    </tr>\n",
       "    <tr>\n",
       "      <th>24408718</th>\n",
       "      <td>2019-04-21 05:10:20.220516</td>\n",
       "      <td>1666627460470179</td>\n",
       "      <td>1</td>\n",
       "      <td>0</td>\n",
       "      <td>1</td>\n",
       "      <td>2019-04-21 05:16:52.546128</td>\n",
       "      <td>392.0</td>\n",
       "    </tr>\n",
       "    <tr>\n",
       "      <th>23735860</th>\n",
       "      <td>2019-04-21 05:16:52.546128</td>\n",
       "      <td>1666627460470179</td>\n",
       "      <td>1</td>\n",
       "      <td>0</td>\n",
       "      <td>1</td>\n",
       "      <td>2019-04-22 07:13:58.262799</td>\n",
       "      <td>93426.0</td>\n",
       "    </tr>\n",
       "    <tr>\n",
       "      <th>41719679</th>\n",
       "      <td>2019-04-22 07:13:58.262799</td>\n",
       "      <td>1666627460470179</td>\n",
       "      <td>1</td>\n",
       "      <td>1</td>\n",
       "      <td>1</td>\n",
       "      <td>2019-04-22 07:18:28.680238</td>\n",
       "      <td>270.0</td>\n",
       "    </tr>\n",
       "  </tbody>\n",
       "</table>\n",
       "</div>"
      ],
      "text/plain": [
       "                               date          ref_hash  ref_type  source_id  n  \\\n",
       "2012559  2019-04-19 18:26:55.718385  1666627460470179         1          1  1   \n",
       "9684262  2019-04-19 18:29:58.659713  1666627460470179         1          1  1   \n",
       "24408718 2019-04-21 05:10:20.220516  1666627460470179         1          0  1   \n",
       "23735860 2019-04-21 05:16:52.546128  1666627460470179         1          0  1   \n",
       "41719679 2019-04-22 07:13:58.262799  1666627460470179         1          1  1   \n",
       "\n",
       "                          next_date  secs_to_next  \n",
       "2012559  2019-04-19 18:29:58.659713         183.0  \n",
       "9684262  2019-04-21 05:10:20.220516      124822.0  \n",
       "24408718 2019-04-21 05:16:52.546128         392.0  \n",
       "23735860 2019-04-22 07:13:58.262799       93426.0  \n",
       "41719679 2019-04-22 07:18:28.680238         270.0  "
      ]
     },
     "execution_count": 42,
     "metadata": {},
     "output_type": "execute_result"
    }
   ],
   "source": [
    "auc_clean = auctions_clean.sort_values(by=device_uuid+['date'], inplace=False)\n",
    "#setea el próximo día de aparición(next_date)\n",
    "auc_clean['next_date'] = auc_clean.groupby(device_uuid, as_index = False, sort=False)['date'].transform(lambda x: x.shift(-1))\n",
    "# saco los registros 'borde', aquellos que no tienen 'next_date'\n",
    "auc_clean = auc_clean.loc[(~auc_clean['next_date'].isnull())]\n",
    "# Seteo los segundos de las apariciones\n",
    "auc_clean['secs_to_next'] = (auc_clean['next_date'] - auc_clean['date']).transform(lambda x: round(x.total_seconds()))\n",
    "auc_clean.head()"
   ]
  },
  {
   "cell_type": "code",
   "execution_count": 43,
   "metadata": {},
   "outputs": [
    {
     "data": {
      "text/html": [
       "<div>\n",
       "<style scoped>\n",
       "    .dataframe tbody tr th:only-of-type {\n",
       "        vertical-align: middle;\n",
       "    }\n",
       "\n",
       "    .dataframe tbody tr th {\n",
       "        vertical-align: top;\n",
       "    }\n",
       "\n",
       "    .dataframe thead th {\n",
       "        text-align: right;\n",
       "    }\n",
       "</style>\n",
       "<table border=\"1\" class=\"dataframe\">\n",
       "  <thead>\n",
       "    <tr style=\"text-align: right;\">\n",
       "      <th></th>\n",
       "      <th>date</th>\n",
       "      <th>ref_hash</th>\n",
       "      <th>ref_type</th>\n",
       "      <th>source_id</th>\n",
       "      <th>n</th>\n",
       "      <th>next_date</th>\n",
       "      <th>secs_to_next</th>\n",
       "      <th>hs_to_next</th>\n",
       "    </tr>\n",
       "  </thead>\n",
       "  <tbody>\n",
       "    <tr>\n",
       "      <th>2012559</th>\n",
       "      <td>2019-04-19 18:26:55.718385</td>\n",
       "      <td>1666627460470179</td>\n",
       "      <td>1</td>\n",
       "      <td>1</td>\n",
       "      <td>1</td>\n",
       "      <td>2019-04-19 18:29:58.659713</td>\n",
       "      <td>183.0</td>\n",
       "      <td>0.050833</td>\n",
       "    </tr>\n",
       "    <tr>\n",
       "      <th>9684262</th>\n",
       "      <td>2019-04-19 18:29:58.659713</td>\n",
       "      <td>1666627460470179</td>\n",
       "      <td>1</td>\n",
       "      <td>1</td>\n",
       "      <td>1</td>\n",
       "      <td>2019-04-21 05:10:20.220516</td>\n",
       "      <td>124822.0</td>\n",
       "      <td>34.672778</td>\n",
       "    </tr>\n",
       "    <tr>\n",
       "      <th>24408718</th>\n",
       "      <td>2019-04-21 05:10:20.220516</td>\n",
       "      <td>1666627460470179</td>\n",
       "      <td>1</td>\n",
       "      <td>0</td>\n",
       "      <td>1</td>\n",
       "      <td>2019-04-21 05:16:52.546128</td>\n",
       "      <td>392.0</td>\n",
       "      <td>0.108889</td>\n",
       "    </tr>\n",
       "    <tr>\n",
       "      <th>23735860</th>\n",
       "      <td>2019-04-21 05:16:52.546128</td>\n",
       "      <td>1666627460470179</td>\n",
       "      <td>1</td>\n",
       "      <td>0</td>\n",
       "      <td>1</td>\n",
       "      <td>2019-04-22 07:13:58.262799</td>\n",
       "      <td>93426.0</td>\n",
       "      <td>25.951667</td>\n",
       "    </tr>\n",
       "    <tr>\n",
       "      <th>41719679</th>\n",
       "      <td>2019-04-22 07:13:58.262799</td>\n",
       "      <td>1666627460470179</td>\n",
       "      <td>1</td>\n",
       "      <td>1</td>\n",
       "      <td>1</td>\n",
       "      <td>2019-04-22 07:18:28.680238</td>\n",
       "      <td>270.0</td>\n",
       "      <td>0.075000</td>\n",
       "    </tr>\n",
       "  </tbody>\n",
       "</table>\n",
       "</div>"
      ],
      "text/plain": [
       "                               date          ref_hash  ref_type  source_id  n  \\\n",
       "2012559  2019-04-19 18:26:55.718385  1666627460470179         1          1  1   \n",
       "9684262  2019-04-19 18:29:58.659713  1666627460470179         1          1  1   \n",
       "24408718 2019-04-21 05:10:20.220516  1666627460470179         1          0  1   \n",
       "23735860 2019-04-21 05:16:52.546128  1666627460470179         1          0  1   \n",
       "41719679 2019-04-22 07:13:58.262799  1666627460470179         1          1  1   \n",
       "\n",
       "                          next_date  secs_to_next  hs_to_next  \n",
       "2012559  2019-04-19 18:29:58.659713         183.0    0.050833  \n",
       "9684262  2019-04-21 05:10:20.220516      124822.0   34.672778  \n",
       "24408718 2019-04-21 05:16:52.546128         392.0    0.108889  \n",
       "23735860 2019-04-22 07:13:58.262799       93426.0   25.951667  \n",
       "41719679 2019-04-22 07:18:28.680238         270.0    0.075000  "
      ]
     },
     "execution_count": 43,
     "metadata": {},
     "output_type": "execute_result"
    }
   ],
   "source": [
    "auc_clean['hs_to_next'] = (auc_clean['secs_to_next'] ).transform(lambda x: x/(60*60))\n",
    "auc_clean.head()"
   ]
  },
  {
   "cell_type": "code",
   "execution_count": 44,
   "metadata": {},
   "outputs": [
    {
     "data": {
      "text/plain": [
       "176722"
      ]
     },
     "execution_count": 44,
     "metadata": {},
     "output_type": "execute_result"
    }
   ],
   "source": [
    "auc_clean['n'].sum()"
   ]
  },
  {
   "cell_type": "code",
   "execution_count": 45,
   "metadata": {},
   "outputs": [
    {
     "data": {
      "text/plain": [
       "Timestamp('2019-04-18 00:00:00.674118')"
      ]
     },
     "execution_count": 45,
     "metadata": {},
     "output_type": "execute_result"
    }
   ],
   "source": [
    "auc_clean['date'].min()"
   ]
  },
  {
   "cell_type": "code",
   "execution_count": 46,
   "metadata": {},
   "outputs": [
    {
     "data": {
      "text/plain": [
       "Timestamp('2019-04-26 23:57:21.063375')"
      ]
     },
     "execution_count": 46,
     "metadata": {},
     "output_type": "execute_result"
    }
   ],
   "source": [
    "auc_clean['date'].max()"
   ]
  },
  {
   "cell_type": "markdown",
   "metadata": {},
   "source": [
    "# Armado de features"
   ]
  },
  {
   "cell_type": "code",
   "execution_count": 47,
   "metadata": {},
   "outputs": [
    {
     "data": {
      "text/html": [
       "<div>\n",
       "<style scoped>\n",
       "    .dataframe tbody tr th:only-of-type {\n",
       "        vertical-align: middle;\n",
       "    }\n",
       "\n",
       "    .dataframe tbody tr th {\n",
       "        vertical-align: top;\n",
       "    }\n",
       "\n",
       "    .dataframe thead th {\n",
       "        text-align: right;\n",
       "    }\n",
       "</style>\n",
       "<table border=\"1\" class=\"dataframe\">\n",
       "  <thead>\n",
       "    <tr style=\"text-align: right;\">\n",
       "      <th></th>\n",
       "      <th>max_date</th>\n",
       "      <th>min_date</th>\n",
       "      <th>n</th>\n",
       "    </tr>\n",
       "    <tr>\n",
       "      <th>window_nr</th>\n",
       "      <th></th>\n",
       "      <th></th>\n",
       "      <th></th>\n",
       "    </tr>\n",
       "  </thead>\n",
       "  <tbody>\n",
       "    <tr>\n",
       "      <th>1</th>\n",
       "      <td>2019-04-21</td>\n",
       "      <td>2019-04-18</td>\n",
       "      <td>1</td>\n",
       "    </tr>\n",
       "    <tr>\n",
       "      <th>2</th>\n",
       "      <td>2019-04-22</td>\n",
       "      <td>2019-04-18</td>\n",
       "      <td>1</td>\n",
       "    </tr>\n",
       "    <tr>\n",
       "      <th>3</th>\n",
       "      <td>2019-04-23</td>\n",
       "      <td>2019-04-18</td>\n",
       "      <td>1</td>\n",
       "    </tr>\n",
       "    <tr>\n",
       "      <th>4</th>\n",
       "      <td>2019-04-24</td>\n",
       "      <td>2019-04-18</td>\n",
       "      <td>1</td>\n",
       "    </tr>\n",
       "  </tbody>\n",
       "</table>\n",
       "</div>"
      ],
      "text/plain": [
       "            max_date   min_date  n\n",
       "window_nr                         \n",
       "1         2019-04-21 2019-04-18  1\n",
       "2         2019-04-22 2019-04-18  1\n",
       "3         2019-04-23 2019-04-18  1\n",
       "4         2019-04-24 2019-04-18  1"
      ]
     },
     "execution_count": 47,
     "metadata": {},
     "output_type": "execute_result"
    }
   ],
   "source": [
    "windows.set_index('window_nr')"
   ]
  },
  {
   "cell_type": "markdown",
   "metadata": {},
   "source": [
    "## Rearmado de ventanas"
   ]
  },
  {
   "cell_type": "code",
   "execution_count": 48,
   "metadata": {},
   "outputs": [
    {
     "data": {
      "text/html": [
       "<div>\n",
       "<style scoped>\n",
       "    .dataframe tbody tr th:only-of-type {\n",
       "        vertical-align: middle;\n",
       "    }\n",
       "\n",
       "    .dataframe tbody tr th {\n",
       "        vertical-align: top;\n",
       "    }\n",
       "\n",
       "    .dataframe thead th {\n",
       "        text-align: right;\n",
       "    }\n",
       "</style>\n",
       "<table border=\"1\" class=\"dataframe\">\n",
       "  <thead>\n",
       "    <tr style=\"text-align: right;\">\n",
       "      <th></th>\n",
       "      <th>max_date</th>\n",
       "      <th>min_date</th>\n",
       "      <th>n</th>\n",
       "      <th>window_nr</th>\n",
       "    </tr>\n",
       "  </thead>\n",
       "  <tbody>\n",
       "    <tr>\n",
       "      <th>0</th>\n",
       "      <td>2019-04-21</td>\n",
       "      <td>2019-04-18</td>\n",
       "      <td>1</td>\n",
       "      <td>1</td>\n",
       "    </tr>\n",
       "    <tr>\n",
       "      <th>1</th>\n",
       "      <td>2019-04-22</td>\n",
       "      <td>2019-04-19</td>\n",
       "      <td>1</td>\n",
       "      <td>2</td>\n",
       "    </tr>\n",
       "    <tr>\n",
       "      <th>2</th>\n",
       "      <td>2019-04-23</td>\n",
       "      <td>2019-04-20</td>\n",
       "      <td>1</td>\n",
       "      <td>3</td>\n",
       "    </tr>\n",
       "    <tr>\n",
       "      <th>3</th>\n",
       "      <td>2019-04-24</td>\n",
       "      <td>2019-04-21</td>\n",
       "      <td>1</td>\n",
       "      <td>4</td>\n",
       "    </tr>\n",
       "  </tbody>\n",
       "</table>\n",
       "</div>"
      ],
      "text/plain": [
       "    max_date   min_date  n  window_nr\n",
       "0 2019-04-21 2019-04-18  1          1\n",
       "1 2019-04-22 2019-04-19  1          2\n",
       "2 2019-04-23 2019-04-20  1          3\n",
       "3 2019-04-24 2019-04-21  1          4"
      ]
     },
     "execution_count": 48,
     "metadata": {},
     "output_type": "execute_result"
    }
   ],
   "source": [
    "windows2 = pd.DataFrame({\n",
    "'window_nr':[1,2,3,4],\n",
    "'n': 1,\n",
    "'min_date': [dt.datetime(2019,4,18),dt.datetime(2019,4,19),dt.datetime(2019,4,20),dt.datetime(2019,4,21)],\n",
    "'max_date': [dt.datetime(2019,4,21),dt.datetime(2019,4,22),dt.datetime(2019,4,23),dt.datetime(2019,4,24)]\n",
    "})\n",
    "windows2"
   ]
  },
  {
   "cell_type": "code",
   "execution_count": 49,
   "metadata": {},
   "outputs": [
    {
     "data": {
      "text/plain": [
       "Timestamp('2019-04-21 00:00:00')"
      ]
     },
     "execution_count": 49,
     "metadata": {},
     "output_type": "execute_result"
    }
   ],
   "source": [
    "cutoff_date = windows2.set_index('window_nr').loc[1,'max_date']\n",
    "cutoff_date"
   ]
  },
  {
   "cell_type": "code",
   "execution_count": 50,
   "metadata": {},
   "outputs": [
    {
     "data": {
      "text/plain": [
       "date            61008\n",
       "ref_hash        61008\n",
       "ref_type        61008\n",
       "source_id       61008\n",
       "n               61008\n",
       "next_date       61008\n",
       "secs_to_next    61008\n",
       "hs_to_next      61008\n",
       "dtype: int64"
      ]
     },
     "execution_count": 50,
     "metadata": {},
     "output_type": "execute_result"
    }
   ],
   "source": [
    "train_auctions = auc_clean.loc[auctions['date'] < cutoff_date]\n",
    "train_auctions.head(3)\n",
    "train_auctions.count()"
   ]
  },
  {
   "cell_type": "code",
   "execution_count": 93,
   "metadata": {},
   "outputs": [
    {
     "data": {
      "text/html": [
       "<div>\n",
       "<style scoped>\n",
       "    .dataframe tbody tr th:only-of-type {\n",
       "        vertical-align: middle;\n",
       "    }\n",
       "\n",
       "    .dataframe tbody tr th {\n",
       "        vertical-align: top;\n",
       "    }\n",
       "\n",
       "    .dataframe thead th {\n",
       "        text-align: right;\n",
       "    }\n",
       "</style>\n",
       "<table border=\"1\" class=\"dataframe\">\n",
       "  <thead>\n",
       "    <tr style=\"text-align: right;\">\n",
       "      <th></th>\n",
       "      <th>date</th>\n",
       "      <th>ref_hash</th>\n",
       "      <th>ref_type</th>\n",
       "      <th>source_id</th>\n",
       "      <th>n</th>\n",
       "      <th>next_date</th>\n",
       "      <th>secs_to_next</th>\n",
       "      <th>hs_to_next</th>\n",
       "    </tr>\n",
       "  </thead>\n",
       "  <tbody>\n",
       "    <tr>\n",
       "      <th>2012559</th>\n",
       "      <td>2019-04-19 18:26:55.718385</td>\n",
       "      <td>1666627460470179</td>\n",
       "      <td>1</td>\n",
       "      <td>1</td>\n",
       "      <td>1</td>\n",
       "      <td>2019-04-19 18:29:58.659713</td>\n",
       "      <td>183.0</td>\n",
       "      <td>0.050833</td>\n",
       "    </tr>\n",
       "    <tr>\n",
       "      <th>9684262</th>\n",
       "      <td>2019-04-19 18:29:58.659713</td>\n",
       "      <td>1666627460470179</td>\n",
       "      <td>1</td>\n",
       "      <td>1</td>\n",
       "      <td>1</td>\n",
       "      <td>2019-04-21 05:10:20.220516</td>\n",
       "      <td>124822.0</td>\n",
       "      <td>34.672778</td>\n",
       "    </tr>\n",
       "    <tr>\n",
       "      <th>44470422</th>\n",
       "      <td>2019-04-18 10:44:10.904867</td>\n",
       "      <td>2417786714126835</td>\n",
       "      <td>1</td>\n",
       "      <td>3</td>\n",
       "      <td>1</td>\n",
       "      <td>2019-04-18 14:05:58.145714</td>\n",
       "      <td>12107.0</td>\n",
       "      <td>3.363056</td>\n",
       "    </tr>\n",
       "  </tbody>\n",
       "</table>\n",
       "</div>"
      ],
      "text/plain": [
       "                               date          ref_hash  ref_type  source_id  n  \\\n",
       "2012559  2019-04-19 18:26:55.718385  1666627460470179         1          1  1   \n",
       "9684262  2019-04-19 18:29:58.659713  1666627460470179         1          1  1   \n",
       "44470422 2019-04-18 10:44:10.904867  2417786714126835         1          3  1   \n",
       "\n",
       "                          next_date  secs_to_next  hs_to_next  \n",
       "2012559  2019-04-19 18:29:58.659713         183.0    0.050833  \n",
       "9684262  2019-04-21 05:10:20.220516      124822.0   34.672778  \n",
       "44470422 2019-04-18 14:05:58.145714       12107.0    3.363056  "
      ]
     },
     "execution_count": 93,
     "metadata": {},
     "output_type": "execute_result"
    }
   ],
   "source": [
    "train_auctions.head(3)"
   ]
  },
  {
   "cell_type": "code",
   "execution_count": 51,
   "metadata": {},
   "outputs": [
    {
     "data": {
      "text/plain": [
       "['ref_type', 'ref_hash']"
      ]
     },
     "execution_count": 51,
     "metadata": {},
     "output_type": "execute_result"
    }
   ],
   "source": [
    "device_uuid"
   ]
  },
  {
   "cell_type": "code",
   "execution_count": 52,
   "metadata": {},
   "outputs": [
    {
     "data": {
      "text/plain": [
       "8227"
      ]
     },
     "execution_count": 52,
     "metadata": {},
     "output_type": "execute_result"
    }
   ],
   "source": [
    "#Veo cuantos device tengo para el 'train_auctions'\n",
    "devices = train_auctions[device_uuid].drop_duplicates()\n",
    "devices['ref_hash'].count()"
   ]
  },
  {
   "cell_type": "code",
   "execution_count": 53,
   "metadata": {},
   "outputs": [],
   "source": [
    "#train_auctions[train_auctions['ref_hash'] == 2125435237741841]#13\n",
    "#train_auctions.groupby(by='ref_hash')['secs_to_next'].sum().loc[2125435237741841,]/13#344042.0"
   ]
  },
  {
   "cell_type": "code",
   "execution_count": 55,
   "metadata": {},
   "outputs": [
    {
     "data": {
      "text/html": [
       "<div>\n",
       "<style scoped>\n",
       "    .dataframe tbody tr th:only-of-type {\n",
       "        vertical-align: middle;\n",
       "    }\n",
       "\n",
       "    .dataframe tbody tr th {\n",
       "        vertical-align: top;\n",
       "    }\n",
       "\n",
       "    .dataframe thead th {\n",
       "        text-align: right;\n",
       "    }\n",
       "</style>\n",
       "<table border=\"1\" class=\"dataframe\">\n",
       "  <thead>\n",
       "    <tr style=\"text-align: right;\">\n",
       "      <th></th>\n",
       "      <th>date</th>\n",
       "      <th>ref_hash</th>\n",
       "      <th>source_id</th>\n",
       "      <th>next_date</th>\n",
       "      <th>secs_to_next</th>\n",
       "      <th>hs_to_next</th>\n",
       "    </tr>\n",
       "  </thead>\n",
       "  <tbody>\n",
       "    <tr>\n",
       "      <th>0</th>\n",
       "      <td>2019-04-19 18:26:55.718385</td>\n",
       "      <td>1666627460470179</td>\n",
       "      <td>1</td>\n",
       "      <td>2019-04-19 18:29:58.659713</td>\n",
       "      <td>183.0</td>\n",
       "      <td>0.050833</td>\n",
       "    </tr>\n",
       "    <tr>\n",
       "      <th>1</th>\n",
       "      <td>2019-04-19 18:29:58.659713</td>\n",
       "      <td>1666627460470179</td>\n",
       "      <td>1</td>\n",
       "      <td>2019-04-21 05:10:20.220516</td>\n",
       "      <td>124822.0</td>\n",
       "      <td>34.672778</td>\n",
       "    </tr>\n",
       "    <tr>\n",
       "      <th>2</th>\n",
       "      <td>2019-04-18 10:44:10.904867</td>\n",
       "      <td>2417786714126835</td>\n",
       "      <td>3</td>\n",
       "      <td>2019-04-18 14:05:58.145714</td>\n",
       "      <td>12107.0</td>\n",
       "      <td>3.363056</td>\n",
       "    </tr>\n",
       "    <tr>\n",
       "      <th>3</th>\n",
       "      <td>2019-04-18 14:05:58.145714</td>\n",
       "      <td>2417786714126835</td>\n",
       "      <td>1</td>\n",
       "      <td>2019-04-18 19:36:23.325793</td>\n",
       "      <td>19825.0</td>\n",
       "      <td>5.506944</td>\n",
       "    </tr>\n",
       "    <tr>\n",
       "      <th>4</th>\n",
       "      <td>2019-04-18 19:36:23.325793</td>\n",
       "      <td>2417786714126835</td>\n",
       "      <td>1</td>\n",
       "      <td>2019-04-19 06:28:35.369393</td>\n",
       "      <td>39132.0</td>\n",
       "      <td>10.870000</td>\n",
       "    </tr>\n",
       "  </tbody>\n",
       "</table>\n",
       "</div>"
      ],
      "text/plain": [
       "                        date          ref_hash  source_id  \\\n",
       "0 2019-04-19 18:26:55.718385  1666627460470179          1   \n",
       "1 2019-04-19 18:29:58.659713  1666627460470179          1   \n",
       "2 2019-04-18 10:44:10.904867  2417786714126835          3   \n",
       "3 2019-04-18 14:05:58.145714  2417786714126835          1   \n",
       "4 2019-04-18 19:36:23.325793  2417786714126835          1   \n",
       "\n",
       "                   next_date  secs_to_next  hs_to_next  \n",
       "0 2019-04-19 18:29:58.659713         183.0    0.050833  \n",
       "1 2019-04-21 05:10:20.220516      124822.0   34.672778  \n",
       "2 2019-04-18 14:05:58.145714       12107.0    3.363056  \n",
       "3 2019-04-18 19:36:23.325793       19825.0    5.506944  \n",
       "4 2019-04-19 06:28:35.369393       39132.0   10.870000  "
      ]
     },
     "execution_count": 55,
     "metadata": {},
     "output_type": "execute_result"
    }
   ],
   "source": [
    "#train_auctions2 = train_auctions[[]]\n",
    "train_auc = train_auctions.reset_index()\n",
    "train_auc = train_auc[['date','ref_hash','source_id','next_date','secs_to_next','hs_to_next']]\n",
    "train_auc.head()"
   ]
  },
  {
   "cell_type": "code",
   "execution_count": 56,
   "metadata": {
    "collapsed": true
   },
   "outputs": [],
   "source": [
    "#Se desea saber el tiempo promedio entre arribos de los dispositivos a las encuestas.\n",
    "temp = train_auctions.groupby(device_uuid, as_index='False')['secs_to_next'].mean().to_frame()['secs_to_next']\n",
    "temp.columns = ['secs_to_next_mean']"
   ]
  },
  {
   "cell_type": "code",
   "execution_count": 57,
   "metadata": {},
   "outputs": [
    {
     "data": {
      "text/html": [
       "<div>\n",
       "<style scoped>\n",
       "    .dataframe tbody tr th:only-of-type {\n",
       "        vertical-align: middle;\n",
       "    }\n",
       "\n",
       "    .dataframe tbody tr th {\n",
       "        vertical-align: top;\n",
       "    }\n",
       "\n",
       "    .dataframe thead th {\n",
       "        text-align: right;\n",
       "    }\n",
       "</style>\n",
       "<table border=\"1\" class=\"dataframe\">\n",
       "  <thead>\n",
       "    <tr style=\"text-align: right;\">\n",
       "      <th></th>\n",
       "      <th>ref_type</th>\n",
       "      <th>ref_hash</th>\n",
       "      <th>secs_to_next_mean</th>\n",
       "    </tr>\n",
       "  </thead>\n",
       "  <tbody>\n",
       "    <tr>\n",
       "      <th>0</th>\n",
       "      <td>1</td>\n",
       "      <td>1666627460470179</td>\n",
       "      <td>62502.500000</td>\n",
       "    </tr>\n",
       "    <tr>\n",
       "      <th>1</th>\n",
       "      <td>1</td>\n",
       "      <td>2417786714126835</td>\n",
       "      <td>44029.000000</td>\n",
       "    </tr>\n",
       "    <tr>\n",
       "      <th>2</th>\n",
       "      <td>1</td>\n",
       "      <td>6380906313550611</td>\n",
       "      <td>48891.166667</td>\n",
       "    </tr>\n",
       "    <tr>\n",
       "      <th>3</th>\n",
       "      <td>1</td>\n",
       "      <td>7554663982392633</td>\n",
       "      <td>32794.600000</td>\n",
       "    </tr>\n",
       "    <tr>\n",
       "      <th>4</th>\n",
       "      <td>1</td>\n",
       "      <td>10954770305551958</td>\n",
       "      <td>42089.000000</td>\n",
       "    </tr>\n",
       "  </tbody>\n",
       "</table>\n",
       "</div>"
      ],
      "text/plain": [
       "   ref_type           ref_hash  secs_to_next_mean\n",
       "0         1   1666627460470179       62502.500000\n",
       "1         1   2417786714126835       44029.000000\n",
       "2         1   6380906313550611       48891.166667\n",
       "3         1   7554663982392633       32794.600000\n",
       "4         1  10954770305551958       42089.000000"
      ]
     },
     "execution_count": 57,
     "metadata": {},
     "output_type": "execute_result"
    }
   ],
   "source": [
    "temp=train_auctions.groupby(device_uuid, as_index='False')['secs_to_next'].mean().to_frame().reset_index()\n",
    "temp=temp.rename(columns={'secs_to_next':'secs_to_next_mean'})\n",
    "temp.head()"
   ]
  },
  {
   "cell_type": "code",
   "execution_count": 58,
   "metadata": {},
   "outputs": [
    {
     "data": {
      "text/html": [
       "<div>\n",
       "<style scoped>\n",
       "    .dataframe tbody tr th:only-of-type {\n",
       "        vertical-align: middle;\n",
       "    }\n",
       "\n",
       "    .dataframe tbody tr th {\n",
       "        vertical-align: top;\n",
       "    }\n",
       "\n",
       "    .dataframe thead th {\n",
       "        text-align: right;\n",
       "    }\n",
       "</style>\n",
       "<table border=\"1\" class=\"dataframe\">\n",
       "  <thead>\n",
       "    <tr style=\"text-align: right;\">\n",
       "      <th></th>\n",
       "      <th>date</th>\n",
       "      <th>ref_hash</th>\n",
       "      <th>source_id</th>\n",
       "      <th>next_date</th>\n",
       "      <th>secs_to_next</th>\n",
       "      <th>hs_to_next</th>\n",
       "      <th>ref_type</th>\n",
       "      <th>secs_to_next_mean</th>\n",
       "    </tr>\n",
       "  </thead>\n",
       "  <tbody>\n",
       "    <tr>\n",
       "      <th>0</th>\n",
       "      <td>2019-04-19 18:26:55.718385</td>\n",
       "      <td>1666627460470179</td>\n",
       "      <td>1</td>\n",
       "      <td>2019-04-19 18:29:58.659713</td>\n",
       "      <td>183.0</td>\n",
       "      <td>0.050833</td>\n",
       "      <td>1</td>\n",
       "      <td>62502.5</td>\n",
       "    </tr>\n",
       "    <tr>\n",
       "      <th>1</th>\n",
       "      <td>2019-04-19 18:29:58.659713</td>\n",
       "      <td>1666627460470179</td>\n",
       "      <td>1</td>\n",
       "      <td>2019-04-21 05:10:20.220516</td>\n",
       "      <td>124822.0</td>\n",
       "      <td>34.672778</td>\n",
       "      <td>1</td>\n",
       "      <td>62502.5</td>\n",
       "    </tr>\n",
       "    <tr>\n",
       "      <th>2</th>\n",
       "      <td>2019-04-18 10:44:10.904867</td>\n",
       "      <td>2417786714126835</td>\n",
       "      <td>3</td>\n",
       "      <td>2019-04-18 14:05:58.145714</td>\n",
       "      <td>12107.0</td>\n",
       "      <td>3.363056</td>\n",
       "      <td>1</td>\n",
       "      <td>44029.0</td>\n",
       "    </tr>\n",
       "    <tr>\n",
       "      <th>3</th>\n",
       "      <td>2019-04-18 14:05:58.145714</td>\n",
       "      <td>2417786714126835</td>\n",
       "      <td>1</td>\n",
       "      <td>2019-04-18 19:36:23.325793</td>\n",
       "      <td>19825.0</td>\n",
       "      <td>5.506944</td>\n",
       "      <td>1</td>\n",
       "      <td>44029.0</td>\n",
       "    </tr>\n",
       "    <tr>\n",
       "      <th>4</th>\n",
       "      <td>2019-04-18 19:36:23.325793</td>\n",
       "      <td>2417786714126835</td>\n",
       "      <td>1</td>\n",
       "      <td>2019-04-19 06:28:35.369393</td>\n",
       "      <td>39132.0</td>\n",
       "      <td>10.870000</td>\n",
       "      <td>1</td>\n",
       "      <td>44029.0</td>\n",
       "    </tr>\n",
       "  </tbody>\n",
       "</table>\n",
       "</div>"
      ],
      "text/plain": [
       "                        date          ref_hash  source_id  \\\n",
       "0 2019-04-19 18:26:55.718385  1666627460470179          1   \n",
       "1 2019-04-19 18:29:58.659713  1666627460470179          1   \n",
       "2 2019-04-18 10:44:10.904867  2417786714126835          3   \n",
       "3 2019-04-18 14:05:58.145714  2417786714126835          1   \n",
       "4 2019-04-18 19:36:23.325793  2417786714126835          1   \n",
       "\n",
       "                   next_date  secs_to_next  hs_to_next  ref_type  \\\n",
       "0 2019-04-19 18:29:58.659713         183.0    0.050833         1   \n",
       "1 2019-04-21 05:10:20.220516      124822.0   34.672778         1   \n",
       "2 2019-04-18 14:05:58.145714       12107.0    3.363056         1   \n",
       "3 2019-04-18 19:36:23.325793       19825.0    5.506944         1   \n",
       "4 2019-04-19 06:28:35.369393       39132.0   10.870000         1   \n",
       "\n",
       "   secs_to_next_mean  \n",
       "0            62502.5  \n",
       "1            62502.5  \n",
       "2            44029.0  \n",
       "3            44029.0  \n",
       "4            44029.0  "
      ]
     },
     "execution_count": 58,
     "metadata": {},
     "output_type": "execute_result"
    }
   ],
   "source": [
    "train_auc2 = train_auc.merge(temp,how='inner',on='ref_hash')\n",
    "train_auc2.head()"
   ]
  },
  {
   "cell_type": "markdown",
   "metadata": {},
   "source": [
    "# Primer prueba con XGBoost"
   ]
  },
  {
   "cell_type": "code",
   "execution_count": 59,
   "metadata": {},
   "outputs": [
    {
     "data": {
      "text/html": [
       "<div>\n",
       "<style scoped>\n",
       "    .dataframe tbody tr th:only-of-type {\n",
       "        vertical-align: middle;\n",
       "    }\n",
       "\n",
       "    .dataframe tbody tr th {\n",
       "        vertical-align: top;\n",
       "    }\n",
       "\n",
       "    .dataframe thead th {\n",
       "        text-align: right;\n",
       "    }\n",
       "</style>\n",
       "<table border=\"1\" class=\"dataframe\">\n",
       "  <thead>\n",
       "    <tr style=\"text-align: right;\">\n",
       "      <th></th>\n",
       "      <th>max_date</th>\n",
       "      <th>min_date</th>\n",
       "      <th>n</th>\n",
       "      <th>window_nr</th>\n",
       "    </tr>\n",
       "  </thead>\n",
       "  <tbody>\n",
       "    <tr>\n",
       "      <th>0</th>\n",
       "      <td>2019-04-21</td>\n",
       "      <td>2019-04-18</td>\n",
       "      <td>1</td>\n",
       "      <td>1</td>\n",
       "    </tr>\n",
       "    <tr>\n",
       "      <th>1</th>\n",
       "      <td>2019-04-22</td>\n",
       "      <td>2019-04-19</td>\n",
       "      <td>1</td>\n",
       "      <td>2</td>\n",
       "    </tr>\n",
       "    <tr>\n",
       "      <th>2</th>\n",
       "      <td>2019-04-23</td>\n",
       "      <td>2019-04-20</td>\n",
       "      <td>1</td>\n",
       "      <td>3</td>\n",
       "    </tr>\n",
       "    <tr>\n",
       "      <th>3</th>\n",
       "      <td>2019-04-24</td>\n",
       "      <td>2019-04-21</td>\n",
       "      <td>1</td>\n",
       "      <td>4</td>\n",
       "    </tr>\n",
       "  </tbody>\n",
       "</table>\n",
       "</div>"
      ],
      "text/plain": [
       "    max_date   min_date  n  window_nr\n",
       "0 2019-04-21 2019-04-18  1          1\n",
       "1 2019-04-22 2019-04-19  1          2\n",
       "2 2019-04-23 2019-04-20  1          3\n",
       "3 2019-04-24 2019-04-21  1          4"
      ]
     },
     "execution_count": 59,
     "metadata": {},
     "output_type": "execute_result"
    }
   ],
   "source": [
    "windows2"
   ]
  },
  {
   "cell_type": "code",
   "execution_count": 60,
   "metadata": {
    "collapsed": true
   },
   "outputs": [],
   "source": [
    "win = 0\n",
    "max_date = windows2.loc[win,].max_date"
   ]
  },
  {
   "cell_type": "code",
   "execution_count": 61,
   "metadata": {},
   "outputs": [
    {
     "data": {
      "text/html": [
       "<div>\n",
       "<style scoped>\n",
       "    .dataframe tbody tr th:only-of-type {\n",
       "        vertical-align: middle;\n",
       "    }\n",
       "\n",
       "    .dataframe tbody tr th {\n",
       "        vertical-align: top;\n",
       "    }\n",
       "\n",
       "    .dataframe thead th {\n",
       "        text-align: right;\n",
       "    }\n",
       "</style>\n",
       "<table border=\"1\" class=\"dataframe\">\n",
       "  <thead>\n",
       "    <tr style=\"text-align: right;\">\n",
       "      <th></th>\n",
       "      <th>date</th>\n",
       "      <th>ref_hash</th>\n",
       "      <th>source_id</th>\n",
       "      <th>next_date</th>\n",
       "      <th>secs_to_next</th>\n",
       "      <th>hs_to_next</th>\n",
       "      <th>ref_type</th>\n",
       "      <th>secs_to_next_mean</th>\n",
       "    </tr>\n",
       "  </thead>\n",
       "  <tbody>\n",
       "    <tr>\n",
       "      <th>0</th>\n",
       "      <td>2019-04-19 18:26:55.718385</td>\n",
       "      <td>1666627460470179</td>\n",
       "      <td>1</td>\n",
       "      <td>2019-04-19 18:29:58.659713</td>\n",
       "      <td>183.0</td>\n",
       "      <td>0.050833</td>\n",
       "      <td>1</td>\n",
       "      <td>62502.5</td>\n",
       "    </tr>\n",
       "    <tr>\n",
       "      <th>1</th>\n",
       "      <td>2019-04-19 18:29:58.659713</td>\n",
       "      <td>1666627460470179</td>\n",
       "      <td>1</td>\n",
       "      <td>2019-04-21 05:10:20.220516</td>\n",
       "      <td>124822.0</td>\n",
       "      <td>34.672778</td>\n",
       "      <td>1</td>\n",
       "      <td>62502.5</td>\n",
       "    </tr>\n",
       "    <tr>\n",
       "      <th>2</th>\n",
       "      <td>2019-04-18 10:44:10.904867</td>\n",
       "      <td>2417786714126835</td>\n",
       "      <td>3</td>\n",
       "      <td>2019-04-18 14:05:58.145714</td>\n",
       "      <td>12107.0</td>\n",
       "      <td>3.363056</td>\n",
       "      <td>1</td>\n",
       "      <td>44029.0</td>\n",
       "    </tr>\n",
       "    <tr>\n",
       "      <th>3</th>\n",
       "      <td>2019-04-18 14:05:58.145714</td>\n",
       "      <td>2417786714126835</td>\n",
       "      <td>1</td>\n",
       "      <td>2019-04-18 19:36:23.325793</td>\n",
       "      <td>19825.0</td>\n",
       "      <td>5.506944</td>\n",
       "      <td>1</td>\n",
       "      <td>44029.0</td>\n",
       "    </tr>\n",
       "    <tr>\n",
       "      <th>4</th>\n",
       "      <td>2019-04-18 19:36:23.325793</td>\n",
       "      <td>2417786714126835</td>\n",
       "      <td>1</td>\n",
       "      <td>2019-04-19 06:28:35.369393</td>\n",
       "      <td>39132.0</td>\n",
       "      <td>10.870000</td>\n",
       "      <td>1</td>\n",
       "      <td>44029.0</td>\n",
       "    </tr>\n",
       "  </tbody>\n",
       "</table>\n",
       "</div>"
      ],
      "text/plain": [
       "                        date          ref_hash  source_id  \\\n",
       "0 2019-04-19 18:26:55.718385  1666627460470179          1   \n",
       "1 2019-04-19 18:29:58.659713  1666627460470179          1   \n",
       "2 2019-04-18 10:44:10.904867  2417786714126835          3   \n",
       "3 2019-04-18 14:05:58.145714  2417786714126835          1   \n",
       "4 2019-04-18 19:36:23.325793  2417786714126835          1   \n",
       "\n",
       "                   next_date  secs_to_next  hs_to_next  ref_type  \\\n",
       "0 2019-04-19 18:29:58.659713         183.0    0.050833         1   \n",
       "1 2019-04-21 05:10:20.220516      124822.0   34.672778         1   \n",
       "2 2019-04-18 14:05:58.145714       12107.0    3.363056         1   \n",
       "3 2019-04-18 19:36:23.325793       19825.0    5.506944         1   \n",
       "4 2019-04-19 06:28:35.369393       39132.0   10.870000         1   \n",
       "\n",
       "   secs_to_next_mean  \n",
       "0            62502.5  \n",
       "1            62502.5  \n",
       "2            44029.0  \n",
       "3            44029.0  \n",
       "4            44029.0  "
      ]
     },
     "execution_count": 61,
     "metadata": {},
     "output_type": "execute_result"
    }
   ],
   "source": [
    "#Filtramos para la primer ventana\n",
    "train_auc2 = train_auc2.groupby('date').filter(lambda x: x.date < max_date)\n",
    "train_auc2.head()"
   ]
  },
  {
   "cell_type": "code",
   "execution_count": 62,
   "metadata": {
    "collapsed": true
   },
   "outputs": [],
   "source": [
    "#convertidor de fecha(Timestamp) a int\n",
    "def convert_date_int(date):\n",
    "    d = pd.to_datetime(date)\n",
    "    return np.datetime64(d).astype(int)"
   ]
  },
  {
   "cell_type": "code",
   "execution_count": 64,
   "metadata": {
    "collapsed": true
   },
   "outputs": [],
   "source": [
    "train_auc2['date_int'] = train_auc2['date'].apply(convert_date_int)\n",
    "train_auc2['next_date_int'] = train_auc2['next_date'].apply(convert_date_int)"
   ]
  },
  {
   "cell_type": "code",
   "execution_count": 65,
   "metadata": {},
   "outputs": [
    {
     "data": {
      "text/html": [
       "<div>\n",
       "<style scoped>\n",
       "    .dataframe tbody tr th:only-of-type {\n",
       "        vertical-align: middle;\n",
       "    }\n",
       "\n",
       "    .dataframe tbody tr th {\n",
       "        vertical-align: top;\n",
       "    }\n",
       "\n",
       "    .dataframe thead th {\n",
       "        text-align: right;\n",
       "    }\n",
       "</style>\n",
       "<table border=\"1\" class=\"dataframe\">\n",
       "  <thead>\n",
       "    <tr style=\"text-align: right;\">\n",
       "      <th></th>\n",
       "      <th>date</th>\n",
       "      <th>ref_hash</th>\n",
       "      <th>source_id</th>\n",
       "      <th>next_date</th>\n",
       "      <th>secs_to_next</th>\n",
       "      <th>hs_to_next</th>\n",
       "      <th>ref_type</th>\n",
       "      <th>secs_to_next_mean</th>\n",
       "      <th>date_int</th>\n",
       "      <th>next_date_int</th>\n",
       "    </tr>\n",
       "  </thead>\n",
       "  <tbody>\n",
       "    <tr>\n",
       "      <th>0</th>\n",
       "      <td>2019-04-19 18:26:55.718385</td>\n",
       "      <td>1666627460470179</td>\n",
       "      <td>1</td>\n",
       "      <td>2019-04-19 18:29:58.659713</td>\n",
       "      <td>183.0</td>\n",
       "      <td>0.050833</td>\n",
       "      <td>1</td>\n",
       "      <td>62502.5</td>\n",
       "      <td>1555698415718385</td>\n",
       "      <td>1555698598659713</td>\n",
       "    </tr>\n",
       "    <tr>\n",
       "      <th>1</th>\n",
       "      <td>2019-04-19 18:29:58.659713</td>\n",
       "      <td>1666627460470179</td>\n",
       "      <td>1</td>\n",
       "      <td>2019-04-21 05:10:20.220516</td>\n",
       "      <td>124822.0</td>\n",
       "      <td>34.672778</td>\n",
       "      <td>1</td>\n",
       "      <td>62502.5</td>\n",
       "      <td>1555698598659713</td>\n",
       "      <td>1555823420220516</td>\n",
       "    </tr>\n",
       "    <tr>\n",
       "      <th>2</th>\n",
       "      <td>2019-04-18 10:44:10.904867</td>\n",
       "      <td>2417786714126835</td>\n",
       "      <td>3</td>\n",
       "      <td>2019-04-18 14:05:58.145714</td>\n",
       "      <td>12107.0</td>\n",
       "      <td>3.363056</td>\n",
       "      <td>1</td>\n",
       "      <td>44029.0</td>\n",
       "      <td>1555584250904867</td>\n",
       "      <td>1555596358145714</td>\n",
       "    </tr>\n",
       "    <tr>\n",
       "      <th>3</th>\n",
       "      <td>2019-04-18 14:05:58.145714</td>\n",
       "      <td>2417786714126835</td>\n",
       "      <td>1</td>\n",
       "      <td>2019-04-18 19:36:23.325793</td>\n",
       "      <td>19825.0</td>\n",
       "      <td>5.506944</td>\n",
       "      <td>1</td>\n",
       "      <td>44029.0</td>\n",
       "      <td>1555596358145714</td>\n",
       "      <td>1555616183325793</td>\n",
       "    </tr>\n",
       "    <tr>\n",
       "      <th>4</th>\n",
       "      <td>2019-04-18 19:36:23.325793</td>\n",
       "      <td>2417786714126835</td>\n",
       "      <td>1</td>\n",
       "      <td>2019-04-19 06:28:35.369393</td>\n",
       "      <td>39132.0</td>\n",
       "      <td>10.870000</td>\n",
       "      <td>1</td>\n",
       "      <td>44029.0</td>\n",
       "      <td>1555616183325793</td>\n",
       "      <td>1555655315369393</td>\n",
       "    </tr>\n",
       "  </tbody>\n",
       "</table>\n",
       "</div>"
      ],
      "text/plain": [
       "                        date          ref_hash  source_id  \\\n",
       "0 2019-04-19 18:26:55.718385  1666627460470179          1   \n",
       "1 2019-04-19 18:29:58.659713  1666627460470179          1   \n",
       "2 2019-04-18 10:44:10.904867  2417786714126835          3   \n",
       "3 2019-04-18 14:05:58.145714  2417786714126835          1   \n",
       "4 2019-04-18 19:36:23.325793  2417786714126835          1   \n",
       "\n",
       "                   next_date  secs_to_next  hs_to_next  ref_type  \\\n",
       "0 2019-04-19 18:29:58.659713         183.0    0.050833         1   \n",
       "1 2019-04-21 05:10:20.220516      124822.0   34.672778         1   \n",
       "2 2019-04-18 14:05:58.145714       12107.0    3.363056         1   \n",
       "3 2019-04-18 19:36:23.325793       19825.0    5.506944         1   \n",
       "4 2019-04-19 06:28:35.369393       39132.0   10.870000         1   \n",
       "\n",
       "   secs_to_next_mean          date_int     next_date_int  \n",
       "0            62502.5  1555698415718385  1555698598659713  \n",
       "1            62502.5  1555698598659713  1555823420220516  \n",
       "2            44029.0  1555584250904867  1555596358145714  \n",
       "3            44029.0  1555596358145714  1555616183325793  \n",
       "4            44029.0  1555616183325793  1555655315369393  "
      ]
     },
     "execution_count": 65,
     "metadata": {},
     "output_type": "execute_result"
    }
   ],
   "source": [
    "train_auc2.head()"
   ]
  },
  {
   "cell_type": "code",
   "execution_count": 94,
   "metadata": {},
   "outputs": [],
   "source": [
    "columns_to_xgboost = ['ref_hash','source_id'\\\n",
    "                      ,'ref_type','secs_to_next_mean'\\\n",
    "                      ,'date_int','next_date_int','secs_to_next']"
   ]
  },
  {
   "cell_type": "code",
   "execution_count": 95,
   "metadata": {
    "collapsed": true
   },
   "outputs": [],
   "source": [
    "train_auc3 = train_auc2[columns_to_xgboost]"
   ]
  },
  {
   "cell_type": "code",
   "execution_count": 96,
   "metadata": {},
   "outputs": [
    {
     "data": {
      "text/html": [
       "<div>\n",
       "<style scoped>\n",
       "    .dataframe tbody tr th:only-of-type {\n",
       "        vertical-align: middle;\n",
       "    }\n",
       "\n",
       "    .dataframe tbody tr th {\n",
       "        vertical-align: top;\n",
       "    }\n",
       "\n",
       "    .dataframe thead th {\n",
       "        text-align: right;\n",
       "    }\n",
       "</style>\n",
       "<table border=\"1\" class=\"dataframe\">\n",
       "  <thead>\n",
       "    <tr style=\"text-align: right;\">\n",
       "      <th></th>\n",
       "      <th>ref_hash</th>\n",
       "      <th>source_id</th>\n",
       "      <th>ref_type</th>\n",
       "      <th>secs_to_next_mean</th>\n",
       "      <th>date_int</th>\n",
       "      <th>next_date_int</th>\n",
       "      <th>secs_to_next</th>\n",
       "    </tr>\n",
       "  </thead>\n",
       "  <tbody>\n",
       "    <tr>\n",
       "      <th>0</th>\n",
       "      <td>1666627460470179</td>\n",
       "      <td>1</td>\n",
       "      <td>1</td>\n",
       "      <td>62502.5</td>\n",
       "      <td>1555698415718385</td>\n",
       "      <td>1555698598659713</td>\n",
       "      <td>183.0</td>\n",
       "    </tr>\n",
       "    <tr>\n",
       "      <th>1</th>\n",
       "      <td>1666627460470179</td>\n",
       "      <td>1</td>\n",
       "      <td>1</td>\n",
       "      <td>62502.5</td>\n",
       "      <td>1555698598659713</td>\n",
       "      <td>1555823420220516</td>\n",
       "      <td>124822.0</td>\n",
       "    </tr>\n",
       "    <tr>\n",
       "      <th>2</th>\n",
       "      <td>2417786714126835</td>\n",
       "      <td>3</td>\n",
       "      <td>1</td>\n",
       "      <td>44029.0</td>\n",
       "      <td>1555584250904867</td>\n",
       "      <td>1555596358145714</td>\n",
       "      <td>12107.0</td>\n",
       "    </tr>\n",
       "    <tr>\n",
       "      <th>3</th>\n",
       "      <td>2417786714126835</td>\n",
       "      <td>1</td>\n",
       "      <td>1</td>\n",
       "      <td>44029.0</td>\n",
       "      <td>1555596358145714</td>\n",
       "      <td>1555616183325793</td>\n",
       "      <td>19825.0</td>\n",
       "    </tr>\n",
       "    <tr>\n",
       "      <th>4</th>\n",
       "      <td>2417786714126835</td>\n",
       "      <td>1</td>\n",
       "      <td>1</td>\n",
       "      <td>44029.0</td>\n",
       "      <td>1555616183325793</td>\n",
       "      <td>1555655315369393</td>\n",
       "      <td>39132.0</td>\n",
       "    </tr>\n",
       "  </tbody>\n",
       "</table>\n",
       "</div>"
      ],
      "text/plain": [
       "           ref_hash  source_id  ref_type  secs_to_next_mean          date_int  \\\n",
       "0  1666627460470179          1         1            62502.5  1555698415718385   \n",
       "1  1666627460470179          1         1            62502.5  1555698598659713   \n",
       "2  2417786714126835          3         1            44029.0  1555584250904867   \n",
       "3  2417786714126835          1         1            44029.0  1555596358145714   \n",
       "4  2417786714126835          1         1            44029.0  1555616183325793   \n",
       "\n",
       "      next_date_int  secs_to_next  \n",
       "0  1555698598659713         183.0  \n",
       "1  1555823420220516      124822.0  \n",
       "2  1555596358145714       12107.0  \n",
       "3  1555616183325793       19825.0  \n",
       "4  1555655315369393       39132.0  "
      ]
     },
     "execution_count": 96,
     "metadata": {},
     "output_type": "execute_result"
    }
   ],
   "source": [
    "train_auc3.head()"
   ]
  },
  {
   "cell_type": "code",
   "execution_count": 98,
   "metadata": {},
   "outputs": [
    {
     "data": {
      "text/html": [
       "<div>\n",
       "<style scoped>\n",
       "    .dataframe tbody tr th:only-of-type {\n",
       "        vertical-align: middle;\n",
       "    }\n",
       "\n",
       "    .dataframe tbody tr th {\n",
       "        vertical-align: top;\n",
       "    }\n",
       "\n",
       "    .dataframe thead th {\n",
       "        text-align: right;\n",
       "    }\n",
       "</style>\n",
       "<table border=\"1\" class=\"dataframe\">\n",
       "  <thead>\n",
       "    <tr style=\"text-align: right;\">\n",
       "      <th></th>\n",
       "      <th>source_id</th>\n",
       "      <th>ref_type</th>\n",
       "      <th>secs_to_next_mean</th>\n",
       "      <th>secs_to_next</th>\n",
       "    </tr>\n",
       "  </thead>\n",
       "  <tbody>\n",
       "    <tr>\n",
       "      <th>0</th>\n",
       "      <td>1</td>\n",
       "      <td>1</td>\n",
       "      <td>62502.5</td>\n",
       "      <td>183.0</td>\n",
       "    </tr>\n",
       "    <tr>\n",
       "      <th>1</th>\n",
       "      <td>1</td>\n",
       "      <td>1</td>\n",
       "      <td>62502.5</td>\n",
       "      <td>124822.0</td>\n",
       "    </tr>\n",
       "    <tr>\n",
       "      <th>2</th>\n",
       "      <td>3</td>\n",
       "      <td>1</td>\n",
       "      <td>44029.0</td>\n",
       "      <td>12107.0</td>\n",
       "    </tr>\n",
       "    <tr>\n",
       "      <th>3</th>\n",
       "      <td>1</td>\n",
       "      <td>1</td>\n",
       "      <td>44029.0</td>\n",
       "      <td>19825.0</td>\n",
       "    </tr>\n",
       "    <tr>\n",
       "      <th>4</th>\n",
       "      <td>1</td>\n",
       "      <td>1</td>\n",
       "      <td>44029.0</td>\n",
       "      <td>39132.0</td>\n",
       "    </tr>\n",
       "  </tbody>\n",
       "</table>\n",
       "</div>"
      ],
      "text/plain": [
       "   source_id  ref_type  secs_to_next_mean  secs_to_next\n",
       "0          1         1            62502.5         183.0\n",
       "1          1         1            62502.5      124822.0\n",
       "2          3         1            44029.0       12107.0\n",
       "3          1         1            44029.0       19825.0\n",
       "4          1         1            44029.0       39132.0"
      ]
     },
     "execution_count": 98,
     "metadata": {},
     "output_type": "execute_result"
    }
   ],
   "source": [
    "# sacamos el ref_hash porque no aporta nada\n",
    "train_auc3 = train_auc3[['source_id','ref_type','secs_to_next_mean','secs_to_next']]\n",
    "train_auc3.head()"
   ]
  },
  {
   "cell_type": "code",
   "execution_count": 99,
   "metadata": {
    "collapsed": true
   },
   "outputs": [],
   "source": [
    "#Separamos X y Y\n",
    "X = train_auc3.loc[:,train_auc3.columns != 'secs_to_next']"
   ]
  },
  {
   "cell_type": "code",
   "execution_count": 100,
   "metadata": {},
   "outputs": [
    {
     "data": {
      "text/html": [
       "<div>\n",
       "<style scoped>\n",
       "    .dataframe tbody tr th:only-of-type {\n",
       "        vertical-align: middle;\n",
       "    }\n",
       "\n",
       "    .dataframe tbody tr th {\n",
       "        vertical-align: top;\n",
       "    }\n",
       "\n",
       "    .dataframe thead th {\n",
       "        text-align: right;\n",
       "    }\n",
       "</style>\n",
       "<table border=\"1\" class=\"dataframe\">\n",
       "  <thead>\n",
       "    <tr style=\"text-align: right;\">\n",
       "      <th></th>\n",
       "      <th>source_id</th>\n",
       "      <th>ref_type</th>\n",
       "      <th>secs_to_next_mean</th>\n",
       "    </tr>\n",
       "  </thead>\n",
       "  <tbody>\n",
       "    <tr>\n",
       "      <th>0</th>\n",
       "      <td>1</td>\n",
       "      <td>1</td>\n",
       "      <td>62502.5</td>\n",
       "    </tr>\n",
       "    <tr>\n",
       "      <th>1</th>\n",
       "      <td>1</td>\n",
       "      <td>1</td>\n",
       "      <td>62502.5</td>\n",
       "    </tr>\n",
       "    <tr>\n",
       "      <th>2</th>\n",
       "      <td>3</td>\n",
       "      <td>1</td>\n",
       "      <td>44029.0</td>\n",
       "    </tr>\n",
       "    <tr>\n",
       "      <th>3</th>\n",
       "      <td>1</td>\n",
       "      <td>1</td>\n",
       "      <td>44029.0</td>\n",
       "    </tr>\n",
       "    <tr>\n",
       "      <th>4</th>\n",
       "      <td>1</td>\n",
       "      <td>1</td>\n",
       "      <td>44029.0</td>\n",
       "    </tr>\n",
       "  </tbody>\n",
       "</table>\n",
       "</div>"
      ],
      "text/plain": [
       "   source_id  ref_type  secs_to_next_mean\n",
       "0          1         1            62502.5\n",
       "1          1         1            62502.5\n",
       "2          3         1            44029.0\n",
       "3          1         1            44029.0\n",
       "4          1         1            44029.0"
      ]
     },
     "execution_count": 100,
     "metadata": {},
     "output_type": "execute_result"
    }
   ],
   "source": [
    "X.head()"
   ]
  },
  {
   "cell_type": "code",
   "execution_count": 101,
   "metadata": {},
   "outputs": [
    {
     "data": {
      "text/html": [
       "<div>\n",
       "<style scoped>\n",
       "    .dataframe tbody tr th:only-of-type {\n",
       "        vertical-align: middle;\n",
       "    }\n",
       "\n",
       "    .dataframe tbody tr th {\n",
       "        vertical-align: top;\n",
       "    }\n",
       "\n",
       "    .dataframe thead th {\n",
       "        text-align: right;\n",
       "    }\n",
       "</style>\n",
       "<table border=\"1\" class=\"dataframe\">\n",
       "  <thead>\n",
       "    <tr style=\"text-align: right;\">\n",
       "      <th></th>\n",
       "      <th>secs_to_next</th>\n",
       "    </tr>\n",
       "  </thead>\n",
       "  <tbody>\n",
       "    <tr>\n",
       "      <th>0</th>\n",
       "      <td>183.0</td>\n",
       "    </tr>\n",
       "    <tr>\n",
       "      <th>1</th>\n",
       "      <td>124822.0</td>\n",
       "    </tr>\n",
       "    <tr>\n",
       "      <th>2</th>\n",
       "      <td>12107.0</td>\n",
       "    </tr>\n",
       "    <tr>\n",
       "      <th>3</th>\n",
       "      <td>19825.0</td>\n",
       "    </tr>\n",
       "    <tr>\n",
       "      <th>4</th>\n",
       "      <td>39132.0</td>\n",
       "    </tr>\n",
       "  </tbody>\n",
       "</table>\n",
       "</div>"
      ],
      "text/plain": [
       "   secs_to_next\n",
       "0         183.0\n",
       "1      124822.0\n",
       "2       12107.0\n",
       "3       19825.0\n",
       "4       39132.0"
      ]
     },
     "execution_count": 101,
     "metadata": {},
     "output_type": "execute_result"
    }
   ],
   "source": [
    "y = train_auc3.loc[:,train_auc3.columns == 'secs_to_next']\n",
    "y.head()"
   ]
  },
  {
   "cell_type": "code",
   "execution_count": 106,
   "metadata": {},
   "outputs": [
    {
     "name": "stdout",
     "output_type": "stream",
     "text": [
      "(reg tot,features tot), ( reg X, feat X), (reg Y, feat Y)\n"
     ]
    },
    {
     "data": {
      "text/plain": [
       "((61008, 4), (61008, 3), (61008, 1))"
      ]
     },
     "execution_count": 106,
     "metadata": {},
     "output_type": "execute_result"
    }
   ],
   "source": [
    "print(\"(reg tot,features tot), ( reg X, feat X), (reg Y, feat Y)\")\n",
    "train_auc3.shape,X.shape,y.shape"
   ]
  },
  {
   "cell_type": "code",
   "execution_count": 107,
   "metadata": {
    "collapsed": true
   },
   "outputs": [],
   "source": [
    "X_train,X_test,y_train,y_test = train_test_split(X,y,test_size=0.3,random_state=1)"
   ]
  },
  {
   "cell_type": "code",
   "execution_count": 108,
   "metadata": {},
   "outputs": [
    {
     "data": {
      "text/plain": [
       "((42705, 3), (18303, 3), (42705, 1), (18303, 1))"
      ]
     },
     "execution_count": 108,
     "metadata": {},
     "output_type": "execute_result"
    }
   ],
   "source": [
    "X_train.shape ,X_test.shape ,y_train.shape ,y_test.shape"
   ]
  },
  {
   "cell_type": "markdown",
   "metadata": {},
   "source": [
    "### Hiper-parámetros\n",
    "- learning_rate: tasa de aprendizaje\n",
    "- max_depth: máxima profundidad de cada árbol(default=6)\n",
    "- subsample: porcentaje de muestras usadas para cada árbol (valor muy bajo, posible underfitting)\n",
    "- colsample_bytree: porcentaje de features usadas para cada árbol (valores muy alto, posible overfitting)\n",
    "- n_estimators: cantidad de árboles a construir.\n",
    "- objective: función de error a utilizar (algunas: reg:linear para regresión, reg:logistic o binary:logistic para clasificación)\n",
    "### Parámetros de regularización:\n",
    "\n",
    "- gamma: umbral para hacer split basado en la reducción de error de hacer el nuevo split.\n",
    "- alpha: regularización para los pesos de las hojas. Un valor más alto genera una mayor regularización.\n",
    "- lambda: similar alpha pero para la sintonia fina.\n",
    "### Otros parámetros\n",
    "- Verbosite: si muestra mensajes de info,aviso,error,debug"
   ]
  },
  {
   "cell_type": "code",
   "execution_count": 109,
   "metadata": {
    "collapsed": true
   },
   "outputs": [],
   "source": [
    "# Regressor\n",
    "xg_reg = xgb.XGBRegressor(objective ='reg:linear', colsample_bytree = 0.95, learning_rate = 0.42,\n",
    "                max_depth = 6, alpha = 20, n_estimators = 300,verbosity=1)"
   ]
  },
  {
   "cell_type": "code",
   "execution_count": 110,
   "metadata": {},
   "outputs": [
    {
     "name": "stdout",
     "output_type": "stream",
     "text": [
      "[21:36:51] WARNING: src/objective/regression_obj.cu:144: reg:linear is now deprecated in favor of reg:squarederror.\n"
     ]
    },
    {
     "data": {
      "text/plain": [
       "XGBRegressor(alpha=20, base_score=0.5, booster='gbtree', colsample_bylevel=1,\n",
       "       colsample_bynode=1, colsample_bytree=0.95, gamma=0,\n",
       "       importance_type='gain', learning_rate=0.42, max_delta_step=0,\n",
       "       max_depth=6, min_child_weight=1, missing=None, n_estimators=300,\n",
       "       n_jobs=1, nthread=None, objective='reg:linear', random_state=0,\n",
       "       reg_alpha=0, reg_lambda=1, scale_pos_weight=1, seed=None,\n",
       "       silent=None, subsample=1, verbosity=1)"
      ]
     },
     "execution_count": 110,
     "metadata": {},
     "output_type": "execute_result"
    }
   ],
   "source": [
    "xg_reg.fit(X_train,y_train)"
   ]
  },
  {
   "cell_type": "code",
   "execution_count": 111,
   "metadata": {
    "collapsed": true
   },
   "outputs": [],
   "source": [
    "preds = xg_reg.predict(X_test)"
   ]
  },
  {
   "cell_type": "code",
   "execution_count": 122,
   "metadata": {},
   "outputs": [
    {
     "name": "stdout",
     "output_type": "stream",
     "text": [
      "mean_squared_error\n",
      "3483895016.745909\n",
      "mean_squared_error NICO\n",
      "3400688504.3380723\n",
      "       source_id  ref_type  secs_to_next_mean\n",
      "31030          3         1            80053.0\n"
     ]
    },
    {
     "data": {
      "text/plain": [
       "array([0.10515303, 0.03063782, 0.8642092 ], dtype=float32)"
      ]
     },
     "execution_count": 122,
     "metadata": {},
     "output_type": "execute_result"
    }
   ],
   "source": [
    "mse = mean_squared_error(y_test, preds)\n",
    "print(\"mean_squared_error\")\n",
    "print(str(mse))\n",
    "#rmse = np.sqrt(mse)\n",
    "#print(\"RMSE: %f\" % (rmse))\n",
    "print(\"mean_squared_error NICO\")\n",
    "print(\"3400688504.3380723\")\n",
    "print(X_test.head(1))\n",
    "xg_reg.feature_importances_\n",
    "#RMSE con :\n",
    "#xgb.XGBRegressor(objective ='reg:linear', colsample_bytree = 0.3, learning_rate = 0.1,\n",
    "#                max_depth = 5, alpha = 10, n_estimators = 10)regresor lineal,\n",
    "#                colsample_bytree=0.3, learning_rat=0.1,max_depth=1-,n_estimators=10"
   ]
  },
  {
   "cell_type": "markdown",
   "metadata": {},
   "source": [
    "# Otros casos"
   ]
  },
  {
   "cell_type": "code",
   "execution_count": 117,
   "metadata": {},
   "outputs": [
    {
     "data": {
      "text/html": [
       "<div>\n",
       "<style scoped>\n",
       "    .dataframe tbody tr th:only-of-type {\n",
       "        vertical-align: middle;\n",
       "    }\n",
       "\n",
       "    .dataframe tbody tr th {\n",
       "        vertical-align: top;\n",
       "    }\n",
       "\n",
       "    .dataframe thead th {\n",
       "        text-align: right;\n",
       "    }\n",
       "</style>\n",
       "<table border=\"1\" class=\"dataframe\">\n",
       "  <thead>\n",
       "    <tr style=\"text-align: right;\">\n",
       "      <th></th>\n",
       "      <th>source_id</th>\n",
       "      <th>ref_type</th>\n",
       "      <th>secs_to_next_mean</th>\n",
       "    </tr>\n",
       "  </thead>\n",
       "  <tbody>\n",
       "    <tr>\n",
       "      <th>count</th>\n",
       "      <td>42705.000000</td>\n",
       "      <td>42705.000000</td>\n",
       "      <td>42705.000000</td>\n",
       "    </tr>\n",
       "    <tr>\n",
       "      <th>mean</th>\n",
       "      <td>1.590516</td>\n",
       "      <td>1.647137</td>\n",
       "      <td>35475.281307</td>\n",
       "    </tr>\n",
       "    <tr>\n",
       "      <th>std</th>\n",
       "      <td>1.532023</td>\n",
       "      <td>1.861214</td>\n",
       "      <td>36349.752257</td>\n",
       "    </tr>\n",
       "    <tr>\n",
       "      <th>min</th>\n",
       "      <td>0.000000</td>\n",
       "      <td>1.000000</td>\n",
       "      <td>329.333333</td>\n",
       "    </tr>\n",
       "    <tr>\n",
       "      <th>25%</th>\n",
       "      <td>1.000000</td>\n",
       "      <td>1.000000</td>\n",
       "      <td>14609.217391</td>\n",
       "    </tr>\n",
       "    <tr>\n",
       "      <th>50%</th>\n",
       "      <td>1.000000</td>\n",
       "      <td>1.000000</td>\n",
       "      <td>26588.000000</td>\n",
       "    </tr>\n",
       "    <tr>\n",
       "      <th>75%</th>\n",
       "      <td>3.000000</td>\n",
       "      <td>1.000000</td>\n",
       "      <td>43702.250000</td>\n",
       "    </tr>\n",
       "    <tr>\n",
       "      <th>max</th>\n",
       "      <td>9.000000</td>\n",
       "      <td>7.000000</td>\n",
       "      <td>724842.000000</td>\n",
       "    </tr>\n",
       "  </tbody>\n",
       "</table>\n",
       "</div>"
      ],
      "text/plain": [
       "          source_id      ref_type  secs_to_next_mean\n",
       "count  42705.000000  42705.000000       42705.000000\n",
       "mean       1.590516      1.647137       35475.281307\n",
       "std        1.532023      1.861214       36349.752257\n",
       "min        0.000000      1.000000         329.333333\n",
       "25%        1.000000      1.000000       14609.217391\n",
       "50%        1.000000      1.000000       26588.000000\n",
       "75%        3.000000      1.000000       43702.250000\n",
       "max        9.000000      7.000000      724842.000000"
      ]
     },
     "execution_count": 117,
     "metadata": {},
     "output_type": "execute_result"
    }
   ],
   "source": [
    "X_train.describe()"
   ]
  },
  {
   "cell_type": "code",
   "execution_count": 126,
   "metadata": {},
   "outputs": [
    {
     "data": {
      "text/html": [
       "<div>\n",
       "<style scoped>\n",
       "    .dataframe tbody tr th:only-of-type {\n",
       "        vertical-align: middle;\n",
       "    }\n",
       "\n",
       "    .dataframe tbody tr th {\n",
       "        vertical-align: top;\n",
       "    }\n",
       "\n",
       "    .dataframe thead th {\n",
       "        text-align: right;\n",
       "    }\n",
       "</style>\n",
       "<table border=\"1\" class=\"dataframe\">\n",
       "  <thead>\n",
       "    <tr style=\"text-align: right;\">\n",
       "      <th></th>\n",
       "      <th>source_id</th>\n",
       "      <th>ref_type</th>\n",
       "      <th>secs_to_next_mean</th>\n",
       "      <th>secs_to_next</th>\n",
       "    </tr>\n",
       "  </thead>\n",
       "  <tbody>\n",
       "    <tr>\n",
       "      <th>0</th>\n",
       "      <td>1</td>\n",
       "      <td>1</td>\n",
       "      <td>62502.5</td>\n",
       "      <td>183.0</td>\n",
       "    </tr>\n",
       "    <tr>\n",
       "      <th>1</th>\n",
       "      <td>1</td>\n",
       "      <td>1</td>\n",
       "      <td>62502.5</td>\n",
       "      <td>124822.0</td>\n",
       "    </tr>\n",
       "    <tr>\n",
       "      <th>2</th>\n",
       "      <td>3</td>\n",
       "      <td>1</td>\n",
       "      <td>44029.0</td>\n",
       "      <td>12107.0</td>\n",
       "    </tr>\n",
       "  </tbody>\n",
       "</table>\n",
       "</div>"
      ],
      "text/plain": [
       "   source_id  ref_type  secs_to_next_mean  secs_to_next\n",
       "0          1         1            62502.5         183.0\n",
       "1          1         1            62502.5      124822.0\n",
       "2          3         1            44029.0       12107.0"
      ]
     },
     "execution_count": 126,
     "metadata": {},
     "output_type": "execute_result"
    }
   ],
   "source": [
    "train_auc3.head(3)"
   ]
  },
  {
   "cell_type": "markdown",
   "metadata": {},
   "source": [
    "## Armo un feature en base a el horario en el que se realiza la subasta\n",
    "Si la subasta se realiza en el horario de 20 ~ 2 hs entonces = 1 sino = 0"
   ]
  },
  {
   "cell_type": "code",
   "execution_count": 138,
   "metadata": {},
   "outputs": [
    {
     "data": {
      "text/html": [
       "<div>\n",
       "<style scoped>\n",
       "    .dataframe tbody tr th:only-of-type {\n",
       "        vertical-align: middle;\n",
       "    }\n",
       "\n",
       "    .dataframe tbody tr th {\n",
       "        vertical-align: top;\n",
       "    }\n",
       "\n",
       "    .dataframe thead th {\n",
       "        text-align: right;\n",
       "    }\n",
       "</style>\n",
       "<table border=\"1\" class=\"dataframe\">\n",
       "  <thead>\n",
       "    <tr style=\"text-align: right;\">\n",
       "      <th></th>\n",
       "      <th>date</th>\n",
       "      <th>ref_hash</th>\n",
       "      <th>source_id</th>\n",
       "      <th>next_date</th>\n",
       "      <th>secs_to_next</th>\n",
       "      <th>hs_to_next</th>\n",
       "      <th>ref_type</th>\n",
       "      <th>secs_to_next_mean</th>\n",
       "      <th>date_int</th>\n",
       "      <th>next_date_int</th>\n",
       "    </tr>\n",
       "  </thead>\n",
       "  <tbody>\n",
       "    <tr>\n",
       "      <th>0</th>\n",
       "      <td>2019-04-19 18:26:55.718385</td>\n",
       "      <td>1666627460470179</td>\n",
       "      <td>1</td>\n",
       "      <td>2019-04-19 18:29:58.659713</td>\n",
       "      <td>183.0</td>\n",
       "      <td>0.050833</td>\n",
       "      <td>1</td>\n",
       "      <td>62502.5</td>\n",
       "      <td>1555698415718385</td>\n",
       "      <td>1555698598659713</td>\n",
       "    </tr>\n",
       "    <tr>\n",
       "      <th>1</th>\n",
       "      <td>2019-04-19 18:29:58.659713</td>\n",
       "      <td>1666627460470179</td>\n",
       "      <td>1</td>\n",
       "      <td>2019-04-21 05:10:20.220516</td>\n",
       "      <td>124822.0</td>\n",
       "      <td>34.672778</td>\n",
       "      <td>1</td>\n",
       "      <td>62502.5</td>\n",
       "      <td>1555698598659713</td>\n",
       "      <td>1555823420220516</td>\n",
       "    </tr>\n",
       "  </tbody>\n",
       "</table>\n",
       "</div>"
      ],
      "text/plain": [
       "                        date          ref_hash  source_id  \\\n",
       "0 2019-04-19 18:26:55.718385  1666627460470179          1   \n",
       "1 2019-04-19 18:29:58.659713  1666627460470179          1   \n",
       "\n",
       "                   next_date  secs_to_next  hs_to_next  ref_type  \\\n",
       "0 2019-04-19 18:29:58.659713         183.0    0.050833         1   \n",
       "1 2019-04-21 05:10:20.220516      124822.0   34.672778         1   \n",
       "\n",
       "   secs_to_next_mean          date_int     next_date_int  \n",
       "0            62502.5  1555698415718385  1555698598659713  \n",
       "1            62502.5  1555698598659713  1555823420220516  "
      ]
     },
     "execution_count": 138,
     "metadata": {},
     "output_type": "execute_result"
    }
   ],
   "source": [
    "train_auc2.head(2)"
   ]
  },
  {
   "cell_type": "code",
   "execution_count": 151,
   "metadata": {},
   "outputs": [
    {
     "data": {
      "text/html": [
       "<div>\n",
       "<style scoped>\n",
       "    .dataframe tbody tr th:only-of-type {\n",
       "        vertical-align: middle;\n",
       "    }\n",
       "\n",
       "    .dataframe tbody tr th {\n",
       "        vertical-align: top;\n",
       "    }\n",
       "\n",
       "    .dataframe thead th {\n",
       "        text-align: right;\n",
       "    }\n",
       "</style>\n",
       "<table border=\"1\" class=\"dataframe\">\n",
       "  <thead>\n",
       "    <tr style=\"text-align: right;\">\n",
       "      <th></th>\n",
       "      <th>ref_hash</th>\n",
       "      <th>source_id</th>\n",
       "      <th>ref_type</th>\n",
       "      <th>secs_to_next_mean</th>\n",
       "      <th>date_int</th>\n",
       "      <th>next_date_int</th>\n",
       "      <th>date</th>\n",
       "      <th>secs_to_next</th>\n",
       "      <th>hs_to_next</th>\n",
       "    </tr>\n",
       "  </thead>\n",
       "  <tbody>\n",
       "    <tr>\n",
       "      <th>61006</th>\n",
       "      <td>9205507390206506601</td>\n",
       "      <td>1</td>\n",
       "      <td>7</td>\n",
       "      <td>9910.074074</td>\n",
       "      <td>1555779334364999</td>\n",
       "      <td>1555781579555232</td>\n",
       "      <td>2019-04-20 16:55:34.364999</td>\n",
       "      <td>2245.0</td>\n",
       "      <td>0.623611</td>\n",
       "    </tr>\n",
       "    <tr>\n",
       "      <th>61007</th>\n",
       "      <td>9205507390206506601</td>\n",
       "      <td>0</td>\n",
       "      <td>7</td>\n",
       "      <td>9910.074074</td>\n",
       "      <td>1555781579555232</td>\n",
       "      <td>1555824264242442</td>\n",
       "      <td>2019-04-20 17:32:59.555232</td>\n",
       "      <td>42685.0</td>\n",
       "      <td>11.856944</td>\n",
       "    </tr>\n",
       "  </tbody>\n",
       "</table>\n",
       "</div>"
      ],
      "text/plain": [
       "                  ref_hash  source_id  ref_type  secs_to_next_mean  \\\n",
       "61006  9205507390206506601          1         7        9910.074074   \n",
       "61007  9205507390206506601          0         7        9910.074074   \n",
       "\n",
       "               date_int     next_date_int                       date  \\\n",
       "61006  1555779334364999  1555781579555232 2019-04-20 16:55:34.364999   \n",
       "61007  1555781579555232  1555824264242442 2019-04-20 17:32:59.555232   \n",
       "\n",
       "       secs_to_next  hs_to_next  \n",
       "61006        2245.0    0.623611  \n",
       "61007       42685.0   11.856944  "
      ]
     },
     "execution_count": 151,
     "metadata": {},
     "output_type": "execute_result"
    }
   ],
   "source": [
    "train_auc2.head(2)\n",
    "auc4 = train_auc2[columns_to_xgboost_2]\n",
    "auc4.tail(2)"
   ]
  },
  {
   "cell_type": "code",
   "execution_count": 171,
   "metadata": {
    "collapsed": true
   },
   "outputs": [],
   "source": [
    "def alta_demanda(date):\n",
    "    #print(reg.ref_hash)\n",
    "    hs = date.hour\n",
    "    #print(\"horas\"+str(hs))\n",
    "    if (hs >= 20) | (hs == 1| hs == 2):\n",
    "        return 1\n",
    "    return 0"
   ]
  },
  {
   "cell_type": "code",
   "execution_count": 172,
   "metadata": {},
   "outputs": [],
   "source": [
    "auc4['alta_demanda'] = auc4['date'].apply(alta_demanda)"
   ]
  },
  {
   "cell_type": "code",
   "execution_count": 183,
   "metadata": {},
   "outputs": [
    {
     "data": {
      "text/html": [
       "<div>\n",
       "<style scoped>\n",
       "    .dataframe tbody tr th:only-of-type {\n",
       "        vertical-align: middle;\n",
       "    }\n",
       "\n",
       "    .dataframe tbody tr th {\n",
       "        vertical-align: top;\n",
       "    }\n",
       "\n",
       "    .dataframe thead th {\n",
       "        text-align: right;\n",
       "    }\n",
       "</style>\n",
       "<table border=\"1\" class=\"dataframe\">\n",
       "  <thead>\n",
       "    <tr style=\"text-align: right;\">\n",
       "      <th></th>\n",
       "      <th>date</th>\n",
       "      <th>alta_demanda</th>\n",
       "    </tr>\n",
       "  </thead>\n",
       "  <tbody>\n",
       "    <tr>\n",
       "      <th>39374</th>\n",
       "      <td>2019-04-18 20:00:01.804402</td>\n",
       "      <td>1</td>\n",
       "    </tr>\n",
       "    <tr>\n",
       "      <th>2624</th>\n",
       "      <td>2019-04-18 20:00:03.506865</td>\n",
       "      <td>1</td>\n",
       "    </tr>\n",
       "    <tr>\n",
       "      <th>19683</th>\n",
       "      <td>2019-04-18 20:00:04.282598</td>\n",
       "      <td>1</td>\n",
       "    </tr>\n",
       "    <tr>\n",
       "      <th>21792</th>\n",
       "      <td>2019-04-18 20:00:05.363788</td>\n",
       "      <td>1</td>\n",
       "    </tr>\n",
       "    <tr>\n",
       "      <th>12602</th>\n",
       "      <td>2019-04-18 20:00:09.181867</td>\n",
       "      <td>1</td>\n",
       "    </tr>\n",
       "  </tbody>\n",
       "</table>\n",
       "</div>"
      ],
      "text/plain": [
       "                            date  alta_demanda\n",
       "39374 2019-04-18 20:00:01.804402             1\n",
       "2624  2019-04-18 20:00:03.506865             1\n",
       "19683 2019-04-18 20:00:04.282598             1\n",
       "21792 2019-04-18 20:00:05.363788             1\n",
       "12602 2019-04-18 20:00:09.181867             1"
      ]
     },
     "execution_count": 183,
     "metadata": {},
     "output_type": "execute_result"
    }
   ],
   "source": [
    "t = auc4[['date','alta_demanda']][(auc4['alta_demanda'] == 1)]\n",
    "t.sort_values(by='date').head()"
   ]
  },
  {
   "cell_type": "code",
   "execution_count": 195,
   "metadata": {},
   "outputs": [],
   "source": [
    "#Agregamos features\n",
    "columns_to_xgboost_4 = ['ref_hash','source_id'\\\n",
    "                      ,'ref_type','secs_to_next_mean'\\\n",
    "                      ,'date_int','next_date_int','secs_to_next','alta_demanda']"
   ]
  },
  {
   "cell_type": "code",
   "execution_count": 196,
   "metadata": {},
   "outputs": [
    {
     "data": {
      "text/html": [
       "<div>\n",
       "<style scoped>\n",
       "    .dataframe tbody tr th:only-of-type {\n",
       "        vertical-align: middle;\n",
       "    }\n",
       "\n",
       "    .dataframe tbody tr th {\n",
       "        vertical-align: top;\n",
       "    }\n",
       "\n",
       "    .dataframe thead th {\n",
       "        text-align: right;\n",
       "    }\n",
       "</style>\n",
       "<table border=\"1\" class=\"dataframe\">\n",
       "  <thead>\n",
       "    <tr style=\"text-align: right;\">\n",
       "      <th></th>\n",
       "      <th>ref_hash</th>\n",
       "      <th>source_id</th>\n",
       "      <th>ref_type</th>\n",
       "      <th>secs_to_next_mean</th>\n",
       "      <th>date_int</th>\n",
       "      <th>next_date_int</th>\n",
       "      <th>secs_to_next</th>\n",
       "      <th>alta_demanda</th>\n",
       "    </tr>\n",
       "  </thead>\n",
       "  <tbody>\n",
       "    <tr>\n",
       "      <th>0</th>\n",
       "      <td>1666627460470179</td>\n",
       "      <td>1</td>\n",
       "      <td>1</td>\n",
       "      <td>62502.5</td>\n",
       "      <td>1555698415718385</td>\n",
       "      <td>1555698598659713</td>\n",
       "      <td>183.0</td>\n",
       "      <td>0</td>\n",
       "    </tr>\n",
       "    <tr>\n",
       "      <th>1</th>\n",
       "      <td>1666627460470179</td>\n",
       "      <td>1</td>\n",
       "      <td>1</td>\n",
       "      <td>62502.5</td>\n",
       "      <td>1555698598659713</td>\n",
       "      <td>1555823420220516</td>\n",
       "      <td>124822.0</td>\n",
       "      <td>0</td>\n",
       "    </tr>\n",
       "    <tr>\n",
       "      <th>2</th>\n",
       "      <td>2417786714126835</td>\n",
       "      <td>3</td>\n",
       "      <td>1</td>\n",
       "      <td>44029.0</td>\n",
       "      <td>1555584250904867</td>\n",
       "      <td>1555596358145714</td>\n",
       "      <td>12107.0</td>\n",
       "      <td>0</td>\n",
       "    </tr>\n",
       "  </tbody>\n",
       "</table>\n",
       "</div>"
      ],
      "text/plain": [
       "           ref_hash  source_id  ref_type  secs_to_next_mean          date_int  \\\n",
       "0  1666627460470179          1         1            62502.5  1555698415718385   \n",
       "1  1666627460470179          1         1            62502.5  1555698598659713   \n",
       "2  2417786714126835          3         1            44029.0  1555584250904867   \n",
       "\n",
       "      next_date_int  secs_to_next  alta_demanda  \n",
       "0  1555698598659713         183.0             0  \n",
       "1  1555823420220516      124822.0             0  \n",
       "2  1555596358145714       12107.0             0  "
      ]
     },
     "execution_count": 196,
     "metadata": {},
     "output_type": "execute_result"
    }
   ],
   "source": [
    "auc4_train = auc4[columns_to_xgboost_4]\n",
    "auc4_train.head(3)"
   ]
  },
  {
   "cell_type": "code",
   "execution_count": 169,
   "metadata": {},
   "outputs": [
    {
     "name": "stdout",
     "output_type": "stream",
     "text": [
      "horas5\n"
     ]
    },
    {
     "data": {
      "text/plain": [
       "0"
      ]
     },
     "execution_count": 169,
     "metadata": {},
     "output_type": "execute_result"
    }
   ],
   "source": [
    "#2417786714126835\n",
    "alta_demanda(auc4.loc[7,:]['date'])"
   ]
  },
  {
   "cell_type": "code",
   "execution_count": 148,
   "metadata": {},
   "outputs": [
    {
     "name": "stdout",
     "output_type": "stream",
     "text": [
      "1666627460470179\n"
     ]
    },
    {
     "data": {
      "text/plain": [
       "0"
      ]
     },
     "execution_count": 148,
     "metadata": {},
     "output_type": "execute_result"
    }
   ],
   "source": [
    "alta_demanda(auc4.loc[1,:])"
   ]
  },
  {
   "cell_type": "code",
   "execution_count": 188,
   "metadata": {},
   "outputs": [
    {
     "data": {
      "text/html": [
       "<div>\n",
       "<style scoped>\n",
       "    .dataframe tbody tr th:only-of-type {\n",
       "        vertical-align: middle;\n",
       "    }\n",
       "\n",
       "    .dataframe tbody tr th {\n",
       "        vertical-align: top;\n",
       "    }\n",
       "\n",
       "    .dataframe thead th {\n",
       "        text-align: right;\n",
       "    }\n",
       "</style>\n",
       "<table border=\"1\" class=\"dataframe\">\n",
       "  <thead>\n",
       "    <tr style=\"text-align: right;\">\n",
       "      <th></th>\n",
       "      <th>ref_hash</th>\n",
       "      <th>source_id</th>\n",
       "      <th>ref_type</th>\n",
       "      <th>secs_to_next_mean</th>\n",
       "      <th>date_int</th>\n",
       "      <th>next_date_int</th>\n",
       "      <th>date</th>\n",
       "      <th>secs_to_next</th>\n",
       "      <th>hs_to_next</th>\n",
       "      <th>alta_demanda</th>\n",
       "    </tr>\n",
       "  </thead>\n",
       "  <tbody>\n",
       "    <tr>\n",
       "      <th>0</th>\n",
       "      <td>1666627460470179</td>\n",
       "      <td>1</td>\n",
       "      <td>1</td>\n",
       "      <td>62502.5</td>\n",
       "      <td>1555698415718385</td>\n",
       "      <td>1555698598659713</td>\n",
       "      <td>2019-04-19 18:26:55.718385</td>\n",
       "      <td>183.0</td>\n",
       "      <td>0.050833</td>\n",
       "      <td>0</td>\n",
       "    </tr>\n",
       "    <tr>\n",
       "      <th>1</th>\n",
       "      <td>1666627460470179</td>\n",
       "      <td>1</td>\n",
       "      <td>1</td>\n",
       "      <td>62502.5</td>\n",
       "      <td>1555698598659713</td>\n",
       "      <td>1555823420220516</td>\n",
       "      <td>2019-04-19 18:29:58.659713</td>\n",
       "      <td>124822.0</td>\n",
       "      <td>34.672778</td>\n",
       "      <td>0</td>\n",
       "    </tr>\n",
       "  </tbody>\n",
       "</table>\n",
       "</div>"
      ],
      "text/plain": [
       "           ref_hash  source_id  ref_type  secs_to_next_mean          date_int  \\\n",
       "0  1666627460470179          1         1            62502.5  1555698415718385   \n",
       "1  1666627460470179          1         1            62502.5  1555698598659713   \n",
       "\n",
       "      next_date_int                       date  secs_to_next  hs_to_next  \\\n",
       "0  1555698598659713 2019-04-19 18:26:55.718385         183.0    0.050833   \n",
       "1  1555823420220516 2019-04-19 18:29:58.659713      124822.0   34.672778   \n",
       "\n",
       "   alta_demanda  \n",
       "0             0  \n",
       "1             0  "
      ]
     },
     "execution_count": 188,
     "metadata": {},
     "output_type": "execute_result"
    }
   ],
   "source": [
    "auc4_train.head(2)"
   ]
  },
  {
   "cell_type": "code",
   "execution_count": 197,
   "metadata": {},
   "outputs": [
    {
     "data": {
      "text/plain": [
       "((42705, 7), (18303, 7), (42705, 1), (18303, 1))"
      ]
     },
     "execution_count": 197,
     "metadata": {},
     "output_type": "execute_result"
    }
   ],
   "source": [
    "#Separo X e Y\n",
    "X4 = auc4_train.loc[:,auc4_train.columns != 'secs_to_next']\n",
    "y4 = auc4_train.loc[:,auc4_train.columns == 'secs_to_next']\n",
    "X_train4,X_test4,y_train4,y_test4 = train_test_split(X4,y4,test_size=0.3,random_state=1)\n",
    "X_train4.shape ,X_test4.shape ,y_train4.shape ,y_test4.shape"
   ]
  },
  {
   "cell_type": "code",
   "execution_count": 198,
   "metadata": {},
   "outputs": [
    {
     "data": {
      "text/plain": [
       "XGBRegressor(alpha=20, base_score=0.5, booster='gbtree', colsample_bylevel=1,\n",
       "       colsample_bynode=1, colsample_bytree=0.95, gamma=0,\n",
       "       importance_type='gain', learning_rate=0.42, max_delta_step=0,\n",
       "       max_depth=6, min_child_weight=1, missing=None, n_estimators=300,\n",
       "       n_jobs=1, nthread=None, objective='reg:linear', random_state=0,\n",
       "       reg_alpha=0, reg_lambda=1, scale_pos_weight=1, seed=None,\n",
       "       silent=None, subsample=1, verbosity=1)"
      ]
     },
     "execution_count": 198,
     "metadata": {},
     "output_type": "execute_result"
    }
   ],
   "source": [
    "xg_reg"
   ]
  },
  {
   "cell_type": "code",
   "execution_count": 199,
   "metadata": {},
   "outputs": [
    {
     "name": "stdout",
     "output_type": "stream",
     "text": [
      "[23:10:58] WARNING: src/objective/regression_obj.cu:144: reg:linear is now deprecated in favor of reg:squarederror.\n"
     ]
    }
   ],
   "source": [
    "xg_reg.fit(X_train4,y_train4)\n",
    "preds4 = xg_reg.predict(X_test4)\n",
    "mse = mean_squared_error(y_test4, preds4)\n"
   ]
  },
  {
   "cell_type": "code",
   "execution_count": 200,
   "metadata": {},
   "outputs": [
    {
     "name": "stdout",
     "output_type": "stream",
     "text": [
      "mean_squared_error\n",
      "3483895016.745909\n",
      "mean_squared_error NICO\n",
      "3400688504.3380723\n",
      "       source_id  ref_type  secs_to_next_mean\n",
      "31030          3         1            80053.0\n"
     ]
    },
    {
     "data": {
      "text/plain": [
       "array([0.00093625, 0.00074826, 0.00070856, 0.13675292, 0.16196215,\n",
       "       0.6344166 , 0.06447531], dtype=float32)"
      ]
     },
     "execution_count": 200,
     "metadata": {},
     "output_type": "execute_result"
    }
   ],
   "source": [
    "mse = mean_squared_error(y_test, preds)\n",
    "print(\"mean_squared_error\")\n",
    "print(str(mse))\n",
    "\n",
    "print(\"mean_squared_error NICO\")\n",
    "print(\"3400688504.3380723\")\n",
    "print(X_test.head(1))\n",
    "xg_reg.feature_importances_"
   ]
  },
  {
   "cell_type": "code",
   "execution_count": 202,
   "metadata": {},
   "outputs": [
    {
     "name": "stdout",
     "output_type": "stream",
     "text": [
      "mean_squared_error\n",
      "12257367.756658535\n",
      "mean_squared_error NICO\n",
      "3400688504.3380723\n",
      "                  ref_hash  source_id  ref_type  secs_to_next_mean  \\\n",
      "31030  5373572805145747380          3         1            80053.0   \n",
      "\n",
      "               date_int     next_date_int  alta_demanda  \n",
      "31030  1555640719316765  1555805439843987             0  \n"
     ]
    },
    {
     "data": {
      "text/plain": [
       "array([0.00093625, 0.00074826, 0.00070856, 0.13675292, 0.16196215,\n",
       "       0.6344166 , 0.06447531], dtype=float32)"
      ]
     },
     "execution_count": 202,
     "metadata": {},
     "output_type": "execute_result"
    }
   ],
   "source": [
    "mse = mean_squared_error(y_test4, preds4)\n",
    "print(\"mean_squared_error\")\n",
    "print(str(mse))\n",
    "\n",
    "print(\"mean_squared_error NICO\")\n",
    "print(\"3400688504.3380723\")\n",
    "print(X_test4.head(1))\n",
    "xg_reg.feature_importances_"
   ]
  },
  {
   "cell_type": "markdown",
   "metadata": {},
   "source": [
    "### Armo un feature en base a el horario en el que se realiza la subasta\n",
    "Como los picos de subasta se realizan entre 1 ~ 2 entonces ponemos más peso a esos casos\n",
    "Ej.: [1,2] = 0.75 ; [20,0] = 0.5 ; [3,20] = 0.25\n"
   ]
  },
  {
   "cell_type": "code",
   "execution_count": 204,
   "metadata": {},
   "outputs": [
    {
     "data": {
      "text/html": [
       "<div>\n",
       "<style scoped>\n",
       "    .dataframe tbody tr th:only-of-type {\n",
       "        vertical-align: middle;\n",
       "    }\n",
       "\n",
       "    .dataframe tbody tr th {\n",
       "        vertical-align: top;\n",
       "    }\n",
       "\n",
       "    .dataframe thead th {\n",
       "        text-align: right;\n",
       "    }\n",
       "</style>\n",
       "<table border=\"1\" class=\"dataframe\">\n",
       "  <thead>\n",
       "    <tr style=\"text-align: right;\">\n",
       "      <th></th>\n",
       "      <th>ref_hash</th>\n",
       "      <th>source_id</th>\n",
       "      <th>ref_type</th>\n",
       "      <th>secs_to_next_mean</th>\n",
       "      <th>date_int</th>\n",
       "      <th>next_date_int</th>\n",
       "      <th>date</th>\n",
       "      <th>secs_to_next</th>\n",
       "      <th>hs_to_next</th>\n",
       "      <th>alta_demanda</th>\n",
       "    </tr>\n",
       "  </thead>\n",
       "  <tbody>\n",
       "    <tr>\n",
       "      <th>0</th>\n",
       "      <td>1666627460470179</td>\n",
       "      <td>1</td>\n",
       "      <td>1</td>\n",
       "      <td>62502.5</td>\n",
       "      <td>1555698415718385</td>\n",
       "      <td>1555698598659713</td>\n",
       "      <td>2019-04-19 18:26:55.718385</td>\n",
       "      <td>183.0</td>\n",
       "      <td>0.050833</td>\n",
       "      <td>0</td>\n",
       "    </tr>\n",
       "    <tr>\n",
       "      <th>1</th>\n",
       "      <td>1666627460470179</td>\n",
       "      <td>1</td>\n",
       "      <td>1</td>\n",
       "      <td>62502.5</td>\n",
       "      <td>1555698598659713</td>\n",
       "      <td>1555823420220516</td>\n",
       "      <td>2019-04-19 18:29:58.659713</td>\n",
       "      <td>124822.0</td>\n",
       "      <td>34.672778</td>\n",
       "      <td>0</td>\n",
       "    </tr>\n",
       "  </tbody>\n",
       "</table>\n",
       "</div>"
      ],
      "text/plain": [
       "           ref_hash  source_id  ref_type  secs_to_next_mean          date_int  \\\n",
       "0  1666627460470179          1         1            62502.5  1555698415718385   \n",
       "1  1666627460470179          1         1            62502.5  1555698598659713   \n",
       "\n",
       "      next_date_int                       date  secs_to_next  hs_to_next  \\\n",
       "0  1555698598659713 2019-04-19 18:26:55.718385         183.0    0.050833   \n",
       "1  1555823420220516 2019-04-19 18:29:58.659713      124822.0   34.672778   \n",
       "\n",
       "   alta_demanda  \n",
       "0             0  \n",
       "1             0  "
      ]
     },
     "execution_count": 204,
     "metadata": {},
     "output_type": "execute_result"
    }
   ],
   "source": [
    "auc4.head(2)"
   ]
  },
  {
   "cell_type": "code",
   "execution_count": 224,
   "metadata": {},
   "outputs": [],
   "source": [
    "def pico_demanda(date):\n",
    "    hs = date.hour\n",
    "    if (hs == 1) | (hs == 2):\n",
    "        return 0.75\n",
    "    else:\n",
    "        if (hs >= 3) & (hs < 20):\n",
    "            return 0.25\n",
    "    return 0.5\n"
   ]
  },
  {
   "cell_type": "code",
   "execution_count": 225,
   "metadata": {},
   "outputs": [],
   "source": [
    "auc4['pico_demanda'] = auc4['date'].apply(pico_demanda)"
   ]
  },
  {
   "cell_type": "code",
   "execution_count": 232,
   "metadata": {},
   "outputs": [],
   "source": [
    "#Agregamos features\n",
    "columns_to_xgboost_4 = ['ref_hash','source_id'\\\n",
    "                      ,'ref_type','secs_to_next_mean'\\\n",
    "                      ,'date_int','next_date_int','secs_to_next','alta_demanda','pico_demanda']\n",
    "auc4_train = auc4[columns_to_xgboost_4]"
   ]
  },
  {
   "cell_type": "code",
   "execution_count": 233,
   "metadata": {},
   "outputs": [
    {
     "data": {
      "text/html": [
       "<div>\n",
       "<style scoped>\n",
       "    .dataframe tbody tr th:only-of-type {\n",
       "        vertical-align: middle;\n",
       "    }\n",
       "\n",
       "    .dataframe tbody tr th {\n",
       "        vertical-align: top;\n",
       "    }\n",
       "\n",
       "    .dataframe thead th {\n",
       "        text-align: right;\n",
       "    }\n",
       "</style>\n",
       "<table border=\"1\" class=\"dataframe\">\n",
       "  <thead>\n",
       "    <tr style=\"text-align: right;\">\n",
       "      <th></th>\n",
       "      <th>ref_hash</th>\n",
       "      <th>source_id</th>\n",
       "      <th>ref_type</th>\n",
       "      <th>secs_to_next_mean</th>\n",
       "      <th>date_int</th>\n",
       "      <th>next_date_int</th>\n",
       "      <th>secs_to_next</th>\n",
       "      <th>alta_demanda</th>\n",
       "      <th>pico_demanda</th>\n",
       "    </tr>\n",
       "  </thead>\n",
       "  <tbody>\n",
       "    <tr>\n",
       "      <th>0</th>\n",
       "      <td>1666627460470179</td>\n",
       "      <td>1</td>\n",
       "      <td>1</td>\n",
       "      <td>62502.5</td>\n",
       "      <td>1555698415718385</td>\n",
       "      <td>1555698598659713</td>\n",
       "      <td>183.0</td>\n",
       "      <td>0</td>\n",
       "      <td>0.25</td>\n",
       "    </tr>\n",
       "  </tbody>\n",
       "</table>\n",
       "</div>"
      ],
      "text/plain": [
       "           ref_hash  source_id  ref_type  secs_to_next_mean          date_int  \\\n",
       "0  1666627460470179          1         1            62502.5  1555698415718385   \n",
       "\n",
       "      next_date_int  secs_to_next  alta_demanda  pico_demanda  \n",
       "0  1555698598659713         183.0             0          0.25  "
      ]
     },
     "execution_count": 233,
     "metadata": {},
     "output_type": "execute_result"
    }
   ],
   "source": [
    "auc4_train.head(1)"
   ]
  },
  {
   "cell_type": "code",
   "execution_count": 234,
   "metadata": {},
   "outputs": [
    {
     "data": {
      "text/plain": [
       "((42705, 8), (18303, 8), (42705, 1), (18303, 1))"
      ]
     },
     "execution_count": 234,
     "metadata": {},
     "output_type": "execute_result"
    }
   ],
   "source": [
    "#Separo X e Y\n",
    "X4 = auc4_train.loc[:,auc4_train.columns != 'secs_to_next']\n",
    "y4 = auc4_train.loc[:,auc4_train.columns == 'secs_to_next']\n",
    "X_train4,X_test4,y_train4,y_test4 = train_test_split(X4,y4,test_size=0.3,random_state=1)\n",
    "X_train4.shape ,X_test4.shape ,y_train4.shape ,y_test4.shape"
   ]
  },
  {
   "cell_type": "code",
   "execution_count": 236,
   "metadata": {},
   "outputs": [
    {
     "name": "stdout",
     "output_type": "stream",
     "text": [
      "[23:29:38] WARNING: src/objective/regression_obj.cu:144: reg:linear is now deprecated in favor of reg:squarederror.\n"
     ]
    }
   ],
   "source": [
    "xg_reg.fit(X_train4,y_train4)\n",
    "preds4 = xg_reg.predict(X_test4)\n",
    "mse = mean_squared_error(y_test4, preds4)"
   ]
  },
  {
   "cell_type": "code",
   "execution_count": 237,
   "metadata": {},
   "outputs": [
    {
     "name": "stdout",
     "output_type": "stream",
     "text": [
      "mean_squared_error\n",
      "10338789.460596887\n",
      "mean_squared_error NICO\n",
      "3400688504.3380723\n",
      "                  ref_hash  source_id  ref_type  secs_to_next_mean  \\\n",
      "31030  5373572805145747380          3         1            80053.0   \n",
      "\n",
      "               date_int     next_date_int  alta_demanda  pico_demanda  \n",
      "31030  1555640719316765  1555805439843987             0          0.75  \n"
     ]
    },
    {
     "data": {
      "text/plain": [
       "array([7.4479845e-04, 5.0882361e-04, 5.5570691e-04, 1.3877456e-01,\n",
       "       1.9706117e-01, 6.5669340e-01, 4.2920336e-03, 1.3693740e-03],\n",
       "      dtype=float32)"
      ]
     },
     "execution_count": 237,
     "metadata": {},
     "output_type": "execute_result"
    }
   ],
   "source": [
    "mse = mean_squared_error(y_test4, preds4)\n",
    "print(\"mean_squared_error\")\n",
    "print(str(mse))\n",
    "\n",
    "print(\"mean_squared_error NICO\")\n",
    "print(\"3400688504.3380723\")\n",
    "print(X_test4.head(1))\n",
    "xg_reg.feature_importances_"
   ]
  },
  {
   "cell_type": "markdown",
   "metadata": {},
   "source": [
    "### Armo un feature en base a el dia de la semana\n",
    "Los picos de eventos se producen los días martes y miércoles\n",
    "Entonces si el día de aparición se produce un día martes o miércoles => 1 sino 0\n"
   ]
  },
  {
   "cell_type": "code",
   "execution_count": 257,
   "metadata": {
    "collapsed": true
   },
   "outputs": [],
   "source": [
    "def ponderacion_dia(date):\n",
    "    #print(date)\n",
    "    day = date.day_name()\n",
    "    if (day == 'Tuesday') | (day == 'Wednesday'):\n",
    "        return 1\n",
    "    return 0"
   ]
  },
  {
   "cell_type": "code",
   "execution_count": 264,
   "metadata": {},
   "outputs": [],
   "source": [
    "#for i in range(1,3):\n",
    " #   print(i)\n",
    "    #ponderacion_dia(auc4.loc[i,:]['date'])"
   ]
  },
  {
   "cell_type": "code",
   "execution_count": 261,
   "metadata": {},
   "outputs": [
    {
     "data": {
      "text/html": [
       "<div>\n",
       "<style scoped>\n",
       "    .dataframe tbody tr th:only-of-type {\n",
       "        vertical-align: middle;\n",
       "    }\n",
       "\n",
       "    .dataframe tbody tr th {\n",
       "        vertical-align: top;\n",
       "    }\n",
       "\n",
       "    .dataframe thead th {\n",
       "        text-align: right;\n",
       "    }\n",
       "</style>\n",
       "<table border=\"1\" class=\"dataframe\">\n",
       "  <thead>\n",
       "    <tr style=\"text-align: right;\">\n",
       "      <th></th>\n",
       "      <th>ref_hash</th>\n",
       "      <th>source_id</th>\n",
       "      <th>ref_type</th>\n",
       "      <th>secs_to_next_mean</th>\n",
       "      <th>date_int</th>\n",
       "      <th>next_date_int</th>\n",
       "      <th>date</th>\n",
       "      <th>secs_to_next</th>\n",
       "      <th>hs_to_next</th>\n",
       "      <th>alta_demanda</th>\n",
       "      <th>pico_demanda</th>\n",
       "      <th>pond_dia</th>\n",
       "    </tr>\n",
       "  </thead>\n",
       "  <tbody>\n",
       "    <tr>\n",
       "      <th>0</th>\n",
       "      <td>1666627460470179</td>\n",
       "      <td>1</td>\n",
       "      <td>1</td>\n",
       "      <td>62502.5</td>\n",
       "      <td>1555698415718385</td>\n",
       "      <td>1555698598659713</td>\n",
       "      <td>2019-04-19 18:26:55.718385</td>\n",
       "      <td>183.0</td>\n",
       "      <td>0.050833</td>\n",
       "      <td>0</td>\n",
       "      <td>0.25</td>\n",
       "      <td>0</td>\n",
       "    </tr>\n",
       "    <tr>\n",
       "      <th>1</th>\n",
       "      <td>1666627460470179</td>\n",
       "      <td>1</td>\n",
       "      <td>1</td>\n",
       "      <td>62502.5</td>\n",
       "      <td>1555698598659713</td>\n",
       "      <td>1555823420220516</td>\n",
       "      <td>2019-04-19 18:29:58.659713</td>\n",
       "      <td>124822.0</td>\n",
       "      <td>34.672778</td>\n",
       "      <td>0</td>\n",
       "      <td>0.25</td>\n",
       "      <td>0</td>\n",
       "    </tr>\n",
       "    <tr>\n",
       "      <th>2</th>\n",
       "      <td>2417786714126835</td>\n",
       "      <td>3</td>\n",
       "      <td>1</td>\n",
       "      <td>44029.0</td>\n",
       "      <td>1555584250904867</td>\n",
       "      <td>1555596358145714</td>\n",
       "      <td>2019-04-18 10:44:10.904867</td>\n",
       "      <td>12107.0</td>\n",
       "      <td>3.363056</td>\n",
       "      <td>0</td>\n",
       "      <td>0.25</td>\n",
       "      <td>0</td>\n",
       "    </tr>\n",
       "  </tbody>\n",
       "</table>\n",
       "</div>"
      ],
      "text/plain": [
       "           ref_hash  source_id  ref_type  secs_to_next_mean          date_int  \\\n",
       "0  1666627460470179          1         1            62502.5  1555698415718385   \n",
       "1  1666627460470179          1         1            62502.5  1555698598659713   \n",
       "2  2417786714126835          3         1            44029.0  1555584250904867   \n",
       "\n",
       "      next_date_int                       date  secs_to_next  hs_to_next  \\\n",
       "0  1555698598659713 2019-04-19 18:26:55.718385         183.0    0.050833   \n",
       "1  1555823420220516 2019-04-19 18:29:58.659713      124822.0   34.672778   \n",
       "2  1555596358145714 2019-04-18 10:44:10.904867       12107.0    3.363056   \n",
       "\n",
       "   alta_demanda  pico_demanda  pond_dia  \n",
       "0             0          0.25         0  \n",
       "1             0          0.25         0  \n",
       "2             0          0.25         0  "
      ]
     },
     "execution_count": 261,
     "metadata": {},
     "output_type": "execute_result"
    }
   ],
   "source": [
    "auc4['pond_dia'] = auc4['date'].apply(ponderacion_dia)\n",
    "auc4.head(3)"
   ]
  },
  {
   "cell_type": "markdown",
   "metadata": {},
   "source": [
    "### Afino el feature en base a el horario en el que se realiza la subasta\n",
    "Separa en rangos de horarios ponderando cuando se produjo la subasta\n",
    "Ej.: [1,2] = 0.90 ; [20,0] u 3 = 0.70 ; [11,20] u 4 = 0.5 ;[5,10] = 0.20"
   ]
  },
  {
   "cell_type": "code",
   "execution_count": 268,
   "metadata": {
    "collapsed": true
   },
   "outputs": [],
   "source": [
    "def pond_hora_ext(date):\n",
    "    hs = date.hour\n",
    "    r0 = range(20,24)\n",
    "    r1 = range(11,20)\n",
    "    r2 = range(5,11)\n",
    "    if(hs in r2):\n",
    "        return 0.2\n",
    "    else:\n",
    "        if(hs == 0) | (hs == 3)| (hs in r0):\n",
    "            return 0.7\n",
    "        else:\n",
    "            if(hs == 4) | (hs in r1):\n",
    "                return 0.5\n",
    "    return 0.9"
   ]
  },
  {
   "cell_type": "code",
   "execution_count": 269,
   "metadata": {},
   "outputs": [],
   "source": [
    "auc4['pond_hora_ext'] = auc4['date'].apply(pond_hora_ext)"
   ]
  },
  {
   "cell_type": "code",
   "execution_count": 270,
   "metadata": {},
   "outputs": [
    {
     "data": {
      "text/html": [
       "<div>\n",
       "<style scoped>\n",
       "    .dataframe tbody tr th:only-of-type {\n",
       "        vertical-align: middle;\n",
       "    }\n",
       "\n",
       "    .dataframe tbody tr th {\n",
       "        vertical-align: top;\n",
       "    }\n",
       "\n",
       "    .dataframe thead th {\n",
       "        text-align: right;\n",
       "    }\n",
       "</style>\n",
       "<table border=\"1\" class=\"dataframe\">\n",
       "  <thead>\n",
       "    <tr style=\"text-align: right;\">\n",
       "      <th></th>\n",
       "      <th>date</th>\n",
       "      <th>pond_hora_ext</th>\n",
       "    </tr>\n",
       "  </thead>\n",
       "  <tbody>\n",
       "    <tr>\n",
       "      <th>0</th>\n",
       "      <td>2019-04-19 18:26:55.718385</td>\n",
       "      <td>0.5</td>\n",
       "    </tr>\n",
       "    <tr>\n",
       "      <th>1</th>\n",
       "      <td>2019-04-19 18:29:58.659713</td>\n",
       "      <td>0.5</td>\n",
       "    </tr>\n",
       "    <tr>\n",
       "      <th>2</th>\n",
       "      <td>2019-04-18 10:44:10.904867</td>\n",
       "      <td>0.2</td>\n",
       "    </tr>\n",
       "    <tr>\n",
       "      <th>3</th>\n",
       "      <td>2019-04-18 14:05:58.145714</td>\n",
       "      <td>0.5</td>\n",
       "    </tr>\n",
       "    <tr>\n",
       "      <th>4</th>\n",
       "      <td>2019-04-18 19:36:23.325793</td>\n",
       "      <td>0.5</td>\n",
       "    </tr>\n",
       "    <tr>\n",
       "      <th>5</th>\n",
       "      <td>2019-04-19 06:28:35.369393</td>\n",
       "      <td>0.2</td>\n",
       "    </tr>\n",
       "    <tr>\n",
       "      <th>6</th>\n",
       "      <td>2019-04-19 23:10:05.199846</td>\n",
       "      <td>0.7</td>\n",
       "    </tr>\n",
       "    <tr>\n",
       "      <th>7</th>\n",
       "      <td>2019-04-20 05:12:44.952333</td>\n",
       "      <td>0.2</td>\n",
       "    </tr>\n",
       "    <tr>\n",
       "      <th>8</th>\n",
       "      <td>2019-04-20 22:30:00.803623</td>\n",
       "      <td>0.7</td>\n",
       "    </tr>\n",
       "    <tr>\n",
       "      <th>9</th>\n",
       "      <td>2019-04-18 00:32:23.647778</td>\n",
       "      <td>0.7</td>\n",
       "    </tr>\n",
       "    <tr>\n",
       "      <th>10</th>\n",
       "      <td>2019-04-18 00:44:08.338530</td>\n",
       "      <td>0.7</td>\n",
       "    </tr>\n",
       "    <tr>\n",
       "      <th>11</th>\n",
       "      <td>2019-04-18 14:26:15.975999</td>\n",
       "      <td>0.5</td>\n",
       "    </tr>\n",
       "    <tr>\n",
       "      <th>12</th>\n",
       "      <td>2019-04-19 04:44:44.742957</td>\n",
       "      <td>0.5</td>\n",
       "    </tr>\n",
       "    <tr>\n",
       "      <th>13</th>\n",
       "      <td>2019-04-19 16:36:38.389783</td>\n",
       "      <td>0.5</td>\n",
       "    </tr>\n",
       "    <tr>\n",
       "      <th>14</th>\n",
       "      <td>2019-04-20 14:09:25.628917</td>\n",
       "      <td>0.5</td>\n",
       "    </tr>\n",
       "    <tr>\n",
       "      <th>15</th>\n",
       "      <td>2019-04-19 06:49:49.154224</td>\n",
       "      <td>0.2</td>\n",
       "    </tr>\n",
       "    <tr>\n",
       "      <th>16</th>\n",
       "      <td>2019-04-19 10:29:42.540925</td>\n",
       "      <td>0.2</td>\n",
       "    </tr>\n",
       "    <tr>\n",
       "      <th>17</th>\n",
       "      <td>2019-04-19 17:31:10.607601</td>\n",
       "      <td>0.5</td>\n",
       "    </tr>\n",
       "    <tr>\n",
       "      <th>18</th>\n",
       "      <td>2019-04-20 00:49:59.002457</td>\n",
       "      <td>0.7</td>\n",
       "    </tr>\n",
       "    <tr>\n",
       "      <th>19</th>\n",
       "      <td>2019-04-20 10:47:39.864475</td>\n",
       "      <td>0.2</td>\n",
       "    </tr>\n",
       "    <tr>\n",
       "      <th>20</th>\n",
       "      <td>2019-04-18 01:57:16.739163</td>\n",
       "      <td>0.9</td>\n",
       "    </tr>\n",
       "    <tr>\n",
       "      <th>21</th>\n",
       "      <td>2019-04-18 02:58:47.813960</td>\n",
       "      <td>0.9</td>\n",
       "    </tr>\n",
       "    <tr>\n",
       "      <th>22</th>\n",
       "      <td>2019-04-18 20:55:57.479156</td>\n",
       "      <td>0.7</td>\n",
       "    </tr>\n",
       "    <tr>\n",
       "      <th>23</th>\n",
       "      <td>2019-04-19 14:34:57.765272</td>\n",
       "      <td>0.5</td>\n",
       "    </tr>\n",
       "    <tr>\n",
       "      <th>24</th>\n",
       "      <td>2019-04-19 17:57:28.311526</td>\n",
       "      <td>0.5</td>\n",
       "    </tr>\n",
       "    <tr>\n",
       "      <th>25</th>\n",
       "      <td>2019-04-19 20:27:38.829647</td>\n",
       "      <td>0.7</td>\n",
       "    </tr>\n",
       "    <tr>\n",
       "      <th>26</th>\n",
       "      <td>2019-04-18 05:17:30.214822</td>\n",
       "      <td>0.2</td>\n",
       "    </tr>\n",
       "    <tr>\n",
       "      <th>27</th>\n",
       "      <td>2019-04-19 00:09:53.729599</td>\n",
       "      <td>0.7</td>\n",
       "    </tr>\n",
       "    <tr>\n",
       "      <th>28</th>\n",
       "      <td>2019-04-19 00:18:08.144290</td>\n",
       "      <td>0.7</td>\n",
       "    </tr>\n",
       "    <tr>\n",
       "      <th>29</th>\n",
       "      <td>2019-04-19 02:06:50.942431</td>\n",
       "      <td>0.9</td>\n",
       "    </tr>\n",
       "    <tr>\n",
       "      <th>...</th>\n",
       "      <td>...</td>\n",
       "      <td>...</td>\n",
       "    </tr>\n",
       "    <tr>\n",
       "      <th>60978</th>\n",
       "      <td>2019-04-20 02:38:13.901299</td>\n",
       "      <td>0.9</td>\n",
       "    </tr>\n",
       "    <tr>\n",
       "      <th>60979</th>\n",
       "      <td>2019-04-20 16:49:58.319000</td>\n",
       "      <td>0.5</td>\n",
       "    </tr>\n",
       "    <tr>\n",
       "      <th>60980</th>\n",
       "      <td>2019-04-20 22:20:05.806429</td>\n",
       "      <td>0.7</td>\n",
       "    </tr>\n",
       "    <tr>\n",
       "      <th>60981</th>\n",
       "      <td>2019-04-18 03:04:54.584470</td>\n",
       "      <td>0.7</td>\n",
       "    </tr>\n",
       "    <tr>\n",
       "      <th>60982</th>\n",
       "      <td>2019-04-18 03:22:53.102665</td>\n",
       "      <td>0.7</td>\n",
       "    </tr>\n",
       "    <tr>\n",
       "      <th>60983</th>\n",
       "      <td>2019-04-18 03:29:37.744040</td>\n",
       "      <td>0.7</td>\n",
       "    </tr>\n",
       "    <tr>\n",
       "      <th>60984</th>\n",
       "      <td>2019-04-18 05:55:06.986802</td>\n",
       "      <td>0.2</td>\n",
       "    </tr>\n",
       "    <tr>\n",
       "      <th>60985</th>\n",
       "      <td>2019-04-18 14:48:57.635029</td>\n",
       "      <td>0.5</td>\n",
       "    </tr>\n",
       "    <tr>\n",
       "      <th>60986</th>\n",
       "      <td>2019-04-18 22:18:44.335081</td>\n",
       "      <td>0.7</td>\n",
       "    </tr>\n",
       "    <tr>\n",
       "      <th>60987</th>\n",
       "      <td>2019-04-18 22:48:07.476911</td>\n",
       "      <td>0.7</td>\n",
       "    </tr>\n",
       "    <tr>\n",
       "      <th>60988</th>\n",
       "      <td>2019-04-18 22:52:54.879676</td>\n",
       "      <td>0.7</td>\n",
       "    </tr>\n",
       "    <tr>\n",
       "      <th>60989</th>\n",
       "      <td>2019-04-18 23:49:26.184266</td>\n",
       "      <td>0.7</td>\n",
       "    </tr>\n",
       "    <tr>\n",
       "      <th>60990</th>\n",
       "      <td>2019-04-19 02:28:51.072121</td>\n",
       "      <td>0.9</td>\n",
       "    </tr>\n",
       "    <tr>\n",
       "      <th>60991</th>\n",
       "      <td>2019-04-19 04:30:44.273305</td>\n",
       "      <td>0.5</td>\n",
       "    </tr>\n",
       "    <tr>\n",
       "      <th>60992</th>\n",
       "      <td>2019-04-19 04:35:18.330587</td>\n",
       "      <td>0.5</td>\n",
       "    </tr>\n",
       "    <tr>\n",
       "      <th>60993</th>\n",
       "      <td>2019-04-19 04:38:28.848881</td>\n",
       "      <td>0.5</td>\n",
       "    </tr>\n",
       "    <tr>\n",
       "      <th>60994</th>\n",
       "      <td>2019-04-19 04:39:51.988965</td>\n",
       "      <td>0.5</td>\n",
       "    </tr>\n",
       "    <tr>\n",
       "      <th>60995</th>\n",
       "      <td>2019-04-19 04:47:01.528216</td>\n",
       "      <td>0.5</td>\n",
       "    </tr>\n",
       "    <tr>\n",
       "      <th>60996</th>\n",
       "      <td>2019-04-19 05:53:26.206150</td>\n",
       "      <td>0.2</td>\n",
       "    </tr>\n",
       "    <tr>\n",
       "      <th>60997</th>\n",
       "      <td>2019-04-19 18:10:40.319611</td>\n",
       "      <td>0.5</td>\n",
       "    </tr>\n",
       "    <tr>\n",
       "      <th>60998</th>\n",
       "      <td>2019-04-19 18:24:47.904601</td>\n",
       "      <td>0.5</td>\n",
       "    </tr>\n",
       "    <tr>\n",
       "      <th>60999</th>\n",
       "      <td>2019-04-19 21:51:14.452861</td>\n",
       "      <td>0.7</td>\n",
       "    </tr>\n",
       "    <tr>\n",
       "      <th>61000</th>\n",
       "      <td>2019-04-19 21:51:17.145687</td>\n",
       "      <td>0.7</td>\n",
       "    </tr>\n",
       "    <tr>\n",
       "      <th>61001</th>\n",
       "      <td>2019-04-20 02:10:44.531932</td>\n",
       "      <td>0.9</td>\n",
       "    </tr>\n",
       "    <tr>\n",
       "      <th>61002</th>\n",
       "      <td>2019-04-20 03:43:30.730308</td>\n",
       "      <td>0.7</td>\n",
       "    </tr>\n",
       "    <tr>\n",
       "      <th>61003</th>\n",
       "      <td>2019-04-20 03:44:51.501304</td>\n",
       "      <td>0.7</td>\n",
       "    </tr>\n",
       "    <tr>\n",
       "      <th>61004</th>\n",
       "      <td>2019-04-20 04:24:46.796022</td>\n",
       "      <td>0.5</td>\n",
       "    </tr>\n",
       "    <tr>\n",
       "      <th>61005</th>\n",
       "      <td>2019-04-20 04:38:11.516258</td>\n",
       "      <td>0.5</td>\n",
       "    </tr>\n",
       "    <tr>\n",
       "      <th>61006</th>\n",
       "      <td>2019-04-20 16:55:34.364999</td>\n",
       "      <td>0.5</td>\n",
       "    </tr>\n",
       "    <tr>\n",
       "      <th>61007</th>\n",
       "      <td>2019-04-20 17:32:59.555232</td>\n",
       "      <td>0.5</td>\n",
       "    </tr>\n",
       "  </tbody>\n",
       "</table>\n",
       "<p>61008 rows × 2 columns</p>\n",
       "</div>"
      ],
      "text/plain": [
       "                            date  pond_hora_ext\n",
       "0     2019-04-19 18:26:55.718385            0.5\n",
       "1     2019-04-19 18:29:58.659713            0.5\n",
       "2     2019-04-18 10:44:10.904867            0.2\n",
       "3     2019-04-18 14:05:58.145714            0.5\n",
       "4     2019-04-18 19:36:23.325793            0.5\n",
       "5     2019-04-19 06:28:35.369393            0.2\n",
       "6     2019-04-19 23:10:05.199846            0.7\n",
       "7     2019-04-20 05:12:44.952333            0.2\n",
       "8     2019-04-20 22:30:00.803623            0.7\n",
       "9     2019-04-18 00:32:23.647778            0.7\n",
       "10    2019-04-18 00:44:08.338530            0.7\n",
       "11    2019-04-18 14:26:15.975999            0.5\n",
       "12    2019-04-19 04:44:44.742957            0.5\n",
       "13    2019-04-19 16:36:38.389783            0.5\n",
       "14    2019-04-20 14:09:25.628917            0.5\n",
       "15    2019-04-19 06:49:49.154224            0.2\n",
       "16    2019-04-19 10:29:42.540925            0.2\n",
       "17    2019-04-19 17:31:10.607601            0.5\n",
       "18    2019-04-20 00:49:59.002457            0.7\n",
       "19    2019-04-20 10:47:39.864475            0.2\n",
       "20    2019-04-18 01:57:16.739163            0.9\n",
       "21    2019-04-18 02:58:47.813960            0.9\n",
       "22    2019-04-18 20:55:57.479156            0.7\n",
       "23    2019-04-19 14:34:57.765272            0.5\n",
       "24    2019-04-19 17:57:28.311526            0.5\n",
       "25    2019-04-19 20:27:38.829647            0.7\n",
       "26    2019-04-18 05:17:30.214822            0.2\n",
       "27    2019-04-19 00:09:53.729599            0.7\n",
       "28    2019-04-19 00:18:08.144290            0.7\n",
       "29    2019-04-19 02:06:50.942431            0.9\n",
       "...                          ...            ...\n",
       "60978 2019-04-20 02:38:13.901299            0.9\n",
       "60979 2019-04-20 16:49:58.319000            0.5\n",
       "60980 2019-04-20 22:20:05.806429            0.7\n",
       "60981 2019-04-18 03:04:54.584470            0.7\n",
       "60982 2019-04-18 03:22:53.102665            0.7\n",
       "60983 2019-04-18 03:29:37.744040            0.7\n",
       "60984 2019-04-18 05:55:06.986802            0.2\n",
       "60985 2019-04-18 14:48:57.635029            0.5\n",
       "60986 2019-04-18 22:18:44.335081            0.7\n",
       "60987 2019-04-18 22:48:07.476911            0.7\n",
       "60988 2019-04-18 22:52:54.879676            0.7\n",
       "60989 2019-04-18 23:49:26.184266            0.7\n",
       "60990 2019-04-19 02:28:51.072121            0.9\n",
       "60991 2019-04-19 04:30:44.273305            0.5\n",
       "60992 2019-04-19 04:35:18.330587            0.5\n",
       "60993 2019-04-19 04:38:28.848881            0.5\n",
       "60994 2019-04-19 04:39:51.988965            0.5\n",
       "60995 2019-04-19 04:47:01.528216            0.5\n",
       "60996 2019-04-19 05:53:26.206150            0.2\n",
       "60997 2019-04-19 18:10:40.319611            0.5\n",
       "60998 2019-04-19 18:24:47.904601            0.5\n",
       "60999 2019-04-19 21:51:14.452861            0.7\n",
       "61000 2019-04-19 21:51:17.145687            0.7\n",
       "61001 2019-04-20 02:10:44.531932            0.9\n",
       "61002 2019-04-20 03:43:30.730308            0.7\n",
       "61003 2019-04-20 03:44:51.501304            0.7\n",
       "61004 2019-04-20 04:24:46.796022            0.5\n",
       "61005 2019-04-20 04:38:11.516258            0.5\n",
       "61006 2019-04-20 16:55:34.364999            0.5\n",
       "61007 2019-04-20 17:32:59.555232            0.5\n",
       "\n",
       "[61008 rows x 2 columns]"
      ]
     },
     "execution_count": 270,
     "metadata": {},
     "output_type": "execute_result"
    }
   ],
   "source": [
    "auc4[['date','pond_hora_ext']]"
   ]
  },
  {
   "cell_type": "code",
   "execution_count": 271,
   "metadata": {},
   "outputs": [
    {
     "data": {
      "text/html": [
       "<div>\n",
       "<style scoped>\n",
       "    .dataframe tbody tr th:only-of-type {\n",
       "        vertical-align: middle;\n",
       "    }\n",
       "\n",
       "    .dataframe tbody tr th {\n",
       "        vertical-align: top;\n",
       "    }\n",
       "\n",
       "    .dataframe thead th {\n",
       "        text-align: right;\n",
       "    }\n",
       "</style>\n",
       "<table border=\"1\" class=\"dataframe\">\n",
       "  <thead>\n",
       "    <tr style=\"text-align: right;\">\n",
       "      <th></th>\n",
       "      <th>ref_hash</th>\n",
       "      <th>source_id</th>\n",
       "      <th>ref_type</th>\n",
       "      <th>secs_to_next_mean</th>\n",
       "      <th>date_int</th>\n",
       "      <th>next_date_int</th>\n",
       "      <th>date</th>\n",
       "      <th>secs_to_next</th>\n",
       "      <th>hs_to_next</th>\n",
       "      <th>alta_demanda</th>\n",
       "      <th>pico_demanda</th>\n",
       "      <th>pond_dia</th>\n",
       "      <th>pond_hora_ext</th>\n",
       "    </tr>\n",
       "  </thead>\n",
       "  <tbody>\n",
       "    <tr>\n",
       "      <th>0</th>\n",
       "      <td>1666627460470179</td>\n",
       "      <td>1</td>\n",
       "      <td>1</td>\n",
       "      <td>62502.5</td>\n",
       "      <td>1555698415718385</td>\n",
       "      <td>1555698598659713</td>\n",
       "      <td>2019-04-19 18:26:55.718385</td>\n",
       "      <td>183.0</td>\n",
       "      <td>0.050833</td>\n",
       "      <td>0</td>\n",
       "      <td>0.25</td>\n",
       "      <td>0</td>\n",
       "      <td>0.5</td>\n",
       "    </tr>\n",
       "  </tbody>\n",
       "</table>\n",
       "</div>"
      ],
      "text/plain": [
       "           ref_hash  source_id  ref_type  secs_to_next_mean          date_int  \\\n",
       "0  1666627460470179          1         1            62502.5  1555698415718385   \n",
       "\n",
       "      next_date_int                       date  secs_to_next  hs_to_next  \\\n",
       "0  1555698598659713 2019-04-19 18:26:55.718385         183.0    0.050833   \n",
       "\n",
       "   alta_demanda  pico_demanda  pond_dia  pond_hora_ext  \n",
       "0             0          0.25         0            0.5  "
      ]
     },
     "execution_count": 271,
     "metadata": {},
     "output_type": "execute_result"
    }
   ],
   "source": [
    "auc4.head(1)"
   ]
  },
  {
   "cell_type": "code",
   "execution_count": 282,
   "metadata": {
    "collapsed": true
   },
   "outputs": [],
   "source": [
    "#Agregamos features\n",
    "columns_to_xgboost_4 = ['ref_hash','source_id'\\\n",
    "                      ,'ref_type','secs_to_next_mean'\\\n",
    "                      ,'date_int','next_date_int','secs_to_next','pico_demanda','pond_hora_ext']\n",
    "auc4_train = auc4[columns_to_xgboost_4]"
   ]
  },
  {
   "cell_type": "code",
   "execution_count": 283,
   "metadata": {},
   "outputs": [
    {
     "data": {
      "text/html": [
       "<div>\n",
       "<style scoped>\n",
       "    .dataframe tbody tr th:only-of-type {\n",
       "        vertical-align: middle;\n",
       "    }\n",
       "\n",
       "    .dataframe tbody tr th {\n",
       "        vertical-align: top;\n",
       "    }\n",
       "\n",
       "    .dataframe thead th {\n",
       "        text-align: right;\n",
       "    }\n",
       "</style>\n",
       "<table border=\"1\" class=\"dataframe\">\n",
       "  <thead>\n",
       "    <tr style=\"text-align: right;\">\n",
       "      <th></th>\n",
       "      <th>ref_hash</th>\n",
       "      <th>source_id</th>\n",
       "      <th>ref_type</th>\n",
       "      <th>secs_to_next_mean</th>\n",
       "      <th>date_int</th>\n",
       "      <th>next_date_int</th>\n",
       "      <th>secs_to_next</th>\n",
       "      <th>pico_demanda</th>\n",
       "      <th>pond_hora_ext</th>\n",
       "    </tr>\n",
       "  </thead>\n",
       "  <tbody>\n",
       "    <tr>\n",
       "      <th>0</th>\n",
       "      <td>1666627460470179</td>\n",
       "      <td>1</td>\n",
       "      <td>1</td>\n",
       "      <td>62502.5</td>\n",
       "      <td>1555698415718385</td>\n",
       "      <td>1555698598659713</td>\n",
       "      <td>183.0</td>\n",
       "      <td>0.25</td>\n",
       "      <td>0.5</td>\n",
       "    </tr>\n",
       "  </tbody>\n",
       "</table>\n",
       "</div>"
      ],
      "text/plain": [
       "           ref_hash  source_id  ref_type  secs_to_next_mean          date_int  \\\n",
       "0  1666627460470179          1         1            62502.5  1555698415718385   \n",
       "\n",
       "      next_date_int  secs_to_next  pico_demanda  pond_hora_ext  \n",
       "0  1555698598659713         183.0          0.25            0.5  "
      ]
     },
     "execution_count": 283,
     "metadata": {},
     "output_type": "execute_result"
    }
   ],
   "source": [
    "auc4_train.head(1)"
   ]
  },
  {
   "cell_type": "code",
   "execution_count": 279,
   "metadata": {},
   "outputs": [
    {
     "data": {
      "text/plain": [
       "((42705, 8), (18303, 8), (42705, 1), (18303, 1))"
      ]
     },
     "execution_count": 279,
     "metadata": {},
     "output_type": "execute_result"
    }
   ],
   "source": [
    " #Separo X e Y\n",
    "X5 = auc4_train.loc[:,auc4_train.columns != 'secs_to_next']\n",
    "y5 = auc4_train.loc[:,auc4_train.columns == 'secs_to_next']\n",
    "X_train5,X_test5,y_train5,y_test5 = train_test_split(X5,y5,test_size=0.3,random_state=1)\n",
    "X_train5.shape ,X_test5.shape ,y_train5.shape ,y_test5.shape"
   ]
  },
  {
   "cell_type": "code",
   "execution_count": 280,
   "metadata": {},
   "outputs": [
    {
     "name": "stdout",
     "output_type": "stream",
     "text": [
      "[00:14:25] WARNING: src/objective/regression_obj.cu:144: reg:linear is now deprecated in favor of reg:squarederror.\n"
     ]
    }
   ],
   "source": [
    "xg_reg.fit(X_train5,y_train5)\n",
    "preds5 = xg_reg.predict(X_test5)\n",
    "mse = mean_squared_error(y_test5, preds5)"
   ]
  },
  {
   "cell_type": "code",
   "execution_count": 281,
   "metadata": {},
   "outputs": [
    {
     "name": "stdout",
     "output_type": "stream",
     "text": [
      "mean_squared_error\n",
      "9580514.500022912\n",
      "mean_squared_error NICO\n",
      "3400688504.3380723\n",
      "                  ref_hash  source_id  ref_type  secs_to_next_mean  \\\n",
      "31030  5373572805145747380          3         1            80053.0   \n",
      "\n",
      "               date_int     next_date_int  pico_demanda  pond_hora_ext  \n",
      "31030  1555640719316765  1555805439843987          0.75            0.9  \n"
     ]
    },
    {
     "data": {
      "text/plain": [
       "array([7.5699331e-04, 5.6191674e-04, 5.2870699e-04, 1.3824295e-01,\n",
       "       2.0681110e-01, 6.5145433e-01, 7.6757319e-04, 8.7644759e-04],\n",
       "      dtype=float32)"
      ]
     },
     "execution_count": 281,
     "metadata": {},
     "output_type": "execute_result"
    }
   ],
   "source": [
    "mse = mean_squared_error(y_test5, preds5)\n",
    "print(\"mean_squared_error\")\n",
    "print(str(mse))\n",
    "\n",
    "print(\"mean_squared_error NICO\")\n",
    "print(\"3400688504.3380723\")\n",
    "print(X_test5.head(1))\n",
    "xg_reg.feature_importances_"
   ]
  }
 ],
 "metadata": {
  "kernelspec": {
   "display_name": "Python 2",
   "language": "python",
   "name": "python2"
  },
  "language_info": {
   "codemirror_mode": {
    "name": "ipython",
    "version": 2
   },
   "file_extension": ".py",
   "mimetype": "text/x-python",
   "name": "python",
   "nbconvert_exporter": "python",
   "pygments_lexer": "ipython2",
   "version": "2.7.12"
  }
 },
 "nbformat": 4,
 "nbformat_minor": 2
}
