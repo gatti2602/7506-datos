{
 "cells": [
  {
   "cell_type": "code",
   "execution_count": 1,
   "metadata": {},
   "outputs": [],
   "source": [
    "import pandas as pd\n",
    "import matplotlib as mp\n",
    "import numpy as np\n",
    "from datetime import timedelta\n",
    "import datetime as dt\n",
    "\n",
    "%matplotlib inline"
   ]
  },
  {
   "cell_type": "code",
   "execution_count": 2,
   "metadata": {},
   "outputs": [],
   "source": [
    "#Optimizado para menos memoria\n",
    "auction_dtypes = {\n",
    "    'device_id': np.int64,\n",
    "    'ref_type_id': np.int8,\n",
    "    'source_id': np.int8\n",
    "}\n",
    "\n",
    "auctions = pd.read_csv('../data/auctions.csv.gzip',\n",
    "                       compression = 'gzip',\n",
    "                       dtype = auction_dtypes,\n",
    "                       parse_dates = ['date'])\n",
    "auctions['n'] = 1\n",
    "\n",
    "windows = pd.DataFrame({\n",
    "'window_nr':[1,2,3,4],\n",
    "'n': 1,\n",
    "'min_date': dt.datetime(2019,4,18),\n",
    "'max_date': [dt.datetime(2019,4,21),dt.datetime(2019,4,22),dt.datetime(2019,4,23),dt.datetime(2019,4,24)]\n",
    "})"
   ]
  },
  {
   "cell_type": "code",
   "execution_count": 3,
   "metadata": {},
   "outputs": [
    {
     "data": {
      "text/plain": [
       "Timestamp('2019-04-18 00:00:00.015050')"
      ]
     },
     "execution_count": 3,
     "metadata": {},
     "output_type": "execute_result"
    }
   ],
   "source": [
    "auctions['date'].min()"
   ]
  },
  {
   "cell_type": "code",
   "execution_count": 4,
   "metadata": {},
   "outputs": [
    {
     "data": {
      "text/plain": [
       "Timestamp('2019-04-26 23:59:59.969518')"
      ]
     },
     "execution_count": 4,
     "metadata": {},
     "output_type": "execute_result"
    }
   ],
   "source": [
    "auctions['date'].max()"
   ]
  },
  {
   "cell_type": "markdown",
   "metadata": {},
   "source": [
    "---\n",
    "Separado de las ventanas de tiempo\n",
    "----------------------------------\n",
    "\n",
    "### Separo las semanas de entrenamiento\n",
    "\n",
    "Se pueden utilizar distintos metodos: \n",
    "\n",
    "- Se arman ventanas de 3 días para predecir 3 dias\n",
    "- Se arman ventanas de n-1 dias para predecir n a n+2 dias.\n",
    "\n",
    "Para el caso de estudio se utiliza la opcion de maximizar la cantidad de datos para predecir cada ventana.\n",
    "\n",
    "Los datos pueden entonces estar en las siguientes ventanas y deben solo usarse para predecir la ventana correspondiente en los sets de training.\n",
    "\n",
    "Las ventanas de los sets de entrenamiento son: \n",
    "\n",
    "1. 21 al 23\n",
    "2. 22 al 24\n",
    "3. 23 al 25\n",
    "4. 24 al 26\n",
    "\n",
    "Entonces las ventanas armadas serán:\n",
    "1. 18 al 20\n",
    "2. 18 al 21\n",
    "3. 18 al 22\n",
    "4. 18 al 23"
   ]
  },
  {
   "cell_type": "markdown",
   "metadata": {},
   "source": [
    "---\n",
    "Armado del set de entrenamiento\n",
    "-------------------------------\n",
    "\n",
    "A continuacion se comienzan a extraer los distintos features que formaran el set de entrenamiento. \n",
    "Se cruza cada ventana con los labels que se desean predecir. \n",
    "\n",
    "Para entrenar el set debe decidirse como utilizar los datos de las distintas ventanas. \n",
    "\n",
    "- Una opcion será mezclar todos los datos pero hay que decidir que hacer con los equipos que aparecen mas de una vez. \n",
    "\n",
    "- La segunda opcion es entrenar 4 modelos distintos y verificar que haya una mejora en todos ellos."
   ]
  },
  {
   "cell_type": "markdown",
   "metadata": {},
   "source": [
    "### Armado de tiempo entre arribos\n",
    "\n",
    "Se desea saber el tiempo promedio entre arribos de los dispositivos a las encuestas.\n",
    "\n",
    "Se elminan usuarios que aparecen 1 sola vez y usuarios que aparecen mas de 150 veces"
   ]
  },
  {
   "cell_type": "code",
   "execution_count": 5,
   "metadata": {},
   "outputs": [],
   "source": [
    "grp = ['device_id']\n",
    "#Ordeno por grp y fecha\n",
    "auctions.sort_values(by=['device_id', 'date'], inplace=True)"
   ]
  },
  {
   "cell_type": "code",
   "execution_count": 6,
   "metadata": {},
   "outputs": [],
   "source": [
    "min_value = 2\n",
    "max_value = 150\n",
    "auctions = auctions.groupby(grp, sort=False).filter(lambda data: (min_value < len(data) < max_value))"
   ]
  },
  {
   "cell_type": "code",
   "execution_count": 7,
   "metadata": {},
   "outputs": [],
   "source": [
    "auctions['next_date'] = auctions.groupby(grp, as_index = False, sort=False)['date']\\\n",
    "                                              .transform(lambda x: x.shift(-1))\n",
    "auctions = auctions.loc[(~auctions['next_date'].isnull())]\n",
    "auctions['secs_to_next'] = (auctions['next_date'] - auctions['date'])\\\n",
    "                                        .transform(lambda x: round(x.total_seconds()))"
   ]
  },
  {
   "cell_type": "code",
   "execution_count": 8,
   "metadata": {},
   "outputs": [],
   "source": [
    "filtered = auctions.loc[auctions['secs_to_next'] < 120]"
   ]
  },
  {
   "cell_type": "code",
   "execution_count": 9,
   "metadata": {},
   "outputs": [],
   "source": [
    "devices = filtered.groupby(grp, as_index='False')['secs_to_next'].mean().to_frame()\n",
    "devices.columns = ['secs_to_next_mean']"
   ]
  },
  {
   "cell_type": "code",
   "execution_count": 10,
   "metadata": {},
   "outputs": [
    {
     "data": {
      "text/html": [
       "<div>\n",
       "<style scoped>\n",
       "    .dataframe tbody tr th:only-of-type {\n",
       "        vertical-align: middle;\n",
       "    }\n",
       "\n",
       "    .dataframe tbody tr th {\n",
       "        vertical-align: top;\n",
       "    }\n",
       "\n",
       "    .dataframe thead th {\n",
       "        text-align: right;\n",
       "    }\n",
       "</style>\n",
       "<table border=\"1\" class=\"dataframe\">\n",
       "  <thead>\n",
       "    <tr style=\"text-align: right;\">\n",
       "      <th></th>\n",
       "      <th>secs_to_next_mean</th>\n",
       "    </tr>\n",
       "    <tr>\n",
       "      <th>device_id</th>\n",
       "      <th></th>\n",
       "    </tr>\n",
       "  </thead>\n",
       "  <tbody>\n",
       "    <tr>\n",
       "      <th>41863526108385</th>\n",
       "      <td>37.136364</td>\n",
       "    </tr>\n",
       "    <tr>\n",
       "      <th>69039685746313</th>\n",
       "      <td>104.000000</td>\n",
       "    </tr>\n",
       "    <tr>\n",
       "      <th>135153013040192</th>\n",
       "      <td>53.000000</td>\n",
       "    </tr>\n",
       "    <tr>\n",
       "      <th>161514654074162</th>\n",
       "      <td>24.600000</td>\n",
       "    </tr>\n",
       "    <tr>\n",
       "      <th>186034136943920</th>\n",
       "      <td>32.406250</td>\n",
       "    </tr>\n",
       "  </tbody>\n",
       "</table>\n",
       "</div>"
      ],
      "text/plain": [
       "                 secs_to_next_mean\n",
       "device_id                         \n",
       "41863526108385           37.136364\n",
       "69039685746313          104.000000\n",
       "135153013040192          53.000000\n",
       "161514654074162          24.600000\n",
       "186034136943920          32.406250"
      ]
     },
     "execution_count": 10,
     "metadata": {},
     "output_type": "execute_result"
    }
   ],
   "source": [
    "devices.head()"
   ]
  },
  {
   "cell_type": "markdown",
   "metadata": {},
   "source": [
    "### Tiempo desde ultima aparicion"
   ]
  },
  {
   "cell_type": "code",
   "execution_count": 11,
   "metadata": {},
   "outputs": [],
   "source": [
    "max_date = auctions['date'].max()"
   ]
  },
  {
   "cell_type": "code",
   "execution_count": 12,
   "metadata": {},
   "outputs": [],
   "source": [
    "time = auctions.groupby(grp).apply(lambda x: round((max_date - x['date'].max()).total_seconds())).to_frame()\n",
    "time.columns = ['secs_since_last_arrival']"
   ]
  },
  {
   "cell_type": "code",
   "execution_count": 13,
   "metadata": {},
   "outputs": [],
   "source": [
    "devices = devices.merge(time, how='outer', left_index=True, right_index=True)"
   ]
  },
  {
   "cell_type": "code",
   "execution_count": 14,
   "metadata": {},
   "outputs": [
    {
     "data": {
      "text/html": [
       "<div>\n",
       "<style scoped>\n",
       "    .dataframe tbody tr th:only-of-type {\n",
       "        vertical-align: middle;\n",
       "    }\n",
       "\n",
       "    .dataframe tbody tr th {\n",
       "        vertical-align: top;\n",
       "    }\n",
       "\n",
       "    .dataframe thead th {\n",
       "        text-align: right;\n",
       "    }\n",
       "</style>\n",
       "<table border=\"1\" class=\"dataframe\">\n",
       "  <thead>\n",
       "    <tr style=\"text-align: right;\">\n",
       "      <th></th>\n",
       "      <th>secs_to_next_mean</th>\n",
       "      <th>secs_since_last_arrival</th>\n",
       "    </tr>\n",
       "    <tr>\n",
       "      <th>device_id</th>\n",
       "      <th></th>\n",
       "      <th></th>\n",
       "    </tr>\n",
       "  </thead>\n",
       "  <tbody>\n",
       "    <tr>\n",
       "      <th>41863526108385</th>\n",
       "      <td>37.136364</td>\n",
       "      <td>588605</td>\n",
       "    </tr>\n",
       "    <tr>\n",
       "      <th>69039685746313</th>\n",
       "      <td>104.000000</td>\n",
       "      <td>132716</td>\n",
       "    </tr>\n",
       "    <tr>\n",
       "      <th>135153013040192</th>\n",
       "      <td>53.000000</td>\n",
       "      <td>589058</td>\n",
       "    </tr>\n",
       "    <tr>\n",
       "      <th>161514654074162</th>\n",
       "      <td>24.600000</td>\n",
       "      <td>767157</td>\n",
       "    </tr>\n",
       "    <tr>\n",
       "      <th>186034136943920</th>\n",
       "      <td>32.406250</td>\n",
       "      <td>296782</td>\n",
       "    </tr>\n",
       "  </tbody>\n",
       "</table>\n",
       "</div>"
      ],
      "text/plain": [
       "                 secs_to_next_mean  secs_since_last_arrival\n",
       "device_id                                                  \n",
       "41863526108385           37.136364                   588605\n",
       "69039685746313          104.000000                   132716\n",
       "135153013040192          53.000000                   589058\n",
       "161514654074162          24.600000                   767157\n",
       "186034136943920          32.406250                   296782"
      ]
     },
     "execution_count": 14,
     "metadata": {},
     "output_type": "execute_result"
    }
   ],
   "source": [
    "devices.head()"
   ]
  },
  {
   "cell_type": "markdown",
   "metadata": {},
   "source": [
    "### Cantidad de apariciones en encuestas "
   ]
  },
  {
   "cell_type": "code",
   "execution_count": 15,
   "metadata": {},
   "outputs": [
    {
     "data": {
      "text/html": [
       "<div>\n",
       "<style scoped>\n",
       "    .dataframe tbody tr th:only-of-type {\n",
       "        vertical-align: middle;\n",
       "    }\n",
       "\n",
       "    .dataframe tbody tr th {\n",
       "        vertical-align: top;\n",
       "    }\n",
       "\n",
       "    .dataframe thead th {\n",
       "        text-align: right;\n",
       "    }\n",
       "</style>\n",
       "<table border=\"1\" class=\"dataframe\">\n",
       "  <thead>\n",
       "    <tr style=\"text-align: right;\">\n",
       "      <th></th>\n",
       "      <th>secs_to_next_mean</th>\n",
       "      <th>secs_since_last_arrival</th>\n",
       "      <th>auctions_total</th>\n",
       "    </tr>\n",
       "    <tr>\n",
       "      <th>device_id</th>\n",
       "      <th></th>\n",
       "      <th></th>\n",
       "      <th></th>\n",
       "    </tr>\n",
       "  </thead>\n",
       "  <tbody>\n",
       "    <tr>\n",
       "      <th>41863526108385</th>\n",
       "      <td>37.136364</td>\n",
       "      <td>588605</td>\n",
       "      <td>34</td>\n",
       "    </tr>\n",
       "    <tr>\n",
       "      <th>69039685746313</th>\n",
       "      <td>104.000000</td>\n",
       "      <td>132716</td>\n",
       "      <td>3</td>\n",
       "    </tr>\n",
       "    <tr>\n",
       "      <th>135153013040192</th>\n",
       "      <td>53.000000</td>\n",
       "      <td>589058</td>\n",
       "      <td>7</td>\n",
       "    </tr>\n",
       "    <tr>\n",
       "      <th>161514654074162</th>\n",
       "      <td>24.600000</td>\n",
       "      <td>767157</td>\n",
       "      <td>5</td>\n",
       "    </tr>\n",
       "    <tr>\n",
       "      <th>186034136943920</th>\n",
       "      <td>32.406250</td>\n",
       "      <td>296782</td>\n",
       "      <td>65</td>\n",
       "    </tr>\n",
       "  </tbody>\n",
       "</table>\n",
       "</div>"
      ],
      "text/plain": [
       "                 secs_to_next_mean  secs_since_last_arrival  auctions_total\n",
       "device_id                                                                  \n",
       "41863526108385           37.136364                   588605              34\n",
       "69039685746313          104.000000                   132716               3\n",
       "135153013040192          53.000000                   589058               7\n",
       "161514654074162          24.600000                   767157               5\n",
       "186034136943920          32.406250                   296782              65"
      ]
     },
     "execution_count": 15,
     "metadata": {},
     "output_type": "execute_result"
    }
   ],
   "source": [
    "amount_auctions = auctions.groupby(grp)['n'].count().to_frame()\n",
    "amount_auctions.columns = ['auctions_total']\n",
    "devices = devices.merge(amount_auctions,how = 'outer', left_index=True, right_index=True)\n",
    "devices.head()"
   ]
  },
  {
   "cell_type": "code",
   "execution_count": 16,
   "metadata": {},
   "outputs": [
    {
     "data": {
      "text/html": [
       "<div>\n",
       "<style scoped>\n",
       "    .dataframe tbody tr th:only-of-type {\n",
       "        vertical-align: middle;\n",
       "    }\n",
       "\n",
       "    .dataframe tbody tr th {\n",
       "        vertical-align: top;\n",
       "    }\n",
       "\n",
       "    .dataframe thead th {\n",
       "        text-align: right;\n",
       "    }\n",
       "</style>\n",
       "<table border=\"1\" class=\"dataframe\">\n",
       "  <thead>\n",
       "    <tr style=\"text-align: right;\">\n",
       "      <th></th>\n",
       "      <th>secs_to_next_mean</th>\n",
       "      <th>secs_since_last_arrival</th>\n",
       "      <th>auctions_total</th>\n",
       "      <th>auctions_last_hour</th>\n",
       "    </tr>\n",
       "    <tr>\n",
       "      <th>device_id</th>\n",
       "      <th></th>\n",
       "      <th></th>\n",
       "      <th></th>\n",
       "      <th></th>\n",
       "    </tr>\n",
       "  </thead>\n",
       "  <tbody>\n",
       "    <tr>\n",
       "      <th>41863526108385</th>\n",
       "      <td>37.136364</td>\n",
       "      <td>588605</td>\n",
       "      <td>34</td>\n",
       "      <td>0</td>\n",
       "    </tr>\n",
       "    <tr>\n",
       "      <th>69039685746313</th>\n",
       "      <td>104.000000</td>\n",
       "      <td>132716</td>\n",
       "      <td>3</td>\n",
       "      <td>0</td>\n",
       "    </tr>\n",
       "    <tr>\n",
       "      <th>135153013040192</th>\n",
       "      <td>53.000000</td>\n",
       "      <td>589058</td>\n",
       "      <td>7</td>\n",
       "      <td>0</td>\n",
       "    </tr>\n",
       "    <tr>\n",
       "      <th>161514654074162</th>\n",
       "      <td>24.600000</td>\n",
       "      <td>767157</td>\n",
       "      <td>5</td>\n",
       "      <td>0</td>\n",
       "    </tr>\n",
       "    <tr>\n",
       "      <th>186034136943920</th>\n",
       "      <td>32.406250</td>\n",
       "      <td>296782</td>\n",
       "      <td>65</td>\n",
       "      <td>0</td>\n",
       "    </tr>\n",
       "  </tbody>\n",
       "</table>\n",
       "</div>"
      ],
      "text/plain": [
       "                 secs_to_next_mean  secs_since_last_arrival  auctions_total  \\\n",
       "device_id                                                                     \n",
       "41863526108385           37.136364                   588605              34   \n",
       "69039685746313          104.000000                   132716               3   \n",
       "135153013040192          53.000000                   589058               7   \n",
       "161514654074162          24.600000                   767157               5   \n",
       "186034136943920          32.406250                   296782              65   \n",
       "\n",
       "                 auctions_last_hour  \n",
       "device_id                            \n",
       "41863526108385                    0  \n",
       "69039685746313                    0  \n",
       "135153013040192                   0  \n",
       "161514654074162                   0  \n",
       "186034136943920                   0  "
      ]
     },
     "execution_count": 16,
     "metadata": {},
     "output_type": "execute_result"
    }
   ],
   "source": [
    "amount_last_auctions = auctions.groupby(grp).apply(lambda x: x.loc[x['date'] > (max_date - timedelta(hours=1)),'n'].count()).to_frame()\n",
    "amount_last_auctions.columns = ['auctions_last_hour']\n",
    "devices = devices.merge(amount_last_auctions, how='outer', left_index=True, right_index=True)\n",
    "devices.head()"
   ]
  },
  {
   "cell_type": "markdown",
   "metadata": {},
   "source": [
    "### Secuencia de ultimos 5 eventos del dispositivo"
   ]
  },
  {
   "cell_type": "code",
   "execution_count": null,
   "metadata": {},
   "outputs": [],
   "source": []
  },
  {
   "cell_type": "markdown",
   "metadata": {},
   "source": [
    "---\n",
    "Prediccion de Installs\n",
    "----------------------\n",
    "\n",
    "Se utiliza el archivo prearmado y se completa los que no aparecen "
   ]
  },
  {
   "cell_type": "code",
   "execution_count": 2,
   "metadata": {},
   "outputs": [],
   "source": [
    "installs_dtypes = {\n",
    "    'application_id': np.int32,\n",
    "    'ref_type': np.int64,\n",
    "    'ref_hash': np.int64, \n",
    "    'click_hash':'category',\n",
    "    'attributed': 'category',\n",
    "    'implicit': 'category',\n",
    "    #'device_countrycode': 'object', \n",
    "    'device_brand': 'category',\n",
    "    'device_model': 'category', \n",
    "    'session_user_agent': 'category', \n",
    "    'user_agent': 'category', \n",
    "    'event_uuid':'object',\n",
    "    'kind': 'category',\n",
    "    'wifi': 'category', \n",
    "    'trans_id': 'object', \n",
    "    #'ip_address':'object', \n",
    "    'device_language': 'category'\n",
    "}\n",
    "install_cols = list(installs_dtypes.keys()) + ['created']\n",
    "installs = pd.read_csv('../data/installs.csv.gzip', \n",
    "                       compression='gzip', \n",
    "                       usecols=install_cols,\n",
    "                       dtype= installs_dtypes,\n",
    "                      parse_dates=['created'])\n",
    "\n",
    "to_predict = pd.read_csv('../data/target_final_competencia_revamped.csv')\n",
    "to_predict = to_predict.apply(lambda x: np.int64(x['ref_hash'][0:x['ref_hash'].find('_')]), axis='columns').drop_duplicates().to_frame()\n",
    "to_predict.columns = ['ref_hash']"
   ]
  },
  {
   "cell_type": "code",
   "execution_count": 3,
   "metadata": {},
   "outputs": [],
   "source": [
    "all_ref_hash = devices.reset_index()['device_id'].drop_duplicates().to_frame()\n",
    "all_ref_hash.columns = ['ref_hash']"
   ]
  },
  {
   "cell_type": "code",
   "execution_count": 4,
   "metadata": {},
   "outputs": [
    {
     "data": {
      "text/plain": [
       "ref_hash    396509\n",
       "dtype: int64"
      ]
     },
     "execution_count": 4,
     "metadata": {},
     "output_type": "execute_result"
    }
   ],
   "source": [
    "all_ref_hash.append(to_predict).drop_duplicates().count()"
   ]
  },
  {
   "cell_type": "code",
   "execution_count": 5,
   "metadata": {},
   "outputs": [
    {
     "name": "stdout",
     "output_type": "stream",
     "text": [
      "Ventana:  1\n",
      "  Encontrados:  133278\n",
      "  Agregados sin installs en esta ventana:  260287\n",
      "  Agregados sin installs pero en lista a predecir:  2944\n",
      "Ventana:  2\n",
      "  Encontrados:  132834\n",
      "  Agregados sin installs en esta ventana:  260731\n",
      "  Agregados sin installs pero en lista a predecir:  2944\n",
      "Ventana:  3\n",
      "  Encontrados:  133885\n",
      "  Agregados sin installs en esta ventana:  259680\n",
      "  Agregados sin installs pero en lista a predecir:  2944\n",
      "Ventana:  4\n",
      "  Encontrados:  138317\n",
      "  Agregados sin installs en esta ventana:  255248\n",
      "  Agregados sin installs pero en lista a predecir:  2944\n"
     ]
    }
   ],
   "source": [
    "window = 3\n",
    "j=1\n",
    "installs_training = pd.DataFrame()\n",
    "\n",
    "for i in range(21,25): #[19, 20, 21, 22, 23, 24]\n",
    "    print(\"Ventana: \", j)\n",
    "    temp = pd.DataFrame()\n",
    "    \n",
    "    temp[['ref_hash','date_install']] = installs.loc[(installs['created'].dt.day >= i) & (installs['created'].dt.day < (i+window))].groupby('ref_hash', as_index=False)['created'].min()\n",
    "    temp['window_nr'] = j\n",
    "    temp['window_date_start'] = dt.datetime(2019,4,i)\n",
    "    temp['secs_to_install'] = (temp['date_install']-temp['window_date_start']).transform(lambda x: x.total_seconds())\n",
    "    print(\"  Encontrados: \", len(temp))\n",
    "    installs_training = installs_training.append(temp,sort=True)\n",
    "    \n",
    "    #Agrego los que no se encontraron en esta ventana pero si estan en installs (aparecen en alguna)\n",
    "    temp = all_ref_hash.merge(installs_training.loc[installs_training['window_nr'] == j], how='left',on='ref_hash')\n",
    "    temp = temp.loc[temp['window_nr'].isnull()]\n",
    "    temp['window_nr'] = j\n",
    "    temp['window_date_start'] = dt.datetime(2019,4,i)\n",
    "    temp['date_install'] = dt.datetime(2019,4,i+window)\n",
    "    temp['secs_to_install'] = (temp['date_install']-temp['window_date_start']).transform(lambda x: x.total_seconds())\n",
    "    print(\"  Agregados sin installs en esta ventana: \", len(temp))\n",
    "    installs_training = installs_training.append(temp[['ref_hash','window_nr','window_date_start','date_install','secs_to_install']],sort=True)\n",
    "    \n",
    "    #Agrego los que no se encontraron en install pero se deben predecir conversiones\n",
    "    temp = to_predict.merge(installs_training.loc[installs_training['window_nr'] == j], how='left', on='ref_hash')\n",
    "    temp = temp.loc[temp['window_nr'].isnull()]\n",
    "    print(\"  Agregados sin installs pero en lista a predecir: \", len(temp))\n",
    "    temp['window_nr'] = j\n",
    "    temp['window_date_start'] = dt.datetime(2019,4,i)\n",
    "    temp['date_install'] = dt.datetime(2019,4,i+window)\n",
    "    temp['secs_to_install'] = (temp['date_install']-temp['window_date_start']).transform(lambda x: x.total_seconds())\n",
    "    installs_training = installs_training.append(temp,sort=True)\n",
    "    \n",
    "    j = j+1\n",
    "\n",
    "sorted_installs = installs_training.sort_values(['ref_hash','window_nr'])[['ref_hash','window_nr','window_date_start','date_install','secs_to_install']]"
   ]
  },
  {
   "cell_type": "code",
   "execution_count": 6,
   "metadata": {},
   "outputs": [
    {
     "data": {
      "text/plain": [
       "4    396509\n",
       "3    396509\n",
       "2    396509\n",
       "1    396509\n",
       "Name: window_nr, dtype: int64"
      ]
     },
     "execution_count": 6,
     "metadata": {},
     "output_type": "execute_result"
    }
   ],
   "source": [
    "sorted_installs['window_nr'].value_counts()"
   ]
  },
  {
   "cell_type": "code",
   "execution_count": 7,
   "metadata": {},
   "outputs": [
    {
     "data": {
      "text/html": [
       "<div>\n",
       "<style scoped>\n",
       "    .dataframe tbody tr th:only-of-type {\n",
       "        vertical-align: middle;\n",
       "    }\n",
       "\n",
       "    .dataframe tbody tr th {\n",
       "        vertical-align: top;\n",
       "    }\n",
       "\n",
       "    .dataframe thead th {\n",
       "        text-align: right;\n",
       "    }\n",
       "</style>\n",
       "<table border=\"1\" class=\"dataframe\">\n",
       "  <thead>\n",
       "    <tr style=\"text-align: right;\">\n",
       "      <th></th>\n",
       "      <th>ref_hash</th>\n",
       "      <th>window_nr</th>\n",
       "      <th>window_date_start</th>\n",
       "      <th>date_install</th>\n",
       "      <th>secs_to_install</th>\n",
       "    </tr>\n",
       "  </thead>\n",
       "  <tbody>\n",
       "    <tr>\n",
       "      <th>0</th>\n",
       "      <td>40621409780134</td>\n",
       "      <td>1</td>\n",
       "      <td>2019-04-21</td>\n",
       "      <td>2019-04-21 19:17:47.657</td>\n",
       "      <td>69467.657</td>\n",
       "    </tr>\n",
       "    <tr>\n",
       "      <th>41317</th>\n",
       "      <td>40621409780134</td>\n",
       "      <td>2</td>\n",
       "      <td>2019-04-22</td>\n",
       "      <td>2019-04-25 00:00:00.000</td>\n",
       "      <td>259200.000</td>\n",
       "    </tr>\n",
       "    <tr>\n",
       "      <th>41317</th>\n",
       "      <td>40621409780134</td>\n",
       "      <td>3</td>\n",
       "      <td>2019-04-23</td>\n",
       "      <td>2019-04-26 00:00:00.000</td>\n",
       "      <td>259200.000</td>\n",
       "    </tr>\n",
       "    <tr>\n",
       "      <th>41317</th>\n",
       "      <td>40621409780134</td>\n",
       "      <td>4</td>\n",
       "      <td>2019-04-24</td>\n",
       "      <td>2019-04-27 00:00:00.000</td>\n",
       "      <td>259200.000</td>\n",
       "    </tr>\n",
       "    <tr>\n",
       "      <th>100266</th>\n",
       "      <td>41863526108385</td>\n",
       "      <td>1</td>\n",
       "      <td>2019-04-21</td>\n",
       "      <td>2019-04-24 00:00:00.000</td>\n",
       "      <td>259200.000</td>\n",
       "    </tr>\n",
       "    <tr>\n",
       "      <th>100266</th>\n",
       "      <td>41863526108385</td>\n",
       "      <td>2</td>\n",
       "      <td>2019-04-22</td>\n",
       "      <td>2019-04-25 00:00:00.000</td>\n",
       "      <td>259200.000</td>\n",
       "    </tr>\n",
       "    <tr>\n",
       "      <th>100266</th>\n",
       "      <td>41863526108385</td>\n",
       "      <td>3</td>\n",
       "      <td>2019-04-23</td>\n",
       "      <td>2019-04-26 00:00:00.000</td>\n",
       "      <td>259200.000</td>\n",
       "    </tr>\n",
       "    <tr>\n",
       "      <th>100266</th>\n",
       "      <td>41863526108385</td>\n",
       "      <td>4</td>\n",
       "      <td>2019-04-24</td>\n",
       "      <td>2019-04-27 00:00:00.000</td>\n",
       "      <td>259200.000</td>\n",
       "    </tr>\n",
       "    <tr>\n",
       "      <th>182806</th>\n",
       "      <td>90072729247980</td>\n",
       "      <td>1</td>\n",
       "      <td>2019-04-21</td>\n",
       "      <td>2019-04-24 00:00:00.000</td>\n",
       "      <td>259200.000</td>\n",
       "    </tr>\n",
       "    <tr>\n",
       "      <th>0</th>\n",
       "      <td>90072729247980</td>\n",
       "      <td>2</td>\n",
       "      <td>2019-04-22</td>\n",
       "      <td>2019-04-24 18:30:50.199</td>\n",
       "      <td>239450.199</td>\n",
       "    </tr>\n",
       "    <tr>\n",
       "      <th>0</th>\n",
       "      <td>90072729247980</td>\n",
       "      <td>3</td>\n",
       "      <td>2019-04-23</td>\n",
       "      <td>2019-04-24 18:30:50.199</td>\n",
       "      <td>153050.199</td>\n",
       "    </tr>\n",
       "    <tr>\n",
       "      <th>0</th>\n",
       "      <td>90072729247980</td>\n",
       "      <td>4</td>\n",
       "      <td>2019-04-24</td>\n",
       "      <td>2019-04-24 18:30:50.199</td>\n",
       "      <td>66650.199</td>\n",
       "    </tr>\n",
       "    <tr>\n",
       "      <th>139544</th>\n",
       "      <td>135153013040192</td>\n",
       "      <td>1</td>\n",
       "      <td>2019-04-21</td>\n",
       "      <td>2019-04-24 00:00:00.000</td>\n",
       "      <td>259200.000</td>\n",
       "    </tr>\n",
       "    <tr>\n",
       "      <th>139544</th>\n",
       "      <td>135153013040192</td>\n",
       "      <td>2</td>\n",
       "      <td>2019-04-22</td>\n",
       "      <td>2019-04-25 00:00:00.000</td>\n",
       "      <td>259200.000</td>\n",
       "    </tr>\n",
       "    <tr>\n",
       "      <th>139544</th>\n",
       "      <td>135153013040192</td>\n",
       "      <td>3</td>\n",
       "      <td>2019-04-23</td>\n",
       "      <td>2019-04-26 00:00:00.000</td>\n",
       "      <td>259200.000</td>\n",
       "    </tr>\n",
       "    <tr>\n",
       "      <th>139544</th>\n",
       "      <td>135153013040192</td>\n",
       "      <td>4</td>\n",
       "      <td>2019-04-24</td>\n",
       "      <td>2019-04-27 00:00:00.000</td>\n",
       "      <td>259200.000</td>\n",
       "    </tr>\n",
       "    <tr>\n",
       "      <th>1</th>\n",
       "      <td>161514654074162</td>\n",
       "      <td>1</td>\n",
       "      <td>2019-04-21</td>\n",
       "      <td>2019-04-22 18:13:44.805</td>\n",
       "      <td>152024.805</td>\n",
       "    </tr>\n",
       "    <tr>\n",
       "      <th>1</th>\n",
       "      <td>161514654074162</td>\n",
       "      <td>2</td>\n",
       "      <td>2019-04-22</td>\n",
       "      <td>2019-04-22 18:13:44.805</td>\n",
       "      <td>65624.805</td>\n",
       "    </tr>\n",
       "    <tr>\n",
       "      <th>346670</th>\n",
       "      <td>161514654074162</td>\n",
       "      <td>3</td>\n",
       "      <td>2019-04-23</td>\n",
       "      <td>2019-04-26 00:00:00.000</td>\n",
       "      <td>259200.000</td>\n",
       "    </tr>\n",
       "    <tr>\n",
       "      <th>346670</th>\n",
       "      <td>161514654074162</td>\n",
       "      <td>4</td>\n",
       "      <td>2019-04-24</td>\n",
       "      <td>2019-04-27 00:00:00.000</td>\n",
       "      <td>259200.000</td>\n",
       "    </tr>\n",
       "  </tbody>\n",
       "</table>\n",
       "</div>"
      ],
      "text/plain": [
       "               ref_hash  window_nr window_date_start            date_install  \\\n",
       "0        40621409780134          1        2019-04-21 2019-04-21 19:17:47.657   \n",
       "41317    40621409780134          2        2019-04-22 2019-04-25 00:00:00.000   \n",
       "41317    40621409780134          3        2019-04-23 2019-04-26 00:00:00.000   \n",
       "41317    40621409780134          4        2019-04-24 2019-04-27 00:00:00.000   \n",
       "100266   41863526108385          1        2019-04-21 2019-04-24 00:00:00.000   \n",
       "100266   41863526108385          2        2019-04-22 2019-04-25 00:00:00.000   \n",
       "100266   41863526108385          3        2019-04-23 2019-04-26 00:00:00.000   \n",
       "100266   41863526108385          4        2019-04-24 2019-04-27 00:00:00.000   \n",
       "182806   90072729247980          1        2019-04-21 2019-04-24 00:00:00.000   \n",
       "0        90072729247980          2        2019-04-22 2019-04-24 18:30:50.199   \n",
       "0        90072729247980          3        2019-04-23 2019-04-24 18:30:50.199   \n",
       "0        90072729247980          4        2019-04-24 2019-04-24 18:30:50.199   \n",
       "139544  135153013040192          1        2019-04-21 2019-04-24 00:00:00.000   \n",
       "139544  135153013040192          2        2019-04-22 2019-04-25 00:00:00.000   \n",
       "139544  135153013040192          3        2019-04-23 2019-04-26 00:00:00.000   \n",
       "139544  135153013040192          4        2019-04-24 2019-04-27 00:00:00.000   \n",
       "1       161514654074162          1        2019-04-21 2019-04-22 18:13:44.805   \n",
       "1       161514654074162          2        2019-04-22 2019-04-22 18:13:44.805   \n",
       "346670  161514654074162          3        2019-04-23 2019-04-26 00:00:00.000   \n",
       "346670  161514654074162          4        2019-04-24 2019-04-27 00:00:00.000   \n",
       "\n",
       "        secs_to_install  \n",
       "0             69467.657  \n",
       "41317        259200.000  \n",
       "41317        259200.000  \n",
       "41317        259200.000  \n",
       "100266       259200.000  \n",
       "100266       259200.000  \n",
       "100266       259200.000  \n",
       "100266       259200.000  \n",
       "182806       259200.000  \n",
       "0            239450.199  \n",
       "0            153050.199  \n",
       "0             66650.199  \n",
       "139544       259200.000  \n",
       "139544       259200.000  \n",
       "139544       259200.000  \n",
       "139544       259200.000  \n",
       "1            152024.805  \n",
       "1             65624.805  \n",
       "346670       259200.000  \n",
       "346670       259200.000  "
      ]
     },
     "execution_count": 7,
     "metadata": {},
     "output_type": "execute_result"
    }
   ],
   "source": [
    "sorted_installs.head(20)"
   ]
  }
 ],
 "metadata": {
  "kernelspec": {
   "display_name": "Python 3",
   "language": "python",
   "name": "python3"
  },
  "language_info": {
   "codemirror_mode": {
    "name": "ipython",
    "version": 3
   },
   "file_extension": ".py",
   "mimetype": "text/x-python",
   "name": "python",
   "nbconvert_exporter": "python",
   "pygments_lexer": "ipython3",
   "version": "3.6.7"
  }
 },
 "nbformat": 4,
 "nbformat_minor": 2
}
