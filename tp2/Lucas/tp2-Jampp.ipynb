{
 "cells": [
  {
   "cell_type": "code",
   "execution_count": 1,
   "metadata": {
    "collapsed": true
   },
   "outputs": [],
   "source": [
    "import pandas as pd\n",
    "import matplotlib as mp\n",
    "\n",
    "%matplotlib inline"
   ]
  },
  {
   "cell_type": "code",
   "execution_count": null,
   "metadata": {
    "collapsed": true
   },
   "outputs": [],
   "source": [
    "#Algunos datos de utilidad según conclusiones del TP1\n",
    "\n",
    "#En qué horarios se realizan más subastas?\n",
    "# Teniendo en cuenta solo los días hábiles\n",
    "# 5~10    : < 200k\n",
    "# 4,11~20 : 200k~300k\n",
    "# 20~0   : 300k ~ 400k\n",
    "# 1~2    : > 400k\n",
    "\n",
    "# :. entre las 20~2 hs se realizan la mayor cantidad de subastas con picos entre 1~2 hs."
   ]
  },
  {
   "cell_type": "code",
   "execution_count": null,
   "metadata": {
    "collapsed": true
   },
   "outputs": [],
   "source": [
    "# Depende un evento o una conversión de un usuario del día de la semana? Y de la hora?\n",
    "\n",
    "#La cantidad de eventos se mantine constantes, excepto en los días M y X, donde encontramos un pico.\n",
    "#Teniendo en cuenta la hora, la mayor cantidad de eventos se produce durante la tarde noche, inicio de la madrugada:\n",
    "#Pico(+175k):    [0,1]\n",
    "#Alta(150k~100k):(1,4)U[15,0)\n",
    "#Media(100k~50k): [4,15)\n",
    "#Baja(0~25k):(7,9)\n",
    "#:. La mayor cantidad de eventos sucede durante el rango 15~1(tarde noche)\n",
    "\n",
    "#INSTALACIONES\n",
    "# La mayor cantidad se realiza los días M y X\n",
    "# Los días M y X se duplica la cantidad de instalaciones aproximadamente(350~400)vs(750~800)\n",
    "# Respecto del horario: Comportamiento similar a los eventos; la mayor cantidad se registran durante la tarde~noche(13~3)\n",
    "# Afecta la presencia de wifi a la cantidad de instalaciones?\n",
    "#El 80% de las instalaciones se lleva a cabo con dispositivos usando wifi.\n",
    "#Cualés son las app mas populares?\n",
    "# app_id | users | events\n",
    "# 66       70k      325k\n",
    "# 63       18k      181k \n",
    "# 145      17.5k    252k\n",
    "# 64       17k      259k\n",
    "# 103       15k     137k"
   ]
  },
  {
   "cell_type": "code",
   "execution_count": 4,
   "metadata": {
    "collapsed": true
   },
   "outputs": [],
   "source": [
    "auctions = pd.read_csv('../7506-tp2/data/auctions.csv.gzip',compression='gzip',\\\n",
    "                        usecols=['date','device_id','platform','ref_type_id','source_id'],\\\n",
    "                        dtype={'device_id':'int64','platform':'category','ref_type_id':'category','source_id':'category'},\\\n",
    "                        parse_dates=['date'])"
   ]
  },
  {
   "cell_type": "code",
   "execution_count": 5,
   "metadata": {},
   "outputs": [
    {
     "data": {
      "text/html": [
       "<div>\n",
       "<style scoped>\n",
       "    .dataframe tbody tr th:only-of-type {\n",
       "        vertical-align: middle;\n",
       "    }\n",
       "\n",
       "    .dataframe tbody tr th {\n",
       "        vertical-align: top;\n",
       "    }\n",
       "\n",
       "    .dataframe thead th {\n",
       "        text-align: right;\n",
       "    }\n",
       "</style>\n",
       "<table border=\"1\" class=\"dataframe\">\n",
       "  <thead>\n",
       "    <tr style=\"text-align: right;\">\n",
       "      <th></th>\n",
       "      <th>date</th>\n",
       "      <th>device_id</th>\n",
       "      <th>platform</th>\n",
       "      <th>ref_type_id</th>\n",
       "      <th>source_id</th>\n",
       "    </tr>\n",
       "  </thead>\n",
       "  <tbody>\n",
       "    <tr>\n",
       "      <th>0</th>\n",
       "      <td>2019-03-11 14:18:33.290763</td>\n",
       "      <td>6059599345986491085</td>\n",
       "      <td>1</td>\n",
       "      <td>1</td>\n",
       "      <td>0</td>\n",
       "    </tr>\n",
       "    <tr>\n",
       "      <th>1</th>\n",
       "      <td>2019-03-11 14:18:34.440157</td>\n",
       "      <td>1115994996230693426</td>\n",
       "      <td>1</td>\n",
       "      <td>1</td>\n",
       "      <td>0</td>\n",
       "    </tr>\n",
       "    <tr>\n",
       "      <th>2</th>\n",
       "      <td>2019-03-11 14:18:35.862360</td>\n",
       "      <td>7463856250762200923</td>\n",
       "      <td>1</td>\n",
       "      <td>1</td>\n",
       "      <td>0</td>\n",
       "    </tr>\n",
       "    <tr>\n",
       "      <th>3</th>\n",
       "      <td>2019-03-11 14:18:36.167163</td>\n",
       "      <td>7829815350267792040</td>\n",
       "      <td>1</td>\n",
       "      <td>1</td>\n",
       "      <td>0</td>\n",
       "    </tr>\n",
       "    <tr>\n",
       "      <th>4</th>\n",
       "      <td>2019-03-11 14:18:37.728590</td>\n",
       "      <td>1448534231953777480</td>\n",
       "      <td>1</td>\n",
       "      <td>1</td>\n",
       "      <td>0</td>\n",
       "    </tr>\n",
       "  </tbody>\n",
       "</table>\n",
       "</div>"
      ],
      "text/plain": [
       "                        date            device_id platform ref_type_id  \\\n",
       "0 2019-03-11 14:18:33.290763  6059599345986491085        1           1   \n",
       "1 2019-03-11 14:18:34.440157  1115994996230693426        1           1   \n",
       "2 2019-03-11 14:18:35.862360  7463856250762200923        1           1   \n",
       "3 2019-03-11 14:18:36.167163  7829815350267792040        1           1   \n",
       "4 2019-03-11 14:18:37.728590  1448534231953777480        1           1   \n",
       "\n",
       "  source_id  \n",
       "0         0  \n",
       "1         0  \n",
       "2         0  \n",
       "3         0  \n",
       "4         0  "
      ]
     },
     "execution_count": 5,
     "metadata": {},
     "output_type": "execute_result"
    }
   ],
   "source": [
    "auctions.head()"
   ]
  },
  {
   "cell_type": "markdown",
   "metadata": {},
   "source": [
    "## Predicciones\n",
    "- En un instante dado, estimar St(d) el tiempo hasta que un dispositivo d aparezca de vuelta en una subasta RTB\n",
    "- En un instante dado, estimar Sc(d) el tiempo hasta que un dispositivo d convierta\n",
    "\n"
   ]
  },
  {
   "cell_type": "markdown",
   "metadata": {},
   "source": [
    "# Arboles - xgboost"
   ]
  },
  {
   "cell_type": "code",
   "execution_count": 6,
   "metadata": {
    "collapsed": true
   },
   "outputs": [],
   "source": [
    "import pandas as pd\n",
    "import matplotlib as mp\n",
    "import numpy as np\n",
    "from datetime import timedelta\n",
    "import datetime as dt\n",
    "import gc\n",
    "\n",
    "from sklearn.ensemble import RandomForestRegressor\n",
    "from sklearn.metrics import mean_squared_error\n",
    "from sklearn.model_selection import train_test_split\n",
    "import xgboost as xgb\n",
    "\n",
    "%matplotlib inline"
   ]
  },
  {
   "cell_type": "markdown",
   "metadata": {},
   "source": [
    "## Preparación de datos"
   ]
  },
  {
   "cell_type": "markdown",
   "metadata": {},
   "source": [
    "## Configuracion"
   ]
  },
  {
   "cell_type": "code",
   "execution_count": 10,
   "metadata": {},
   "outputs": [
    {
     "name": "stdout",
     "output_type": "stream",
     "text": [
      "Root path data: ../data/\n",
      "Es testing: True\n",
      "Faccion de registros a usar para testing: 0.01\n",
      "Min de device a tener en cuenta: 10\n"
     ]
    }
   ],
   "source": [
    "#Root de archivos de datos\n",
    "root_dir = '../data/'\n",
    "print('Root path data: '+root_dir)\n",
    "#Lee menos data si es testing\n",
    "is_testing = True\n",
    "print('Es testing: '+str(is_testing))\n",
    "fraccion_a_usar = 0.01\n",
    "print('Faccion de registros a usar para testing: '+str(fraccion_a_usar))\n",
    "# Cantidad minima de aparicion de equipos en un dataframe. Esta variable se usa para eliminar los registros\n",
    "# que tengan pocas apariciones dentro del set de datos total.\n",
    "min_devices = 10\n",
    "print('Min de device a tener en cuenta: '+str(min_devices))\n",
    "\n",
    "# Identificador unico de equipos\n",
    "device_uuid = ['ref_type','ref_hash']\n",
    "\n",
    "# Ventanas de tiempo\n",
    "windows = pd.DataFrame({\n",
    "'window_nr':[1,2,3,4],\n",
    "'n': 1,\n",
    "'min_date': dt.datetime(2019,4,18),\n",
    "'max_date': [dt.datetime(2019,4,21),dt.datetime(2019,4,22),dt.datetime(2019,4,23),dt.datetime(2019,4,24)]\n",
    "})"
   ]
  },
  {
   "cell_type": "code",
   "execution_count": 8,
   "metadata": {},
   "outputs": [
    {
     "data": {
      "text/html": [
       "<div>\n",
       "<style scoped>\n",
       "    .dataframe tbody tr th:only-of-type {\n",
       "        vertical-align: middle;\n",
       "    }\n",
       "\n",
       "    .dataframe tbody tr th {\n",
       "        vertical-align: top;\n",
       "    }\n",
       "\n",
       "    .dataframe thead th {\n",
       "        text-align: right;\n",
       "    }\n",
       "</style>\n",
       "<table border=\"1\" class=\"dataframe\">\n",
       "  <thead>\n",
       "    <tr style=\"text-align: right;\">\n",
       "      <th></th>\n",
       "      <th>max_date</th>\n",
       "      <th>min_date</th>\n",
       "      <th>n</th>\n",
       "      <th>window_nr</th>\n",
       "    </tr>\n",
       "  </thead>\n",
       "  <tbody>\n",
       "    <tr>\n",
       "      <th>0</th>\n",
       "      <td>2019-04-21</td>\n",
       "      <td>2019-04-18</td>\n",
       "      <td>1</td>\n",
       "      <td>1</td>\n",
       "    </tr>\n",
       "    <tr>\n",
       "      <th>1</th>\n",
       "      <td>2019-04-22</td>\n",
       "      <td>2019-04-18</td>\n",
       "      <td>1</td>\n",
       "      <td>2</td>\n",
       "    </tr>\n",
       "    <tr>\n",
       "      <th>2</th>\n",
       "      <td>2019-04-23</td>\n",
       "      <td>2019-04-18</td>\n",
       "      <td>1</td>\n",
       "      <td>3</td>\n",
       "    </tr>\n",
       "    <tr>\n",
       "      <th>3</th>\n",
       "      <td>2019-04-24</td>\n",
       "      <td>2019-04-18</td>\n",
       "      <td>1</td>\n",
       "      <td>4</td>\n",
       "    </tr>\n",
       "  </tbody>\n",
       "</table>\n",
       "</div>"
      ],
      "text/plain": [
       "    max_date   min_date  n  window_nr\n",
       "0 2019-04-21 2019-04-18  1          1\n",
       "1 2019-04-22 2019-04-18  1          2\n",
       "2 2019-04-23 2019-04-18  1          3\n",
       "3 2019-04-24 2019-04-18  1          4"
      ]
     },
     "execution_count": 8,
     "metadata": {},
     "output_type": "execute_result"
    }
   ],
   "source": [
    "windows"
   ]
  },
  {
   "cell_type": "code",
   "execution_count": 9,
   "metadata": {
    "collapsed": true
   },
   "outputs": [],
   "source": [
    "#Se lee el dataframe de auctions\n",
    "\n",
    "#Optimizado para menos memoria\n",
    "auction_dtypes = {\n",
    "    'ref_type_id': np.int8,\n",
    "    'device_id': np.int64,\n",
    "    'source_id': np.int8\n",
    "}\n",
    "#root_dir + 'auctions.csv.gzip'\n",
    "auctions = pd.read_csv(root_dir+'auctions.csv.gzip',\n",
    "                       compression = 'gzip',\n",
    "                       dtype = auction_dtypes,\n",
    "                       parse_dates = ['date'])\n",
    "auctions.rename({'device_id':'ref_hash',\n",
    "                 'ref_type_id':'ref_type'}, inplace=True, axis='columns')\n",
    "\n",
    "# Para sumar los registros\n",
    "auctions['n'] = 1"
   ]
  },
  {
   "cell_type": "code",
   "execution_count": 11,
   "metadata": {},
   "outputs": [
    {
     "name": "stdout",
     "output_type": "stream",
     "text": [
      "('Total records:', 47409528)\n",
      "('Is Testing, #records:', 474095)\n"
     ]
    }
   ],
   "source": [
    "# Info de registros totales/a usar para entrenar\n",
    "print('Total records:',auctions['n'].sum())\n",
    "if is_testing:\n",
    "    auctions = auctions.sample(frac=fraccion_a_usar)\n",
    "    print(\"Is Testing, #records:\", auctions['n'].sum())\n",
    "else:\n",
    "    print(\"Not Testing, #records:\", auctions['n'].sum())"
   ]
  },
  {
   "cell_type": "code",
   "execution_count": 12,
   "metadata": {},
   "outputs": [
    {
     "data": {
      "text/html": [
       "<div>\n",
       "<style scoped>\n",
       "    .dataframe tbody tr th:only-of-type {\n",
       "        vertical-align: middle;\n",
       "    }\n",
       "\n",
       "    .dataframe tbody tr th {\n",
       "        vertical-align: top;\n",
       "    }\n",
       "\n",
       "    .dataframe thead th {\n",
       "        text-align: right;\n",
       "    }\n",
       "</style>\n",
       "<table border=\"1\" class=\"dataframe\">\n",
       "  <thead>\n",
       "    <tr style=\"text-align: right;\">\n",
       "      <th></th>\n",
       "      <th>0</th>\n",
       "    </tr>\n",
       "  </thead>\n",
       "  <tbody>\n",
       "    <tr>\n",
       "      <th>0</th>\n",
       "      <td>1000169251625791246</td>\n",
       "    </tr>\n",
       "    <tr>\n",
       "      <th>2</th>\n",
       "      <td>1000395625957344683</td>\n",
       "    </tr>\n",
       "    <tr>\n",
       "      <th>4</th>\n",
       "      <td>1003027494996471685</td>\n",
       "    </tr>\n",
       "    <tr>\n",
       "      <th>6</th>\n",
       "      <td>1006670001679961544</td>\n",
       "    </tr>\n",
       "    <tr>\n",
       "      <th>8</th>\n",
       "      <td>1007573308966476713</td>\n",
       "    </tr>\n",
       "  </tbody>\n",
       "</table>\n",
       "</div>"
      ],
      "text/plain": [
       "                     0\n",
       "0  1000169251625791246\n",
       "2  1000395625957344683\n",
       "4  1003027494996471685\n",
       "6  1006670001679961544\n",
       "8  1007573308966476713"
      ]
     },
     "execution_count": 12,
     "metadata": {},
     "output_type": "execute_result"
    }
   ],
   "source": [
    "to_predict = pd.read_csv(root_dir+'target_competencia_ids.csv')\n",
    "#predict reaparicion=st\n",
    "predict_ids = to_predict.apply(lambda x: np.int64(x['ref_hash'][0:x['ref_hash'].find('_')]), axis='columns').drop_duplicates().to_frame()\n",
    "#predict conversion=sc\n",
    "predict_ids.head()"
   ]
  },
  {
   "cell_type": "markdown",
   "metadata": {},
   "source": [
    "### Arreglo de datos en auctions"
   ]
  },
  {
   "cell_type": "code",
   "execution_count": 13,
   "metadata": {},
   "outputs": [
    {
     "data": {
      "text/html": [
       "<div>\n",
       "<style scoped>\n",
       "    .dataframe tbody tr th:only-of-type {\n",
       "        vertical-align: middle;\n",
       "    }\n",
       "\n",
       "    .dataframe tbody tr th {\n",
       "        vertical-align: top;\n",
       "    }\n",
       "\n",
       "    .dataframe thead th {\n",
       "        text-align: right;\n",
       "    }\n",
       "</style>\n",
       "<table border=\"1\" class=\"dataframe\">\n",
       "  <thead>\n",
       "    <tr style=\"text-align: right;\">\n",
       "      <th></th>\n",
       "      <th>date</th>\n",
       "      <th>ref_hash</th>\n",
       "      <th>ref_type</th>\n",
       "      <th>source_id</th>\n",
       "      <th>n</th>\n",
       "    </tr>\n",
       "  </thead>\n",
       "  <tbody>\n",
       "    <tr>\n",
       "      <th>35941957</th>\n",
       "      <td>2019-04-25 12:54:18.427862</td>\n",
       "      <td>3645837532698533801</td>\n",
       "      <td>1</td>\n",
       "      <td>3</td>\n",
       "      <td>1</td>\n",
       "    </tr>\n",
       "    <tr>\n",
       "      <th>21062523</th>\n",
       "      <td>2019-04-22 04:52:18.337146</td>\n",
       "      <td>7019123669376337035</td>\n",
       "      <td>1</td>\n",
       "      <td>7</td>\n",
       "      <td>1</td>\n",
       "    </tr>\n",
       "    <tr>\n",
       "      <th>34331726</th>\n",
       "      <td>2019-04-21 22:13:06.496832</td>\n",
       "      <td>1458575463379897371</td>\n",
       "      <td>1</td>\n",
       "      <td>1</td>\n",
       "      <td>1</td>\n",
       "    </tr>\n",
       "  </tbody>\n",
       "</table>\n",
       "</div>"
      ],
      "text/plain": [
       "                               date             ref_hash  ref_type  source_id  \\\n",
       "35941957 2019-04-25 12:54:18.427862  3645837532698533801         1          3   \n",
       "21062523 2019-04-22 04:52:18.337146  7019123669376337035         1          7   \n",
       "34331726 2019-04-21 22:13:06.496832  1458575463379897371         1          1   \n",
       "\n",
       "          n  \n",
       "35941957  1  \n",
       "21062523  1  \n",
       "34331726  1  "
      ]
     },
     "execution_count": 13,
     "metadata": {},
     "output_type": "execute_result"
    }
   ],
   "source": [
    "auctions.head(3)"
   ]
  },
  {
   "cell_type": "code",
   "execution_count": 14,
   "metadata": {},
   "outputs": [
    {
     "name": "stdout",
     "output_type": "stream",
     "text": [
      "Minimo de devices a usar 10\n",
      "Cantidad auctions originales 474095\n",
      "Cantidad auctions eliminados 287131\n",
      "Cantidad auctions finales 186964\n"
     ]
    }
   ],
   "source": [
    "# Se eliminan los reg con pocas apariciones dentro del set de datos\n",
    "print('Minimo de devices a usar '+str(min_devices))\n",
    "orig_count = auctions['n'].sum()\n",
    "auctions_clean = auctions.groupby(device_uuid, sort = False).filter(lambda x: x['n'].sum() >= min_devices) \n",
    "last_count = auctions_clean['n'].sum()\n",
    "print('Cantidad auctions originales '+str(orig_count))\n",
    "print('Cantidad auctions eliminados '+str(orig_count-last_count))\n",
    "print('Cantidad auctions finales '+str(last_count))"
   ]
  },
  {
   "cell_type": "code",
   "execution_count": 15,
   "metadata": {},
   "outputs": [
    {
     "data": {
      "text/html": [
       "<div>\n",
       "<style scoped>\n",
       "    .dataframe tbody tr th:only-of-type {\n",
       "        vertical-align: middle;\n",
       "    }\n",
       "\n",
       "    .dataframe tbody tr th {\n",
       "        vertical-align: top;\n",
       "    }\n",
       "\n",
       "    .dataframe thead th {\n",
       "        text-align: right;\n",
       "    }\n",
       "</style>\n",
       "<table border=\"1\" class=\"dataframe\">\n",
       "  <thead>\n",
       "    <tr style=\"text-align: right;\">\n",
       "      <th></th>\n",
       "      <th>date</th>\n",
       "      <th>ref_hash</th>\n",
       "      <th>ref_type</th>\n",
       "      <th>source_id</th>\n",
       "      <th>n</th>\n",
       "    </tr>\n",
       "  </thead>\n",
       "  <tbody>\n",
       "    <tr>\n",
       "      <th>35941957</th>\n",
       "      <td>2019-04-25 12:54:18.427862</td>\n",
       "      <td>3645837532698533801</td>\n",
       "      <td>1</td>\n",
       "      <td>3</td>\n",
       "      <td>1</td>\n",
       "    </tr>\n",
       "    <tr>\n",
       "      <th>34331726</th>\n",
       "      <td>2019-04-21 22:13:06.496832</td>\n",
       "      <td>1458575463379897371</td>\n",
       "      <td>1</td>\n",
       "      <td>1</td>\n",
       "      <td>1</td>\n",
       "    </tr>\n",
       "    <tr>\n",
       "      <th>38927700</th>\n",
       "      <td>2019-04-20 18:01:00.661500</td>\n",
       "      <td>5516911236867393641</td>\n",
       "      <td>1</td>\n",
       "      <td>1</td>\n",
       "      <td>1</td>\n",
       "    </tr>\n",
       "    <tr>\n",
       "      <th>29486944</th>\n",
       "      <td>2019-04-23 07:51:04.852338</td>\n",
       "      <td>6496399488399992341</td>\n",
       "      <td>1</td>\n",
       "      <td>3</td>\n",
       "      <td>1</td>\n",
       "    </tr>\n",
       "    <tr>\n",
       "      <th>34669002</th>\n",
       "      <td>2019-04-24 04:11:12.219296</td>\n",
       "      <td>6811222176750924189</td>\n",
       "      <td>1</td>\n",
       "      <td>1</td>\n",
       "      <td>1</td>\n",
       "    </tr>\n",
       "  </tbody>\n",
       "</table>\n",
       "</div>"
      ],
      "text/plain": [
       "                               date             ref_hash  ref_type  source_id  \\\n",
       "35941957 2019-04-25 12:54:18.427862  3645837532698533801         1          3   \n",
       "34331726 2019-04-21 22:13:06.496832  1458575463379897371         1          1   \n",
       "38927700 2019-04-20 18:01:00.661500  5516911236867393641         1          1   \n",
       "29486944 2019-04-23 07:51:04.852338  6496399488399992341         1          3   \n",
       "34669002 2019-04-24 04:11:12.219296  6811222176750924189         1          1   \n",
       "\n",
       "          n  \n",
       "35941957  1  \n",
       "34331726  1  \n",
       "38927700  1  \n",
       "29486944  1  \n",
       "34669002  1  "
      ]
     },
     "execution_count": 15,
     "metadata": {},
     "output_type": "execute_result"
    }
   ],
   "source": [
    "auctions_clean.head()"
   ]
  },
  {
   "cell_type": "code",
   "execution_count": 18,
   "metadata": {},
   "outputs": [
    {
     "data": {
      "text/plain": [
       "['ref_type', 'ref_hash', 'date']"
      ]
     },
     "execution_count": 18,
     "metadata": {},
     "output_type": "execute_result"
    }
   ],
   "source": [
    "device_uuid+['date']"
   ]
  },
  {
   "cell_type": "code",
   "execution_count": 22,
   "metadata": {},
   "outputs": [
    {
     "data": {
      "text/plain": [
       "date         datetime64[ns]\n",
       "ref_hash              int64\n",
       "ref_type               int8\n",
       "source_id              int8\n",
       "n                     int64\n",
       "dtype: object"
      ]
     },
     "execution_count": 22,
     "metadata": {},
     "output_type": "execute_result"
    }
   ],
   "source": [
    "auctions_clean.dtypes"
   ]
  },
  {
   "cell_type": "code",
   "execution_count": 39,
   "metadata": {},
   "outputs": [
    {
     "ename": "KeyError",
     "evalue": "'next_date'",
     "output_type": "error",
     "traceback": [
      "\u001b[0;31m---------------------------------------------------------------------------\u001b[0m",
      "\u001b[0;31mKeyError\u001b[0m                                  Traceback (most recent call last)",
      "\u001b[0;32m<ipython-input-39-e0f763e9274f>\u001b[0m in \u001b[0;36m<module>\u001b[0;34m()\u001b[0m\n\u001b[1;32m      3\u001b[0m \u001b[0mauc_clean\u001b[0m\u001b[0;34m[\u001b[0m\u001b[0;34m'next_date'\u001b[0m\u001b[0;34m]\u001b[0m \u001b[0;34m=\u001b[0m \u001b[0mauc_clean\u001b[0m\u001b[0;34m.\u001b[0m\u001b[0mgroupby\u001b[0m\u001b[0;34m(\u001b[0m\u001b[0mdevice_uuid\u001b[0m\u001b[0;34m,\u001b[0m \u001b[0mas_index\u001b[0m \u001b[0;34m=\u001b[0m \u001b[0mFalse\u001b[0m\u001b[0;34m,\u001b[0m \u001b[0msort\u001b[0m\u001b[0;34m=\u001b[0m\u001b[0mFalse\u001b[0m\u001b[0;34m)\u001b[0m\u001b[0;34m[\u001b[0m\u001b[0;34m'date'\u001b[0m\u001b[0;34m]\u001b[0m\u001b[0;34m.\u001b[0m\u001b[0mtransform\u001b[0m\u001b[0;34m(\u001b[0m\u001b[0;32mlambda\u001b[0m \u001b[0mx\u001b[0m\u001b[0;34m:\u001b[0m \u001b[0mx\u001b[0m\u001b[0;34m.\u001b[0m\u001b[0mshift\u001b[0m\u001b[0;34m(\u001b[0m\u001b[0;34m-\u001b[0m\u001b[0;36m1\u001b[0m\u001b[0;34m)\u001b[0m\u001b[0;34m)\u001b[0m\u001b[0;34m\u001b[0m\u001b[0m\n\u001b[1;32m      4\u001b[0m \u001b[0;31m# saco los registros 'borde', aquellos que no tienen 'next_date'\u001b[0m\u001b[0;34m\u001b[0m\u001b[0;34m\u001b[0m\u001b[0m\n\u001b[0;32m----> 5\u001b[0;31m \u001b[0mauc_clean\u001b[0m \u001b[0;34m=\u001b[0m \u001b[0mauc_clean\u001b[0m\u001b[0;34m.\u001b[0m\u001b[0mloc\u001b[0m\u001b[0;34m[\u001b[0m\u001b[0;34m(\u001b[0m\u001b[0;34m~\u001b[0m\u001b[0mauctions\u001b[0m\u001b[0;34m[\u001b[0m\u001b[0;34m'next_date'\u001b[0m\u001b[0;34m]\u001b[0m\u001b[0;34m.\u001b[0m\u001b[0misnull\u001b[0m\u001b[0;34m(\u001b[0m\u001b[0;34m)\u001b[0m\u001b[0;34m)\u001b[0m\u001b[0;34m]\u001b[0m\u001b[0;34m\u001b[0m\u001b[0m\n\u001b[0m\u001b[1;32m      6\u001b[0m \u001b[0mauc_clean\u001b[0m\u001b[0;34m[\u001b[0m\u001b[0;34m'secs_to_next'\u001b[0m\u001b[0;34m]\u001b[0m \u001b[0;34m=\u001b[0m \u001b[0;34m(\u001b[0m\u001b[0mauc_clean\u001b[0m\u001b[0;34m[\u001b[0m\u001b[0;34m'next_date'\u001b[0m\u001b[0;34m]\u001b[0m \u001b[0;34m-\u001b[0m \u001b[0mauc_clean\u001b[0m\u001b[0;34m[\u001b[0m\u001b[0;34m'date'\u001b[0m\u001b[0;34m]\u001b[0m\u001b[0;34m)\u001b[0m\u001b[0;34m.\u001b[0m\u001b[0mtransform\u001b[0m\u001b[0;34m(\u001b[0m\u001b[0;32mlambda\u001b[0m \u001b[0mx\u001b[0m\u001b[0;34m:\u001b[0m \u001b[0mround\u001b[0m\u001b[0;34m(\u001b[0m\u001b[0mx\u001b[0m\u001b[0;34m.\u001b[0m\u001b[0mtotal_seconds\u001b[0m\u001b[0;34m(\u001b[0m\u001b[0;34m)\u001b[0m\u001b[0;34m)\u001b[0m\u001b[0;34m)\u001b[0m\u001b[0;34m\u001b[0m\u001b[0m\n\u001b[1;32m      7\u001b[0m \u001b[0mauc_clean\u001b[0m\u001b[0;34m.\u001b[0m\u001b[0mhead\u001b[0m\u001b[0;34m(\u001b[0m\u001b[0;34m)\u001b[0m\u001b[0;34m\u001b[0m\u001b[0m\n",
      "\u001b[0;32m/usr/local/lib/python2.7/dist-packages/pandas/core/frame.pyc\u001b[0m in \u001b[0;36m__getitem__\u001b[0;34m(self, key)\u001b[0m\n\u001b[1;32m   2925\u001b[0m             \u001b[0;32mif\u001b[0m \u001b[0mself\u001b[0m\u001b[0;34m.\u001b[0m\u001b[0mcolumns\u001b[0m\u001b[0;34m.\u001b[0m\u001b[0mnlevels\u001b[0m \u001b[0;34m>\u001b[0m \u001b[0;36m1\u001b[0m\u001b[0;34m:\u001b[0m\u001b[0;34m\u001b[0m\u001b[0m\n\u001b[1;32m   2926\u001b[0m                 \u001b[0;32mreturn\u001b[0m \u001b[0mself\u001b[0m\u001b[0;34m.\u001b[0m\u001b[0m_getitem_multilevel\u001b[0m\u001b[0;34m(\u001b[0m\u001b[0mkey\u001b[0m\u001b[0;34m)\u001b[0m\u001b[0;34m\u001b[0m\u001b[0m\n\u001b[0;32m-> 2927\u001b[0;31m             \u001b[0mindexer\u001b[0m \u001b[0;34m=\u001b[0m \u001b[0mself\u001b[0m\u001b[0;34m.\u001b[0m\u001b[0mcolumns\u001b[0m\u001b[0;34m.\u001b[0m\u001b[0mget_loc\u001b[0m\u001b[0;34m(\u001b[0m\u001b[0mkey\u001b[0m\u001b[0;34m)\u001b[0m\u001b[0;34m\u001b[0m\u001b[0m\n\u001b[0m\u001b[1;32m   2928\u001b[0m             \u001b[0;32mif\u001b[0m \u001b[0mis_integer\u001b[0m\u001b[0;34m(\u001b[0m\u001b[0mindexer\u001b[0m\u001b[0;34m)\u001b[0m\u001b[0;34m:\u001b[0m\u001b[0;34m\u001b[0m\u001b[0m\n\u001b[1;32m   2929\u001b[0m                 \u001b[0mindexer\u001b[0m \u001b[0;34m=\u001b[0m \u001b[0;34m[\u001b[0m\u001b[0mindexer\u001b[0m\u001b[0;34m]\u001b[0m\u001b[0;34m\u001b[0m\u001b[0m\n",
      "\u001b[0;32m/usr/local/lib/python2.7/dist-packages/pandas/core/indexes/base.pyc\u001b[0m in \u001b[0;36mget_loc\u001b[0;34m(self, key, method, tolerance)\u001b[0m\n\u001b[1;32m   2657\u001b[0m                 \u001b[0;32mreturn\u001b[0m \u001b[0mself\u001b[0m\u001b[0;34m.\u001b[0m\u001b[0m_engine\u001b[0m\u001b[0;34m.\u001b[0m\u001b[0mget_loc\u001b[0m\u001b[0;34m(\u001b[0m\u001b[0mkey\u001b[0m\u001b[0;34m)\u001b[0m\u001b[0;34m\u001b[0m\u001b[0m\n\u001b[1;32m   2658\u001b[0m             \u001b[0;32mexcept\u001b[0m \u001b[0mKeyError\u001b[0m\u001b[0;34m:\u001b[0m\u001b[0;34m\u001b[0m\u001b[0m\n\u001b[0;32m-> 2659\u001b[0;31m                 \u001b[0;32mreturn\u001b[0m \u001b[0mself\u001b[0m\u001b[0;34m.\u001b[0m\u001b[0m_engine\u001b[0m\u001b[0;34m.\u001b[0m\u001b[0mget_loc\u001b[0m\u001b[0;34m(\u001b[0m\u001b[0mself\u001b[0m\u001b[0;34m.\u001b[0m\u001b[0m_maybe_cast_indexer\u001b[0m\u001b[0;34m(\u001b[0m\u001b[0mkey\u001b[0m\u001b[0;34m)\u001b[0m\u001b[0;34m)\u001b[0m\u001b[0;34m\u001b[0m\u001b[0m\n\u001b[0m\u001b[1;32m   2660\u001b[0m         \u001b[0mindexer\u001b[0m \u001b[0;34m=\u001b[0m \u001b[0mself\u001b[0m\u001b[0;34m.\u001b[0m\u001b[0mget_indexer\u001b[0m\u001b[0;34m(\u001b[0m\u001b[0;34m[\u001b[0m\u001b[0mkey\u001b[0m\u001b[0;34m]\u001b[0m\u001b[0;34m,\u001b[0m \u001b[0mmethod\u001b[0m\u001b[0;34m=\u001b[0m\u001b[0mmethod\u001b[0m\u001b[0;34m,\u001b[0m \u001b[0mtolerance\u001b[0m\u001b[0;34m=\u001b[0m\u001b[0mtolerance\u001b[0m\u001b[0;34m)\u001b[0m\u001b[0;34m\u001b[0m\u001b[0m\n\u001b[1;32m   2661\u001b[0m         \u001b[0;32mif\u001b[0m \u001b[0mindexer\u001b[0m\u001b[0;34m.\u001b[0m\u001b[0mndim\u001b[0m \u001b[0;34m>\u001b[0m \u001b[0;36m1\u001b[0m \u001b[0;32mor\u001b[0m \u001b[0mindexer\u001b[0m\u001b[0;34m.\u001b[0m\u001b[0msize\u001b[0m \u001b[0;34m>\u001b[0m \u001b[0;36m1\u001b[0m\u001b[0;34m:\u001b[0m\u001b[0;34m\u001b[0m\u001b[0m\n",
      "\u001b[0;32mpandas/_libs/index.pyx\u001b[0m in \u001b[0;36mpandas._libs.index.IndexEngine.get_loc\u001b[0;34m()\u001b[0m\n",
      "\u001b[0;32mpandas/_libs/index.pyx\u001b[0m in \u001b[0;36mpandas._libs.index.IndexEngine.get_loc\u001b[0;34m()\u001b[0m\n",
      "\u001b[0;32mpandas/_libs/hashtable_class_helper.pxi\u001b[0m in \u001b[0;36mpandas._libs.hashtable.PyObjectHashTable.get_item\u001b[0;34m()\u001b[0m\n",
      "\u001b[0;32mpandas/_libs/hashtable_class_helper.pxi\u001b[0m in \u001b[0;36mpandas._libs.hashtable.PyObjectHashTable.get_item\u001b[0;34m()\u001b[0m\n",
      "\u001b[0;31mKeyError\u001b[0m: 'next_date'"
     ]
    }
   ],
   "source": [
    "auc_clean = auctions_clean.sort_values(by=device_uuid+['date'], inplace=False)\n",
    "#setea el próximo día de aparición(next_date)\n",
    "auc_clean['next_date'] = auc_clean.groupby(device_uuid, as_index = False, sort=False)['date'].transform(lambda x: x.shift(-1))\n",
    "# saco los registros 'borde', aquellos que no tienen 'next_date'\n",
    "auc_clean = auc_clean.loc[(~auctions['next_date'].isnull())]\n",
    "# Seteo los segundos de las apariciones\n",
    "auc_clean['secs_to_next'] = (auc_clean['next_date'] - auc_clean['date']).transform(lambda x: round(x.total_seconds()))\n",
    "auc_clean.head()"
   ]
  },
  {
   "cell_type": "code",
   "execution_count": 42,
   "metadata": {},
   "outputs": [
    {
     "data": {
      "text/html": [
       "<div>\n",
       "<style scoped>\n",
       "    .dataframe tbody tr th:only-of-type {\n",
       "        vertical-align: middle;\n",
       "    }\n",
       "\n",
       "    .dataframe tbody tr th {\n",
       "        vertical-align: top;\n",
       "    }\n",
       "\n",
       "    .dataframe thead th {\n",
       "        text-align: right;\n",
       "    }\n",
       "</style>\n",
       "<table border=\"1\" class=\"dataframe\">\n",
       "  <thead>\n",
       "    <tr style=\"text-align: right;\">\n",
       "      <th></th>\n",
       "      <th>date</th>\n",
       "      <th>ref_hash</th>\n",
       "      <th>ref_type</th>\n",
       "      <th>source_id</th>\n",
       "      <th>n</th>\n",
       "      <th>next_date</th>\n",
       "      <th>secs_to_next</th>\n",
       "      <th>hs_to_next</th>\n",
       "    </tr>\n",
       "  </thead>\n",
       "  <tbody>\n",
       "    <tr>\n",
       "      <th>11788129</th>\n",
       "      <td>2019-04-18 02:41:21.514671</td>\n",
       "      <td>2125435237741841</td>\n",
       "      <td>1</td>\n",
       "      <td>1</td>\n",
       "      <td>1</td>\n",
       "      <td>2019-04-18 07:46:13.565484</td>\n",
       "      <td>18292.0</td>\n",
       "      <td>5.081111</td>\n",
       "    </tr>\n",
       "    <tr>\n",
       "      <th>24648745</th>\n",
       "      <td>2019-04-18 07:46:13.565484</td>\n",
       "      <td>2125435237741841</td>\n",
       "      <td>1</td>\n",
       "      <td>3</td>\n",
       "      <td>1</td>\n",
       "      <td>2019-04-18 08:01:50.872944</td>\n",
       "      <td>937.0</td>\n",
       "      <td>0.260278</td>\n",
       "    </tr>\n",
       "    <tr>\n",
       "      <th>24545467</th>\n",
       "      <td>2019-04-18 08:01:50.872944</td>\n",
       "      <td>2125435237741841</td>\n",
       "      <td>1</td>\n",
       "      <td>1</td>\n",
       "      <td>1</td>\n",
       "      <td>2019-04-18 08:55:59.808056</td>\n",
       "      <td>3249.0</td>\n",
       "      <td>0.902500</td>\n",
       "    </tr>\n",
       "    <tr>\n",
       "      <th>28388057</th>\n",
       "      <td>2019-04-18 08:55:59.808056</td>\n",
       "      <td>2125435237741841</td>\n",
       "      <td>1</td>\n",
       "      <td>1</td>\n",
       "      <td>1</td>\n",
       "      <td>2019-04-18 08:57:49.989240</td>\n",
       "      <td>110.0</td>\n",
       "      <td>0.030556</td>\n",
       "    </tr>\n",
       "    <tr>\n",
       "      <th>24540533</th>\n",
       "      <td>2019-04-18 08:57:49.989240</td>\n",
       "      <td>2125435237741841</td>\n",
       "      <td>1</td>\n",
       "      <td>1</td>\n",
       "      <td>1</td>\n",
       "      <td>2019-04-18 09:08:45.657779</td>\n",
       "      <td>656.0</td>\n",
       "      <td>0.182222</td>\n",
       "    </tr>\n",
       "  </tbody>\n",
       "</table>\n",
       "</div>"
      ],
      "text/plain": [
       "                               date          ref_hash  ref_type  source_id  n  \\\n",
       "11788129 2019-04-18 02:41:21.514671  2125435237741841         1          1  1   \n",
       "24648745 2019-04-18 07:46:13.565484  2125435237741841         1          3  1   \n",
       "24545467 2019-04-18 08:01:50.872944  2125435237741841         1          1  1   \n",
       "28388057 2019-04-18 08:55:59.808056  2125435237741841         1          1  1   \n",
       "24540533 2019-04-18 08:57:49.989240  2125435237741841         1          1  1   \n",
       "\n",
       "                          next_date  secs_to_next  hs_to_next  \n",
       "11788129 2019-04-18 07:46:13.565484       18292.0    5.081111  \n",
       "24648745 2019-04-18 08:01:50.872944         937.0    0.260278  \n",
       "24545467 2019-04-18 08:55:59.808056        3249.0    0.902500  \n",
       "28388057 2019-04-18 08:57:49.989240         110.0    0.030556  \n",
       "24540533 2019-04-18 09:08:45.657779         656.0    0.182222  "
      ]
     },
     "execution_count": 42,
     "metadata": {},
     "output_type": "execute_result"
    }
   ],
   "source": [
    "auc_clean['hs_to_next'] = (auc_clean['secs_to_next'] ).transform(lambda x: x/(60*60))\n",
    "auc_clean.head()"
   ]
  },
  {
   "cell_type": "code",
   "execution_count": 46,
   "metadata": {},
   "outputs": [
    {
     "data": {
      "text/plain": [
       "186964"
      ]
     },
     "execution_count": 46,
     "metadata": {},
     "output_type": "execute_result"
    }
   ],
   "source": [
    "auc_clean['n'].sum()"
   ]
  },
  {
   "cell_type": "code",
   "execution_count": 47,
   "metadata": {},
   "outputs": [
    {
     "data": {
      "text/plain": [
       "Timestamp('2019-04-18 00:00:05.039826')"
      ]
     },
     "execution_count": 47,
     "metadata": {},
     "output_type": "execute_result"
    }
   ],
   "source": [
    "auc_clean['date'].min()"
   ]
  },
  {
   "cell_type": "code",
   "execution_count": 48,
   "metadata": {},
   "outputs": [
    {
     "data": {
      "text/plain": [
       "Timestamp('2019-04-26 23:59:57.384860')"
      ]
     },
     "execution_count": 48,
     "metadata": {},
     "output_type": "execute_result"
    }
   ],
   "source": [
    "auc_clean['date'].max()"
   ]
  },
  {
   "cell_type": "markdown",
   "metadata": {},
   "source": [
    "# Armado de features"
   ]
  },
  {
   "cell_type": "code",
   "execution_count": 66,
   "metadata": {},
   "outputs": [
    {
     "data": {
      "text/html": [
       "<div>\n",
       "<style scoped>\n",
       "    .dataframe tbody tr th:only-of-type {\n",
       "        vertical-align: middle;\n",
       "    }\n",
       "\n",
       "    .dataframe tbody tr th {\n",
       "        vertical-align: top;\n",
       "    }\n",
       "\n",
       "    .dataframe thead th {\n",
       "        text-align: right;\n",
       "    }\n",
       "</style>\n",
       "<table border=\"1\" class=\"dataframe\">\n",
       "  <thead>\n",
       "    <tr style=\"text-align: right;\">\n",
       "      <th></th>\n",
       "      <th>max_date</th>\n",
       "      <th>min_date</th>\n",
       "      <th>n</th>\n",
       "    </tr>\n",
       "    <tr>\n",
       "      <th>window_nr</th>\n",
       "      <th></th>\n",
       "      <th></th>\n",
       "      <th></th>\n",
       "    </tr>\n",
       "  </thead>\n",
       "  <tbody>\n",
       "    <tr>\n",
       "      <th>1</th>\n",
       "      <td>2019-04-21</td>\n",
       "      <td>2019-04-18</td>\n",
       "      <td>1</td>\n",
       "    </tr>\n",
       "    <tr>\n",
       "      <th>2</th>\n",
       "      <td>2019-04-22</td>\n",
       "      <td>2019-04-18</td>\n",
       "      <td>1</td>\n",
       "    </tr>\n",
       "    <tr>\n",
       "      <th>3</th>\n",
       "      <td>2019-04-23</td>\n",
       "      <td>2019-04-18</td>\n",
       "      <td>1</td>\n",
       "    </tr>\n",
       "    <tr>\n",
       "      <th>4</th>\n",
       "      <td>2019-04-24</td>\n",
       "      <td>2019-04-18</td>\n",
       "      <td>1</td>\n",
       "    </tr>\n",
       "  </tbody>\n",
       "</table>\n",
       "</div>"
      ],
      "text/plain": [
       "            max_date   min_date  n\n",
       "window_nr                         \n",
       "1         2019-04-21 2019-04-18  1\n",
       "2         2019-04-22 2019-04-18  1\n",
       "3         2019-04-23 2019-04-18  1\n",
       "4         2019-04-24 2019-04-18  1"
      ]
     },
     "execution_count": 66,
     "metadata": {},
     "output_type": "execute_result"
    }
   ],
   "source": [
    "windows.set_index('window_nr')"
   ]
  },
  {
   "cell_type": "markdown",
   "metadata": {},
   "source": [
    "## Rearmado de ventanas"
   ]
  },
  {
   "cell_type": "code",
   "execution_count": 69,
   "metadata": {},
   "outputs": [
    {
     "data": {
      "text/html": [
       "<div>\n",
       "<style scoped>\n",
       "    .dataframe tbody tr th:only-of-type {\n",
       "        vertical-align: middle;\n",
       "    }\n",
       "\n",
       "    .dataframe tbody tr th {\n",
       "        vertical-align: top;\n",
       "    }\n",
       "\n",
       "    .dataframe thead th {\n",
       "        text-align: right;\n",
       "    }\n",
       "</style>\n",
       "<table border=\"1\" class=\"dataframe\">\n",
       "  <thead>\n",
       "    <tr style=\"text-align: right;\">\n",
       "      <th></th>\n",
       "      <th>max_date</th>\n",
       "      <th>min_date</th>\n",
       "      <th>n</th>\n",
       "      <th>window_nr</th>\n",
       "    </tr>\n",
       "  </thead>\n",
       "  <tbody>\n",
       "    <tr>\n",
       "      <th>0</th>\n",
       "      <td>2019-04-20</td>\n",
       "      <td>2019-04-18</td>\n",
       "      <td>1</td>\n",
       "      <td>1</td>\n",
       "    </tr>\n",
       "    <tr>\n",
       "      <th>1</th>\n",
       "      <td>2019-04-21</td>\n",
       "      <td>2019-04-19</td>\n",
       "      <td>1</td>\n",
       "      <td>2</td>\n",
       "    </tr>\n",
       "    <tr>\n",
       "      <th>2</th>\n",
       "      <td>2019-04-22</td>\n",
       "      <td>2019-04-20</td>\n",
       "      <td>1</td>\n",
       "      <td>3</td>\n",
       "    </tr>\n",
       "    <tr>\n",
       "      <th>3</th>\n",
       "      <td>2019-04-23</td>\n",
       "      <td>2019-04-21</td>\n",
       "      <td>1</td>\n",
       "      <td>4</td>\n",
       "    </tr>\n",
       "  </tbody>\n",
       "</table>\n",
       "</div>"
      ],
      "text/plain": [
       "    max_date   min_date  n  window_nr\n",
       "0 2019-04-20 2019-04-18  1          1\n",
       "1 2019-04-21 2019-04-19  1          2\n",
       "2 2019-04-22 2019-04-20  1          3\n",
       "3 2019-04-23 2019-04-21  1          4"
      ]
     },
     "execution_count": 69,
     "metadata": {},
     "output_type": "execute_result"
    }
   ],
   "source": [
    "windows2 = pd.DataFrame({\n",
    "'window_nr':[1,2,3,4],\n",
    "'n': 1,\n",
    "'min_date': [dt.datetime(2019,4,18),dt.datetime(2019,4,19),dt.datetime(2019,4,20),dt.datetime(2019,4,21)],\n",
    "'max_date': [dt.datetime(2019,4,20),dt.datetime(2019,4,21),dt.datetime(2019,4,22),dt.datetime(2019,4,23)]\n",
    "})\n",
    "windows2"
   ]
  },
  {
   "cell_type": "code",
   "execution_count": 70,
   "metadata": {},
   "outputs": [
    {
     "data": {
      "text/plain": [
       "Timestamp('2019-04-21 00:00:00')"
      ]
     },
     "execution_count": 70,
     "metadata": {},
     "output_type": "execute_result"
    }
   ],
   "source": [
    "cutoff_date = windows.set_index('window_nr').loc[1,'max_date']\n",
    "cutoff_date"
   ]
  },
  {
   "cell_type": "code",
   "execution_count": 74,
   "metadata": {},
   "outputs": [
    {
     "data": {
      "text/plain": [
       "date            61251\n",
       "ref_hash        61251\n",
       "ref_type        61251\n",
       "source_id       61251\n",
       "n               61251\n",
       "next_date       61105\n",
       "secs_to_next    61105\n",
       "hs_to_next      61105\n",
       "dtype: int64"
      ]
     },
     "execution_count": 74,
     "metadata": {},
     "output_type": "execute_result"
    }
   ],
   "source": [
    "train_auctions = auc_clean.loc[auctions['date'] < cutoff_date]\n",
    "train_auctions.head(3)\n",
    "train_auctions.count()"
   ]
  },
  {
   "cell_type": "code",
   "execution_count": 73,
   "metadata": {},
   "outputs": [
    {
     "data": {
      "text/plain": [
       "8218"
      ]
     },
     "execution_count": 73,
     "metadata": {},
     "output_type": "execute_result"
    }
   ],
   "source": [
    "#Veo cuantos device tengo para el 'train_auctions'\n",
    "devices = train_auctions[device_uuid].drop_duplicates()\n",
    "devices['ref_hash'].count()"
   ]
  },
  {
   "cell_type": "code",
   "execution_count": 99,
   "metadata": {},
   "outputs": [
    {
     "data": {
      "text/plain": [
       "26464.76923076923"
      ]
     },
     "execution_count": 99,
     "metadata": {},
     "output_type": "execute_result"
    }
   ],
   "source": [
    "#train_auctions[train_auctions['ref_hash'] == 2125435237741841]#13\n",
    "train_auctions.groupby(by='ref_hash')['secs_to_next'].sum().loc[2125435237741841,]/13#344042.0"
   ]
  },
  {
   "cell_type": "code",
   "execution_count": 117,
   "metadata": {},
   "outputs": [
    {
     "data": {
      "text/html": [
       "<div>\n",
       "<style scoped>\n",
       "    .dataframe tbody tr th:only-of-type {\n",
       "        vertical-align: middle;\n",
       "    }\n",
       "\n",
       "    .dataframe tbody tr th {\n",
       "        vertical-align: top;\n",
       "    }\n",
       "\n",
       "    .dataframe thead th {\n",
       "        text-align: right;\n",
       "    }\n",
       "</style>\n",
       "<table border=\"1\" class=\"dataframe\">\n",
       "  <thead>\n",
       "    <tr style=\"text-align: right;\">\n",
       "      <th></th>\n",
       "      <th>date</th>\n",
       "      <th>ref_hash</th>\n",
       "      <th>ref_type</th>\n",
       "      <th>source_id</th>\n",
       "      <th>n</th>\n",
       "      <th>next_date</th>\n",
       "      <th>secs_to_next</th>\n",
       "      <th>hs_to_next</th>\n",
       "    </tr>\n",
       "  </thead>\n",
       "  <tbody>\n",
       "    <tr>\n",
       "      <th>11788129</th>\n",
       "      <td>2019-04-18 02:41:21.514671</td>\n",
       "      <td>2125435237741841</td>\n",
       "      <td>1</td>\n",
       "      <td>1</td>\n",
       "      <td>1</td>\n",
       "      <td>2019-04-18 07:46:13.565484</td>\n",
       "      <td>18292.0</td>\n",
       "      <td>5.081111</td>\n",
       "    </tr>\n",
       "    <tr>\n",
       "      <th>24648745</th>\n",
       "      <td>2019-04-18 07:46:13.565484</td>\n",
       "      <td>2125435237741841</td>\n",
       "      <td>1</td>\n",
       "      <td>3</td>\n",
       "      <td>1</td>\n",
       "      <td>2019-04-18 08:01:50.872944</td>\n",
       "      <td>937.0</td>\n",
       "      <td>0.260278</td>\n",
       "    </tr>\n",
       "    <tr>\n",
       "      <th>24545467</th>\n",
       "      <td>2019-04-18 08:01:50.872944</td>\n",
       "      <td>2125435237741841</td>\n",
       "      <td>1</td>\n",
       "      <td>1</td>\n",
       "      <td>1</td>\n",
       "      <td>2019-04-18 08:55:59.808056</td>\n",
       "      <td>3249.0</td>\n",
       "      <td>0.902500</td>\n",
       "    </tr>\n",
       "    <tr>\n",
       "      <th>28388057</th>\n",
       "      <td>2019-04-18 08:55:59.808056</td>\n",
       "      <td>2125435237741841</td>\n",
       "      <td>1</td>\n",
       "      <td>1</td>\n",
       "      <td>1</td>\n",
       "      <td>2019-04-18 08:57:49.989240</td>\n",
       "      <td>110.0</td>\n",
       "      <td>0.030556</td>\n",
       "    </tr>\n",
       "    <tr>\n",
       "      <th>24540533</th>\n",
       "      <td>2019-04-18 08:57:49.989240</td>\n",
       "      <td>2125435237741841</td>\n",
       "      <td>1</td>\n",
       "      <td>1</td>\n",
       "      <td>1</td>\n",
       "      <td>2019-04-18 09:08:45.657779</td>\n",
       "      <td>656.0</td>\n",
       "      <td>0.182222</td>\n",
       "    </tr>\n",
       "  </tbody>\n",
       "</table>\n",
       "</div>"
      ],
      "text/plain": [
       "                               date          ref_hash  ref_type  source_id  n  \\\n",
       "11788129 2019-04-18 02:41:21.514671  2125435237741841         1          1  1   \n",
       "24648745 2019-04-18 07:46:13.565484  2125435237741841         1          3  1   \n",
       "24545467 2019-04-18 08:01:50.872944  2125435237741841         1          1  1   \n",
       "28388057 2019-04-18 08:55:59.808056  2125435237741841         1          1  1   \n",
       "24540533 2019-04-18 08:57:49.989240  2125435237741841         1          1  1   \n",
       "\n",
       "                          next_date  secs_to_next  hs_to_next  \n",
       "11788129 2019-04-18 07:46:13.565484       18292.0    5.081111  \n",
       "24648745 2019-04-18 08:01:50.872944         937.0    0.260278  \n",
       "24545467 2019-04-18 08:55:59.808056        3249.0    0.902500  \n",
       "28388057 2019-04-18 08:57:49.989240         110.0    0.030556  \n",
       "24540533 2019-04-18 09:08:45.657779         656.0    0.182222  "
      ]
     },
     "execution_count": 117,
     "metadata": {},
     "output_type": "execute_result"
    }
   ],
   "source": [
    "train_auctions.head()"
   ]
  },
  {
   "cell_type": "code",
   "execution_count": 120,
   "metadata": {},
   "outputs": [],
   "source": [
    "#Se desea saber el tiempo promedio entre arribos de los dispositivos a las encuestas.\n",
    "temp = train_auctions.groupby(device_uuid, as_index='False')['secs_to_next'].mean().to_frame()['secs_to_next']\n",
    "temp.columns = ['secs_to_next_mean']"
   ]
  },
  {
   "cell_type": "code",
   "execution_count": 141,
   "metadata": {},
   "outputs": [
    {
     "data": {
      "text/html": [
       "<div>\n",
       "<style scoped>\n",
       "    .dataframe tbody tr th:only-of-type {\n",
       "        vertical-align: middle;\n",
       "    }\n",
       "\n",
       "    .dataframe tbody tr th {\n",
       "        vertical-align: top;\n",
       "    }\n",
       "\n",
       "    .dataframe thead th {\n",
       "        text-align: right;\n",
       "    }\n",
       "</style>\n",
       "<table border=\"1\" class=\"dataframe\">\n",
       "  <thead>\n",
       "    <tr style=\"text-align: right;\">\n",
       "      <th></th>\n",
       "      <th>date</th>\n",
       "      <th>ref_hash</th>\n",
       "      <th>ref_type</th>\n",
       "      <th>source_id</th>\n",
       "      <th>n</th>\n",
       "      <th>next_date</th>\n",
       "      <th>secs_to_next</th>\n",
       "      <th>hs_to_next</th>\n",
       "      <th>secs_to_next_mean</th>\n",
       "    </tr>\n",
       "  </thead>\n",
       "  <tbody>\n",
       "    <tr>\n",
       "      <th>0</th>\n",
       "      <td>2019-04-18 02:41:21.514671</td>\n",
       "      <td>2125435237741841</td>\n",
       "      <td>1</td>\n",
       "      <td>1</td>\n",
       "      <td>1</td>\n",
       "      <td>2019-04-18 07:46:13.565484</td>\n",
       "      <td>18292.0</td>\n",
       "      <td>5.081111</td>\n",
       "      <td>26464.769231</td>\n",
       "    </tr>\n",
       "    <tr>\n",
       "      <th>1</th>\n",
       "      <td>2019-04-18 07:46:13.565484</td>\n",
       "      <td>2125435237741841</td>\n",
       "      <td>1</td>\n",
       "      <td>3</td>\n",
       "      <td>1</td>\n",
       "      <td>2019-04-18 08:01:50.872944</td>\n",
       "      <td>937.0</td>\n",
       "      <td>0.260278</td>\n",
       "      <td>26464.769231</td>\n",
       "    </tr>\n",
       "    <tr>\n",
       "      <th>2</th>\n",
       "      <td>2019-04-18 08:01:50.872944</td>\n",
       "      <td>2125435237741841</td>\n",
       "      <td>1</td>\n",
       "      <td>1</td>\n",
       "      <td>1</td>\n",
       "      <td>2019-04-18 08:55:59.808056</td>\n",
       "      <td>3249.0</td>\n",
       "      <td>0.902500</td>\n",
       "      <td>26464.769231</td>\n",
       "    </tr>\n",
       "    <tr>\n",
       "      <th>3</th>\n",
       "      <td>2019-04-18 08:55:59.808056</td>\n",
       "      <td>2125435237741841</td>\n",
       "      <td>1</td>\n",
       "      <td>1</td>\n",
       "      <td>1</td>\n",
       "      <td>2019-04-18 08:57:49.989240</td>\n",
       "      <td>110.0</td>\n",
       "      <td>0.030556</td>\n",
       "      <td>26464.769231</td>\n",
       "    </tr>\n",
       "    <tr>\n",
       "      <th>4</th>\n",
       "      <td>2019-04-18 08:57:49.989240</td>\n",
       "      <td>2125435237741841</td>\n",
       "      <td>1</td>\n",
       "      <td>1</td>\n",
       "      <td>1</td>\n",
       "      <td>2019-04-18 09:08:45.657779</td>\n",
       "      <td>656.0</td>\n",
       "      <td>0.182222</td>\n",
       "      <td>26464.769231</td>\n",
       "    </tr>\n",
       "  </tbody>\n",
       "</table>\n",
       "</div>"
      ],
      "text/plain": [
       "                        date          ref_hash  ref_type  source_id  n  \\\n",
       "0 2019-04-18 02:41:21.514671  2125435237741841         1          1  1   \n",
       "1 2019-04-18 07:46:13.565484  2125435237741841         1          3  1   \n",
       "2 2019-04-18 08:01:50.872944  2125435237741841         1          1  1   \n",
       "3 2019-04-18 08:55:59.808056  2125435237741841         1          1  1   \n",
       "4 2019-04-18 08:57:49.989240  2125435237741841         1          1  1   \n",
       "\n",
       "                   next_date  secs_to_next  hs_to_next  secs_to_next_mean  \n",
       "0 2019-04-18 07:46:13.565484       18292.0    5.081111       26464.769231  \n",
       "1 2019-04-18 08:01:50.872944         937.0    0.260278       26464.769231  \n",
       "2 2019-04-18 08:55:59.808056        3249.0    0.902500       26464.769231  \n",
       "3 2019-04-18 08:57:49.989240         110.0    0.030556       26464.769231  \n",
       "4 2019-04-18 09:08:45.657779         656.0    0.182222       26464.769231  "
      ]
     },
     "execution_count": 141,
     "metadata": {},
     "output_type": "execute_result"
    }
   ],
   "source": [
    "train_auc = train_auctions.merge(temp,how='inner',on='ref_hash')\n",
    "train_auc\n",
    "train_auc = train_auc.rename(index=str,columns= {\"secs_to_next_x\":\"secs_to_next\",'secs_to_next_y':'secs_to_next_mean'})\n",
    "train_auc.head()"
   ]
  },
  {
   "cell_type": "markdown",
   "metadata": {},
   "source": [
    "# Primer prueba con XGBoost"
   ]
  },
  {
   "cell_type": "code",
   "execution_count": null,
   "metadata": {
    "collapsed": true
   },
   "outputs": [],
   "source": []
  }
 ],
 "metadata": {
  "kernelspec": {
   "display_name": "Python 2",
   "language": "python",
   "name": "python2"
  },
  "language_info": {
   "codemirror_mode": {
    "name": "ipython",
    "version": 2
   },
   "file_extension": ".py",
   "mimetype": "text/x-python",
   "name": "python",
   "nbconvert_exporter": "python",
   "pygments_lexer": "ipython2",
   "version": "2.7.12"
  }
 },
 "nbformat": 4,
 "nbformat_minor": 2
}
