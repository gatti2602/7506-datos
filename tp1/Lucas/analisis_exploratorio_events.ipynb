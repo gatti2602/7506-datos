{
 "cells": [
  {
   "cell_type": "code",
   "execution_count": 1,
   "metadata": {
    "collapsed": true
   },
   "outputs": [],
   "source": [
    "# magic function para hacer que los graficos de matplotlib se renderizen en el notebook.\n",
    "#%matplotlib notebook\n",
    "%matplotlib inline\n",
    "\n",
    "import datetime as datetime\n",
    "import pandas as pd\n",
    "import numpy as np\n",
    "import matplotlib.pyplot as plt"
   ]
  },
  {
   "cell_type": "markdown",
   "metadata": {},
   "source": [
    "date: fecha de cuando el evento sucede<br>\n",
    "event_id: id de evento<br>\n",
    "ref_type: id de publicidad de Google ó apple_ifa ???<br>\n",
    "ref_hash: ...<br>\n",
    "<b>application_id:</b> es el id de la aplicación donde pasó el evento <br>\n",
    "<b>attributed:</b> event de interés(1ra vez o nuevamente) atribuido a Jamp<br>\n",
    "device_countrycode: codigo de país relacionado al dispo<br>\n",
    "device_os_version: os version usada por el dispo<br>\n",
    "device_brand: marca del dispo<br>\n",
    "device_model: modelo del dispo<br>\n",
    "device_city: ciudad donde el evento sucedió(inferido y estimado)<br>\n",
    "session_user_agent: user agent usado donde el evento se produjo<br>\n",
    "trans_id: id de transacción\n",
    "user_agent: user agent relacionado con el dispo<br>\n",
    "event_uuid: uuid4 generado por el evento<br>\n",
    "kind: ???<br>\n",
    "device_os: os usado por el dispo<br>\n",
    "wifi: igual a wifi_connection<br>\n",
    "connection_type: ???<br>\n",
    "ip_address: ...<br>\n",
    "device_language: lenguaje relacionado con el dispo<br>"
   ]
  },
  {
   "cell_type": "code",
   "execution_count": 26,
   "metadata": {},
   "outputs": [],
   "source": [
    "#Events: Eventos que suceden sobre aplicaciones instaladas de clientes de Jampp.\n",
    "events = pd.read_csv('../data2/events.csv.gzip',compression='gzip', dtype='object')"
   ]
  },
  {
   "cell_type": "code",
   "execution_count": 27,
   "metadata": {},
   "outputs": [
    {
     "data": {
      "text/html": [
       "<div>\n",
       "<style scoped>\n",
       "    .dataframe tbody tr th:only-of-type {\n",
       "        vertical-align: middle;\n",
       "    }\n",
       "\n",
       "    .dataframe tbody tr th {\n",
       "        vertical-align: top;\n",
       "    }\n",
       "\n",
       "    .dataframe thead th {\n",
       "        text-align: right;\n",
       "    }\n",
       "</style>\n",
       "<table border=\"1\" class=\"dataframe\">\n",
       "  <thead>\n",
       "    <tr style=\"text-align: right;\">\n",
       "      <th></th>\n",
       "      <th>date</th>\n",
       "      <th>event_id</th>\n",
       "      <th>ref_type</th>\n",
       "      <th>ref_hash</th>\n",
       "      <th>application_id</th>\n",
       "      <th>attributed</th>\n",
       "      <th>device_countrycode</th>\n",
       "      <th>device_os_version</th>\n",
       "      <th>device_brand</th>\n",
       "      <th>device_model</th>\n",
       "      <th>...</th>\n",
       "      <th>trans_id</th>\n",
       "      <th>user_agent</th>\n",
       "      <th>event_uuid</th>\n",
       "      <th>carrier</th>\n",
       "      <th>kind</th>\n",
       "      <th>device_os</th>\n",
       "      <th>wifi</th>\n",
       "      <th>connection_type</th>\n",
       "      <th>ip_address</th>\n",
       "      <th>device_language</th>\n",
       "    </tr>\n",
       "  </thead>\n",
       "  <tbody>\n",
       "    <tr>\n",
       "      <th>0</th>\n",
       "      <td>2019-03-05 00:09:36.966</td>\n",
       "      <td>0</td>\n",
       "      <td>1891515180541284343</td>\n",
       "      <td>2688759737656491380</td>\n",
       "      <td>38</td>\n",
       "      <td>False</td>\n",
       "      <td>6333597102633388268</td>\n",
       "      <td>5.908703034097298e+17</td>\n",
       "      <td>NaN</td>\n",
       "      <td>5.990116681709081e+18</td>\n",
       "      <td>...</td>\n",
       "      <td>NaN</td>\n",
       "      <td>NaN</td>\n",
       "      <td>a9c0b263-acb2-4577-92c5-cbde5d7a5db1</td>\n",
       "      <td>2.2481569642543155e+17</td>\n",
       "      <td>5.516623012570946e+18</td>\n",
       "      <td>7.531669329342818e+18</td>\n",
       "      <td>NaN</td>\n",
       "      <td>Cable/DSL</td>\n",
       "      <td>7858558567428669000</td>\n",
       "      <td>4.077062198952597e+17</td>\n",
       "    </tr>\n",
       "    <tr>\n",
       "      <th>1</th>\n",
       "      <td>2019-03-05 00:09:38.920</td>\n",
       "      <td>1</td>\n",
       "      <td>1891515180541284343</td>\n",
       "      <td>2688759737656491380</td>\n",
       "      <td>38</td>\n",
       "      <td>False</td>\n",
       "      <td>6333597102633388268</td>\n",
       "      <td>5.908703034097298e+17</td>\n",
       "      <td>NaN</td>\n",
       "      <td>5.990116681709081e+18</td>\n",
       "      <td>...</td>\n",
       "      <td>NaN</td>\n",
       "      <td>NaN</td>\n",
       "      <td>1cd98205-0d97-4ec2-a019-667997dbfe7a</td>\n",
       "      <td>2.2481569642543155e+17</td>\n",
       "      <td>9.977660181316936e+17</td>\n",
       "      <td>7.531669329342818e+18</td>\n",
       "      <td>NaN</td>\n",
       "      <td>Cable/DSL</td>\n",
       "      <td>7858558567428669000</td>\n",
       "      <td>4.077062198952597e+17</td>\n",
       "    </tr>\n",
       "  </tbody>\n",
       "</table>\n",
       "<p>2 rows × 22 columns</p>\n",
       "</div>"
      ],
      "text/plain": [
       "                      date event_id             ref_type             ref_hash  \\\n",
       "0  2019-03-05 00:09:36.966        0  1891515180541284343  2688759737656491380   \n",
       "1  2019-03-05 00:09:38.920        1  1891515180541284343  2688759737656491380   \n",
       "\n",
       "  application_id attributed   device_countrycode      device_os_version  \\\n",
       "0             38      False  6333597102633388268  5.908703034097298e+17   \n",
       "1             38      False  6333597102633388268  5.908703034097298e+17   \n",
       "\n",
       "  device_brand           device_model  ... trans_id user_agent  \\\n",
       "0          NaN  5.990116681709081e+18  ...      NaN        NaN   \n",
       "1          NaN  5.990116681709081e+18  ...      NaN        NaN   \n",
       "\n",
       "                             event_uuid                 carrier  \\\n",
       "0  a9c0b263-acb2-4577-92c5-cbde5d7a5db1  2.2481569642543155e+17   \n",
       "1  1cd98205-0d97-4ec2-a019-667997dbfe7a  2.2481569642543155e+17   \n",
       "\n",
       "                    kind              device_os wifi connection_type  \\\n",
       "0  5.516623012570946e+18  7.531669329342818e+18  NaN       Cable/DSL   \n",
       "1  9.977660181316936e+17  7.531669329342818e+18  NaN       Cable/DSL   \n",
       "\n",
       "            ip_address        device_language  \n",
       "0  7858558567428669000  4.077062198952597e+17  \n",
       "1  7858558567428669000  4.077062198952597e+17  \n",
       "\n",
       "[2 rows x 22 columns]"
      ]
     },
     "execution_count": 27,
     "metadata": {},
     "output_type": "execute_result"
    }
   ],
   "source": [
    "# Qué tipo de eventos existen ?\n",
    "events.head(2)"
   ]
  },
  {
   "cell_type": "code",
   "execution_count": 28,
   "metadata": {},
   "outputs": [
    {
     "data": {
      "text/html": [
       "<div>\n",
       "<style scoped>\n",
       "    .dataframe tbody tr th:only-of-type {\n",
       "        vertical-align: middle;\n",
       "    }\n",
       "\n",
       "    .dataframe tbody tr th {\n",
       "        vertical-align: top;\n",
       "    }\n",
       "\n",
       "    .dataframe thead th {\n",
       "        text-align: right;\n",
       "    }\n",
       "</style>\n",
       "<table border=\"1\" class=\"dataframe\">\n",
       "  <thead>\n",
       "    <tr style=\"text-align: right;\">\n",
       "      <th></th>\n",
       "      <th>date</th>\n",
       "      <th>event_id</th>\n",
       "      <th>ref_type</th>\n",
       "      <th>ref_hash</th>\n",
       "      <th>application_id</th>\n",
       "      <th>attributed</th>\n",
       "      <th>device_countrycode</th>\n",
       "      <th>device_os_version</th>\n",
       "      <th>device_brand</th>\n",
       "      <th>device_model</th>\n",
       "      <th>...</th>\n",
       "      <th>trans_id</th>\n",
       "      <th>user_agent</th>\n",
       "      <th>event_uuid</th>\n",
       "      <th>carrier</th>\n",
       "      <th>kind</th>\n",
       "      <th>device_os</th>\n",
       "      <th>wifi</th>\n",
       "      <th>connection_type</th>\n",
       "      <th>ip_address</th>\n",
       "      <th>device_language</th>\n",
       "    </tr>\n",
       "  </thead>\n",
       "  <tbody>\n",
       "    <tr>\n",
       "      <th>count</th>\n",
       "      <td>2494423</td>\n",
       "      <td>2494423</td>\n",
       "      <td>2494423</td>\n",
       "      <td>2494423</td>\n",
       "      <td>2494423</td>\n",
       "      <td>2494423</td>\n",
       "      <td>2494423</td>\n",
       "      <td>1022066</td>\n",
       "      <td>1164963</td>\n",
       "      <td>2406456</td>\n",
       "      <td>...</td>\n",
       "      <td>82</td>\n",
       "      <td>1391527</td>\n",
       "      <td>2489324</td>\n",
       "      <td>616434</td>\n",
       "      <td>2489324</td>\n",
       "      <td>657667</td>\n",
       "      <td>1378872</td>\n",
       "      <td>612463</td>\n",
       "      <td>2494423</td>\n",
       "      <td>2406604</td>\n",
       "    </tr>\n",
       "    <tr>\n",
       "      <th>unique</th>\n",
       "      <td>2488829</td>\n",
       "      <td>568</td>\n",
       "      <td>2</td>\n",
       "      <td>196049</td>\n",
       "      <td>269</td>\n",
       "      <td>2</td>\n",
       "      <td>1</td>\n",
       "      <td>81</td>\n",
       "      <td>250</td>\n",
       "      <td>2624</td>\n",
       "      <td>...</td>\n",
       "      <td>13</td>\n",
       "      <td>5111</td>\n",
       "      <td>2489324</td>\n",
       "      <td>84</td>\n",
       "      <td>583</td>\n",
       "      <td>4</td>\n",
       "      <td>2</td>\n",
       "      <td>3</td>\n",
       "      <td>285212</td>\n",
       "      <td>186</td>\n",
       "    </tr>\n",
       "    <tr>\n",
       "      <th>top</th>\n",
       "      <td>2019-03-12 22:03:19.213</td>\n",
       "      <td>22</td>\n",
       "      <td>1891515180541284343</td>\n",
       "      <td>7823950631004872496</td>\n",
       "      <td>66</td>\n",
       "      <td>False</td>\n",
       "      <td>6333597102633388268</td>\n",
       "      <td>4.3537503246500966e+18</td>\n",
       "      <td>3.083058605577787e+17</td>\n",
       "      <td>2.33194661091417e+18</td>\n",
       "      <td>...</td>\n",
       "      <td>{hash}</td>\n",
       "      <td>2.394269162455642e+18</td>\n",
       "      <td>f3277538-2a0d-46ce-97bd-c5a65f2c675b</td>\n",
       "      <td>2.2481569642543155e+17</td>\n",
       "      <td>5.500848327478996e+18</td>\n",
       "      <td>7.531669329342818e+18</td>\n",
       "      <td>true</td>\n",
       "      <td>Cable/DSL</td>\n",
       "      <td>1992632945768888579</td>\n",
       "      <td>6.977049253562486e+18</td>\n",
       "    </tr>\n",
       "    <tr>\n",
       "      <th>freq</th>\n",
       "      <td>3</td>\n",
       "      <td>618228</td>\n",
       "      <td>1882743</td>\n",
       "      <td>2913</td>\n",
       "      <td>325696</td>\n",
       "      <td>2489324</td>\n",
       "      <td>2494423</td>\n",
       "      <td>277691</td>\n",
       "      <td>579861</td>\n",
       "      <td>210697</td>\n",
       "      <td>...</td>\n",
       "      <td>33</td>\n",
       "      <td>42325</td>\n",
       "      <td>1</td>\n",
       "      <td>436983</td>\n",
       "      <td>618217</td>\n",
       "      <td>389811</td>\n",
       "      <td>930902</td>\n",
       "      <td>331948</td>\n",
       "      <td>22640</td>\n",
       "      <td>745898</td>\n",
       "    </tr>\n",
       "  </tbody>\n",
       "</table>\n",
       "<p>4 rows × 22 columns</p>\n",
       "</div>"
      ],
      "text/plain": [
       "                           date event_id             ref_type  \\\n",
       "count                   2494423  2494423              2494423   \n",
       "unique                  2488829      568                    2   \n",
       "top     2019-03-12 22:03:19.213       22  1891515180541284343   \n",
       "freq                          3   618228              1882743   \n",
       "\n",
       "                   ref_hash application_id attributed   device_countrycode  \\\n",
       "count               2494423        2494423    2494423              2494423   \n",
       "unique               196049            269          2                    1   \n",
       "top     7823950631004872496             66      False  6333597102633388268   \n",
       "freq                   2913         325696    2489324              2494423   \n",
       "\n",
       "             device_os_version           device_brand          device_model  \\\n",
       "count                  1022066                1164963               2406456   \n",
       "unique                      81                    250                  2624   \n",
       "top     4.3537503246500966e+18  3.083058605577787e+17  2.33194661091417e+18   \n",
       "freq                    277691                 579861                210697   \n",
       "\n",
       "        ... trans_id             user_agent  \\\n",
       "count   ...       82                1391527   \n",
       "unique  ...       13                   5111   \n",
       "top     ...   {hash}  2.394269162455642e+18   \n",
       "freq    ...       33                  42325   \n",
       "\n",
       "                                  event_uuid                 carrier  \\\n",
       "count                                2489324                  616434   \n",
       "unique                               2489324                      84   \n",
       "top     f3277538-2a0d-46ce-97bd-c5a65f2c675b  2.2481569642543155e+17   \n",
       "freq                                       1                  436983   \n",
       "\n",
       "                         kind              device_os     wifi connection_type  \\\n",
       "count                 2489324                 657667  1378872          612463   \n",
       "unique                    583                      4        2               3   \n",
       "top     5.500848327478996e+18  7.531669329342818e+18     true       Cable/DSL   \n",
       "freq                   618217                 389811   930902          331948   \n",
       "\n",
       "                 ip_address        device_language  \n",
       "count               2494423                2406604  \n",
       "unique               285212                    186  \n",
       "top     1992632945768888579  6.977049253562486e+18  \n",
       "freq                  22640                 745898  \n",
       "\n",
       "[4 rows x 22 columns]"
      ]
     },
     "execution_count": 28,
     "metadata": {},
     "output_type": "execute_result"
    }
   ],
   "source": [
    "#Qué tipo de eventos existen?\n",
    "events.describe()"
   ]
  },
  {
   "cell_type": "code",
   "execution_count": 45,
   "metadata": {
    "collapsed": true
   },
   "outputs": [],
   "source": [
    "#borramos los datos que no vamos a usar\n",
    "eve = events.drop(['device_countrycode','device_os_version','device_city','device_brand','device_model','user_agent','device_os','wifi','connection_type','ip_address','device_language','trans_id','carrier'],axis='columns',inplace=False)"
   ]
  },
  {
   "cell_type": "code",
   "execution_count": 46,
   "metadata": {},
   "outputs": [
    {
     "data": {
      "text/html": [
       "<div>\n",
       "<style scoped>\n",
       "    .dataframe tbody tr th:only-of-type {\n",
       "        vertical-align: middle;\n",
       "    }\n",
       "\n",
       "    .dataframe tbody tr th {\n",
       "        vertical-align: top;\n",
       "    }\n",
       "\n",
       "    .dataframe thead th {\n",
       "        text-align: right;\n",
       "    }\n",
       "</style>\n",
       "<table border=\"1\" class=\"dataframe\">\n",
       "  <thead>\n",
       "    <tr style=\"text-align: right;\">\n",
       "      <th></th>\n",
       "      <th>date</th>\n",
       "      <th>event_id</th>\n",
       "      <th>ref_type</th>\n",
       "      <th>ref_hash</th>\n",
       "      <th>application_id</th>\n",
       "      <th>attributed</th>\n",
       "      <th>session_user_agent</th>\n",
       "      <th>event_uuid</th>\n",
       "      <th>kind</th>\n",
       "    </tr>\n",
       "  </thead>\n",
       "  <tbody>\n",
       "    <tr>\n",
       "      <th>0</th>\n",
       "      <td>2019-03-05 00:09:36.966</td>\n",
       "      <td>0</td>\n",
       "      <td>1891515180541284343</td>\n",
       "      <td>2688759737656491380</td>\n",
       "      <td>38</td>\n",
       "      <td>False</td>\n",
       "      <td>7.164321382499455e+18</td>\n",
       "      <td>a9c0b263-acb2-4577-92c5-cbde5d7a5db1</td>\n",
       "      <td>5.516623012570946e+18</td>\n",
       "    </tr>\n",
       "    <tr>\n",
       "      <th>1</th>\n",
       "      <td>2019-03-05 00:09:38.920</td>\n",
       "      <td>1</td>\n",
       "      <td>1891515180541284343</td>\n",
       "      <td>2688759737656491380</td>\n",
       "      <td>38</td>\n",
       "      <td>False</td>\n",
       "      <td>7.164321382499455e+18</td>\n",
       "      <td>1cd98205-0d97-4ec2-a019-667997dbfe7a</td>\n",
       "      <td>9.977660181316936e+17</td>\n",
       "    </tr>\n",
       "    <tr>\n",
       "      <th>2</th>\n",
       "      <td>2019-03-05 00:09:26.195</td>\n",
       "      <td>0</td>\n",
       "      <td>1891515180541284343</td>\n",
       "      <td>2688759737656491380</td>\n",
       "      <td>38</td>\n",
       "      <td>False</td>\n",
       "      <td>7.164321382499455e+18</td>\n",
       "      <td>f02e2924-21ae-492b-b625-9021ae0a4eca</td>\n",
       "      <td>5.516623012570946e+18</td>\n",
       "    </tr>\n",
       "  </tbody>\n",
       "</table>\n",
       "</div>"
      ],
      "text/plain": [
       "                      date event_id             ref_type             ref_hash  \\\n",
       "0  2019-03-05 00:09:36.966        0  1891515180541284343  2688759737656491380   \n",
       "1  2019-03-05 00:09:38.920        1  1891515180541284343  2688759737656491380   \n",
       "2  2019-03-05 00:09:26.195        0  1891515180541284343  2688759737656491380   \n",
       "\n",
       "  application_id attributed     session_user_agent  \\\n",
       "0             38      False  7.164321382499455e+18   \n",
       "1             38      False  7.164321382499455e+18   \n",
       "2             38      False  7.164321382499455e+18   \n",
       "\n",
       "                             event_uuid                   kind  \n",
       "0  a9c0b263-acb2-4577-92c5-cbde5d7a5db1  5.516623012570946e+18  \n",
       "1  1cd98205-0d97-4ec2-a019-667997dbfe7a  9.977660181316936e+17  \n",
       "2  f02e2924-21ae-492b-b625-9021ae0a4eca  5.516623012570946e+18  "
      ]
     },
     "execution_count": 46,
     "metadata": {},
     "output_type": "execute_result"
    }
   ],
   "source": [
    "eve.head(3)"
   ]
  },
  {
   "cell_type": "code",
   "execution_count": 41,
   "metadata": {},
   "outputs": [
    {
     "data": {
      "text/plain": [
       "13"
      ]
     },
     "execution_count": 41,
     "metadata": {},
     "output_type": "execute_result"
    }
   ],
   "source": [
    "#Id de transacción\n",
    "len(events.groupby('trans_id').count())"
   ]
  },
  {
   "cell_type": "code",
   "execution_count": 44,
   "metadata": {},
   "outputs": [
    {
     "data": {
      "text/plain": [
       "84"
      ]
     },
     "execution_count": 44,
     "metadata": {},
     "output_type": "execute_result"
    }
   ],
   "source": [
    "#Carrier\n",
    "len(events.groupby('carrier').count())"
   ]
  },
  {
   "cell_type": "code",
   "execution_count": 47,
   "metadata": {},
   "outputs": [
    {
     "data": {
      "text/plain": [
       "583"
      ]
     },
     "execution_count": 47,
     "metadata": {},
     "output_type": "execute_result"
    }
   ],
   "source": [
    "len(events.groupby('kind').count())"
   ]
  },
  {
   "cell_type": "code",
   "execution_count": 32,
   "metadata": {},
   "outputs": [
    {
     "data": {
      "text/plain": [
       "2489324"
      ]
     },
     "execution_count": 32,
     "metadata": {},
     "output_type": "execute_result"
    }
   ],
   "source": [
    "#Cantidad de eventos atribuidos a Jampp: 0\n",
    "eve[(eve['attributed'] == 'False')]['event_uuid'].count()"
   ]
  },
  {
   "cell_type": "code",
   "execution_count": 33,
   "metadata": {},
   "outputs": [
    {
     "data": {
      "text/plain": [
       "0"
      ]
     },
     "execution_count": 33,
     "metadata": {},
     "output_type": "execute_result"
    }
   ],
   "source": [
    "eve[(eve['attributed'] == 'True')]['event_uuid'].count()"
   ]
  },
  {
   "cell_type": "code",
   "execution_count": 34,
   "metadata": {},
   "outputs": [
    {
     "data": {
      "text/plain": [
       "2489324"
      ]
     },
     "execution_count": 34,
     "metadata": {},
     "output_type": "execute_result"
    }
   ],
   "source": [
    "eve['event_uuid'].count()"
   ]
  },
  {
   "cell_type": "code",
   "execution_count": 37,
   "metadata": {},
   "outputs": [
    {
     "data": {
      "text/plain": [
       "568"
      ]
     },
     "execution_count": 37,
     "metadata": {},
     "output_type": "execute_result"
    }
   ],
   "source": [
    "#Cantidad de tipos de eventos\n",
    "len(eve.groupby('event_id').count())"
   ]
  },
  {
   "cell_type": "code",
   "execution_count": 48,
   "metadata": {},
   "outputs": [
    {
     "data": {
      "text/html": [
       "<div>\n",
       "<style scoped>\n",
       "    .dataframe tbody tr th:only-of-type {\n",
       "        vertical-align: middle;\n",
       "    }\n",
       "\n",
       "    .dataframe tbody tr th {\n",
       "        vertical-align: top;\n",
       "    }\n",
       "\n",
       "    .dataframe thead th {\n",
       "        text-align: right;\n",
       "    }\n",
       "</style>\n",
       "<table border=\"1\" class=\"dataframe\">\n",
       "  <thead>\n",
       "    <tr style=\"text-align: right;\">\n",
       "      <th></th>\n",
       "      <th>date</th>\n",
       "      <th>event_id</th>\n",
       "      <th>ref_type</th>\n",
       "      <th>ref_hash</th>\n",
       "      <th>application_id</th>\n",
       "      <th>attributed</th>\n",
       "      <th>session_user_agent</th>\n",
       "      <th>event_uuid</th>\n",
       "      <th>kind</th>\n",
       "    </tr>\n",
       "  </thead>\n",
       "  <tbody>\n",
       "    <tr>\n",
       "      <th>0</th>\n",
       "      <td>2019-03-05 00:09:36.966</td>\n",
       "      <td>0</td>\n",
       "      <td>1891515180541284343</td>\n",
       "      <td>2688759737656491380</td>\n",
       "      <td>38</td>\n",
       "      <td>False</td>\n",
       "      <td>7.164321382499455e+18</td>\n",
       "      <td>a9c0b263-acb2-4577-92c5-cbde5d7a5db1</td>\n",
       "      <td>5.516623012570946e+18</td>\n",
       "    </tr>\n",
       "    <tr>\n",
       "      <th>1</th>\n",
       "      <td>2019-03-05 00:09:38.920</td>\n",
       "      <td>1</td>\n",
       "      <td>1891515180541284343</td>\n",
       "      <td>2688759737656491380</td>\n",
       "      <td>38</td>\n",
       "      <td>False</td>\n",
       "      <td>7.164321382499455e+18</td>\n",
       "      <td>1cd98205-0d97-4ec2-a019-667997dbfe7a</td>\n",
       "      <td>9.977660181316936e+17</td>\n",
       "    </tr>\n",
       "    <tr>\n",
       "      <th>2</th>\n",
       "      <td>2019-03-05 00:09:26.195</td>\n",
       "      <td>0</td>\n",
       "      <td>1891515180541284343</td>\n",
       "      <td>2688759737656491380</td>\n",
       "      <td>38</td>\n",
       "      <td>False</td>\n",
       "      <td>7.164321382499455e+18</td>\n",
       "      <td>f02e2924-21ae-492b-b625-9021ae0a4eca</td>\n",
       "      <td>5.516623012570946e+18</td>\n",
       "    </tr>\n",
       "  </tbody>\n",
       "</table>\n",
       "</div>"
      ],
      "text/plain": [
       "                      date event_id             ref_type             ref_hash  \\\n",
       "0  2019-03-05 00:09:36.966        0  1891515180541284343  2688759737656491380   \n",
       "1  2019-03-05 00:09:38.920        1  1891515180541284343  2688759737656491380   \n",
       "2  2019-03-05 00:09:26.195        0  1891515180541284343  2688759737656491380   \n",
       "\n",
       "  application_id attributed     session_user_agent  \\\n",
       "0             38      False  7.164321382499455e+18   \n",
       "1             38      False  7.164321382499455e+18   \n",
       "2             38      False  7.164321382499455e+18   \n",
       "\n",
       "                             event_uuid                   kind  \n",
       "0  a9c0b263-acb2-4577-92c5-cbde5d7a5db1  5.516623012570946e+18  \n",
       "1  1cd98205-0d97-4ec2-a019-667997dbfe7a  9.977660181316936e+17  \n",
       "2  f02e2924-21ae-492b-b625-9021ae0a4eca  5.516623012570946e+18  "
      ]
     },
     "execution_count": 48,
     "metadata": {},
     "output_type": "execute_result"
    }
   ],
   "source": [
    "#Cómo se distribuyen los usuarios según la cantidad de app de interés\n",
    "#La idea obtener para todos los usuarios, la cantidad de eventos generados y esos eventos a que app corresponde.\n",
    "eve.head(3)"
   ]
  },
  {
   "cell_type": "code",
   "execution_count": 49,
   "metadata": {},
   "outputs": [
    {
     "data": {
      "text/html": [
       "<div>\n",
       "<style scoped>\n",
       "    .dataframe tbody tr th:only-of-type {\n",
       "        vertical-align: middle;\n",
       "    }\n",
       "\n",
       "    .dataframe tbody tr th {\n",
       "        vertical-align: top;\n",
       "    }\n",
       "\n",
       "    .dataframe thead th {\n",
       "        text-align: right;\n",
       "    }\n",
       "</style>\n",
       "<table border=\"1\" class=\"dataframe\">\n",
       "  <thead>\n",
       "    <tr style=\"text-align: right;\">\n",
       "      <th></th>\n",
       "      <th>date</th>\n",
       "      <th>event_id</th>\n",
       "      <th>ref_type</th>\n",
       "      <th>ref_hash</th>\n",
       "      <th>application_id</th>\n",
       "      <th>attributed</th>\n",
       "      <th>session_user_agent</th>\n",
       "      <th>event_uuid</th>\n",
       "      <th>kind</th>\n",
       "    </tr>\n",
       "  </thead>\n",
       "  <tbody>\n",
       "    <tr>\n",
       "      <th>count</th>\n",
       "      <td>2494423</td>\n",
       "      <td>2494423</td>\n",
       "      <td>2494423</td>\n",
       "      <td>2494423</td>\n",
       "      <td>2494423</td>\n",
       "      <td>2494423</td>\n",
       "      <td>2482637</td>\n",
       "      <td>2489324</td>\n",
       "      <td>2489324</td>\n",
       "    </tr>\n",
       "    <tr>\n",
       "      <th>unique</th>\n",
       "      <td>2488829</td>\n",
       "      <td>568</td>\n",
       "      <td>2</td>\n",
       "      <td>196049</td>\n",
       "      <td>269</td>\n",
       "      <td>2</td>\n",
       "      <td>1460</td>\n",
       "      <td>2489324</td>\n",
       "      <td>583</td>\n",
       "    </tr>\n",
       "    <tr>\n",
       "      <th>top</th>\n",
       "      <td>2019-03-12 22:03:19.213</td>\n",
       "      <td>22</td>\n",
       "      <td>1891515180541284343</td>\n",
       "      <td>7823950631004872496</td>\n",
       "      <td>66</td>\n",
       "      <td>False</td>\n",
       "      <td>3.819516403548394e+18</td>\n",
       "      <td>f3277538-2a0d-46ce-97bd-c5a65f2c675b</td>\n",
       "      <td>5.500848327478996e+18</td>\n",
       "    </tr>\n",
       "    <tr>\n",
       "      <th>freq</th>\n",
       "      <td>3</td>\n",
       "      <td>618228</td>\n",
       "      <td>1882743</td>\n",
       "      <td>2913</td>\n",
       "      <td>325696</td>\n",
       "      <td>2489324</td>\n",
       "      <td>1461049</td>\n",
       "      <td>1</td>\n",
       "      <td>618217</td>\n",
       "    </tr>\n",
       "  </tbody>\n",
       "</table>\n",
       "</div>"
      ],
      "text/plain": [
       "                           date event_id             ref_type  \\\n",
       "count                   2494423  2494423              2494423   \n",
       "unique                  2488829      568                    2   \n",
       "top     2019-03-12 22:03:19.213       22  1891515180541284343   \n",
       "freq                          3   618228              1882743   \n",
       "\n",
       "                   ref_hash application_id attributed     session_user_agent  \\\n",
       "count               2494423        2494423    2494423                2482637   \n",
       "unique               196049            269          2                   1460   \n",
       "top     7823950631004872496             66      False  3.819516403548394e+18   \n",
       "freq                   2913         325696    2489324                1461049   \n",
       "\n",
       "                                  event_uuid                   kind  \n",
       "count                                2489324                2489324  \n",
       "unique                               2489324                    583  \n",
       "top     f3277538-2a0d-46ce-97bd-c5a65f2c675b  5.500848327478996e+18  \n",
       "freq                                       1                 618217  "
      ]
     },
     "execution_count": 49,
     "metadata": {},
     "output_type": "execute_result"
    }
   ],
   "source": [
    "#Cómo se relacionan los clicks/eventos/usuarios\n",
    "eve.describe()"
   ]
  },
  {
   "cell_type": "code",
   "execution_count": 72,
   "metadata": {
    "collapsed": true
   },
   "outputs": [],
   "source": [
    "auc = pd.read_csv('../data2/auctions.csv.gzip',compression='gzip', dtype='object')\n",
    "auc = auc[['device_id']]"
   ]
  },
  {
   "cell_type": "code",
   "execution_count": 73,
   "metadata": {},
   "outputs": [
    {
     "data": {
      "text/html": [
       "<div>\n",
       "<style scoped>\n",
       "    .dataframe tbody tr th:only-of-type {\n",
       "        vertical-align: middle;\n",
       "    }\n",
       "\n",
       "    .dataframe tbody tr th {\n",
       "        vertical-align: top;\n",
       "    }\n",
       "\n",
       "    .dataframe thead th {\n",
       "        text-align: right;\n",
       "    }\n",
       "</style>\n",
       "<table border=\"1\" class=\"dataframe\">\n",
       "  <thead>\n",
       "    <tr style=\"text-align: right;\">\n",
       "      <th></th>\n",
       "      <th>device_id</th>\n",
       "    </tr>\n",
       "  </thead>\n",
       "  <tbody>\n",
       "    <tr>\n",
       "      <th>0</th>\n",
       "      <td>6059599345986491085</td>\n",
       "    </tr>\n",
       "    <tr>\n",
       "      <th>1</th>\n",
       "      <td>1115994996230693426</td>\n",
       "    </tr>\n",
       "    <tr>\n",
       "      <th>2</th>\n",
       "      <td>7463856250762200923</td>\n",
       "    </tr>\n",
       "  </tbody>\n",
       "</table>\n",
       "</div>"
      ],
      "text/plain": [
       "             device_id\n",
       "0  6059599345986491085\n",
       "1  1115994996230693426\n",
       "2  7463856250762200923"
      ]
     },
     "execution_count": 73,
     "metadata": {},
     "output_type": "execute_result"
    }
   ],
   "source": [
    "auc.head(3)"
   ]
  },
  {
   "cell_type": "code",
   "execution_count": 151,
   "metadata": {},
   "outputs": [
    {
     "data": {
      "text/html": [
       "<div>\n",
       "<style scoped>\n",
       "    .dataframe tbody tr th:only-of-type {\n",
       "        vertical-align: middle;\n",
       "    }\n",
       "\n",
       "    .dataframe tbody tr th {\n",
       "        vertical-align: top;\n",
       "    }\n",
       "\n",
       "    .dataframe thead th {\n",
       "        text-align: right;\n",
       "    }\n",
       "</style>\n",
       "<table border=\"1\" class=\"dataframe\">\n",
       "  <thead>\n",
       "    <tr style=\"text-align: right;\">\n",
       "      <th></th>\n",
       "      <th>device_id</th>\n",
       "      <th>count</th>\n",
       "    </tr>\n",
       "  </thead>\n",
       "  <tbody>\n",
       "    <tr>\n",
       "      <th>132965</th>\n",
       "      <td>633139769114048761</td>\n",
       "      <td>27762</td>\n",
       "    </tr>\n",
       "  </tbody>\n",
       "</table>\n",
       "</div>"
      ],
      "text/plain": [
       "                 device_id  count\n",
       "132965  633139769114048761  27762"
      ]
     },
     "execution_count": 151,
     "metadata": {},
     "output_type": "execute_result"
    }
   ],
   "source": [
    "#auc\n",
    "auc['count'] = 1\n",
    "auc_app = auc.groupby('device_id',as_index=False).sum().sort_values(by='count',ascending=False)\n",
    "auc_app.head()"
   ]
  },
  {
   "cell_type": "code",
   "execution_count": null,
   "metadata": {
    "collapsed": true
   },
   "outputs": [],
   "source": []
  },
  {
   "cell_type": "code",
   "execution_count": 122,
   "metadata": {},
   "outputs": [
    {
     "data": {
      "text/html": [
       "<div>\n",
       "<style scoped>\n",
       "    .dataframe tbody tr th:only-of-type {\n",
       "        vertical-align: middle;\n",
       "    }\n",
       "\n",
       "    .dataframe tbody tr th {\n",
       "        vertical-align: top;\n",
       "    }\n",
       "\n",
       "    .dataframe thead th {\n",
       "        text-align: right;\n",
       "    }\n",
       "</style>\n",
       "<table border=\"1\" class=\"dataframe\">\n",
       "  <thead>\n",
       "    <tr style=\"text-align: right;\">\n",
       "      <th></th>\n",
       "      <th>ref_hash</th>\n",
       "      <th>application_id</th>\n",
       "      <th>event_id</th>\n",
       "    </tr>\n",
       "  </thead>\n",
       "  <tbody>\n",
       "    <tr>\n",
       "      <th>0</th>\n",
       "      <td>2688759737656491380</td>\n",
       "      <td>38</td>\n",
       "      <td>0</td>\n",
       "    </tr>\n",
       "    <tr>\n",
       "      <th>1</th>\n",
       "      <td>2688759737656491380</td>\n",
       "      <td>38</td>\n",
       "      <td>1</td>\n",
       "    </tr>\n",
       "    <tr>\n",
       "      <th>2</th>\n",
       "      <td>2688759737656491380</td>\n",
       "      <td>38</td>\n",
       "      <td>0</td>\n",
       "    </tr>\n",
       "    <tr>\n",
       "      <th>3</th>\n",
       "      <td>2688759737656491380</td>\n",
       "      <td>38</td>\n",
       "      <td>2</td>\n",
       "    </tr>\n",
       "    <tr>\n",
       "      <th>4</th>\n",
       "      <td>2635154697734164782</td>\n",
       "      <td>38</td>\n",
       "      <td>3</td>\n",
       "    </tr>\n",
       "  </tbody>\n",
       "</table>\n",
       "</div>"
      ],
      "text/plain": [
       "              ref_hash application_id event_id\n",
       "0  2688759737656491380             38        0\n",
       "1  2688759737656491380             38        1\n",
       "2  2688759737656491380             38        0\n",
       "3  2688759737656491380             38        2\n",
       "4  2635154697734164782             38        3"
      ]
     },
     "execution_count": 122,
     "metadata": {},
     "output_type": "execute_result"
    }
   ],
   "source": [
    "e2.head()"
   ]
  },
  {
   "cell_type": "code",
   "execution_count": 117,
   "metadata": {},
   "outputs": [],
   "source": [
    "e2 = eve[['ref_hash','application_id','event_id']]\n",
    "\n",
    "eve_ac = e2.merge(auc,left_on='ref_hash',right_on='device_id',how='inner')\n",
    "# NO VA eve_ac = e2.merge(auc,left_on='event_id',right_on='device_id',how='inner')\n",
    "eve_ac['count'] = 1"
   ]
  },
  {
   "cell_type": "code",
   "execution_count": 97,
   "metadata": {},
   "outputs": [
    {
     "data": {
      "text/html": [
       "<div>\n",
       "<style scoped>\n",
       "    .dataframe tbody tr th:only-of-type {\n",
       "        vertical-align: middle;\n",
       "    }\n",
       "\n",
       "    .dataframe tbody tr th {\n",
       "        vertical-align: top;\n",
       "    }\n",
       "\n",
       "    .dataframe thead th {\n",
       "        text-align: right;\n",
       "    }\n",
       "</style>\n",
       "<table border=\"1\" class=\"dataframe\">\n",
       "  <thead>\n",
       "    <tr style=\"text-align: right;\">\n",
       "      <th></th>\n",
       "      <th>application_id</th>\n",
       "      <th>count</th>\n",
       "    </tr>\n",
       "  </thead>\n",
       "  <tbody>\n",
       "    <tr>\n",
       "      <th>35</th>\n",
       "      <td>145</td>\n",
       "      <td>9669812</td>\n",
       "    </tr>\n",
       "    <tr>\n",
       "      <th>186</th>\n",
       "      <td>66</td>\n",
       "      <td>8649591</td>\n",
       "    </tr>\n",
       "    <tr>\n",
       "      <th>184</th>\n",
       "      <td>64</td>\n",
       "      <td>6278741</td>\n",
       "    </tr>\n",
       "    <tr>\n",
       "      <th>3</th>\n",
       "      <td>103</td>\n",
       "      <td>5802527</td>\n",
       "    </tr>\n",
       "    <tr>\n",
       "      <th>94</th>\n",
       "      <td>212</td>\n",
       "      <td>5507349</td>\n",
       "    </tr>\n",
       "  </tbody>\n",
       "</table>\n",
       "</div>"
      ],
      "text/plain": [
       "    application_id    count\n",
       "35             145  9669812\n",
       "186             66  8649591\n",
       "184             64  6278741\n",
       "3              103  5802527\n",
       "94             212  5507349"
      ]
     },
     "execution_count": 97,
     "metadata": {},
     "output_type": "execute_result"
    }
   ],
   "source": [
    "ea_sorted = eve_ac.groupby('application_id',as_index=False).sum()\n",
    "\n",
    "ea_sorted = ea_sorted.sort_values(by='count',ascending=False)\n",
    "ea_sorted.head(5)"
   ]
  },
  {
   "cell_type": "code",
   "execution_count": 98,
   "metadata": {},
   "outputs": [
    {
     "name": "stdout",
     "output_type": "stream",
     "text": [
      "<class 'pandas.core.frame.DataFrame'>\n",
      "Int64Index: 217 entries, 35 to 90\n",
      "Data columns (total 2 columns):\n",
      "application_id    217 non-null int64\n",
      "count             217 non-null int64\n",
      "dtypes: int64(2)\n",
      "memory usage: 5.1 KB\n"
     ]
    }
   ],
   "source": [
    "ea_sorted['application_id'] = ea_sorted['application_id'].apply(pd.to_numeric)\n",
    "ea_sorted.info()"
   ]
  },
  {
   "cell_type": "code",
   "execution_count": 123,
   "metadata": {},
   "outputs": [
    {
     "data": {
      "text/plain": [
       "<matplotlib.axes._subplots.AxesSubplot at 0x7f0f6c4c1710>"
      ]
     },
     "execution_count": 123,
     "metadata": {},
     "output_type": "execute_result"
    },
    {
     "data": {
      "image/png": "[encoded data removed]",
      "text/plain": [
       "<matplotlib.figure.Figure at 0x7f0f9ee15310>"
      ]
     },
     "metadata": {},
     "output_type": "display_data"
    }
   ],
   "source": [
    "ea_sorted.plot.scatter(x='application_id', y='count', color='DarkRed', label='total eventos por app',s = 10,figsize=(7,7))"
   ]
  },
  {
   "cell_type": "code",
   "execution_count": 175,
   "metadata": {},
   "outputs": [
    {
     "data": {
      "text/plain": [
       "<matplotlib.text.Text at 0x7f0fae1f4790>"
      ]
     },
     "execution_count": 175,
     "metadata": {},
     "output_type": "execute_result"
    },
    {
     "data": {
      "image/png": "[encoded data removed]",
      "text/plain": [
       "<matplotlib.figure.Figure at 0x7f0fae2baa90>"
      ]
     },
     "metadata": {},
     "output_type": "display_data"
    }
   ],
   "source": [
    "plot3 = ea_sorted2.plot.scatter(x='application_id', y='count',\\\n",
    "                        color='Blue', label='total eventos por app',\\\n",
    "                        s = 10,figsize=(7,7),title=\"Total de eventos por app\")\n",
    "plot3.set_xlabel(\"Id aplicacion\",fontsize=16)\n",
    "plot3.set_ylabel(\"Cantidad de eventos\",fontsize=16)"
   ]
  },
  {
   "cell_type": "code",
   "execution_count": 139,
   "metadata": {
    "scrolled": true
   },
   "outputs": [
    {
     "data": {
      "text/plain": [
       "<matplotlib.text.Text at 0x7f0f98037f10>"
      ]
     },
     "execution_count": 139,
     "metadata": {},
     "output_type": "execute_result"
    },
    {
     "data": {
      "image/png": "[encoded data removed]",
      "text/plain": [
       "<matplotlib.figure.Figure at 0x7f0f716c6b10>"
      ]
     },
     "metadata": {},
     "output_type": "display_data"
    }
   ],
   "source": [
    "ea_plot = ea_sorted.head(20)\n",
    "plot = ea_plot.plot.bar(figsize=(9,9),title=\"Aplicaciones que mas eventos registraron\")\n",
    "plot.set_xlabel('Id aplicacion',fontsize=14)\n",
    "plot.set_ylabel('Cantidad de eventos',fontsize=14)"
   ]
  },
  {
   "cell_type": "code",
   "execution_count": 149,
   "metadata": {},
   "outputs": [
    {
     "data": {
      "text/html": [
       "<div>\n",
       "<style scoped>\n",
       "    .dataframe tbody tr th:only-of-type {\n",
       "        vertical-align: middle;\n",
       "    }\n",
       "\n",
       "    .dataframe tbody tr th {\n",
       "        vertical-align: top;\n",
       "    }\n",
       "\n",
       "    .dataframe thead th {\n",
       "        text-align: right;\n",
       "    }\n",
       "</style>\n",
       "<table border=\"1\" class=\"dataframe\">\n",
       "  <thead>\n",
       "    <tr style=\"text-align: right;\">\n",
       "      <th></th>\n",
       "      <th>count</th>\n",
       "    </tr>\n",
       "    <tr>\n",
       "      <th>device_id</th>\n",
       "      <th></th>\n",
       "    </tr>\n",
       "  </thead>\n",
       "  <tbody>\n",
       "    <tr>\n",
       "      <th>633139769114048761</th>\n",
       "      <td>27762</td>\n",
       "    </tr>\n",
       "    <tr>\n",
       "      <th>7202276635029175071</th>\n",
       "      <td>23055</td>\n",
       "    </tr>\n",
       "    <tr>\n",
       "      <th>7298861376107043945</th>\n",
       "      <td>18188</td>\n",
       "    </tr>\n",
       "    <tr>\n",
       "      <th>6302840482782120473</th>\n",
       "      <td>16400</td>\n",
       "    </tr>\n",
       "    <tr>\n",
       "      <th>5376802567578262905</th>\n",
       "      <td>16367</td>\n",
       "    </tr>\n",
       "    <tr>\n",
       "      <th>8963711959081981780</th>\n",
       "      <td>14362</td>\n",
       "    </tr>\n",
       "    <tr>\n",
       "      <th>795159065504552200</th>\n",
       "      <td>12275</td>\n",
       "    </tr>\n",
       "    <tr>\n",
       "      <th>6841615430383729819</th>\n",
       "      <td>12077</td>\n",
       "    </tr>\n",
       "    <tr>\n",
       "      <th>5384039226444052914</th>\n",
       "      <td>11632</td>\n",
       "    </tr>\n",
       "    <tr>\n",
       "      <th>3198179064438296471</th>\n",
       "      <td>11565</td>\n",
       "    </tr>\n",
       "    <tr>\n",
       "      <th>519658456951133298</th>\n",
       "      <td>10541</td>\n",
       "    </tr>\n",
       "    <tr>\n",
       "      <th>2435544514359302887</th>\n",
       "      <td>10274</td>\n",
       "    </tr>\n",
       "    <tr>\n",
       "      <th>8751190726444323885</th>\n",
       "      <td>10256</td>\n",
       "    </tr>\n",
       "    <tr>\n",
       "      <th>1835469468095030098</th>\n",
       "      <td>10121</td>\n",
       "    </tr>\n",
       "    <tr>\n",
       "      <th>1800317677967270083</th>\n",
       "      <td>10036</td>\n",
       "    </tr>\n",
       "    <tr>\n",
       "      <th>9027154272484048876</th>\n",
       "      <td>9958</td>\n",
       "    </tr>\n",
       "    <tr>\n",
       "      <th>7574657722181550308</th>\n",
       "      <td>9767</td>\n",
       "    </tr>\n",
       "    <tr>\n",
       "      <th>5051610571898428259</th>\n",
       "      <td>9642</td>\n",
       "    </tr>\n",
       "    <tr>\n",
       "      <th>320899491737875154</th>\n",
       "      <td>9388</td>\n",
       "    </tr>\n",
       "    <tr>\n",
       "      <th>8292793494956750501</th>\n",
       "      <td>9315</td>\n",
       "    </tr>\n",
       "    <tr>\n",
       "      <th>201759600719985554</th>\n",
       "      <td>9158</td>\n",
       "    </tr>\n",
       "    <tr>\n",
       "      <th>8021195662481548645</th>\n",
       "      <td>9128</td>\n",
       "    </tr>\n",
       "    <tr>\n",
       "      <th>7650408579713341483</th>\n",
       "      <td>9020</td>\n",
       "    </tr>\n",
       "    <tr>\n",
       "      <th>6392567838173461255</th>\n",
       "      <td>8994</td>\n",
       "    </tr>\n",
       "    <tr>\n",
       "      <th>1478017482044456084</th>\n",
       "      <td>8839</td>\n",
       "    </tr>\n",
       "    <tr>\n",
       "      <th>6203407103275384250</th>\n",
       "      <td>8823</td>\n",
       "    </tr>\n",
       "    <tr>\n",
       "      <th>68016455690089173</th>\n",
       "      <td>8809</td>\n",
       "    </tr>\n",
       "    <tr>\n",
       "      <th>8496718680483076445</th>\n",
       "      <td>8682</td>\n",
       "    </tr>\n",
       "    <tr>\n",
       "      <th>8491787427844905567</th>\n",
       "      <td>8513</td>\n",
       "    </tr>\n",
       "    <tr>\n",
       "      <th>4834359787191717922</th>\n",
       "      <td>8495</td>\n",
       "    </tr>\n",
       "    <tr>\n",
       "      <th>...</th>\n",
       "      <td>...</td>\n",
       "    </tr>\n",
       "    <tr>\n",
       "      <th>8334698292345903427</th>\n",
       "      <td>1</td>\n",
       "    </tr>\n",
       "    <tr>\n",
       "      <th>833478683215980427</th>\n",
       "      <td>1</td>\n",
       "    </tr>\n",
       "    <tr>\n",
       "      <th>7262005694590559373</th>\n",
       "      <td>1</td>\n",
       "    </tr>\n",
       "    <tr>\n",
       "      <th>8334952852177481849</th>\n",
       "      <td>1</td>\n",
       "    </tr>\n",
       "    <tr>\n",
       "      <th>7260507864397303381</th>\n",
       "      <td>1</td>\n",
       "    </tr>\n",
       "    <tr>\n",
       "      <th>3211195893017424117</th>\n",
       "      <td>1</td>\n",
       "    </tr>\n",
       "    <tr>\n",
       "      <th>833631472472296103</th>\n",
       "      <td>1</td>\n",
       "    </tr>\n",
       "    <tr>\n",
       "      <th>3211306878389558088</th>\n",
       "      <td>1</td>\n",
       "    </tr>\n",
       "    <tr>\n",
       "      <th>8336284392211166131</th>\n",
       "      <td>1</td>\n",
       "    </tr>\n",
       "    <tr>\n",
       "      <th>3211887979380789868</th>\n",
       "      <td>1</td>\n",
       "    </tr>\n",
       "    <tr>\n",
       "      <th>8336152997568278803</th>\n",
       "      <td>1</td>\n",
       "    </tr>\n",
       "    <tr>\n",
       "      <th>5707333426206866362</th>\n",
       "      <td>1</td>\n",
       "    </tr>\n",
       "    <tr>\n",
       "      <th>3212064617349005629</th>\n",
       "      <td>1</td>\n",
       "    </tr>\n",
       "    <tr>\n",
       "      <th>5707085167666754893</th>\n",
       "      <td>1</td>\n",
       "    </tr>\n",
       "    <tr>\n",
       "      <th>3212923502290485818</th>\n",
       "      <td>1</td>\n",
       "    </tr>\n",
       "    <tr>\n",
       "      <th>5706964286274991265</th>\n",
       "      <td>1</td>\n",
       "    </tr>\n",
       "    <tr>\n",
       "      <th>3212998191195657390</th>\n",
       "      <td>1</td>\n",
       "    </tr>\n",
       "    <tr>\n",
       "      <th>3213003539052157139</th>\n",
       "      <td>1</td>\n",
       "    </tr>\n",
       "    <tr>\n",
       "      <th>5706754100269323309</th>\n",
       "      <td>1</td>\n",
       "    </tr>\n",
       "    <tr>\n",
       "      <th>8335704173227667472</th>\n",
       "      <td>1</td>\n",
       "    </tr>\n",
       "    <tr>\n",
       "      <th>5706533697814642957</th>\n",
       "      <td>1</td>\n",
       "    </tr>\n",
       "    <tr>\n",
       "      <th>5706357996229006999</th>\n",
       "      <td>1</td>\n",
       "    </tr>\n",
       "    <tr>\n",
       "      <th>3213466408575115308</th>\n",
       "      <td>1</td>\n",
       "    </tr>\n",
       "    <tr>\n",
       "      <th>8335568450538608472</th>\n",
       "      <td>1</td>\n",
       "    </tr>\n",
       "    <tr>\n",
       "      <th>833556494721320424</th>\n",
       "      <td>1</td>\n",
       "    </tr>\n",
       "    <tr>\n",
       "      <th>3213635857458937293</th>\n",
       "      <td>1</td>\n",
       "    </tr>\n",
       "    <tr>\n",
       "      <th>3213681955506366588</th>\n",
       "      <td>1</td>\n",
       "    </tr>\n",
       "    <tr>\n",
       "      <th>3213961078103769928</th>\n",
       "      <td>1</td>\n",
       "    </tr>\n",
       "    <tr>\n",
       "      <th>3214045288652949709</th>\n",
       "      <td>1</td>\n",
       "    </tr>\n",
       "    <tr>\n",
       "      <th>3874271252389863220</th>\n",
       "      <td>1</td>\n",
       "    </tr>\n",
       "  </tbody>\n",
       "</table>\n",
       "<p>206977 rows × 1 columns</p>\n",
       "</div>"
      ],
      "text/plain": [
       "                     count\n",
       "device_id                 \n",
       "633139769114048761   27762\n",
       "7202276635029175071  23055\n",
       "7298861376107043945  18188\n",
       "6302840482782120473  16400\n",
       "5376802567578262905  16367\n",
       "8963711959081981780  14362\n",
       "795159065504552200   12275\n",
       "6841615430383729819  12077\n",
       "5384039226444052914  11632\n",
       "3198179064438296471  11565\n",
       "519658456951133298   10541\n",
       "2435544514359302887  10274\n",
       "8751190726444323885  10256\n",
       "1835469468095030098  10121\n",
       "1800317677967270083  10036\n",
       "9027154272484048876   9958\n",
       "7574657722181550308   9767\n",
       "5051610571898428259   9642\n",
       "320899491737875154    9388\n",
       "8292793494956750501   9315\n",
       "201759600719985554    9158\n",
       "8021195662481548645   9128\n",
       "7650408579713341483   9020\n",
       "6392567838173461255   8994\n",
       "1478017482044456084   8839\n",
       "6203407103275384250   8823\n",
       "68016455690089173     8809\n",
       "8496718680483076445   8682\n",
       "8491787427844905567   8513\n",
       "4834359787191717922   8495\n",
       "...                    ...\n",
       "8334698292345903427      1\n",
       "833478683215980427       1\n",
       "7262005694590559373      1\n",
       "8334952852177481849      1\n",
       "7260507864397303381      1\n",
       "3211195893017424117      1\n",
       "833631472472296103       1\n",
       "3211306878389558088      1\n",
       "8336284392211166131      1\n",
       "3211887979380789868      1\n",
       "8336152997568278803      1\n",
       "5707333426206866362      1\n",
       "3212064617349005629      1\n",
       "5707085167666754893      1\n",
       "3212923502290485818      1\n",
       "5706964286274991265      1\n",
       "3212998191195657390      1\n",
       "3213003539052157139      1\n",
       "5706754100269323309      1\n",
       "8335704173227667472      1\n",
       "5706533697814642957      1\n",
       "5706357996229006999      1\n",
       "3213466408575115308      1\n",
       "8335568450538608472      1\n",
       "833556494721320424       1\n",
       "3213635857458937293      1\n",
       "3213681955506366588      1\n",
       "3213961078103769928      1\n",
       "3214045288652949709      1\n",
       "3874271252389863220      1\n",
       "\n",
       "[206977 rows x 1 columns]"
      ]
     },
     "execution_count": 149,
     "metadata": {},
     "output_type": "execute_result"
    }
   ],
   "source": [
    "auc_app"
   ]
  },
  {
   "cell_type": "code",
   "execution_count": 153,
   "metadata": {},
   "outputs": [],
   "source": [
    "e3 = eve[['ref_hash','application_id','event_id']]\n",
    "eve_ac2 = e2.merge(auc_app,left_on='ref_hash',right_on='device_id',how='inner')\n",
    "eve_ac2['count'] = 1\n",
    "ea_sorted2 = eve_ac2.groupby('application_id',as_index=False).sum().sort_values(by='count',ascending=False)\n",
    "ea_sorted2['application_id'] = ea_sorted2['application_id'].apply(pd.to_numeric)\n"
   ]
  },
  {
   "cell_type": "code",
   "execution_count": 158,
   "metadata": {},
   "outputs": [
    {
     "data": {
      "text/plain": [
       "<matplotlib.text.Text at 0x7f0fb5dd14d0>"
      ]
     },
     "execution_count": 158,
     "metadata": {},
     "output_type": "execute_result"
    },
    {
     "data": {
      "image/png": "[encoded data removed]",
      "text/plain": [
       "<matplotlib.figure.Figure at 0x7f0f69626e50>"
      ]
     },
     "metadata": {},
     "output_type": "display_data"
    }
   ],
   "source": [
    "ea_plot2 = ea_sorted2.head(20)\n",
    "plot2 = ea_plot2.plot.bar(figsize=(9,9),title=\"Aplicaciones que mas eventos registraron\")\n",
    "plot2.set_xlabel('Id aplicacion',fontsize=14)\n",
    "plot2.set_ylabel('Cantidad de eventos',fontsize=14)"
   ]
  },
  {
   "cell_type": "code",
   "execution_count": 169,
   "metadata": {},
   "outputs": [
    {
     "data": {
      "text/plain": [
       "<matplotlib.axes._subplots.AxesSubplot at 0x7f0fafe31910>"
      ]
     },
     "execution_count": 169,
     "metadata": {},
     "output_type": "execute_result"
    },
    {
     "data": {
      "image/png": "[encoded data removed]",
      "text/plain": [
       "<matplotlib.figure.Figure at 0x7f0fafe9ad90>"
      ]
     },
     "metadata": {},
     "output_type": "display_data"
    }
   ],
   "source": [
    "limite = 1000\n",
    "ea_sorted2[ea_sorted2['count'] < limite].plot.bar(x='application_id',y='count',figsize=(9,9))"
   ]
  }
 ],
 "metadata": {
  "kernelspec": {
   "display_name": "Python 2",
   "language": "python",
   "name": "python2"
  },
  "language_info": {
   "codemirror_mode": {
    "name": "ipython",
    "version": 2
   },
   "file_extension": ".py",
   "mimetype": "text/x-python",
   "name": "python",
   "nbconvert_exporter": "python",
   "pygments_lexer": "ipython2",
   "version": "2.7.12"
  }
 },
 "nbformat": 4,
 "nbformat_minor": 2
}
