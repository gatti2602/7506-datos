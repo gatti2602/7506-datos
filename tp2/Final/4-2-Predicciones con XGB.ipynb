{
 "cells": [
  {
   "cell_type": "code",
   "execution_count": 1,
   "metadata": {},
   "outputs": [],
   "source": [
    "import pandas as pd\n",
    "import matplotlib as mp\n",
    "import numpy as np\n",
    "import datetime\n",
    "import pprint\n",
    "from math import sqrt\n",
    "\n",
    "from sklearn.ensemble import RandomForestRegressor\n",
    "from sklearn.metrics import mean_squared_error\n",
    "from sklearn.model_selection import train_test_split\n",
    "import xgboost as xgb\n",
    "from sklearn.model_selection import GridSearchCV\n",
    "\n",
    "#Cant de nucleos\n",
    "cores = 4\n",
    "\n",
    "%matplotlib inline\n",
    "\n",
    "#Root de archivos de datos\n",
    "root_dir = '../data/'\n",
    "group=['ref_hash','window_nr']"
   ]
  },
  {
   "cell_type": "markdown",
   "metadata": {},
   "source": [
    "---\n",
    "## Read de Features"
   ]
  },
  {
   "cell_type": "code",
   "execution_count": 2,
   "metadata": {},
   "outputs": [],
   "source": [
    "features = pd.read_csv('training_set.csv',low_memory=False).set_index(group)"
   ]
  },
  {
   "cell_type": "code",
   "execution_count": 3,
   "metadata": {},
   "outputs": [
    {
     "data": {
      "text/html": [
       "<div>\n",
       "<style scoped>\n",
       "    .dataframe tbody tr th:only-of-type {\n",
       "        vertical-align: middle;\n",
       "    }\n",
       "\n",
       "    .dataframe tbody tr th {\n",
       "        vertical-align: top;\n",
       "    }\n",
       "\n",
       "    .dataframe thead th {\n",
       "        text-align: right;\n",
       "    }\n",
       "</style>\n",
       "<table border=\"1\" class=\"dataframe\">\n",
       "  <thead>\n",
       "    <tr style=\"text-align: right;\">\n",
       "      <th></th>\n",
       "      <th></th>\n",
       "      <th>auc_secs_to_next_mean</th>\n",
       "      <th>auc_secs_to_next_std</th>\n",
       "      <th>auc_secs_to_next_max</th>\n",
       "      <th>auc_secs_to_next_min</th>\n",
       "      <th>ins_secs_to_next_mean</th>\n",
       "      <th>ins_secs_to_next_std</th>\n",
       "      <th>ins_secs_to_next_max</th>\n",
       "      <th>ins_secs_to_next_min</th>\n",
       "      <th>eve_secs_to_next_mean</th>\n",
       "      <th>eve_secs_to_next_std</th>\n",
       "      <th>...</th>\n",
       "      <th>secs_since_last_event</th>\n",
       "      <th>wifi</th>\n",
       "      <th>timeToClick_mean</th>\n",
       "      <th>amount_dif_advertisers</th>\n",
       "      <th>amount_installs</th>\n",
       "      <th>last_event</th>\n",
       "      <th>before_last_event</th>\n",
       "      <th>before_before_last_event</th>\n",
       "      <th>kmeans20</th>\n",
       "      <th>kmeans50</th>\n",
       "    </tr>\n",
       "    <tr>\n",
       "      <th>ref_hash</th>\n",
       "      <th>window_nr</th>\n",
       "      <th></th>\n",
       "      <th></th>\n",
       "      <th></th>\n",
       "      <th></th>\n",
       "      <th></th>\n",
       "      <th></th>\n",
       "      <th></th>\n",
       "      <th></th>\n",
       "      <th></th>\n",
       "      <th></th>\n",
       "      <th></th>\n",
       "      <th></th>\n",
       "      <th></th>\n",
       "      <th></th>\n",
       "      <th></th>\n",
       "      <th></th>\n",
       "      <th></th>\n",
       "      <th></th>\n",
       "      <th></th>\n",
       "      <th></th>\n",
       "      <th></th>\n",
       "    </tr>\n",
       "  </thead>\n",
       "  <tbody>\n",
       "    <tr>\n",
       "      <th>2564673204772915246</th>\n",
       "      <th>1</th>\n",
       "      <td>765.0</td>\n",
       "      <td>5431.0</td>\n",
       "      <td>0.0</td>\n",
       "      <td>56670.0</td>\n",
       "      <td>7632.0</td>\n",
       "      <td>0.0</td>\n",
       "      <td>0.0</td>\n",
       "      <td>0.0</td>\n",
       "      <td>12489.0</td>\n",
       "      <td>0.0</td>\n",
       "      <td>...</td>\n",
       "      <td>0.0</td>\n",
       "      <td>False</td>\n",
       "      <td>198.0</td>\n",
       "      <td>0.0</td>\n",
       "      <td>0.0</td>\n",
       "      <td>0.0</td>\n",
       "      <td>0.0</td>\n",
       "      <td>0.0</td>\n",
       "      <td>15</td>\n",
       "      <td>26</td>\n",
       "    </tr>\n",
       "    <tr>\n",
       "      <th>4441121667607578179</th>\n",
       "      <th>1</th>\n",
       "      <td>111.0</td>\n",
       "      <td>1555.0</td>\n",
       "      <td>0.0</td>\n",
       "      <td>38225.0</td>\n",
       "      <td>7632.0</td>\n",
       "      <td>0.0</td>\n",
       "      <td>0.0</td>\n",
       "      <td>0.0</td>\n",
       "      <td>12489.0</td>\n",
       "      <td>0.0</td>\n",
       "      <td>...</td>\n",
       "      <td>0.0</td>\n",
       "      <td>False</td>\n",
       "      <td>198.0</td>\n",
       "      <td>0.0</td>\n",
       "      <td>0.0</td>\n",
       "      <td>0.0</td>\n",
       "      <td>0.0</td>\n",
       "      <td>0.0</td>\n",
       "      <td>6</td>\n",
       "      <td>5</td>\n",
       "    </tr>\n",
       "    <tr>\n",
       "      <th>7721769811471055264</th>\n",
       "      <th>1</th>\n",
       "      <td>281.0</td>\n",
       "      <td>1179.0</td>\n",
       "      <td>0.0</td>\n",
       "      <td>15975.0</td>\n",
       "      <td>7632.0</td>\n",
       "      <td>0.0</td>\n",
       "      <td>0.0</td>\n",
       "      <td>0.0</td>\n",
       "      <td>33.0</td>\n",
       "      <td>49.0</td>\n",
       "      <td>...</td>\n",
       "      <td>196689.0</td>\n",
       "      <td>False</td>\n",
       "      <td>198.0</td>\n",
       "      <td>0.0</td>\n",
       "      <td>0.0</td>\n",
       "      <td>2.0</td>\n",
       "      <td>2.0</td>\n",
       "      <td>2.0</td>\n",
       "      <td>18</td>\n",
       "      <td>4</td>\n",
       "    </tr>\n",
       "    <tr>\n",
       "      <th>1258642015983312729</th>\n",
       "      <th>1</th>\n",
       "      <td>8365.0</td>\n",
       "      <td>28817.0</td>\n",
       "      <td>0.0</td>\n",
       "      <td>99871.0</td>\n",
       "      <td>7632.0</td>\n",
       "      <td>0.0</td>\n",
       "      <td>0.0</td>\n",
       "      <td>0.0</td>\n",
       "      <td>12489.0</td>\n",
       "      <td>0.0</td>\n",
       "      <td>...</td>\n",
       "      <td>0.0</td>\n",
       "      <td>False</td>\n",
       "      <td>198.0</td>\n",
       "      <td>0.0</td>\n",
       "      <td>0.0</td>\n",
       "      <td>0.0</td>\n",
       "      <td>0.0</td>\n",
       "      <td>0.0</td>\n",
       "      <td>15</td>\n",
       "      <td>20</td>\n",
       "    </tr>\n",
       "    <tr>\n",
       "      <th>6707090658317158573</th>\n",
       "      <th>1</th>\n",
       "      <td>453.0</td>\n",
       "      <td>3586.0</td>\n",
       "      <td>0.0</td>\n",
       "      <td>45696.0</td>\n",
       "      <td>7632.0</td>\n",
       "      <td>0.0</td>\n",
       "      <td>0.0</td>\n",
       "      <td>0.0</td>\n",
       "      <td>12489.0</td>\n",
       "      <td>0.0</td>\n",
       "      <td>...</td>\n",
       "      <td>0.0</td>\n",
       "      <td>False</td>\n",
       "      <td>198.0</td>\n",
       "      <td>0.0</td>\n",
       "      <td>0.0</td>\n",
       "      <td>0.0</td>\n",
       "      <td>0.0</td>\n",
       "      <td>0.0</td>\n",
       "      <td>6</td>\n",
       "      <td>5</td>\n",
       "    </tr>\n",
       "  </tbody>\n",
       "</table>\n",
       "<p>5 rows × 29 columns</p>\n",
       "</div>"
      ],
      "text/plain": [
       "                               auc_secs_to_next_mean  auc_secs_to_next_std  \\\n",
       "ref_hash            window_nr                                                \n",
       "2564673204772915246 1                          765.0                5431.0   \n",
       "4441121667607578179 1                          111.0                1555.0   \n",
       "7721769811471055264 1                          281.0                1179.0   \n",
       "1258642015983312729 1                         8365.0               28817.0   \n",
       "6707090658317158573 1                          453.0                3586.0   \n",
       "\n",
       "                               auc_secs_to_next_max  auc_secs_to_next_min  \\\n",
       "ref_hash            window_nr                                               \n",
       "2564673204772915246 1                           0.0               56670.0   \n",
       "4441121667607578179 1                           0.0               38225.0   \n",
       "7721769811471055264 1                           0.0               15975.0   \n",
       "1258642015983312729 1                           0.0               99871.0   \n",
       "6707090658317158573 1                           0.0               45696.0   \n",
       "\n",
       "                               ins_secs_to_next_mean  ins_secs_to_next_std  \\\n",
       "ref_hash            window_nr                                                \n",
       "2564673204772915246 1                         7632.0                   0.0   \n",
       "4441121667607578179 1                         7632.0                   0.0   \n",
       "7721769811471055264 1                         7632.0                   0.0   \n",
       "1258642015983312729 1                         7632.0                   0.0   \n",
       "6707090658317158573 1                         7632.0                   0.0   \n",
       "\n",
       "                               ins_secs_to_next_max  ins_secs_to_next_min  \\\n",
       "ref_hash            window_nr                                               \n",
       "2564673204772915246 1                           0.0                   0.0   \n",
       "4441121667607578179 1                           0.0                   0.0   \n",
       "7721769811471055264 1                           0.0                   0.0   \n",
       "1258642015983312729 1                           0.0                   0.0   \n",
       "6707090658317158573 1                           0.0                   0.0   \n",
       "\n",
       "                               eve_secs_to_next_mean  eve_secs_to_next_std  \\\n",
       "ref_hash            window_nr                                                \n",
       "2564673204772915246 1                        12489.0                   0.0   \n",
       "4441121667607578179 1                        12489.0                   0.0   \n",
       "7721769811471055264 1                           33.0                  49.0   \n",
       "1258642015983312729 1                        12489.0                   0.0   \n",
       "6707090658317158573 1                        12489.0                   0.0   \n",
       "\n",
       "                               ...  secs_since_last_event   wifi  \\\n",
       "ref_hash            window_nr  ...                                 \n",
       "2564673204772915246 1          ...                    0.0  False   \n",
       "4441121667607578179 1          ...                    0.0  False   \n",
       "7721769811471055264 1          ...               196689.0  False   \n",
       "1258642015983312729 1          ...                    0.0  False   \n",
       "6707090658317158573 1          ...                    0.0  False   \n",
       "\n",
       "                               timeToClick_mean  amount_dif_advertisers  \\\n",
       "ref_hash            window_nr                                             \n",
       "2564673204772915246 1                     198.0                     0.0   \n",
       "4441121667607578179 1                     198.0                     0.0   \n",
       "7721769811471055264 1                     198.0                     0.0   \n",
       "1258642015983312729 1                     198.0                     0.0   \n",
       "6707090658317158573 1                     198.0                     0.0   \n",
       "\n",
       "                               amount_installs  last_event  before_last_event  \\\n",
       "ref_hash            window_nr                                                   \n",
       "2564673204772915246 1                      0.0         0.0                0.0   \n",
       "4441121667607578179 1                      0.0         0.0                0.0   \n",
       "7721769811471055264 1                      0.0         2.0                2.0   \n",
       "1258642015983312729 1                      0.0         0.0                0.0   \n",
       "6707090658317158573 1                      0.0         0.0                0.0   \n",
       "\n",
       "                               before_before_last_event  kmeans20  kmeans50  \n",
       "ref_hash            window_nr                                                \n",
       "2564673204772915246 1                               0.0        15        26  \n",
       "4441121667607578179 1                               0.0         6         5  \n",
       "7721769811471055264 1                               2.0        18         4  \n",
       "1258642015983312729 1                               0.0        15        20  \n",
       "6707090658317158573 1                               0.0         6         5  \n",
       "\n",
       "[5 rows x 29 columns]"
      ]
     },
     "execution_count": 3,
     "metadata": {},
     "output_type": "execute_result"
    }
   ],
   "source": [
    "features.head()"
   ]
  },
  {
   "cell_type": "code",
   "execution_count": 4,
   "metadata": {},
   "outputs": [],
   "source": [
    "targets = pd.read_csv('targets.csv').set_index(group)"
   ]
  },
  {
   "cell_type": "code",
   "execution_count": 5,
   "metadata": {},
   "outputs": [
    {
     "data": {
      "text/plain": [
       "target_st    0\n",
       "target_sc    0\n",
       "dtype: int64"
      ]
     },
     "execution_count": 5,
     "metadata": {},
     "output_type": "execute_result"
    }
   ],
   "source": [
    "targets.isnull().sum()"
   ]
  },
  {
   "cell_type": "code",
   "execution_count": 6,
   "metadata": {},
   "outputs": [],
   "source": [
    "training_set = features.merge(targets, how='inner', left_index=True,right_index=True)"
   ]
  },
  {
   "cell_type": "code",
   "execution_count": 7,
   "metadata": {},
   "outputs": [
    {
     "data": {
      "text/html": [
       "<div>\n",
       "<style scoped>\n",
       "    .dataframe tbody tr th:only-of-type {\n",
       "        vertical-align: middle;\n",
       "    }\n",
       "\n",
       "    .dataframe tbody tr th {\n",
       "        vertical-align: top;\n",
       "    }\n",
       "\n",
       "    .dataframe thead th {\n",
       "        text-align: right;\n",
       "    }\n",
       "</style>\n",
       "<table border=\"1\" class=\"dataframe\">\n",
       "  <thead>\n",
       "    <tr style=\"text-align: right;\">\n",
       "      <th></th>\n",
       "      <th></th>\n",
       "      <th>auc_secs_to_next_mean</th>\n",
       "      <th>auc_secs_to_next_std</th>\n",
       "      <th>auc_secs_to_next_max</th>\n",
       "      <th>auc_secs_to_next_min</th>\n",
       "      <th>ins_secs_to_next_mean</th>\n",
       "      <th>ins_secs_to_next_std</th>\n",
       "      <th>ins_secs_to_next_max</th>\n",
       "      <th>ins_secs_to_next_min</th>\n",
       "      <th>eve_secs_to_next_mean</th>\n",
       "      <th>eve_secs_to_next_std</th>\n",
       "      <th>...</th>\n",
       "      <th>timeToClick_mean</th>\n",
       "      <th>amount_dif_advertisers</th>\n",
       "      <th>amount_installs</th>\n",
       "      <th>last_event</th>\n",
       "      <th>before_last_event</th>\n",
       "      <th>before_before_last_event</th>\n",
       "      <th>kmeans20</th>\n",
       "      <th>kmeans50</th>\n",
       "      <th>target_st</th>\n",
       "      <th>target_sc</th>\n",
       "    </tr>\n",
       "    <tr>\n",
       "      <th>ref_hash</th>\n",
       "      <th>window_nr</th>\n",
       "      <th></th>\n",
       "      <th></th>\n",
       "      <th></th>\n",
       "      <th></th>\n",
       "      <th></th>\n",
       "      <th></th>\n",
       "      <th></th>\n",
       "      <th></th>\n",
       "      <th></th>\n",
       "      <th></th>\n",
       "      <th></th>\n",
       "      <th></th>\n",
       "      <th></th>\n",
       "      <th></th>\n",
       "      <th></th>\n",
       "      <th></th>\n",
       "      <th></th>\n",
       "      <th></th>\n",
       "      <th></th>\n",
       "      <th></th>\n",
       "      <th></th>\n",
       "    </tr>\n",
       "  </thead>\n",
       "  <tbody>\n",
       "    <tr>\n",
       "      <th>4881735474151208235</th>\n",
       "      <th>1</th>\n",
       "      <td>8033.0</td>\n",
       "      <td>0.0</td>\n",
       "      <td>0.0</td>\n",
       "      <td>0.0</td>\n",
       "      <td>7632.0</td>\n",
       "      <td>0.0</td>\n",
       "      <td>0.0</td>\n",
       "      <td>0.0</td>\n",
       "      <td>17.0</td>\n",
       "      <td>0.0</td>\n",
       "      <td>...</td>\n",
       "      <td>198.000</td>\n",
       "      <td>0.0</td>\n",
       "      <td>0.0</td>\n",
       "      <td>7.0</td>\n",
       "      <td>0.0</td>\n",
       "      <td>0.0</td>\n",
       "      <td>19</td>\n",
       "      <td>15</td>\n",
       "      <td>259200.0</td>\n",
       "      <td>259200.0</td>\n",
       "    </tr>\n",
       "    <tr>\n",
       "      <th>4679881814211948892</th>\n",
       "      <th>1</th>\n",
       "      <td>45.0</td>\n",
       "      <td>77.0</td>\n",
       "      <td>2.0</td>\n",
       "      <td>182.0</td>\n",
       "      <td>7632.0</td>\n",
       "      <td>0.0</td>\n",
       "      <td>0.0</td>\n",
       "      <td>0.0</td>\n",
       "      <td>12489.0</td>\n",
       "      <td>0.0</td>\n",
       "      <td>...</td>\n",
       "      <td>25.335</td>\n",
       "      <td>1.0</td>\n",
       "      <td>0.0</td>\n",
       "      <td>0.0</td>\n",
       "      <td>0.0</td>\n",
       "      <td>0.0</td>\n",
       "      <td>9</td>\n",
       "      <td>27</td>\n",
       "      <td>63602.0</td>\n",
       "      <td>259200.0</td>\n",
       "    </tr>\n",
       "    <tr>\n",
       "      <th>3122152074658312541</th>\n",
       "      <th>1</th>\n",
       "      <td>2102.0</td>\n",
       "      <td>8615.0</td>\n",
       "      <td>1.0</td>\n",
       "      <td>53265.0</td>\n",
       "      <td>7632.0</td>\n",
       "      <td>0.0</td>\n",
       "      <td>0.0</td>\n",
       "      <td>0.0</td>\n",
       "      <td>12489.0</td>\n",
       "      <td>0.0</td>\n",
       "      <td>...</td>\n",
       "      <td>198.000</td>\n",
       "      <td>0.0</td>\n",
       "      <td>0.0</td>\n",
       "      <td>0.0</td>\n",
       "      <td>0.0</td>\n",
       "      <td>0.0</td>\n",
       "      <td>6</td>\n",
       "      <td>5</td>\n",
       "      <td>2472.0</td>\n",
       "      <td>259200.0</td>\n",
       "    </tr>\n",
       "    <tr>\n",
       "      <th>3317753467203870649</th>\n",
       "      <th>1</th>\n",
       "      <td>8033.0</td>\n",
       "      <td>0.0</td>\n",
       "      <td>0.0</td>\n",
       "      <td>0.0</td>\n",
       "      <td>7632.0</td>\n",
       "      <td>0.0</td>\n",
       "      <td>0.0</td>\n",
       "      <td>0.0</td>\n",
       "      <td>70.0</td>\n",
       "      <td>0.0</td>\n",
       "      <td>...</td>\n",
       "      <td>198.000</td>\n",
       "      <td>0.0</td>\n",
       "      <td>0.0</td>\n",
       "      <td>15.0</td>\n",
       "      <td>0.0</td>\n",
       "      <td>0.0</td>\n",
       "      <td>19</td>\n",
       "      <td>15</td>\n",
       "      <td>259200.0</td>\n",
       "      <td>259200.0</td>\n",
       "    </tr>\n",
       "    <tr>\n",
       "      <th>4177895333092974918</th>\n",
       "      <th>1</th>\n",
       "      <td>3990.0</td>\n",
       "      <td>15394.0</td>\n",
       "      <td>0.0</td>\n",
       "      <td>59636.0</td>\n",
       "      <td>7632.0</td>\n",
       "      <td>0.0</td>\n",
       "      <td>0.0</td>\n",
       "      <td>0.0</td>\n",
       "      <td>12489.0</td>\n",
       "      <td>0.0</td>\n",
       "      <td>...</td>\n",
       "      <td>198.000</td>\n",
       "      <td>0.0</td>\n",
       "      <td>0.0</td>\n",
       "      <td>0.0</td>\n",
       "      <td>0.0</td>\n",
       "      <td>0.0</td>\n",
       "      <td>15</td>\n",
       "      <td>41</td>\n",
       "      <td>259200.0</td>\n",
       "      <td>259200.0</td>\n",
       "    </tr>\n",
       "  </tbody>\n",
       "</table>\n",
       "<p>5 rows × 31 columns</p>\n",
       "</div>"
      ],
      "text/plain": [
       "                               auc_secs_to_next_mean  auc_secs_to_next_std  \\\n",
       "ref_hash            window_nr                                                \n",
       "4881735474151208235 1                         8033.0                   0.0   \n",
       "4679881814211948892 1                           45.0                  77.0   \n",
       "3122152074658312541 1                         2102.0                8615.0   \n",
       "3317753467203870649 1                         8033.0                   0.0   \n",
       "4177895333092974918 1                         3990.0               15394.0   \n",
       "\n",
       "                               auc_secs_to_next_max  auc_secs_to_next_min  \\\n",
       "ref_hash            window_nr                                               \n",
       "4881735474151208235 1                           0.0                   0.0   \n",
       "4679881814211948892 1                           2.0                 182.0   \n",
       "3122152074658312541 1                           1.0               53265.0   \n",
       "3317753467203870649 1                           0.0                   0.0   \n",
       "4177895333092974918 1                           0.0               59636.0   \n",
       "\n",
       "                               ins_secs_to_next_mean  ins_secs_to_next_std  \\\n",
       "ref_hash            window_nr                                                \n",
       "4881735474151208235 1                         7632.0                   0.0   \n",
       "4679881814211948892 1                         7632.0                   0.0   \n",
       "3122152074658312541 1                         7632.0                   0.0   \n",
       "3317753467203870649 1                         7632.0                   0.0   \n",
       "4177895333092974918 1                         7632.0                   0.0   \n",
       "\n",
       "                               ins_secs_to_next_max  ins_secs_to_next_min  \\\n",
       "ref_hash            window_nr                                               \n",
       "4881735474151208235 1                           0.0                   0.0   \n",
       "4679881814211948892 1                           0.0                   0.0   \n",
       "3122152074658312541 1                           0.0                   0.0   \n",
       "3317753467203870649 1                           0.0                   0.0   \n",
       "4177895333092974918 1                           0.0                   0.0   \n",
       "\n",
       "                               eve_secs_to_next_mean  eve_secs_to_next_std  \\\n",
       "ref_hash            window_nr                                                \n",
       "4881735474151208235 1                           17.0                   0.0   \n",
       "4679881814211948892 1                        12489.0                   0.0   \n",
       "3122152074658312541 1                        12489.0                   0.0   \n",
       "3317753467203870649 1                           70.0                   0.0   \n",
       "4177895333092974918 1                        12489.0                   0.0   \n",
       "\n",
       "                               ...  timeToClick_mean  amount_dif_advertisers  \\\n",
       "ref_hash            window_nr  ...                                             \n",
       "4881735474151208235 1          ...           198.000                     0.0   \n",
       "4679881814211948892 1          ...            25.335                     1.0   \n",
       "3122152074658312541 1          ...           198.000                     0.0   \n",
       "3317753467203870649 1          ...           198.000                     0.0   \n",
       "4177895333092974918 1          ...           198.000                     0.0   \n",
       "\n",
       "                               amount_installs  last_event  before_last_event  \\\n",
       "ref_hash            window_nr                                                   \n",
       "4881735474151208235 1                      0.0         7.0                0.0   \n",
       "4679881814211948892 1                      0.0         0.0                0.0   \n",
       "3122152074658312541 1                      0.0         0.0                0.0   \n",
       "3317753467203870649 1                      0.0        15.0                0.0   \n",
       "4177895333092974918 1                      0.0         0.0                0.0   \n",
       "\n",
       "                               before_before_last_event  kmeans20  kmeans50  \\\n",
       "ref_hash            window_nr                                                 \n",
       "4881735474151208235 1                               0.0        19        15   \n",
       "4679881814211948892 1                               0.0         9        27   \n",
       "3122152074658312541 1                               0.0         6         5   \n",
       "3317753467203870649 1                               0.0        19        15   \n",
       "4177895333092974918 1                               0.0        15        41   \n",
       "\n",
       "                               target_st  target_sc  \n",
       "ref_hash            window_nr                        \n",
       "4881735474151208235 1           259200.0   259200.0  \n",
       "4679881814211948892 1            63602.0   259200.0  \n",
       "3122152074658312541 1             2472.0   259200.0  \n",
       "3317753467203870649 1           259200.0   259200.0  \n",
       "4177895333092974918 1           259200.0   259200.0  \n",
       "\n",
       "[5 rows x 31 columns]"
      ]
     },
     "execution_count": 7,
     "metadata": {},
     "output_type": "execute_result"
    }
   ],
   "source": [
    "training_set.head()"
   ]
  },
  {
   "cell_type": "code",
   "execution_count": 8,
   "metadata": {},
   "outputs": [],
   "source": [
    "x_st = training_set[[x for x in training_set.columns if x not in targets.columns]]\n",
    "y_st = training_set['target_st']\n",
    "\n",
    "x_sc = training_set[[x for x in training_set.columns if x not in targets.columns]]\n",
    "y_sc = training_set['target_sc']"
   ]
  },
  {
   "cell_type": "markdown",
   "metadata": {},
   "source": [
    "---\n",
    "## Training "
   ]
  },
  {
   "cell_type": "code",
   "execution_count": 9,
   "metadata": {},
   "outputs": [],
   "source": [
    "xtrain_st, xtest_st, ytrain_st, ytest_st = train_test_split(x_st, y_st, train_size=0.7)\n",
    "xtrain_sc, xtest_sc, ytrain_sc, ytest_sc = train_test_split(x_sc, y_sc, train_size=0.7)"
   ]
  },
  {
   "cell_type": "code",
   "execution_count": 10,
   "metadata": {},
   "outputs": [
    {
     "name": "stderr",
     "output_type": "stream",
     "text": [
      "/home/gatti2602/.local/lib/python3.6/site-packages/xgboost/core.py:587: FutureWarning: Series.base is deprecated and will be removed in a future version\n",
      "  if getattr(data, 'base', None) is not None and \\\n"
     ]
    },
    {
     "name": "stdout",
     "output_type": "stream",
     "text": [
      "CPU times: user 1min 15s, sys: 684 ms, total: 1min 16s\n",
      "Wall time: 21.6 s\n"
     ]
    }
   ],
   "source": [
    "%%time\n",
    "\n",
    "model_st = xgb.XGBRegressor(objective='reg:squarederror', n_jobs=cores)\n",
    "model_sc = xgb.XGBRegressor(objective='reg:squarederror', n_jobs = cores)\n",
    "\n",
    "model_st.fit(xtrain_st, ytrain_st)\n",
    "model_sc.fit(xtrain_sc, ytrain_sc)"
   ]
  },
  {
   "cell_type": "code",
   "execution_count": 11,
   "metadata": {},
   "outputs": [],
   "source": [
    "def xgb_model_select(X, y):  \n",
    "    print ('Select Model...')\n",
    "    start_time  = datetime.datetime.now()\n",
    "    xgb_clf = xgb.XGBRegressor() \n",
    "    parameters = {'objective':['reg:squarederror'],'n_estimators': [i for i in range(20,110,30)], 'max_depth':[i for i in range (3,6)]}\n",
    "    grid_search = GridSearchCV(estimator=xgb_clf, param_grid=parameters, cv=10, n_jobs=4, scoring='neg_mean_squared_error')\n",
    "    print(\"parameters:\")\n",
    "    pprint.pprint(parameters)\n",
    "    grid_search.fit(X, y)\n",
    "    print(\"Best score: %0.3f\" % grid_search.best_score_)\n",
    "    print(\"Best parameters set:\")\n",
    "    best_parameters=grid_search.best_estimator_.get_params()\n",
    "    for param_name in sorted(parameters.keys()):\n",
    "        print(\"\\t%s: %r\" % (param_name, best_parameters[param_name]))\n",
    "    end_time = datetime.datetime.now()\n",
    "    print ('Select Done..., Time Cost: %d' % ((end_time - start_time).seconds) )"
   ]
  },
  {
   "cell_type": "code",
   "execution_count": 12,
   "metadata": {},
   "outputs": [],
   "source": [
    "#xgb_model_select(x_sc,y_sc)"
   ]
  },
  {
   "cell_type": "code",
   "execution_count": 13,
   "metadata": {},
   "outputs": [
    {
     "name": "stdout",
     "output_type": "stream",
     "text": [
      "Error St.: 83332.14061549415\n",
      "Error Sc.: 52124.58173912356\n"
     ]
    }
   ],
   "source": [
    "ypred_st = model_st.predict(xtest_st)\n",
    "print(\"Error St.:\", sqrt(mean_squared_error(ytest_st,ypred_st)))\n",
    "\n",
    "ypred_sc = model_sc.predict(xtest_sc)\n",
    "print(\"Error Sc.:\", sqrt(mean_squared_error(ytest_sc,ypred_sc)))"
   ]
  },
  {
   "cell_type": "code",
   "execution_count": 18,
   "metadata": {},
   "outputs": [
    {
     "data": {
      "text/plain": [
       "Text(0.5, 1.0, 'Features Mas importantes para St')"
      ]
     },
     "execution_count": 18,
     "metadata": {},
     "output_type": "execute_result"
    },
    {
     "data": {
      "image/png": "[encoded data removed]",
      "text/plain": [
       "<Figure size 432x288 with 1 Axes>"
      ]
     },
     "metadata": {
      "needs_background": "light"
     },
     "output_type": "display_data"
    }
   ],
   "source": [
    "pd.DataFrame({'score':model_st.feature_importances_ , 'cols': x_st.columns})\\\n",
    "        .sort_values(by='score',ascending=False)\\\n",
    "        .plot(kind='bar', x='cols', y='score')\\\n",
    "        .set_title(\"Features Mas importantes para St\")"
   ]
  },
  {
   "cell_type": "code",
   "execution_count": 19,
   "metadata": {},
   "outputs": [
    {
     "data": {
      "text/plain": [
       "Text(0.5, 1.0, 'Features Mas importantes para Sc')"
      ]
     },
     "execution_count": 19,
     "metadata": {},
     "output_type": "execute_result"
    },
    {
     "data": {
      "image/png": "[encoded data removed]",
      "text/plain": [
       "<Figure size 432x288 with 1 Axes>"
      ]
     },
     "metadata": {
      "needs_background": "light"
     },
     "output_type": "display_data"
    }
   ],
   "source": [
    "pd.DataFrame({'score':model_sc.feature_importances_ , 'cols': x_st.columns})\\\n",
    "        .sort_values(by='score',ascending=False)\\\n",
    "        .plot(kind='bar', x='cols', y='score')\\\n",
    "        .set_title(\"Features Mas importantes para Sc\")"
   ]
  },
  {
   "cell_type": "markdown",
   "metadata": {},
   "source": [
    "---\n",
    "## Prediccion"
   ]
  },
  {
   "cell_type": "code",
   "execution_count": 20,
   "metadata": {},
   "outputs": [
    {
     "data": {
      "text/html": [
       "<div>\n",
       "<style scoped>\n",
       "    .dataframe tbody tr th:only-of-type {\n",
       "        vertical-align: middle;\n",
       "    }\n",
       "\n",
       "    .dataframe tbody tr th {\n",
       "        vertical-align: top;\n",
       "    }\n",
       "\n",
       "    .dataframe thead th {\n",
       "        text-align: right;\n",
       "    }\n",
       "</style>\n",
       "<table border=\"1\" class=\"dataframe\">\n",
       "  <thead>\n",
       "    <tr style=\"text-align: right;\">\n",
       "      <th></th>\n",
       "      <th>ref_hash</th>\n",
       "    </tr>\n",
       "  </thead>\n",
       "  <tbody>\n",
       "    <tr>\n",
       "      <th>0</th>\n",
       "      <td>1000169251625791246_sc</td>\n",
       "    </tr>\n",
       "    <tr>\n",
       "      <th>1</th>\n",
       "      <td>1000169251625791246_st</td>\n",
       "    </tr>\n",
       "    <tr>\n",
       "      <th>2</th>\n",
       "      <td>1000395625957344683_sc</td>\n",
       "    </tr>\n",
       "    <tr>\n",
       "      <th>3</th>\n",
       "      <td>1000395625957344683_st</td>\n",
       "    </tr>\n",
       "    <tr>\n",
       "      <th>4</th>\n",
       "      <td>1003027494996471685_sc</td>\n",
       "    </tr>\n",
       "  </tbody>\n",
       "</table>\n",
       "</div>"
      ],
      "text/plain": [
       "                 ref_hash\n",
       "0  1000169251625791246_sc\n",
       "1  1000169251625791246_st\n",
       "2  1000395625957344683_sc\n",
       "3  1000395625957344683_st\n",
       "4  1003027494996471685_sc"
      ]
     },
     "execution_count": 20,
     "metadata": {},
     "output_type": "execute_result"
    }
   ],
   "source": [
    "# Labels a submitir con las predicciones\n",
    "\n",
    "to_predict = pd.read_csv(root_dir + 'target_competencia_ids.csv',usecols=['ref_hash'])\n",
    "to_predict.head()"
   ]
  },
  {
   "cell_type": "code",
   "execution_count": 21,
   "metadata": {},
   "outputs": [],
   "source": [
    "X = features.reset_index()\n",
    "X = X.loc[X['window_nr'] == 3].set_index(group)"
   ]
  },
  {
   "cell_type": "code",
   "execution_count": 22,
   "metadata": {},
   "outputs": [],
   "source": [
    "y_st = model_st.predict(X)\n",
    "y_sc = model_sc.predict(X)"
   ]
  },
  {
   "cell_type": "code",
   "execution_count": 23,
   "metadata": {},
   "outputs": [],
   "source": [
    "results_st = X.reset_index()['ref_hash'].transform(lambda x: str(x) + '_st').rename('ref_hash').to_frame()\n",
    "results_st['obj'] = y_st\n",
    "\n",
    "results_sc = X.reset_index()['ref_hash'].transform(lambda x: str(x) + '_sc').rename('ref_hash').to_frame()\n",
    "results_sc['obj'] = y_sc\n",
    "\n",
    "results = results_st.append(results_sc)"
   ]
  },
  {
   "cell_type": "code",
   "execution_count": 24,
   "metadata": {},
   "outputs": [],
   "source": [
    "targets_mean = targets.reset_index()\n",
    "targets_mean = targets_mean.loc[~targets_mean['ref_hash'].isin(X.reset_index()['ref_hash'])].groupby('ref_hash')[['target_st','target_sc']].mean().reset_index()\n",
    "\n",
    "t_st = targets_mean['ref_hash'].transform(lambda x: str(x) + '_st').rename('ref_hash').to_frame()\n",
    "t_st['obj'] = targets_mean['target_st']\n",
    "\n",
    "t_sc = targets_mean['ref_hash'].transform(lambda x: str(x) + '_sc').rename('ref_hash').to_frame()\n",
    "t_sc['obj'] = targets_mean['target_sc']\n",
    "\n",
    "r = t_st.append(t_sc)"
   ]
  },
  {
   "cell_type": "code",
   "execution_count": 25,
   "metadata": {},
   "outputs": [],
   "source": [
    "results = results.append(r)"
   ]
  },
  {
   "cell_type": "code",
   "execution_count": 26,
   "metadata": {},
   "outputs": [
    {
     "data": {
      "text/plain": [
       "8056"
      ]
     },
     "execution_count": 26,
     "metadata": {},
     "output_type": "execute_result"
    }
   ],
   "source": [
    "to_predict.merge(results, on='ref_hash', how='left')['obj'].count()"
   ]
  },
  {
   "cell_type": "code",
   "execution_count": 27,
   "metadata": {},
   "outputs": [],
   "source": [
    "#Armado de File Final\n",
    "max_secs = 3*24*60*60\n",
    "to_predict.merge(results, on='ref_hash', how='left').fillna(max_secs).to_csv('predictions_xgb.csv', header=True, index=False)"
   ]
  },
  {
   "cell_type": "code",
   "execution_count": 28,
   "metadata": {},
   "outputs": [
    {
     "data": {
      "text/plain": [
       "ref_hash    8074\n",
       "dtype: int64"
      ]
     },
     "execution_count": 28,
     "metadata": {},
     "output_type": "execute_result"
    }
   ],
   "source": [
    "to_predict.count()"
   ]
  },
  {
   "cell_type": "code",
   "execution_count": null,
   "metadata": {},
   "outputs": [],
   "source": []
  }
 ],
 "metadata": {
  "kernelspec": {
   "display_name": "Python 3",
   "language": "python",
   "name": "python3"
  },
  "language_info": {
   "codemirror_mode": {
    "name": "ipython",
    "version": 3
   },
   "file_extension": ".py",
   "mimetype": "text/x-python",
   "name": "python",
   "nbconvert_exporter": "python",
   "pygments_lexer": "ipython3",
   "version": "3.6.7"
  }
 },
 "nbformat": 4,
 "nbformat_minor": 2
}
