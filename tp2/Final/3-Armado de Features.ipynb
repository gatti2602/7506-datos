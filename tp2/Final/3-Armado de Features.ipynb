{
 "cells": [
  {
   "cell_type": "code",
   "execution_count": 1,
   "metadata": {},
   "outputs": [],
   "source": [
    "import pandas as pd\n",
    "import matplotlib as mp\n",
    "import numpy as np\n",
    "from datetime import timedelta\n",
    "import datetime as dt\n",
    "\n",
    "%matplotlib inline\n",
    "\n",
    "#Root de archivos de datos\n",
    "root_dir = '../data/'\n",
    "\n",
    "#Lee menos data si es testing\n",
    "is_testing = False\n",
    "\n",
    "# Cantidad minima de aparicion de equipos en un dataframe\n",
    "min_devices = 5\n",
    "\n",
    "# Identificador unico de equipos\n",
    "device_uuid = ['ref_hash']\n",
    "\n",
    "# Ventanas de tiempo\n",
    "windows = pd.DataFrame({\n",
    "    'begin_date': [dt.datetime(2019,4,18),dt.datetime(2019,4,21),dt.datetime(2019,4,24)],\n",
    "    'window_nr':[1,2,3]\n",
    "})"
   ]
  },
  {
   "cell_type": "markdown",
   "metadata": {},
   "source": [
    "# Armado de Features\n",
    "\n",
    "Se utilizan 3 ventanas de tiempo y se procesan los dataframes para obtener features de esas 3 ventanas por separado. \n",
    "\n",
    "Como resultado se obtiene un dataset de features mas grande cuyos datos no se solapan en tiempo. Por lo que son validos para la prediccion. \n",
    "\n",
    "Se realiza la lectura y limpiado de los dataframes principales, con los mismos se realiza el filtrado y armado de los features. \n",
    "\n",
    "---\n",
    "## 1. Lectura de DataFrames"
   ]
  },
  {
   "cell_type": "code",
   "execution_count": 2,
   "metadata": {},
   "outputs": [
    {
     "name": "stdout",
     "output_type": "stream",
     "text": [
      "Not Testing, #records: 47409528\n"
     ]
    }
   ],
   "source": [
    "#Optimizado para menos memoria\n",
    "auction_dtypes = {\n",
    "    'device_id': np.int64,\n",
    "    'source_id': np.int8\n",
    "}\n",
    "\n",
    "auctions = pd.read_csv(root_dir + 'auctions.csv.gzip',\n",
    "                       compression = 'gzip',\n",
    "                       dtype = auction_dtypes,\n",
    "                       usecols=list(auction_dtypes.keys()) + ['date'],\n",
    "                       parse_dates = ['date'])\n",
    "auctions.rename({'device_id':'ref_hash',\n",
    "                 'date':'created'}, inplace=True, axis='columns')\n",
    "auctions['n'] = 1\n",
    "\n",
    "# Para hacer pruebas ocupando menos memoria se hace un sampleo aleatorio de la mitad del dataframe y se elimina el resto\n",
    "if is_testing:\n",
    "    auctions = auctions.sample(frac=.30)\n",
    "    print(\"Is Testing, #records:\", auctions['n'].sum())\n",
    "else:\n",
    "    print(\"Not Testing, #records:\", auctions['n'].sum())"
   ]
  },
  {
   "cell_type": "code",
   "execution_count": 3,
   "metadata": {},
   "outputs": [],
   "source": [
    "# Labels a submitir con las predicciones\n",
    "to_predict = pd.read_csv(root_dir + 'target_competencia_ids.csv')\n",
    "to_predict = to_predict.apply(lambda x: np.int64(x['ref_hash'][0:x['ref_hash'].find('_')]), axis='columns').drop_duplicates().to_frame()\n",
    "to_predict.columns = ['ref_hash']"
   ]
  },
  {
   "cell_type": "code",
   "execution_count": 4,
   "metadata": {},
   "outputs": [],
   "source": [
    "unique_hashes = pd.read_csv(root_dir+'unique_hashes.csv')"
   ]
  },
  {
   "cell_type": "markdown",
   "metadata": {},
   "source": [
    "---\n",
    "## 2. Arreglo de los datos\n",
    "\n",
    "### Separo las semanas de entrenamiento\n",
    "\n",
    "Se utiliza el siguiente metodo: \n",
    "\n",
    "1. Ventana del 18 al 20 inclusive (1) -> Predice valores entre el 21 y 24 (2)\n",
    "2. Ventana del 21 al 23 inclusive (2) -> Predice valores entre el 24 y 26 (3)"
   ]
  },
  {
   "cell_type": "code",
   "execution_count": 5,
   "metadata": {},
   "outputs": [],
   "source": [
    "#Agrego la ventana de tiempo\n",
    "auctions = auctions.loc[auctions['ref_hash'].isin(unique_hashes['ref_hash'])]\\\n",
    "                   .sort_values(by='created')\n",
    "auctions = pd.merge_asof(auctions,windows,left_on='created',right_on='begin_date').drop('begin_date', axis='columns')"
   ]
  },
  {
   "cell_type": "markdown",
   "metadata": {},
   "source": [
    "### 2.1 Arreglo de Auctions"
   ]
  },
  {
   "cell_type": "code",
   "execution_count": 6,
   "metadata": {},
   "outputs": [
    {
     "name": "stdout",
     "output_type": "stream",
     "text": [
      "Eliminados: 736875\n",
      "CPU times: user 10min 8s, sys: 17.9 s, total: 10min 26s\n",
      "Wall time: 10min 22s\n"
     ]
    }
   ],
   "source": [
    "%%time\n",
    "#Elimino los registros con menos de un minimo de entradas, ya que no hay mucho que predecir en estos casos\n",
    "group = ['ref_hash','window_nr']\n",
    "orig_count = auctions['n'].sum()\n",
    "auctions = auctions.groupby(group, sort = False)\\\n",
    "                   .filter(lambda x: x['n'].sum() >= min_devices)\\\n",
    "                   .sort_values(by=group+['created'])\n",
    "last_count = auctions['n'].sum()\n",
    "print('Eliminados:', orig_count-last_count)"
   ]
  },
  {
   "cell_type": "code",
   "execution_count": 7,
   "metadata": {},
   "outputs": [
    {
     "name": "stdout",
     "output_type": "stream",
     "text": [
      "CPU times: user 17min 15s, sys: 17.8 s, total: 17min 33s\n",
      "Wall time: 19min 19s\n"
     ]
    }
   ],
   "source": [
    "%%time\n",
    "auctions['next_date'] = auctions.groupby(group, as_index = False, sort=False)['created'].transform(lambda x: x.shift(-1))\n",
    "auctions = auctions.loc[(~auctions['next_date'].isnull())]\n",
    "auctions['secs_to_next'] = (auctions['next_date'] - auctions['created']).transform(lambda x: round(x.total_seconds()))"
   ]
  },
  {
   "cell_type": "code",
   "execution_count": 8,
   "metadata": {},
   "outputs": [
    {
     "data": {
      "text/html": [
       "<div>\n",
       "<style scoped>\n",
       "    .dataframe tbody tr th:only-of-type {\n",
       "        vertical-align: middle;\n",
       "    }\n",
       "\n",
       "    .dataframe tbody tr th {\n",
       "        vertical-align: top;\n",
       "    }\n",
       "\n",
       "    .dataframe thead th {\n",
       "        text-align: right;\n",
       "    }\n",
       "</style>\n",
       "<table border=\"1\" class=\"dataframe\">\n",
       "  <thead>\n",
       "    <tr style=\"text-align: right;\">\n",
       "      <th></th>\n",
       "      <th>created</th>\n",
       "      <th>ref_hash</th>\n",
       "      <th>source_id</th>\n",
       "      <th>n</th>\n",
       "      <th>window_nr</th>\n",
       "      <th>next_date</th>\n",
       "      <th>secs_to_next</th>\n",
       "    </tr>\n",
       "  </thead>\n",
       "  <tbody>\n",
       "    <tr>\n",
       "      <th>9146132</th>\n",
       "      <td>2019-04-19 19:40:28.465866</td>\n",
       "      <td>41863526108385</td>\n",
       "      <td>8</td>\n",
       "      <td>1</td>\n",
       "      <td>1</td>\n",
       "      <td>2019-04-20 02:52:26.892880</td>\n",
       "      <td>25918</td>\n",
       "    </tr>\n",
       "    <tr>\n",
       "      <th>11162626</th>\n",
       "      <td>2019-04-20 02:52:26.892880</td>\n",
       "      <td>41863526108385</td>\n",
       "      <td>3</td>\n",
       "      <td>1</td>\n",
       "      <td>1</td>\n",
       "      <td>2019-04-20 02:59:02.509230</td>\n",
       "      <td>396</td>\n",
       "    </tr>\n",
       "    <tr>\n",
       "      <th>11194917</th>\n",
       "      <td>2019-04-20 02:59:02.509230</td>\n",
       "      <td>41863526108385</td>\n",
       "      <td>3</td>\n",
       "      <td>1</td>\n",
       "      <td>1</td>\n",
       "      <td>2019-04-20 03:06:01.675788</td>\n",
       "      <td>419</td>\n",
       "    </tr>\n",
       "    <tr>\n",
       "      <th>11229465</th>\n",
       "      <td>2019-04-20 03:06:01.675788</td>\n",
       "      <td>41863526108385</td>\n",
       "      <td>3</td>\n",
       "      <td>1</td>\n",
       "      <td>1</td>\n",
       "      <td>2019-04-20 03:08:57.388160</td>\n",
       "      <td>176</td>\n",
       "    </tr>\n",
       "    <tr>\n",
       "      <th>11244486</th>\n",
       "      <td>2019-04-20 03:08:57.388160</td>\n",
       "      <td>41863526108385</td>\n",
       "      <td>3</td>\n",
       "      <td>1</td>\n",
       "      <td>1</td>\n",
       "      <td>2019-04-20 03:11:26.463903</td>\n",
       "      <td>149</td>\n",
       "    </tr>\n",
       "  </tbody>\n",
       "</table>\n",
       "</div>"
      ],
      "text/plain": [
       "                            created        ref_hash  source_id  n  window_nr  \\\n",
       "9146132  2019-04-19 19:40:28.465866  41863526108385          8  1          1   \n",
       "11162626 2019-04-20 02:52:26.892880  41863526108385          3  1          1   \n",
       "11194917 2019-04-20 02:59:02.509230  41863526108385          3  1          1   \n",
       "11229465 2019-04-20 03:06:01.675788  41863526108385          3  1          1   \n",
       "11244486 2019-04-20 03:08:57.388160  41863526108385          3  1          1   \n",
       "\n",
       "                          next_date  secs_to_next  \n",
       "9146132  2019-04-20 02:52:26.892880         25918  \n",
       "11162626 2019-04-20 02:59:02.509230           396  \n",
       "11194917 2019-04-20 03:06:01.675788           419  \n",
       "11229465 2019-04-20 03:08:57.388160           176  \n",
       "11244486 2019-04-20 03:11:26.463903           149  "
      ]
     },
     "execution_count": 8,
     "metadata": {},
     "output_type": "execute_result"
    }
   ],
   "source": [
    "auctions.head()"
   ]
  },
  {
   "cell_type": "markdown",
   "metadata": {},
   "source": [
    "## Lectura y limpieza de otros dataframes\n",
    "\n",
    "Esto se hace despues pues preparar Auctions requiere de toda la memoria posible libre"
   ]
  },
  {
   "cell_type": "code",
   "execution_count": 226,
   "metadata": {},
   "outputs": [
    {
     "name": "stdout",
     "output_type": "stream",
     "text": [
      "Not Testing, #records: 7744581\n"
     ]
    }
   ],
   "source": [
    "events_dtypes = {\n",
    "    'event_id': np.int64,\n",
    "    'ref_hash': np.int64,\n",
    "    'application_id': np.int64,\n",
    "    'attributed': np.bool,\n",
    "    'device_os_version': 'object',\n",
    "    'device_brand': 'object',\n",
    "    'device_model': 'object',\n",
    "    'device_city': 'object',\n",
    "    'session_user_agent': 'object',\n",
    "    'trans_id': 'category',\n",
    "    'user_agent': 'object',\n",
    "    'event_uuid': 'object',\n",
    "    'carrier': 'object',\n",
    "    'kind': 'object',\n",
    "    'device_os': 'object',\n",
    "    'wifi': np.bool,\n",
    "    'connection_type': 'object',\n",
    "    #'ip_address': np.int64,\n",
    "    #'device_language': 'category'\n",
    "}\n",
    "events_cols = list(events_dtypes.keys()) + ['date']\n",
    "events = pd.read_csv(root_dir + 'events.csv.gzip', \n",
    "                     compression='gzip',\n",
    "                     dtype=events_dtypes,\n",
    "                     usecols=events_cols,\n",
    "                     parse_dates=['date'])\n",
    "\n",
    "events.rename({'date':'created'}, inplace=True, axis='columns')\n",
    "events['n'] = 1\n",
    "# Para hacer pruebas ocupando menos memoria se hace un sampleo aleatorio de la mitad del dataframe y se elimina el resto\n",
    "if is_testing:\n",
    "    events = events.sample(frac=.30)\n",
    "    print(\"Is Testing, #records:\", events['n'].sum())\n",
    "else:\n",
    "    print(\"Not Testing, #records:\", events['n'].sum())"
   ]
  },
  {
   "cell_type": "code",
   "execution_count": 227,
   "metadata": {},
   "outputs": [
    {
     "name": "stdout",
     "output_type": "stream",
     "text": [
      "#records: 481511\n"
     ]
    }
   ],
   "source": [
    "installs_dtypes = {\n",
    "    'application_id': np.int32,\n",
    "    'ref_hash': np.int64, \n",
    "    #'click_hash':'category',\n",
    "    'attributed': 'category',\n",
    "    'implicit': 'category',\n",
    "    #'device_countrycode': 'object', \n",
    "    'device_brand': 'object',\n",
    "    'device_model': 'object', \n",
    "    'session_user_agent': 'object', \n",
    "    'user_agent': 'object', \n",
    "    'event_uuid':'object',\n",
    "    'kind': 'object',\n",
    "    'wifi': 'object', \n",
    "    'trans_id': 'object', \n",
    "    #'ip_address':'object', \n",
    "    'device_language': 'object'\n",
    "}\n",
    "install_cols = list(installs_dtypes.keys()) + ['created']\n",
    "installs = pd.read_csv(root_dir + 'installs.csv.gzip', \n",
    "                       compression='gzip', \n",
    "                       usecols=install_cols,\n",
    "                       dtype= installs_dtypes,\n",
    "                      parse_dates=['created'])\n",
    "\n",
    "installs['n'] = 1\n",
    "print('#records:', installs['n'].sum())"
   ]
  },
  {
   "cell_type": "code",
   "execution_count": 228,
   "metadata": {},
   "outputs": [
    {
     "name": "stdout",
     "output_type": "stream",
     "text": [
      "#records: 64296\n"
     ]
    }
   ],
   "source": [
    "clicks_dtypes = {\n",
    "    'advertiser_id': np.int64, \n",
    "    'action_id': np.float, \n",
    "    'source_id': np.int8, \n",
    "    'latitude' : np.float64, \n",
    "    'longitude': np.float64, \n",
    "    'wifi_connection': np.bool, \n",
    "    'carrier_id': 'object', \n",
    "    'trans_id': 'object',\n",
    "    'os_minor':'object', \n",
    "    'agent_device' : 'object', \n",
    "    'os_major': 'object', \n",
    "    'specs_brand': 'category', \n",
    "    'brand': 'object',\n",
    "    'timeToClick': np.float64, \n",
    "    'touchX': 'object', \n",
    "    'touchY': 'object', \n",
    "    'ref_hash':np.int64,\n",
    "    'created' : 'object'\n",
    "}\n",
    "clicks = pd.read_csv(root_dir + 'clicks.csv.gzip', \n",
    "                     compression='gzip',\n",
    "                     usecols=list(clicks_dtypes.keys()) + ['created'],\n",
    "                     dtype=clicks_dtypes,\n",
    "                     parse_dates=['created'])\n",
    "clicks['n'] = 1\n",
    "print('#records:', clicks['n'].sum())"
   ]
  },
  {
   "cell_type": "code",
   "execution_count": 229,
   "metadata": {},
   "outputs": [],
   "source": [
    "installs = installs.loc[installs['ref_hash'].isin(unique_hashes['ref_hash'])]\n",
    "installs.sort_values(by='created',inplace=True)\n",
    "installs = pd.merge_asof(installs,windows,left_on='created',right_on='begin_date').drop('begin_date', axis='columns')"
   ]
  },
  {
   "cell_type": "code",
   "execution_count": 230,
   "metadata": {},
   "outputs": [],
   "source": [
    "clicks = clicks.loc[clicks['ref_hash'].isin(unique_hashes['ref_hash'])]\n",
    "clicks['created'] = clicks['created'].dt.tz_localize(None)\n",
    "clicks.sort_values(by='created',inplace=True)\n",
    "clicks = pd.merge_asof(clicks,windows,left_on='created',right_on='begin_date').drop('begin_date', axis='columns')"
   ]
  },
  {
   "cell_type": "code",
   "execution_count": 231,
   "metadata": {},
   "outputs": [],
   "source": [
    "events = events.loc[events['ref_hash'].isin(unique_hashes['ref_hash'])]\n",
    "events.sort_values(by='created',inplace=True)\n",
    "events = pd.merge_asof(events,windows,left_on='created',right_on='begin_date').drop('begin_date', axis='columns')"
   ]
  },
  {
   "cell_type": "markdown",
   "metadata": {},
   "source": [
    "### Arreglo de installs"
   ]
  },
  {
   "cell_type": "code",
   "execution_count": 232,
   "metadata": {},
   "outputs": [],
   "source": [
    "installs['kind'] = installs['kind'].str.replace(' ','_')\n",
    "installs['kind'] = installs['kind'].str.replace('af_app_open ','af_app_opened')\n",
    "installs['kind'] = installs['kind'].str.replace('af_app_opend','af_app_opened')\n",
    "installs['kind'] = installs['kind'].str.lower()"
   ]
  },
  {
   "cell_type": "code",
   "execution_count": 233,
   "metadata": {},
   "outputs": [
    {
     "data": {
      "text/plain": [
       "created                    0\n",
       "application_id             0\n",
       "ref_hash                   0\n",
       "attributed                 0\n",
       "implicit                   0\n",
       "device_brand          204813\n",
       "device_model           26871\n",
       "session_user_agent     14828\n",
       "user_agent            150111\n",
       "event_uuid            377704\n",
       "kind                  377704\n",
       "wifi                  186016\n",
       "trans_id              472140\n",
       "device_language        27552\n",
       "n                          0\n",
       "window_nr                  0\n",
       "dtype: int64"
      ]
     },
     "execution_count": 233,
     "metadata": {},
     "output_type": "execute_result"
    }
   ],
   "source": [
    "installs.isnull().sum()\n"
   ]
  },
  {
   "cell_type": "code",
   "execution_count": 234,
   "metadata": {},
   "outputs": [],
   "source": [
    "for i in ['device_brand','device_model','session_user_agent','user_agent','kind','wifi','device_language']:\n",
    "    installs[i] = installs[i].fillna('unknown')\n",
    "installs['device_brand'] = installs['device_brand'].astype('category')\n",
    "installs['device_model'] = installs['device_model'].astype('category')\n",
    "installs['session_user_agent'] = installs['session_user_agent'].astype('category')\n",
    "installs['user_agent'] = installs['user_agent'].astype('category')\n",
    "installs['kind'] = installs['kind'].astype('category')\n",
    "installs['wifi'] = installs['wifi'].astype('category')\n",
    "installs['device_language'] = installs['device_language'].astype('category')"
   ]
  },
  {
   "cell_type": "code",
   "execution_count": 235,
   "metadata": {},
   "outputs": [
    {
     "data": {
      "text/html": [
       "<div>\n",
       "<style scoped>\n",
       "    .dataframe tbody tr th:only-of-type {\n",
       "        vertical-align: middle;\n",
       "    }\n",
       "\n",
       "    .dataframe tbody tr th {\n",
       "        vertical-align: top;\n",
       "    }\n",
       "\n",
       "    .dataframe thead th {\n",
       "        text-align: right;\n",
       "    }\n",
       "</style>\n",
       "<table border=\"1\" class=\"dataframe\">\n",
       "  <thead>\n",
       "    <tr style=\"text-align: right;\">\n",
       "      <th></th>\n",
       "      <th>created</th>\n",
       "      <th>application_id</th>\n",
       "      <th>ref_hash</th>\n",
       "      <th>attributed</th>\n",
       "      <th>implicit</th>\n",
       "      <th>device_brand</th>\n",
       "      <th>device_model</th>\n",
       "      <th>session_user_agent</th>\n",
       "      <th>user_agent</th>\n",
       "      <th>event_uuid</th>\n",
       "      <th>kind</th>\n",
       "      <th>wifi</th>\n",
       "      <th>trans_id</th>\n",
       "      <th>device_language</th>\n",
       "      <th>n</th>\n",
       "      <th>window_nr</th>\n",
       "    </tr>\n",
       "  </thead>\n",
       "  <tbody>\n",
       "    <tr>\n",
       "      <th>0</th>\n",
       "      <td>2019-04-18 00:00:01.560</td>\n",
       "      <td>70</td>\n",
       "      <td>4432995619177048534</td>\n",
       "      <td>False</td>\n",
       "      <td>False</td>\n",
       "      <td>unknown</td>\n",
       "      <td>unknown</td>\n",
       "      <td>Apsalar-Postback</td>\n",
       "      <td>unknown</td>\n",
       "      <td>NaN</td>\n",
       "      <td>unknown</td>\n",
       "      <td>unknown</td>\n",
       "      <td>NaN</td>\n",
       "      <td>unknown</td>\n",
       "      <td>1</td>\n",
       "      <td>1</td>\n",
       "    </tr>\n",
       "    <tr>\n",
       "      <th>1</th>\n",
       "      <td>2019-04-18 00:00:01.851</td>\n",
       "      <td>70</td>\n",
       "      <td>5904733559638204455</td>\n",
       "      <td>False</td>\n",
       "      <td>False</td>\n",
       "      <td>unknown</td>\n",
       "      <td>unknown</td>\n",
       "      <td>Apsalar-Postback</td>\n",
       "      <td>unknown</td>\n",
       "      <td>NaN</td>\n",
       "      <td>unknown</td>\n",
       "      <td>unknown</td>\n",
       "      <td>NaN</td>\n",
       "      <td>unknown</td>\n",
       "      <td>1</td>\n",
       "      <td>1</td>\n",
       "    </tr>\n",
       "    <tr>\n",
       "      <th>2</th>\n",
       "      <td>2019-04-18 00:00:05.152</td>\n",
       "      <td>65</td>\n",
       "      <td>896373747754111825</td>\n",
       "      <td>False</td>\n",
       "      <td>True</td>\n",
       "      <td>3.083058605577787e+17</td>\n",
       "      <td>5.274185305862703e+18</td>\n",
       "      <td>http-kit/2.0</td>\n",
       "      <td>Dalvik/2.1.0 (Linux; U; Android 9; SM-G9650 Bu...</td>\n",
       "      <td>8c8af5e3-96e7-4a49-9f17-cafa7f300f2c</td>\n",
       "      <td>af_app_opened</td>\n",
       "      <td>false</td>\n",
       "      <td>NaN</td>\n",
       "      <td>6.977049253562486e+18</td>\n",
       "      <td>1</td>\n",
       "      <td>1</td>\n",
       "    </tr>\n",
       "    <tr>\n",
       "      <th>3</th>\n",
       "      <td>2019-04-18 00:00:05.589</td>\n",
       "      <td>27</td>\n",
       "      <td>3399210824535017892</td>\n",
       "      <td>False</td>\n",
       "      <td>False</td>\n",
       "      <td>unknown</td>\n",
       "      <td>6.794880020077885e+18</td>\n",
       "      <td>http-kit/2.0</td>\n",
       "      <td>trivago/216 CFNetwork/978.0.7 Darwin/18.5.0</td>\n",
       "      <td>NaN</td>\n",
       "      <td>unknown</td>\n",
       "      <td>true</td>\n",
       "      <td>NaN</td>\n",
       "      <td>5.221862722669226e+18</td>\n",
       "      <td>1</td>\n",
       "      <td>1</td>\n",
       "    </tr>\n",
       "    <tr>\n",
       "      <th>4</th>\n",
       "      <td>2019-04-18 00:00:06.795</td>\n",
       "      <td>339</td>\n",
       "      <td>1541425881979513687</td>\n",
       "      <td>False</td>\n",
       "      <td>False</td>\n",
       "      <td>unknown</td>\n",
       "      <td>6.794880020077885e+18</td>\n",
       "      <td>http-kit/2.0</td>\n",
       "      <td>TikTok/109005 CFNetwork/758.5.3 Darwin/15.6.0</td>\n",
       "      <td>NaN</td>\n",
       "      <td>unknown</td>\n",
       "      <td>true</td>\n",
       "      <td>NaN</td>\n",
       "      <td>7.528973756559112e+18</td>\n",
       "      <td>1</td>\n",
       "      <td>1</td>\n",
       "    </tr>\n",
       "  </tbody>\n",
       "</table>\n",
       "</div>"
      ],
      "text/plain": [
       "                  created  application_id             ref_hash attributed  \\\n",
       "0 2019-04-18 00:00:01.560              70  4432995619177048534      False   \n",
       "1 2019-04-18 00:00:01.851              70  5904733559638204455      False   \n",
       "2 2019-04-18 00:00:05.152              65   896373747754111825      False   \n",
       "3 2019-04-18 00:00:05.589              27  3399210824535017892      False   \n",
       "4 2019-04-18 00:00:06.795             339  1541425881979513687      False   \n",
       "\n",
       "  implicit           device_brand           device_model session_user_agent  \\\n",
       "0    False                unknown                unknown   Apsalar-Postback   \n",
       "1    False                unknown                unknown   Apsalar-Postback   \n",
       "2     True  3.083058605577787e+17  5.274185305862703e+18       http-kit/2.0   \n",
       "3    False                unknown  6.794880020077885e+18       http-kit/2.0   \n",
       "4    False                unknown  6.794880020077885e+18       http-kit/2.0   \n",
       "\n",
       "                                          user_agent  \\\n",
       "0                                            unknown   \n",
       "1                                            unknown   \n",
       "2  Dalvik/2.1.0 (Linux; U; Android 9; SM-G9650 Bu...   \n",
       "3        trivago/216 CFNetwork/978.0.7 Darwin/18.5.0   \n",
       "4      TikTok/109005 CFNetwork/758.5.3 Darwin/15.6.0   \n",
       "\n",
       "                             event_uuid           kind     wifi trans_id  \\\n",
       "0                                   NaN        unknown  unknown      NaN   \n",
       "1                                   NaN        unknown  unknown      NaN   \n",
       "2  8c8af5e3-96e7-4a49-9f17-cafa7f300f2c  af_app_opened    false      NaN   \n",
       "3                                   NaN        unknown     true      NaN   \n",
       "4                                   NaN        unknown     true      NaN   \n",
       "\n",
       "         device_language  n  window_nr  \n",
       "0                unknown  1          1  \n",
       "1                unknown  1          1  \n",
       "2  6.977049253562486e+18  1          1  \n",
       "3  5.221862722669226e+18  1          1  \n",
       "4  7.528973756559112e+18  1          1  "
      ]
     },
     "execution_count": 235,
     "metadata": {},
     "output_type": "execute_result"
    }
   ],
   "source": [
    "installs.head()\n"
   ]
  },
  {
   "cell_type": "markdown",
   "metadata": {},
   "source": [
    "### Arreglo de Clicks"
   ]
  },
  {
   "cell_type": "code",
   "execution_count": 236,
   "metadata": {},
   "outputs": [],
   "source": [
    "clicks.touchX = clicks.touchX.apply(lambda x: np.float64(x))\n",
    "clicks.touchY = clicks.touchY.apply(lambda x: np.float64(x))\n",
    "clicks['created'] = clicks['created'].dt.tz_localize(None)"
   ]
  },
  {
   "cell_type": "code",
   "execution_count": 237,
   "metadata": {},
   "outputs": [],
   "source": [
    "for i in ['carrier_id','os_minor', 'agent_device', 'brand', 'os_major']:\n",
    "    clicks[i] = clicks[i].fillna('unknown').astype('category')"
   ]
  },
  {
   "cell_type": "code",
   "execution_count": 238,
   "metadata": {},
   "outputs": [
    {
     "data": {
      "text/plain": [
       "advertiser_id          0\n",
       "action_id          63835\n",
       "source_id              0\n",
       "created                0\n",
       "latitude               0\n",
       "longitude              0\n",
       "wifi_connection        0\n",
       "carrier_id             0\n",
       "trans_id               0\n",
       "os_minor               0\n",
       "agent_device           0\n",
       "os_major               0\n",
       "specs_brand            0\n",
       "brand                  0\n",
       "timeToClick        25885\n",
       "touchX             20428\n",
       "touchY             20428\n",
       "ref_hash               0\n",
       "n                      0\n",
       "window_nr          19730\n",
       "dtype: int64"
      ]
     },
     "execution_count": 238,
     "metadata": {},
     "output_type": "execute_result"
    }
   ],
   "source": [
    "clicks.isnull().sum()\n"
   ]
  },
  {
   "cell_type": "code",
   "execution_count": 239,
   "metadata": {},
   "outputs": [
    {
     "data": {
      "text/html": [
       "<div>\n",
       "<style scoped>\n",
       "    .dataframe tbody tr th:only-of-type {\n",
       "        vertical-align: middle;\n",
       "    }\n",
       "\n",
       "    .dataframe tbody tr th {\n",
       "        vertical-align: top;\n",
       "    }\n",
       "\n",
       "    .dataframe thead th {\n",
       "        text-align: right;\n",
       "    }\n",
       "</style>\n",
       "<table border=\"1\" class=\"dataframe\">\n",
       "  <thead>\n",
       "    <tr style=\"text-align: right;\">\n",
       "      <th></th>\n",
       "      <th>advertiser_id</th>\n",
       "      <th>action_id</th>\n",
       "      <th>source_id</th>\n",
       "      <th>created</th>\n",
       "      <th>latitude</th>\n",
       "      <th>longitude</th>\n",
       "      <th>wifi_connection</th>\n",
       "      <th>carrier_id</th>\n",
       "      <th>trans_id</th>\n",
       "      <th>os_minor</th>\n",
       "      <th>agent_device</th>\n",
       "      <th>os_major</th>\n",
       "      <th>specs_brand</th>\n",
       "      <th>brand</th>\n",
       "      <th>timeToClick</th>\n",
       "      <th>touchX</th>\n",
       "      <th>touchY</th>\n",
       "      <th>ref_hash</th>\n",
       "      <th>n</th>\n",
       "      <th>window_nr</th>\n",
       "    </tr>\n",
       "  </thead>\n",
       "  <tbody>\n",
       "    <tr>\n",
       "      <th>0</th>\n",
       "      <td>1</td>\n",
       "      <td>NaN</td>\n",
       "      <td>1</td>\n",
       "      <td>2019-04-12 00:00:01.981</td>\n",
       "      <td>1.714386</td>\n",
       "      <td>0.871408</td>\n",
       "      <td>False</td>\n",
       "      <td>1.0</td>\n",
       "      <td>OHtntFaZBW28OcZvxtGT0rLBLqmccrM</td>\n",
       "      <td>1.5176438893491397e+18</td>\n",
       "      <td>unknown</td>\n",
       "      <td>5.131615556736863e+18</td>\n",
       "      <td>3576558787748411622</td>\n",
       "      <td>0.0</td>\n",
       "      <td>19.296</td>\n",
       "      <td>0.952</td>\n",
       "      <td>0.070</td>\n",
       "      <td>3455656761384645032</td>\n",
       "      <td>1</td>\n",
       "      <td>NaN</td>\n",
       "    </tr>\n",
       "    <tr>\n",
       "      <th>1</th>\n",
       "      <td>2</td>\n",
       "      <td>NaN</td>\n",
       "      <td>1</td>\n",
       "      <td>2019-04-12 00:00:29.662</td>\n",
       "      <td>1.712736</td>\n",
       "      <td>0.869157</td>\n",
       "      <td>True</td>\n",
       "      <td>24.0</td>\n",
       "      <td>XZZOyg3ZOEFw9MFeBJWF7dNUl7Dl8AQ</td>\n",
       "      <td>3.575963029724781e+18</td>\n",
       "      <td>unknown</td>\n",
       "      <td>5.754947116114108e+18</td>\n",
       "      <td>3576558787748411622</td>\n",
       "      <td>0.0</td>\n",
       "      <td>625.859</td>\n",
       "      <td>0.474</td>\n",
       "      <td>11.684</td>\n",
       "      <td>2751776655120553475</td>\n",
       "      <td>1</td>\n",
       "      <td>NaN</td>\n",
       "    </tr>\n",
       "    <tr>\n",
       "      <th>2</th>\n",
       "      <td>1</td>\n",
       "      <td>NaN</td>\n",
       "      <td>0</td>\n",
       "      <td>2019-04-12 00:00:53.624</td>\n",
       "      <td>1.714547</td>\n",
       "      <td>0.871535</td>\n",
       "      <td>False</td>\n",
       "      <td>13.0</td>\n",
       "      <td>ptDi6mZepLORp2kxILbv_g5WxOVgqHI</td>\n",
       "      <td>1.2885781261232225e+18</td>\n",
       "      <td>unknown</td>\n",
       "      <td>3.908390200756879e+18</td>\n",
       "      <td>71913840936116953</td>\n",
       "      <td>unknown</td>\n",
       "      <td>29.908</td>\n",
       "      <td>0.130</td>\n",
       "      <td>0.179</td>\n",
       "      <td>6931142988092289392</td>\n",
       "      <td>1</td>\n",
       "      <td>NaN</td>\n",
       "    </tr>\n",
       "    <tr>\n",
       "      <th>3</th>\n",
       "      <td>1</td>\n",
       "      <td>NaN</td>\n",
       "      <td>1</td>\n",
       "      <td>2019-04-12 00:01:07.438</td>\n",
       "      <td>1.837799</td>\n",
       "      <td>0.829634</td>\n",
       "      <td>True</td>\n",
       "      <td>23.0</td>\n",
       "      <td>MhX94IlfeUwwWATXfHlLHKGPwSepPv4</td>\n",
       "      <td>2.2387361390161664e+18</td>\n",
       "      <td>unknown</td>\n",
       "      <td>3.581232574980917e+18</td>\n",
       "      <td>3576558787748411622</td>\n",
       "      <td>unknown</td>\n",
       "      <td>377.566</td>\n",
       "      <td>0.446</td>\n",
       "      <td>0.510</td>\n",
       "      <td>2114792698570967449</td>\n",
       "      <td>1</td>\n",
       "      <td>NaN</td>\n",
       "    </tr>\n",
       "    <tr>\n",
       "      <th>4</th>\n",
       "      <td>1</td>\n",
       "      <td>NaN</td>\n",
       "      <td>1</td>\n",
       "      <td>2019-04-12 00:01:08.535</td>\n",
       "      <td>1.733375</td>\n",
       "      <td>0.908130</td>\n",
       "      <td>True</td>\n",
       "      <td>1.0</td>\n",
       "      <td>BubcDEi6KKiYNUoN3XZmHioWNYna5N0</td>\n",
       "      <td>5.310344816890522e+18</td>\n",
       "      <td>unknown</td>\n",
       "      <td>3.581232574980917e+18</td>\n",
       "      <td>3576558787748411622</td>\n",
       "      <td>unknown</td>\n",
       "      <td>141.725</td>\n",
       "      <td>0.747</td>\n",
       "      <td>0.022</td>\n",
       "      <td>3949216411894914793</td>\n",
       "      <td>1</td>\n",
       "      <td>NaN</td>\n",
       "    </tr>\n",
       "  </tbody>\n",
       "</table>\n",
       "</div>"
      ],
      "text/plain": [
       "   advertiser_id  action_id  source_id                 created  latitude  \\\n",
       "0              1        NaN          1 2019-04-12 00:00:01.981  1.714386   \n",
       "1              2        NaN          1 2019-04-12 00:00:29.662  1.712736   \n",
       "2              1        NaN          0 2019-04-12 00:00:53.624  1.714547   \n",
       "3              1        NaN          1 2019-04-12 00:01:07.438  1.837799   \n",
       "4              1        NaN          1 2019-04-12 00:01:08.535  1.733375   \n",
       "\n",
       "   longitude  wifi_connection carrier_id                         trans_id  \\\n",
       "0   0.871408            False        1.0  OHtntFaZBW28OcZvxtGT0rLBLqmccrM   \n",
       "1   0.869157             True       24.0  XZZOyg3ZOEFw9MFeBJWF7dNUl7Dl8AQ   \n",
       "2   0.871535            False       13.0  ptDi6mZepLORp2kxILbv_g5WxOVgqHI   \n",
       "3   0.829634             True       23.0  MhX94IlfeUwwWATXfHlLHKGPwSepPv4   \n",
       "4   0.908130             True        1.0  BubcDEi6KKiYNUoN3XZmHioWNYna5N0   \n",
       "\n",
       "                 os_minor agent_device               os_major  \\\n",
       "0  1.5176438893491397e+18      unknown  5.131615556736863e+18   \n",
       "1   3.575963029724781e+18      unknown  5.754947116114108e+18   \n",
       "2  1.2885781261232225e+18      unknown  3.908390200756879e+18   \n",
       "3  2.2387361390161664e+18      unknown  3.581232574980917e+18   \n",
       "4   5.310344816890522e+18      unknown  3.581232574980917e+18   \n",
       "\n",
       "           specs_brand    brand  timeToClick  touchX  touchY  \\\n",
       "0  3576558787748411622      0.0       19.296   0.952   0.070   \n",
       "1  3576558787748411622      0.0      625.859   0.474  11.684   \n",
       "2    71913840936116953  unknown       29.908   0.130   0.179   \n",
       "3  3576558787748411622  unknown      377.566   0.446   0.510   \n",
       "4  3576558787748411622  unknown      141.725   0.747   0.022   \n",
       "\n",
       "              ref_hash  n  window_nr  \n",
       "0  3455656761384645032  1        NaN  \n",
       "1  2751776655120553475  1        NaN  \n",
       "2  6931142988092289392  1        NaN  \n",
       "3  2114792698570967449  1        NaN  \n",
       "4  3949216411894914793  1        NaN  "
      ]
     },
     "execution_count": 239,
     "metadata": {},
     "output_type": "execute_result"
    }
   ],
   "source": [
    "clicks.head()"
   ]
  },
  {
   "cell_type": "markdown",
   "metadata": {},
   "source": [
    "### Arreglo de Events"
   ]
  },
  {
   "cell_type": "code",
   "execution_count": 240,
   "metadata": {},
   "outputs": [],
   "source": [
    "for i in ['device_os_version','device_brand','device_model','device_city','session_user_agent','user_agent','carrier','kind','device_os','connection_type']:\n",
    "    events[i] = events[i].fillna('unknown').astype('category')"
   ]
  },
  {
   "cell_type": "code",
   "execution_count": 241,
   "metadata": {},
   "outputs": [
    {
     "data": {
      "text/plain": [
       "created                     0\n",
       "event_id                    0\n",
       "ref_hash                    0\n",
       "application_id              0\n",
       "attributed                  0\n",
       "device_os_version           0\n",
       "device_brand                0\n",
       "device_model                0\n",
       "device_city                 0\n",
       "session_user_agent          0\n",
       "trans_id              7700153\n",
       "user_agent                  0\n",
       "event_uuid              29631\n",
       "carrier                     0\n",
       "kind                        0\n",
       "device_os                   0\n",
       "wifi                        0\n",
       "connection_type             0\n",
       "n                           0\n",
       "window_nr                   0\n",
       "dtype: int64"
      ]
     },
     "execution_count": 241,
     "metadata": {},
     "output_type": "execute_result"
    }
   ],
   "source": [
    "events.isnull().sum()\n"
   ]
  },
  {
   "cell_type": "markdown",
   "metadata": {},
   "source": [
    "---\n",
    "## 3. Armado de Features\n",
    "\n",
    "A continuacion se comienzan a extraer los distintos features que formaran el set de entrenamiento. \n",
    "Se cruza cada ventana con los labels que se desean predecir. \n",
    "\n",
    "Para entrenar el set debe decidirse como utilizar los datos de las distintas ventanas. \n",
    "\n",
    "Se tomaran los datos en 2 ventanas diferentes y se validaran con dos ventanas diferentes, de esta forma no deberia haber problemas de solapamiento y se maximiza la cantidad de datos.\n",
    "\n",
    "Para el set final puede armarse un set de labels con los valores de los ultimos 3 dias."
   ]
  },
  {
   "cell_type": "code",
   "execution_count": 275,
   "metadata": {},
   "outputs": [],
   "source": [
    "max_dates = pd.DataFrame({'w_max_date': [dt.datetime(2019,4,21),dt.datetime(2019,4,24),dt.datetime(2019,4,27)], 'window_nr' : [1,2,3]})"
   ]
  },
  {
   "cell_type": "code",
   "execution_count": 276,
   "metadata": {},
   "outputs": [],
   "source": [
    "temp = unique_hashes\n",
    "temp['window_nr'] = 1\n",
    "devices = temp.copy()\n",
    "temp['window_nr'] = 2\n",
    "devices = devices.append(temp)\n",
    "temp['window_nr'] = 3\n",
    "devices = devices.append(temp)"
   ]
  },
  {
   "cell_type": "code",
   "execution_count": 277,
   "metadata": {},
   "outputs": [
    {
     "data": {
      "text/plain": [
       "3    662110\n",
       "2    662110\n",
       "1    662110\n",
       "Name: window_nr, dtype: int64"
      ]
     },
     "execution_count": 277,
     "metadata": {},
     "output_type": "execute_result"
    }
   ],
   "source": [
    "devices['window_nr'].value_counts()"
   ]
  },
  {
   "cell_type": "code",
   "execution_count": 278,
   "metadata": {},
   "outputs": [],
   "source": [
    "devices = devices.set_index(group)"
   ]
  },
  {
   "cell_type": "code",
   "execution_count": 279,
   "metadata": {},
   "outputs": [],
   "source": [
    "sample = auctions.head(100)"
   ]
  },
  {
   "cell_type": "code",
   "execution_count": 280,
   "metadata": {},
   "outputs": [
    {
     "data": {
      "text/html": [
       "<div>\n",
       "<style scoped>\n",
       "    .dataframe tbody tr th:only-of-type {\n",
       "        vertical-align: middle;\n",
       "    }\n",
       "\n",
       "    .dataframe tbody tr th {\n",
       "        vertical-align: top;\n",
       "    }\n",
       "\n",
       "    .dataframe thead th {\n",
       "        text-align: right;\n",
       "    }\n",
       "</style>\n",
       "<table border=\"1\" class=\"dataframe\">\n",
       "  <thead>\n",
       "    <tr style=\"text-align: right;\">\n",
       "      <th></th>\n",
       "      <th>created</th>\n",
       "      <th>ref_hash</th>\n",
       "      <th>source_id</th>\n",
       "      <th>n</th>\n",
       "      <th>window_nr</th>\n",
       "      <th>next_date</th>\n",
       "      <th>secs_to_next</th>\n",
       "    </tr>\n",
       "  </thead>\n",
       "  <tbody>\n",
       "    <tr>\n",
       "      <th>9146132</th>\n",
       "      <td>2019-04-19 19:40:28.465866</td>\n",
       "      <td>41863526108385</td>\n",
       "      <td>8</td>\n",
       "      <td>1</td>\n",
       "      <td>1</td>\n",
       "      <td>2019-04-20 02:52:26.892880</td>\n",
       "      <td>25918</td>\n",
       "    </tr>\n",
       "    <tr>\n",
       "      <th>11162626</th>\n",
       "      <td>2019-04-20 02:52:26.892880</td>\n",
       "      <td>41863526108385</td>\n",
       "      <td>3</td>\n",
       "      <td>1</td>\n",
       "      <td>1</td>\n",
       "      <td>2019-04-20 02:59:02.509230</td>\n",
       "      <td>396</td>\n",
       "    </tr>\n",
       "    <tr>\n",
       "      <th>11194917</th>\n",
       "      <td>2019-04-20 02:59:02.509230</td>\n",
       "      <td>41863526108385</td>\n",
       "      <td>3</td>\n",
       "      <td>1</td>\n",
       "      <td>1</td>\n",
       "      <td>2019-04-20 03:06:01.675788</td>\n",
       "      <td>419</td>\n",
       "    </tr>\n",
       "    <tr>\n",
       "      <th>11229465</th>\n",
       "      <td>2019-04-20 03:06:01.675788</td>\n",
       "      <td>41863526108385</td>\n",
       "      <td>3</td>\n",
       "      <td>1</td>\n",
       "      <td>1</td>\n",
       "      <td>2019-04-20 03:08:57.388160</td>\n",
       "      <td>176</td>\n",
       "    </tr>\n",
       "    <tr>\n",
       "      <th>11244486</th>\n",
       "      <td>2019-04-20 03:08:57.388160</td>\n",
       "      <td>41863526108385</td>\n",
       "      <td>3</td>\n",
       "      <td>1</td>\n",
       "      <td>1</td>\n",
       "      <td>2019-04-20 03:11:26.463903</td>\n",
       "      <td>149</td>\n",
       "    </tr>\n",
       "  </tbody>\n",
       "</table>\n",
       "</div>"
      ],
      "text/plain": [
       "                            created        ref_hash  source_id  n  window_nr  \\\n",
       "9146132  2019-04-19 19:40:28.465866  41863526108385          8  1          1   \n",
       "11162626 2019-04-20 02:52:26.892880  41863526108385          3  1          1   \n",
       "11194917 2019-04-20 02:59:02.509230  41863526108385          3  1          1   \n",
       "11229465 2019-04-20 03:06:01.675788  41863526108385          3  1          1   \n",
       "11244486 2019-04-20 03:08:57.388160  41863526108385          3  1          1   \n",
       "\n",
       "                          next_date  secs_to_next  \n",
       "9146132  2019-04-20 02:52:26.892880         25918  \n",
       "11162626 2019-04-20 02:59:02.509230           396  \n",
       "11194917 2019-04-20 03:06:01.675788           419  \n",
       "11229465 2019-04-20 03:08:57.388160           176  \n",
       "11244486 2019-04-20 03:11:26.463903           149  "
      ]
     },
     "execution_count": 280,
     "metadata": {},
     "output_type": "execute_result"
    }
   ],
   "source": [
    "sample.head()"
   ]
  },
  {
   "cell_type": "markdown",
   "metadata": {},
   "source": [
    "### Tiempo promedio de arribos\n",
    "\n",
    "Se desea saber el tiempo promedio entre arribos de los dispositivos a las encuestas."
   ]
  },
  {
   "cell_type": "code",
   "execution_count": 281,
   "metadata": {},
   "outputs": [
    {
     "name": "stdout",
     "output_type": "stream",
     "text": [
      "CPU times: user 2.77 s, sys: 1.08 s, total: 3.85 s\n",
      "Wall time: 3.85 s\n"
     ]
    }
   ],
   "source": [
    "%%time\n",
    "time = auctions.groupby(group,sort=False)['secs_to_next'].mean()\\\n",
    "               .rename('secs_to_next_mean')\\\n",
    "               .transform(lambda x: round(x))"
   ]
  },
  {
   "cell_type": "code",
   "execution_count": 282,
   "metadata": {},
   "outputs": [],
   "source": [
    "devices = devices.merge(time, how='left', left_index=True, right_index=True)"
   ]
  },
  {
   "cell_type": "code",
   "execution_count": 283,
   "metadata": {},
   "outputs": [
    {
     "data": {
      "text/html": [
       "<div>\n",
       "<style scoped>\n",
       "    .dataframe tbody tr th:only-of-type {\n",
       "        vertical-align: middle;\n",
       "    }\n",
       "\n",
       "    .dataframe tbody tr th {\n",
       "        vertical-align: top;\n",
       "    }\n",
       "\n",
       "    .dataframe thead th {\n",
       "        text-align: right;\n",
       "    }\n",
       "</style>\n",
       "<table border=\"1\" class=\"dataframe\">\n",
       "  <thead>\n",
       "    <tr style=\"text-align: right;\">\n",
       "      <th></th>\n",
       "      <th></th>\n",
       "      <th>secs_to_next_mean</th>\n",
       "    </tr>\n",
       "    <tr>\n",
       "      <th>ref_hash</th>\n",
       "      <th>window_nr</th>\n",
       "      <th></th>\n",
       "    </tr>\n",
       "  </thead>\n",
       "  <tbody>\n",
       "    <tr>\n",
       "      <th>2564673204772915246</th>\n",
       "      <th>1</th>\n",
       "      <td>765.0</td>\n",
       "    </tr>\n",
       "    <tr>\n",
       "      <th>4441121667607578179</th>\n",
       "      <th>1</th>\n",
       "      <td>111.0</td>\n",
       "    </tr>\n",
       "    <tr>\n",
       "      <th>7721769811471055264</th>\n",
       "      <th>1</th>\n",
       "      <td>281.0</td>\n",
       "    </tr>\n",
       "    <tr>\n",
       "      <th>6416039086842158968</th>\n",
       "      <th>1</th>\n",
       "      <td>NaN</td>\n",
       "    </tr>\n",
       "    <tr>\n",
       "      <th>1258642015983312729</th>\n",
       "      <th>1</th>\n",
       "      <td>8365.0</td>\n",
       "    </tr>\n",
       "  </tbody>\n",
       "</table>\n",
       "</div>"
      ],
      "text/plain": [
       "                               secs_to_next_mean\n",
       "ref_hash            window_nr                   \n",
       "2564673204772915246 1                      765.0\n",
       "4441121667607578179 1                      111.0\n",
       "7721769811471055264 1                      281.0\n",
       "6416039086842158968 1                        NaN\n",
       "1258642015983312729 1                     8365.0"
      ]
     },
     "execution_count": 283,
     "metadata": {},
     "output_type": "execute_result"
    }
   ],
   "source": [
    "devices.head()"
   ]
  },
  {
   "cell_type": "markdown",
   "metadata": {},
   "source": [
    "### Tiempo desde ultima aparicion"
   ]
  },
  {
   "cell_type": "code",
   "execution_count": 284,
   "metadata": {},
   "outputs": [
    {
     "name": "stdout",
     "output_type": "stream",
     "text": [
      "CPU times: user 13.7 s, sys: 2.04 s, total: 15.7 s\n",
      "Wall time: 15.7 s\n"
     ]
    }
   ],
   "source": [
    "%%time\n",
    "time = auctions.groupby(group,sort=False)\\\n",
    "               .tail(1)\\\n",
    "               .merge(max_dates, on='window_nr', how='left')\\\n",
    "               .set_index(group)\n",
    "\n",
    "time = (time['w_max_date'] - time['created']).transform(lambda x: round(x.total_seconds())).rename('secs_since_last_arrival')"
   ]
  },
  {
   "cell_type": "code",
   "execution_count": 285,
   "metadata": {},
   "outputs": [
    {
     "data": {
      "text/plain": [
       "ref_hash         window_nr\n",
       "41863526108385   1             70206\n",
       "135153013040192  1             70659\n",
       "161514654074162  1            248758\n",
       "186034136943920  1             74393\n",
       "                 2             37583\n",
       "Name: secs_since_last_arrival, dtype: int64"
      ]
     },
     "execution_count": 285,
     "metadata": {},
     "output_type": "execute_result"
    }
   ],
   "source": [
    "time.head()"
   ]
  },
  {
   "cell_type": "code",
   "execution_count": 286,
   "metadata": {},
   "outputs": [],
   "source": [
    "devices = devices.merge(time, how='left', left_index=True, right_index=True)"
   ]
  },
  {
   "cell_type": "code",
   "execution_count": 287,
   "metadata": {},
   "outputs": [
    {
     "data": {
      "text/html": [
       "<div>\n",
       "<style scoped>\n",
       "    .dataframe tbody tr th:only-of-type {\n",
       "        vertical-align: middle;\n",
       "    }\n",
       "\n",
       "    .dataframe tbody tr th {\n",
       "        vertical-align: top;\n",
       "    }\n",
       "\n",
       "    .dataframe thead th {\n",
       "        text-align: right;\n",
       "    }\n",
       "</style>\n",
       "<table border=\"1\" class=\"dataframe\">\n",
       "  <thead>\n",
       "    <tr style=\"text-align: right;\">\n",
       "      <th></th>\n",
       "      <th></th>\n",
       "      <th>secs_to_next_mean</th>\n",
       "      <th>secs_since_last_arrival</th>\n",
       "    </tr>\n",
       "    <tr>\n",
       "      <th>ref_hash</th>\n",
       "      <th>window_nr</th>\n",
       "      <th></th>\n",
       "      <th></th>\n",
       "    </tr>\n",
       "  </thead>\n",
       "  <tbody>\n",
       "    <tr>\n",
       "      <th>2564673204772915246</th>\n",
       "      <th>1</th>\n",
       "      <td>765.0</td>\n",
       "      <td>88625.0</td>\n",
       "    </tr>\n",
       "    <tr>\n",
       "      <th>4441121667607578179</th>\n",
       "      <th>1</th>\n",
       "      <td>111.0</td>\n",
       "      <td>29052.0</td>\n",
       "    </tr>\n",
       "    <tr>\n",
       "      <th>7721769811471055264</th>\n",
       "      <th>1</th>\n",
       "      <td>281.0</td>\n",
       "      <td>333.0</td>\n",
       "    </tr>\n",
       "    <tr>\n",
       "      <th>6416039086842158968</th>\n",
       "      <th>1</th>\n",
       "      <td>NaN</td>\n",
       "      <td>NaN</td>\n",
       "    </tr>\n",
       "    <tr>\n",
       "      <th>1258642015983312729</th>\n",
       "      <th>1</th>\n",
       "      <td>8365.0</td>\n",
       "      <td>121224.0</td>\n",
       "    </tr>\n",
       "  </tbody>\n",
       "</table>\n",
       "</div>"
      ],
      "text/plain": [
       "                               secs_to_next_mean  secs_since_last_arrival\n",
       "ref_hash            window_nr                                            \n",
       "2564673204772915246 1                      765.0                  88625.0\n",
       "4441121667607578179 1                      111.0                  29052.0\n",
       "7721769811471055264 1                      281.0                    333.0\n",
       "6416039086842158968 1                        NaN                      NaN\n",
       "1258642015983312729 1                     8365.0                 121224.0"
      ]
     },
     "execution_count": 287,
     "metadata": {},
     "output_type": "execute_result"
    }
   ],
   "source": [
    "devices.head()"
   ]
  },
  {
   "cell_type": "markdown",
   "metadata": {},
   "source": [
    "### Cantidad de apariciones en encuestas en la ventana"
   ]
  },
  {
   "cell_type": "code",
   "execution_count": 288,
   "metadata": {},
   "outputs": [
    {
     "name": "stdout",
     "output_type": "stream",
     "text": [
      "CPU times: user 2.28 s, sys: 972 ms, total: 3.25 s\n",
      "Wall time: 3.25 s\n"
     ]
    }
   ],
   "source": [
    "%%time\n",
    "time = auctions.groupby(group ,sort=False)['n'].sum().rename('auctions_total')"
   ]
  },
  {
   "cell_type": "code",
   "execution_count": 289,
   "metadata": {},
   "outputs": [
    {
     "data": {
      "text/plain": [
       "ref_hash         window_nr\n",
       "41863526108385   1            34\n",
       "135153013040192  1             7\n",
       "161514654074162  1             5\n",
       "186034136943920  1             6\n",
       "                 2            58\n",
       "Name: auctions_total, dtype: int64"
      ]
     },
     "execution_count": 289,
     "metadata": {},
     "output_type": "execute_result"
    }
   ],
   "source": [
    "time.head()"
   ]
  },
  {
   "cell_type": "code",
   "execution_count": 290,
   "metadata": {},
   "outputs": [],
   "source": [
    "devices = devices.merge(time, how='left', left_index=True, right_index=True)"
   ]
  },
  {
   "cell_type": "code",
   "execution_count": 291,
   "metadata": {},
   "outputs": [
    {
     "data": {
      "text/html": [
       "<div>\n",
       "<style scoped>\n",
       "    .dataframe tbody tr th:only-of-type {\n",
       "        vertical-align: middle;\n",
       "    }\n",
       "\n",
       "    .dataframe tbody tr th {\n",
       "        vertical-align: top;\n",
       "    }\n",
       "\n",
       "    .dataframe thead th {\n",
       "        text-align: right;\n",
       "    }\n",
       "</style>\n",
       "<table border=\"1\" class=\"dataframe\">\n",
       "  <thead>\n",
       "    <tr style=\"text-align: right;\">\n",
       "      <th></th>\n",
       "      <th></th>\n",
       "      <th>secs_to_next_mean</th>\n",
       "      <th>secs_since_last_arrival</th>\n",
       "      <th>auctions_total</th>\n",
       "    </tr>\n",
       "    <tr>\n",
       "      <th>ref_hash</th>\n",
       "      <th>window_nr</th>\n",
       "      <th></th>\n",
       "      <th></th>\n",
       "      <th></th>\n",
       "    </tr>\n",
       "  </thead>\n",
       "  <tbody>\n",
       "    <tr>\n",
       "      <th>2564673204772915246</th>\n",
       "      <th>1</th>\n",
       "      <td>765.0</td>\n",
       "      <td>88625.0</td>\n",
       "      <td>216.0</td>\n",
       "    </tr>\n",
       "    <tr>\n",
       "      <th>4441121667607578179</th>\n",
       "      <th>1</th>\n",
       "      <td>111.0</td>\n",
       "      <td>29052.0</td>\n",
       "      <td>1188.0</td>\n",
       "    </tr>\n",
       "    <tr>\n",
       "      <th>7721769811471055264</th>\n",
       "      <th>1</th>\n",
       "      <td>281.0</td>\n",
       "      <td>333.0</td>\n",
       "      <td>908.0</td>\n",
       "    </tr>\n",
       "    <tr>\n",
       "      <th>6416039086842158968</th>\n",
       "      <th>1</th>\n",
       "      <td>NaN</td>\n",
       "      <td>NaN</td>\n",
       "      <td>NaN</td>\n",
       "    </tr>\n",
       "    <tr>\n",
       "      <th>1258642015983312729</th>\n",
       "      <th>1</th>\n",
       "      <td>8365.0</td>\n",
       "      <td>121224.0</td>\n",
       "      <td>12.0</td>\n",
       "    </tr>\n",
       "  </tbody>\n",
       "</table>\n",
       "</div>"
      ],
      "text/plain": [
       "                               secs_to_next_mean  secs_since_last_arrival  \\\n",
       "ref_hash            window_nr                                               \n",
       "2564673204772915246 1                      765.0                  88625.0   \n",
       "4441121667607578179 1                      111.0                  29052.0   \n",
       "7721769811471055264 1                      281.0                    333.0   \n",
       "6416039086842158968 1                        NaN                      NaN   \n",
       "1258642015983312729 1                     8365.0                 121224.0   \n",
       "\n",
       "                               auctions_total  \n",
       "ref_hash            window_nr                  \n",
       "2564673204772915246 1                   216.0  \n",
       "4441121667607578179 1                  1188.0  \n",
       "7721769811471055264 1                   908.0  \n",
       "6416039086842158968 1                     NaN  \n",
       "1258642015983312729 1                    12.0  "
      ]
     },
     "execution_count": 291,
     "metadata": {},
     "output_type": "execute_result"
    }
   ],
   "source": [
    "devices.head()"
   ]
  },
  {
   "cell_type": "markdown",
   "metadata": {},
   "source": [
    "### Cantidad de apariciones en encuestas en la ultima hora"
   ]
  },
  {
   "cell_type": "code",
   "execution_count": 292,
   "metadata": {},
   "outputs": [
    {
     "name": "stdout",
     "output_type": "stream",
     "text": [
      "CPU times: user 14.9 s, sys: 11 s, total: 26 s\n",
      "Wall time: 3min 27s\n"
     ]
    }
   ],
   "source": [
    "%%time\n",
    "time = auctions.merge(max_dates, on='window_nr', how='left')\n",
    "time = time.loc[time['created'] >= (time['w_max_date'] - timedelta(hours=1))]\\\n",
    "           .groupby(group, sort=False)['n'].sum()\\\n",
    "           .rename('auctions_last_hour')"
   ]
  },
  {
   "cell_type": "code",
   "execution_count": 293,
   "metadata": {},
   "outputs": [
    {
     "data": {
      "text/plain": [
       "ref_hash         window_nr\n",
       "345999128501141  2             3\n",
       "360710529886978  3             2\n",
       "416301579449694  1             2\n",
       "686608884458246  3            11\n",
       "717556230663455  1            74\n",
       "Name: auctions_last_hour, dtype: int64"
      ]
     },
     "execution_count": 293,
     "metadata": {},
     "output_type": "execute_result"
    }
   ],
   "source": [
    "time.head()"
   ]
  },
  {
   "cell_type": "code",
   "execution_count": 294,
   "metadata": {},
   "outputs": [],
   "source": [
    "devices = devices.merge(time, how='left', left_index=True, right_index=True)"
   ]
  },
  {
   "cell_type": "code",
   "execution_count": 295,
   "metadata": {},
   "outputs": [
    {
     "data": {
      "text/html": [
       "<div>\n",
       "<style scoped>\n",
       "    .dataframe tbody tr th:only-of-type {\n",
       "        vertical-align: middle;\n",
       "    }\n",
       "\n",
       "    .dataframe tbody tr th {\n",
       "        vertical-align: top;\n",
       "    }\n",
       "\n",
       "    .dataframe thead th {\n",
       "        text-align: right;\n",
       "    }\n",
       "</style>\n",
       "<table border=\"1\" class=\"dataframe\">\n",
       "  <thead>\n",
       "    <tr style=\"text-align: right;\">\n",
       "      <th></th>\n",
       "      <th></th>\n",
       "      <th>secs_to_next_mean</th>\n",
       "      <th>secs_since_last_arrival</th>\n",
       "      <th>auctions_total</th>\n",
       "      <th>auctions_last_hour</th>\n",
       "    </tr>\n",
       "    <tr>\n",
       "      <th>ref_hash</th>\n",
       "      <th>window_nr</th>\n",
       "      <th></th>\n",
       "      <th></th>\n",
       "      <th></th>\n",
       "      <th></th>\n",
       "    </tr>\n",
       "  </thead>\n",
       "  <tbody>\n",
       "    <tr>\n",
       "      <th>2564673204772915246</th>\n",
       "      <th>1</th>\n",
       "      <td>765.0</td>\n",
       "      <td>88625.0</td>\n",
       "      <td>216.0</td>\n",
       "      <td>NaN</td>\n",
       "    </tr>\n",
       "    <tr>\n",
       "      <th>4441121667607578179</th>\n",
       "      <th>1</th>\n",
       "      <td>111.0</td>\n",
       "      <td>29052.0</td>\n",
       "      <td>1188.0</td>\n",
       "      <td>NaN</td>\n",
       "    </tr>\n",
       "    <tr>\n",
       "      <th>7721769811471055264</th>\n",
       "      <th>1</th>\n",
       "      <td>281.0</td>\n",
       "      <td>333.0</td>\n",
       "      <td>908.0</td>\n",
       "      <td>23.0</td>\n",
       "    </tr>\n",
       "    <tr>\n",
       "      <th>6416039086842158968</th>\n",
       "      <th>1</th>\n",
       "      <td>NaN</td>\n",
       "      <td>NaN</td>\n",
       "      <td>NaN</td>\n",
       "      <td>NaN</td>\n",
       "    </tr>\n",
       "    <tr>\n",
       "      <th>1258642015983312729</th>\n",
       "      <th>1</th>\n",
       "      <td>8365.0</td>\n",
       "      <td>121224.0</td>\n",
       "      <td>12.0</td>\n",
       "      <td>NaN</td>\n",
       "    </tr>\n",
       "  </tbody>\n",
       "</table>\n",
       "</div>"
      ],
      "text/plain": [
       "                               secs_to_next_mean  secs_since_last_arrival  \\\n",
       "ref_hash            window_nr                                               \n",
       "2564673204772915246 1                      765.0                  88625.0   \n",
       "4441121667607578179 1                      111.0                  29052.0   \n",
       "7721769811471055264 1                      281.0                    333.0   \n",
       "6416039086842158968 1                        NaN                      NaN   \n",
       "1258642015983312729 1                     8365.0                 121224.0   \n",
       "\n",
       "                               auctions_total  auctions_last_hour  \n",
       "ref_hash            window_nr                                      \n",
       "2564673204772915246 1                   216.0                 NaN  \n",
       "4441121667607578179 1                  1188.0                 NaN  \n",
       "7721769811471055264 1                   908.0                23.0  \n",
       "6416039086842158968 1                     NaN                 NaN  \n",
       "1258642015983312729 1                    12.0                 NaN  "
      ]
     },
     "execution_count": 295,
     "metadata": {},
     "output_type": "execute_result"
    }
   ],
   "source": [
    "devices.head()"
   ]
  },
  {
   "cell_type": "markdown",
   "metadata": {},
   "source": [
    "### Cantidad de apariciones en encuestas en el fin de semana"
   ]
  },
  {
   "cell_type": "code",
   "execution_count": 296,
   "metadata": {},
   "outputs": [
    {
     "name": "stdout",
     "output_type": "stream",
     "text": [
      "CPU times: user 3.91 s, sys: 2.66 s, total: 6.57 s\n",
      "Wall time: 37 s\n"
     ]
    }
   ],
   "source": [
    "%%time\n",
    "weekend = [20,21]\n",
    "time = auctions.loc[(auctions['created'].dt.day).isin(weekend)]\\\n",
    "               .groupby(group,sort=False)['n'].sum()\\\n",
    "               .rename('amount_auctions_in_weekend')"
   ]
  },
  {
   "cell_type": "code",
   "execution_count": 297,
   "metadata": {},
   "outputs": [
    {
     "data": {
      "text/plain": [
       "ref_hash         window_nr\n",
       "41863526108385   1            33\n",
       "135153013040192  1             7\n",
       "186034136943920  1             4\n",
       "                 2            11\n",
       "360710529886978  1             2\n",
       "Name: amount_auctions_in_weekend, dtype: int64"
      ]
     },
     "execution_count": 297,
     "metadata": {},
     "output_type": "execute_result"
    }
   ],
   "source": [
    "time.head()"
   ]
  },
  {
   "cell_type": "code",
   "execution_count": 298,
   "metadata": {},
   "outputs": [],
   "source": [
    "devices = devices.merge(time, how='left', left_index=True, right_index=True)"
   ]
  },
  {
   "cell_type": "code",
   "execution_count": 299,
   "metadata": {},
   "outputs": [
    {
     "data": {
      "text/html": [
       "<div>\n",
       "<style scoped>\n",
       "    .dataframe tbody tr th:only-of-type {\n",
       "        vertical-align: middle;\n",
       "    }\n",
       "\n",
       "    .dataframe tbody tr th {\n",
       "        vertical-align: top;\n",
       "    }\n",
       "\n",
       "    .dataframe thead th {\n",
       "        text-align: right;\n",
       "    }\n",
       "</style>\n",
       "<table border=\"1\" class=\"dataframe\">\n",
       "  <thead>\n",
       "    <tr style=\"text-align: right;\">\n",
       "      <th></th>\n",
       "      <th></th>\n",
       "      <th>secs_to_next_mean</th>\n",
       "      <th>secs_since_last_arrival</th>\n",
       "      <th>auctions_total</th>\n",
       "      <th>auctions_last_hour</th>\n",
       "      <th>amount_auctions_in_weekend</th>\n",
       "    </tr>\n",
       "    <tr>\n",
       "      <th>ref_hash</th>\n",
       "      <th>window_nr</th>\n",
       "      <th></th>\n",
       "      <th></th>\n",
       "      <th></th>\n",
       "      <th></th>\n",
       "      <th></th>\n",
       "    </tr>\n",
       "  </thead>\n",
       "  <tbody>\n",
       "    <tr>\n",
       "      <th>2564673204772915246</th>\n",
       "      <th>1</th>\n",
       "      <td>765.0</td>\n",
       "      <td>88625.0</td>\n",
       "      <td>216.0</td>\n",
       "      <td>NaN</td>\n",
       "      <td>NaN</td>\n",
       "    </tr>\n",
       "    <tr>\n",
       "      <th>4441121667607578179</th>\n",
       "      <th>1</th>\n",
       "      <td>111.0</td>\n",
       "      <td>29052.0</td>\n",
       "      <td>1188.0</td>\n",
       "      <td>NaN</td>\n",
       "      <td>640.0</td>\n",
       "    </tr>\n",
       "    <tr>\n",
       "      <th>7721769811471055264</th>\n",
       "      <th>1</th>\n",
       "      <td>281.0</td>\n",
       "      <td>333.0</td>\n",
       "      <td>908.0</td>\n",
       "      <td>23.0</td>\n",
       "      <td>218.0</td>\n",
       "    </tr>\n",
       "    <tr>\n",
       "      <th>6416039086842158968</th>\n",
       "      <th>1</th>\n",
       "      <td>NaN</td>\n",
       "      <td>NaN</td>\n",
       "      <td>NaN</td>\n",
       "      <td>NaN</td>\n",
       "      <td>NaN</td>\n",
       "    </tr>\n",
       "    <tr>\n",
       "      <th>1258642015983312729</th>\n",
       "      <th>1</th>\n",
       "      <td>8365.0</td>\n",
       "      <td>121224.0</td>\n",
       "      <td>12.0</td>\n",
       "      <td>NaN</td>\n",
       "      <td>NaN</td>\n",
       "    </tr>\n",
       "  </tbody>\n",
       "</table>\n",
       "</div>"
      ],
      "text/plain": [
       "                               secs_to_next_mean  secs_since_last_arrival  \\\n",
       "ref_hash            window_nr                                               \n",
       "2564673204772915246 1                      765.0                  88625.0   \n",
       "4441121667607578179 1                      111.0                  29052.0   \n",
       "7721769811471055264 1                      281.0                    333.0   \n",
       "6416039086842158968 1                        NaN                      NaN   \n",
       "1258642015983312729 1                     8365.0                 121224.0   \n",
       "\n",
       "                               auctions_total  auctions_last_hour  \\\n",
       "ref_hash            window_nr                                       \n",
       "2564673204772915246 1                   216.0                 NaN   \n",
       "4441121667607578179 1                  1188.0                 NaN   \n",
       "7721769811471055264 1                   908.0                23.0   \n",
       "6416039086842158968 1                     NaN                 NaN   \n",
       "1258642015983312729 1                    12.0                 NaN   \n",
       "\n",
       "                               amount_auctions_in_weekend  \n",
       "ref_hash            window_nr                              \n",
       "2564673204772915246 1                                 NaN  \n",
       "4441121667607578179 1                               640.0  \n",
       "7721769811471055264 1                               218.0  \n",
       "6416039086842158968 1                                 NaN  \n",
       "1258642015983312729 1                                 NaN  "
      ]
     },
     "execution_count": 299,
     "metadata": {},
     "output_type": "execute_result"
    }
   ],
   "source": [
    "devices.head()"
   ]
  },
  {
   "cell_type": "markdown",
   "metadata": {},
   "source": [
    "### Ultima aparicion es weekend"
   ]
  },
  {
   "cell_type": "code",
   "execution_count": 300,
   "metadata": {},
   "outputs": [],
   "source": [
    "weekend = [20,21]\n",
    "time = auctions.groupby(group, sort=False)\\\n",
    "               .tail(1)\\\n",
    "               .set_index(group)['created'].transform(lambda x: x.day in weekend)\\\n",
    "               .rename('is_last_weekend')"
   ]
  },
  {
   "cell_type": "code",
   "execution_count": 301,
   "metadata": {},
   "outputs": [
    {
     "data": {
      "text/plain": [
       "ref_hash         window_nr\n",
       "41863526108385   1             True\n",
       "135153013040192  1             True\n",
       "161514654074162  1            False\n",
       "186034136943920  1             True\n",
       "                 2            False\n",
       "Name: is_last_weekend, dtype: bool"
      ]
     },
     "execution_count": 301,
     "metadata": {},
     "output_type": "execute_result"
    }
   ],
   "source": [
    "time.head()"
   ]
  },
  {
   "cell_type": "code",
   "execution_count": 302,
   "metadata": {},
   "outputs": [],
   "source": [
    "devices = devices.merge(time, how='left', left_index=True, right_index=True)"
   ]
  },
  {
   "cell_type": "code",
   "execution_count": 303,
   "metadata": {},
   "outputs": [
    {
     "data": {
      "text/html": [
       "<div>\n",
       "<style scoped>\n",
       "    .dataframe tbody tr th:only-of-type {\n",
       "        vertical-align: middle;\n",
       "    }\n",
       "\n",
       "    .dataframe tbody tr th {\n",
       "        vertical-align: top;\n",
       "    }\n",
       "\n",
       "    .dataframe thead th {\n",
       "        text-align: right;\n",
       "    }\n",
       "</style>\n",
       "<table border=\"1\" class=\"dataframe\">\n",
       "  <thead>\n",
       "    <tr style=\"text-align: right;\">\n",
       "      <th></th>\n",
       "      <th></th>\n",
       "      <th>secs_to_next_mean</th>\n",
       "      <th>secs_since_last_arrival</th>\n",
       "      <th>auctions_total</th>\n",
       "      <th>auctions_last_hour</th>\n",
       "      <th>amount_auctions_in_weekend</th>\n",
       "      <th>is_last_weekend</th>\n",
       "    </tr>\n",
       "    <tr>\n",
       "      <th>ref_hash</th>\n",
       "      <th>window_nr</th>\n",
       "      <th></th>\n",
       "      <th></th>\n",
       "      <th></th>\n",
       "      <th></th>\n",
       "      <th></th>\n",
       "      <th></th>\n",
       "    </tr>\n",
       "  </thead>\n",
       "  <tbody>\n",
       "    <tr>\n",
       "      <th>2564673204772915246</th>\n",
       "      <th>1</th>\n",
       "      <td>765.0</td>\n",
       "      <td>88625.0</td>\n",
       "      <td>216.0</td>\n",
       "      <td>NaN</td>\n",
       "      <td>NaN</td>\n",
       "      <td>False</td>\n",
       "    </tr>\n",
       "    <tr>\n",
       "      <th>4441121667607578179</th>\n",
       "      <th>1</th>\n",
       "      <td>111.0</td>\n",
       "      <td>29052.0</td>\n",
       "      <td>1188.0</td>\n",
       "      <td>NaN</td>\n",
       "      <td>640.0</td>\n",
       "      <td>True</td>\n",
       "    </tr>\n",
       "    <tr>\n",
       "      <th>7721769811471055264</th>\n",
       "      <th>1</th>\n",
       "      <td>281.0</td>\n",
       "      <td>333.0</td>\n",
       "      <td>908.0</td>\n",
       "      <td>23.0</td>\n",
       "      <td>218.0</td>\n",
       "      <td>True</td>\n",
       "    </tr>\n",
       "    <tr>\n",
       "      <th>6416039086842158968</th>\n",
       "      <th>1</th>\n",
       "      <td>NaN</td>\n",
       "      <td>NaN</td>\n",
       "      <td>NaN</td>\n",
       "      <td>NaN</td>\n",
       "      <td>NaN</td>\n",
       "      <td>NaN</td>\n",
       "    </tr>\n",
       "    <tr>\n",
       "      <th>1258642015983312729</th>\n",
       "      <th>1</th>\n",
       "      <td>8365.0</td>\n",
       "      <td>121224.0</td>\n",
       "      <td>12.0</td>\n",
       "      <td>NaN</td>\n",
       "      <td>NaN</td>\n",
       "      <td>False</td>\n",
       "    </tr>\n",
       "  </tbody>\n",
       "</table>\n",
       "</div>"
      ],
      "text/plain": [
       "                               secs_to_next_mean  secs_since_last_arrival  \\\n",
       "ref_hash            window_nr                                               \n",
       "2564673204772915246 1                      765.0                  88625.0   \n",
       "4441121667607578179 1                      111.0                  29052.0   \n",
       "7721769811471055264 1                      281.0                    333.0   \n",
       "6416039086842158968 1                        NaN                      NaN   \n",
       "1258642015983312729 1                     8365.0                 121224.0   \n",
       "\n",
       "                               auctions_total  auctions_last_hour  \\\n",
       "ref_hash            window_nr                                       \n",
       "2564673204772915246 1                   216.0                 NaN   \n",
       "4441121667607578179 1                  1188.0                 NaN   \n",
       "7721769811471055264 1                   908.0                23.0   \n",
       "6416039086842158968 1                     NaN                 NaN   \n",
       "1258642015983312729 1                    12.0                 NaN   \n",
       "\n",
       "                               amount_auctions_in_weekend is_last_weekend  \n",
       "ref_hash            window_nr                                              \n",
       "2564673204772915246 1                                 NaN           False  \n",
       "4441121667607578179 1                               640.0            True  \n",
       "7721769811471055264 1                               218.0            True  \n",
       "6416039086842158968 1                                 NaN             NaN  \n",
       "1258642015983312729 1                                 NaN           False  "
      ]
     },
     "execution_count": 303,
     "metadata": {},
     "output_type": "execute_result"
    }
   ],
   "source": [
    "devices.head()"
   ]
  },
  {
   "cell_type": "markdown",
   "metadata": {},
   "source": [
    "### Cantidad de sources distintos"
   ]
  },
  {
   "cell_type": "code",
   "execution_count": 304,
   "metadata": {},
   "outputs": [],
   "source": [
    "temp = auctions.groupby(by = group +['source_id'], sort=False).agg({'n':'sum'}).reset_index()\n",
    "temp['n'] = 1\n",
    "temp = temp.groupby(by = group).agg({'n' : 'sum'})\n",
    "temp.rename(columns = {'n': 'amount_dif_src' },inplace = True)"
   ]
  },
  {
   "cell_type": "code",
   "execution_count": 305,
   "metadata": {},
   "outputs": [
    {
     "data": {
      "text/html": [
       "<div>\n",
       "<style scoped>\n",
       "    .dataframe tbody tr th:only-of-type {\n",
       "        vertical-align: middle;\n",
       "    }\n",
       "\n",
       "    .dataframe tbody tr th {\n",
       "        vertical-align: top;\n",
       "    }\n",
       "\n",
       "    .dataframe thead th {\n",
       "        text-align: right;\n",
       "    }\n",
       "</style>\n",
       "<table border=\"1\" class=\"dataframe\">\n",
       "  <thead>\n",
       "    <tr style=\"text-align: right;\">\n",
       "      <th></th>\n",
       "      <th></th>\n",
       "      <th>amount_dif_src</th>\n",
       "    </tr>\n",
       "    <tr>\n",
       "      <th>ref_hash</th>\n",
       "      <th>window_nr</th>\n",
       "      <th></th>\n",
       "    </tr>\n",
       "  </thead>\n",
       "  <tbody>\n",
       "    <tr>\n",
       "      <th>41863526108385</th>\n",
       "      <th>1</th>\n",
       "      <td>3</td>\n",
       "    </tr>\n",
       "    <tr>\n",
       "      <th>135153013040192</th>\n",
       "      <th>1</th>\n",
       "      <td>1</td>\n",
       "    </tr>\n",
       "    <tr>\n",
       "      <th>161514654074162</th>\n",
       "      <th>1</th>\n",
       "      <td>2</td>\n",
       "    </tr>\n",
       "    <tr>\n",
       "      <th rowspan=\"2\" valign=\"top\">186034136943920</th>\n",
       "      <th>1</th>\n",
       "      <td>1</td>\n",
       "    </tr>\n",
       "    <tr>\n",
       "      <th>2</th>\n",
       "      <td>1</td>\n",
       "    </tr>\n",
       "  </tbody>\n",
       "</table>\n",
       "</div>"
      ],
      "text/plain": [
       "                           amount_dif_src\n",
       "ref_hash        window_nr                \n",
       "41863526108385  1                       3\n",
       "135153013040192 1                       1\n",
       "161514654074162 1                       2\n",
       "186034136943920 1                       1\n",
       "                2                       1"
      ]
     },
     "execution_count": 305,
     "metadata": {},
     "output_type": "execute_result"
    }
   ],
   "source": [
    "temp.head()"
   ]
  },
  {
   "cell_type": "code",
   "execution_count": 306,
   "metadata": {},
   "outputs": [],
   "source": [
    "devices = devices.merge(temp, how = 'left', left_index=True, right_index=True)"
   ]
  },
  {
   "cell_type": "code",
   "execution_count": 307,
   "metadata": {},
   "outputs": [
    {
     "data": {
      "text/html": [
       "<div>\n",
       "<style scoped>\n",
       "    .dataframe tbody tr th:only-of-type {\n",
       "        vertical-align: middle;\n",
       "    }\n",
       "\n",
       "    .dataframe tbody tr th {\n",
       "        vertical-align: top;\n",
       "    }\n",
       "\n",
       "    .dataframe thead th {\n",
       "        text-align: right;\n",
       "    }\n",
       "</style>\n",
       "<table border=\"1\" class=\"dataframe\">\n",
       "  <thead>\n",
       "    <tr style=\"text-align: right;\">\n",
       "      <th></th>\n",
       "      <th></th>\n",
       "      <th>secs_to_next_mean</th>\n",
       "      <th>secs_since_last_arrival</th>\n",
       "      <th>auctions_total</th>\n",
       "      <th>auctions_last_hour</th>\n",
       "      <th>amount_auctions_in_weekend</th>\n",
       "      <th>is_last_weekend</th>\n",
       "      <th>amount_dif_src</th>\n",
       "    </tr>\n",
       "    <tr>\n",
       "      <th>ref_hash</th>\n",
       "      <th>window_nr</th>\n",
       "      <th></th>\n",
       "      <th></th>\n",
       "      <th></th>\n",
       "      <th></th>\n",
       "      <th></th>\n",
       "      <th></th>\n",
       "      <th></th>\n",
       "    </tr>\n",
       "  </thead>\n",
       "  <tbody>\n",
       "    <tr>\n",
       "      <th>2564673204772915246</th>\n",
       "      <th>1</th>\n",
       "      <td>765.0</td>\n",
       "      <td>88625.0</td>\n",
       "      <td>216.0</td>\n",
       "      <td>NaN</td>\n",
       "      <td>NaN</td>\n",
       "      <td>False</td>\n",
       "      <td>3.0</td>\n",
       "    </tr>\n",
       "    <tr>\n",
       "      <th>4441121667607578179</th>\n",
       "      <th>1</th>\n",
       "      <td>111.0</td>\n",
       "      <td>29052.0</td>\n",
       "      <td>1188.0</td>\n",
       "      <td>NaN</td>\n",
       "      <td>640.0</td>\n",
       "      <td>True</td>\n",
       "      <td>5.0</td>\n",
       "    </tr>\n",
       "    <tr>\n",
       "      <th>7721769811471055264</th>\n",
       "      <th>1</th>\n",
       "      <td>281.0</td>\n",
       "      <td>333.0</td>\n",
       "      <td>908.0</td>\n",
       "      <td>23.0</td>\n",
       "      <td>218.0</td>\n",
       "      <td>True</td>\n",
       "      <td>3.0</td>\n",
       "    </tr>\n",
       "    <tr>\n",
       "      <th>6416039086842158968</th>\n",
       "      <th>1</th>\n",
       "      <td>NaN</td>\n",
       "      <td>NaN</td>\n",
       "      <td>NaN</td>\n",
       "      <td>NaN</td>\n",
       "      <td>NaN</td>\n",
       "      <td>NaN</td>\n",
       "      <td>NaN</td>\n",
       "    </tr>\n",
       "    <tr>\n",
       "      <th>1258642015983312729</th>\n",
       "      <th>1</th>\n",
       "      <td>8365.0</td>\n",
       "      <td>121224.0</td>\n",
       "      <td>12.0</td>\n",
       "      <td>NaN</td>\n",
       "      <td>NaN</td>\n",
       "      <td>False</td>\n",
       "      <td>1.0</td>\n",
       "    </tr>\n",
       "  </tbody>\n",
       "</table>\n",
       "</div>"
      ],
      "text/plain": [
       "                               secs_to_next_mean  secs_since_last_arrival  \\\n",
       "ref_hash            window_nr                                               \n",
       "2564673204772915246 1                      765.0                  88625.0   \n",
       "4441121667607578179 1                      111.0                  29052.0   \n",
       "7721769811471055264 1                      281.0                    333.0   \n",
       "6416039086842158968 1                        NaN                      NaN   \n",
       "1258642015983312729 1                     8365.0                 121224.0   \n",
       "\n",
       "                               auctions_total  auctions_last_hour  \\\n",
       "ref_hash            window_nr                                       \n",
       "2564673204772915246 1                   216.0                 NaN   \n",
       "4441121667607578179 1                  1188.0                 NaN   \n",
       "7721769811471055264 1                   908.0                23.0   \n",
       "6416039086842158968 1                     NaN                 NaN   \n",
       "1258642015983312729 1                    12.0                 NaN   \n",
       "\n",
       "                               amount_auctions_in_weekend is_last_weekend  \\\n",
       "ref_hash            window_nr                                               \n",
       "2564673204772915246 1                                 NaN           False   \n",
       "4441121667607578179 1                               640.0            True   \n",
       "7721769811471055264 1                               218.0            True   \n",
       "6416039086842158968 1                                 NaN             NaN   \n",
       "1258642015983312729 1                                 NaN           False   \n",
       "\n",
       "                               amount_dif_src  \n",
       "ref_hash            window_nr                  \n",
       "2564673204772915246 1                     3.0  \n",
       "4441121667607578179 1                     5.0  \n",
       "7721769811471055264 1                     3.0  \n",
       "6416039086842158968 1                     NaN  \n",
       "1258642015983312729 1                     1.0  "
      ]
     },
     "execution_count": 307,
     "metadata": {},
     "output_type": "execute_result"
    }
   ],
   "source": [
    "devices.head()"
   ]
  },
  {
   "cell_type": "markdown",
   "metadata": {},
   "source": [
    "## Cantidad de eventos"
   ]
  },
  {
   "cell_type": "code",
   "execution_count": 308,
   "metadata": {},
   "outputs": [],
   "source": [
    "temp = events.groupby(group, sort=False)\\\n",
    "             .agg({'n':'sum'})\\\n",
    "             .rename(columns = {'n': 'amount_events' })"
   ]
  },
  {
   "cell_type": "code",
   "execution_count": 309,
   "metadata": {},
   "outputs": [
    {
     "data": {
      "text/html": [
       "<div>\n",
       "<style scoped>\n",
       "    .dataframe tbody tr th:only-of-type {\n",
       "        vertical-align: middle;\n",
       "    }\n",
       "\n",
       "    .dataframe tbody tr th {\n",
       "        vertical-align: top;\n",
       "    }\n",
       "\n",
       "    .dataframe thead th {\n",
       "        text-align: right;\n",
       "    }\n",
       "</style>\n",
       "<table border=\"1\" class=\"dataframe\">\n",
       "  <thead>\n",
       "    <tr style=\"text-align: right;\">\n",
       "      <th></th>\n",
       "      <th></th>\n",
       "      <th>amount_events</th>\n",
       "    </tr>\n",
       "    <tr>\n",
       "      <th>ref_hash</th>\n",
       "      <th>window_nr</th>\n",
       "      <th></th>\n",
       "    </tr>\n",
       "  </thead>\n",
       "  <tbody>\n",
       "    <tr>\n",
       "      <th>4314242242878368557</th>\n",
       "      <th>1</th>\n",
       "      <td>10</td>\n",
       "    </tr>\n",
       "    <tr>\n",
       "      <th>2068670382964280534</th>\n",
       "      <th>1</th>\n",
       "      <td>140</td>\n",
       "    </tr>\n",
       "    <tr>\n",
       "      <th>726218951290512705</th>\n",
       "      <th>1</th>\n",
       "      <td>27</td>\n",
       "    </tr>\n",
       "    <tr>\n",
       "      <th>1329210878469536477</th>\n",
       "      <th>1</th>\n",
       "      <td>157</td>\n",
       "    </tr>\n",
       "    <tr>\n",
       "      <th>5661732594213028190</th>\n",
       "      <th>1</th>\n",
       "      <td>50</td>\n",
       "    </tr>\n",
       "  </tbody>\n",
       "</table>\n",
       "</div>"
      ],
      "text/plain": [
       "                               amount_events\n",
       "ref_hash            window_nr               \n",
       "4314242242878368557 1                     10\n",
       "2068670382964280534 1                    140\n",
       "726218951290512705  1                     27\n",
       "1329210878469536477 1                    157\n",
       "5661732594213028190 1                     50"
      ]
     },
     "execution_count": 309,
     "metadata": {},
     "output_type": "execute_result"
    }
   ],
   "source": [
    "temp.head()"
   ]
  },
  {
   "cell_type": "code",
   "execution_count": 310,
   "metadata": {},
   "outputs": [],
   "source": [
    "devices = devices.merge(temp, how = 'left', left_index=True, right_index=True)"
   ]
  },
  {
   "cell_type": "code",
   "execution_count": 311,
   "metadata": {},
   "outputs": [
    {
     "data": {
      "text/html": [
       "<div>\n",
       "<style scoped>\n",
       "    .dataframe tbody tr th:only-of-type {\n",
       "        vertical-align: middle;\n",
       "    }\n",
       "\n",
       "    .dataframe tbody tr th {\n",
       "        vertical-align: top;\n",
       "    }\n",
       "\n",
       "    .dataframe thead th {\n",
       "        text-align: right;\n",
       "    }\n",
       "</style>\n",
       "<table border=\"1\" class=\"dataframe\">\n",
       "  <thead>\n",
       "    <tr style=\"text-align: right;\">\n",
       "      <th></th>\n",
       "      <th></th>\n",
       "      <th>secs_to_next_mean</th>\n",
       "      <th>secs_since_last_arrival</th>\n",
       "      <th>auctions_total</th>\n",
       "      <th>auctions_last_hour</th>\n",
       "      <th>amount_auctions_in_weekend</th>\n",
       "      <th>is_last_weekend</th>\n",
       "      <th>amount_dif_src</th>\n",
       "      <th>amount_events</th>\n",
       "    </tr>\n",
       "    <tr>\n",
       "      <th>ref_hash</th>\n",
       "      <th>window_nr</th>\n",
       "      <th></th>\n",
       "      <th></th>\n",
       "      <th></th>\n",
       "      <th></th>\n",
       "      <th></th>\n",
       "      <th></th>\n",
       "      <th></th>\n",
       "      <th></th>\n",
       "    </tr>\n",
       "  </thead>\n",
       "  <tbody>\n",
       "    <tr>\n",
       "      <th>2564673204772915246</th>\n",
       "      <th>1</th>\n",
       "      <td>765.0</td>\n",
       "      <td>88625.0</td>\n",
       "      <td>216.0</td>\n",
       "      <td>NaN</td>\n",
       "      <td>NaN</td>\n",
       "      <td>False</td>\n",
       "      <td>3.0</td>\n",
       "      <td>NaN</td>\n",
       "    </tr>\n",
       "    <tr>\n",
       "      <th>4441121667607578179</th>\n",
       "      <th>1</th>\n",
       "      <td>111.0</td>\n",
       "      <td>29052.0</td>\n",
       "      <td>1188.0</td>\n",
       "      <td>NaN</td>\n",
       "      <td>640.0</td>\n",
       "      <td>True</td>\n",
       "      <td>5.0</td>\n",
       "      <td>NaN</td>\n",
       "    </tr>\n",
       "    <tr>\n",
       "      <th>7721769811471055264</th>\n",
       "      <th>1</th>\n",
       "      <td>281.0</td>\n",
       "      <td>333.0</td>\n",
       "      <td>908.0</td>\n",
       "      <td>23.0</td>\n",
       "      <td>218.0</td>\n",
       "      <td>True</td>\n",
       "      <td>3.0</td>\n",
       "      <td>99.0</td>\n",
       "    </tr>\n",
       "    <tr>\n",
       "      <th>6416039086842158968</th>\n",
       "      <th>1</th>\n",
       "      <td>NaN</td>\n",
       "      <td>NaN</td>\n",
       "      <td>NaN</td>\n",
       "      <td>NaN</td>\n",
       "      <td>NaN</td>\n",
       "      <td>NaN</td>\n",
       "      <td>NaN</td>\n",
       "      <td>NaN</td>\n",
       "    </tr>\n",
       "    <tr>\n",
       "      <th>1258642015983312729</th>\n",
       "      <th>1</th>\n",
       "      <td>8365.0</td>\n",
       "      <td>121224.0</td>\n",
       "      <td>12.0</td>\n",
       "      <td>NaN</td>\n",
       "      <td>NaN</td>\n",
       "      <td>False</td>\n",
       "      <td>1.0</td>\n",
       "      <td>NaN</td>\n",
       "    </tr>\n",
       "  </tbody>\n",
       "</table>\n",
       "</div>"
      ],
      "text/plain": [
       "                               secs_to_next_mean  secs_since_last_arrival  \\\n",
       "ref_hash            window_nr                                               \n",
       "2564673204772915246 1                      765.0                  88625.0   \n",
       "4441121667607578179 1                      111.0                  29052.0   \n",
       "7721769811471055264 1                      281.0                    333.0   \n",
       "6416039086842158968 1                        NaN                      NaN   \n",
       "1258642015983312729 1                     8365.0                 121224.0   \n",
       "\n",
       "                               auctions_total  auctions_last_hour  \\\n",
       "ref_hash            window_nr                                       \n",
       "2564673204772915246 1                   216.0                 NaN   \n",
       "4441121667607578179 1                  1188.0                 NaN   \n",
       "7721769811471055264 1                   908.0                23.0   \n",
       "6416039086842158968 1                     NaN                 NaN   \n",
       "1258642015983312729 1                    12.0                 NaN   \n",
       "\n",
       "                               amount_auctions_in_weekend is_last_weekend  \\\n",
       "ref_hash            window_nr                                               \n",
       "2564673204772915246 1                                 NaN           False   \n",
       "4441121667607578179 1                               640.0            True   \n",
       "7721769811471055264 1                               218.0            True   \n",
       "6416039086842158968 1                                 NaN             NaN   \n",
       "1258642015983312729 1                                 NaN           False   \n",
       "\n",
       "                               amount_dif_src  amount_events  \n",
       "ref_hash            window_nr                                 \n",
       "2564673204772915246 1                     3.0            NaN  \n",
       "4441121667607578179 1                     5.0            NaN  \n",
       "7721769811471055264 1                     3.0           99.0  \n",
       "6416039086842158968 1                     NaN            NaN  \n",
       "1258642015983312729 1                     1.0            NaN  "
      ]
     },
     "execution_count": 311,
     "metadata": {},
     "output_type": "execute_result"
    }
   ],
   "source": [
    "devices.head()"
   ]
  },
  {
   "cell_type": "markdown",
   "metadata": {},
   "source": [
    "### Ultimo evento"
   ]
  },
  {
   "cell_type": "code",
   "execution_count": 312,
   "metadata": {},
   "outputs": [],
   "source": [
    "temp = events.groupby(group,sort=False)\\\n",
    "             .agg({'created':'max'})\\\n",
    "             .reset_index()\\\n",
    "             .merge(max_dates, on='window_nr', how='left')\\\n",
    "             .set_index(group)\n",
    "temp = (temp['w_max_date'] - temp['created']).transform(lambda x: round(x.total_seconds())).rename('secs_since_last_event')"
   ]
  },
  {
   "cell_type": "code",
   "execution_count": 313,
   "metadata": {},
   "outputs": [
    {
     "data": {
      "text/plain": [
       "ref_hash             window_nr\n",
       "4314242242878368557  1             14186\n",
       "2068670382964280534  1             15512\n",
       "726218951290512705   1            210044\n",
       "1329210878469536477  1              1245\n",
       "5661732594213028190  1             15836\n",
       "Name: secs_since_last_event, dtype: int64"
      ]
     },
     "execution_count": 313,
     "metadata": {},
     "output_type": "execute_result"
    }
   ],
   "source": [
    "temp.head()"
   ]
  },
  {
   "cell_type": "code",
   "execution_count": 314,
   "metadata": {},
   "outputs": [],
   "source": [
    "devices = devices.merge(temp, how = 'left', left_index=True, right_index=True)"
   ]
  },
  {
   "cell_type": "code",
   "execution_count": 315,
   "metadata": {},
   "outputs": [
    {
     "data": {
      "text/html": [
       "<div>\n",
       "<style scoped>\n",
       "    .dataframe tbody tr th:only-of-type {\n",
       "        vertical-align: middle;\n",
       "    }\n",
       "\n",
       "    .dataframe tbody tr th {\n",
       "        vertical-align: top;\n",
       "    }\n",
       "\n",
       "    .dataframe thead th {\n",
       "        text-align: right;\n",
       "    }\n",
       "</style>\n",
       "<table border=\"1\" class=\"dataframe\">\n",
       "  <thead>\n",
       "    <tr style=\"text-align: right;\">\n",
       "      <th></th>\n",
       "      <th></th>\n",
       "      <th>secs_to_next_mean</th>\n",
       "      <th>secs_since_last_arrival</th>\n",
       "      <th>auctions_total</th>\n",
       "      <th>auctions_last_hour</th>\n",
       "      <th>amount_auctions_in_weekend</th>\n",
       "      <th>is_last_weekend</th>\n",
       "      <th>amount_dif_src</th>\n",
       "      <th>amount_events</th>\n",
       "      <th>secs_since_last_event</th>\n",
       "    </tr>\n",
       "    <tr>\n",
       "      <th>ref_hash</th>\n",
       "      <th>window_nr</th>\n",
       "      <th></th>\n",
       "      <th></th>\n",
       "      <th></th>\n",
       "      <th></th>\n",
       "      <th></th>\n",
       "      <th></th>\n",
       "      <th></th>\n",
       "      <th></th>\n",
       "      <th></th>\n",
       "    </tr>\n",
       "  </thead>\n",
       "  <tbody>\n",
       "    <tr>\n",
       "      <th>2564673204772915246</th>\n",
       "      <th>1</th>\n",
       "      <td>765.0</td>\n",
       "      <td>88625.0</td>\n",
       "      <td>216.0</td>\n",
       "      <td>NaN</td>\n",
       "      <td>NaN</td>\n",
       "      <td>False</td>\n",
       "      <td>3.0</td>\n",
       "      <td>NaN</td>\n",
       "      <td>NaN</td>\n",
       "    </tr>\n",
       "    <tr>\n",
       "      <th>4441121667607578179</th>\n",
       "      <th>1</th>\n",
       "      <td>111.0</td>\n",
       "      <td>29052.0</td>\n",
       "      <td>1188.0</td>\n",
       "      <td>NaN</td>\n",
       "      <td>640.0</td>\n",
       "      <td>True</td>\n",
       "      <td>5.0</td>\n",
       "      <td>NaN</td>\n",
       "      <td>NaN</td>\n",
       "    </tr>\n",
       "    <tr>\n",
       "      <th>7721769811471055264</th>\n",
       "      <th>1</th>\n",
       "      <td>281.0</td>\n",
       "      <td>333.0</td>\n",
       "      <td>908.0</td>\n",
       "      <td>23.0</td>\n",
       "      <td>218.0</td>\n",
       "      <td>True</td>\n",
       "      <td>3.0</td>\n",
       "      <td>99.0</td>\n",
       "      <td>196475.0</td>\n",
       "    </tr>\n",
       "    <tr>\n",
       "      <th>6416039086842158968</th>\n",
       "      <th>1</th>\n",
       "      <td>NaN</td>\n",
       "      <td>NaN</td>\n",
       "      <td>NaN</td>\n",
       "      <td>NaN</td>\n",
       "      <td>NaN</td>\n",
       "      <td>NaN</td>\n",
       "      <td>NaN</td>\n",
       "      <td>NaN</td>\n",
       "      <td>NaN</td>\n",
       "    </tr>\n",
       "    <tr>\n",
       "      <th>1258642015983312729</th>\n",
       "      <th>1</th>\n",
       "      <td>8365.0</td>\n",
       "      <td>121224.0</td>\n",
       "      <td>12.0</td>\n",
       "      <td>NaN</td>\n",
       "      <td>NaN</td>\n",
       "      <td>False</td>\n",
       "      <td>1.0</td>\n",
       "      <td>NaN</td>\n",
       "      <td>NaN</td>\n",
       "    </tr>\n",
       "  </tbody>\n",
       "</table>\n",
       "</div>"
      ],
      "text/plain": [
       "                               secs_to_next_mean  secs_since_last_arrival  \\\n",
       "ref_hash            window_nr                                               \n",
       "2564673204772915246 1                      765.0                  88625.0   \n",
       "4441121667607578179 1                      111.0                  29052.0   \n",
       "7721769811471055264 1                      281.0                    333.0   \n",
       "6416039086842158968 1                        NaN                      NaN   \n",
       "1258642015983312729 1                     8365.0                 121224.0   \n",
       "\n",
       "                               auctions_total  auctions_last_hour  \\\n",
       "ref_hash            window_nr                                       \n",
       "2564673204772915246 1                   216.0                 NaN   \n",
       "4441121667607578179 1                  1188.0                 NaN   \n",
       "7721769811471055264 1                   908.0                23.0   \n",
       "6416039086842158968 1                     NaN                 NaN   \n",
       "1258642015983312729 1                    12.0                 NaN   \n",
       "\n",
       "                               amount_auctions_in_weekend is_last_weekend  \\\n",
       "ref_hash            window_nr                                               \n",
       "2564673204772915246 1                                 NaN           False   \n",
       "4441121667607578179 1                               640.0            True   \n",
       "7721769811471055264 1                               218.0            True   \n",
       "6416039086842158968 1                                 NaN             NaN   \n",
       "1258642015983312729 1                                 NaN           False   \n",
       "\n",
       "                               amount_dif_src  amount_events  \\\n",
       "ref_hash            window_nr                                  \n",
       "2564673204772915246 1                     3.0            NaN   \n",
       "4441121667607578179 1                     5.0            NaN   \n",
       "7721769811471055264 1                     3.0           99.0   \n",
       "6416039086842158968 1                     NaN            NaN   \n",
       "1258642015983312729 1                     1.0            NaN   \n",
       "\n",
       "                               secs_since_last_event  \n",
       "ref_hash            window_nr                         \n",
       "2564673204772915246 1                            NaN  \n",
       "4441121667607578179 1                            NaN  \n",
       "7721769811471055264 1                       196475.0  \n",
       "6416039086842158968 1                            NaN  \n",
       "1258642015983312729 1                            NaN  "
      ]
     },
     "execution_count": 315,
     "metadata": {},
     "output_type": "execute_result"
    }
   ],
   "source": [
    "devices.head()"
   ]
  },
  {
   "cell_type": "markdown",
   "metadata": {},
   "source": [
    "### Alguno de los eventos fueron con wifi?"
   ]
  },
  {
   "cell_type": "code",
   "execution_count": 316,
   "metadata": {},
   "outputs": [],
   "source": [
    "temp = events.groupby(group, sort=False).agg({'wifi':'sum'})\n",
    "temp['wifi'] = temp['wifi'].astype(bool)"
   ]
  },
  {
   "cell_type": "code",
   "execution_count": 317,
   "metadata": {},
   "outputs": [
    {
     "data": {
      "text/html": [
       "<div>\n",
       "<style scoped>\n",
       "    .dataframe tbody tr th:only-of-type {\n",
       "        vertical-align: middle;\n",
       "    }\n",
       "\n",
       "    .dataframe tbody tr th {\n",
       "        vertical-align: top;\n",
       "    }\n",
       "\n",
       "    .dataframe thead th {\n",
       "        text-align: right;\n",
       "    }\n",
       "</style>\n",
       "<table border=\"1\" class=\"dataframe\">\n",
       "  <thead>\n",
       "    <tr style=\"text-align: right;\">\n",
       "      <th></th>\n",
       "      <th></th>\n",
       "      <th>wifi</th>\n",
       "    </tr>\n",
       "    <tr>\n",
       "      <th>ref_hash</th>\n",
       "      <th>window_nr</th>\n",
       "      <th></th>\n",
       "    </tr>\n",
       "  </thead>\n",
       "  <tbody>\n",
       "    <tr>\n",
       "      <th>4314242242878368557</th>\n",
       "      <th>1</th>\n",
       "      <td>True</td>\n",
       "    </tr>\n",
       "    <tr>\n",
       "      <th>2068670382964280534</th>\n",
       "      <th>1</th>\n",
       "      <td>True</td>\n",
       "    </tr>\n",
       "    <tr>\n",
       "      <th>726218951290512705</th>\n",
       "      <th>1</th>\n",
       "      <td>True</td>\n",
       "    </tr>\n",
       "    <tr>\n",
       "      <th>1329210878469536477</th>\n",
       "      <th>1</th>\n",
       "      <td>True</td>\n",
       "    </tr>\n",
       "    <tr>\n",
       "      <th>5661732594213028190</th>\n",
       "      <th>1</th>\n",
       "      <td>False</td>\n",
       "    </tr>\n",
       "  </tbody>\n",
       "</table>\n",
       "</div>"
      ],
      "text/plain": [
       "                                wifi\n",
       "ref_hash            window_nr       \n",
       "4314242242878368557 1           True\n",
       "2068670382964280534 1           True\n",
       "726218951290512705  1           True\n",
       "1329210878469536477 1           True\n",
       "5661732594213028190 1          False"
      ]
     },
     "execution_count": 317,
     "metadata": {},
     "output_type": "execute_result"
    }
   ],
   "source": [
    "temp.head()"
   ]
  },
  {
   "cell_type": "code",
   "execution_count": 318,
   "metadata": {},
   "outputs": [],
   "source": [
    "devices = devices.merge(temp, how = 'left', left_index=True, right_index=True)\n",
    "#devices['wifi'].fillna(?)"
   ]
  },
  {
   "cell_type": "code",
   "execution_count": 319,
   "metadata": {},
   "outputs": [
    {
     "data": {
      "text/html": [
       "<div>\n",
       "<style scoped>\n",
       "    .dataframe tbody tr th:only-of-type {\n",
       "        vertical-align: middle;\n",
       "    }\n",
       "\n",
       "    .dataframe tbody tr th {\n",
       "        vertical-align: top;\n",
       "    }\n",
       "\n",
       "    .dataframe thead th {\n",
       "        text-align: right;\n",
       "    }\n",
       "</style>\n",
       "<table border=\"1\" class=\"dataframe\">\n",
       "  <thead>\n",
       "    <tr style=\"text-align: right;\">\n",
       "      <th></th>\n",
       "      <th></th>\n",
       "      <th>secs_to_next_mean</th>\n",
       "      <th>secs_since_last_arrival</th>\n",
       "      <th>auctions_total</th>\n",
       "      <th>auctions_last_hour</th>\n",
       "      <th>amount_auctions_in_weekend</th>\n",
       "      <th>is_last_weekend</th>\n",
       "      <th>amount_dif_src</th>\n",
       "      <th>amount_events</th>\n",
       "      <th>secs_since_last_event</th>\n",
       "      <th>wifi</th>\n",
       "    </tr>\n",
       "    <tr>\n",
       "      <th>ref_hash</th>\n",
       "      <th>window_nr</th>\n",
       "      <th></th>\n",
       "      <th></th>\n",
       "      <th></th>\n",
       "      <th></th>\n",
       "      <th></th>\n",
       "      <th></th>\n",
       "      <th></th>\n",
       "      <th></th>\n",
       "      <th></th>\n",
       "      <th></th>\n",
       "    </tr>\n",
       "  </thead>\n",
       "  <tbody>\n",
       "    <tr>\n",
       "      <th>2564673204772915246</th>\n",
       "      <th>1</th>\n",
       "      <td>765.0</td>\n",
       "      <td>88625.0</td>\n",
       "      <td>216.0</td>\n",
       "      <td>NaN</td>\n",
       "      <td>NaN</td>\n",
       "      <td>False</td>\n",
       "      <td>3.0</td>\n",
       "      <td>NaN</td>\n",
       "      <td>NaN</td>\n",
       "      <td>NaN</td>\n",
       "    </tr>\n",
       "    <tr>\n",
       "      <th>4441121667607578179</th>\n",
       "      <th>1</th>\n",
       "      <td>111.0</td>\n",
       "      <td>29052.0</td>\n",
       "      <td>1188.0</td>\n",
       "      <td>NaN</td>\n",
       "      <td>640.0</td>\n",
       "      <td>True</td>\n",
       "      <td>5.0</td>\n",
       "      <td>NaN</td>\n",
       "      <td>NaN</td>\n",
       "      <td>NaN</td>\n",
       "    </tr>\n",
       "    <tr>\n",
       "      <th>7721769811471055264</th>\n",
       "      <th>1</th>\n",
       "      <td>281.0</td>\n",
       "      <td>333.0</td>\n",
       "      <td>908.0</td>\n",
       "      <td>23.0</td>\n",
       "      <td>218.0</td>\n",
       "      <td>True</td>\n",
       "      <td>3.0</td>\n",
       "      <td>99.0</td>\n",
       "      <td>196475.0</td>\n",
       "      <td>False</td>\n",
       "    </tr>\n",
       "    <tr>\n",
       "      <th>6416039086842158968</th>\n",
       "      <th>1</th>\n",
       "      <td>NaN</td>\n",
       "      <td>NaN</td>\n",
       "      <td>NaN</td>\n",
       "      <td>NaN</td>\n",
       "      <td>NaN</td>\n",
       "      <td>NaN</td>\n",
       "      <td>NaN</td>\n",
       "      <td>NaN</td>\n",
       "      <td>NaN</td>\n",
       "      <td>NaN</td>\n",
       "    </tr>\n",
       "    <tr>\n",
       "      <th>1258642015983312729</th>\n",
       "      <th>1</th>\n",
       "      <td>8365.0</td>\n",
       "      <td>121224.0</td>\n",
       "      <td>12.0</td>\n",
       "      <td>NaN</td>\n",
       "      <td>NaN</td>\n",
       "      <td>False</td>\n",
       "      <td>1.0</td>\n",
       "      <td>NaN</td>\n",
       "      <td>NaN</td>\n",
       "      <td>NaN</td>\n",
       "    </tr>\n",
       "  </tbody>\n",
       "</table>\n",
       "</div>"
      ],
      "text/plain": [
       "                               secs_to_next_mean  secs_since_last_arrival  \\\n",
       "ref_hash            window_nr                                               \n",
       "2564673204772915246 1                      765.0                  88625.0   \n",
       "4441121667607578179 1                      111.0                  29052.0   \n",
       "7721769811471055264 1                      281.0                    333.0   \n",
       "6416039086842158968 1                        NaN                      NaN   \n",
       "1258642015983312729 1                     8365.0                 121224.0   \n",
       "\n",
       "                               auctions_total  auctions_last_hour  \\\n",
       "ref_hash            window_nr                                       \n",
       "2564673204772915246 1                   216.0                 NaN   \n",
       "4441121667607578179 1                  1188.0                 NaN   \n",
       "7721769811471055264 1                   908.0                23.0   \n",
       "6416039086842158968 1                     NaN                 NaN   \n",
       "1258642015983312729 1                    12.0                 NaN   \n",
       "\n",
       "                               amount_auctions_in_weekend is_last_weekend  \\\n",
       "ref_hash            window_nr                                               \n",
       "2564673204772915246 1                                 NaN           False   \n",
       "4441121667607578179 1                               640.0            True   \n",
       "7721769811471055264 1                               218.0            True   \n",
       "6416039086842158968 1                                 NaN             NaN   \n",
       "1258642015983312729 1                                 NaN           False   \n",
       "\n",
       "                               amount_dif_src  amount_events  \\\n",
       "ref_hash            window_nr                                  \n",
       "2564673204772915246 1                     3.0            NaN   \n",
       "4441121667607578179 1                     5.0            NaN   \n",
       "7721769811471055264 1                     3.0           99.0   \n",
       "6416039086842158968 1                     NaN            NaN   \n",
       "1258642015983312729 1                     1.0            NaN   \n",
       "\n",
       "                               secs_since_last_event   wifi  \n",
       "ref_hash            window_nr                                \n",
       "2564673204772915246 1                            NaN    NaN  \n",
       "4441121667607578179 1                            NaN    NaN  \n",
       "7721769811471055264 1                       196475.0  False  \n",
       "6416039086842158968 1                            NaN    NaN  \n",
       "1258642015983312729 1                            NaN    NaN  "
      ]
     },
     "execution_count": 319,
     "metadata": {},
     "output_type": "execute_result"
    }
   ],
   "source": [
    "devices.head()"
   ]
  },
  {
   "cell_type": "markdown",
   "metadata": {},
   "source": [
    "### Tiempo promedio de clicks"
   ]
  },
  {
   "cell_type": "code",
   "execution_count": 320,
   "metadata": {},
   "outputs": [],
   "source": [
    "temp = clicks.groupby(by = ['ref_hash', 'window_nr'])\\\n",
    "             .agg({'timeToClick' : 'mean'})\\\n",
    "             .rename(columns = {'timeToClick' : 'timeToClick_mean'})"
   ]
  },
  {
   "cell_type": "code",
   "execution_count": 321,
   "metadata": {},
   "outputs": [],
   "source": [
    "devices = devices.merge(temp, how = 'left', left_index=True, right_index=True)\n",
    "#devices['timeToClick_mean'].fillna(?)"
   ]
  },
  {
   "cell_type": "markdown",
   "metadata": {},
   "source": [
    "### Cantidad de advertiser que tiene cada ref_hash"
   ]
  },
  {
   "cell_type": "code",
   "execution_count": 322,
   "metadata": {},
   "outputs": [],
   "source": [
    "temp = clicks.groupby(group + ['advertiser_id'],sort=False).agg({'n':'sum'}).reset_index()\n",
    "temp['n'] = 1\n",
    "temp = temp.groupby(group)\\\n",
    "           .agg({'n' : 'sum'})\\\n",
    "           .rename(columns = {'n': 'amount_dif_advertisers' })"
   ]
  },
  {
   "cell_type": "code",
   "execution_count": 323,
   "metadata": {},
   "outputs": [
    {
     "data": {
      "text/html": [
       "<div>\n",
       "<style scoped>\n",
       "    .dataframe tbody tr th:only-of-type {\n",
       "        vertical-align: middle;\n",
       "    }\n",
       "\n",
       "    .dataframe tbody tr th {\n",
       "        vertical-align: top;\n",
       "    }\n",
       "\n",
       "    .dataframe thead th {\n",
       "        text-align: right;\n",
       "    }\n",
       "</style>\n",
       "<table border=\"1\" class=\"dataframe\">\n",
       "  <thead>\n",
       "    <tr style=\"text-align: right;\">\n",
       "      <th></th>\n",
       "      <th></th>\n",
       "      <th>amount_dif_advertisers</th>\n",
       "    </tr>\n",
       "    <tr>\n",
       "      <th>ref_hash</th>\n",
       "      <th>window_nr</th>\n",
       "      <th></th>\n",
       "    </tr>\n",
       "  </thead>\n",
       "  <tbody>\n",
       "    <tr>\n",
       "      <th>693609737448534</th>\n",
       "      <th>2.0</th>\n",
       "      <td>1</td>\n",
       "    </tr>\n",
       "    <tr>\n",
       "      <th>1461247282174365</th>\n",
       "      <th>1.0</th>\n",
       "      <td>1</td>\n",
       "    </tr>\n",
       "    <tr>\n",
       "      <th>2204225481747532</th>\n",
       "      <th>2.0</th>\n",
       "      <td>1</td>\n",
       "    </tr>\n",
       "    <tr>\n",
       "      <th>5470466329076030</th>\n",
       "      <th>1.0</th>\n",
       "      <td>1</td>\n",
       "    </tr>\n",
       "    <tr>\n",
       "      <th>5534899846690585</th>\n",
       "      <th>1.0</th>\n",
       "      <td>1</td>\n",
       "    </tr>\n",
       "  </tbody>\n",
       "</table>\n",
       "</div>"
      ],
      "text/plain": [
       "                            amount_dif_advertisers\n",
       "ref_hash         window_nr                        \n",
       "693609737448534  2.0                             1\n",
       "1461247282174365 1.0                             1\n",
       "2204225481747532 2.0                             1\n",
       "5470466329076030 1.0                             1\n",
       "5534899846690585 1.0                             1"
      ]
     },
     "execution_count": 323,
     "metadata": {},
     "output_type": "execute_result"
    }
   ],
   "source": [
    "temp.head()"
   ]
  },
  {
   "cell_type": "code",
   "execution_count": 324,
   "metadata": {},
   "outputs": [],
   "source": [
    "devices = devices.merge(temp, how = 'left', left_index=True, right_index=True)"
   ]
  },
  {
   "cell_type": "markdown",
   "metadata": {},
   "source": [
    "---\n",
    "## 4. Guardo Features \n",
    "Aplico arreglo: \n",
    "* Si el dispositivo no aparecio en la ventana, se elimina la fila\n",
    "* Si el dispositivo no tiene valores en los eventos de count agrego count 0"
   ]
  },
  {
   "cell_type": "code",
   "execution_count": 325,
   "metadata": {},
   "outputs": [],
   "source": [
    "#Chequear casos que queden con medias en null\n",
    "devices = devices.dropna(how='all')"
   ]
  },
  {
   "cell_type": "code",
   "execution_count": 326,
   "metadata": {},
   "outputs": [
    {
     "data": {
      "text/plain": [
       "secs_to_next_mean             390198\n",
       "secs_since_last_arrival       390198\n",
       "auctions_total                390198\n",
       "auctions_last_hour            942576\n",
       "amount_auctions_in_weekend    729211\n",
       "is_last_weekend               390198\n",
       "amount_dif_src                390198\n",
       "amount_events                 463802\n",
       "secs_since_last_event         463802\n",
       "wifi                          463802\n",
       "timeToClick_mean              987136\n",
       "amount_dif_advertisers        976314\n",
       "dtype: int64"
      ]
     },
     "execution_count": 326,
     "metadata": {},
     "output_type": "execute_result"
    }
   ],
   "source": [
    "devices.isnull().sum()"
   ]
  },
  {
   "cell_type": "code",
   "execution_count": 327,
   "metadata": {},
   "outputs": [
    {
     "data": {
      "text/plain": [
       "secs_to_next_mean             float64\n",
       "secs_since_last_arrival       float64\n",
       "auctions_total                float64\n",
       "auctions_last_hour            float64\n",
       "amount_auctions_in_weekend    float64\n",
       "is_last_weekend                object\n",
       "amount_dif_src                float64\n",
       "amount_events                 float64\n",
       "secs_since_last_event         float64\n",
       "wifi                           object\n",
       "timeToClick_mean              float64\n",
       "amount_dif_advertisers        float64\n",
       "dtype: object"
      ]
     },
     "execution_count": 327,
     "metadata": {},
     "output_type": "execute_result"
    }
   ],
   "source": [
    "devices.dtypes"
   ]
  },
  {
   "cell_type": "code",
   "execution_count": 328,
   "metadata": {},
   "outputs": [
    {
     "name": "stdout",
     "output_type": "stream",
     "text": [
      "Filling  secs_to_next_mean  with window mean\n",
      "Filling  timeToClick_mean  with window mean\n",
      "Filling  is_last_weekend  with False\n",
      "Filling  wifi  with False\n",
      "Filling the rest with 0\n"
     ]
    }
   ],
   "source": [
    "#Fix means\n",
    "means = [x for x in devices.columns if 'mean' in x]\n",
    "for i in means:\n",
    "    print(\"Filling \",i, \" with window mean\")\n",
    "    devices[i] = devices.groupby('window_nr')[i].transform(lambda x: x.fillna(x.mean()))\n",
    "\n",
    "#Fix Strings\n",
    "obj = list(devices.dtypes[devices.dtypes == 'object'].index)\n",
    "for i in obj:\n",
    "    print(\"Filling \",i, \" with False\")\n",
    "    devices[i] = devices[i].fillna(False)\n",
    "\n",
    "print('Filling the rest with 0')\n",
    "devices = devices.fillna(0)"
   ]
  },
  {
   "cell_type": "code",
   "execution_count": 329,
   "metadata": {},
   "outputs": [
    {
     "data": {
      "text/plain": [
       "secs_to_next_mean             0\n",
       "secs_since_last_arrival       0\n",
       "auctions_total                0\n",
       "auctions_last_hour            0\n",
       "amount_auctions_in_weekend    0\n",
       "is_last_weekend               0\n",
       "amount_dif_src                0\n",
       "amount_events                 0\n",
       "secs_since_last_event         0\n",
       "wifi                          0\n",
       "timeToClick_mean              0\n",
       "amount_dif_advertisers        0\n",
       "dtype: int64"
      ]
     },
     "execution_count": 329,
     "metadata": {},
     "output_type": "execute_result"
    }
   ],
   "source": [
    "devices.isnull().sum()"
   ]
  },
  {
   "cell_type": "code",
   "execution_count": 330,
   "metadata": {},
   "outputs": [],
   "source": [
    "devices.to_csv('training_set.csv',header=True,index=True)"
   ]
  },
  {
   "cell_type": "code",
   "execution_count": 337,
   "metadata": {},
   "outputs": [
    {
     "data": {
      "text/plain": [
       "sum      1916\n",
       "count    4037\n",
       "Name: ref_hash, dtype: int64"
      ]
     },
     "execution_count": 337,
     "metadata": {},
     "output_type": "execute_result"
    }
   ],
   "source": [
    "to_predict['ref_hash'].isin(auctions.loc[auctions['window_nr'] == 1]['ref_hash']).agg([np.sum,'count'])"
   ]
  }
 ],
 "metadata": {
  "kernelspec": {
   "display_name": "Python 3",
   "language": "python",
   "name": "python3"
  },
  "language_info": {
   "codemirror_mode": {
    "name": "ipython",
    "version": 3
   },
   "file_extension": ".py",
   "mimetype": "text/x-python",
   "name": "python",
   "nbconvert_exporter": "python",
   "pygments_lexer": "ipython3",
   "version": "3.6.7"
  }
 },
 "nbformat": 4,
 "nbformat_minor": 2
}
