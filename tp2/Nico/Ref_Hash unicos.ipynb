{
 "cells": [
  {
   "cell_type": "code",
   "execution_count": 1,
   "metadata": {},
   "outputs": [],
   "source": [
    "import pandas as pd\n",
    "import matplotlib as mp\n",
    "import numpy as np\n",
    "from datetime import timedelta\n",
    "import datetime as dt\n",
    "\n",
    "%matplotlib inline\n",
    "\n",
    "#Root de archivos de datos\n",
    "root_dir = '../data/'"
   ]
  },
  {
   "cell_type": "code",
   "execution_count": 2,
   "metadata": {},
   "outputs": [],
   "source": [
    "#Optimizado para menos memoria\n",
    "auction_dtypes = {\n",
    "    'ref_type_id': np.int64,\n",
    "    'device_id': np.int64,\n",
    "}\n",
    "\n",
    "auctions = pd.read_csv(root_dir + 'auctions.csv.gzip',\n",
    "                       compression = 'gzip',\n",
    "                       dtype = auction_dtypes,\n",
    "                       usecols = list(auction_dtypes.keys()))\n",
    "auctions.rename({'device_id':'ref_hash',\n",
    "                 'ref_type_id':'ref_type'}, inplace=True, axis='columns')"
   ]
  },
  {
   "cell_type": "code",
   "execution_count": 3,
   "metadata": {},
   "outputs": [
    {
     "data": {
      "text/plain": [
       "1    40330743\n",
       "7     7078785\n",
       "Name: ref_type, dtype: int64"
      ]
     },
     "execution_count": 3,
     "metadata": {},
     "output_type": "execute_result"
    }
   ],
   "source": [
    "auctions.ref_type.value_counts()"
   ]
  },
  {
   "cell_type": "code",
   "execution_count": 4,
   "metadata": {},
   "outputs": [],
   "source": [
    "devices = auctions[['ref_type','ref_hash']]"
   ]
  },
  {
   "cell_type": "code",
   "execution_count": 5,
   "metadata": {},
   "outputs": [],
   "source": [
    "installs_dtypes = {\n",
    "    'ref_type': np.int64,\n",
    "    'ref_hash': np.int64, \n",
    "}\n",
    "install_cols = list(installs_dtypes.keys())\n",
    "installs = pd.read_csv(root_dir + 'installs.csv.gzip', \n",
    "                       compression='gzip', \n",
    "                       usecols=install_cols,\n",
    "                       dtype= installs_dtypes)"
   ]
  },
  {
   "cell_type": "code",
   "execution_count": 6,
   "metadata": {},
   "outputs": [
    {
     "data": {
      "text/plain": [
       "1891515180541284343    398906\n",
       "1494519392962156891     82605\n",
       "Name: ref_type, dtype: int64"
      ]
     },
     "execution_count": 6,
     "metadata": {},
     "output_type": "execute_result"
    }
   ],
   "source": [
    "installs.ref_type.value_counts()"
   ]
  },
  {
   "cell_type": "code",
   "execution_count": 9,
   "metadata": {},
   "outputs": [],
   "source": [
    "clicks_dtypes = {\n",
    "    'ref_type':np.int64, \n",
    "    'ref_hash':np.int64\n",
    "}\n",
    "clicks = pd.read_csv(root_dir + 'clicks.csv.gzip', \n",
    "                     compression='gzip', \n",
    "                       usecols=list(clicks_dtypes.keys()),\n",
    "                       dtype= clicks_dtypes)"
   ]
  },
  {
   "cell_type": "code",
   "execution_count": 10,
   "metadata": {},
   "outputs": [],
   "source": [
    "events_dtypes = {\n",
    "    'ref_type': np.int64,\n",
    "    'ref_hash': np.int64\n",
    "}\n",
    "events_cols = list(events_dtypes.keys())\n",
    "events = pd.read_csv(root_dir + 'events.csv.gzip', \n",
    "                     compression='gzip',\n",
    "                     dtype=events_dtypes,\n",
    "                     usecols=events_cols)"
   ]
  },
  {
   "cell_type": "code",
   "execution_count": 11,
   "metadata": {},
   "outputs": [
    {
     "name": "stdout",
     "output_type": "stream",
     "text": [
      "1    398906\n",
      "7     82605\n",
      "Name: ref_type, dtype: int64\n",
      "1    60492\n",
      "7     3804\n",
      "Name: ref_type, dtype: int64\n",
      "1    6421584\n",
      "7    1322997\n",
      "Name: ref_type, dtype: int64\n"
     ]
    }
   ],
   "source": [
    "for x in [installs,clicks,events]:\n",
    "    x.loc[x['ref_type']== 1891515180541284343,'ref_type'] = 1\n",
    "    x.loc[x['ref_type'] == 1494519392962156891,'ref_type'] = 7\n",
    "    print(x['ref_type'].value_counts())\n",
    "    devices = devices.append(x[['ref_type','ref_hash']])\n",
    "devices = devices.drop_duplicates()"
   ]
  },
  {
   "cell_type": "code",
   "execution_count": 16,
   "metadata": {},
   "outputs": [],
   "source": [
    "dev_7 = devices.set_index('ref_type').loc[7,'ref_hash']\n",
    "hash_to_drop = dev_7.loc[dev_7.isin(devices.set_index('ref_type').loc[1,'ref_hash'].unique())].unique()"
   ]
  },
  {
   "cell_type": "code",
   "execution_count": 25,
   "metadata": {},
   "outputs": [],
   "source": [
    "uniques = devices.loc[~devices['ref_hash'].isin(hash_to_drop),'ref_hash']"
   ]
  },
  {
   "cell_type": "code",
   "execution_count": 26,
   "metadata": {},
   "outputs": [],
   "source": [
    "uniques.to_csv(root_dir + 'unique_hashes.csv', header=True,index=False)"
   ]
  }
 ],
 "metadata": {
  "kernelspec": {
   "display_name": "Python 3",
   "language": "python",
   "name": "python3"
  },
  "language_info": {
   "codemirror_mode": {
    "name": "ipython",
    "version": 3
   },
   "file_extension": ".py",
   "mimetype": "text/x-python",
   "name": "python",
   "nbconvert_exporter": "python",
   "pygments_lexer": "ipython3",
   "version": "3.7.0"
  }
 },
 "nbformat": 4,
 "nbformat_minor": 2
}
