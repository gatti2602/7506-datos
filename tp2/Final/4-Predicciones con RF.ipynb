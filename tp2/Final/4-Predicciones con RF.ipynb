{
 "cells": [
  {
   "cell_type": "code",
   "execution_count": 11,
   "metadata": {},
   "outputs": [],
   "source": [
    "import pandas as pd\n",
    "import matplotlib as mp\n",
    "import numpy as np\n",
    "\n",
    "from sklearn.ensemble import RandomForestRegressor\n",
    "from sklearn.metrics import mean_squared_error\n",
    "from sklearn.model_selection import train_test_split\n",
    "import xgboost as xgb\n",
    "\n",
    "%matplotlib inline\n",
    "\n",
    "#Root de archivos de datos\n",
    "root_dir = '../data/'\n",
    "group=['ref_hash','window_nr']"
   ]
  },
  {
   "cell_type": "code",
   "execution_count": null,
   "metadata": {},
   "outputs": [],
   "source": []
  },
  {
   "cell_type": "markdown",
   "metadata": {},
   "source": [
    "---\n",
    "## Read de Features"
   ]
  },
  {
   "cell_type": "code",
   "execution_count": 12,
   "metadata": {},
   "outputs": [],
   "source": [
    "features = pd.read_csv('training_set.csv').set_index(group)"
   ]
  },
  {
   "cell_type": "code",
   "execution_count": 13,
   "metadata": {},
   "outputs": [
    {
     "data": {
      "text/html": [
       "<div>\n",
       "<style scoped>\n",
       "    .dataframe tbody tr th:only-of-type {\n",
       "        vertical-align: middle;\n",
       "    }\n",
       "\n",
       "    .dataframe tbody tr th {\n",
       "        vertical-align: top;\n",
       "    }\n",
       "\n",
       "    .dataframe thead th {\n",
       "        text-align: right;\n",
       "    }\n",
       "</style>\n",
       "<table border=\"1\" class=\"dataframe\">\n",
       "  <thead>\n",
       "    <tr style=\"text-align: right;\">\n",
       "      <th></th>\n",
       "      <th></th>\n",
       "      <th>secs_to_next_mean</th>\n",
       "      <th>secs_since_last_arrival</th>\n",
       "      <th>auctions_total</th>\n",
       "      <th>auctions_last_hour</th>\n",
       "      <th>amount_auctions_in_weekend</th>\n",
       "      <th>is_last_weekend</th>\n",
       "      <th>amount_dif_src</th>\n",
       "      <th>amount_events</th>\n",
       "      <th>secs_since_last_event</th>\n",
       "      <th>wifi</th>\n",
       "      <th>timeToClick_mean</th>\n",
       "      <th>amount_dif_advertisers</th>\n",
       "    </tr>\n",
       "    <tr>\n",
       "      <th>ref_hash</th>\n",
       "      <th>window_nr</th>\n",
       "      <th></th>\n",
       "      <th></th>\n",
       "      <th></th>\n",
       "      <th></th>\n",
       "      <th></th>\n",
       "      <th></th>\n",
       "      <th></th>\n",
       "      <th></th>\n",
       "      <th></th>\n",
       "      <th></th>\n",
       "      <th></th>\n",
       "      <th></th>\n",
       "    </tr>\n",
       "  </thead>\n",
       "  <tbody>\n",
       "    <tr>\n",
       "      <th>2564673204772915246</th>\n",
       "      <th>1</th>\n",
       "      <td>765.0</td>\n",
       "      <td>88625.0</td>\n",
       "      <td>216.0</td>\n",
       "      <td>0.0</td>\n",
       "      <td>0.0</td>\n",
       "      <td>False</td>\n",
       "      <td>3.0</td>\n",
       "      <td>0.0</td>\n",
       "      <td>0.0</td>\n",
       "      <td>False</td>\n",
       "      <td>197.830534</td>\n",
       "      <td>0.0</td>\n",
       "    </tr>\n",
       "    <tr>\n",
       "      <th>4441121667607578179</th>\n",
       "      <th>1</th>\n",
       "      <td>111.0</td>\n",
       "      <td>29052.0</td>\n",
       "      <td>1188.0</td>\n",
       "      <td>0.0</td>\n",
       "      <td>640.0</td>\n",
       "      <td>True</td>\n",
       "      <td>5.0</td>\n",
       "      <td>0.0</td>\n",
       "      <td>0.0</td>\n",
       "      <td>False</td>\n",
       "      <td>197.830534</td>\n",
       "      <td>0.0</td>\n",
       "    </tr>\n",
       "    <tr>\n",
       "      <th>7721769811471055264</th>\n",
       "      <th>1</th>\n",
       "      <td>281.0</td>\n",
       "      <td>333.0</td>\n",
       "      <td>908.0</td>\n",
       "      <td>23.0</td>\n",
       "      <td>218.0</td>\n",
       "      <td>True</td>\n",
       "      <td>3.0</td>\n",
       "      <td>99.0</td>\n",
       "      <td>196475.0</td>\n",
       "      <td>False</td>\n",
       "      <td>197.830534</td>\n",
       "      <td>0.0</td>\n",
       "    </tr>\n",
       "    <tr>\n",
       "      <th>1258642015983312729</th>\n",
       "      <th>1</th>\n",
       "      <td>8365.0</td>\n",
       "      <td>121224.0</td>\n",
       "      <td>12.0</td>\n",
       "      <td>0.0</td>\n",
       "      <td>0.0</td>\n",
       "      <td>False</td>\n",
       "      <td>1.0</td>\n",
       "      <td>0.0</td>\n",
       "      <td>0.0</td>\n",
       "      <td>False</td>\n",
       "      <td>197.830534</td>\n",
       "      <td>0.0</td>\n",
       "    </tr>\n",
       "    <tr>\n",
       "      <th>6707090658317158573</th>\n",
       "      <th>1</th>\n",
       "      <td>453.0</td>\n",
       "      <td>4.0</td>\n",
       "      <td>516.0</td>\n",
       "      <td>35.0</td>\n",
       "      <td>171.0</td>\n",
       "      <td>True</td>\n",
       "      <td>4.0</td>\n",
       "      <td>0.0</td>\n",
       "      <td>0.0</td>\n",
       "      <td>False</td>\n",
       "      <td>197.830534</td>\n",
       "      <td>0.0</td>\n",
       "    </tr>\n",
       "  </tbody>\n",
       "</table>\n",
       "</div>"
      ],
      "text/plain": [
       "                               secs_to_next_mean  secs_since_last_arrival  \\\n",
       "ref_hash            window_nr                                               \n",
       "2564673204772915246 1                      765.0                  88625.0   \n",
       "4441121667607578179 1                      111.0                  29052.0   \n",
       "7721769811471055264 1                      281.0                    333.0   \n",
       "1258642015983312729 1                     8365.0                 121224.0   \n",
       "6707090658317158573 1                      453.0                      4.0   \n",
       "\n",
       "                               auctions_total  auctions_last_hour  \\\n",
       "ref_hash            window_nr                                       \n",
       "2564673204772915246 1                   216.0                 0.0   \n",
       "4441121667607578179 1                  1188.0                 0.0   \n",
       "7721769811471055264 1                   908.0                23.0   \n",
       "1258642015983312729 1                    12.0                 0.0   \n",
       "6707090658317158573 1                   516.0                35.0   \n",
       "\n",
       "                               amount_auctions_in_weekend  is_last_weekend  \\\n",
       "ref_hash            window_nr                                                \n",
       "2564673204772915246 1                                 0.0            False   \n",
       "4441121667607578179 1                               640.0             True   \n",
       "7721769811471055264 1                               218.0             True   \n",
       "1258642015983312729 1                                 0.0            False   \n",
       "6707090658317158573 1                               171.0             True   \n",
       "\n",
       "                               amount_dif_src  amount_events  \\\n",
       "ref_hash            window_nr                                  \n",
       "2564673204772915246 1                     3.0            0.0   \n",
       "4441121667607578179 1                     5.0            0.0   \n",
       "7721769811471055264 1                     3.0           99.0   \n",
       "1258642015983312729 1                     1.0            0.0   \n",
       "6707090658317158573 1                     4.0            0.0   \n",
       "\n",
       "                               secs_since_last_event   wifi  timeToClick_mean  \\\n",
       "ref_hash            window_nr                                                   \n",
       "2564673204772915246 1                            0.0  False        197.830534   \n",
       "4441121667607578179 1                            0.0  False        197.830534   \n",
       "7721769811471055264 1                       196475.0  False        197.830534   \n",
       "1258642015983312729 1                            0.0  False        197.830534   \n",
       "6707090658317158573 1                            0.0  False        197.830534   \n",
       "\n",
       "                               amount_dif_advertisers  \n",
       "ref_hash            window_nr                          \n",
       "2564673204772915246 1                             0.0  \n",
       "4441121667607578179 1                             0.0  \n",
       "7721769811471055264 1                             0.0  \n",
       "1258642015983312729 1                             0.0  \n",
       "6707090658317158573 1                             0.0  "
      ]
     },
     "execution_count": 13,
     "metadata": {},
     "output_type": "execute_result"
    }
   ],
   "source": [
    "features.head()"
   ]
  },
  {
   "cell_type": "code",
   "execution_count": 14,
   "metadata": {},
   "outputs": [],
   "source": [
    "targets = pd.read_csv('targets.csv').set_index(group)"
   ]
  },
  {
   "cell_type": "code",
   "execution_count": 15,
   "metadata": {},
   "outputs": [
    {
     "data": {
      "text/plain": [
       "target_st    0\n",
       "target_sc    0\n",
       "dtype: int64"
      ]
     },
     "execution_count": 15,
     "metadata": {},
     "output_type": "execute_result"
    }
   ],
   "source": [
    "targets.isnull().sum()"
   ]
  },
  {
   "cell_type": "code",
   "execution_count": 16,
   "metadata": {},
   "outputs": [],
   "source": [
    "training_set = features.merge(targets, how='inner', left_index=True,right_index=True)"
   ]
  },
  {
   "cell_type": "code",
   "execution_count": 17,
   "metadata": {},
   "outputs": [
    {
     "data": {
      "text/html": [
       "<div>\n",
       "<style scoped>\n",
       "    .dataframe tbody tr th:only-of-type {\n",
       "        vertical-align: middle;\n",
       "    }\n",
       "\n",
       "    .dataframe tbody tr th {\n",
       "        vertical-align: top;\n",
       "    }\n",
       "\n",
       "    .dataframe thead th {\n",
       "        text-align: right;\n",
       "    }\n",
       "</style>\n",
       "<table border=\"1\" class=\"dataframe\">\n",
       "  <thead>\n",
       "    <tr style=\"text-align: right;\">\n",
       "      <th></th>\n",
       "      <th></th>\n",
       "      <th>secs_to_next_mean</th>\n",
       "      <th>secs_since_last_arrival</th>\n",
       "      <th>auctions_total</th>\n",
       "      <th>auctions_last_hour</th>\n",
       "      <th>amount_auctions_in_weekend</th>\n",
       "      <th>is_last_weekend</th>\n",
       "      <th>amount_dif_src</th>\n",
       "      <th>amount_events</th>\n",
       "      <th>secs_since_last_event</th>\n",
       "      <th>wifi</th>\n",
       "      <th>timeToClick_mean</th>\n",
       "      <th>amount_dif_advertisers</th>\n",
       "      <th>target_st</th>\n",
       "      <th>target_sc</th>\n",
       "    </tr>\n",
       "    <tr>\n",
       "      <th>ref_hash</th>\n",
       "      <th>window_nr</th>\n",
       "      <th></th>\n",
       "      <th></th>\n",
       "      <th></th>\n",
       "      <th></th>\n",
       "      <th></th>\n",
       "      <th></th>\n",
       "      <th></th>\n",
       "      <th></th>\n",
       "      <th></th>\n",
       "      <th></th>\n",
       "      <th></th>\n",
       "      <th></th>\n",
       "      <th></th>\n",
       "      <th></th>\n",
       "    </tr>\n",
       "  </thead>\n",
       "  <tbody>\n",
       "    <tr>\n",
       "      <th>4881735474151208235</th>\n",
       "      <th>1</th>\n",
       "      <td>8032.629065</td>\n",
       "      <td>0.0</td>\n",
       "      <td>0.0</td>\n",
       "      <td>0.0</td>\n",
       "      <td>0.0</td>\n",
       "      <td>False</td>\n",
       "      <td>0.0</td>\n",
       "      <td>2.0</td>\n",
       "      <td>23418.0</td>\n",
       "      <td>False</td>\n",
       "      <td>197.830534</td>\n",
       "      <td>0.0</td>\n",
       "      <td>259200.0</td>\n",
       "      <td>259200.0</td>\n",
       "    </tr>\n",
       "    <tr>\n",
       "      <th>4679881814211948892</th>\n",
       "      <th>1</th>\n",
       "      <td>45.000000</td>\n",
       "      <td>156639.0</td>\n",
       "      <td>5.0</td>\n",
       "      <td>0.0</td>\n",
       "      <td>0.0</td>\n",
       "      <td>False</td>\n",
       "      <td>2.0</td>\n",
       "      <td>0.0</td>\n",
       "      <td>0.0</td>\n",
       "      <td>False</td>\n",
       "      <td>25.335000</td>\n",
       "      <td>1.0</td>\n",
       "      <td>63602.0</td>\n",
       "      <td>259200.0</td>\n",
       "    </tr>\n",
       "    <tr>\n",
       "      <th>4177895333092974918</th>\n",
       "      <th>1</th>\n",
       "      <td>3990.000000</td>\n",
       "      <td>119428.0</td>\n",
       "      <td>15.0</td>\n",
       "      <td>0.0</td>\n",
       "      <td>0.0</td>\n",
       "      <td>False</td>\n",
       "      <td>2.0</td>\n",
       "      <td>0.0</td>\n",
       "      <td>0.0</td>\n",
       "      <td>False</td>\n",
       "      <td>197.830534</td>\n",
       "      <td>0.0</td>\n",
       "      <td>259200.0</td>\n",
       "      <td>259200.0</td>\n",
       "    </tr>\n",
       "    <tr>\n",
       "      <th>4312326900897087220</th>\n",
       "      <th>1</th>\n",
       "      <td>4703.000000</td>\n",
       "      <td>10305.0</td>\n",
       "      <td>53.0</td>\n",
       "      <td>0.0</td>\n",
       "      <td>22.0</td>\n",
       "      <td>True</td>\n",
       "      <td>4.0</td>\n",
       "      <td>0.0</td>\n",
       "      <td>0.0</td>\n",
       "      <td>False</td>\n",
       "      <td>197.830534</td>\n",
       "      <td>0.0</td>\n",
       "      <td>8056.0</td>\n",
       "      <td>259200.0</td>\n",
       "    </tr>\n",
       "    <tr>\n",
       "      <th>4911541169216784265</th>\n",
       "      <th>2</th>\n",
       "      <td>7893.726152</td>\n",
       "      <td>0.0</td>\n",
       "      <td>0.0</td>\n",
       "      <td>0.0</td>\n",
       "      <td>0.0</td>\n",
       "      <td>False</td>\n",
       "      <td>0.0</td>\n",
       "      <td>14.0</td>\n",
       "      <td>69048.0</td>\n",
       "      <td>False</td>\n",
       "      <td>186.101670</td>\n",
       "      <td>0.0</td>\n",
       "      <td>259200.0</td>\n",
       "      <td>259200.0</td>\n",
       "    </tr>\n",
       "  </tbody>\n",
       "</table>\n",
       "</div>"
      ],
      "text/plain": [
       "                               secs_to_next_mean  secs_since_last_arrival  \\\n",
       "ref_hash            window_nr                                               \n",
       "4881735474151208235 1                8032.629065                      0.0   \n",
       "4679881814211948892 1                  45.000000                 156639.0   \n",
       "4177895333092974918 1                3990.000000                 119428.0   \n",
       "4312326900897087220 1                4703.000000                  10305.0   \n",
       "4911541169216784265 2                7893.726152                      0.0   \n",
       "\n",
       "                               auctions_total  auctions_last_hour  \\\n",
       "ref_hash            window_nr                                       \n",
       "4881735474151208235 1                     0.0                 0.0   \n",
       "4679881814211948892 1                     5.0                 0.0   \n",
       "4177895333092974918 1                    15.0                 0.0   \n",
       "4312326900897087220 1                    53.0                 0.0   \n",
       "4911541169216784265 2                     0.0                 0.0   \n",
       "\n",
       "                               amount_auctions_in_weekend  is_last_weekend  \\\n",
       "ref_hash            window_nr                                                \n",
       "4881735474151208235 1                                 0.0            False   \n",
       "4679881814211948892 1                                 0.0            False   \n",
       "4177895333092974918 1                                 0.0            False   \n",
       "4312326900897087220 1                                22.0             True   \n",
       "4911541169216784265 2                                 0.0            False   \n",
       "\n",
       "                               amount_dif_src  amount_events  \\\n",
       "ref_hash            window_nr                                  \n",
       "4881735474151208235 1                     0.0            2.0   \n",
       "4679881814211948892 1                     2.0            0.0   \n",
       "4177895333092974918 1                     2.0            0.0   \n",
       "4312326900897087220 1                     4.0            0.0   \n",
       "4911541169216784265 2                     0.0           14.0   \n",
       "\n",
       "                               secs_since_last_event   wifi  timeToClick_mean  \\\n",
       "ref_hash            window_nr                                                   \n",
       "4881735474151208235 1                        23418.0  False        197.830534   \n",
       "4679881814211948892 1                            0.0  False         25.335000   \n",
       "4177895333092974918 1                            0.0  False        197.830534   \n",
       "4312326900897087220 1                            0.0  False        197.830534   \n",
       "4911541169216784265 2                        69048.0  False        186.101670   \n",
       "\n",
       "                               amount_dif_advertisers  target_st  target_sc  \n",
       "ref_hash            window_nr                                                \n",
       "4881735474151208235 1                             0.0   259200.0   259200.0  \n",
       "4679881814211948892 1                             1.0    63602.0   259200.0  \n",
       "4177895333092974918 1                             0.0   259200.0   259200.0  \n",
       "4312326900897087220 1                             0.0     8056.0   259200.0  \n",
       "4911541169216784265 2                             0.0   259200.0   259200.0  "
      ]
     },
     "execution_count": 17,
     "metadata": {},
     "output_type": "execute_result"
    }
   ],
   "source": [
    "training_set.head()"
   ]
  },
  {
   "cell_type": "code",
   "execution_count": 18,
   "metadata": {},
   "outputs": [],
   "source": [
    "x_st = training_set[[x for x in training_set.columns if x not in targets.columns]]\n",
    "y_st = training_set['target_st']\n",
    "\n",
    "x_sc = training_set[[x for x in training_set.columns if x not in targets.columns]]\n",
    "y_sc = training_set['target_sc']"
   ]
  },
  {
   "cell_type": "markdown",
   "metadata": {},
   "source": [
    "---\n",
    "## Training "
   ]
  },
  {
   "cell_type": "code",
   "execution_count": 19,
   "metadata": {},
   "outputs": [],
   "source": [
    "xtrain_st, xtest_st, ytrain_st, ytest_st = train_test_split(x_st, y_sc, train_size=0.7)\n",
    "xtrain_sc, xtest_sc, ytrain_sc, ytest_sc = train_test_split(x_sc, y_sc, train_size=0.7)"
   ]
  },
  {
   "cell_type": "code",
   "execution_count": 20,
   "metadata": {},
   "outputs": [
    {
     "data": {
      "text/plain": [
       "RandomForestRegressor(bootstrap=True, criterion='mse', max_depth=None,\n",
       "                      max_features='auto', max_leaf_nodes=None,\n",
       "                      min_impurity_decrease=0.0, min_impurity_split=None,\n",
       "                      min_samples_leaf=1, min_samples_split=2,\n",
       "                      min_weight_fraction_leaf=0.0, n_estimators=20, n_jobs=-1,\n",
       "                      oob_score=False, random_state=0, verbose=0,\n",
       "                      warm_start=False)"
      ]
     },
     "execution_count": 20,
     "metadata": {},
     "output_type": "execute_result"
    }
   ],
   "source": [
    "model_st = RandomForestRegressor(random_state=0, n_estimators=20, n_jobs=-1)\n",
    "model_sc = RandomForestRegressor(random_state=0, n_estimators=20, n_jobs=-1)\n",
    "\n",
    "model_st.fit(xtrain_st, ytrain_st)\n",
    "model_sc.fit(xtrain_sc, ytrain_sc)"
   ]
  },
  {
   "cell_type": "code",
   "execution_count": 21,
   "metadata": {},
   "outputs": [
    {
     "name": "stdout",
     "output_type": "stream",
     "text": [
      "Error St.: 2881492692.2741113\n",
      "Error Sc.: 2875116068.968186\n"
     ]
    }
   ],
   "source": [
    "# 1. Solo Features Nico: \n",
    "#    Error St.: 3568912651.823991\n",
    "#    Error Sc.: 3593870054.4797\n",
    "    \n",
    "ypred_st = model_st.predict(xtest_st)\n",
    "print(\"Error St.:\", mean_squared_error(ypred_st,ytest_st))\n",
    "\n",
    "ypred_sc = model_sc.predict(xtest_sc)\n",
    "print(\"Error Sc.:\", mean_squared_error(ypred_sc,ytest_sc))"
   ]
  },
  {
   "cell_type": "code",
   "execution_count": 22,
   "metadata": {},
   "outputs": [
    {
     "data": {
      "text/plain": [
       "array([0.23180716, 0.2492613 , 0.10554769, 0.01201559, 0.07115562,\n",
       "       0.00531138, 0.04751844, 0.03711925, 0.2151725 , 0.00615583,\n",
       "       0.01726011, 0.00167514])"
      ]
     },
     "execution_count": 22,
     "metadata": {},
     "output_type": "execute_result"
    }
   ],
   "source": [
    "model_st.feature_importances_"
   ]
  },
  {
   "cell_type": "code",
   "execution_count": 23,
   "metadata": {},
   "outputs": [
    {
     "data": {
      "text/plain": [
       "array([0.230021  , 0.24960007, 0.10581098, 0.01170499, 0.07205876,\n",
       "       0.00491372, 0.04788891, 0.03361869, 0.21943009, 0.00694882,\n",
       "       0.01618829, 0.00181567])"
      ]
     },
     "execution_count": 23,
     "metadata": {},
     "output_type": "execute_result"
    }
   ],
   "source": [
    "model_sc.feature_importances_"
   ]
  },
  {
   "cell_type": "markdown",
   "metadata": {},
   "source": [
    "---\n",
    "## Prediccion"
   ]
  },
  {
   "cell_type": "code",
   "execution_count": 24,
   "metadata": {},
   "outputs": [
    {
     "data": {
      "text/html": [
       "<div>\n",
       "<style scoped>\n",
       "    .dataframe tbody tr th:only-of-type {\n",
       "        vertical-align: middle;\n",
       "    }\n",
       "\n",
       "    .dataframe tbody tr th {\n",
       "        vertical-align: top;\n",
       "    }\n",
       "\n",
       "    .dataframe thead th {\n",
       "        text-align: right;\n",
       "    }\n",
       "</style>\n",
       "<table border=\"1\" class=\"dataframe\">\n",
       "  <thead>\n",
       "    <tr style=\"text-align: right;\">\n",
       "      <th></th>\n",
       "      <th>ref_hash</th>\n",
       "    </tr>\n",
       "  </thead>\n",
       "  <tbody>\n",
       "    <tr>\n",
       "      <th>0</th>\n",
       "      <td>1000169251625791246_sc</td>\n",
       "    </tr>\n",
       "    <tr>\n",
       "      <th>1</th>\n",
       "      <td>1000169251625791246_st</td>\n",
       "    </tr>\n",
       "    <tr>\n",
       "      <th>2</th>\n",
       "      <td>1000395625957344683_sc</td>\n",
       "    </tr>\n",
       "    <tr>\n",
       "      <th>3</th>\n",
       "      <td>1000395625957344683_st</td>\n",
       "    </tr>\n",
       "    <tr>\n",
       "      <th>4</th>\n",
       "      <td>1003027494996471685_sc</td>\n",
       "    </tr>\n",
       "  </tbody>\n",
       "</table>\n",
       "</div>"
      ],
      "text/plain": [
       "                 ref_hash\n",
       "0  1000169251625791246_sc\n",
       "1  1000169251625791246_st\n",
       "2  1000395625957344683_sc\n",
       "3  1000395625957344683_st\n",
       "4  1003027494996471685_sc"
      ]
     },
     "execution_count": 24,
     "metadata": {},
     "output_type": "execute_result"
    }
   ],
   "source": [
    "# Labels a submitir con las predicciones\n",
    "\n",
    "to_predict = pd.read_csv(root_dir + 'target_competencia_ids.csv',usecols=['ref_hash'])\n",
    "to_predict.head()"
   ]
  },
  {
   "cell_type": "code",
   "execution_count": 25,
   "metadata": {},
   "outputs": [],
   "source": [
    "X = features.reset_index()\n",
    "X = X.loc[X['window_nr'] == 3].set_index(group)"
   ]
  },
  {
   "cell_type": "code",
   "execution_count": 26,
   "metadata": {},
   "outputs": [],
   "source": [
    "y_st = model_st.predict(X)\n",
    "y_sc = model_sc.predict(X)"
   ]
  },
  {
   "cell_type": "code",
   "execution_count": 27,
   "metadata": {},
   "outputs": [],
   "source": [
    "results_st = X.reset_index()['ref_hash'].transform(lambda x: str(x) + '_st').rename('ref_hash').to_frame()\n",
    "results_st['obj'] = y_st\n",
    "\n",
    "results_sc = X.reset_index()['ref_hash'].transform(lambda x: str(x) + '_sc').rename('ref_hash').to_frame()\n",
    "results_sc['obj'] = y_sc\n",
    "\n",
    "results = results_st.append(results_sc)"
   ]
  },
  {
   "cell_type": "code",
   "execution_count": 28,
   "metadata": {},
   "outputs": [],
   "source": [
    "#Armado de File Final\n",
    "max_secs = 3*24*60*60\n",
    "to_predict.merge(results, on='ref_hash', how='left').fillna(max_secs).to_csv('predictions_rf.csv', header=True, index=False)"
   ]
  },
  {
   "cell_type": "code",
   "execution_count": 29,
   "metadata": {},
   "outputs": [
    {
     "data": {
      "text/plain": [
       "ref_hash    8074\n",
       "dtype: int64"
      ]
     },
     "execution_count": 29,
     "metadata": {},
     "output_type": "execute_result"
    }
   ],
   "source": [
    "to_predict.count()"
   ]
  }
 ],
 "metadata": {
  "kernelspec": {
   "display_name": "Python 3",
   "language": "python",
   "name": "python3"
  },
  "language_info": {
   "codemirror_mode": {
    "name": "ipython",
    "version": 3
   },
   "file_extension": ".py",
   "mimetype": "text/x-python",
   "name": "python",
   "nbconvert_exporter": "python",
   "pygments_lexer": "ipython3",
   "version": "3.6.7"
  }
 },
 "nbformat": 4,
 "nbformat_minor": 2
}
