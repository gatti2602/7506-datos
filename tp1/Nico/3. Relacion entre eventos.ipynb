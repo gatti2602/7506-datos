{
 "cells": [
  {
   "cell_type": "code",
   "execution_count": 4,
   "metadata": {},
   "outputs": [
    {
     "ename": "ModuleNotFoundError",
     "evalue": "No module named 'seaborn'",
     "output_type": "error",
     "traceback": [
      "\u001b[0;31m---------------------------------------\u001b[0m",
      "\u001b[0;31mModuleNotFoundError\u001b[0mTraceback (most recent call last)",
      "\u001b[0;32m<ipython-input-4-896cedf5675d>\u001b[0m in \u001b[0;36m<module>\u001b[0;34m\u001b[0m\n\u001b[1;32m      2\u001b[0m \u001b[0;32mimport\u001b[0m \u001b[0mnumpy\u001b[0m \u001b[0;32mas\u001b[0m \u001b[0mnp\u001b[0m\u001b[0;34m\u001b[0m\u001b[0;34m\u001b[0m\u001b[0m\n\u001b[1;32m      3\u001b[0m \u001b[0;32mimport\u001b[0m \u001b[0mmatplotlib\u001b[0m \u001b[0;32mas\u001b[0m \u001b[0mmp\u001b[0m\u001b[0;34m\u001b[0m\u001b[0;34m\u001b[0m\u001b[0m\n\u001b[0;32m----> 4\u001b[0;31m \u001b[0;32mimport\u001b[0m \u001b[0mseaborn\u001b[0m \u001b[0;32mas\u001b[0m \u001b[0msns\u001b[0m\u001b[0;34m\u001b[0m\u001b[0;34m\u001b[0m\u001b[0m\n\u001b[0m",
      "\u001b[0;31mModuleNotFoundError\u001b[0m: No module named 'seaborn'"
     ]
    }
   ],
   "source": [
    "import pandas as pd\n",
    "import numpy as np\n",
    "import matplotlib as mp\n",
    "import seaborn as sns"
   ]
  },
  {
   "cell_type": "code",
   "execution_count": null,
   "metadata": {},
   "outputs": [],
   "source": [
    "events = pd.read_csv('../data/events.csv.gzip', compression='gzip',\\\n",
    "                     parse_dates=['date'],\\\n",
    "                     dtype={'event_id':'object',\\\n",
    "                            'application_id':'category',\\\n",
    "                            'ref_type':'int64',\\\n",
    "                            'ref_hash':'int64',\\\n",
    "                            'attributed':'bool',\\\n",
    "                            'device_countrycode':'category',\\\n",
    "                            'device_os_version':'category',\\\n",
    "                            'device_brand':'category',\\\n",
    "                            'device_model':'category',\\\n",
    "                            'device_city':'category',\\\n",
    "                            'carrier':'category',\\\n",
    "                            'event_uuid':'object',\\\n",
    "                            'device_os':'category',\\\n",
    "                            'wifi':'bool',\\\n",
    "                            'connection_type':'category'\\\n",
    "                           })"
   ]
  },
  {
   "cell_type": "code",
   "execution_count": null,
   "metadata": {},
   "outputs": [],
   "source": [
    "events.describe(include='all').transpose()"
   ]
  },
  {
   "cell_type": "markdown",
   "metadata": {},
   "source": [
    "**device_country_code** es unico por lo que no aporta informacion para segmentar los datos.\n",
    "**event_uuid** es clave unica para cada registro"
   ]
  },
  {
   "cell_type": "code",
   "execution_count": null,
   "metadata": {},
   "outputs": [],
   "source": [
    "events.shape"
   ]
  },
  {
   "cell_type": "code",
   "execution_count": 3,
   "metadata": {},
   "outputs": [
    {
     "ename": "NameError",
     "evalue": "name 'events' is not defined",
     "output_type": "error",
     "traceback": [
      "\u001b[0;31m---------------------------------------\u001b[0m",
      "\u001b[0;31mNameError\u001b[0mTraceback (most recent call last)",
      "\u001b[0;32m<ipython-input-3-1d56f411d9c8>\u001b[0m in \u001b[0;36m<module>\u001b[0;34m\u001b[0m\n\u001b[0;32m----> 1\u001b[0;31m \u001b[0mevents\u001b[0m\u001b[0;34m.\u001b[0m\u001b[0minfo\u001b[0m\u001b[0;34m(\u001b[0m\u001b[0;34m)\u001b[0m\u001b[0;34m\u001b[0m\u001b[0;34m\u001b[0m\u001b[0m\n\u001b[0m",
      "\u001b[0;31mNameError\u001b[0m: name 'events' is not defined"
     ]
    }
   ],
   "source": [
    "events.info()"
   ]
  },
  {
   "cell_type": "code",
   "execution_count": null,
   "metadata": {},
   "outputs": [],
   "source": [
    "events.sort_values(by=['ref_hash','application_id','date'], inplace=True)"
   ]
  },
  {
   "cell_type": "code",
   "execution_count": null,
   "metadata": {},
   "outputs": [],
   "source": [
    "events['next_date'] = events.groupby(['ref_hash','application_id'], as_index = False, sort=False)['date']\\\n",
    "                                              .transform(lambda x: x.shift(-1))"
   ]
  },
  {
   "cell_type": "code",
   "execution_count": null,
   "metadata": {},
   "outputs": [],
   "source": [
    "events['next_event'] = events.groupby(['ref_hash','application_id'], as_index = False, sort=False)['event_id']\\\n",
    "                                              .transform(lambda x: x.shift(-1))"
   ]
  },
  {
   "cell_type": "code",
   "execution_count": null,
   "metadata": {},
   "outputs": [],
   "source": [
    "events['next_event_2'] = events.groupby(['ref_hash','application_id'], as_index = False, sort=False)['event_id']\\\n",
    "                                              .transform(lambda x: x.shift(-2))"
   ]
  },
  {
   "cell_type": "code",
   "execution_count": null,
   "metadata": {},
   "outputs": [],
   "source": [
    "events = events.loc[(~events['next_date'].isnull())]\n",
    "events['secs_to_next'] = (events['next_date'] - events['date'])\\\n",
    "                                        .transform(lambda x: round(x.total_seconds(), 2))\n",
    "events['hour'] = events['date'].dt.hour\n",
    "events['is_weekend'] = events['date'].dt.weekday >= 5"
   ]
  },
  {
   "cell_type": "markdown",
   "metadata": {},
   "source": [
    "## Tiempo entre eventos"
   ]
  },
  {
   "cell_type": "code",
   "execution_count": null,
   "metadata": {},
   "outputs": [],
   "source": [
    "plt = events['secs_to_next'].loc[((events['secs_to_next'] < (10)) & (events['secs_to_next'] > 0))].hist(bins=200, density=True)\n",
    "plt.set_title(\"Tiempo entre eventos\")\n",
    "plt.set_xlabel(\"Tiempo (Seg.)\")"
   ]
  },
  {
   "cell_type": "markdown",
   "metadata": {},
   "source": [
    "Se pueden ver dos picos, el primero ocurre muy cerca del 0, por lo que parece que se debe a dos eventos que ocurren en paralelo. \n",
    "Lo interesante es que practicamente todos los eventos ocurren en intervalos de no mas de 3 segundos. Tomamos 5 segundos como intervalo para no considerar que los eventos estan relacionado con el evento siguiente"
   ]
  },
  {
   "cell_type": "markdown",
   "metadata": {},
   "source": [
    "## Cual es la secuencia de eventos mas comun? \n",
    "\n",
    "Para este analisis se separan las secuencias de eventos diferentes, y se cuentan las secuencias. \n",
    "\n",
    "Consideraciones: \n",
    "* Si se demora mas de 5 segundos entre eventos se los considera no relacionados.\n",
    "* Solo se consideran secuencias de eventos distintos, si el usuario realiza el mismo evento varias veces no se tiene en cuenta"
   ]
  },
  {
   "cell_type": "code",
   "execution_count": null,
   "metadata": {},
   "outputs": [],
   "source": [
    "events['n'] = 1\n",
    "e_list = events.loc[((events['secs_to_next'] < 5) & (events['event_id'] != events['next_event']))]"
   ]
  },
  {
   "cell_type": "code",
   "execution_count": null,
   "metadata": {},
   "outputs": [],
   "source": [
    "cant_sec = e_list.groupby(['event_id','next_event'], as_index=False)['n'].sum().dropna()"
   ]
  },
  {
   "cell_type": "code",
   "execution_count": null,
   "metadata": {},
   "outputs": [],
   "source": [
    "plt = cant_sec.sort_values(by='n',ascending=False).head(20).set_index(['event_id','next_event'])['n'].plot.bar()\n",
    "plt.set_title('Par de eventos mas comunes')\n",
    "plt.set_xlabel('Secuencia de 2 eventos')"
   ]
  },
  {
   "cell_type": "markdown",
   "metadata": {},
   "source": [
    "Si considero que luego de 5 segundos sin interaccion, se dejo de usar la aplicacion, llamo a este evento \"Fin\":"
   ]
  },
  {
   "cell_type": "code",
   "execution_count": null,
   "metadata": {},
   "outputs": [],
   "source": [
    "events['next_event_cfin'] = events['next_event']\n",
    "events.loc[(events['secs_to_next'] > 5), 'next_event_cfin'] = 'Fin'"
   ]
  },
  {
   "cell_type": "code",
   "execution_count": null,
   "metadata": {},
   "outputs": [],
   "source": [
    "plt = events.groupby(['event_id','next_event_cfin'], as_index=False)['n'].sum().dropna().sort_values(by='n',ascending=False).head(20).set_index(['event_id','next_event_cfin'])['n'].plot.bar()\n",
    "plt.set_title('Par de eventos mas comunes, con fin de uso')\n",
    "plt.set_xlabel('Secuencia de 2 eventos')"
   ]
  },
  {
   "cell_type": "markdown",
   "metadata": {},
   "source": [
    "### Secuencia de 3 eventos:"
   ]
  },
  {
   "cell_type": "code",
   "execution_count": null,
   "metadata": {},
   "outputs": [],
   "source": [
    "e_list = events.loc[((events['secs_to_next'] < 5) & (events['event_id'] != events['next_event']) & (events['next_event'] != events['next_event_2']))]\n",
    "cant_sec = e_list.groupby(['event_id','next_event','next_event_2'], as_index=False)['n'].sum().dropna()\n",
    "plt = cant_sec.sort_values(by='n',ascending=False).head(20).set_index(['event_id','next_event','next_event_2'])['n'].plot.bar()\n",
    "plt.set_title('Terna de eventos mas comunes')\n",
    "plt.set_xlabel('Secuencia de 3 eventos')"
   ]
  }
 ],
 "metadata": {
  "kernelspec": {
   "display_name": "Python 2",
   "language": "python",
   "name": "python2"
  },
  "language_info": {
   "codemirror_mode": {
    "name": "ipython",
    "version": 3
   },
   "file_extension": ".py",
   "mimetype": "text/x-python",
   "name": "python",
   "nbconvert_exporter": "python",
   "pygments_lexer": "ipython3",
   "version": "3.6.7"
  }
 },
 "nbformat": 4,
 "nbformat_minor": 2
}
