{
 "cells": [
  {
   "cell_type": "code",
   "execution_count": 2,
   "metadata": {
    "collapsed": true
   },
   "outputs": [],
   "source": [
    "# magic function para hacer que los graficos de matplotlib se renderizen en el notebook.\n",
    "#%matplotlib notebook\n",
    "%matplotlib inline\n",
    "\n",
    "import datetime as datetime\n",
    "import pandas as pd\n",
    "import numpy as np\n",
    "import matplotlib.pyplot as plt"
   ]
  },
  {
   "cell_type": "code",
   "execution_count": 2,
   "metadata": {
    "collapsed": true
   },
   "outputs": [],
   "source": [
    "# Glosario\n",
    "# * Convertir: el objetivo de mostrar publicidad es que un dispositivo instale una aplicación.\n",
    "# A ese evento se le llama conversión.\n",
    "# * Dispositivo: entidad con un id de publicidad asociado. Por ejemplo: un celular Samsung\n",
    "# J6 con Android tiene un id único, un Apple iPhone tiene un identificador único.\n",
    "# * Evento: cualquier tipo de acción categorizada dentro de una aplicación. Por ejemplo, en\n",
    "# una aplicación de e-commerce un funnel de eventos muy común puede ser del estilo\n",
    "# “abrir_app” → “buscar_producto” → “revisar_catalogo” → “agregar_a_carrito” →\n",
    "# “efectuar_compra”. Cada uno de estos pasos es un evento.\n",
    "# * Subasta: en el momento que una aplicación quiere mostrar una publicidad, ese espacio\n",
    "# se vende en una subasta (generalmente de segundo precio) donde todos los\n",
    "# interesados en mostrar una publicidad ofertan un precio y gana quién más ofrece.\n",
    "\n",
    "#funnel de eventos: secuencia de eventos"
   ]
  },
  {
   "cell_type": "markdown",
   "metadata": {},
   "source": [
    "## Auctions\n"
   ]
  },
  {
   "cell_type": "code",
   "execution_count": 19,
   "metadata": {
    "collapsed": true
   },
   "outputs": [],
   "source": [
    "auctions = pd.read_csv('../data2/auctions.csv.gzip',compression='gzip', dtype='object')"
   ]
  },
  {
   "cell_type": "code",
   "execution_count": 20,
   "metadata": {},
   "outputs": [
    {
     "name": "stdout",
     "output_type": "stream",
     "text": [
      "<class 'pandas.core.frame.DataFrame'>\n",
      "RangeIndex: 19571319 entries, 0 to 19571318\n",
      "Data columns (total 7 columns):\n",
      "auction_type_id    object\n",
      "country            object\n",
      "date               object\n",
      "device_id          object\n",
      "platform           object\n",
      "ref_type_id        object\n",
      "source_id          object\n",
      "dtypes: object(7)\n",
      "memory usage: 1.0+ GB\n"
     ]
    }
   ],
   "source": [
    "auctions.info()"
   ]
  },
  {
   "cell_type": "code",
   "execution_count": 23,
   "metadata": {},
   "outputs": [
    {
     "name": "stdout",
     "output_type": "stream",
     "text": [
      "Tipos de subastas nulas: 19571319\n",
      "Tipos de subastas NO nulas: 19571319\n"
     ]
    },
    {
     "data": {
      "text/html": [
       "<div>\n",
       "<style scoped>\n",
       "    .dataframe tbody tr th:only-of-type {\n",
       "        vertical-align: middle;\n",
       "    }\n",
       "\n",
       "    .dataframe tbody tr th {\n",
       "        vertical-align: top;\n",
       "    }\n",
       "\n",
       "    .dataframe thead th {\n",
       "        text-align: right;\n",
       "    }\n",
       "</style>\n",
       "<table border=\"1\" class=\"dataframe\">\n",
       "  <thead>\n",
       "    <tr style=\"text-align: right;\">\n",
       "      <th></th>\n",
       "      <th>country</th>\n",
       "      <th>date</th>\n",
       "      <th>device_id</th>\n",
       "      <th>platform</th>\n",
       "      <th>ref_type_id</th>\n",
       "      <th>source_id</th>\n",
       "    </tr>\n",
       "  </thead>\n",
       "  <tbody>\n",
       "    <tr>\n",
       "      <th>0</th>\n",
       "      <td>6333597102633388268</td>\n",
       "      <td>2019-03-11 14:18:33.290763</td>\n",
       "      <td>6059599345986491085</td>\n",
       "      <td>1</td>\n",
       "      <td>1</td>\n",
       "      <td>0</td>\n",
       "    </tr>\n",
       "    <tr>\n",
       "      <th>1</th>\n",
       "      <td>6333597102633388268</td>\n",
       "      <td>2019-03-11 14:18:34.440157</td>\n",
       "      <td>1115994996230693426</td>\n",
       "      <td>1</td>\n",
       "      <td>1</td>\n",
       "      <td>0</td>\n",
       "    </tr>\n",
       "    <tr>\n",
       "      <th>2</th>\n",
       "      <td>6333597102633388268</td>\n",
       "      <td>2019-03-11 14:18:35.862360</td>\n",
       "      <td>7463856250762200923</td>\n",
       "      <td>1</td>\n",
       "      <td>1</td>\n",
       "      <td>0</td>\n",
       "    </tr>\n",
       "    <tr>\n",
       "      <th>3</th>\n",
       "      <td>6333597102633388268</td>\n",
       "      <td>2019-03-11 14:18:36.167163</td>\n",
       "      <td>7829815350267792040</td>\n",
       "      <td>1</td>\n",
       "      <td>1</td>\n",
       "      <td>0</td>\n",
       "    </tr>\n",
       "    <tr>\n",
       "      <th>4</th>\n",
       "      <td>6333597102633388268</td>\n",
       "      <td>2019-03-11 14:18:37.728590</td>\n",
       "      <td>1448534231953777480</td>\n",
       "      <td>1</td>\n",
       "      <td>1</td>\n",
       "      <td>0</td>\n",
       "    </tr>\n",
       "  </tbody>\n",
       "</table>\n",
       "</div>"
      ],
      "text/plain": [
       "               country                        date            device_id  \\\n",
       "0  6333597102633388268  2019-03-11 14:18:33.290763  6059599345986491085   \n",
       "1  6333597102633388268  2019-03-11 14:18:34.440157  1115994996230693426   \n",
       "2  6333597102633388268  2019-03-11 14:18:35.862360  7463856250762200923   \n",
       "3  6333597102633388268  2019-03-11 14:18:36.167163  7829815350267792040   \n",
       "4  6333597102633388268  2019-03-11 14:18:37.728590  1448534231953777480   \n",
       "\n",
       "  platform ref_type_id source_id  \n",
       "0        1           1         0  \n",
       "1        1           1         0  \n",
       "2        1           1         0  \n",
       "3        1           1         0  \n",
       "4        1           1         0  "
      ]
     },
     "execution_count": 23,
     "metadata": {},
     "output_type": "execute_result"
    }
   ],
   "source": [
    "# vemos las diferentes tipos de subastas\n",
    "print(\"Tipos de subastas nulas: \"+ str(auctions['auction_type_id'].isnull().count()))\n",
    "print(\"Tipos de subastas NO nulas: \"+ str(auctions['auction_type_id'].notnull().count()))\n",
    "\n",
    "# Vemos que en los actions el tipo de subastas no es un dato!\n",
    "\n",
    "# Removemos esa columna\n",
    "auc = auctions[['country','date','device_id','platform','ref_type_id','source_id']]\n",
    "auc.head()"
   ]
  },
  {
   "cell_type": "code",
   "execution_count": 18,
   "metadata": {},
   "outputs": [
    {
     "data": {
      "text/html": [
       "<div>\n",
       "<style scoped>\n",
       "    .dataframe tbody tr th:only-of-type {\n",
       "        vertical-align: middle;\n",
       "    }\n",
       "\n",
       "    .dataframe tbody tr th {\n",
       "        vertical-align: top;\n",
       "    }\n",
       "\n",
       "    .dataframe thead th {\n",
       "        text-align: right;\n",
       "    }\n",
       "</style>\n",
       "<table border=\"1\" class=\"dataframe\">\n",
       "  <thead>\n",
       "    <tr style=\"text-align: right;\">\n",
       "      <th></th>\n",
       "      <th>country</th>\n",
       "      <th>date</th>\n",
       "      <th>device_id</th>\n",
       "      <th>platform</th>\n",
       "      <th>ref_type_id</th>\n",
       "      <th>source_id</th>\n",
       "    </tr>\n",
       "  </thead>\n",
       "  <tbody>\n",
       "    <tr>\n",
       "      <th>0</th>\n",
       "      <td>6333597102633388268</td>\n",
       "      <td>2019-03-11 14:18:33.290763</td>\n",
       "      <td>6059599345986491085</td>\n",
       "      <td>1</td>\n",
       "      <td>1</td>\n",
       "      <td>0</td>\n",
       "    </tr>\n",
       "    <tr>\n",
       "      <th>1</th>\n",
       "      <td>6333597102633388268</td>\n",
       "      <td>2019-03-11 14:18:34.440157</td>\n",
       "      <td>1115994996230693426</td>\n",
       "      <td>1</td>\n",
       "      <td>1</td>\n",
       "      <td>0</td>\n",
       "    </tr>\n",
       "    <tr>\n",
       "      <th>2</th>\n",
       "      <td>6333597102633388268</td>\n",
       "      <td>2019-03-11 14:18:35.862360</td>\n",
       "      <td>7463856250762200923</td>\n",
       "      <td>1</td>\n",
       "      <td>1</td>\n",
       "      <td>0</td>\n",
       "    </tr>\n",
       "    <tr>\n",
       "      <th>3</th>\n",
       "      <td>6333597102633388268</td>\n",
       "      <td>2019-03-11 14:18:36.167163</td>\n",
       "      <td>7829815350267792040</td>\n",
       "      <td>1</td>\n",
       "      <td>1</td>\n",
       "      <td>0</td>\n",
       "    </tr>\n",
       "    <tr>\n",
       "      <th>4</th>\n",
       "      <td>6333597102633388268</td>\n",
       "      <td>2019-03-11 14:18:37.728590</td>\n",
       "      <td>1448534231953777480</td>\n",
       "      <td>1</td>\n",
       "      <td>1</td>\n",
       "      <td>0</td>\n",
       "    </tr>\n",
       "  </tbody>\n",
       "</table>\n",
       "</div>"
      ],
      "text/plain": [
       "               country                        date            device_id  \\\n",
       "0  6333597102633388268  2019-03-11 14:18:33.290763  6059599345986491085   \n",
       "1  6333597102633388268  2019-03-11 14:18:34.440157  1115994996230693426   \n",
       "2  6333597102633388268  2019-03-11 14:18:35.862360  7463856250762200923   \n",
       "3  6333597102633388268  2019-03-11 14:18:36.167163  7829815350267792040   \n",
       "4  6333597102633388268  2019-03-11 14:18:37.728590  1448534231953777480   \n",
       "\n",
       "  platform ref_type_id source_id  \n",
       "0        1           1         0  \n",
       "1        1           1         0  \n",
       "2        1           1         0  \n",
       "3        1           1         0  \n",
       "4        1           1         0  "
      ]
     },
     "execution_count": 18,
     "metadata": {},
     "output_type": "execute_result"
    }
   ],
   "source": [
    "auctions.head()"
   ]
  },
  {
   "cell_type": "code",
   "execution_count": 10,
   "metadata": {
    "scrolled": true
   },
   "outputs": [
    {
     "data": {
      "text/html": [
       "<div>\n",
       "<style scoped>\n",
       "    .dataframe tbody tr th:only-of-type {\n",
       "        vertical-align: middle;\n",
       "    }\n",
       "\n",
       "    .dataframe tbody tr th {\n",
       "        vertical-align: top;\n",
       "    }\n",
       "\n",
       "    .dataframe thead th {\n",
       "        text-align: right;\n",
       "    }\n",
       "</style>\n",
       "<table border=\"1\" class=\"dataframe\">\n",
       "  <thead>\n",
       "    <tr style=\"text-align: right;\">\n",
       "      <th></th>\n",
       "      <th>auction_type_id</th>\n",
       "      <th>date</th>\n",
       "      <th>device_id</th>\n",
       "      <th>platform</th>\n",
       "      <th>ref_type_id</th>\n",
       "      <th>source_id</th>\n",
       "    </tr>\n",
       "    <tr>\n",
       "      <th>country</th>\n",
       "      <th></th>\n",
       "      <th></th>\n",
       "      <th></th>\n",
       "      <th></th>\n",
       "      <th></th>\n",
       "      <th></th>\n",
       "    </tr>\n",
       "  </thead>\n",
       "  <tbody>\n",
       "    <tr>\n",
       "      <th>6333597102633388268</th>\n",
       "      <td>0</td>\n",
       "      <td>19571319</td>\n",
       "      <td>19571319</td>\n",
       "      <td>19571319</td>\n",
       "      <td>19571319</td>\n",
       "      <td>19571319</td>\n",
       "    </tr>\n",
       "  </tbody>\n",
       "</table>\n",
       "</div>"
      ],
      "text/plain": [
       "                     auction_type_id      date  device_id  platform  \\\n",
       "country                                                               \n",
       "6333597102633388268                0  19571319   19571319  19571319   \n",
       "\n",
       "                     ref_type_id  source_id  \n",
       "country                                      \n",
       "6333597102633388268     19571319   19571319  "
      ]
     },
     "execution_count": 10,
     "metadata": {},
     "output_type": "execute_result"
    }
   ],
   "source": [
    "# Vemos que paises llevan a cabo subastas\n",
    "auctions.groupby(['country']).count()"
   ]
  },
  {
   "cell_type": "markdown",
   "metadata": {},
   "source": [
    "## :. Sólo existe un país en donde se realizan las subastas"
   ]
  },
  {
   "cell_type": "markdown",
   "metadata": {},
   "source": [
    "Para un user existen app de interés? Cuáles son las app de interés para un user?\n",
    "De qué depende que un device apareza en una subasta? Depende de la cantidad de intereses del user? Depende del tipo de intereses?\n",
    "El interés de user sobre una publicidad es constante en el tiempo? Varía en tiempo? Con qué frecuencia? De qué depende esa variación?\n",
    "Se puede relacionar los intereses de un user con la zona en donde el usuario se encuentra?\n",
    "Depende que device aparezca en una subasta del día de la semana/hora de la semana? Qué sucede los fin de semana/semana/semana laboral?"
   ]
  },
  {
   "cell_type": "code",
   "execution_count": 8,
   "metadata": {},
   "outputs": [
    {
     "data": {
      "text/html": [
       "<div>\n",
       "<style scoped>\n",
       "    .dataframe tbody tr th:only-of-type {\n",
       "        vertical-align: middle;\n",
       "    }\n",
       "\n",
       "    .dataframe tbody tr th {\n",
       "        vertical-align: top;\n",
       "    }\n",
       "\n",
       "    .dataframe thead th {\n",
       "        text-align: right;\n",
       "    }\n",
       "</style>\n",
       "<table border=\"1\" class=\"dataframe\">\n",
       "  <thead>\n",
       "    <tr style=\"text-align: right;\">\n",
       "      <th></th>\n",
       "      <th>auction_type_id</th>\n",
       "      <th>country</th>\n",
       "      <th>date</th>\n",
       "      <th>device_id</th>\n",
       "      <th>platform</th>\n",
       "      <th>ref_type_id</th>\n",
       "      <th>source_id</th>\n",
       "    </tr>\n",
       "  </thead>\n",
       "  <tbody>\n",
       "    <tr>\n",
       "      <th>0</th>\n",
       "      <td>NaN</td>\n",
       "      <td>6333597102633388268</td>\n",
       "      <td>2019-03-11 14:18:33.290763</td>\n",
       "      <td>6059599345986491085</td>\n",
       "      <td>1</td>\n",
       "      <td>1</td>\n",
       "      <td>0</td>\n",
       "    </tr>\n",
       "    <tr>\n",
       "      <th>1</th>\n",
       "      <td>NaN</td>\n",
       "      <td>6333597102633388268</td>\n",
       "      <td>2019-03-11 14:18:34.440157</td>\n",
       "      <td>1115994996230693426</td>\n",
       "      <td>1</td>\n",
       "      <td>1</td>\n",
       "      <td>0</td>\n",
       "    </tr>\n",
       "    <tr>\n",
       "      <th>2</th>\n",
       "      <td>NaN</td>\n",
       "      <td>6333597102633388268</td>\n",
       "      <td>2019-03-11 14:18:35.862360</td>\n",
       "      <td>7463856250762200923</td>\n",
       "      <td>1</td>\n",
       "      <td>1</td>\n",
       "      <td>0</td>\n",
       "    </tr>\n",
       "    <tr>\n",
       "      <th>3</th>\n",
       "      <td>NaN</td>\n",
       "      <td>6333597102633388268</td>\n",
       "      <td>2019-03-11 14:18:36.167163</td>\n",
       "      <td>7829815350267792040</td>\n",
       "      <td>1</td>\n",
       "      <td>1</td>\n",
       "      <td>0</td>\n",
       "    </tr>\n",
       "    <tr>\n",
       "      <th>4</th>\n",
       "      <td>NaN</td>\n",
       "      <td>6333597102633388268</td>\n",
       "      <td>2019-03-11 14:18:37.728590</td>\n",
       "      <td>1448534231953777480</td>\n",
       "      <td>1</td>\n",
       "      <td>1</td>\n",
       "      <td>0</td>\n",
       "    </tr>\n",
       "  </tbody>\n",
       "</table>\n",
       "</div>"
      ],
      "text/plain": [
       "  auction_type_id              country                        date  \\\n",
       "0             NaN  6333597102633388268  2019-03-11 14:18:33.290763   \n",
       "1             NaN  6333597102633388268  2019-03-11 14:18:34.440157   \n",
       "2             NaN  6333597102633388268  2019-03-11 14:18:35.862360   \n",
       "3             NaN  6333597102633388268  2019-03-11 14:18:36.167163   \n",
       "4             NaN  6333597102633388268  2019-03-11 14:18:37.728590   \n",
       "\n",
       "             device_id platform ref_type_id source_id  \n",
       "0  6059599345986491085        1           1         0  \n",
       "1  1115994996230693426        1           1         0  \n",
       "2  7463856250762200923        1           1         0  \n",
       "3  7829815350267792040        1           1         0  \n",
       "4  1448534231953777480        1           1         0  "
      ]
     },
     "execution_count": 8,
     "metadata": {},
     "output_type": "execute_result"
    }
   ],
   "source": [
    "# Reordenamos el df\n",
    "#auctions['hour'] = auctions['date'].dt.hour\n",
    "auctions.head()"
   ]
  },
  {
   "cell_type": "code",
   "execution_count": 2,
   "metadata": {
    "collapsed": true
   },
   "outputs": [],
   "source": [
    "auc = pd.read_csv('../data2/auctions.csv.gzip',compression='gzip',\\\n",
    "                        usecols=['date','device_id','platform','ref_type_id','source_id'],\\\n",
    "                        dtype={'device_id':'int64','platform':'category','ref_type_id':'category','source_id':'category'},\\\n",
    "                        parse_dates=['date'])"
   ]
  },
  {
   "cell_type": "code",
   "execution_count": 4,
   "metadata": {},
   "outputs": [
    {
     "data": {
      "text/html": [
       "<div>\n",
       "<style scoped>\n",
       "    .dataframe tbody tr th:only-of-type {\n",
       "        vertical-align: middle;\n",
       "    }\n",
       "\n",
       "    .dataframe tbody tr th {\n",
       "        vertical-align: top;\n",
       "    }\n",
       "\n",
       "    .dataframe thead th {\n",
       "        text-align: right;\n",
       "    }\n",
       "</style>\n",
       "<table border=\"1\" class=\"dataframe\">\n",
       "  <thead>\n",
       "    <tr style=\"text-align: right;\">\n",
       "      <th></th>\n",
       "      <th>date</th>\n",
       "      <th>device_id</th>\n",
       "      <th>platform</th>\n",
       "      <th>ref_type_id</th>\n",
       "      <th>source_id</th>\n",
       "    </tr>\n",
       "  </thead>\n",
       "  <tbody>\n",
       "    <tr>\n",
       "      <th>0</th>\n",
       "      <td>2019-03-11 14:18:33.290763</td>\n",
       "      <td>6059599345986491085</td>\n",
       "      <td>1</td>\n",
       "      <td>1</td>\n",
       "      <td>0</td>\n",
       "    </tr>\n",
       "    <tr>\n",
       "      <th>1</th>\n",
       "      <td>2019-03-11 14:18:34.440157</td>\n",
       "      <td>1115994996230693426</td>\n",
       "      <td>1</td>\n",
       "      <td>1</td>\n",
       "      <td>0</td>\n",
       "    </tr>\n",
       "    <tr>\n",
       "      <th>2</th>\n",
       "      <td>2019-03-11 14:18:35.862360</td>\n",
       "      <td>7463856250762200923</td>\n",
       "      <td>1</td>\n",
       "      <td>1</td>\n",
       "      <td>0</td>\n",
       "    </tr>\n",
       "    <tr>\n",
       "      <th>3</th>\n",
       "      <td>2019-03-11 14:18:36.167163</td>\n",
       "      <td>7829815350267792040</td>\n",
       "      <td>1</td>\n",
       "      <td>1</td>\n",
       "      <td>0</td>\n",
       "    </tr>\n",
       "    <tr>\n",
       "      <th>4</th>\n",
       "      <td>2019-03-11 14:18:37.728590</td>\n",
       "      <td>1448534231953777480</td>\n",
       "      <td>1</td>\n",
       "      <td>1</td>\n",
       "      <td>0</td>\n",
       "    </tr>\n",
       "  </tbody>\n",
       "</table>\n",
       "</div>"
      ],
      "text/plain": [
       "                        date            device_id platform ref_type_id  \\\n",
       "0 2019-03-11 14:18:33.290763  6059599345986491085        1           1   \n",
       "1 2019-03-11 14:18:34.440157  1115994996230693426        1           1   \n",
       "2 2019-03-11 14:18:35.862360  7463856250762200923        1           1   \n",
       "3 2019-03-11 14:18:36.167163  7829815350267792040        1           1   \n",
       "4 2019-03-11 14:18:37.728590  1448534231953777480        1           1   \n",
       "\n",
       "  source_id  \n",
       "0         0  \n",
       "1         0  \n",
       "2         0  \n",
       "3         0  \n",
       "4         0  "
      ]
     },
     "execution_count": 4,
     "metadata": {},
     "output_type": "execute_result"
    }
   ],
   "source": [
    "#auctions['hour'] = auctions['date'].dt.hour\n",
    "#auctions2['day'] = auctions2['date']\n",
    "#auctions2.groupby(['day'])\n",
    "\n",
    "#projects_2017['launched_datetime'] = pd.to_datetime(projects_2017['launched'])\n",
    "#auctions2['day'] = pd.datetime(auctions2['date'])\n",
    "#auctions2['date'].head()\n",
    "#pd.datetime(auctions2['date'],format='%Y%m%d')\n",
    "auc.head()"
   ]
  },
  {
   "cell_type": "code",
   "execution_count": 3,
   "metadata": {},
   "outputs": [
    {
     "data": {
      "text/html": [
       "<div>\n",
       "<style scoped>\n",
       "    .dataframe tbody tr th:only-of-type {\n",
       "        vertical-align: middle;\n",
       "    }\n",
       "\n",
       "    .dataframe tbody tr th {\n",
       "        vertical-align: top;\n",
       "    }\n",
       "\n",
       "    .dataframe thead th {\n",
       "        text-align: right;\n",
       "    }\n",
       "</style>\n",
       "<table border=\"1\" class=\"dataframe\">\n",
       "  <thead>\n",
       "    <tr style=\"text-align: right;\">\n",
       "      <th></th>\n",
       "      <th>date</th>\n",
       "      <th>device_id</th>\n",
       "      <th>platform</th>\n",
       "      <th>ref_type_id</th>\n",
       "      <th>source_id</th>\n",
       "    </tr>\n",
       "  </thead>\n",
       "  <tbody>\n",
       "    <tr>\n",
       "      <th>0</th>\n",
       "      <td>2019-03-11</td>\n",
       "      <td>6059599345986491085</td>\n",
       "      <td>1</td>\n",
       "      <td>1</td>\n",
       "      <td>0</td>\n",
       "    </tr>\n",
       "    <tr>\n",
       "      <th>1</th>\n",
       "      <td>2019-03-11</td>\n",
       "      <td>1115994996230693426</td>\n",
       "      <td>1</td>\n",
       "      <td>1</td>\n",
       "      <td>0</td>\n",
       "    </tr>\n",
       "    <tr>\n",
       "      <th>2</th>\n",
       "      <td>2019-03-11</td>\n",
       "      <td>7463856250762200923</td>\n",
       "      <td>1</td>\n",
       "      <td>1</td>\n",
       "      <td>0</td>\n",
       "    </tr>\n",
       "    <tr>\n",
       "      <th>3</th>\n",
       "      <td>2019-03-11</td>\n",
       "      <td>7829815350267792040</td>\n",
       "      <td>1</td>\n",
       "      <td>1</td>\n",
       "      <td>0</td>\n",
       "    </tr>\n",
       "    <tr>\n",
       "      <th>4</th>\n",
       "      <td>2019-03-11</td>\n",
       "      <td>1448534231953777480</td>\n",
       "      <td>1</td>\n",
       "      <td>1</td>\n",
       "      <td>0</td>\n",
       "    </tr>\n",
       "  </tbody>\n",
       "</table>\n",
       "</div>"
      ],
      "text/plain": [
       "         date            device_id platform ref_type_id source_id\n",
       "0  2019-03-11  6059599345986491085        1           1         0\n",
       "1  2019-03-11  1115994996230693426        1           1         0\n",
       "2  2019-03-11  7463856250762200923        1           1         0\n",
       "3  2019-03-11  7829815350267792040        1           1         0\n",
       "4  2019-03-11  1448534231953777480        1           1         0"
      ]
     },
     "execution_count": 3,
     "metadata": {},
     "output_type": "execute_result"
    }
   ],
   "source": [
    "# sacamos las h/m/s\n",
    "auc['date'] = pd.to_datetime(auc['date']).dt.date\n",
    "auc.head()"
   ]
  },
  {
   "cell_type": "code",
   "execution_count": 4,
   "metadata": {},
   "outputs": [
    {
     "data": {
      "text/plain": [
       "<matplotlib.axes._subplots.AxesSubplot at 0x7f254c678750>"
      ]
     },
     "execution_count": 4,
     "metadata": {},
     "output_type": "execute_result"
    },
    {
     "data": {
      "image/png": "[encoded data removed]",
      "text/plain": [
       "<matplotlib.figure.Figure at 0x7f25821a6b10>"
      ]
     },
     "metadata": {},
     "output_type": "display_data"
    }
   ],
   "source": [
    "# como se distribuyen la cantidad de subastas según los días\n",
    "auc['count'] = 1\n",
    "auc_date_count = auc[['date','count']]\n",
    "g_date = auc_date_count.groupby(['date'],as_index = True).count()\n",
    "g_date.plot(kind='bar')"
   ]
  },
  {
   "cell_type": "code",
   "execution_count": 120,
   "metadata": {
    "collapsed": true
   },
   "outputs": [],
   "source": [
    "#  M    X    J    V     S    D     L    M      X\n",
    "# 5/3  6/3  7/3  8/3  9/3  10/3  11/3  12/3  13/3\n",
    "# Mirando las cantidades de subastas por día vemos que para el mismo día, en semanas diferentes existe\n",
    "# una variación alta.\n",
    "# No se puede concluir nada respecto a la cantidad de subastas por día."
   ]
  },
  {
   "cell_type": "code",
   "execution_count": 6,
   "metadata": {},
   "outputs": [
    {
     "data": {
      "text/plain": [
       "date             object\n",
       "device_id         int64\n",
       "platform       category\n",
       "ref_type_id    category\n",
       "source_id      category\n",
       "dtype: object"
      ]
     },
     "execution_count": 6,
     "metadata": {},
     "output_type": "execute_result"
    }
   ],
   "source": [
    "auc.head().dtypes"
   ]
  },
  {
   "cell_type": "code",
   "execution_count": 33,
   "metadata": {},
   "outputs": [
    {
     "data": {
      "text/html": [
       "<div>\n",
       "<style scoped>\n",
       "    .dataframe tbody tr th:only-of-type {\n",
       "        vertical-align: middle;\n",
       "    }\n",
       "\n",
       "    .dataframe tbody tr th {\n",
       "        vertical-align: top;\n",
       "    }\n",
       "\n",
       "    .dataframe thead th {\n",
       "        text-align: right;\n",
       "    }\n",
       "</style>\n",
       "<table border=\"1\" class=\"dataframe\">\n",
       "  <thead>\n",
       "    <tr style=\"text-align: right;\">\n",
       "      <th></th>\n",
       "      <th>device_id</th>\n",
       "      <th>count</th>\n",
       "    </tr>\n",
       "  </thead>\n",
       "  <tbody>\n",
       "    <tr>\n",
       "      <th>0</th>\n",
       "      <td>113858820194433</td>\n",
       "      <td>48</td>\n",
       "    </tr>\n",
       "    <tr>\n",
       "      <th>1</th>\n",
       "      <td>148049712234927</td>\n",
       "      <td>4</td>\n",
       "    </tr>\n",
       "    <tr>\n",
       "      <th>2</th>\n",
       "      <td>163367509015039</td>\n",
       "      <td>36</td>\n",
       "    </tr>\n",
       "    <tr>\n",
       "      <th>3</th>\n",
       "      <td>250378692954397</td>\n",
       "      <td>14</td>\n",
       "    </tr>\n",
       "    <tr>\n",
       "      <th>4</th>\n",
       "      <td>356084629798952</td>\n",
       "      <td>4</td>\n",
       "    </tr>\n",
       "    <tr>\n",
       "      <th>5</th>\n",
       "      <td>400199180093841</td>\n",
       "      <td>21</td>\n",
       "    </tr>\n",
       "    <tr>\n",
       "      <th>6</th>\n",
       "      <td>536121741587392</td>\n",
       "      <td>4</td>\n",
       "    </tr>\n",
       "    <tr>\n",
       "      <th>7</th>\n",
       "      <td>542666285694718</td>\n",
       "      <td>1143</td>\n",
       "    </tr>\n",
       "    <tr>\n",
       "      <th>8</th>\n",
       "      <td>557498597278769</td>\n",
       "      <td>80</td>\n",
       "    </tr>\n",
       "    <tr>\n",
       "      <th>9</th>\n",
       "      <td>650684704532018</td>\n",
       "      <td>1</td>\n",
       "    </tr>\n",
       "  </tbody>\n",
       "</table>\n",
       "</div>"
      ],
      "text/plain": [
       "         device_id  count\n",
       "0  113858820194433     48\n",
       "1  148049712234927      4\n",
       "2  163367509015039     36\n",
       "3  250378692954397     14\n",
       "4  356084629798952      4\n",
       "5  400199180093841     21\n",
       "6  536121741587392      4\n",
       "7  542666285694718   1143\n",
       "8  557498597278769     80\n",
       "9  650684704532018      1"
      ]
     },
     "execution_count": 33,
     "metadata": {},
     "output_type": "execute_result"
    }
   ],
   "source": [
    "# Cada cuanto tiempo aparece nuevamente un device en una subasta?\n",
    "auc_d = auc[['device_id','count']]\n",
    "auc_d = auc_d.groupby('device_id',as_index=False).count()\n",
    "auc_d.head(10)"
   ]
  },
  {
   "cell_type": "code",
   "execution_count": 34,
   "metadata": {},
   "outputs": [
    {
     "name": "stdout",
     "output_type": "stream",
     "text": [
      "('Prom. de apariciones de device en todos los dias: ', '94.55794122052208')\n",
      "('Max. de apariciones de device en todos los dias: ', '27762')\n",
      "('Min. de apariciones de device en todos los dias: ', '1')\n"
     ]
    },
    {
     "data": {
      "text/plain": [
       "<matplotlib.axes._subplots.AxesSubplot at 0x7fa1bfc05990>"
      ]
     },
     "execution_count": 34,
     "metadata": {},
     "output_type": "execute_result"
    },
    {
     "data": {
      "image/png": "[encoded data removed]",
      "text/plain": [
       "<matplotlib.figure.Figure at 0x7fa1d7a492d0>"
      ]
     },
     "metadata": {},
     "output_type": "display_data"
    }
   ],
   "source": [
    "auc_do = auc_d.sort_values(by='count',ascending=False)\n",
    "print(\"Prom. de apariciones de device en todos los dias: \", str(auc_do['count'].mean()))\n",
    "print(\"Max. de apariciones de device en todos los dias: \", str(auc_do['count'].max()))\n",
    "print(\"Min. de apariciones de device en todos los dias: \", str(auc_do['count'].min()))\n",
    "auc_do.plot.scatter(x='device_id',y='count',c='DarkBlue')\n",
    "\n",
    "#En el gráfico podemos ver que existen varios valores para los cuales la cantidad de apariciones\n",
    "#no se corresponde con la media de apariciones que es cercana al 95\n"
   ]
  },
  {
   "cell_type": "code",
   "execution_count": 5,
   "metadata": {
    "collapsed": true
   },
   "outputs": [],
   "source": [
    "#Para cada device analizamos las apariciones según el día\n",
    "#Transformo date objecto -> date\n",
    "auc.head()\n",
    "auc['date'] = pd.to_datetime(auc['date'],format='%Y-%m-%d')\n",
    "auc.dtypes\n",
    "auc.head()\n",
    "auc_group_dd = auc.groupby(['date','device_id'],as_index=False).count()"
   ]
  },
  {
   "cell_type": "code",
   "execution_count": 6,
   "metadata": {
    "collapsed": true
   },
   "outputs": [],
   "source": [
    "auc_group_dd = auc_group_dd[['date','device_id','count']]\n",
    "auc_group_dd = auc_group_dd.sort_values(by=['date','count'],ascending=False)"
   ]
  },
  {
   "cell_type": "code",
   "execution_count": 50,
   "metadata": {},
   "outputs": [
    {
     "data": {
      "image/png": "[encoded data removed]",
      "text/plain": [
       "<matplotlib.figure.Figure at 0x7f257592dfd0>"
      ]
     },
     "metadata": {},
     "output_type": "display_data"
    }
   ],
   "source": [
    "auc_group_dd.head()\n",
    "\n",
    "a13 = auc_group_dd[auc_group_dd['date'] == '2019-03-13']\n",
    "pa13 = a13.plot.scatter(x='device_id',y='count',c='Green',label='dia 13')\n",
    "a12 = auc_group_dd[auc_group_dd['date'] == '2019-03-12']\n",
    "a11 = auc_group_dd[auc_group_dd['date'] == '2019-03-11']\n",
    "a10 = auc_group_dd[auc_group_dd['date'] == '2019-03-11']\n",
    "\n",
    "\n",
    "pa12 = a12.plot.scatter(x='device_id',y='count',c='Red',ax=pa13,label='dia 12')\n",
    "pa11 = a11.plot.scatter(x='device_id',y='count',c='Blue',ax=pa12,label='dia 11')"
   ]
  },
  {
   "cell_type": "code",
   "execution_count": 108,
   "metadata": {},
   "outputs": [
    {
     "data": {
      "image/png": "[encoded data removed]",
      "text/plain": [
       "<matplotlib.figure.Figure at 0x7f25578d2a50>"
      ]
     },
     "metadata": {},
     "output_type": "display_data"
    }
   ],
   "source": [
    "ma = 5000\n",
    "mi = 1000\n",
    "a5 = auc_group_dd[(auc_group_dd['date'] == '2019-03-05') & (auc_group_dd['count'] < ma) & (auc_group_dd['count'] > mi)]\n",
    "a6 = auc_group_dd[(auc_group_dd['date'] == '2019-03-06') & (auc_group_dd['count'] < ma) & (auc_group_dd['count'] > mi)]\n",
    "#a7 = auc_group_dd[auc_group_dd['date'] == '2019-03-07' & auc_group_dd['count'] < 1000 & auc_group_dd['count'] < 10]\n",
    "#a8 = auc_group_dd[auc_group_dd['date'] == '2019-03-08' & auc_group_dd['count'] < 1000 & auc_group_dd['count'] < 10]\n",
    "\n",
    "pa5 = a5.plot.scatter(x='device_id',y='count',c='Green',label='dia 5')\n",
    "pa6 = a6.plot.scatter(x='device_id',y='count',c='Red',ax=pa5,label='dia 6')\n"
   ]
  },
  {
   "cell_type": "code",
   "execution_count": 143,
   "metadata": {},
   "outputs": [
    {
     "name": "stdout",
     "output_type": "stream",
     "text": [
      "Total subastas en día 5: 1182401\n",
      "Total subastas en día 5 entre 1000 ~ 5000: 11175.0\n",
      "Total subastas en día 5 entre 500 ~ 1000: 49945.0\n",
      "Total subastas en día 5 entre 200 ~ 500: 155902.0\n",
      "Total subastas en día 5 entre 0 ~ 200: 963379.0\n",
      "Porcentajes(%): 0.00945110838032 0.0422403228685 0.131852053576 0.81476504164\n"
     ]
    }
   ],
   "source": [
    "dia = '2019-03-05'\n",
    "total = auc_group_dd[(auc_group_dd['date'] == dia)].sum()['count']\n",
    "print(\"Total subastas en día 5: \"+str(total))\n",
    "\n",
    "s0 = float(a5.sum()['count'])\n",
    "print(\"Total subastas en día 5 entre 1000 ~ 5000: \"+str(s0))\n",
    "\n",
    "\n",
    "a5_2 = auc_group_dd[(auc_group_dd['date'] == dia) & (auc_group_dd['count'] < 1000) & (auc_group_dd['count'] > 500)]\n",
    "s1 = float(a5_2.sum()['count'])\n",
    "print(\"Total subastas en día 5 entre 500 ~ 1000: \"+ str(s1))\n",
    "\n",
    "a5_3 = auc_group_dd[(auc_group_dd['date'] == dia) & (auc_group_dd['count'] < 500) & (auc_group_dd['count'] > 200)]\n",
    "s2 = float(a5_3.sum()['count'])\n",
    "print(\"Total subastas en día 5 entre 200 ~ 500: \"+ str(s2))\n",
    "\n",
    "a5_4 = auc_group_dd[(auc_group_dd['date'] == dia) & (auc_group_dd['count'] < 200) & (auc_group_dd['count'] > 0)]\n",
    "s3 = float(a5_4.sum()['count'])\n",
    "print(\"Total subastas en día 5 entre 0 ~ 200: \"+ str(s3))\n",
    "\n",
    "print(\"Porcentajes(%): \"+str(s0/total)+\" \"+str(s1/total)+\" \"+str(s2/total)+\" \"+str(s3/total)+\"\")\n"
   ]
  },
  {
   "cell_type": "markdown",
   "metadata": {},
   "source": [
    "## .: Para un día en particular(2019/03/05) , la gran mayoría de las subastas ocurren con pocas apariciones, entre 0 ~ 200. El 95 % de las apariciones tiene una repetición entre 0 ~ 500"
   ]
  },
  {
   "cell_type": "code",
   "execution_count": 144,
   "metadata": {},
   "outputs": [
    {
     "name": "stdout",
     "output_type": "stream",
     "text": [
      "Porcentajes(%): 0.00485236226456 0.0797559012107 0.182438834183 0.704904728698\n"
     ]
    }
   ],
   "source": [
    "# Tomamos 3 días y vemos sus relaciones de apariciones\n",
    "dia = '2019-03-08'\n",
    "total = auc_group_dd[(auc_group_dd['date'] == dia)].sum()['count']\n",
    "\n",
    "s0 = float(a5.sum()['count'])\n",
    "\n",
    "a5_2 = auc_group_dd[(auc_group_dd['date'] == dia) & (auc_group_dd['count'] < 1000) & (auc_group_dd['count'] > 500)]\n",
    "s1 = float(a5_2.sum()['count'])\n",
    "\n",
    "a5_3 = auc_group_dd[(auc_group_dd['date'] == dia) & (auc_group_dd['count'] < 500) & (auc_group_dd['count'] > 200)]\n",
    "s2 = float(a5_3.sum()['count'])\n",
    "\n",
    "a5_4 = auc_group_dd[(auc_group_dd['date'] == dia) & (auc_group_dd['count'] < 200) & (auc_group_dd['count'] > 0)]\n",
    "s3 = float(a5_4.sum()['count'])\n",
    "\n",
    "print(\"Porcentajes(%): \"+str(s0/total)+\" \"+str(s1/total)+\" \"+str(s2/total)+\" \"+str(s3/total)+\"\")"
   ]
  },
  {
   "cell_type": "code",
   "execution_count": 151,
   "metadata": {},
   "outputs": [
    {
     "name": "stdout",
     "output_type": "stream",
     "text": [
      "Porcentajes(%): 0.00401991431377 0.099005363483 0.190821285581 0.660528218539\n"
     ]
    },
    {
     "data": {
      "text/html": [
       "<div>\n",
       "<style scoped>\n",
       "    .dataframe tbody tr th:only-of-type {\n",
       "        vertical-align: middle;\n",
       "    }\n",
       "\n",
       "    .dataframe tbody tr th {\n",
       "        vertical-align: top;\n",
       "    }\n",
       "\n",
       "    .dataframe thead th {\n",
       "        text-align: right;\n",
       "    }\n",
       "</style>\n",
       "<table border=\"1\" class=\"dataframe\">\n",
       "  <thead>\n",
       "    <tr style=\"text-align: right;\">\n",
       "      <th></th>\n",
       "      <th>date</th>\n",
       "      <th>s1</th>\n",
       "      <th>s2</th>\n",
       "      <th>s3</th>\n",
       "    </tr>\n",
       "  </thead>\n",
       "  <tbody>\n",
       "    <tr>\n",
       "      <th>0</th>\n",
       "      <td>2019-03-12</td>\n",
       "      <td>0.099005</td>\n",
       "      <td>0.190821</td>\n",
       "      <td>0.660528</td>\n",
       "    </tr>\n",
       "  </tbody>\n",
       "</table>\n",
       "</div>"
      ],
      "text/plain": [
       "         date        s1        s2        s3\n",
       "0  2019-03-12  0.099005  0.190821  0.660528"
      ]
     },
     "execution_count": 151,
     "metadata": {},
     "output_type": "execute_result"
    }
   ],
   "source": [
    "dia = '2019-03-12'\n",
    "total = auc_group_dd[(auc_group_dd['date'] == dia)].sum()['count']\n",
    "\n",
    "s0 = float(a5.sum()['count'])\n",
    "\n",
    "a5_2 = auc_group_dd[(auc_group_dd['date'] == dia) & (auc_group_dd['count'] < 1000) & (auc_group_dd['count'] > 500)]\n",
    "s1 = float(a5_2.sum()['count'])\n",
    "\n",
    "a5_3 = auc_group_dd[(auc_group_dd['date'] == dia) & (auc_group_dd['count'] < 500) & (auc_group_dd['count'] > 200)]\n",
    "s2 = float(a5_3.sum()['count'])\n",
    "\n",
    "a5_4 = auc_group_dd[(auc_group_dd['date'] == dia) & (auc_group_dd['count'] < 200) & (auc_group_dd['count'] > 0)]\n",
    "s3 = float(a5_4.sum()['count'])\n",
    "\n",
    "print(\"Porcentajes(%): \"+str(s0/total)+\" \"+str(s1/total)+\" \"+str(s2/total)+\" \"+str(s3/total)+\"\")\n",
    "data={'date':[dia],'s1':[s1/total],'s2':[s2/total],'s3':[s3/total]}\n",
    "df = pd.DataFrame(data=data)\n",
    "df"
   ]
  },
  {
   "cell_type": "code",
   "execution_count": 164,
   "metadata": {},
   "outputs": [
    {
     "data": {
      "text/html": [
       "<div>\n",
       "<style scoped>\n",
       "    .dataframe tbody tr th:only-of-type {\n",
       "        vertical-align: middle;\n",
       "    }\n",
       "\n",
       "    .dataframe tbody tr th {\n",
       "        vertical-align: top;\n",
       "    }\n",
       "\n",
       "    .dataframe thead th {\n",
       "        text-align: right;\n",
       "    }\n",
       "</style>\n",
       "<table border=\"1\" class=\"dataframe\">\n",
       "  <thead>\n",
       "    <tr style=\"text-align: right;\">\n",
       "      <th></th>\n",
       "      <th>date</th>\n",
       "      <th>seccion 0~200</th>\n",
       "      <th>seccion 200~500</th>\n",
       "      <th>seccion 500~1000</th>\n",
       "    </tr>\n",
       "  </thead>\n",
       "  <tbody>\n",
       "    <tr>\n",
       "      <th>0</th>\n",
       "      <td>2019-03-05</td>\n",
       "      <td>0.814765</td>\n",
       "      <td>0.131852</td>\n",
       "      <td>0.042240</td>\n",
       "    </tr>\n",
       "    <tr>\n",
       "      <th>1</th>\n",
       "      <td>2019-03-06</td>\n",
       "      <td>0.813401</td>\n",
       "      <td>0.134855</td>\n",
       "      <td>0.044032</td>\n",
       "    </tr>\n",
       "    <tr>\n",
       "      <th>2</th>\n",
       "      <td>2019-03-07</td>\n",
       "      <td>0.718006</td>\n",
       "      <td>0.172943</td>\n",
       "      <td>0.075780</td>\n",
       "    </tr>\n",
       "    <tr>\n",
       "      <th>3</th>\n",
       "      <td>2019-03-08</td>\n",
       "      <td>0.704905</td>\n",
       "      <td>0.182439</td>\n",
       "      <td>0.079756</td>\n",
       "    </tr>\n",
       "    <tr>\n",
       "      <th>4</th>\n",
       "      <td>2019-03-09</td>\n",
       "      <td>0.732007</td>\n",
       "      <td>0.171644</td>\n",
       "      <td>0.061853</td>\n",
       "    </tr>\n",
       "    <tr>\n",
       "      <th>5</th>\n",
       "      <td>2019-03-10</td>\n",
       "      <td>0.667648</td>\n",
       "      <td>0.191734</td>\n",
       "      <td>0.085741</td>\n",
       "    </tr>\n",
       "    <tr>\n",
       "      <th>6</th>\n",
       "      <td>2019-03-11</td>\n",
       "      <td>0.650002</td>\n",
       "      <td>0.195496</td>\n",
       "      <td>0.098776</td>\n",
       "    </tr>\n",
       "    <tr>\n",
       "      <th>7</th>\n",
       "      <td>2019-03-12</td>\n",
       "      <td>0.660528</td>\n",
       "      <td>0.190821</td>\n",
       "      <td>0.099005</td>\n",
       "    </tr>\n",
       "    <tr>\n",
       "      <th>8</th>\n",
       "      <td>2019-03-13</td>\n",
       "      <td>0.652453</td>\n",
       "      <td>0.194429</td>\n",
       "      <td>0.097980</td>\n",
       "    </tr>\n",
       "  </tbody>\n",
       "</table>\n",
       "</div>"
      ],
      "text/plain": [
       "         date  seccion 0~200  seccion 200~500  seccion 500~1000\n",
       "0  2019-03-05       0.814765         0.131852          0.042240\n",
       "1  2019-03-06       0.813401         0.134855          0.044032\n",
       "2  2019-03-07       0.718006         0.172943          0.075780\n",
       "3  2019-03-08       0.704905         0.182439          0.079756\n",
       "4  2019-03-09       0.732007         0.171644          0.061853\n",
       "5  2019-03-10       0.667648         0.191734          0.085741\n",
       "6  2019-03-11       0.650002         0.195496          0.098776\n",
       "7  2019-03-12       0.660528         0.190821          0.099005\n",
       "8  2019-03-13       0.652453         0.194429          0.097980"
      ]
     },
     "execution_count": 164,
     "metadata": {},
     "output_type": "execute_result"
    }
   ],
   "source": [
    "dates = ['2019-03-05','2019-03-06','2019-03-07','2019-03-08','2019-03-09','2019-03-10','2019-03-11','2019-03-12','2019-03-13']\n",
    "list1 = []\n",
    "list2 = []\n",
    "list3 = []\n",
    "for x in dates:\n",
    "    total = auc_group_dd[(auc_group_dd['date'] == x)].sum()['count']\n",
    "\n",
    "    s0 = float(a5.sum()['count'])\n",
    "\n",
    "    a5_2 = auc_group_dd[(auc_group_dd['date'] == x) & (auc_group_dd['count'] < 1000) & (auc_group_dd['count'] > 500)]\n",
    "    s1 = float(a5_2.sum()['count'])\n",
    "\n",
    "    a5_3 = auc_group_dd[(auc_group_dd['date'] == x) & (auc_group_dd['count'] < 500) & (auc_group_dd['count'] > 200)]\n",
    "    s2 = float(a5_3.sum()['count'])\n",
    "\n",
    "    a5_4 = auc_group_dd[(auc_group_dd['date'] == x) & (auc_group_dd['count'] < 200) & (auc_group_dd['count'] > 0)]\n",
    "    s3 = float(a5_4.sum()['count'])\n",
    "    list1.append(s1/total)\n",
    "    list2.append(s2/total)\n",
    "    list3.append(s3/total)\n",
    "data={'date':dates,'seccion 500~1000':list1,'seccion 200~500':list2,'seccion 0~200':list3}\n",
    "df = pd.DataFrame(data=data)\n",
    "df"
   ]
  },
  {
   "cell_type": "code",
   "execution_count": 165,
   "metadata": {},
   "outputs": [
    {
     "data": {
      "text/plain": [
       "<matplotlib.axes._subplots.AxesSubplot at 0x7f255808d990>"
      ]
     },
     "execution_count": 165,
     "metadata": {},
     "output_type": "execute_result"
    },
    {
     "data": {
      "image/png": "[encoded data removed]",
      "text/plain": [
       "<matplotlib.figure.Figure at 0x7f256ffa8790>"
      ]
     },
     "metadata": {},
     "output_type": "display_data"
    }
   ],
   "source": [
    "df.plot(kind='bar',x='date',title='Subastas por dia segun segmentacion en %')"
   ]
  },
  {
   "cell_type": "markdown",
   "metadata": {},
   "source": [
    "## .: Para todos los días la incidencia de las apariciones en las subastas es mayor al 65%.\n",
    "##    Para los primeros días 5/6 se puede ver una incidencia mayor en las apariciones entre 0~200, mientras que una semana despues 12/13, la incidencia disminuye, aumentando su peso sobre el total las secciones siguientes"
   ]
  },
  {
   "cell_type": "code",
   "execution_count": null,
   "metadata": {
    "collapsed": true
   },
   "outputs": [],
   "source": [
    "pa5 = df.plot.scatter(x='device_id',y='count',c='Green',label='dia 5')\n",
    "pa6 = a6.plot.scatter(x='device_id',y='count',c='Red',ax=pa5,label='dia 6')"
   ]
  },
  {
   "cell_type": "code",
   "execution_count": 23,
   "metadata": {},
   "outputs": [
    {
     "data": {
      "text/plain": [
       "[<matplotlib.lines.Line2D at 0x7f25562eb4d0>]"
      ]
     },
     "execution_count": 23,
     "metadata": {},
     "output_type": "execute_result"
    },
    {
     "data": {
      "image/png": "[encoded data removed]",
      "text/plain": [
       "<matplotlib.figure.Figure at 0x7f25562eb050>"
      ]
     },
     "metadata": {},
     "output_type": "display_data"
    }
   ],
   "source": [
    "plt.plot(a13['device_id'])\n",
    "a12 = auc_group_dd[auc_group_dd['date'] == '2019-03-12']\n",
    "a11 = auc_group_dd[auc_group_dd['date'] == '2019-03-11']\n",
    "plt.plot(a12['device_id'])\n",
    "plt.plot(a11['device_id'])"
   ]
  },
  {
   "cell_type": "code",
   "execution_count": 180,
   "metadata": {
    "collapsed": true
   },
   "outputs": [],
   "source": [
    "# Vamos a analizar por día la cantidad de apariciones.\n",
    "#auc.head(10)\n",
    "#auc.loc[auc['date'] == '2019-03-11'].head(10)\n",
    "#auc['date'].head(10)\n",
    "#auc_do.head(10)\n",
    "#auc[trim(auc['date'] == '2019-03-11']\n",
    "#auc.head()\n",
    "#auc.loc['2019-03-08':'2019-03-12']\n",
    "#d = datetime.date(year=2019,month=3,day=8)\n",
    "#d2 = datetime.date(year=2019,month=3,day=11)\n",
    "#auc.loc[d:d2]\n"
   ]
  },
  {
   "cell_type": "code",
   "execution_count": 186,
   "metadata": {},
   "outputs": [
    {
     "data": {
      "text/plain": [
       "<matplotlib.axes._subplots.AxesSubplot at 0x7feefce723d0>"
      ]
     },
     "execution_count": 186,
     "metadata": {},
     "output_type": "execute_result"
    },
    {
     "data": {
      "image/png": "[encoded data removed]",
      "text/plain": [
       "<matplotlib.figure.Figure at 0x7feefce98d50>"
      ]
     },
     "metadata": {},
     "output_type": "display_data"
    }
   ],
   "source": [
    "#Transformo a date los date object\n",
    "auc['date'] = pd.to_datetime(auc['date'],format='%Y-%m-%d')\n",
    "auc_dia = auc.loc[auc['date'] == '2019-03-11'][['device_id','date','count']]\n",
    "auc_dia = auc_dia.groupby('device_id',as_index=False).count()\n",
    "auc_dia = auc_dia.sort_values(by='count',ascending=False)\n",
    "auc_dia.plot.scatter(x='device_id',y='count',c='Green')"
   ]
  },
  {
   "cell_type": "code",
   "execution_count": 187,
   "metadata": {
    "collapsed": true
   },
   "outputs": [],
   "source": [
    "auc_dia5 = auc.loc[auc['date'] == '2019-03-05'][['device_id','date','count']]\n",
    "auc_dia6 = auc.loc[auc['date'] == '2019-03-06'][['device_id','date','count']]\n",
    "auc_dia7 = auc.loc[auc['date'] == '2019-03-07'][['device_id','date','count']]\n",
    "auc_dia8 = auc.loc[auc['date'] == '2019-03-08'][['device_id','date','count']]\n",
    "auc_dia9 = auc.loc[auc['date'] == '2019-03-09'][['device_id','date','count']]\n",
    "auc_dia10 = auc.loc[auc['date'] == '2019-03-10'][['device_id','date','count']]\n",
    "auc_dia11 = auc.loc[auc['date'] == '2019-03-11'][['device_id','date','count']]\n",
    "auc_dia12 = auc.loc[auc['date'] == '2019-03-12'][['device_id','date','count']]\n",
    "auc_dia13 = auc.loc[auc['date'] == '2019-03-13'][['device_id','date','count']]\n"
   ]
  },
  {
   "cell_type": "code",
   "execution_count": 24,
   "metadata": {},
   "outputs": [
    {
     "ename": "NameError",
     "evalue": "name 'auc_dia5' is not defined",
     "output_type": "error",
     "traceback": [
      "\u001b[0;31m---------------------------------------------------------------------------\u001b[0m",
      "\u001b[0;31mNameError\u001b[0m                                 Traceback (most recent call last)",
      "\u001b[0;32m<ipython-input-24-054c9364a50b>\u001b[0m in \u001b[0;36m<module>\u001b[0;34m()\u001b[0m\n\u001b[0;32m----> 1\u001b[0;31m \u001b[0mauc_total\u001b[0m \u001b[0;34m=\u001b[0m \u001b[0mauc_dia5\u001b[0m\u001b[0;34m.\u001b[0m\u001b[0mmerge\u001b[0m\u001b[0;34m(\u001b[0m\u001b[0mauc_dia6\u001b[0m\u001b[0;34m,\u001b[0m\u001b[0mleft_on\u001b[0m\u001b[0;34m=\u001b[0m\u001b[0;34m'device_id'\u001b[0m\u001b[0;34m,\u001b[0m\u001b[0mright_on\u001b[0m\u001b[0;34m=\u001b[0m\u001b[0;34m'device_id'\u001b[0m\u001b[0;34m)\u001b[0m\u001b[0;31m#>>> df1.merge(df2, left_on='lkey', right_on='rkey')\u001b[0m\u001b[0;34m\u001b[0m\u001b[0m\n\u001b[0m\u001b[1;32m      2\u001b[0m \u001b[0;34m\u001b[0m\u001b[0m\n\u001b[1;32m      3\u001b[0m \u001b[0mauc_total\u001b[0m\u001b[0;34m.\u001b[0m\u001b[0mplot\u001b[0m\u001b[0;34m.\u001b[0m\u001b[0mscatter\u001b[0m\u001b[0;34m(\u001b[0m\u001b[0;34m)\u001b[0m\u001b[0;34m\u001b[0m\u001b[0m\n\u001b[1;32m      4\u001b[0m \u001b[0;34m\u001b[0m\u001b[0m\n\u001b[1;32m      5\u001b[0m \u001b[0;31m#auc_total.plot.scatter(x='device_id',y='count')\u001b[0m\u001b[0;34m\u001b[0m\u001b[0;34m\u001b[0m\u001b[0m\n",
      "\u001b[0;31mNameError\u001b[0m: name 'auc_dia5' is not defined"
     ]
    }
   ],
   "source": [
    "auc_total = auc_dia5.merge(auc_dia6,left_on='device_id',right_on='device_id')#>>> df1.merge(df2, left_on='lkey', right_on='rkey')\n",
    "\n",
    "auc_total.plot.scatter()\n",
    "\n",
    "#auc_total.plot.scatter(x='device_id',y='count')"
   ]
  },
  {
   "cell_type": "code",
   "execution_count": null,
   "metadata": {
    "collapsed": true
   },
   "outputs": [],
   "source": [
    "#auc_total.plot.scatter(x='device_id',y='count_x')"
   ]
  },
  {
   "cell_type": "markdown",
   "metadata": {},
   "source": [
    "## Clicks\n"
   ]
  },
  {
   "cell_type": "code",
   "execution_count": null,
   "metadata": {
    "collapsed": true
   },
   "outputs": [],
   "source": []
  },
  {
   "cell_type": "markdown",
   "metadata": {},
   "source": [
    "advertiser_id: id de anunciante, cliente de Jampp que paga por el anuncio.<br>\n",
    "action_id: id de acción.<br>\n",
    "source_id: ID interna para la fuente (intercambio) desde la cual se originó el click.<br>\n",
    "created: tiempo en el cual se produjo el click.<br>\n",
    "latitude,longitude: ubicación de donde se produjo el click.<br>\n",
    "carrier_id: Id para el operador de telefonía móvil del dispositivo.<br>\n",
    "trans_id: Id de transacción(valor interno).<br>\n",
    "os_minor: mínima version del OS.<br>\n",
    "os_major: máxima versión del OS.<br>\n",
    "agent_device : Agente para el dispositivo en el que se realizó el clic (modelo).<br>\n",
    "specs_brand: especificaciones del dispositvo<br>\n",
    "brand: marca del dispositivo<br>\n",
    "timeToClick: tiempo de click<br>\n",
    "touchX: posición en x del click<br>\n",
    "touchY: posición en y del click<br>\n",
    "ref_type: id de publicidad de Google ó apple_ifa ???<br>\n",
    "ref_hash: id del ref_type"
   ]
  },
  {
   "cell_type": "code",
   "execution_count": 14,
   "metadata": {
    "collapsed": true
   },
   "outputs": [],
   "source": [
    "clicks = pd.read_csv('../data2/clicks.csv.gzip',compression='gzip', dtype='object')"
   ]
  },
  {
   "cell_type": "code",
   "execution_count": 16,
   "metadata": {
    "scrolled": false
   },
   "outputs": [
    {
     "data": {
      "text/html": [
       "<div>\n",
       "<style scoped>\n",
       "    .dataframe tbody tr th:only-of-type {\n",
       "        vertical-align: middle;\n",
       "    }\n",
       "\n",
       "    .dataframe tbody tr th {\n",
       "        vertical-align: top;\n",
       "    }\n",
       "\n",
       "    .dataframe thead th {\n",
       "        text-align: right;\n",
       "    }\n",
       "</style>\n",
       "<table border=\"1\" class=\"dataframe\">\n",
       "  <thead>\n",
       "    <tr style=\"text-align: right;\">\n",
       "      <th></th>\n",
       "      <th>advertiser_id</th>\n",
       "      <th>action_id</th>\n",
       "      <th>source_id</th>\n",
       "      <th>created</th>\n",
       "      <th>country_code</th>\n",
       "      <th>latitude</th>\n",
       "      <th>longitude</th>\n",
       "      <th>wifi_connection</th>\n",
       "      <th>carrier_id</th>\n",
       "      <th>trans_id</th>\n",
       "      <th>os_minor</th>\n",
       "      <th>agent_device</th>\n",
       "      <th>os_major</th>\n",
       "      <th>specs_brand</th>\n",
       "      <th>brand</th>\n",
       "      <th>timeToClick</th>\n",
       "      <th>touchX</th>\n",
       "      <th>touchY</th>\n",
       "      <th>ref_type</th>\n",
       "      <th>ref_hash</th>\n",
       "    </tr>\n",
       "  </thead>\n",
       "  <tbody>\n",
       "    <tr>\n",
       "      <th>0</th>\n",
       "      <td>2</td>\n",
       "      <td>NaN</td>\n",
       "      <td>4</td>\n",
       "      <td>2019-03-06T22:42:12.755Z</td>\n",
       "      <td>6333597102633388268</td>\n",
       "      <td>1.2056887519199482</td>\n",
       "      <td>1.0702342714774236</td>\n",
       "      <td>False</td>\n",
       "      <td>1.0</td>\n",
       "      <td>iGgClCM9exiHF4K31g94XmvHEBSLKIY</td>\n",
       "      <td>6.768137412412545e+18</td>\n",
       "      <td>NaN</td>\n",
       "      <td>3.072849339937028e+18</td>\n",
       "      <td>2733035977666442898</td>\n",
       "      <td>NaN</td>\n",
       "      <td>1.563</td>\n",
       "      <td>0.905</td>\n",
       "      <td>0.078</td>\n",
       "      <td>1891515180541284343</td>\n",
       "      <td>1904083516767779093</td>\n",
       "    </tr>\n",
       "    <tr>\n",
       "      <th>1</th>\n",
       "      <td>0</td>\n",
       "      <td>NaN</td>\n",
       "      <td>0</td>\n",
       "      <td>2019-03-08T10:24:30.641Z</td>\n",
       "      <td>6333597102633388268</td>\n",
       "      <td>1.218923733431926</td>\n",
       "      <td>1.0712090638488148</td>\n",
       "      <td>False</td>\n",
       "      <td>4.0</td>\n",
       "      <td>MMHTOJ6qKAOeIH_Eywh1KIcCaxtO9oM</td>\n",
       "      <td>3.025219449024123e+18</td>\n",
       "      <td>NaN</td>\n",
       "      <td>1.77408510258909e+18</td>\n",
       "      <td>392184377613098015</td>\n",
       "      <td>NaN</td>\n",
       "      <td>NaN</td>\n",
       "      <td>NaN</td>\n",
       "      <td>NaN</td>\n",
       "      <td>1891515180541284343</td>\n",
       "      <td>3086509764961796666</td>\n",
       "    </tr>\n",
       "    <tr>\n",
       "      <th>2</th>\n",
       "      <td>0</td>\n",
       "      <td>NaN</td>\n",
       "      <td>0</td>\n",
       "      <td>2019-03-08T15:24:16.069Z</td>\n",
       "      <td>6333597102633388268</td>\n",
       "      <td>1.2056887519199482</td>\n",
       "      <td>1.0702342714774236</td>\n",
       "      <td>False</td>\n",
       "      <td>6.0</td>\n",
       "      <td>vIrEIdf9izUaWdAri6Ezk7T3nHFvNQU</td>\n",
       "      <td>5.97565607170903e+18</td>\n",
       "      <td>NaN</td>\n",
       "      <td>3.072849339937028e+18</td>\n",
       "      <td>392184377613098015</td>\n",
       "      <td>NaN</td>\n",
       "      <td>NaN</td>\n",
       "      <td>0.946</td>\n",
       "      <td>0.473</td>\n",
       "      <td>1891515180541284343</td>\n",
       "      <td>6958163894863846647</td>\n",
       "    </tr>\n",
       "    <tr>\n",
       "      <th>3</th>\n",
       "      <td>2</td>\n",
       "      <td>NaN</td>\n",
       "      <td>3</td>\n",
       "      <td>2019-03-06T03:08:51.543Z</td>\n",
       "      <td>6333597102633388268</td>\n",
       "      <td>1.2056887519199482</td>\n",
       "      <td>1.0702342714774236</td>\n",
       "      <td>False</td>\n",
       "      <td>45.0</td>\n",
       "      <td>YaKxxEAs2UmZhSpRfiCO9Zpa82B_AKM</td>\n",
       "      <td>6.768137412412545e+18</td>\n",
       "      <td>NaN</td>\n",
       "      <td>3.072849339937028e+18</td>\n",
       "      <td>2733035977666442898</td>\n",
       "      <td>NaN</td>\n",
       "      <td>19.013</td>\n",
       "      <td>0.035</td>\n",
       "      <td>0.431</td>\n",
       "      <td>1891515180541284343</td>\n",
       "      <td>4368617728156436525</td>\n",
       "    </tr>\n",
       "    <tr>\n",
       "      <th>4</th>\n",
       "      <td>2</td>\n",
       "      <td>NaN</td>\n",
       "      <td>3</td>\n",
       "      <td>2019-03-06T03:32:55.570Z</td>\n",
       "      <td>6333597102633388268</td>\n",
       "      <td>1.2056887519199482</td>\n",
       "      <td>1.0702342714774236</td>\n",
       "      <td>False</td>\n",
       "      <td>45.0</td>\n",
       "      <td>X5XTOcYQovkl6yadYdAD7xioVGU9jiY</td>\n",
       "      <td>6.768137412412545e+18</td>\n",
       "      <td>NaN</td>\n",
       "      <td>3.072849339937028e+18</td>\n",
       "      <td>2733035977666442898</td>\n",
       "      <td>NaN</td>\n",
       "      <td>28.11</td>\n",
       "      <td>0.054</td>\n",
       "      <td>0.423</td>\n",
       "      <td>1891515180541284343</td>\n",
       "      <td>4368617728156436525</td>\n",
       "    </tr>\n",
       "  </tbody>\n",
       "</table>\n",
       "</div>"
      ],
      "text/plain": [
       "  advertiser_id action_id source_id                   created  \\\n",
       "0             2       NaN         4  2019-03-06T22:42:12.755Z   \n",
       "1             0       NaN         0  2019-03-08T10:24:30.641Z   \n",
       "2             0       NaN         0  2019-03-08T15:24:16.069Z   \n",
       "3             2       NaN         3  2019-03-06T03:08:51.543Z   \n",
       "4             2       NaN         3  2019-03-06T03:32:55.570Z   \n",
       "\n",
       "          country_code            latitude           longitude  \\\n",
       "0  6333597102633388268  1.2056887519199482  1.0702342714774236   \n",
       "1  6333597102633388268   1.218923733431926  1.0712090638488148   \n",
       "2  6333597102633388268  1.2056887519199482  1.0702342714774236   \n",
       "3  6333597102633388268  1.2056887519199482  1.0702342714774236   \n",
       "4  6333597102633388268  1.2056887519199482  1.0702342714774236   \n",
       "\n",
       "  wifi_connection carrier_id                         trans_id  \\\n",
       "0           False        1.0  iGgClCM9exiHF4K31g94XmvHEBSLKIY   \n",
       "1           False        4.0  MMHTOJ6qKAOeIH_Eywh1KIcCaxtO9oM   \n",
       "2           False        6.0  vIrEIdf9izUaWdAri6Ezk7T3nHFvNQU   \n",
       "3           False       45.0  YaKxxEAs2UmZhSpRfiCO9Zpa82B_AKM   \n",
       "4           False       45.0  X5XTOcYQovkl6yadYdAD7xioVGU9jiY   \n",
       "\n",
       "                os_minor agent_device               os_major  \\\n",
       "0  6.768137412412545e+18          NaN  3.072849339937028e+18   \n",
       "1  3.025219449024123e+18          NaN   1.77408510258909e+18   \n",
       "2   5.97565607170903e+18          NaN  3.072849339937028e+18   \n",
       "3  6.768137412412545e+18          NaN  3.072849339937028e+18   \n",
       "4  6.768137412412545e+18          NaN  3.072849339937028e+18   \n",
       "\n",
       "           specs_brand brand timeToClick touchX touchY             ref_type  \\\n",
       "0  2733035977666442898   NaN       1.563  0.905  0.078  1891515180541284343   \n",
       "1   392184377613098015   NaN         NaN    NaN    NaN  1891515180541284343   \n",
       "2   392184377613098015   NaN         NaN  0.946  0.473  1891515180541284343   \n",
       "3  2733035977666442898   NaN      19.013  0.035  0.431  1891515180541284343   \n",
       "4  2733035977666442898   NaN       28.11  0.054  0.423  1891515180541284343   \n",
       "\n",
       "              ref_hash  \n",
       "0  1904083516767779093  \n",
       "1  3086509764961796666  \n",
       "2  6958163894863846647  \n",
       "3  4368617728156436525  \n",
       "4  4368617728156436525  "
      ]
     },
     "execution_count": 16,
     "metadata": {},
     "output_type": "execute_result"
    }
   ],
   "source": [
    "# Vemos un poco que campos conforman el df clicks\n",
    "clicks.head()"
   ]
  },
  {
   "cell_type": "code",
   "execution_count": 56,
   "metadata": {},
   "outputs": [
    {
     "name": "stdout",
     "output_type": "stream",
     "text": [
      "<class 'pandas.core.frame.DataFrame'>\n",
      "RangeIndex: 26351 entries, 0 to 26350\n",
      "Data columns (total 20 columns):\n",
      "advertiser_id      26351 non-null object\n",
      "action_id          0 non-null object\n",
      "source_id          26351 non-null object\n",
      "created            26351 non-null object\n",
      "country_code       26351 non-null object\n",
      "latitude           26351 non-null object\n",
      "longitude          26351 non-null object\n",
      "wifi_connection    26351 non-null bool\n",
      "carrier_id         26340 non-null object\n",
      "trans_id           26351 non-null object\n",
      "os_minor           26339 non-null object\n",
      "agent_device       3243 non-null object\n",
      "os_major           26339 non-null object\n",
      "specs_brand        26351 non-null object\n",
      "brand              6235 non-null object\n",
      "timeToClick        22977 non-null object\n",
      "touchX             23011 non-null object\n",
      "touchY             23011 non-null object\n",
      "ref_type           26351 non-null object\n",
      "ref_hash           26351 non-null object\n",
      "dtypes: bool(1), object(19)\n",
      "memory usage: 3.8+ MB\n"
     ]
    }
   ],
   "source": [
    "clicks.info()"
   ]
  },
  {
   "cell_type": "markdown",
   "metadata": {},
   "source": [
    "### Todos los valores son strings"
   ]
  },
  {
   "cell_type": "code",
   "execution_count": 17,
   "metadata": {
    "scrolled": true
   },
   "outputs": [
    {
     "data": {
      "text/html": [
       "<div>\n",
       "<style scoped>\n",
       "    .dataframe tbody tr th:only-of-type {\n",
       "        vertical-align: middle;\n",
       "    }\n",
       "\n",
       "    .dataframe tbody tr th {\n",
       "        vertical-align: top;\n",
       "    }\n",
       "\n",
       "    .dataframe thead th {\n",
       "        text-align: right;\n",
       "    }\n",
       "</style>\n",
       "<table border=\"1\" class=\"dataframe\">\n",
       "  <thead>\n",
       "    <tr style=\"text-align: right;\">\n",
       "      <th></th>\n",
       "      <th>advertiser_id</th>\n",
       "      <th>action_id</th>\n",
       "      <th>source_id</th>\n",
       "      <th>created</th>\n",
       "      <th>country_code</th>\n",
       "      <th>latitude</th>\n",
       "      <th>longitude</th>\n",
       "      <th>wifi_connection</th>\n",
       "      <th>carrier_id</th>\n",
       "      <th>trans_id</th>\n",
       "      <th>os_minor</th>\n",
       "      <th>agent_device</th>\n",
       "      <th>os_major</th>\n",
       "      <th>specs_brand</th>\n",
       "      <th>brand</th>\n",
       "      <th>timeToClick</th>\n",
       "      <th>touchX</th>\n",
       "      <th>touchY</th>\n",
       "      <th>ref_type</th>\n",
       "      <th>ref_hash</th>\n",
       "    </tr>\n",
       "  </thead>\n",
       "  <tbody>\n",
       "    <tr>\n",
       "      <th>count</th>\n",
       "      <td>26351</td>\n",
       "      <td>0.0</td>\n",
       "      <td>26351</td>\n",
       "      <td>26351</td>\n",
       "      <td>26351</td>\n",
       "      <td>26351</td>\n",
       "      <td>26351</td>\n",
       "      <td>26351</td>\n",
       "      <td>26340</td>\n",
       "      <td>26351</td>\n",
       "      <td>26339</td>\n",
       "      <td>3243</td>\n",
       "      <td>26339</td>\n",
       "      <td>26351</td>\n",
       "      <td>6235</td>\n",
       "      <td>22977</td>\n",
       "      <td>23011</td>\n",
       "      <td>23011</td>\n",
       "      <td>26351</td>\n",
       "      <td>26351</td>\n",
       "    </tr>\n",
       "    <tr>\n",
       "      <th>unique</th>\n",
       "      <td>7</td>\n",
       "      <td>0.0</td>\n",
       "      <td>11</td>\n",
       "      <td>26347</td>\n",
       "      <td>1</td>\n",
       "      <td>78</td>\n",
       "      <td>81</td>\n",
       "      <td>1</td>\n",
       "      <td>55</td>\n",
       "      <td>26351</td>\n",
       "      <td>28</td>\n",
       "      <td>190</td>\n",
       "      <td>12</td>\n",
       "      <td>5</td>\n",
       "      <td>13</td>\n",
       "      <td>17294</td>\n",
       "      <td>1001</td>\n",
       "      <td>3914</td>\n",
       "      <td>4</td>\n",
       "      <td>17119</td>\n",
       "    </tr>\n",
       "    <tr>\n",
       "      <th>top</th>\n",
       "      <td>3</td>\n",
       "      <td>NaN</td>\n",
       "      <td>0</td>\n",
       "      <td>2019-03-07T23:24:46.085Z</td>\n",
       "      <td>6333597102633388268</td>\n",
       "      <td>1.2056887519199482</td>\n",
       "      <td>1.0702342714774236</td>\n",
       "      <td>False</td>\n",
       "      <td>4.0</td>\n",
       "      <td>TNjkRJ46OCJKJIl62JxAYHdj4jHw8to</td>\n",
       "      <td>3.3786399484966047e+18</td>\n",
       "      <td>3.5168117921816156e+18</td>\n",
       "      <td>3.072849339937028e+18</td>\n",
       "      <td>392184377613098015</td>\n",
       "      <td>2.0</td>\n",
       "      <td>0.261</td>\n",
       "      <td>0.996</td>\n",
       "      <td>0.000</td>\n",
       "      <td>1891515180541284343</td>\n",
       "      <td>4063522808706112974</td>\n",
       "    </tr>\n",
       "    <tr>\n",
       "      <th>freq</th>\n",
       "      <td>26263</td>\n",
       "      <td>NaN</td>\n",
       "      <td>17009</td>\n",
       "      <td>2</td>\n",
       "      <td>26351</td>\n",
       "      <td>22949</td>\n",
       "      <td>22949</td>\n",
       "      <td>26351</td>\n",
       "      <td>4569</td>\n",
       "      <td>1</td>\n",
       "      <td>6922</td>\n",
       "      <td>656</td>\n",
       "      <td>7430</td>\n",
       "      <td>16172</td>\n",
       "      <td>2027</td>\n",
       "      <td>11</td>\n",
       "      <td>204</td>\n",
       "      <td>193</td>\n",
       "      <td>25549</td>\n",
       "      <td>41</td>\n",
       "    </tr>\n",
       "  </tbody>\n",
       "</table>\n",
       "</div>"
      ],
      "text/plain": [
       "       advertiser_id  action_id source_id                   created  \\\n",
       "count          26351        0.0     26351                     26351   \n",
       "unique             7        0.0        11                     26347   \n",
       "top                3        NaN         0  2019-03-07T23:24:46.085Z   \n",
       "freq           26263        NaN     17009                         2   \n",
       "\n",
       "               country_code            latitude           longitude  \\\n",
       "count                 26351               26351               26351   \n",
       "unique                    1                  78                  81   \n",
       "top     6333597102633388268  1.2056887519199482  1.0702342714774236   \n",
       "freq                  26351               22949               22949   \n",
       "\n",
       "       wifi_connection carrier_id                         trans_id  \\\n",
       "count            26351      26340                            26351   \n",
       "unique               1         55                            26351   \n",
       "top              False        4.0  TNjkRJ46OCJKJIl62JxAYHdj4jHw8to   \n",
       "freq             26351       4569                                1   \n",
       "\n",
       "                      os_minor            agent_device               os_major  \\\n",
       "count                    26339                    3243                  26339   \n",
       "unique                      28                     190                     12   \n",
       "top     3.3786399484966047e+18  3.5168117921816156e+18  3.072849339937028e+18   \n",
       "freq                      6922                     656                   7430   \n",
       "\n",
       "               specs_brand brand timeToClick touchX touchY  \\\n",
       "count                26351  6235       22977  23011  23011   \n",
       "unique                   5    13       17294   1001   3914   \n",
       "top     392184377613098015   2.0       0.261  0.996  0.000   \n",
       "freq                 16172  2027          11    204    193   \n",
       "\n",
       "                   ref_type             ref_hash  \n",
       "count                 26351                26351  \n",
       "unique                    4                17119  \n",
       "top     1891515180541284343  4063522808706112974  \n",
       "freq                  25549                   41  "
      ]
     },
     "execution_count": 17,
     "metadata": {},
     "output_type": "execute_result"
    }
   ],
   "source": [
    "clicks.describe()"
   ]
  },
  {
   "cell_type": "markdown",
   "metadata": {},
   "source": [
    "## Cuántos anunciantes existen?"
   ]
  },
  {
   "cell_type": "code",
   "execution_count": 80,
   "metadata": {},
   "outputs": [
    {
     "name": "stdout",
     "output_type": "stream",
     "text": [
      "Anunciantes: 26351\n"
     ]
    }
   ],
   "source": [
    "print(\"Anunciantes: \"+str(clicks['advertiser_id'].describe()[0]))"
   ]
  },
  {
   "cell_type": "code",
   "execution_count": 77,
   "metadata": {},
   "outputs": [
    {
     "data": {
      "text/plain": [
       "advertiser_id      0\n",
       "action_id          0\n",
       "source_id          0\n",
       "created            0\n",
       "country_code       0\n",
       "latitude           0\n",
       "longitude          0\n",
       "wifi_connection    0\n",
       "carrier_id         0\n",
       "trans_id           0\n",
       "os_minor           0\n",
       "agent_device       0\n",
       "os_major           0\n",
       "specs_brand        0\n",
       "brand              0\n",
       "timeToClick        0\n",
       "touchX             0\n",
       "touchY             0\n",
       "ref_type           0\n",
       "ref_hash           0\n",
       "dtype: int64"
      ]
     },
     "execution_count": 77,
     "metadata": {},
     "output_type": "execute_result"
    }
   ],
   "source": [
    "#wifi_connection vemos si existen valores null\n",
    "clicks['wifi_connection'].notnull().count() == clicks['wifi_connection'].count()\n",
    "# no existen valores nulos en la tabla\n",
    "\n",
    "clicks[clicks['wifi_connection'] == False].count()\n",
    "#clicks['wifi_connection'] == True\n",
    "\n",
    "# Todas las conexiones son por wifi"
   ]
  },
  {
   "cell_type": "markdown",
   "metadata": {},
   "source": [
    "### :. Todas las conexiones son por wifi"
   ]
  },
  {
   "cell_type": "code",
   "execution_count": 76,
   "metadata": {},
   "outputs": [
    {
     "data": {
      "text/html": [
       "<div>\n",
       "<style scoped>\n",
       "    .dataframe tbody tr th:only-of-type {\n",
       "        vertical-align: middle;\n",
       "    }\n",
       "\n",
       "    .dataframe tbody tr th {\n",
       "        vertical-align: top;\n",
       "    }\n",
       "\n",
       "    .dataframe thead th {\n",
       "        text-align: right;\n",
       "    }\n",
       "</style>\n",
       "<table border=\"1\" class=\"dataframe\">\n",
       "  <thead>\n",
       "    <tr style=\"text-align: right;\">\n",
       "      <th></th>\n",
       "      <th>advertiser_id</th>\n",
       "      <th>action_id</th>\n",
       "      <th>source_id</th>\n",
       "      <th>created</th>\n",
       "      <th>country_code</th>\n",
       "      <th>latitude</th>\n",
       "      <th>longitude</th>\n",
       "      <th>wifi_connection</th>\n",
       "      <th>carrier_id</th>\n",
       "      <th>trans_id</th>\n",
       "      <th>os_minor</th>\n",
       "      <th>agent_device</th>\n",
       "      <th>os_major</th>\n",
       "      <th>specs_brand</th>\n",
       "      <th>brand</th>\n",
       "      <th>timeToClick</th>\n",
       "      <th>touchX</th>\n",
       "      <th>touchY</th>\n",
       "      <th>ref_type</th>\n",
       "      <th>ref_hash</th>\n",
       "    </tr>\n",
       "  </thead>\n",
       "  <tbody>\n",
       "    <tr>\n",
       "      <th>0</th>\n",
       "      <td>2</td>\n",
       "      <td>NaN</td>\n",
       "      <td>4</td>\n",
       "      <td>2019-03-06T22:42:12.755Z</td>\n",
       "      <td>6333597102633388268</td>\n",
       "      <td>1.2056887519199482</td>\n",
       "      <td>1.0702342714774236</td>\n",
       "      <td>True</td>\n",
       "      <td>1.0</td>\n",
       "      <td>iGgClCM9exiHF4K31g94XmvHEBSLKIY</td>\n",
       "      <td>6.768137412412545e+18</td>\n",
       "      <td>NaN</td>\n",
       "      <td>3.072849339937028e+18</td>\n",
       "      <td>2733035977666442898</td>\n",
       "      <td>NaN</td>\n",
       "      <td>1.563</td>\n",
       "      <td>0.905</td>\n",
       "      <td>0.078</td>\n",
       "      <td>1891515180541284343</td>\n",
       "      <td>1904083516767779093</td>\n",
       "    </tr>\n",
       "    <tr>\n",
       "      <th>1</th>\n",
       "      <td>0</td>\n",
       "      <td>NaN</td>\n",
       "      <td>0</td>\n",
       "      <td>2019-03-08T10:24:30.641Z</td>\n",
       "      <td>6333597102633388268</td>\n",
       "      <td>1.218923733431926</td>\n",
       "      <td>1.0712090638488148</td>\n",
       "      <td>True</td>\n",
       "      <td>4.0</td>\n",
       "      <td>MMHTOJ6qKAOeIH_Eywh1KIcCaxtO9oM</td>\n",
       "      <td>3.025219449024123e+18</td>\n",
       "      <td>NaN</td>\n",
       "      <td>1.77408510258909e+18</td>\n",
       "      <td>392184377613098015</td>\n",
       "      <td>NaN</td>\n",
       "      <td>NaN</td>\n",
       "      <td>NaN</td>\n",
       "      <td>NaN</td>\n",
       "      <td>1891515180541284343</td>\n",
       "      <td>3086509764961796666</td>\n",
       "    </tr>\n",
       "    <tr>\n",
       "      <th>2</th>\n",
       "      <td>0</td>\n",
       "      <td>NaN</td>\n",
       "      <td>0</td>\n",
       "      <td>2019-03-08T15:24:16.069Z</td>\n",
       "      <td>6333597102633388268</td>\n",
       "      <td>1.2056887519199482</td>\n",
       "      <td>1.0702342714774236</td>\n",
       "      <td>True</td>\n",
       "      <td>6.0</td>\n",
       "      <td>vIrEIdf9izUaWdAri6Ezk7T3nHFvNQU</td>\n",
       "      <td>5.97565607170903e+18</td>\n",
       "      <td>NaN</td>\n",
       "      <td>3.072849339937028e+18</td>\n",
       "      <td>392184377613098015</td>\n",
       "      <td>NaN</td>\n",
       "      <td>NaN</td>\n",
       "      <td>0.946</td>\n",
       "      <td>0.473</td>\n",
       "      <td>1891515180541284343</td>\n",
       "      <td>6958163894863846647</td>\n",
       "    </tr>\n",
       "    <tr>\n",
       "      <th>3</th>\n",
       "      <td>2</td>\n",
       "      <td>NaN</td>\n",
       "      <td>3</td>\n",
       "      <td>2019-03-06T03:08:51.543Z</td>\n",
       "      <td>6333597102633388268</td>\n",
       "      <td>1.2056887519199482</td>\n",
       "      <td>1.0702342714774236</td>\n",
       "      <td>True</td>\n",
       "      <td>45.0</td>\n",
       "      <td>YaKxxEAs2UmZhSpRfiCO9Zpa82B_AKM</td>\n",
       "      <td>6.768137412412545e+18</td>\n",
       "      <td>NaN</td>\n",
       "      <td>3.072849339937028e+18</td>\n",
       "      <td>2733035977666442898</td>\n",
       "      <td>NaN</td>\n",
       "      <td>19.013</td>\n",
       "      <td>0.035</td>\n",
       "      <td>0.431</td>\n",
       "      <td>1891515180541284343</td>\n",
       "      <td>4368617728156436525</td>\n",
       "    </tr>\n",
       "    <tr>\n",
       "      <th>4</th>\n",
       "      <td>2</td>\n",
       "      <td>NaN</td>\n",
       "      <td>3</td>\n",
       "      <td>2019-03-06T03:32:55.570Z</td>\n",
       "      <td>6333597102633388268</td>\n",
       "      <td>1.2056887519199482</td>\n",
       "      <td>1.0702342714774236</td>\n",
       "      <td>True</td>\n",
       "      <td>45.0</td>\n",
       "      <td>X5XTOcYQovkl6yadYdAD7xioVGU9jiY</td>\n",
       "      <td>6.768137412412545e+18</td>\n",
       "      <td>NaN</td>\n",
       "      <td>3.072849339937028e+18</td>\n",
       "      <td>2733035977666442898</td>\n",
       "      <td>NaN</td>\n",
       "      <td>28.11</td>\n",
       "      <td>0.054</td>\n",
       "      <td>0.423</td>\n",
       "      <td>1891515180541284343</td>\n",
       "      <td>4368617728156436525</td>\n",
       "    </tr>\n",
       "  </tbody>\n",
       "</table>\n",
       "</div>"
      ],
      "text/plain": [
       "  advertiser_id action_id source_id                   created  \\\n",
       "0             2       NaN         4  2019-03-06T22:42:12.755Z   \n",
       "1             0       NaN         0  2019-03-08T10:24:30.641Z   \n",
       "2             0       NaN         0  2019-03-08T15:24:16.069Z   \n",
       "3             2       NaN         3  2019-03-06T03:08:51.543Z   \n",
       "4             2       NaN         3  2019-03-06T03:32:55.570Z   \n",
       "\n",
       "          country_code            latitude           longitude  \\\n",
       "0  6333597102633388268  1.2056887519199482  1.0702342714774236   \n",
       "1  6333597102633388268   1.218923733431926  1.0712090638488148   \n",
       "2  6333597102633388268  1.2056887519199482  1.0702342714774236   \n",
       "3  6333597102633388268  1.2056887519199482  1.0702342714774236   \n",
       "4  6333597102633388268  1.2056887519199482  1.0702342714774236   \n",
       "\n",
       "   wifi_connection carrier_id                         trans_id  \\\n",
       "0             True        1.0  iGgClCM9exiHF4K31g94XmvHEBSLKIY   \n",
       "1             True        4.0  MMHTOJ6qKAOeIH_Eywh1KIcCaxtO9oM   \n",
       "2             True        6.0  vIrEIdf9izUaWdAri6Ezk7T3nHFvNQU   \n",
       "3             True       45.0  YaKxxEAs2UmZhSpRfiCO9Zpa82B_AKM   \n",
       "4             True       45.0  X5XTOcYQovkl6yadYdAD7xioVGU9jiY   \n",
       "\n",
       "                os_minor agent_device               os_major  \\\n",
       "0  6.768137412412545e+18          NaN  3.072849339937028e+18   \n",
       "1  3.025219449024123e+18          NaN   1.77408510258909e+18   \n",
       "2   5.97565607170903e+18          NaN  3.072849339937028e+18   \n",
       "3  6.768137412412545e+18          NaN  3.072849339937028e+18   \n",
       "4  6.768137412412545e+18          NaN  3.072849339937028e+18   \n",
       "\n",
       "           specs_brand brand timeToClick touchX touchY             ref_type  \\\n",
       "0  2733035977666442898   NaN       1.563  0.905  0.078  1891515180541284343   \n",
       "1   392184377613098015   NaN         NaN    NaN    NaN  1891515180541284343   \n",
       "2   392184377613098015   NaN         NaN  0.946  0.473  1891515180541284343   \n",
       "3  2733035977666442898   NaN      19.013  0.035  0.431  1891515180541284343   \n",
       "4  2733035977666442898   NaN       28.11  0.054  0.423  1891515180541284343   \n",
       "\n",
       "              ref_hash  \n",
       "0  1904083516767779093  \n",
       "1  3086509764961796666  \n",
       "2  6958163894863846647  \n",
       "3  4368617728156436525  \n",
       "4  4368617728156436525  "
      ]
     },
     "execution_count": 76,
     "metadata": {},
     "output_type": "execute_result"
    }
   ],
   "source": []
  },
  {
   "cell_type": "code",
   "execution_count": 94,
   "metadata": {},
   "outputs": [
    {
     "name": "stdout",
     "output_type": "stream",
     "text": [
      "agent_device count:3243\n",
      "agent_device null count: advertiser_id      23108\n",
      "action_id              0\n",
      "source_id          23108\n",
      "created            23108\n",
      "country_code       23108\n",
      "latitude           23108\n",
      "longitude          23108\n",
      "wifi_connection    23108\n",
      "carrier_id         23097\n",
      "trans_id           23108\n",
      "os_minor           23097\n",
      "agent_device           0\n",
      "os_major           23097\n",
      "specs_brand        23108\n",
      "brand               5633\n",
      "timeToClick        20369\n",
      "touchX             20369\n",
      "touchY             20369\n",
      "ref_type           23108\n",
      "ref_hash           23108\n",
      "dtype: int64\n"
     ]
    }
   ],
   "source": [
    "#agent_device\n",
    "print(\"agent_device count:\"+str(clicks['agent_device'].count()))\n",
    "print(\"agent_device null count: \"+str(clicks[clicks['agent_device'].isnull()].count()))\n",
    "\n",
    "#agent_device tiene muchos valores en null"
   ]
  },
  {
   "cell_type": "code",
   "execution_count": 142,
   "metadata": {},
   "outputs": [
    {
     "data": {
      "text/plain": [
       "<matplotlib.axes._subplots.AxesSubplot at 0x7fa626684cd0>"
      ]
     },
     "execution_count": 142,
     "metadata": {},
     "output_type": "execute_result"
    },
    {
     "data": {
      "image/png": "[encoded data removed]",
      "text/plain": [
       "<matplotlib.figure.Figure at 0x7fa626b63cd0>"
      ]
     },
     "metadata": {},
     "output_type": "display_data"
    }
   ],
   "source": [
    "# brand y spec_brand\n",
    "clicks[clicks['brand'].isnull()].count()\n",
    "# brand tiene muchos valores nulos\n",
    "specs_count = clicks.groupby(['specs_brand']).sum()\n",
    "specs_count.rename(index=str,columns={\"wifi_connection\": \"cantidad brand\"})\n",
    "\n",
    "specs_count.plot.bar(title=\"Cantidad de clicks por marca del dispositivo\")\n",
    "# Cuáles son los dispositivos por clicks más usados\n",
    "#auctions['date'].dt.day.value_counts().sort_values().plot.bar(title=\"Subastas por dia\")"
   ]
  },
  {
   "cell_type": "code",
   "execution_count": 128,
   "metadata": {},
   "outputs": [
    {
     "name": "stdout",
     "output_type": "stream",
     "text": [
      "cantidad de ref_type: 26351\n",
      "cantidad de ref_type NULL: 0\n"
     ]
    }
   ],
   "source": [
    "print(\"cantidad de ref_type: \"+str(clicks['ref_type'].count()))\n",
    "\n",
    "print(\"cantidad de ref_type NULL: \"+str(clicks[clicks['ref_type'].isnull()].count()['ref_type']))"
   ]
  },
  {
   "cell_type": "code",
   "execution_count": 155,
   "metadata": {},
   "outputs": [
    {
     "data": {
      "text/plain": [
       "<matplotlib.axes._subplots.AxesSubplot at 0x7fa6262d00d0>"
      ]
     },
     "execution_count": 155,
     "metadata": {},
     "output_type": "execute_result"
    },
    {
     "data": {
      "image/png": "[encoded data removed]",
      "text/plain": [
       "<matplotlib.figure.Figure at 0x7fa626030b10>"
      ]
     },
     "metadata": {},
     "output_type": "display_data"
    }
   ],
   "source": [
    "#tipos de ref_type\n",
    "#clicks.groupby(['ref_type']).sum()#.columns('test').plot.bar(title='ref_type suma')\n",
    "#clicks.groupby(['ref_type']).sum()#.columns('test').plot.bar(title='ref_type suma')\n",
    "clicks.rename(index=str, columns={\"wifi_connection\": \"cantidad_ref_type\"}).groupby(['ref_type'])\\\n",
    ".sum().plot.bar(title=\"Cantidad de clicks por ref_type\")\n",
    "\n",
    "#Ref_type más usados sacando el más usado\n",
    "#clicks.rename(index=str, columns={\"wifi_connection\": \"cantidad_ref_type\"}).groupby(['ref_type'])\\\n",
    "#.sum().sort_values(by='cantidad_ref_type',ascending=False)"
   ]
  },
  {
   "cell_type": "markdown",
   "metadata": {},
   "source": [
    "# Events"
   ]
  },
  {
   "cell_type": "code",
   "execution_count": 156,
   "metadata": {
    "collapsed": true
   },
   "outputs": [],
   "source": [
    "# Qué tipo de eventos existen ?\n",
    "events = pd.read_csv('../data2/events.csv.gzip',compression='gzip', dtype='object')"
   ]
  },
  {
   "cell_type": "markdown",
   "metadata": {},
   "source": [
    "date: fecha de cuando el evento sucede<br>\n",
    "event_id: id de evento<br>\n",
    "ref_type: id de publicidad de Google ó apple_ifa ???<br>\n",
    "ref_hash: ...<br>\n",
    "<b>application_id:</b> es el id de la aplicación donde pasó el evento <br>\n",
    "<b>attributed:</b> event de interés(1ra vez o nuevamente) atribuido a Jamp<br>\n",
    "device_countrycode: codigo de país relacionado al dispo<br>\n",
    "device_os_version: os version usada por el dispo<br>\n",
    "device_brand: marca del dispo<br>\n",
    "device_model: modelo del dispo<br>\n",
    "device_city: ciudad donde el evento sucedió(inferido y estimado)<br>\n",
    "session_user_agent: user agent usado donde el evento se produjo<br>\n",
    "trans_id: id de transacción\n",
    "user_agent: user agent relacionado con el dispo<br>\n",
    "event_uuid: uuid4 generado por el evento<br>\n",
    "kind: ???<br>\n",
    "device_os: os usado por el dispo<br>\n",
    "wifi: igual a wifi_connection<br>\n",
    "connection_type: ???<br>\n",
    "ip_address: ...<br>\n",
    "device_language: lenguaje relacionado con el dispo<br>"
   ]
  },
  {
   "cell_type": "code",
   "execution_count": 157,
   "metadata": {},
   "outputs": [
    {
     "data": {
      "text/html": [
       "<div>\n",
       "<style scoped>\n",
       "    .dataframe tbody tr th:only-of-type {\n",
       "        vertical-align: middle;\n",
       "    }\n",
       "\n",
       "    .dataframe tbody tr th {\n",
       "        vertical-align: top;\n",
       "    }\n",
       "\n",
       "    .dataframe thead th {\n",
       "        text-align: right;\n",
       "    }\n",
       "</style>\n",
       "<table border=\"1\" class=\"dataframe\">\n",
       "  <thead>\n",
       "    <tr style=\"text-align: right;\">\n",
       "      <th></th>\n",
       "      <th>date</th>\n",
       "      <th>event_id</th>\n",
       "      <th>ref_type</th>\n",
       "      <th>ref_hash</th>\n",
       "      <th>application_id</th>\n",
       "      <th>attributed</th>\n",
       "      <th>device_countrycode</th>\n",
       "      <th>device_os_version</th>\n",
       "      <th>device_brand</th>\n",
       "      <th>device_model</th>\n",
       "      <th>...</th>\n",
       "      <th>trans_id</th>\n",
       "      <th>user_agent</th>\n",
       "      <th>event_uuid</th>\n",
       "      <th>carrier</th>\n",
       "      <th>kind</th>\n",
       "      <th>device_os</th>\n",
       "      <th>wifi</th>\n",
       "      <th>connection_type</th>\n",
       "      <th>ip_address</th>\n",
       "      <th>device_language</th>\n",
       "    </tr>\n",
       "  </thead>\n",
       "  <tbody>\n",
       "    <tr>\n",
       "      <th>0</th>\n",
       "      <td>2019-03-05 00:09:36.966</td>\n",
       "      <td>0</td>\n",
       "      <td>1891515180541284343</td>\n",
       "      <td>2688759737656491380</td>\n",
       "      <td>38</td>\n",
       "      <td>False</td>\n",
       "      <td>6333597102633388268</td>\n",
       "      <td>5.908703034097298e+17</td>\n",
       "      <td>NaN</td>\n",
       "      <td>5.990116681709081e+18</td>\n",
       "      <td>...</td>\n",
       "      <td>NaN</td>\n",
       "      <td>NaN</td>\n",
       "      <td>a9c0b263-acb2-4577-92c5-cbde5d7a5db1</td>\n",
       "      <td>2.2481569642543155e+17</td>\n",
       "      <td>5.516623012570946e+18</td>\n",
       "      <td>7.531669329342818e+18</td>\n",
       "      <td>NaN</td>\n",
       "      <td>Cable/DSL</td>\n",
       "      <td>7858558567428669000</td>\n",
       "      <td>4.077062198952597e+17</td>\n",
       "    </tr>\n",
       "    <tr>\n",
       "      <th>1</th>\n",
       "      <td>2019-03-05 00:09:38.920</td>\n",
       "      <td>1</td>\n",
       "      <td>1891515180541284343</td>\n",
       "      <td>2688759737656491380</td>\n",
       "      <td>38</td>\n",
       "      <td>False</td>\n",
       "      <td>6333597102633388268</td>\n",
       "      <td>5.908703034097298e+17</td>\n",
       "      <td>NaN</td>\n",
       "      <td>5.990116681709081e+18</td>\n",
       "      <td>...</td>\n",
       "      <td>NaN</td>\n",
       "      <td>NaN</td>\n",
       "      <td>1cd98205-0d97-4ec2-a019-667997dbfe7a</td>\n",
       "      <td>2.2481569642543155e+17</td>\n",
       "      <td>9.977660181316936e+17</td>\n",
       "      <td>7.531669329342818e+18</td>\n",
       "      <td>NaN</td>\n",
       "      <td>Cable/DSL</td>\n",
       "      <td>7858558567428669000</td>\n",
       "      <td>4.077062198952597e+17</td>\n",
       "    </tr>\n",
       "    <tr>\n",
       "      <th>2</th>\n",
       "      <td>2019-03-05 00:09:26.195</td>\n",
       "      <td>0</td>\n",
       "      <td>1891515180541284343</td>\n",
       "      <td>2688759737656491380</td>\n",
       "      <td>38</td>\n",
       "      <td>False</td>\n",
       "      <td>6333597102633388268</td>\n",
       "      <td>5.908703034097298e+17</td>\n",
       "      <td>NaN</td>\n",
       "      <td>5.990116681709081e+18</td>\n",
       "      <td>...</td>\n",
       "      <td>NaN</td>\n",
       "      <td>NaN</td>\n",
       "      <td>f02e2924-21ae-492b-b625-9021ae0a4eca</td>\n",
       "      <td>2.2481569642543155e+17</td>\n",
       "      <td>5.516623012570946e+18</td>\n",
       "      <td>7.531669329342818e+18</td>\n",
       "      <td>NaN</td>\n",
       "      <td>Cable/DSL</td>\n",
       "      <td>7858558567428669000</td>\n",
       "      <td>4.077062198952597e+17</td>\n",
       "    </tr>\n",
       "    <tr>\n",
       "      <th>3</th>\n",
       "      <td>2019-03-05 00:09:31.107</td>\n",
       "      <td>2</td>\n",
       "      <td>1891515180541284343</td>\n",
       "      <td>2688759737656491380</td>\n",
       "      <td>38</td>\n",
       "      <td>False</td>\n",
       "      <td>6333597102633388268</td>\n",
       "      <td>5.908703034097298e+17</td>\n",
       "      <td>NaN</td>\n",
       "      <td>5.990116681709081e+18</td>\n",
       "      <td>...</td>\n",
       "      <td>NaN</td>\n",
       "      <td>NaN</td>\n",
       "      <td>a813cf45-a36e-4668-85e2-5395f1564e98</td>\n",
       "      <td>2.2481569642543155e+17</td>\n",
       "      <td>8.561152834701074e+18</td>\n",
       "      <td>7.531669329342818e+18</td>\n",
       "      <td>NaN</td>\n",
       "      <td>Cable/DSL</td>\n",
       "      <td>6324037615828123965</td>\n",
       "      <td>4.077062198952597e+17</td>\n",
       "    </tr>\n",
       "    <tr>\n",
       "      <th>4</th>\n",
       "      <td>2019-03-09 21:00:36.585</td>\n",
       "      <td>3</td>\n",
       "      <td>1891515180541284343</td>\n",
       "      <td>2635154697734164782</td>\n",
       "      <td>38</td>\n",
       "      <td>False</td>\n",
       "      <td>6333597102633388268</td>\n",
       "      <td>7.391843585977942e+18</td>\n",
       "      <td>NaN</td>\n",
       "      <td>5.960895846746644e+18</td>\n",
       "      <td>...</td>\n",
       "      <td>NaN</td>\n",
       "      <td>NaN</td>\n",
       "      <td>63a4f0aa-e147-469f-8c55-4ca4f8d0e310</td>\n",
       "      <td>2.2481569642543155e+17</td>\n",
       "      <td>8.731901657619553e+17</td>\n",
       "      <td>7.531669329342818e+18</td>\n",
       "      <td>NaN</td>\n",
       "      <td>Cable/DSL</td>\n",
       "      <td>2894495631302821483</td>\n",
       "      <td>3.3013777759776993e+18</td>\n",
       "    </tr>\n",
       "  </tbody>\n",
       "</table>\n",
       "<p>5 rows × 22 columns</p>\n",
       "</div>"
      ],
      "text/plain": [
       "                      date event_id             ref_type             ref_hash  \\\n",
       "0  2019-03-05 00:09:36.966        0  1891515180541284343  2688759737656491380   \n",
       "1  2019-03-05 00:09:38.920        1  1891515180541284343  2688759737656491380   \n",
       "2  2019-03-05 00:09:26.195        0  1891515180541284343  2688759737656491380   \n",
       "3  2019-03-05 00:09:31.107        2  1891515180541284343  2688759737656491380   \n",
       "4  2019-03-09 21:00:36.585        3  1891515180541284343  2635154697734164782   \n",
       "\n",
       "  application_id attributed   device_countrycode      device_os_version  \\\n",
       "0             38      False  6333597102633388268  5.908703034097298e+17   \n",
       "1             38      False  6333597102633388268  5.908703034097298e+17   \n",
       "2             38      False  6333597102633388268  5.908703034097298e+17   \n",
       "3             38      False  6333597102633388268  5.908703034097298e+17   \n",
       "4             38      False  6333597102633388268  7.391843585977942e+18   \n",
       "\n",
       "  device_brand           device_model  ... trans_id user_agent  \\\n",
       "0          NaN  5.990116681709081e+18  ...      NaN        NaN   \n",
       "1          NaN  5.990116681709081e+18  ...      NaN        NaN   \n",
       "2          NaN  5.990116681709081e+18  ...      NaN        NaN   \n",
       "3          NaN  5.990116681709081e+18  ...      NaN        NaN   \n",
       "4          NaN  5.960895846746644e+18  ...      NaN        NaN   \n",
       "\n",
       "                             event_uuid                 carrier  \\\n",
       "0  a9c0b263-acb2-4577-92c5-cbde5d7a5db1  2.2481569642543155e+17   \n",
       "1  1cd98205-0d97-4ec2-a019-667997dbfe7a  2.2481569642543155e+17   \n",
       "2  f02e2924-21ae-492b-b625-9021ae0a4eca  2.2481569642543155e+17   \n",
       "3  a813cf45-a36e-4668-85e2-5395f1564e98  2.2481569642543155e+17   \n",
       "4  63a4f0aa-e147-469f-8c55-4ca4f8d0e310  2.2481569642543155e+17   \n",
       "\n",
       "                    kind              device_os wifi connection_type  \\\n",
       "0  5.516623012570946e+18  7.531669329342818e+18  NaN       Cable/DSL   \n",
       "1  9.977660181316936e+17  7.531669329342818e+18  NaN       Cable/DSL   \n",
       "2  5.516623012570946e+18  7.531669329342818e+18  NaN       Cable/DSL   \n",
       "3  8.561152834701074e+18  7.531669329342818e+18  NaN       Cable/DSL   \n",
       "4  8.731901657619553e+17  7.531669329342818e+18  NaN       Cable/DSL   \n",
       "\n",
       "            ip_address         device_language  \n",
       "0  7858558567428669000   4.077062198952597e+17  \n",
       "1  7858558567428669000   4.077062198952597e+17  \n",
       "2  7858558567428669000   4.077062198952597e+17  \n",
       "3  6324037615828123965   4.077062198952597e+17  \n",
       "4  2894495631302821483  3.3013777759776993e+18  \n",
       "\n",
       "[5 rows x 22 columns]"
      ]
     },
     "execution_count": 157,
     "metadata": {},
     "output_type": "execute_result"
    }
   ],
   "source": [
    "events.head()"
   ]
  },
  {
   "cell_type": "code",
   "execution_count": null,
   "metadata": {
    "collapsed": true
   },
   "outputs": [],
   "source": [
    "# device_countrycode"
   ]
  },
  {
   "cell_type": "markdown",
   "metadata": {},
   "source": [
    "## Installs"
   ]
  },
  {
   "cell_type": "markdown",
   "metadata": {},
   "source": [
    "<b>created:</b> fecha de creación del evento(install)<br>\n",
    "<b>application_id:</b> es el id de la aplicación donde pasó el evento <br>\n",
    "<b>ref_type:</b> id de publicidad de Google ó apple_ifa ???<br>\n",
    "<b>ref_hash:</b> ...<br>\n",
    "<b>click_hash: hash de la instalación</b>\n",
    "<b>attributed:</b> cuando una instalación es atribuida a Jampp<br>\n",
    "<b>implicit:</b> cuando una instalación se realizo por un medio distinto a Jampp(u otra plataforma). No a través de la publicidad. Es data orgánica(de las app de los clientes Jampp)<br>\n",
    "<b>device_countrycode:</b> código de país del dispositivo<br>\n",
    "<b>device_brand:</b> marca del dispo<br> \n",
    "<b>device_model:</b> modelo del dispo<br>\n",
    "<b>session_user_agent:</b> user agent usado donde el evento se produjo<br>\n",
    "<b>user_agent:</b> user agent relacionado con el dispo<br>\n",
    "<b>event_uuid:</b> uuid4 generado por el evento<br>\n",
    "<b>kind:</b> ???<br>\n",
    "<b>wifi:</b> igual a wifi_connection<br>\n",
    "<b>trans_id:</b> id de transacción<br>\n",
    "<b>ip_address:</b> dirección ip desde donde la instalación fue realizada<br>\n",
    "<b>device_language:</b> lenguaje relacionado con el dispo<br>"
   ]
  },
  {
   "cell_type": "code",
   "execution_count": 159,
   "metadata": {
    "collapsed": true
   },
   "outputs": [],
   "source": [
    "installs = pd.read_csv('../data2/installs.csv.gzip',compression='gzip', dtype='object')"
   ]
  },
  {
   "cell_type": "code",
   "execution_count": 160,
   "metadata": {},
   "outputs": [
    {
     "data": {
      "text/html": [
       "<div>\n",
       "<style scoped>\n",
       "    .dataframe tbody tr th:only-of-type {\n",
       "        vertical-align: middle;\n",
       "    }\n",
       "\n",
       "    .dataframe tbody tr th {\n",
       "        vertical-align: top;\n",
       "    }\n",
       "\n",
       "    .dataframe thead th {\n",
       "        text-align: right;\n",
       "    }\n",
       "</style>\n",
       "<table border=\"1\" class=\"dataframe\">\n",
       "  <thead>\n",
       "    <tr style=\"text-align: right;\">\n",
       "      <th></th>\n",
       "      <th>created</th>\n",
       "      <th>application_id</th>\n",
       "      <th>ref_type</th>\n",
       "      <th>ref_hash</th>\n",
       "      <th>click_hash</th>\n",
       "      <th>attributed</th>\n",
       "      <th>implicit</th>\n",
       "      <th>device_countrycode</th>\n",
       "      <th>device_brand</th>\n",
       "      <th>device_model</th>\n",
       "      <th>session_user_agent</th>\n",
       "      <th>user_agent</th>\n",
       "      <th>event_uuid</th>\n",
       "      <th>kind</th>\n",
       "      <th>wifi</th>\n",
       "      <th>trans_id</th>\n",
       "      <th>ip_address</th>\n",
       "      <th>device_language</th>\n",
       "    </tr>\n",
       "  </thead>\n",
       "  <tbody>\n",
       "    <tr>\n",
       "      <th>0</th>\n",
       "      <td>2019-03-13 01:43:33.445</td>\n",
       "      <td>0</td>\n",
       "      <td>1891515180541284343</td>\n",
       "      <td>8464844987297247076</td>\n",
       "      <td>NaN</td>\n",
       "      <td>False</td>\n",
       "      <td>False</td>\n",
       "      <td>6333597102633388268</td>\n",
       "      <td>3.083058605577787e+17</td>\n",
       "      <td>4.4452523127597215e+18</td>\n",
       "      <td>NaN</td>\n",
       "      <td>NaN</td>\n",
       "      <td>NaN</td>\n",
       "      <td>NaN</td>\n",
       "      <td>NaN</td>\n",
       "      <td>NaN</td>\n",
       "      <td>5529284367937637301</td>\n",
       "      <td>NaN</td>\n",
       "    </tr>\n",
       "    <tr>\n",
       "      <th>1</th>\n",
       "      <td>2019-03-13 04:58:35.078</td>\n",
       "      <td>0</td>\n",
       "      <td>1891515180541284343</td>\n",
       "      <td>3250564871270161533</td>\n",
       "      <td>NaN</td>\n",
       "      <td>False</td>\n",
       "      <td>False</td>\n",
       "      <td>6333597102633388268</td>\n",
       "      <td>3.083058605577787e+17</td>\n",
       "      <td>4.4452523127597215e+18</td>\n",
       "      <td>NaN</td>\n",
       "      <td>NaN</td>\n",
       "      <td>NaN</td>\n",
       "      <td>NaN</td>\n",
       "      <td>NaN</td>\n",
       "      <td>NaN</td>\n",
       "      <td>6098022721363533304</td>\n",
       "      <td>NaN</td>\n",
       "    </tr>\n",
       "    <tr>\n",
       "      <th>2</th>\n",
       "      <td>2019-03-13 04:20:57.666</td>\n",
       "      <td>0</td>\n",
       "      <td>1891515180541284343</td>\n",
       "      <td>7953318831018100268</td>\n",
       "      <td>NaN</td>\n",
       "      <td>False</td>\n",
       "      <td>True</td>\n",
       "      <td>6333597102633388268</td>\n",
       "      <td>5.1379920467642125e+17</td>\n",
       "      <td>6.026543327929208e+18</td>\n",
       "      <td>HasOffers Mobile AppTracking v1.0</td>\n",
       "      <td>NaN</td>\n",
       "      <td>0bfa9b4c-e07a-4522-b32d-138e3165ac98</td>\n",
       "      <td>Open</td>\n",
       "      <td>NaN</td>\n",
       "      <td>NaN</td>\n",
       "      <td>4636407223847323867</td>\n",
       "      <td>3.3013777759776993e+18</td>\n",
       "    </tr>\n",
       "    <tr>\n",
       "      <th>3</th>\n",
       "      <td>2019-03-13 04:20:57.698</td>\n",
       "      <td>0</td>\n",
       "      <td>1891515180541284343</td>\n",
       "      <td>7953318831018100268</td>\n",
       "      <td>NaN</td>\n",
       "      <td>False</td>\n",
       "      <td>False</td>\n",
       "      <td>6333597102633388268</td>\n",
       "      <td>5.1379920467642125e+17</td>\n",
       "      <td>6.026543327929208e+18</td>\n",
       "      <td>NaN</td>\n",
       "      <td>NaN</td>\n",
       "      <td>NaN</td>\n",
       "      <td>NaN</td>\n",
       "      <td>NaN</td>\n",
       "      <td>NaN</td>\n",
       "      <td>4636407223847323867</td>\n",
       "      <td>NaN</td>\n",
       "    </tr>\n",
       "    <tr>\n",
       "      <th>4</th>\n",
       "      <td>2019-03-10 22:24:56.684</td>\n",
       "      <td>0</td>\n",
       "      <td>1891515180541284343</td>\n",
       "      <td>8355110941557237501</td>\n",
       "      <td>NaN</td>\n",
       "      <td>False</td>\n",
       "      <td>True</td>\n",
       "      <td>6333597102633388268</td>\n",
       "      <td>1.083368711068078e+18</td>\n",
       "      <td>7.876611839898798e+18</td>\n",
       "      <td>HasOffers Mobile AppTracking v1.0</td>\n",
       "      <td>NaN</td>\n",
       "      <td>8f235a8c-41bf-4399-b33d-c41577c949b0</td>\n",
       "      <td>Open</td>\n",
       "      <td>NaN</td>\n",
       "      <td>NaN</td>\n",
       "      <td>685400811232710215</td>\n",
       "      <td>3.3013777759776993e+18</td>\n",
       "    </tr>\n",
       "  </tbody>\n",
       "</table>\n",
       "</div>"
      ],
      "text/plain": [
       "                   created application_id             ref_type  \\\n",
       "0  2019-03-13 01:43:33.445              0  1891515180541284343   \n",
       "1  2019-03-13 04:58:35.078              0  1891515180541284343   \n",
       "2  2019-03-13 04:20:57.666              0  1891515180541284343   \n",
       "3  2019-03-13 04:20:57.698              0  1891515180541284343   \n",
       "4  2019-03-10 22:24:56.684              0  1891515180541284343   \n",
       "\n",
       "              ref_hash click_hash attributed implicit   device_countrycode  \\\n",
       "0  8464844987297247076        NaN      False    False  6333597102633388268   \n",
       "1  3250564871270161533        NaN      False    False  6333597102633388268   \n",
       "2  7953318831018100268        NaN      False     True  6333597102633388268   \n",
       "3  7953318831018100268        NaN      False    False  6333597102633388268   \n",
       "4  8355110941557237501        NaN      False     True  6333597102633388268   \n",
       "\n",
       "             device_brand            device_model  \\\n",
       "0   3.083058605577787e+17  4.4452523127597215e+18   \n",
       "1   3.083058605577787e+17  4.4452523127597215e+18   \n",
       "2  5.1379920467642125e+17   6.026543327929208e+18   \n",
       "3  5.1379920467642125e+17   6.026543327929208e+18   \n",
       "4   1.083368711068078e+18   7.876611839898798e+18   \n",
       "\n",
       "                  session_user_agent user_agent  \\\n",
       "0                                NaN        NaN   \n",
       "1                                NaN        NaN   \n",
       "2  HasOffers Mobile AppTracking v1.0        NaN   \n",
       "3                                NaN        NaN   \n",
       "4  HasOffers Mobile AppTracking v1.0        NaN   \n",
       "\n",
       "                             event_uuid  kind wifi trans_id  \\\n",
       "0                                   NaN   NaN  NaN      NaN   \n",
       "1                                   NaN   NaN  NaN      NaN   \n",
       "2  0bfa9b4c-e07a-4522-b32d-138e3165ac98  Open  NaN      NaN   \n",
       "3                                   NaN   NaN  NaN      NaN   \n",
       "4  8f235a8c-41bf-4399-b33d-c41577c949b0  Open  NaN      NaN   \n",
       "\n",
       "            ip_address         device_language  \n",
       "0  5529284367937637301                     NaN  \n",
       "1  6098022721363533304                     NaN  \n",
       "2  4636407223847323867  3.3013777759776993e+18  \n",
       "3  4636407223847323867                     NaN  \n",
       "4   685400811232710215  3.3013777759776993e+18  "
      ]
     },
     "execution_count": 160,
     "metadata": {},
     "output_type": "execute_result"
    }
   ],
   "source": [
    "installs.head()"
   ]
  },
  {
   "cell_type": "markdown",
   "metadata": {},
   "source": [
    "## Target competencia"
   ]
  }
 ],
 "metadata": {
  "kernelspec": {
   "display_name": "Python 2",
   "language": "python",
   "name": "python2"
  },
  "language_info": {
   "codemirror_mode": {
    "name": "ipython",
    "version": 2
   },
   "file_extension": ".py",
   "mimetype": "text/x-python",
   "name": "python",
   "nbconvert_exporter": "python",
   "pygments_lexer": "ipython2",
   "version": "2.7.12"
  }
 },
 "nbformat": 4,
 "nbformat_minor": 2
}
