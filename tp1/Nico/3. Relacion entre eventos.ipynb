{
 "cells": [
  {
   "cell_type": "code",
   "execution_count": 1,
   "metadata": {},
   "outputs": [],
   "source": [
    "import pandas as pd\n",
    "import numpy as np\n",
    "import matplotlib as mp\n",
    "import seaborn as sns"
   ]
  },
  {
   "cell_type": "code",
   "execution_count": 4,
   "metadata": {},
   "outputs": [],
   "source": [
    "events_dtypes = {\n",
    "    'event_id': np.int64,\n",
    "    'ref_type': np.int64,\n",
    "    'ref_hash': np.int64,\n",
    "    'application_id': np.int64,\n",
    "    'attributed': np.bool,\n",
    "    'device_os_version': 'category',\n",
    "    'device_brand': 'category',\n",
    "    'device_model': 'category',\n",
    "    'device_city': 'category',\n",
    "    'session_user_agent': 'category',\n",
    "    'trans_id': 'category',\n",
    "    'user_agent': 'category',\n",
    "    'event_uuid': 'object',\n",
    "    'carrier': 'category',\n",
    "    'kind': 'category',\n",
    "    'device_os': 'category',\n",
    "    'wifi': 'category',\n",
    "    'connection_type': 'category',\n",
    "    #'ip_address': np.int64,\n",
    "    #'device_language': 'category'\n",
    "}\n",
    "events_cols = list(events_dtypes.keys()) + ['date']\n",
    "events = pd.read_csv('../data/events.csv.gzip', \n",
    "                     compression='gzip',\n",
    "                     dtype=events_dtypes,\n",
    "                     usecols=events_cols,\n",
    "                     parse_dates=['date'])"
   ]
  },
  {
   "cell_type": "code",
   "execution_count": 5,
   "metadata": {},
   "outputs": [
    {
     "data": {
      "text/html": [
       "<div>\n",
       "<style scoped>\n",
       "    .dataframe tbody tr th:only-of-type {\n",
       "        vertical-align: middle;\n",
       "    }\n",
       "\n",
       "    .dataframe tbody tr th {\n",
       "        vertical-align: top;\n",
       "    }\n",
       "\n",
       "    .dataframe thead th {\n",
       "        text-align: right;\n",
       "    }\n",
       "</style>\n",
       "<table border=\"1\" class=\"dataframe\">\n",
       "  <thead>\n",
       "    <tr style=\"text-align: right;\">\n",
       "      <th></th>\n",
       "      <th>count</th>\n",
       "      <th>unique</th>\n",
       "      <th>top</th>\n",
       "      <th>freq</th>\n",
       "      <th>first</th>\n",
       "      <th>last</th>\n",
       "      <th>mean</th>\n",
       "      <th>std</th>\n",
       "      <th>min</th>\n",
       "      <th>25%</th>\n",
       "      <th>50%</th>\n",
       "      <th>75%</th>\n",
       "      <th>max</th>\n",
       "    </tr>\n",
       "  </thead>\n",
       "  <tbody>\n",
       "    <tr>\n",
       "      <th>date</th>\n",
       "      <td>2494423</td>\n",
       "      <td>2488829</td>\n",
       "      <td>2019-03-12 14:36:58.017000</td>\n",
       "      <td>3</td>\n",
       "      <td>2019-03-05 00:00:00.255000</td>\n",
       "      <td>2019-03-13 23:59:59.984000</td>\n",
       "      <td>NaN</td>\n",
       "      <td>NaN</td>\n",
       "      <td>NaN</td>\n",
       "      <td>NaN</td>\n",
       "      <td>NaN</td>\n",
       "      <td>NaN</td>\n",
       "      <td>NaN</td>\n",
       "    </tr>\n",
       "    <tr>\n",
       "      <th>event_id</th>\n",
       "      <td>2.49442e+06</td>\n",
       "      <td>NaN</td>\n",
       "      <td>NaN</td>\n",
       "      <td>NaN</td>\n",
       "      <td>NaN</td>\n",
       "      <td>NaN</td>\n",
       "      <td>99.7045</td>\n",
       "      <td>107.09</td>\n",
       "      <td>0</td>\n",
       "      <td>22</td>\n",
       "      <td>31</td>\n",
       "      <td>161</td>\n",
       "      <td>712</td>\n",
       "    </tr>\n",
       "    <tr>\n",
       "      <th>ref_type</th>\n",
       "      <td>2.49442e+06</td>\n",
       "      <td>NaN</td>\n",
       "      <td>NaN</td>\n",
       "      <td>NaN</td>\n",
       "      <td>NaN</td>\n",
       "      <td>NaN</td>\n",
       "      <td>1.79416e+18</td>\n",
       "      <td>1.70794e+17</td>\n",
       "      <td>1.49452e+18</td>\n",
       "      <td>1.89152e+18</td>\n",
       "      <td>1.89152e+18</td>\n",
       "      <td>1.89152e+18</td>\n",
       "      <td>1.89152e+18</td>\n",
       "    </tr>\n",
       "    <tr>\n",
       "      <th>ref_hash</th>\n",
       "      <td>2.49442e+06</td>\n",
       "      <td>NaN</td>\n",
       "      <td>NaN</td>\n",
       "      <td>NaN</td>\n",
       "      <td>NaN</td>\n",
       "      <td>NaN</td>\n",
       "      <td>4.64149e+18</td>\n",
       "      <td>2.66072e+18</td>\n",
       "      <td>1.63368e+14</td>\n",
       "      <td>2.32614e+18</td>\n",
       "      <td>4.68896e+18</td>\n",
       "      <td>6.92759e+18</td>\n",
       "      <td>9.22332e+18</td>\n",
       "    </tr>\n",
       "    <tr>\n",
       "      <th>application_id</th>\n",
       "      <td>2.49442e+06</td>\n",
       "      <td>NaN</td>\n",
       "      <td>NaN</td>\n",
       "      <td>NaN</td>\n",
       "      <td>NaN</td>\n",
       "      <td>NaN</td>\n",
       "      <td>99.1093</td>\n",
       "      <td>57.8099</td>\n",
       "      <td>0</td>\n",
       "      <td>63</td>\n",
       "      <td>66</td>\n",
       "      <td>145</td>\n",
       "      <td>322</td>\n",
       "    </tr>\n",
       "    <tr>\n",
       "      <th>attributed</th>\n",
       "      <td>2494423</td>\n",
       "      <td>2</td>\n",
       "      <td>False</td>\n",
       "      <td>2489324</td>\n",
       "      <td>NaN</td>\n",
       "      <td>NaN</td>\n",
       "      <td>NaN</td>\n",
       "      <td>NaN</td>\n",
       "      <td>NaN</td>\n",
       "      <td>NaN</td>\n",
       "      <td>NaN</td>\n",
       "      <td>NaN</td>\n",
       "      <td>NaN</td>\n",
       "    </tr>\n",
       "    <tr>\n",
       "      <th>device_os_version</th>\n",
       "      <td>1022066</td>\n",
       "      <td>81</td>\n",
       "      <td>4.3537503246500966e+18</td>\n",
       "      <td>277691</td>\n",
       "      <td>NaN</td>\n",
       "      <td>NaN</td>\n",
       "      <td>NaN</td>\n",
       "      <td>NaN</td>\n",
       "      <td>NaN</td>\n",
       "      <td>NaN</td>\n",
       "      <td>NaN</td>\n",
       "      <td>NaN</td>\n",
       "      <td>NaN</td>\n",
       "    </tr>\n",
       "    <tr>\n",
       "      <th>device_brand</th>\n",
       "      <td>1164963</td>\n",
       "      <td>250</td>\n",
       "      <td>3.083058605577787e+17</td>\n",
       "      <td>579861</td>\n",
       "      <td>NaN</td>\n",
       "      <td>NaN</td>\n",
       "      <td>NaN</td>\n",
       "      <td>NaN</td>\n",
       "      <td>NaN</td>\n",
       "      <td>NaN</td>\n",
       "      <td>NaN</td>\n",
       "      <td>NaN</td>\n",
       "      <td>NaN</td>\n",
       "    </tr>\n",
       "    <tr>\n",
       "      <th>device_model</th>\n",
       "      <td>2406456</td>\n",
       "      <td>2624</td>\n",
       "      <td>2.33194661091417e+18</td>\n",
       "      <td>210697</td>\n",
       "      <td>NaN</td>\n",
       "      <td>NaN</td>\n",
       "      <td>NaN</td>\n",
       "      <td>NaN</td>\n",
       "      <td>NaN</td>\n",
       "      <td>NaN</td>\n",
       "      <td>NaN</td>\n",
       "      <td>NaN</td>\n",
       "      <td>NaN</td>\n",
       "    </tr>\n",
       "    <tr>\n",
       "      <th>device_city</th>\n",
       "      <td>614698</td>\n",
       "      <td>127</td>\n",
       "      <td>3.8000799488967747e+18</td>\n",
       "      <td>561876</td>\n",
       "      <td>NaN</td>\n",
       "      <td>NaN</td>\n",
       "      <td>NaN</td>\n",
       "      <td>NaN</td>\n",
       "      <td>NaN</td>\n",
       "      <td>NaN</td>\n",
       "      <td>NaN</td>\n",
       "      <td>NaN</td>\n",
       "      <td>NaN</td>\n",
       "    </tr>\n",
       "    <tr>\n",
       "      <th>session_user_agent</th>\n",
       "      <td>2482637</td>\n",
       "      <td>1460</td>\n",
       "      <td>3.819516403548394e+18</td>\n",
       "      <td>1461049</td>\n",
       "      <td>NaN</td>\n",
       "      <td>NaN</td>\n",
       "      <td>NaN</td>\n",
       "      <td>NaN</td>\n",
       "      <td>NaN</td>\n",
       "      <td>NaN</td>\n",
       "      <td>NaN</td>\n",
       "      <td>NaN</td>\n",
       "      <td>NaN</td>\n",
       "    </tr>\n",
       "    <tr>\n",
       "      <th>trans_id</th>\n",
       "      <td>82</td>\n",
       "      <td>13</td>\n",
       "      <td>{hash}</td>\n",
       "      <td>33</td>\n",
       "      <td>NaN</td>\n",
       "      <td>NaN</td>\n",
       "      <td>NaN</td>\n",
       "      <td>NaN</td>\n",
       "      <td>NaN</td>\n",
       "      <td>NaN</td>\n",
       "      <td>NaN</td>\n",
       "      <td>NaN</td>\n",
       "      <td>NaN</td>\n",
       "    </tr>\n",
       "    <tr>\n",
       "      <th>user_agent</th>\n",
       "      <td>1391527</td>\n",
       "      <td>5111</td>\n",
       "      <td>2.394269162455642e+18</td>\n",
       "      <td>42325</td>\n",
       "      <td>NaN</td>\n",
       "      <td>NaN</td>\n",
       "      <td>NaN</td>\n",
       "      <td>NaN</td>\n",
       "      <td>NaN</td>\n",
       "      <td>NaN</td>\n",
       "      <td>NaN</td>\n",
       "      <td>NaN</td>\n",
       "      <td>NaN</td>\n",
       "    </tr>\n",
       "    <tr>\n",
       "      <th>event_uuid</th>\n",
       "      <td>2489324</td>\n",
       "      <td>2489324</td>\n",
       "      <td>95dab020-c2e5-4df6-96e9-51fdd6157388</td>\n",
       "      <td>1</td>\n",
       "      <td>NaN</td>\n",
       "      <td>NaN</td>\n",
       "      <td>NaN</td>\n",
       "      <td>NaN</td>\n",
       "      <td>NaN</td>\n",
       "      <td>NaN</td>\n",
       "      <td>NaN</td>\n",
       "      <td>NaN</td>\n",
       "      <td>NaN</td>\n",
       "    </tr>\n",
       "    <tr>\n",
       "      <th>carrier</th>\n",
       "      <td>616434</td>\n",
       "      <td>84</td>\n",
       "      <td>2.2481569642543155e+17</td>\n",
       "      <td>436983</td>\n",
       "      <td>NaN</td>\n",
       "      <td>NaN</td>\n",
       "      <td>NaN</td>\n",
       "      <td>NaN</td>\n",
       "      <td>NaN</td>\n",
       "      <td>NaN</td>\n",
       "      <td>NaN</td>\n",
       "      <td>NaN</td>\n",
       "      <td>NaN</td>\n",
       "    </tr>\n",
       "    <tr>\n",
       "      <th>kind</th>\n",
       "      <td>2489324</td>\n",
       "      <td>583</td>\n",
       "      <td>5.500848327478996e+18</td>\n",
       "      <td>618217</td>\n",
       "      <td>NaN</td>\n",
       "      <td>NaN</td>\n",
       "      <td>NaN</td>\n",
       "      <td>NaN</td>\n",
       "      <td>NaN</td>\n",
       "      <td>NaN</td>\n",
       "      <td>NaN</td>\n",
       "      <td>NaN</td>\n",
       "      <td>NaN</td>\n",
       "    </tr>\n",
       "    <tr>\n",
       "      <th>device_os</th>\n",
       "      <td>657667</td>\n",
       "      <td>4</td>\n",
       "      <td>7.531669329342818e+18</td>\n",
       "      <td>389811</td>\n",
       "      <td>NaN</td>\n",
       "      <td>NaN</td>\n",
       "      <td>NaN</td>\n",
       "      <td>NaN</td>\n",
       "      <td>NaN</td>\n",
       "      <td>NaN</td>\n",
       "      <td>NaN</td>\n",
       "      <td>NaN</td>\n",
       "      <td>NaN</td>\n",
       "    </tr>\n",
       "    <tr>\n",
       "      <th>wifi</th>\n",
       "      <td>1378872</td>\n",
       "      <td>2</td>\n",
       "      <td>true</td>\n",
       "      <td>930902</td>\n",
       "      <td>NaN</td>\n",
       "      <td>NaN</td>\n",
       "      <td>NaN</td>\n",
       "      <td>NaN</td>\n",
       "      <td>NaN</td>\n",
       "      <td>NaN</td>\n",
       "      <td>NaN</td>\n",
       "      <td>NaN</td>\n",
       "      <td>NaN</td>\n",
       "    </tr>\n",
       "    <tr>\n",
       "      <th>connection_type</th>\n",
       "      <td>612463</td>\n",
       "      <td>3</td>\n",
       "      <td>Cable/DSL</td>\n",
       "      <td>331948</td>\n",
       "      <td>NaN</td>\n",
       "      <td>NaN</td>\n",
       "      <td>NaN</td>\n",
       "      <td>NaN</td>\n",
       "      <td>NaN</td>\n",
       "      <td>NaN</td>\n",
       "      <td>NaN</td>\n",
       "      <td>NaN</td>\n",
       "      <td>NaN</td>\n",
       "    </tr>\n",
       "  </tbody>\n",
       "</table>\n",
       "</div>"
      ],
      "text/plain": [
       "                          count   unique  \\\n",
       "date                    2494423  2488829   \n",
       "event_id            2.49442e+06      NaN   \n",
       "ref_type            2.49442e+06      NaN   \n",
       "ref_hash            2.49442e+06      NaN   \n",
       "application_id      2.49442e+06      NaN   \n",
       "attributed              2494423        2   \n",
       "device_os_version       1022066       81   \n",
       "device_brand            1164963      250   \n",
       "device_model            2406456     2624   \n",
       "device_city              614698      127   \n",
       "session_user_agent      2482637     1460   \n",
       "trans_id                     82       13   \n",
       "user_agent              1391527     5111   \n",
       "event_uuid              2489324  2489324   \n",
       "carrier                  616434       84   \n",
       "kind                    2489324      583   \n",
       "device_os                657667        4   \n",
       "wifi                    1378872        2   \n",
       "connection_type          612463        3   \n",
       "\n",
       "                                                     top     freq  \\\n",
       "date                          2019-03-12 14:36:58.017000        3   \n",
       "event_id                                             NaN      NaN   \n",
       "ref_type                                             NaN      NaN   \n",
       "ref_hash                                             NaN      NaN   \n",
       "application_id                                       NaN      NaN   \n",
       "attributed                                         False  2489324   \n",
       "device_os_version                 4.3537503246500966e+18   277691   \n",
       "device_brand                       3.083058605577787e+17   579861   \n",
       "device_model                        2.33194661091417e+18   210697   \n",
       "device_city                       3.8000799488967747e+18   561876   \n",
       "session_user_agent                 3.819516403548394e+18  1461049   \n",
       "trans_id                                          {hash}       33   \n",
       "user_agent                         2.394269162455642e+18    42325   \n",
       "event_uuid          95dab020-c2e5-4df6-96e9-51fdd6157388        1   \n",
       "carrier                           2.2481569642543155e+17   436983   \n",
       "kind                               5.500848327478996e+18   618217   \n",
       "device_os                          7.531669329342818e+18   389811   \n",
       "wifi                                                true   930902   \n",
       "connection_type                                Cable/DSL   331948   \n",
       "\n",
       "                                         first                        last  \\\n",
       "date                2019-03-05 00:00:00.255000  2019-03-13 23:59:59.984000   \n",
       "event_id                                   NaN                         NaN   \n",
       "ref_type                                   NaN                         NaN   \n",
       "ref_hash                                   NaN                         NaN   \n",
       "application_id                             NaN                         NaN   \n",
       "attributed                                 NaN                         NaN   \n",
       "device_os_version                          NaN                         NaN   \n",
       "device_brand                               NaN                         NaN   \n",
       "device_model                               NaN                         NaN   \n",
       "device_city                                NaN                         NaN   \n",
       "session_user_agent                         NaN                         NaN   \n",
       "trans_id                                   NaN                         NaN   \n",
       "user_agent                                 NaN                         NaN   \n",
       "event_uuid                                 NaN                         NaN   \n",
       "carrier                                    NaN                         NaN   \n",
       "kind                                       NaN                         NaN   \n",
       "device_os                                  NaN                         NaN   \n",
       "wifi                                       NaN                         NaN   \n",
       "connection_type                            NaN                         NaN   \n",
       "\n",
       "                           mean          std          min          25%  \\\n",
       "date                        NaN          NaN          NaN          NaN   \n",
       "event_id                99.7045       107.09            0           22   \n",
       "ref_type            1.79416e+18  1.70794e+17  1.49452e+18  1.89152e+18   \n",
       "ref_hash            4.64149e+18  2.66072e+18  1.63368e+14  2.32614e+18   \n",
       "application_id          99.1093      57.8099            0           63   \n",
       "attributed                  NaN          NaN          NaN          NaN   \n",
       "device_os_version           NaN          NaN          NaN          NaN   \n",
       "device_brand                NaN          NaN          NaN          NaN   \n",
       "device_model                NaN          NaN          NaN          NaN   \n",
       "device_city                 NaN          NaN          NaN          NaN   \n",
       "session_user_agent          NaN          NaN          NaN          NaN   \n",
       "trans_id                    NaN          NaN          NaN          NaN   \n",
       "user_agent                  NaN          NaN          NaN          NaN   \n",
       "event_uuid                  NaN          NaN          NaN          NaN   \n",
       "carrier                     NaN          NaN          NaN          NaN   \n",
       "kind                        NaN          NaN          NaN          NaN   \n",
       "device_os                   NaN          NaN          NaN          NaN   \n",
       "wifi                        NaN          NaN          NaN          NaN   \n",
       "connection_type             NaN          NaN          NaN          NaN   \n",
       "\n",
       "                            50%          75%          max  \n",
       "date                        NaN          NaN          NaN  \n",
       "event_id                     31          161          712  \n",
       "ref_type            1.89152e+18  1.89152e+18  1.89152e+18  \n",
       "ref_hash            4.68896e+18  6.92759e+18  9.22332e+18  \n",
       "application_id               66          145          322  \n",
       "attributed                  NaN          NaN          NaN  \n",
       "device_os_version           NaN          NaN          NaN  \n",
       "device_brand                NaN          NaN          NaN  \n",
       "device_model                NaN          NaN          NaN  \n",
       "device_city                 NaN          NaN          NaN  \n",
       "session_user_agent          NaN          NaN          NaN  \n",
       "trans_id                    NaN          NaN          NaN  \n",
       "user_agent                  NaN          NaN          NaN  \n",
       "event_uuid                  NaN          NaN          NaN  \n",
       "carrier                     NaN          NaN          NaN  \n",
       "kind                        NaN          NaN          NaN  \n",
       "device_os                   NaN          NaN          NaN  \n",
       "wifi                        NaN          NaN          NaN  \n",
       "connection_type             NaN          NaN          NaN  "
      ]
     },
     "execution_count": 5,
     "metadata": {},
     "output_type": "execute_result"
    }
   ],
   "source": [
    "events.describe(include='all').transpose()"
   ]
  },
  {
   "cell_type": "markdown",
   "metadata": {},
   "source": [
    "**device_country_code** es unico por lo que no aporta informacion para segmentar los datos.\n",
    "**event_uuid** es clave unica para cada registro"
   ]
  },
  {
   "cell_type": "code",
   "execution_count": 6,
   "metadata": {},
   "outputs": [
    {
     "data": {
      "text/plain": [
       "(2494423, 19)"
      ]
     },
     "execution_count": 6,
     "metadata": {},
     "output_type": "execute_result"
    }
   ],
   "source": [
    "events.shape"
   ]
  },
  {
   "cell_type": "code",
   "execution_count": 7,
   "metadata": {},
   "outputs": [
    {
     "name": "stdout",
     "output_type": "stream",
     "text": [
      "<class 'pandas.core.frame.DataFrame'>\n",
      "RangeIndex: 2494423 entries, 0 to 2494422\n",
      "Data columns (total 19 columns):\n",
      "date                  datetime64[ns]\n",
      "event_id              int64\n",
      "ref_type              int64\n",
      "ref_hash              int64\n",
      "application_id        int64\n",
      "attributed            bool\n",
      "device_os_version     category\n",
      "device_brand          category\n",
      "device_model          category\n",
      "device_city           category\n",
      "session_user_agent    category\n",
      "trans_id              category\n",
      "user_agent            category\n",
      "event_uuid            object\n",
      "carrier               category\n",
      "kind                  category\n",
      "device_os             category\n",
      "wifi                  category\n",
      "connection_type       category\n",
      "dtypes: bool(1), category(12), datetime64[ns](1), int64(4), object(1)\n",
      "memory usage: 159.8+ MB\n"
     ]
    }
   ],
   "source": [
    "events.info()"
   ]
  },
  {
   "cell_type": "code",
   "execution_count": 8,
   "metadata": {},
   "outputs": [],
   "source": [
    "events.sort_values(by=['ref_hash','application_id','date'], inplace=True)"
   ]
  },
  {
   "cell_type": "code",
   "execution_count": 9,
   "metadata": {},
   "outputs": [],
   "source": [
    "events['next_date'] = events.groupby(['ref_hash','application_id'], as_index = False, sort=False)['date']\\\n",
    "                                              .transform(lambda x: x.shift(-1))"
   ]
  },
  {
   "cell_type": "code",
   "execution_count": 10,
   "metadata": {},
   "outputs": [],
   "source": [
    "events['next_event'] = events.groupby(['ref_hash','application_id'], as_index = False, sort=False)['event_id']\\\n",
    "                                              .transform(lambda x: x.shift(-1))"
   ]
  },
  {
   "cell_type": "code",
   "execution_count": 11,
   "metadata": {},
   "outputs": [],
   "source": [
    "events['next_event_2'] = events.groupby(['ref_hash','application_id'], as_index = False, sort=False)['event_id']\\\n",
    "                                              .transform(lambda x: x.shift(-2))"
   ]
  },
  {
   "cell_type": "code",
   "execution_count": 12,
   "metadata": {},
   "outputs": [],
   "source": [
    "events = events.loc[(~events['next_date'].isnull())]\n",
    "events['secs_to_next'] = (events['next_date'] - events['date'])\\\n",
    "                                        .transform(lambda x: round(x.total_seconds(), 2))\n",
    "events['hour'] = events['date'].dt.hour\n",
    "events['is_weekend'] = events['date'].dt.weekday >= 5"
   ]
  },
  {
   "cell_type": "markdown",
   "metadata": {},
   "source": [
    "## Tiempo entre eventos"
   ]
  },
  {
   "cell_type": "code",
   "execution_count": 13,
   "metadata": {},
   "outputs": [
    {
     "data": {
      "text/plain": [
       "Text(0.5, 0, 'Tiempo (Seg.)')"
      ]
     },
     "execution_count": 13,
     "metadata": {},
     "output_type": "execute_result"
    },
    {
     "data": {
      "image/png": "[encoded data removed]",
      "text/plain": [
       "<Figure size 432x288 with 1 Axes>"
      ]
     },
     "metadata": {
      "needs_background": "light"
     },
     "output_type": "display_data"
    }
   ],
   "source": [
    "plt = events['secs_to_next'].loc[((events['secs_to_next'] < (10)) & (events['secs_to_next'] > 0))].hist(bins=200, density=True)\n",
    "plt.set_title(\"Tiempo entre eventos\")\n",
    "plt.set_xlabel(\"Tiempo (Seg.)\")"
   ]
  },
  {
   "cell_type": "markdown",
   "metadata": {},
   "source": [
    "Se pueden ver dos picos, el primero ocurre muy cerca del 0, por lo que parece que se debe a dos eventos que ocurren en paralelo. \n",
    "Lo interesante es que practicamente todos los eventos ocurren en intervalos de no mas de 3 segundos. Tomamos 5 segundos como intervalo para no considerar que los eventos estan relacionado con el evento siguiente"
   ]
  },
  {
   "cell_type": "markdown",
   "metadata": {},
   "source": [
    "## Cual es la secuencia de eventos mas comun? \n",
    "\n",
    "Para este analisis se separan las secuencias de eventos diferentes, y se cuentan las secuencias. \n",
    "\n",
    "Consideraciones: \n",
    "* Si se demora mas de 5 segundos entre eventos se los considera no relacionados.\n",
    "* Solo se consideran secuencias de eventos distintos, si el usuario realiza el mismo evento varias veces no se tiene en cuenta"
   ]
  },
  {
   "cell_type": "code",
   "execution_count": 14,
   "metadata": {},
   "outputs": [],
   "source": [
    "events['n'] = 1\n",
    "e_list = events.loc[((events['secs_to_next'] < 5) & (events['event_id'] != events['next_event']))]"
   ]
  },
  {
   "cell_type": "code",
   "execution_count": 15,
   "metadata": {},
   "outputs": [],
   "source": [
    "cant_sec = e_list.groupby(['event_id','next_event'], as_index=False)['n'].sum().dropna()"
   ]
  },
  {
   "cell_type": "code",
   "execution_count": 16,
   "metadata": {},
   "outputs": [
    {
     "data": {
      "text/plain": [
       "Text(0.5, 0, 'Secuencia de 2 eventos')"
      ]
     },
     "execution_count": 16,
     "metadata": {},
     "output_type": "execute_result"
    },
    {
     "data": {
      "image/png": "[encoded data removed]",
      "text/plain": [
       "<Figure size 432x288 with 1 Axes>"
      ]
     },
     "metadata": {
      "needs_background": "light"
     },
     "output_type": "display_data"
    }
   ],
   "source": [
    "plt = cant_sec.sort_values(by='n',ascending=False).head(20).set_index(['event_id','next_event'])['n'].plot.bar()\n",
    "plt.set_title('Par de eventos mas comunes')\n",
    "plt.set_xlabel('Secuencia de 2 eventos')"
   ]
  },
  {
   "cell_type": "markdown",
   "metadata": {},
   "source": [
    "Si considero que luego de 5 segundos sin interaccion, se dejo de usar la aplicacion, llamo a este evento \"Fin\":"
   ]
  },
  {
   "cell_type": "code",
   "execution_count": 17,
   "metadata": {},
   "outputs": [],
   "source": [
    "events['next_event_cfin'] = events['next_event']\n",
    "events.loc[(events['secs_to_next'] > 5), 'next_event_cfin'] = 'Fin'"
   ]
  },
  {
   "cell_type": "code",
   "execution_count": 18,
   "metadata": {},
   "outputs": [
    {
     "data": {
      "text/plain": [
       "Text(0.5, 0, 'Secuencia de 2 eventos')"
      ]
     },
     "execution_count": 18,
     "metadata": {},
     "output_type": "execute_result"
    },
    {
     "data": {
      "image/png": "[encoded data removed]",
      "text/plain": [
       "<Figure size 432x288 with 1 Axes>"
      ]
     },
     "metadata": {
      "needs_background": "light"
     },
     "output_type": "display_data"
    }
   ],
   "source": [
    "plt = events.groupby(['event_id','next_event_cfin'], as_index=False)['n'].sum().dropna().sort_values(by='n',ascending=False).head(20).set_index(['event_id','next_event_cfin'])['n'].plot.bar()\n",
    "plt.set_title('Par de eventos mas comunes, con fin de uso')\n",
    "plt.set_xlabel('Secuencia de 2 eventos')"
   ]
  },
  {
   "cell_type": "markdown",
   "metadata": {},
   "source": [
    "### Secuencia de 3 eventos:"
   ]
  },
  {
   "cell_type": "code",
   "execution_count": 19,
   "metadata": {},
   "outputs": [
    {
     "data": {
      "text/plain": [
       "Text(0.5, 0, 'Secuencia de 3 eventos')"
      ]
     },
     "execution_count": 19,
     "metadata": {},
     "output_type": "execute_result"
    },
    {
     "data": {
      "image/png": "[encoded data removed]",
      "text/plain": [
       "<Figure size 432x288 with 1 Axes>"
      ]
     },
     "metadata": {
      "needs_background": "light"
     },
     "output_type": "display_data"
    }
   ],
   "source": [
    "e_list = events.loc[((events['secs_to_next'] < 5) & (events['event_id'] != events['next_event']) & (events['next_event'] != events['next_event_2']))]\n",
    "cant_sec = e_list.groupby(['event_id','next_event','next_event_2'], as_index=False)['n'].sum().dropna()\n",
    "plt = cant_sec.sort_values(by='n',ascending=False).head(20).set_index(['event_id','next_event','next_event_2'])['n'].plot.bar()\n",
    "plt.set_title('Terna de eventos mas comunes')\n",
    "plt.set_xlabel('Secuencia de 3 eventos')"
   ]
  }
 ],
 "metadata": {
  "kernelspec": {
   "display_name": "Python 2",
   "language": "python",
   "name": "python2"
  },
  "language_info": {
   "codemirror_mode": {
    "name": "ipython",
    "version": 3
   },
   "file_extension": ".py",
   "mimetype": "text/x-python",
   "name": "python",
   "nbconvert_exporter": "python",
   "pygments_lexer": "ipython3",
   "version": "3.6.7"
  }
 },
 "nbformat": 4,
 "nbformat_minor": 2
}
