{
 "cells": [
  {
   "cell_type": "code",
   "execution_count": 1,
   "metadata": {},
   "outputs": [],
   "source": [
    "import pandas as pd\n",
    "import matplotlib as mp\n",
    "import numpy as np\n",
    "from datetime import timedelta\n",
    "import datetime as dt\n",
    "import gc\n",
    "\n",
    "from sklearn.ensemble import RandomForestRegressor\n",
    "from sklearn.metrics import mean_squared_error\n",
    "from sklearn.model_selection import train_test_split\n",
    "import xgboost as xgb\n",
    "\n",
    "%matplotlib inline\n",
    "\n",
    "#Root de archivos de datos\n",
    "root_dir = '../data/'\n",
    "\n",
    "#Lee menos data si es testing\n",
    "is_testing = True\n",
    "\n",
    "# Cantidad minima de aparicion de equipos en un dataframe\n",
    "min_devices = 10\n",
    "\n",
    "# Identificador unico de equipos\n",
    "device_uuid = ['ref_type','ref_hash']\n",
    "\n",
    "# Ventanas de tiempo\n",
    "windows = pd.DataFrame({\n",
    "'window_nr':[1,2,3,4],\n",
    "'n': 1,\n",
    "'min_date': dt.datetime(2019,4,18),\n",
    "'max_date': [dt.datetime(2019,4,21),dt.datetime(2019,4,22),dt.datetime(2019,4,23),dt.datetime(2019,4,24)]\n",
    "})"
   ]
  },
  {
   "cell_type": "markdown",
   "metadata": {},
   "source": [
    "Prediccion de Tiempos de Arribo\n",
    "===============================\n",
    "\n",
    "Se utilizan los distintos dataframes para armar un set de features que sirvan para predecir el tiempo hasta la aparicion de un dispositivo nuevamente. \n",
    "\n",
    "Este notebook tiene la siguiente estructura: \n",
    "\n",
    "1. Lectura de los Dataframes\n",
    "2. Arreglo de los datos\n",
    "3. Armado de Features\n",
    "4. Armado de labels\n",
    "5. Armado del set de pruebas\n",
    "6. Training del Modelo Predictivo\n",
    "7. Predicciones\n",
    "8. Evaluacion \n",
    "\n",
    "------------------------------\n",
    "## 1. Lectura de los Dataframes\n",
    "\n",
    "Se realiza la carga de los dataframes en memoria para el armado del modelo predictivo. La lectura se hace optimizando los tipos de datos a fin de utilizar la menor cantidad de memoria posible."
   ]
  },
  {
   "cell_type": "code",
   "execution_count": 2,
   "metadata": {},
   "outputs": [
    {
     "name": "stdout",
     "output_type": "stream",
     "text": [
      "Is Testing, #records: 14222858\n"
     ]
    }
   ],
   "source": [
    "#Optimizado para menos memoria\n",
    "auction_dtypes = {\n",
    "    'ref_type_id': np.int8,\n",
    "    'device_id': np.int64,\n",
    "    'source_id': np.int8\n",
    "}\n",
    "\n",
    "auctions = pd.read_csv(root_dir + 'auctions.csv.gzip',\n",
    "                       compression = 'gzip',\n",
    "                       dtype = auction_dtypes,\n",
    "                       parse_dates = ['date'])\n",
    "auctions.rename({'device_id':'ref_hash',\n",
    "                 'ref_type_id':'ref_type'}, inplace=True, axis='columns')\n",
    "auctions['n'] = 1\n",
    "\n",
    "# Para hacer pruebas ocupando menos memoria se hace un sampleo aleatorio de la mitad del dataframe y se elimina el resto\n",
    "if is_testing:\n",
    "    auctions = auctions.sample(frac=.30)\n",
    "    print(\"Is Testing, #records:\", auctions['n'].sum())\n",
    "else:\n",
    "    print(\"Not Testing, #records:\", auctions['n'].sum())\n"
   ]
  },
  {
   "cell_type": "code",
   "execution_count": 60,
   "metadata": {},
   "outputs": [
    {
     "name": "stdout",
     "output_type": "stream",
     "text": [
      "#records: 481511\n"
     ]
    }
   ],
   "source": [
    "installs_dtypes = {\n",
    "    'application_id': np.int32,\n",
    "    'ref_type': np.int64,\n",
    "    'ref_hash': np.int64, \n",
    "    #'click_hash':'category',\n",
    "    'attributed': 'category',\n",
    "    'implicit': 'category',\n",
    "    #'device_countrycode': 'object', \n",
    "    'device_brand': 'object',\n",
    "    'device_model': 'object', \n",
    "    'session_user_agent': 'object', \n",
    "    'user_agent': 'object', \n",
    "    'event_uuid':'object',\n",
    "    'kind': 'object',\n",
    "    'wifi': 'object', \n",
    "    'trans_id': 'object', \n",
    "    #'ip_address':'object', \n",
    "    'device_language': 'object'\n",
    "}\n",
    "install_cols = list(installs_dtypes.keys()) + ['created']\n",
    "installs = pd.read_csv(root_dir + 'installs.csv.gzip', \n",
    "                       compression='gzip', \n",
    "                       usecols=install_cols,\n",
    "                       dtype= installs_dtypes,\n",
    "                      parse_dates=['created'])\n",
    "\n",
    "installs['n'] = 1\n",
    "print('#records:', installs['n'].sum())"
   ]
  },
  {
   "cell_type": "code",
   "execution_count": 63,
   "metadata": {},
   "outputs": [],
   "source": [
    "installs.loc[installs['ref_type'] == 1891515180541284343, 'ref_type'] = 1\n",
    "installs.loc[installs['ref_type'] == 1494519392962156891, 'ref_type'] = 7"
   ]
  },
  {
   "cell_type": "code",
   "execution_count": 4,
   "metadata": {},
   "outputs": [
    {
     "name": "stdout",
     "output_type": "stream",
     "text": [
      "#records: 64296\n"
     ]
    }
   ],
   "source": [
    "clicks_dtypes = {\n",
    "    'advertiser_id': np.int8, \n",
    "    'action_id': np.int32, \n",
    "    'source_id': np.int8, \n",
    "    'latitude' : np.float64, \n",
    "    'longitude': np.float64, \n",
    "    'wifi_connection': np.bool, \n",
    "    'carrier_id': np.int16, \n",
    "    'trans_id': 'object',\n",
    "    'os_minor':'object', \n",
    "    #'agent_device' : 'category', \n",
    "    #'os_major': 'category', \n",
    "    'specs_brand': 'category', \n",
    "    #'brand': np.int8,\n",
    "    'timeToClick': np.float64, \n",
    "    #'touchX': np.float64, \n",
    "    #'touchY': np.float64, \n",
    "    'ref_type':np.int64, \n",
    "    'ref_hash':np.int64,\n",
    "    'created' : 'object'\n",
    "}\n",
    "clicks = pd.read_csv(root_dir + 'clicks.csv.gzip', \n",
    "                     compression='gzip',\n",
    "                     low_memory=False,\n",
    "                     parse_dates=['created'])\n",
    "clicks['n'] = 1\n",
    "print('#records:', clicks['n'].sum())"
   ]
  },
  {
   "cell_type": "code",
   "execution_count": 5,
   "metadata": {},
   "outputs": [
    {
     "name": "stdout",
     "output_type": "stream",
     "text": [
      "Is Testing, #records: 2323374\n"
     ]
    }
   ],
   "source": [
    "events_dtypes = {\n",
    "    'event_id': np.int64,\n",
    "    'ref_type': np.int64,\n",
    "    'ref_hash': np.int64,\n",
    "    'application_id': np.int64,\n",
    "    'attributed': np.bool,\n",
    "    'device_os_version': 'object',\n",
    "    'device_brand': 'object',\n",
    "    'device_model': 'object',\n",
    "    'device_city': 'object',\n",
    "    'session_user_agent': 'object',\n",
    "    'trans_id': 'category',\n",
    "    'user_agent': 'object',\n",
    "    'event_uuid': 'object',\n",
    "    'carrier': 'object',\n",
    "    'kind': 'object',\n",
    "    'device_os': 'object',\n",
    "    'wifi': np.bool,\n",
    "    'connection_type': 'object',\n",
    "    #'ip_address': np.int64,\n",
    "    #'device_language': 'category'\n",
    "}\n",
    "events_cols = list(events_dtypes.keys()) + ['date']\n",
    "events = pd.read_csv(root_dir + 'events.csv.gzip', \n",
    "                     compression='gzip',\n",
    "                     dtype=events_dtypes,\n",
    "                     usecols=events_cols,\n",
    "                     parse_dates=['date'])\n",
    "events['n'] = 1\n",
    "# Para hacer pruebas ocupando menos memoria se hace un sampleo aleatorio de la mitad del dataframe y se elimina el resto\n",
    "if is_testing:\n",
    "    events = events.sample(frac=.30)\n",
    "    print(\"Is Testing, #records:\", events['n'].sum())\n",
    "else:\n",
    "    print(\"Not Testing, #records:\", events['n'].sum())"
   ]
  },
  {
   "cell_type": "code",
   "execution_count": 6,
   "metadata": {},
   "outputs": [],
   "source": [
    "# Labels a submitir con las predicciones\n",
    "\n",
    "to_predict = pd.read_csv(root_dir + 'target_final_competencia_revamped.csv')\n",
    "to_predict = to_predict.apply(lambda x: np.int64(x['ref_hash'][0:x['ref_hash'].find('_')]), axis='columns').drop_duplicates().to_frame()\n",
    "to_predict.columns = ['ref_hash']"
   ]
  },
  {
   "cell_type": "markdown",
   "metadata": {},
   "source": [
    "---\n",
    "## 2. Arreglo de los Datos\n",
    "\n",
    "### 2.1 Arreglo de datos de Auctions\n"
   ]
  },
  {
   "cell_type": "code",
   "execution_count": 7,
   "metadata": {},
   "outputs": [
    {
     "name": "stdout",
     "output_type": "stream",
     "text": [
      "Eliminados: 791731\n"
     ]
    }
   ],
   "source": [
    "#Elimino los registros con menos de un minimo de entradas, ya que no hay mucho que predecir en estos casos\n",
    "orig_count = auctions['n'].sum()\n",
    "auctions = auctions.groupby(device_uuid, sort = False).filter(lambda x: x['n'].sum() >= min_devices) \n",
    "last_count = auctions['n'].sum()\n",
    "print('Eliminados:', orig_count-last_count)"
   ]
  },
  {
   "cell_type": "code",
   "execution_count": 8,
   "metadata": {},
   "outputs": [],
   "source": [
    "auctions.sort_values(by=(device_uuid+['date']), inplace=True)\n",
    "auctions['next_date'] = auctions.groupby(device_uuid, as_index = False, sort=False)['date'].transform(lambda x: x.shift(-1))\n",
    "auctions = auctions.loc[(~auctions['next_date'].isnull())]\n",
    "auctions['secs_to_next'] = (auctions['next_date'] - auctions['date']).transform(lambda x: round(x.total_seconds()))"
   ]
  },
  {
   "cell_type": "code",
   "execution_count": 9,
   "metadata": {},
   "outputs": [
    {
     "data": {
      "text/plain": [
       "13254235"
      ]
     },
     "execution_count": 9,
     "metadata": {},
     "output_type": "execute_result"
    }
   ],
   "source": [
    "auctions['n'].sum()"
   ]
  },
  {
   "cell_type": "code",
   "execution_count": 10,
   "metadata": {},
   "outputs": [
    {
     "data": {
      "text/plain": [
       "Timestamp('2019-04-18 00:00:00.154022')"
      ]
     },
     "execution_count": 10,
     "metadata": {},
     "output_type": "execute_result"
    }
   ],
   "source": [
    "auctions['date'].min()"
   ]
  },
  {
   "cell_type": "code",
   "execution_count": 11,
   "metadata": {},
   "outputs": [
    {
     "data": {
      "text/plain": [
       "Timestamp('2019-04-26 23:59:57.806699')"
      ]
     },
     "execution_count": 11,
     "metadata": {},
     "output_type": "execute_result"
    }
   ],
   "source": [
    "auctions['date'].max()"
   ]
  },
  {
   "cell_type": "code",
   "execution_count": 12,
   "metadata": {},
   "outputs": [
    {
     "data": {
      "text/html": [
       "<div>\n",
       "<style scoped>\n",
       "    .dataframe tbody tr th:only-of-type {\n",
       "        vertical-align: middle;\n",
       "    }\n",
       "\n",
       "    .dataframe tbody tr th {\n",
       "        vertical-align: top;\n",
       "    }\n",
       "\n",
       "    .dataframe thead th {\n",
       "        text-align: right;\n",
       "    }\n",
       "</style>\n",
       "<table border=\"1\" class=\"dataframe\">\n",
       "  <thead>\n",
       "    <tr style=\"text-align: right;\">\n",
       "      <th></th>\n",
       "      <th>date</th>\n",
       "      <th>ref_hash</th>\n",
       "      <th>ref_type</th>\n",
       "      <th>source_id</th>\n",
       "      <th>n</th>\n",
       "      <th>next_date</th>\n",
       "      <th>secs_to_next</th>\n",
       "    </tr>\n",
       "  </thead>\n",
       "  <tbody>\n",
       "    <tr>\n",
       "      <th>30900602</th>\n",
       "      <td>2019-04-19 19:40:28.465866</td>\n",
       "      <td>41863526108385</td>\n",
       "      <td>1</td>\n",
       "      <td>8</td>\n",
       "      <td>1</td>\n",
       "      <td>2019-04-20 02:52:26.892880</td>\n",
       "      <td>25918</td>\n",
       "    </tr>\n",
       "    <tr>\n",
       "      <th>14875535</th>\n",
       "      <td>2019-04-20 02:52:26.892880</td>\n",
       "      <td>41863526108385</td>\n",
       "      <td>1</td>\n",
       "      <td>3</td>\n",
       "      <td>1</td>\n",
       "      <td>2019-04-20 03:06:01.675788</td>\n",
       "      <td>815</td>\n",
       "    </tr>\n",
       "    <tr>\n",
       "      <th>45613542</th>\n",
       "      <td>2019-04-20 03:06:01.675788</td>\n",
       "      <td>41863526108385</td>\n",
       "      <td>1</td>\n",
       "      <td>3</td>\n",
       "      <td>1</td>\n",
       "      <td>2019-04-20 03:08:57.388160</td>\n",
       "      <td>176</td>\n",
       "    </tr>\n",
       "    <tr>\n",
       "      <th>42215232</th>\n",
       "      <td>2019-04-20 03:08:57.388160</td>\n",
       "      <td>41863526108385</td>\n",
       "      <td>1</td>\n",
       "      <td>3</td>\n",
       "      <td>1</td>\n",
       "      <td>2019-04-20 03:11:41.011671</td>\n",
       "      <td>164</td>\n",
       "    </tr>\n",
       "    <tr>\n",
       "      <th>12690007</th>\n",
       "      <td>2019-04-20 03:11:41.011671</td>\n",
       "      <td>41863526108385</td>\n",
       "      <td>1</td>\n",
       "      <td>3</td>\n",
       "      <td>1</td>\n",
       "      <td>2019-04-20 03:20:23.061467</td>\n",
       "      <td>522</td>\n",
       "    </tr>\n",
       "  </tbody>\n",
       "</table>\n",
       "</div>"
      ],
      "text/plain": [
       "                               date        ref_hash  ref_type  source_id  n  \\\n",
       "30900602 2019-04-19 19:40:28.465866  41863526108385         1          8  1   \n",
       "14875535 2019-04-20 02:52:26.892880  41863526108385         1          3  1   \n",
       "45613542 2019-04-20 03:06:01.675788  41863526108385         1          3  1   \n",
       "42215232 2019-04-20 03:08:57.388160  41863526108385         1          3  1   \n",
       "12690007 2019-04-20 03:11:41.011671  41863526108385         1          3  1   \n",
       "\n",
       "                          next_date  secs_to_next  \n",
       "30900602 2019-04-20 02:52:26.892880         25918  \n",
       "14875535 2019-04-20 03:06:01.675788           815  \n",
       "45613542 2019-04-20 03:08:57.388160           176  \n",
       "42215232 2019-04-20 03:11:41.011671           164  \n",
       "12690007 2019-04-20 03:20:23.061467           522  "
      ]
     },
     "execution_count": 12,
     "metadata": {},
     "output_type": "execute_result"
    }
   ],
   "source": [
    "auctions.head()"
   ]
  },
  {
   "cell_type": "markdown",
   "metadata": {},
   "source": [
    "### 2.2 Arreglo de datos de Installs"
   ]
  },
  {
   "cell_type": "code",
   "execution_count": 13,
   "metadata": {},
   "outputs": [],
   "source": [
    "installs['kind'] = installs['kind'].str.replace(' ','_')\n",
    "installs['kind'] = installs['kind'].str.replace('af_app_open ','af_app_opened')\n",
    "installs['kind'] = installs['kind'].str.replace('af_app_opend','af_app_opened')\n",
    "installs['kind'] = installs['kind'].str.lower()"
   ]
  },
  {
   "cell_type": "code",
   "execution_count": 14,
   "metadata": {},
   "outputs": [
    {
     "data": {
      "text/plain": [
       "created                    0\n",
       "application_id             0\n",
       "ref_type                   0\n",
       "ref_hash                   0\n",
       "attributed                 0\n",
       "implicit                   0\n",
       "device_brand          205068\n",
       "device_model           26892\n",
       "session_user_agent     14839\n",
       "user_agent            150743\n",
       "event_uuid            378343\n",
       "kind                  378343\n",
       "wifi                  186682\n",
       "trans_id              472578\n",
       "device_language        27577\n",
       "n                          0\n",
       "dtype: int64"
      ]
     },
     "execution_count": 14,
     "metadata": {},
     "output_type": "execute_result"
    }
   ],
   "source": [
    "installs.isnull().sum()"
   ]
  },
  {
   "cell_type": "code",
   "execution_count": 15,
   "metadata": {},
   "outputs": [],
   "source": [
    "for i in ['device_brand','device_model','session_user_agent','user_agent','kind','wifi','device_language']:\n",
    "    installs[i] = installs[i].fillna('unknown')\n",
    "installs['device_brand'] = installs['device_brand'].astype('category')\n",
    "installs['device_model'] = installs['device_model'].astype('category')\n",
    "installs['session_user_agent'] = installs['session_user_agent'].astype('category')\n",
    "installs['user_agent'] = installs['user_agent'].astype('category')\n",
    "installs['kind'] = installs['kind'].astype('category')\n",
    "installs['wifi'] = installs['wifi'].astype('category')\n",
    "installs['device_language'] = installs['device_language'].astype('category')"
   ]
  },
  {
   "cell_type": "code",
   "execution_count": 16,
   "metadata": {},
   "outputs": [
    {
     "data": {
      "text/html": [
       "<div>\n",
       "<style scoped>\n",
       "    .dataframe tbody tr th:only-of-type {\n",
       "        vertical-align: middle;\n",
       "    }\n",
       "\n",
       "    .dataframe tbody tr th {\n",
       "        vertical-align: top;\n",
       "    }\n",
       "\n",
       "    .dataframe thead th {\n",
       "        text-align: right;\n",
       "    }\n",
       "</style>\n",
       "<table border=\"1\" class=\"dataframe\">\n",
       "  <thead>\n",
       "    <tr style=\"text-align: right;\">\n",
       "      <th></th>\n",
       "      <th>0</th>\n",
       "      <th>1</th>\n",
       "      <th>2</th>\n",
       "      <th>3</th>\n",
       "      <th>4</th>\n",
       "    </tr>\n",
       "  </thead>\n",
       "  <tbody>\n",
       "    <tr>\n",
       "      <th>created</th>\n",
       "      <td>2019-04-24 06:23:29.495000</td>\n",
       "      <td>2019-04-24 02:06:01.032000</td>\n",
       "      <td>2019-04-20 10:15:36.274000</td>\n",
       "      <td>2019-04-20 21:56:47.151000</td>\n",
       "      <td>2019-04-20 22:40:41.239000</td>\n",
       "    </tr>\n",
       "    <tr>\n",
       "      <th>application_id</th>\n",
       "      <td>1</td>\n",
       "      <td>1</td>\n",
       "      <td>1</td>\n",
       "      <td>1</td>\n",
       "      <td>1</td>\n",
       "    </tr>\n",
       "    <tr>\n",
       "      <th>ref_type</th>\n",
       "      <td>1494519392962156891</td>\n",
       "      <td>1494519392962156891</td>\n",
       "      <td>1494519392962156891</td>\n",
       "      <td>1494519392962156891</td>\n",
       "      <td>1494519392962156891</td>\n",
       "    </tr>\n",
       "    <tr>\n",
       "      <th>ref_hash</th>\n",
       "      <td>4716708407362582887</td>\n",
       "      <td>7143568733100935872</td>\n",
       "      <td>5230323462636548010</td>\n",
       "      <td>5097163995161606833</td>\n",
       "      <td>6328027616411983332</td>\n",
       "    </tr>\n",
       "    <tr>\n",
       "      <th>attributed</th>\n",
       "      <td>False</td>\n",
       "      <td>False</td>\n",
       "      <td>False</td>\n",
       "      <td>False</td>\n",
       "      <td>False</td>\n",
       "    </tr>\n",
       "    <tr>\n",
       "      <th>implicit</th>\n",
       "      <td>True</td>\n",
       "      <td>False</td>\n",
       "      <td>True</td>\n",
       "      <td>True</td>\n",
       "      <td>False</td>\n",
       "    </tr>\n",
       "    <tr>\n",
       "      <th>device_brand</th>\n",
       "      <td>unknown</td>\n",
       "      <td>unknown</td>\n",
       "      <td>unknown</td>\n",
       "      <td>unknown</td>\n",
       "      <td>unknown</td>\n",
       "    </tr>\n",
       "    <tr>\n",
       "      <th>device_model</th>\n",
       "      <td>3.739127126472163e+17</td>\n",
       "      <td>7.80553892759877e+18</td>\n",
       "      <td>8.355495513718673e+18</td>\n",
       "      <td>2.3557720913769155e+18</td>\n",
       "      <td>6.156971151807135e+18</td>\n",
       "    </tr>\n",
       "    <tr>\n",
       "      <th>session_user_agent</th>\n",
       "      <td>adjust.com</td>\n",
       "      <td>adjust.com</td>\n",
       "      <td>adjust.com</td>\n",
       "      <td>adjust.com</td>\n",
       "      <td>adjust.com</td>\n",
       "    </tr>\n",
       "    <tr>\n",
       "      <th>user_agent</th>\n",
       "      <td>unknown</td>\n",
       "      <td>unknown</td>\n",
       "      <td>unknown</td>\n",
       "      <td>unknown</td>\n",
       "      <td>unknown</td>\n",
       "    </tr>\n",
       "    <tr>\n",
       "      <th>event_uuid</th>\n",
       "      <td>79837499-2f2a-4605-a663-e322f759424f</td>\n",
       "      <td>NaN</td>\n",
       "      <td>dda99e3c-9c4b-487d-891c-79f0a02cb4a8</td>\n",
       "      <td>7010c3ce-0fcf-46c6-9be8-374cc0e20af4</td>\n",
       "      <td>NaN</td>\n",
       "    </tr>\n",
       "    <tr>\n",
       "      <th>kind</th>\n",
       "      <td>app_open</td>\n",
       "      <td>unknown</td>\n",
       "      <td>app_open</td>\n",
       "      <td>app_open</td>\n",
       "      <td>unknown</td>\n",
       "    </tr>\n",
       "    <tr>\n",
       "      <th>wifi</th>\n",
       "      <td>unknown</td>\n",
       "      <td>unknown</td>\n",
       "      <td>unknown</td>\n",
       "      <td>unknown</td>\n",
       "      <td>unknown</td>\n",
       "    </tr>\n",
       "    <tr>\n",
       "      <th>trans_id</th>\n",
       "      <td>NaN</td>\n",
       "      <td>NaN</td>\n",
       "      <td>NaN</td>\n",
       "      <td>NaN</td>\n",
       "      <td>NaN</td>\n",
       "    </tr>\n",
       "    <tr>\n",
       "      <th>device_language</th>\n",
       "      <td>3.3013777759776993e+18</td>\n",
       "      <td>3.3013777759776993e+18</td>\n",
       "      <td>4.060929664968129e+18</td>\n",
       "      <td>3.3013777759776993e+18</td>\n",
       "      <td>3.3013777759776993e+18</td>\n",
       "    </tr>\n",
       "    <tr>\n",
       "      <th>n</th>\n",
       "      <td>1</td>\n",
       "      <td>1</td>\n",
       "      <td>1</td>\n",
       "      <td>1</td>\n",
       "      <td>1</td>\n",
       "    </tr>\n",
       "  </tbody>\n",
       "</table>\n",
       "</div>"
      ],
      "text/plain": [
       "                                                       0  \\\n",
       "created                       2019-04-24 06:23:29.495000   \n",
       "application_id                                         1   \n",
       "ref_type                             1494519392962156891   \n",
       "ref_hash                             4716708407362582887   \n",
       "attributed                                         False   \n",
       "implicit                                            True   \n",
       "device_brand                                     unknown   \n",
       "device_model                       3.739127126472163e+17   \n",
       "session_user_agent                            adjust.com   \n",
       "user_agent                                       unknown   \n",
       "event_uuid          79837499-2f2a-4605-a663-e322f759424f   \n",
       "kind                                            app_open   \n",
       "wifi                                             unknown   \n",
       "trans_id                                             NaN   \n",
       "device_language                   3.3013777759776993e+18   \n",
       "n                                                      1   \n",
       "\n",
       "                                             1  \\\n",
       "created             2019-04-24 02:06:01.032000   \n",
       "application_id                               1   \n",
       "ref_type                   1494519392962156891   \n",
       "ref_hash                   7143568733100935872   \n",
       "attributed                               False   \n",
       "implicit                                 False   \n",
       "device_brand                           unknown   \n",
       "device_model              7.80553892759877e+18   \n",
       "session_user_agent                  adjust.com   \n",
       "user_agent                             unknown   \n",
       "event_uuid                                 NaN   \n",
       "kind                                   unknown   \n",
       "wifi                                   unknown   \n",
       "trans_id                                   NaN   \n",
       "device_language         3.3013777759776993e+18   \n",
       "n                                            1   \n",
       "\n",
       "                                                       2  \\\n",
       "created                       2019-04-20 10:15:36.274000   \n",
       "application_id                                         1   \n",
       "ref_type                             1494519392962156891   \n",
       "ref_hash                             5230323462636548010   \n",
       "attributed                                         False   \n",
       "implicit                                            True   \n",
       "device_brand                                     unknown   \n",
       "device_model                       8.355495513718673e+18   \n",
       "session_user_agent                            adjust.com   \n",
       "user_agent                                       unknown   \n",
       "event_uuid          dda99e3c-9c4b-487d-891c-79f0a02cb4a8   \n",
       "kind                                            app_open   \n",
       "wifi                                             unknown   \n",
       "trans_id                                             NaN   \n",
       "device_language                    4.060929664968129e+18   \n",
       "n                                                      1   \n",
       "\n",
       "                                                       3  \\\n",
       "created                       2019-04-20 21:56:47.151000   \n",
       "application_id                                         1   \n",
       "ref_type                             1494519392962156891   \n",
       "ref_hash                             5097163995161606833   \n",
       "attributed                                         False   \n",
       "implicit                                            True   \n",
       "device_brand                                     unknown   \n",
       "device_model                      2.3557720913769155e+18   \n",
       "session_user_agent                            adjust.com   \n",
       "user_agent                                       unknown   \n",
       "event_uuid          7010c3ce-0fcf-46c6-9be8-374cc0e20af4   \n",
       "kind                                            app_open   \n",
       "wifi                                             unknown   \n",
       "trans_id                                             NaN   \n",
       "device_language                   3.3013777759776993e+18   \n",
       "n                                                      1   \n",
       "\n",
       "                                             4  \n",
       "created             2019-04-20 22:40:41.239000  \n",
       "application_id                               1  \n",
       "ref_type                   1494519392962156891  \n",
       "ref_hash                   6328027616411983332  \n",
       "attributed                               False  \n",
       "implicit                                 False  \n",
       "device_brand                           unknown  \n",
       "device_model             6.156971151807135e+18  \n",
       "session_user_agent                  adjust.com  \n",
       "user_agent                             unknown  \n",
       "event_uuid                                 NaN  \n",
       "kind                                   unknown  \n",
       "wifi                                   unknown  \n",
       "trans_id                                   NaN  \n",
       "device_language         3.3013777759776993e+18  \n",
       "n                                            1  "
      ]
     },
     "execution_count": 16,
     "metadata": {},
     "output_type": "execute_result"
    }
   ],
   "source": [
    "installs.head().transpose()"
   ]
  },
  {
   "cell_type": "markdown",
   "metadata": {},
   "source": [
    "### 2.3 Arreglo de datos de Clicks"
   ]
  },
  {
   "cell_type": "code",
   "execution_count": 17,
   "metadata": {},
   "outputs": [],
   "source": [
    "clicks.touchX = clicks.touchX.apply(lambda x: np.float64(x))\n",
    "clicks.touchY = clicks.touchY.apply(lambda x: np.float64(x))\n",
    "clicks['created'] = clicks['created'].dt.tz_localize(None)"
   ]
  },
  {
   "cell_type": "code",
   "execution_count": 18,
   "metadata": {},
   "outputs": [],
   "source": [
    "for i in ['carrier_id','os_minor', 'agent_device', 'brand', 'os_major']:\n",
    "    clicks[i] = clicks[i].fillna('unknown').astype('category')"
   ]
  },
  {
   "cell_type": "code",
   "execution_count": 19,
   "metadata": {},
   "outputs": [
    {
     "data": {
      "text/plain": [
       "advertiser_id          0\n",
       "action_id          64289\n",
       "source_id              0\n",
       "created                0\n",
       "country_code           0\n",
       "latitude               0\n",
       "longitude              0\n",
       "wifi_connection        0\n",
       "carrier_id             0\n",
       "trans_id               0\n",
       "os_minor               0\n",
       "agent_device           0\n",
       "os_major               0\n",
       "specs_brand            0\n",
       "brand                  0\n",
       "timeToClick        26118\n",
       "touchX             20618\n",
       "touchY             20618\n",
       "ref_type               0\n",
       "ref_hash               0\n",
       "n                      0\n",
       "dtype: int64"
      ]
     },
     "execution_count": 19,
     "metadata": {},
     "output_type": "execute_result"
    }
   ],
   "source": [
    "clicks.isnull().sum()"
   ]
  },
  {
   "cell_type": "markdown",
   "metadata": {},
   "source": [
    "### 2.4 Arreglo de datos de Events"
   ]
  },
  {
   "cell_type": "code",
   "execution_count": 20,
   "metadata": {},
   "outputs": [],
   "source": [
    "for i in ['device_os_version','device_brand','device_model','device_city','session_user_agent','user_agent','carrier','kind','device_os','connection_type']:\n",
    "    events[i] = events[i].fillna('unknown').astype('category')"
   ]
  },
  {
   "cell_type": "code",
   "execution_count": 21,
   "metadata": {},
   "outputs": [
    {
     "data": {
      "text/plain": [
       "date                        0\n",
       "event_id                    0\n",
       "ref_type                    0\n",
       "ref_hash                    0\n",
       "application_id              0\n",
       "attributed                  0\n",
       "device_os_version           0\n",
       "device_brand                0\n",
       "device_model                0\n",
       "device_city                 0\n",
       "session_user_agent          0\n",
       "trans_id              2312088\n",
       "user_agent                  0\n",
       "event_uuid               8851\n",
       "carrier                     0\n",
       "kind                        0\n",
       "device_os                   0\n",
       "wifi                        0\n",
       "connection_type             0\n",
       "n                           0\n",
       "dtype: int64"
      ]
     },
     "execution_count": 21,
     "metadata": {},
     "output_type": "execute_result"
    }
   ],
   "source": [
    "events.isnull().sum()"
   ]
  },
  {
   "cell_type": "markdown",
   "metadata": {},
   "source": [
    "---\n",
    "Separado de las ventanas de tiempo\n",
    "----------------------------------\n",
    "\n",
    "### Separo las semanas de entrenamiento\n",
    "\n",
    "Se pueden utilizar distintos metodos: \n",
    "\n",
    "- Se arman ventanas de 3 días para predecir 3 dias\n",
    "- Se arman ventanas de n-1 dias para predecir n a n+2 dias.\n",
    "\n",
    "Para el caso de estudio se utiliza la opcion de maximizar la cantidad de datos para predecir cada ventana.\n",
    "\n",
    "Los datos pueden entonces estar en las siguientes ventanas y deben solo usarse para predecir la ventana correspondiente en los sets de training.\n",
    "\n",
    "Las ventanas de los sets de entrenamiento son: \n",
    "\n",
    "1. 21 al 23\n",
    "2. 22 al 24\n",
    "3. 23 al 25\n",
    "4. 24 al 26\n",
    "\n",
    "Entonces las ventanas armadas serán:\n",
    "1. 18 al 20\n",
    "2. 18 al 21\n",
    "3. 18 al 22\n",
    "4. 18 al 23"
   ]
  },
  {
   "cell_type": "markdown",
   "metadata": {},
   "source": [
    "---\n",
    "## 3. Armado de Features\n",
    "\n",
    "A continuacion se comienzan a extraer los distintos features que formaran el set de entrenamiento. \n",
    "Se cruza cada ventana con los labels que se desean predecir. \n",
    "\n",
    "Para entrenar el set debe decidirse como utilizar los datos de las distintas ventanas. \n",
    "\n",
    "- Una opcion será mezclar todos los datos pero hay que decidir que hacer con los equipos que aparecen mas de una vez. \n",
    "\n",
    "- La segunda opcion es entrenar 4 modelos distintos y verificar que haya una mejora en todos ellos."
   ]
  },
  {
   "cell_type": "code",
   "execution_count": 22,
   "metadata": {},
   "outputs": [],
   "source": [
    "# Entreno con ventana de 18 al 23 y valido con ventana del 24 al 26\n",
    "cutoff_date = windows.set_index('window_nr').loc[4,'max_date']\n",
    "\n",
    "train_auctions = auctions.loc[auctions['date'] < cutoff_date]\n",
    "train_installs = installs.loc[installs['created'] < cutoff_date]\n",
    "train_events = events.loc[events['date'] < cutoff_date]\n",
    "train_clicks = clicks.loc[clicks['created'] < cutoff_date]"
   ]
  },
  {
   "cell_type": "code",
   "execution_count": 45,
   "metadata": {},
   "outputs": [],
   "source": [
    "labels_installs = installs.loc[installs['created'] >= cutoff_date]"
   ]
  },
  {
   "cell_type": "code",
   "execution_count": 23,
   "metadata": {},
   "outputs": [
    {
     "data": {
      "text/plain": [
       "166807"
      ]
     },
     "execution_count": 23,
     "metadata": {},
     "output_type": "execute_result"
    }
   ],
   "source": [
    "devices = train_auctions[device_uuid].drop_duplicates()\n",
    "devices['ref_hash'].count()"
   ]
  },
  {
   "cell_type": "markdown",
   "metadata": {},
   "source": [
    "### Armado de tiempo entre arribos\n",
    "\n",
    "Se desea saber el tiempo promedio entre arribos de los dispositivos a las encuestas."
   ]
  },
  {
   "cell_type": "code",
   "execution_count": 24,
   "metadata": {},
   "outputs": [],
   "source": [
    "#filtered = auctions.loc[auctions['secs_to_next'] < 120]"
   ]
  },
  {
   "cell_type": "code",
   "execution_count": 30,
   "metadata": {},
   "outputs": [],
   "source": [
    "temp = train_auctions.groupby(device_uuid, as_index='False')['secs_to_next'].mean().to_frame()\n",
    "temp.columns = ['secs_to_next_mean']\n",
    "\n",
    "devices = devices.merge(temp, how='left', on=device_uuid).set_index(device_uuid)"
   ]
  },
  {
   "cell_type": "code",
   "execution_count": 31,
   "metadata": {},
   "outputs": [
    {
     "data": {
      "text/html": [
       "<div>\n",
       "<style scoped>\n",
       "    .dataframe tbody tr th:only-of-type {\n",
       "        vertical-align: middle;\n",
       "    }\n",
       "\n",
       "    .dataframe tbody tr th {\n",
       "        vertical-align: top;\n",
       "    }\n",
       "\n",
       "    .dataframe thead th {\n",
       "        text-align: right;\n",
       "    }\n",
       "</style>\n",
       "<table border=\"1\" class=\"dataframe\">\n",
       "  <thead>\n",
       "    <tr style=\"text-align: right;\">\n",
       "      <th></th>\n",
       "      <th></th>\n",
       "      <th>secs_to_next_mean</th>\n",
       "    </tr>\n",
       "    <tr>\n",
       "      <th>ref_type</th>\n",
       "      <th>ref_hash</th>\n",
       "      <th></th>\n",
       "    </tr>\n",
       "  </thead>\n",
       "  <tbody>\n",
       "    <tr>\n",
       "      <th rowspan=\"5\" valign=\"top\">1</th>\n",
       "      <th>41863526108385</th>\n",
       "      <td>2422.538462</td>\n",
       "    </tr>\n",
       "    <tr>\n",
       "      <th>186034136943920</th>\n",
       "      <td>18332.304348</td>\n",
       "    </tr>\n",
       "    <tr>\n",
       "      <th>345999128501141</th>\n",
       "      <td>32896.714286</td>\n",
       "    </tr>\n",
       "    <tr>\n",
       "      <th>360710529886978</th>\n",
       "      <td>84419.166667</td>\n",
       "    </tr>\n",
       "    <tr>\n",
       "      <th>416301579449694</th>\n",
       "      <td>35260.600000</td>\n",
       "    </tr>\n",
       "  </tbody>\n",
       "</table>\n",
       "</div>"
      ],
      "text/plain": [
       "                          secs_to_next_mean\n",
       "ref_type ref_hash                          \n",
       "1        41863526108385         2422.538462\n",
       "         186034136943920       18332.304348\n",
       "         345999128501141       32896.714286\n",
       "         360710529886978       84419.166667\n",
       "         416301579449694       35260.600000"
      ]
     },
     "execution_count": 31,
     "metadata": {},
     "output_type": "execute_result"
    }
   ],
   "source": [
    "devices.head()"
   ]
  },
  {
   "cell_type": "markdown",
   "metadata": {},
   "source": [
    "### Tiempo desde ultima aparicion"
   ]
  },
  {
   "cell_type": "code",
   "execution_count": 32,
   "metadata": {},
   "outputs": [],
   "source": [
    "max_date = train_auctions['date'].max()"
   ]
  },
  {
   "cell_type": "code",
   "execution_count": 33,
   "metadata": {},
   "outputs": [],
   "source": [
    "time = train_auctions.groupby(device_uuid).apply(lambda x: round((max_date - x['date'].max()).total_seconds())).to_frame()\n",
    "time.columns = ['secs_since_last_arrival']"
   ]
  },
  {
   "cell_type": "code",
   "execution_count": 35,
   "metadata": {},
   "outputs": [],
   "source": [
    "devices = devices.merge(time, how='left', left_index=True, right_index=True)"
   ]
  },
  {
   "cell_type": "code",
   "execution_count": 36,
   "metadata": {},
   "outputs": [
    {
     "data": {
      "text/html": [
       "<div>\n",
       "<style scoped>\n",
       "    .dataframe tbody tr th:only-of-type {\n",
       "        vertical-align: middle;\n",
       "    }\n",
       "\n",
       "    .dataframe tbody tr th {\n",
       "        vertical-align: top;\n",
       "    }\n",
       "\n",
       "    .dataframe thead th {\n",
       "        text-align: right;\n",
       "    }\n",
       "</style>\n",
       "<table border=\"1\" class=\"dataframe\">\n",
       "  <thead>\n",
       "    <tr style=\"text-align: right;\">\n",
       "      <th></th>\n",
       "      <th></th>\n",
       "      <th>secs_to_next_mean</th>\n",
       "      <th>secs_since_last_arrival_x</th>\n",
       "      <th>secs_since_last_arrival_y</th>\n",
       "    </tr>\n",
       "    <tr>\n",
       "      <th>ref_type</th>\n",
       "      <th>ref_hash</th>\n",
       "      <th></th>\n",
       "      <th></th>\n",
       "      <th></th>\n",
       "    </tr>\n",
       "  </thead>\n",
       "  <tbody>\n",
       "    <tr>\n",
       "      <th rowspan=\"5\" valign=\"top\">1</th>\n",
       "      <th>41863526108385</th>\n",
       "      <td>2422.538462</td>\n",
       "      <td>329859</td>\n",
       "      <td>329859</td>\n",
       "    </tr>\n",
       "    <tr>\n",
       "      <th>186034136943920</th>\n",
       "      <td>18332.304348</td>\n",
       "      <td>37583</td>\n",
       "      <td>37583</td>\n",
       "    </tr>\n",
       "    <tr>\n",
       "      <th>345999128501141</th>\n",
       "      <td>32896.714286</td>\n",
       "      <td>6225</td>\n",
       "      <td>6225</td>\n",
       "    </tr>\n",
       "    <tr>\n",
       "      <th>360710529886978</th>\n",
       "      <td>84419.166667</td>\n",
       "      <td>294147</td>\n",
       "      <td>294147</td>\n",
       "    </tr>\n",
       "    <tr>\n",
       "      <th>416301579449694</th>\n",
       "      <td>35260.600000</td>\n",
       "      <td>165353</td>\n",
       "      <td>165353</td>\n",
       "    </tr>\n",
       "  </tbody>\n",
       "</table>\n",
       "</div>"
      ],
      "text/plain": [
       "                          secs_to_next_mean  secs_since_last_arrival_x  \\\n",
       "ref_type ref_hash                                                        \n",
       "1        41863526108385         2422.538462                     329859   \n",
       "         186034136943920       18332.304348                      37583   \n",
       "         345999128501141       32896.714286                       6225   \n",
       "         360710529886978       84419.166667                     294147   \n",
       "         416301579449694       35260.600000                     165353   \n",
       "\n",
       "                          secs_since_last_arrival_y  \n",
       "ref_type ref_hash                                    \n",
       "1        41863526108385                      329859  \n",
       "         186034136943920                      37583  \n",
       "         345999128501141                       6225  \n",
       "         360710529886978                     294147  \n",
       "         416301579449694                     165353  "
      ]
     },
     "execution_count": 36,
     "metadata": {},
     "output_type": "execute_result"
    }
   ],
   "source": [
    "devices.head()"
   ]
  },
  {
   "cell_type": "markdown",
   "metadata": {},
   "source": [
    "### Cantidad de apariciones en encuestas "
   ]
  },
  {
   "cell_type": "code",
   "execution_count": 38,
   "metadata": {},
   "outputs": [
    {
     "data": {
      "text/html": [
       "<div>\n",
       "<style scoped>\n",
       "    .dataframe tbody tr th:only-of-type {\n",
       "        vertical-align: middle;\n",
       "    }\n",
       "\n",
       "    .dataframe tbody tr th {\n",
       "        vertical-align: top;\n",
       "    }\n",
       "\n",
       "    .dataframe thead th {\n",
       "        text-align: right;\n",
       "    }\n",
       "</style>\n",
       "<table border=\"1\" class=\"dataframe\">\n",
       "  <thead>\n",
       "    <tr style=\"text-align: right;\">\n",
       "      <th></th>\n",
       "      <th></th>\n",
       "      <th>secs_to_next_mean</th>\n",
       "      <th>secs_since_last_arrival_x</th>\n",
       "      <th>secs_since_last_arrival_y</th>\n",
       "      <th>auctions_total</th>\n",
       "    </tr>\n",
       "    <tr>\n",
       "      <th>ref_type</th>\n",
       "      <th>ref_hash</th>\n",
       "      <th></th>\n",
       "      <th></th>\n",
       "      <th></th>\n",
       "      <th></th>\n",
       "    </tr>\n",
       "  </thead>\n",
       "  <tbody>\n",
       "    <tr>\n",
       "      <th rowspan=\"5\" valign=\"top\">1</th>\n",
       "      <th>41863526108385</th>\n",
       "      <td>2422.538462</td>\n",
       "      <td>329859</td>\n",
       "      <td>329859</td>\n",
       "      <td>13</td>\n",
       "    </tr>\n",
       "    <tr>\n",
       "      <th>186034136943920</th>\n",
       "      <td>18332.304348</td>\n",
       "      <td>37583</td>\n",
       "      <td>37583</td>\n",
       "      <td>23</td>\n",
       "    </tr>\n",
       "    <tr>\n",
       "      <th>345999128501141</th>\n",
       "      <td>32896.714286</td>\n",
       "      <td>6225</td>\n",
       "      <td>6225</td>\n",
       "      <td>14</td>\n",
       "    </tr>\n",
       "    <tr>\n",
       "      <th>360710529886978</th>\n",
       "      <td>84419.166667</td>\n",
       "      <td>294147</td>\n",
       "      <td>294147</td>\n",
       "      <td>6</td>\n",
       "    </tr>\n",
       "    <tr>\n",
       "      <th>416301579449694</th>\n",
       "      <td>35260.600000</td>\n",
       "      <td>165353</td>\n",
       "      <td>165353</td>\n",
       "      <td>10</td>\n",
       "    </tr>\n",
       "  </tbody>\n",
       "</table>\n",
       "</div>"
      ],
      "text/plain": [
       "                          secs_to_next_mean  secs_since_last_arrival_x  \\\n",
       "ref_type ref_hash                                                        \n",
       "1        41863526108385         2422.538462                     329859   \n",
       "         186034136943920       18332.304348                      37583   \n",
       "         345999128501141       32896.714286                       6225   \n",
       "         360710529886978       84419.166667                     294147   \n",
       "         416301579449694       35260.600000                     165353   \n",
       "\n",
       "                          secs_since_last_arrival_y  auctions_total  \n",
       "ref_type ref_hash                                                    \n",
       "1        41863526108385                      329859              13  \n",
       "         186034136943920                      37583              23  \n",
       "         345999128501141                       6225              14  \n",
       "         360710529886978                     294147               6  \n",
       "         416301579449694                     165353              10  "
      ]
     },
     "execution_count": 38,
     "metadata": {},
     "output_type": "execute_result"
    }
   ],
   "source": [
    "amount_auctions = train_auctions.groupby(device_uuid)['n'].count().to_frame()\n",
    "amount_auctions.columns = ['auctions_total']\n",
    "devices = devices.merge(amount_auctions,how = 'left', left_index=True, right_index=True)\n",
    "devices.head()"
   ]
  },
  {
   "cell_type": "code",
   "execution_count": 39,
   "metadata": {},
   "outputs": [
    {
     "data": {
      "text/html": [
       "<div>\n",
       "<style scoped>\n",
       "    .dataframe tbody tr th:only-of-type {\n",
       "        vertical-align: middle;\n",
       "    }\n",
       "\n",
       "    .dataframe tbody tr th {\n",
       "        vertical-align: top;\n",
       "    }\n",
       "\n",
       "    .dataframe thead th {\n",
       "        text-align: right;\n",
       "    }\n",
       "</style>\n",
       "<table border=\"1\" class=\"dataframe\">\n",
       "  <thead>\n",
       "    <tr style=\"text-align: right;\">\n",
       "      <th></th>\n",
       "      <th></th>\n",
       "      <th>secs_to_next_mean</th>\n",
       "      <th>secs_since_last_arrival_x</th>\n",
       "      <th>secs_since_last_arrival_y</th>\n",
       "      <th>auctions_total</th>\n",
       "      <th>auctions_last_hour</th>\n",
       "    </tr>\n",
       "    <tr>\n",
       "      <th>ref_type</th>\n",
       "      <th>ref_hash</th>\n",
       "      <th></th>\n",
       "      <th></th>\n",
       "      <th></th>\n",
       "      <th></th>\n",
       "      <th></th>\n",
       "    </tr>\n",
       "  </thead>\n",
       "  <tbody>\n",
       "    <tr>\n",
       "      <th rowspan=\"5\" valign=\"top\">1</th>\n",
       "      <th>41863526108385</th>\n",
       "      <td>2422.538462</td>\n",
       "      <td>329859</td>\n",
       "      <td>329859</td>\n",
       "      <td>13</td>\n",
       "      <td>0</td>\n",
       "    </tr>\n",
       "    <tr>\n",
       "      <th>186034136943920</th>\n",
       "      <td>18332.304348</td>\n",
       "      <td>37583</td>\n",
       "      <td>37583</td>\n",
       "      <td>23</td>\n",
       "      <td>0</td>\n",
       "    </tr>\n",
       "    <tr>\n",
       "      <th>345999128501141</th>\n",
       "      <td>32896.714286</td>\n",
       "      <td>6225</td>\n",
       "      <td>6225</td>\n",
       "      <td>14</td>\n",
       "      <td>0</td>\n",
       "    </tr>\n",
       "    <tr>\n",
       "      <th>360710529886978</th>\n",
       "      <td>84419.166667</td>\n",
       "      <td>294147</td>\n",
       "      <td>294147</td>\n",
       "      <td>6</td>\n",
       "      <td>0</td>\n",
       "    </tr>\n",
       "    <tr>\n",
       "      <th>416301579449694</th>\n",
       "      <td>35260.600000</td>\n",
       "      <td>165353</td>\n",
       "      <td>165353</td>\n",
       "      <td>10</td>\n",
       "      <td>0</td>\n",
       "    </tr>\n",
       "  </tbody>\n",
       "</table>\n",
       "</div>"
      ],
      "text/plain": [
       "                          secs_to_next_mean  secs_since_last_arrival_x  \\\n",
       "ref_type ref_hash                                                        \n",
       "1        41863526108385         2422.538462                     329859   \n",
       "         186034136943920       18332.304348                      37583   \n",
       "         345999128501141       32896.714286                       6225   \n",
       "         360710529886978       84419.166667                     294147   \n",
       "         416301579449694       35260.600000                     165353   \n",
       "\n",
       "                          secs_since_last_arrival_y  auctions_total  \\\n",
       "ref_type ref_hash                                                     \n",
       "1        41863526108385                      329859              13   \n",
       "         186034136943920                      37583              23   \n",
       "         345999128501141                       6225              14   \n",
       "         360710529886978                     294147               6   \n",
       "         416301579449694                     165353              10   \n",
       "\n",
       "                          auctions_last_hour  \n",
       "ref_type ref_hash                             \n",
       "1        41863526108385                    0  \n",
       "         186034136943920                   0  \n",
       "         345999128501141                   0  \n",
       "         360710529886978                   0  \n",
       "         416301579449694                   0  "
      ]
     },
     "execution_count": 39,
     "metadata": {},
     "output_type": "execute_result"
    }
   ],
   "source": [
    "amount_last_auctions = train_auctions.groupby(device_uuid).apply(lambda x: x.loc[x['date'] > (max_date - timedelta(hours=1)),'n'].count()).to_frame()\n",
    "amount_last_auctions.columns = ['auctions_last_hour']\n",
    "devices = devices.merge(amount_last_auctions, how='left', left_index=True, right_index=True)\n",
    "devices.head()"
   ]
  },
  {
   "cell_type": "markdown",
   "metadata": {},
   "source": [
    "### Secuencia de ultimos 5 eventos del dispositivo"
   ]
  },
  {
   "cell_type": "markdown",
   "metadata": {},
   "source": [
    "---\n",
    "## 4. Armado de Labels \n",
    "\n",
    "### 4.1. Prediccion de Installs"
   ]
  },
  {
   "cell_type": "code",
   "execution_count": 65,
   "metadata": {},
   "outputs": [
    {
     "data": {
      "text/plain": [
       "166807"
      ]
     },
     "execution_count": 65,
     "metadata": {},
     "output_type": "execute_result"
    }
   ],
   "source": [
    "all_ref_hash = devices.reset_index()[device_uuid].drop_duplicates()\n",
    "len(all_ref_hash)"
   ]
  },
  {
   "cell_type": "code",
   "execution_count": 67,
   "metadata": {},
   "outputs": [
    {
     "data": {
      "text/plain": [
       "1    398906\n",
       "7     82605\n",
       "Name: ref_type, dtype: int64"
      ]
     },
     "execution_count": 67,
     "metadata": {},
     "output_type": "execute_result"
    }
   ],
   "source": [
    "installs['ref_type'].value_counts()"
   ]
  },
  {
   "cell_type": "code",
   "execution_count": 76,
   "metadata": {},
   "outputs": [
    {
     "name": "stdout",
     "output_type": "stream",
     "text": [
      "Ventana:  1\n",
      "  Encontrados:  133339\n",
      "  Agregados sin installs en esta ventana:  136817\n",
      "Ventana:  2\n",
      "  Encontrados:  132890\n",
      "  Agregados sin installs en esta ventana:  138163\n",
      "Ventana:  3\n",
      "  Encontrados:  133920\n",
      "  Agregados sin installs en esta ventana:  139592\n",
      "Ventana:  4\n",
      "  Encontrados:  138336\n",
      "  Agregados sin installs en esta ventana:  140101\n"
     ]
    }
   ],
   "source": [
    "window = 3\n",
    "j=1\n",
    "installs_training = pd.DataFrame()\n",
    "\n",
    "for i in range(21,25): #[19, 20, 21, 22, 23, 24]\n",
    "    print(\"Ventana: \", j)\n",
    "    temp = pd.DataFrame()\n",
    "    \n",
    "    temp[device_uuid + ['date_install']] = installs.loc[(installs['created'].dt.day >= i) & (installs['created'].dt.day < (i+window))]\\\n",
    "                                                    .groupby(device_uuid, as_index=False)['created'].min()\n",
    "    temp['window_nr'] = j\n",
    "    temp['window_date_start'] = dt.datetime(2019,4,i)\n",
    "    temp['secs_to_install'] = (temp['date_install']-temp['window_date_start']).transform(lambda x: x.total_seconds())\n",
    "    print(\"  Encontrados: \", len(temp))\n",
    "    installs_training = installs_training.append(temp,sort=True)\n",
    "    \n",
    "    #Agrego los que no se encontraron en esta ventana pero si estan en installs (aparecen en alguna)\n",
    "    temp = all_ref_hash.merge(installs_training.loc[installs_training['window_nr'] == j], how='left',on=device_uuid)\n",
    "    temp = temp.loc[temp['window_nr'].isnull()]\n",
    "    temp['window_nr'] = j\n",
    "    temp['window_date_start'] = dt.datetime(2019,4,i)\n",
    "    temp['date_install'] = dt.datetime(2019,4,i+window)\n",
    "    temp['secs_to_install'] = (temp['date_install']-temp['window_date_start']).transform(lambda x: x.total_seconds())\n",
    "    print(\"  Agregados sin installs en esta ventana: \", len(temp))\n",
    "    installs_training = installs_training.append(temp,sort=True)\n",
    "    \n",
    "    #Agrego los que no se encontraron en install pero se deben predecir conversiones\n",
    "    #temp = to_predict.merge(installs_training.loc[installs_training['window_nr'] == j], how='left', on='ref_hash')\n",
    "    #temp = temp.loc[temp['window_nr'].isnull()]\n",
    "    #print(\"  Agregados sin installs pero en lista a predecir: \", len(temp))\n",
    "    #temp['window_nr'] = j\n",
    "    #temp['window_date_start'] = dt.datetime(2019,4,i)\n",
    "    #temp['date_install'] = dt.datetime(2019,4,i+window)\n",
    "    #temp['secs_to_install'] = (temp['date_install']-temp['window_date_start']).transform(lambda x: x.total_seconds())\n",
    "    #installs_training = installs_training.append(temp,sort=True)\n",
    "    \n",
    "    j = j+1\n",
    "\n",
    "sorted_installs = installs_training.sort_values(device_uuid + ['window_nr'])"
   ]
  },
  {
   "cell_type": "code",
   "execution_count": 77,
   "metadata": {},
   "outputs": [
    {
     "data": {
      "text/plain": [
       "4    278437\n",
       "3    273512\n",
       "2    271053\n",
       "1    270156\n",
       "Name: window_nr, dtype: int64"
      ]
     },
     "execution_count": 77,
     "metadata": {},
     "output_type": "execute_result"
    }
   ],
   "source": [
    "sorted_installs['window_nr'].value_counts()"
   ]
  },
  {
   "cell_type": "markdown",
   "metadata": {},
   "source": [
    "---\n",
    "## 5. Training "
   ]
  },
  {
   "cell_type": "code",
   "execution_count": 83,
   "metadata": {},
   "outputs": [],
   "source": [
    "training_set = devices.merge(sorted_installs.loc[sorted_installs['window_nr'] == 4, device_uuid+['secs_to_install']].set_index(device_uuid), left_index=True,right_index=True, how='left')"
   ]
  },
  {
   "cell_type": "code",
   "execution_count": 84,
   "metadata": {},
   "outputs": [
    {
     "data": {
      "text/plain": [
       "secs_to_next_mean            0\n",
       "secs_since_last_arrival_x    0\n",
       "secs_since_last_arrival_y    0\n",
       "auctions_total               0\n",
       "auctions_last_hour           0\n",
       "secs_to_install              0\n",
       "dtype: int64"
      ]
     },
     "execution_count": 84,
     "metadata": {},
     "output_type": "execute_result"
    }
   ],
   "source": [
    "training_set.isnull().sum()"
   ]
  },
  {
   "cell_type": "code",
   "execution_count": 87,
   "metadata": {},
   "outputs": [],
   "source": [
    "x=devices\n",
    "y=training_set['secs_to_install']\n",
    "\n",
    "x_train, x_test, y_train, y_test =  train_test_split(x,y)"
   ]
  },
  {
   "cell_type": "code",
   "execution_count": 88,
   "metadata": {},
   "outputs": [
    {
     "data": {
      "text/plain": [
       "RandomForestRegressor(bootstrap=True, criterion='mse', max_depth=None,\n",
       "                      max_features='auto', max_leaf_nodes=None,\n",
       "                      min_impurity_decrease=0.0, min_impurity_split=None,\n",
       "                      min_samples_leaf=1, min_samples_split=2,\n",
       "                      min_weight_fraction_leaf=0.0, n_estimators=100,\n",
       "                      n_jobs=None, oob_score=False, random_state=0, verbose=0,\n",
       "                      warm_start=False)"
      ]
     },
     "execution_count": 88,
     "metadata": {},
     "output_type": "execute_result"
    }
   ],
   "source": [
    "regr = RandomForestRegressor(random_state=0, n_estimators=100)\n",
    "regr.fit(x_train,y_train)"
   ]
  },
  {
   "cell_type": "markdown",
   "metadata": {},
   "source": [
    "---\n",
    "## 6. Prediccion"
   ]
  },
  {
   "cell_type": "code",
   "execution_count": 89,
   "metadata": {},
   "outputs": [],
   "source": [
    "y_predicted = regr.predict(x_test)"
   ]
  },
  {
   "cell_type": "markdown",
   "metadata": {},
   "source": [
    "---\n",
    "## 7. Validacion"
   ]
  },
  {
   "cell_type": "code",
   "execution_count": 90,
   "metadata": {},
   "outputs": [
    {
     "data": {
      "text/plain": [
       "3400688504.3380723"
      ]
     },
     "execution_count": 90,
     "metadata": {},
     "output_type": "execute_result"
    }
   ],
   "source": [
    "mean_squared_error(y_test,y_predicted)"
   ]
  },
  {
   "cell_type": "code",
   "execution_count": 91,
   "metadata": {},
   "outputs": [
    {
     "data": {
      "text/plain": [
       "array([0.41384513, 0.22300098, 0.22222123, 0.12797089, 0.01296177])"
      ]
     },
     "execution_count": 91,
     "metadata": {},
     "output_type": "execute_result"
    }
   ],
   "source": [
    "regr.feature_importances_"
   ]
  },
  {
   "cell_type": "code",
   "execution_count": 92,
   "metadata": {},
   "outputs": [
    {
     "data": {
      "text/plain": [
       "Index(['secs_to_next_mean', 'secs_since_last_arrival_x',\n",
       "       'secs_since_last_arrival_y', 'auctions_total', 'auctions_last_hour'],\n",
       "      dtype='object')"
      ]
     },
     "execution_count": 92,
     "metadata": {},
     "output_type": "execute_result"
    }
   ],
   "source": [
    "x_test.columns"
   ]
  }
 ],
 "metadata": {
  "kernelspec": {
   "display_name": "Python 3",
   "language": "python",
   "name": "python3"
  },
  "language_info": {
   "codemirror_mode": {
    "name": "ipython",
    "version": 3
   },
   "file_extension": ".py",
   "mimetype": "text/x-python",
   "name": "python",
   "nbconvert_exporter": "python",
   "pygments_lexer": "ipython3",
   "version": "3.6.7"
  }
 },
 "nbformat": 4,
 "nbformat_minor": 2
}
