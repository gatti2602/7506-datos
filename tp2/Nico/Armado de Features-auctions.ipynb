{
 "cells": [
  {
   "cell_type": "code",
   "execution_count": 1,
   "metadata": {},
   "outputs": [],
   "source": [
    "import pandas as pd\n",
    "import matplotlib as mp\n",
    "import numpy as np\n",
    "from datetime import timedelta\n",
    "import datetime as dt\n",
    "\n",
    "%matplotlib inline\n",
    "\n",
    "#Root de archivos de datos\n",
    "root_dir = '../data/'\n",
    "\n",
    "#Lee menos data si es testing\n",
    "is_testing = False\n",
    "\n",
    "# Cantidad minima de aparicion de equipos en un dataframe\n",
    "min_devices = 5\n",
    "\n",
    "# Identificador unico de equipos\n",
    "device_uuid = ['ref_hash']\n",
    "\n",
    "# Ventanas de tiempo\n",
    "windows = pd.DataFrame({\n",
    "    'begin_date': [dt.datetime(2019,4,18),dt.datetime(2019,4,21),dt.datetime(2019,4,24)],\n",
    "    'window_nr':[1,2,3]\n",
    "})"
   ]
  },
  {
   "cell_type": "markdown",
   "metadata": {},
   "source": [
    "# Armado de Features\n",
    "\n",
    "Se utilizan 3 ventanas de tiempo y se procesan los dataframes para obtener features de esas 3 ventanas por separado. \n",
    "\n",
    "Como resultado se obtiene un dataset de features mas grande cuyos datos no se solapan en tiempo. Por lo que son validos para la prediccion. \n",
    "\n",
    "Se realiza la lectura y limpiado de los dataframes principales, con los mismos se realiza el filtrado y armado de los features. \n",
    "\n",
    "---\n",
    "## 1. Lectura de DataFrames"
   ]
  },
  {
   "cell_type": "code",
   "execution_count": 2,
   "metadata": {},
   "outputs": [
    {
     "name": "stdout",
     "output_type": "stream",
     "text": [
      "Not Testing, #records: 47409528\n"
     ]
    }
   ],
   "source": [
    "#Optimizado para menos memoria\n",
    "auction_dtypes = {\n",
    "    'device_id': np.int64,\n",
    "    'source_id': np.int8\n",
    "}\n",
    "\n",
    "auctions = pd.read_csv(root_dir + 'auctions.csv.gzip',\n",
    "                       compression = 'gzip',\n",
    "                       dtype = auction_dtypes,\n",
    "                       usecols=list(auction_dtypes.keys()) + ['date'],\n",
    "                       parse_dates = ['date'])\n",
    "auctions.rename({'device_id':'ref_hash',\n",
    "                 'date':'created'}, inplace=True, axis='columns')\n",
    "auctions['n'] = 1\n",
    "\n",
    "# Para hacer pruebas ocupando menos memoria se hace un sampleo aleatorio de la mitad del dataframe y se elimina el resto\n",
    "if is_testing:\n",
    "    auctions = auctions.sample(frac=.30)\n",
    "    print(\"Is Testing, #records:\", auctions['n'].sum())\n",
    "else:\n",
    "    print(\"Not Testing, #records:\", auctions['n'].sum())"
   ]
  },
  {
   "cell_type": "code",
   "execution_count": 3,
   "metadata": {},
   "outputs": [],
   "source": [
    "# Labels a submitir con las predicciones\n",
    "to_predict = pd.read_csv(root_dir + 'target_competencia_ids.csv')\n",
    "to_predict = to_predict.apply(lambda x: np.int64(x['ref_hash'][0:x['ref_hash'].find('_')]), axis='columns').drop_duplicates().to_frame()\n",
    "to_predict.columns = ['ref_hash']"
   ]
  },
  {
   "cell_type": "code",
   "execution_count": 4,
   "metadata": {},
   "outputs": [],
   "source": [
    "unique_hashes = pd.read_csv(root_dir+'unique_hashes.csv')"
   ]
  },
  {
   "cell_type": "markdown",
   "metadata": {},
   "source": [
    "---\n",
    "## 2. Arreglo de los datos\n",
    "\n",
    "### Separo las semanas de entrenamiento\n",
    "\n",
    "Se utiliza el siguiente metodo: \n",
    "\n",
    "1. Ventana del 18 al 20 inclusive (1) -> Predice valores entre el 21 y 24 (2)\n",
    "2. Ventana del 21 al 23 inclusive (2) -> Predice valores entre el 24 y 26 (3)"
   ]
  },
  {
   "cell_type": "code",
   "execution_count": 5,
   "metadata": {},
   "outputs": [],
   "source": [
    "#Agrego la ventana de tiempo\n",
    "auctions = auctions.loc[auctions['ref_hash'].isin(unique_hashes['ref_hash'])]\\\n",
    "                   .sort_values(by='created')\n",
    "auctions = pd.merge_asof(auctions,windows,left_on='created',right_on='begin_date').drop('begin_date', axis='columns')"
   ]
  },
  {
   "cell_type": "markdown",
   "metadata": {},
   "source": [
    "### 2.1 Arreglo de Auctions"
   ]
  },
  {
   "cell_type": "code",
   "execution_count": 6,
   "metadata": {},
   "outputs": [
    {
     "name": "stdout",
     "output_type": "stream",
     "text": [
      "Eliminados: 736875\n",
      "CPU times: user 10min 7s, sys: 18.3 s, total: 10min 25s\n",
      "Wall time: 10min 21s\n"
     ]
    }
   ],
   "source": [
    "%%time\n",
    "#Elimino los registros con menos de un minimo de entradas, ya que no hay mucho que predecir en estos casos\n",
    "group = ['ref_hash','window_nr']\n",
    "orig_count = auctions['n'].sum()\n",
    "auctions = auctions.groupby(group, sort = False)\\\n",
    "                   .filter(lambda x: x['n'].sum() >= min_devices)\\\n",
    "                   .sort_values(by=group+['created'])\n",
    "last_count = auctions['n'].sum()\n",
    "print('Eliminados:', orig_count-last_count)"
   ]
  },
  {
   "cell_type": "code",
   "execution_count": 7,
   "metadata": {},
   "outputs": [
    {
     "name": "stdout",
     "output_type": "stream",
     "text": [
      "CPU times: user 17min 17s, sys: 17.2 s, total: 17min 34s\n",
      "Wall time: 17min 35s\n"
     ]
    }
   ],
   "source": [
    "%%time\n",
    "auctions['next_date'] = auctions.groupby(group, as_index = False, sort=False)['created'].transform(lambda x: x.shift(-1))\n",
    "auctions = auctions.loc[(~auctions['next_date'].isnull())]\n",
    "auctions['secs_to_next'] = (auctions['next_date'] - auctions['created']).transform(lambda x: round(x.total_seconds()))"
   ]
  },
  {
   "cell_type": "code",
   "execution_count": 8,
   "metadata": {},
   "outputs": [
    {
     "data": {
      "text/html": [
       "<div>\n",
       "<style scoped>\n",
       "    .dataframe tbody tr th:only-of-type {\n",
       "        vertical-align: middle;\n",
       "    }\n",
       "\n",
       "    .dataframe tbody tr th {\n",
       "        vertical-align: top;\n",
       "    }\n",
       "\n",
       "    .dataframe thead th {\n",
       "        text-align: right;\n",
       "    }\n",
       "</style>\n",
       "<table border=\"1\" class=\"dataframe\">\n",
       "  <thead>\n",
       "    <tr style=\"text-align: right;\">\n",
       "      <th></th>\n",
       "      <th>created</th>\n",
       "      <th>ref_hash</th>\n",
       "      <th>source_id</th>\n",
       "      <th>n</th>\n",
       "      <th>window_nr</th>\n",
       "      <th>next_date</th>\n",
       "      <th>secs_to_next</th>\n",
       "    </tr>\n",
       "  </thead>\n",
       "  <tbody>\n",
       "    <tr>\n",
       "      <th>9146132</th>\n",
       "      <td>2019-04-19 19:40:28.465866</td>\n",
       "      <td>41863526108385</td>\n",
       "      <td>8</td>\n",
       "      <td>1</td>\n",
       "      <td>1</td>\n",
       "      <td>2019-04-20 02:52:26.892880</td>\n",
       "      <td>25918</td>\n",
       "    </tr>\n",
       "    <tr>\n",
       "      <th>11162626</th>\n",
       "      <td>2019-04-20 02:52:26.892880</td>\n",
       "      <td>41863526108385</td>\n",
       "      <td>3</td>\n",
       "      <td>1</td>\n",
       "      <td>1</td>\n",
       "      <td>2019-04-20 02:59:02.509230</td>\n",
       "      <td>396</td>\n",
       "    </tr>\n",
       "    <tr>\n",
       "      <th>11194917</th>\n",
       "      <td>2019-04-20 02:59:02.509230</td>\n",
       "      <td>41863526108385</td>\n",
       "      <td>3</td>\n",
       "      <td>1</td>\n",
       "      <td>1</td>\n",
       "      <td>2019-04-20 03:06:01.675788</td>\n",
       "      <td>419</td>\n",
       "    </tr>\n",
       "    <tr>\n",
       "      <th>11229465</th>\n",
       "      <td>2019-04-20 03:06:01.675788</td>\n",
       "      <td>41863526108385</td>\n",
       "      <td>3</td>\n",
       "      <td>1</td>\n",
       "      <td>1</td>\n",
       "      <td>2019-04-20 03:08:57.388160</td>\n",
       "      <td>176</td>\n",
       "    </tr>\n",
       "    <tr>\n",
       "      <th>11244486</th>\n",
       "      <td>2019-04-20 03:08:57.388160</td>\n",
       "      <td>41863526108385</td>\n",
       "      <td>3</td>\n",
       "      <td>1</td>\n",
       "      <td>1</td>\n",
       "      <td>2019-04-20 03:11:26.463903</td>\n",
       "      <td>149</td>\n",
       "    </tr>\n",
       "  </tbody>\n",
       "</table>\n",
       "</div>"
      ],
      "text/plain": [
       "                            created        ref_hash  source_id  n  window_nr  \\\n",
       "9146132  2019-04-19 19:40:28.465866  41863526108385          8  1          1   \n",
       "11162626 2019-04-20 02:52:26.892880  41863526108385          3  1          1   \n",
       "11194917 2019-04-20 02:59:02.509230  41863526108385          3  1          1   \n",
       "11229465 2019-04-20 03:06:01.675788  41863526108385          3  1          1   \n",
       "11244486 2019-04-20 03:08:57.388160  41863526108385          3  1          1   \n",
       "\n",
       "                          next_date  secs_to_next  \n",
       "9146132  2019-04-20 02:52:26.892880         25918  \n",
       "11162626 2019-04-20 02:59:02.509230           396  \n",
       "11194917 2019-04-20 03:06:01.675788           419  \n",
       "11229465 2019-04-20 03:08:57.388160           176  \n",
       "11244486 2019-04-20 03:11:26.463903           149  "
      ]
     },
     "execution_count": 8,
     "metadata": {},
     "output_type": "execute_result"
    }
   ],
   "source": [
    "auctions.head()"
   ]
  },
  {
   "cell_type": "markdown",
   "metadata": {},
   "source": [
    "---\n",
    "## 3. Armado de Features\n",
    "\n",
    "A continuacion se comienzan a extraer los distintos features que formaran el set de entrenamiento. \n",
    "Se cruza cada ventana con los labels que se desean predecir. \n",
    "\n",
    "Para entrenar el set debe decidirse como utilizar los datos de las distintas ventanas. \n",
    "\n",
    "Se tomaran los datos en 2 ventanas diferentes y se validaran con dos ventanas diferentes, de esta forma no deberia haber problemas de solapamiento y se maximiza la cantidad de datos.\n",
    "\n",
    "Para el set final puede armarse un set de labels con los valores de los ultimos 3 dias."
   ]
  },
  {
   "cell_type": "code",
   "execution_count": null,
   "metadata": {},
   "outputs": [],
   "source": [
    "max_dates = pd.DataFrame({'w_max_date': [dt.datetime(2019,4,21),dt.datetime(2019,4,24),dt.datetime(2019,4,27)], 'window_nr' : [1,2,3]})"
   ]
  },
  {
   "cell_type": "code",
   "execution_count": 61,
   "metadata": {},
   "outputs": [],
   "source": [
    "temp = unique_hashes\n",
    "temp['window_nr'] = 1\n",
    "devices = temp.copy()\n",
    "temp['window_nr'] = 2\n",
    "devices = devices.append(temp)\n",
    "temp['window_nr'] = 3\n",
    "devices = devices.append(temp)"
   ]
  },
  {
   "cell_type": "code",
   "execution_count": 62,
   "metadata": {},
   "outputs": [
    {
     "data": {
      "text/plain": [
       "3    662110\n",
       "2    662110\n",
       "1    662110\n",
       "Name: window_nr, dtype: int64"
      ]
     },
     "execution_count": 62,
     "metadata": {},
     "output_type": "execute_result"
    }
   ],
   "source": [
    "devices['window_nr'].value_counts()"
   ]
  },
  {
   "cell_type": "code",
   "execution_count": 63,
   "metadata": {},
   "outputs": [],
   "source": [
    "devices = devices.set_index(group)"
   ]
  },
  {
   "cell_type": "code",
   "execution_count": 64,
   "metadata": {},
   "outputs": [],
   "source": [
    "sample = auctions.head(100)"
   ]
  },
  {
   "cell_type": "code",
   "execution_count": 65,
   "metadata": {},
   "outputs": [
    {
     "data": {
      "text/html": [
       "<div>\n",
       "<style scoped>\n",
       "    .dataframe tbody tr th:only-of-type {\n",
       "        vertical-align: middle;\n",
       "    }\n",
       "\n",
       "    .dataframe tbody tr th {\n",
       "        vertical-align: top;\n",
       "    }\n",
       "\n",
       "    .dataframe thead th {\n",
       "        text-align: right;\n",
       "    }\n",
       "</style>\n",
       "<table border=\"1\" class=\"dataframe\">\n",
       "  <thead>\n",
       "    <tr style=\"text-align: right;\">\n",
       "      <th></th>\n",
       "      <th>created</th>\n",
       "      <th>ref_hash</th>\n",
       "      <th>source_id</th>\n",
       "      <th>n</th>\n",
       "      <th>window_nr</th>\n",
       "      <th>next_date</th>\n",
       "      <th>secs_to_next</th>\n",
       "    </tr>\n",
       "  </thead>\n",
       "  <tbody>\n",
       "    <tr>\n",
       "      <th>9146132</th>\n",
       "      <td>2019-04-19 19:40:28.465866</td>\n",
       "      <td>41863526108385</td>\n",
       "      <td>8</td>\n",
       "      <td>1</td>\n",
       "      <td>1</td>\n",
       "      <td>2019-04-20 02:52:26.892880</td>\n",
       "      <td>25918</td>\n",
       "    </tr>\n",
       "    <tr>\n",
       "      <th>11162626</th>\n",
       "      <td>2019-04-20 02:52:26.892880</td>\n",
       "      <td>41863526108385</td>\n",
       "      <td>3</td>\n",
       "      <td>1</td>\n",
       "      <td>1</td>\n",
       "      <td>2019-04-20 02:59:02.509230</td>\n",
       "      <td>396</td>\n",
       "    </tr>\n",
       "    <tr>\n",
       "      <th>11194917</th>\n",
       "      <td>2019-04-20 02:59:02.509230</td>\n",
       "      <td>41863526108385</td>\n",
       "      <td>3</td>\n",
       "      <td>1</td>\n",
       "      <td>1</td>\n",
       "      <td>2019-04-20 03:06:01.675788</td>\n",
       "      <td>419</td>\n",
       "    </tr>\n",
       "    <tr>\n",
       "      <th>11229465</th>\n",
       "      <td>2019-04-20 03:06:01.675788</td>\n",
       "      <td>41863526108385</td>\n",
       "      <td>3</td>\n",
       "      <td>1</td>\n",
       "      <td>1</td>\n",
       "      <td>2019-04-20 03:08:57.388160</td>\n",
       "      <td>176</td>\n",
       "    </tr>\n",
       "    <tr>\n",
       "      <th>11244486</th>\n",
       "      <td>2019-04-20 03:08:57.388160</td>\n",
       "      <td>41863526108385</td>\n",
       "      <td>3</td>\n",
       "      <td>1</td>\n",
       "      <td>1</td>\n",
       "      <td>2019-04-20 03:11:26.463903</td>\n",
       "      <td>149</td>\n",
       "    </tr>\n",
       "  </tbody>\n",
       "</table>\n",
       "</div>"
      ],
      "text/plain": [
       "                            created        ref_hash  source_id  n  window_nr  \\\n",
       "9146132  2019-04-19 19:40:28.465866  41863526108385          8  1          1   \n",
       "11162626 2019-04-20 02:52:26.892880  41863526108385          3  1          1   \n",
       "11194917 2019-04-20 02:59:02.509230  41863526108385          3  1          1   \n",
       "11229465 2019-04-20 03:06:01.675788  41863526108385          3  1          1   \n",
       "11244486 2019-04-20 03:08:57.388160  41863526108385          3  1          1   \n",
       "\n",
       "                          next_date  secs_to_next  \n",
       "9146132  2019-04-20 02:52:26.892880         25918  \n",
       "11162626 2019-04-20 02:59:02.509230           396  \n",
       "11194917 2019-04-20 03:06:01.675788           419  \n",
       "11229465 2019-04-20 03:08:57.388160           176  \n",
       "11244486 2019-04-20 03:11:26.463903           149  "
      ]
     },
     "execution_count": 65,
     "metadata": {},
     "output_type": "execute_result"
    }
   ],
   "source": [
    "sample.head()"
   ]
  },
  {
   "cell_type": "markdown",
   "metadata": {},
   "source": [
    "### Tiempo promedio de arribos\n",
    "\n",
    "Se desea saber el tiempo promedio entre arribos de los dispositivos a las encuestas."
   ]
  },
  {
   "cell_type": "code",
   "execution_count": 66,
   "metadata": {},
   "outputs": [
    {
     "name": "stdout",
     "output_type": "stream",
     "text": [
      "CPU times: user 2.34 s, sys: 1 s, total: 3.34 s\n",
      "Wall time: 3.34 s\n"
     ]
    }
   ],
   "source": [
    "%%time\n",
    "time = auctions.groupby(group,sort=False)['secs_to_next'].mean().rename('secs_to_next_mean')"
   ]
  },
  {
   "cell_type": "code",
   "execution_count": 67,
   "metadata": {},
   "outputs": [],
   "source": [
    "devices = devices.merge(time, how='left', left_index=True, right_index=True)"
   ]
  },
  {
   "cell_type": "code",
   "execution_count": 68,
   "metadata": {},
   "outputs": [
    {
     "data": {
      "text/html": [
       "<div>\n",
       "<style scoped>\n",
       "    .dataframe tbody tr th:only-of-type {\n",
       "        vertical-align: middle;\n",
       "    }\n",
       "\n",
       "    .dataframe tbody tr th {\n",
       "        vertical-align: top;\n",
       "    }\n",
       "\n",
       "    .dataframe thead th {\n",
       "        text-align: right;\n",
       "    }\n",
       "</style>\n",
       "<table border=\"1\" class=\"dataframe\">\n",
       "  <thead>\n",
       "    <tr style=\"text-align: right;\">\n",
       "      <th></th>\n",
       "      <th></th>\n",
       "      <th>secs_to_next_mean</th>\n",
       "    </tr>\n",
       "    <tr>\n",
       "      <th>ref_hash</th>\n",
       "      <th>window_nr</th>\n",
       "      <th></th>\n",
       "    </tr>\n",
       "  </thead>\n",
       "  <tbody>\n",
       "    <tr>\n",
       "      <th>2564673204772915246</th>\n",
       "      <th>1</th>\n",
       "      <td>764.662037</td>\n",
       "    </tr>\n",
       "    <tr>\n",
       "      <th>4441121667607578179</th>\n",
       "      <th>1</th>\n",
       "      <td>111.363636</td>\n",
       "    </tr>\n",
       "    <tr>\n",
       "      <th>7721769811471055264</th>\n",
       "      <th>1</th>\n",
       "      <td>281.286344</td>\n",
       "    </tr>\n",
       "    <tr>\n",
       "      <th>6416039086842158968</th>\n",
       "      <th>1</th>\n",
       "      <td>NaN</td>\n",
       "    </tr>\n",
       "    <tr>\n",
       "      <th>1258642015983312729</th>\n",
       "      <th>1</th>\n",
       "      <td>8364.666667</td>\n",
       "    </tr>\n",
       "  </tbody>\n",
       "</table>\n",
       "</div>"
      ],
      "text/plain": [
       "                               secs_to_next_mean\n",
       "ref_hash            window_nr                   \n",
       "2564673204772915246 1                 764.662037\n",
       "4441121667607578179 1                 111.363636\n",
       "7721769811471055264 1                 281.286344\n",
       "6416039086842158968 1                        NaN\n",
       "1258642015983312729 1                8364.666667"
      ]
     },
     "execution_count": 68,
     "metadata": {},
     "output_type": "execute_result"
    }
   ],
   "source": [
    "devices.head()"
   ]
  },
  {
   "cell_type": "markdown",
   "metadata": {},
   "source": [
    "### Tiempo desde ultima aparicion"
   ]
  },
  {
   "cell_type": "code",
   "execution_count": 69,
   "metadata": {},
   "outputs": [
    {
     "name": "stdout",
     "output_type": "stream",
     "text": [
      "CPU times: user 13.9 s, sys: 2.26 s, total: 16.2 s\n",
      "Wall time: 16.2 s\n"
     ]
    }
   ],
   "source": [
    "%%time\n",
    "time = auctions.groupby(group,sort=False)\\\n",
    "               .tail(1)\\\n",
    "               .merge(max_dates, on='window_nr', how='left')\\\n",
    "               .set_index(group)\n",
    "\n",
    "time = (time['w_max_date'] - time['created']).transform(lambda x: round(x.total_seconds())).rename('secs_since_last_arrival')"
   ]
  },
  {
   "cell_type": "code",
   "execution_count": 70,
   "metadata": {},
   "outputs": [
    {
     "data": {
      "text/plain": [
       "ref_hash         window_nr\n",
       "41863526108385   1             70206\n",
       "135153013040192  1             70659\n",
       "161514654074162  1            248758\n",
       "186034136943920  1             74393\n",
       "                 2             37583\n",
       "Name: secs_since_last_arrival, dtype: int64"
      ]
     },
     "execution_count": 70,
     "metadata": {},
     "output_type": "execute_result"
    }
   ],
   "source": [
    "time.head()"
   ]
  },
  {
   "cell_type": "code",
   "execution_count": 71,
   "metadata": {},
   "outputs": [],
   "source": [
    "devices = devices.merge(time, how='left', left_index=True, right_index=True)"
   ]
  },
  {
   "cell_type": "code",
   "execution_count": 72,
   "metadata": {},
   "outputs": [
    {
     "data": {
      "text/html": [
       "<div>\n",
       "<style scoped>\n",
       "    .dataframe tbody tr th:only-of-type {\n",
       "        vertical-align: middle;\n",
       "    }\n",
       "\n",
       "    .dataframe tbody tr th {\n",
       "        vertical-align: top;\n",
       "    }\n",
       "\n",
       "    .dataframe thead th {\n",
       "        text-align: right;\n",
       "    }\n",
       "</style>\n",
       "<table border=\"1\" class=\"dataframe\">\n",
       "  <thead>\n",
       "    <tr style=\"text-align: right;\">\n",
       "      <th></th>\n",
       "      <th></th>\n",
       "      <th>secs_to_next_mean</th>\n",
       "      <th>secs_since_last_arrival</th>\n",
       "    </tr>\n",
       "    <tr>\n",
       "      <th>ref_hash</th>\n",
       "      <th>window_nr</th>\n",
       "      <th></th>\n",
       "      <th></th>\n",
       "    </tr>\n",
       "  </thead>\n",
       "  <tbody>\n",
       "    <tr>\n",
       "      <th>2564673204772915246</th>\n",
       "      <th>1</th>\n",
       "      <td>764.662037</td>\n",
       "      <td>88625.0</td>\n",
       "    </tr>\n",
       "    <tr>\n",
       "      <th>4441121667607578179</th>\n",
       "      <th>1</th>\n",
       "      <td>111.363636</td>\n",
       "      <td>29052.0</td>\n",
       "    </tr>\n",
       "    <tr>\n",
       "      <th>7721769811471055264</th>\n",
       "      <th>1</th>\n",
       "      <td>281.286344</td>\n",
       "      <td>333.0</td>\n",
       "    </tr>\n",
       "    <tr>\n",
       "      <th>6416039086842158968</th>\n",
       "      <th>1</th>\n",
       "      <td>NaN</td>\n",
       "      <td>NaN</td>\n",
       "    </tr>\n",
       "    <tr>\n",
       "      <th>1258642015983312729</th>\n",
       "      <th>1</th>\n",
       "      <td>8364.666667</td>\n",
       "      <td>121224.0</td>\n",
       "    </tr>\n",
       "  </tbody>\n",
       "</table>\n",
       "</div>"
      ],
      "text/plain": [
       "                               secs_to_next_mean  secs_since_last_arrival\n",
       "ref_hash            window_nr                                            \n",
       "2564673204772915246 1                 764.662037                  88625.0\n",
       "4441121667607578179 1                 111.363636                  29052.0\n",
       "7721769811471055264 1                 281.286344                    333.0\n",
       "6416039086842158968 1                        NaN                      NaN\n",
       "1258642015983312729 1                8364.666667                 121224.0"
      ]
     },
     "execution_count": 72,
     "metadata": {},
     "output_type": "execute_result"
    }
   ],
   "source": [
    "devices.head()"
   ]
  },
  {
   "cell_type": "markdown",
   "metadata": {},
   "source": [
    "### Cantidad de apariciones en encuestas en la ventana"
   ]
  },
  {
   "cell_type": "code",
   "execution_count": 73,
   "metadata": {},
   "outputs": [
    {
     "name": "stdout",
     "output_type": "stream",
     "text": [
      "CPU times: user 2.24 s, sys: 1.14 s, total: 3.39 s\n",
      "Wall time: 3.4 s\n"
     ]
    }
   ],
   "source": [
    "%%time\n",
    "time = auctions.groupby(group ,sort=False)['n'].sum().rename('auctions_total')"
   ]
  },
  {
   "cell_type": "code",
   "execution_count": 74,
   "metadata": {},
   "outputs": [
    {
     "data": {
      "text/plain": [
       "ref_hash         window_nr\n",
       "41863526108385   1            34\n",
       "135153013040192  1             7\n",
       "161514654074162  1             5\n",
       "186034136943920  1             6\n",
       "                 2            58\n",
       "Name: auctions_total, dtype: int64"
      ]
     },
     "execution_count": 74,
     "metadata": {},
     "output_type": "execute_result"
    }
   ],
   "source": [
    "time.head()"
   ]
  },
  {
   "cell_type": "code",
   "execution_count": 75,
   "metadata": {},
   "outputs": [],
   "source": [
    "devices = devices.merge(time, how='left', left_index=True, right_index=True)"
   ]
  },
  {
   "cell_type": "code",
   "execution_count": 76,
   "metadata": {},
   "outputs": [
    {
     "data": {
      "text/html": [
       "<div>\n",
       "<style scoped>\n",
       "    .dataframe tbody tr th:only-of-type {\n",
       "        vertical-align: middle;\n",
       "    }\n",
       "\n",
       "    .dataframe tbody tr th {\n",
       "        vertical-align: top;\n",
       "    }\n",
       "\n",
       "    .dataframe thead th {\n",
       "        text-align: right;\n",
       "    }\n",
       "</style>\n",
       "<table border=\"1\" class=\"dataframe\">\n",
       "  <thead>\n",
       "    <tr style=\"text-align: right;\">\n",
       "      <th></th>\n",
       "      <th></th>\n",
       "      <th>secs_to_next_mean</th>\n",
       "      <th>secs_since_last_arrival</th>\n",
       "      <th>auctions_total</th>\n",
       "    </tr>\n",
       "    <tr>\n",
       "      <th>ref_hash</th>\n",
       "      <th>window_nr</th>\n",
       "      <th></th>\n",
       "      <th></th>\n",
       "      <th></th>\n",
       "    </tr>\n",
       "  </thead>\n",
       "  <tbody>\n",
       "    <tr>\n",
       "      <th>2564673204772915246</th>\n",
       "      <th>1</th>\n",
       "      <td>764.662037</td>\n",
       "      <td>88625.0</td>\n",
       "      <td>216.0</td>\n",
       "    </tr>\n",
       "    <tr>\n",
       "      <th>4441121667607578179</th>\n",
       "      <th>1</th>\n",
       "      <td>111.363636</td>\n",
       "      <td>29052.0</td>\n",
       "      <td>1188.0</td>\n",
       "    </tr>\n",
       "    <tr>\n",
       "      <th>7721769811471055264</th>\n",
       "      <th>1</th>\n",
       "      <td>281.286344</td>\n",
       "      <td>333.0</td>\n",
       "      <td>908.0</td>\n",
       "    </tr>\n",
       "    <tr>\n",
       "      <th>6416039086842158968</th>\n",
       "      <th>1</th>\n",
       "      <td>NaN</td>\n",
       "      <td>NaN</td>\n",
       "      <td>NaN</td>\n",
       "    </tr>\n",
       "    <tr>\n",
       "      <th>1258642015983312729</th>\n",
       "      <th>1</th>\n",
       "      <td>8364.666667</td>\n",
       "      <td>121224.0</td>\n",
       "      <td>12.0</td>\n",
       "    </tr>\n",
       "  </tbody>\n",
       "</table>\n",
       "</div>"
      ],
      "text/plain": [
       "                               secs_to_next_mean  secs_since_last_arrival  \\\n",
       "ref_hash            window_nr                                               \n",
       "2564673204772915246 1                 764.662037                  88625.0   \n",
       "4441121667607578179 1                 111.363636                  29052.0   \n",
       "7721769811471055264 1                 281.286344                    333.0   \n",
       "6416039086842158968 1                        NaN                      NaN   \n",
       "1258642015983312729 1                8364.666667                 121224.0   \n",
       "\n",
       "                               auctions_total  \n",
       "ref_hash            window_nr                  \n",
       "2564673204772915246 1                   216.0  \n",
       "4441121667607578179 1                  1188.0  \n",
       "7721769811471055264 1                   908.0  \n",
       "6416039086842158968 1                     NaN  \n",
       "1258642015983312729 1                    12.0  "
      ]
     },
     "execution_count": 76,
     "metadata": {},
     "output_type": "execute_result"
    }
   ],
   "source": [
    "devices.head()"
   ]
  },
  {
   "cell_type": "markdown",
   "metadata": {},
   "source": [
    "### Cantidad de apariciones en encuestas en la ultima hora"
   ]
  },
  {
   "cell_type": "code",
   "execution_count": 88,
   "metadata": {},
   "outputs": [
    {
     "name": "stdout",
     "output_type": "stream",
     "text": [
      "CPU times: user 14.7 s, sys: 10.4 s, total: 25.1 s\n",
      "Wall time: 27.1 s\n"
     ]
    }
   ],
   "source": [
    "%%time\n",
    "time = auctions.merge(max_dates, on='window_nr', how='left')\n",
    "time = time.loc[time['created'] >= (time['w_max_date'] - timedelta(hours=1))]\\\n",
    "           .groupby(group, sort=False)['n'].sum()\\\n",
    "           .rename('auctions_last_hour')"
   ]
  },
  {
   "cell_type": "code",
   "execution_count": 89,
   "metadata": {},
   "outputs": [
    {
     "data": {
      "text/plain": [
       "ref_hash         window_nr\n",
       "345999128501141  2             3\n",
       "360710529886978  3             2\n",
       "416301579449694  1             2\n",
       "686608884458246  3            11\n",
       "717556230663455  1            74\n",
       "Name: auctions_last_hour, dtype: int64"
      ]
     },
     "execution_count": 89,
     "metadata": {},
     "output_type": "execute_result"
    }
   ],
   "source": [
    "time.head()"
   ]
  },
  {
   "cell_type": "code",
   "execution_count": 90,
   "metadata": {},
   "outputs": [],
   "source": [
    "devices = devices.merge(time, how='left', left_index=True, right_index=True)"
   ]
  },
  {
   "cell_type": "code",
   "execution_count": 91,
   "metadata": {},
   "outputs": [
    {
     "data": {
      "text/html": [
       "<div>\n",
       "<style scoped>\n",
       "    .dataframe tbody tr th:only-of-type {\n",
       "        vertical-align: middle;\n",
       "    }\n",
       "\n",
       "    .dataframe tbody tr th {\n",
       "        vertical-align: top;\n",
       "    }\n",
       "\n",
       "    .dataframe thead th {\n",
       "        text-align: right;\n",
       "    }\n",
       "</style>\n",
       "<table border=\"1\" class=\"dataframe\">\n",
       "  <thead>\n",
       "    <tr style=\"text-align: right;\">\n",
       "      <th></th>\n",
       "      <th></th>\n",
       "      <th>secs_to_next_mean</th>\n",
       "      <th>secs_since_last_arrival</th>\n",
       "      <th>auctions_total</th>\n",
       "      <th>auctions_last_hour</th>\n",
       "    </tr>\n",
       "    <tr>\n",
       "      <th>ref_hash</th>\n",
       "      <th>window_nr</th>\n",
       "      <th></th>\n",
       "      <th></th>\n",
       "      <th></th>\n",
       "      <th></th>\n",
       "    </tr>\n",
       "  </thead>\n",
       "  <tbody>\n",
       "    <tr>\n",
       "      <th>2564673204772915246</th>\n",
       "      <th>1</th>\n",
       "      <td>764.662037</td>\n",
       "      <td>88625.0</td>\n",
       "      <td>216.0</td>\n",
       "      <td>NaN</td>\n",
       "    </tr>\n",
       "    <tr>\n",
       "      <th>4441121667607578179</th>\n",
       "      <th>1</th>\n",
       "      <td>111.363636</td>\n",
       "      <td>29052.0</td>\n",
       "      <td>1188.0</td>\n",
       "      <td>NaN</td>\n",
       "    </tr>\n",
       "    <tr>\n",
       "      <th>7721769811471055264</th>\n",
       "      <th>1</th>\n",
       "      <td>281.286344</td>\n",
       "      <td>333.0</td>\n",
       "      <td>908.0</td>\n",
       "      <td>23.0</td>\n",
       "    </tr>\n",
       "    <tr>\n",
       "      <th>6416039086842158968</th>\n",
       "      <th>1</th>\n",
       "      <td>NaN</td>\n",
       "      <td>NaN</td>\n",
       "      <td>NaN</td>\n",
       "      <td>NaN</td>\n",
       "    </tr>\n",
       "    <tr>\n",
       "      <th>1258642015983312729</th>\n",
       "      <th>1</th>\n",
       "      <td>8364.666667</td>\n",
       "      <td>121224.0</td>\n",
       "      <td>12.0</td>\n",
       "      <td>NaN</td>\n",
       "    </tr>\n",
       "  </tbody>\n",
       "</table>\n",
       "</div>"
      ],
      "text/plain": [
       "                               secs_to_next_mean  secs_since_last_arrival  \\\n",
       "ref_hash            window_nr                                               \n",
       "2564673204772915246 1                 764.662037                  88625.0   \n",
       "4441121667607578179 1                 111.363636                  29052.0   \n",
       "7721769811471055264 1                 281.286344                    333.0   \n",
       "6416039086842158968 1                        NaN                      NaN   \n",
       "1258642015983312729 1                8364.666667                 121224.0   \n",
       "\n",
       "                               auctions_total  auctions_last_hour  \n",
       "ref_hash            window_nr                                      \n",
       "2564673204772915246 1                   216.0                 NaN  \n",
       "4441121667607578179 1                  1188.0                 NaN  \n",
       "7721769811471055264 1                   908.0                23.0  \n",
       "6416039086842158968 1                     NaN                 NaN  \n",
       "1258642015983312729 1                    12.0                 NaN  "
      ]
     },
     "execution_count": 91,
     "metadata": {},
     "output_type": "execute_result"
    }
   ],
   "source": [
    "devices.head()"
   ]
  },
  {
   "cell_type": "markdown",
   "metadata": {},
   "source": [
    "---\n",
    "## 4. Guardo Features "
   ]
  },
  {
   "cell_type": "code",
   "execution_count": 92,
   "metadata": {},
   "outputs": [],
   "source": [
    "devices.to_csv('tmp.csv',header=True,index=True)"
   ]
  }
 ],
 "metadata": {
  "kernelspec": {
   "display_name": "Python 3",
   "language": "python",
   "name": "python3"
  },
  "language_info": {
   "codemirror_mode": {
    "name": "ipython",
    "version": 3
   },
   "file_extension": ".py",
   "mimetype": "text/x-python",
   "name": "python",
   "nbconvert_exporter": "python",
   "pygments_lexer": "ipython3",
   "version": "3.6.7"
  }
 },
 "nbformat": 4,
 "nbformat_minor": 2
}
