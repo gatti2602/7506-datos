{
 "cells": [
  {
   "cell_type": "code",
   "execution_count": 1,
   "metadata": {},
   "outputs": [],
   "source": [
    "import pandas as pd\n",
    "import matplotlib as mp\n",
    "\n",
    "%matplotlib inline"
   ]
  },
  {
   "cell_type": "code",
   "execution_count": 2,
   "metadata": {},
   "outputs": [],
   "source": [
    "auctions = pd.read_csv('../data/auctions.csv.gzip',compression='gzip',\\\n",
    "                        usecols=['date','device_id','platform','ref_type_id','source_id'],\\\n",
    "                        dtype={'device_id':'int64','platform':'category','ref_type_id':'category','source_id':'category'},\\\n",
    "                        parse_dates=['date'])"
   ]
  },
  {
   "cell_type": "markdown",
   "metadata": {},
   "source": [
    "## Cada 3 dias, cuantas veces aparece un mismo id en promedio?"
   ]
  },
  {
   "cell_type": "code",
   "execution_count": 3,
   "metadata": {},
   "outputs": [
    {
     "data": {
      "text/html": [
       "<div>\n",
       "<style scoped>\n",
       "    .dataframe tbody tr th:only-of-type {\n",
       "        vertical-align: middle;\n",
       "    }\n",
       "\n",
       "    .dataframe tbody tr th {\n",
       "        vertical-align: top;\n",
       "    }\n",
       "\n",
       "    .dataframe thead th {\n",
       "        text-align: right;\n",
       "    }\n",
       "</style>\n",
       "<table border=\"1\" class=\"dataframe\">\n",
       "  <thead>\n",
       "    <tr style=\"text-align: right;\">\n",
       "      <th></th>\n",
       "      <th>date</th>\n",
       "      <th>device_id</th>\n",
       "      <th>platform</th>\n",
       "      <th>ref_type_id</th>\n",
       "      <th>source_id</th>\n",
       "    </tr>\n",
       "  </thead>\n",
       "  <tbody>\n",
       "    <tr>\n",
       "      <th>0</th>\n",
       "      <td>2019-03-11 14:18:33.290763</td>\n",
       "      <td>6059599345986491085</td>\n",
       "      <td>1</td>\n",
       "      <td>1</td>\n",
       "      <td>0</td>\n",
       "    </tr>\n",
       "    <tr>\n",
       "      <th>1</th>\n",
       "      <td>2019-03-11 14:18:34.440157</td>\n",
       "      <td>1115994996230693426</td>\n",
       "      <td>1</td>\n",
       "      <td>1</td>\n",
       "      <td>0</td>\n",
       "    </tr>\n",
       "    <tr>\n",
       "      <th>2</th>\n",
       "      <td>2019-03-11 14:18:35.862360</td>\n",
       "      <td>7463856250762200923</td>\n",
       "      <td>1</td>\n",
       "      <td>1</td>\n",
       "      <td>0</td>\n",
       "    </tr>\n",
       "    <tr>\n",
       "      <th>3</th>\n",
       "      <td>2019-03-11 14:18:36.167163</td>\n",
       "      <td>7829815350267792040</td>\n",
       "      <td>1</td>\n",
       "      <td>1</td>\n",
       "      <td>0</td>\n",
       "    </tr>\n",
       "    <tr>\n",
       "      <th>4</th>\n",
       "      <td>2019-03-11 14:18:37.728590</td>\n",
       "      <td>1448534231953777480</td>\n",
       "      <td>1</td>\n",
       "      <td>1</td>\n",
       "      <td>0</td>\n",
       "    </tr>\n",
       "  </tbody>\n",
       "</table>\n",
       "</div>"
      ],
      "text/plain": [
       "                        date            device_id platform ref_type_id  \\\n",
       "0 2019-03-11 14:18:33.290763  6059599345986491085        1           1   \n",
       "1 2019-03-11 14:18:34.440157  1115994996230693426        1           1   \n",
       "2 2019-03-11 14:18:35.862360  7463856250762200923        1           1   \n",
       "3 2019-03-11 14:18:36.167163  7829815350267792040        1           1   \n",
       "4 2019-03-11 14:18:37.728590  1448534231953777480        1           1   \n",
       "\n",
       "  source_id  \n",
       "0         0  \n",
       "1         0  \n",
       "2         0  \n",
       "3         0  \n",
       "4         0  "
      ]
     },
     "execution_count": 3,
     "metadata": {},
     "output_type": "execute_result"
    }
   ],
   "source": [
    "auctions.head()"
   ]
  },
  {
   "cell_type": "markdown",
   "metadata": {},
   "source": [
    "Primero se busca cuanto es el promedio de veces que aparece un usuario en las subastas. \n",
    "\n",
    "Se usan grupos de 3 dias para segmentar los datos ya que es la ventana que toma Jaamp.\n"
   ]
  },
  {
   "cell_type": "code",
   "execution_count": 4,
   "metadata": {},
   "outputs": [],
   "source": [
    "#Divido el intervalo en segmentos de 3 dias consecutivos que analizo por separado\n",
    "auctions['date_frame'] = (auctions['date'].dt.day - auctions['date'].dt.day.min()) % 3\n",
    "grp = ['device_id', 'date_frame']"
   ]
  },
  {
   "cell_type": "code",
   "execution_count": 5,
   "metadata": {},
   "outputs": [
    {
     "name": "stdout",
     "output_type": "stream",
     "text": [
      "Wall time: 0 ns\n",
      "Prom. de apariciones de usuarios en 3 dias:  43.157112615493176\n",
      "Min. de apariciones de usuarios en 3 dias:  1\n",
      "Max. de apariciones de usuarios en 3 dias:  11910\n",
      "Med. de apariciones de usuarios en 3 dias:  9.0\n",
      "Total de Registros:  453490\n"
     ]
    },
    {
     "data": {
      "text/plain": [
       "Text(0,0.5,'Cant. Usuarios')"
      ]
     },
     "execution_count": 5,
     "metadata": {},
     "output_type": "execute_result"
    },
    {
     "data": {
      "image/png": "[encoded data removed]",
      "text/plain": [
       "<Figure size 432x288 with 1 Axes>"
      ]
     },
     "metadata": {
      "needs_background": "light"
     },
     "output_type": "display_data"
    }
   ],
   "source": [
    "%time\n",
    "app_dev_id = auctions.groupby(grp)['date'].count()\n",
    "print('Prom. de apariciones de usuarios en 3 dias: ', app_dev_id.mean())\n",
    "print('Min. de apariciones de usuarios en 3 dias: ', app_dev_id.min())\n",
    "print('Max. de apariciones de usuarios en 3 dias: ', app_dev_id.max())\n",
    "print('Med. de apariciones de usuarios en 3 dias: ', app_dev_id.median())\n",
    "print('Total de Registros: ', app_dev_id.count())\n",
    "\n",
    "plot = app_dev_id.hist(bins=50)\n",
    "plot.set_title(\"Usuarios por Cant. de apariciones \")\n",
    "plot.set_xlabel(\"Cant. de Apariciones\")\n",
    "plot.set_ylabel(\"Cant. Usuarios\")"
   ]
  },
  {
   "cell_type": "markdown",
   "metadata": {},
   "source": [
    "Elimino los que aparecen una sola vez (no se puede estimar tiempo de arribo) y los que aparecen mas de 1000 veces (No tiene sentido, estan muy por arriba de la mediana)"
   ]
  },
  {
   "cell_type": "code",
   "execution_count": 6,
   "metadata": {},
   "outputs": [
    {
     "name": "stdout",
     "output_type": "stream",
     "text": [
      "Prom. de apariciones de usuarios en 3 dias:  27.35093602995296\n",
      "Min. de apariciones de usuarios en 3 dias:  3\n",
      "Max. de apariciones de usuarios en 3 dias:  149\n",
      "Med. de apariciones de usuarios en 3 dias:  14.0\n",
      "Total de Registros:  312490\n"
     ]
    },
    {
     "data": {
      "text/plain": [
       "Text(0,0.5,'Cant. Usuarios')"
      ]
     },
     "execution_count": 6,
     "metadata": {},
     "output_type": "execute_result"
    },
    {
     "data": {
      "image/png": "[encoded data removed]",
      "text/plain": [
       "<Figure size 432x288 with 1 Axes>"
      ]
     },
     "metadata": {
      "needs_background": "light"
     },
     "output_type": "display_data"
    }
   ],
   "source": [
    "min_value = 2\n",
    "max_value = 150\n",
    "\n",
    "#Entre 1 y 1000 quedan 381582 registros \n",
    "#Entre 1 y 300 quedan 371666 registros\n",
    "#Entre 5 y 200 quedan 250549 registros\n",
    "\n",
    "app_dev_id_filtered = auctions.groupby(grp).filter(lambda data: ((len(data) > min_value) & (len(data) < max_value)))\n",
    "                                                                                                                  \n",
    "app_dev_id = app_dev_id_filtered.groupby(grp)['date'].count()\n",
    "print('Prom. de apariciones de usuarios en 3 dias: ', app_dev_id.mean())\n",
    "print('Min. de apariciones de usuarios en 3 dias: ', app_dev_id.min())\n",
    "print('Max. de apariciones de usuarios en 3 dias: ', app_dev_id.max())\n",
    "print('Med. de apariciones de usuarios en 3 dias: ', app_dev_id.median())\n",
    "print('Total de Registros: ', app_dev_id.count())\n",
    "\n",
    "plot = app_dev_id.hist(bins=50)\n",
    "plot.set_title(\"Usuarios por Cant. de apariciones \")\n",
    "plot.set_xlabel(\"Cant. de Apariciones\")\n",
    "plot.set_ylabel(\"Cant. Usuarios\")"
   ]
  },
  {
   "cell_type": "markdown",
   "metadata": {},
   "source": [
    "## Cada 3 dias, cuanto es el tiempo promedio entre apariciones de un dispositivo? "
   ]
  },
  {
   "cell_type": "code",
   "execution_count": 7,
   "metadata": {},
   "outputs": [
    {
     "data": {
      "text/html": [
       "<div>\n",
       "<style scoped>\n",
       "    .dataframe tbody tr th:only-of-type {\n",
       "        vertical-align: middle;\n",
       "    }\n",
       "\n",
       "    .dataframe tbody tr th {\n",
       "        vertical-align: top;\n",
       "    }\n",
       "\n",
       "    .dataframe thead th {\n",
       "        text-align: right;\n",
       "    }\n",
       "</style>\n",
       "<table border=\"1\" class=\"dataframe\">\n",
       "  <thead>\n",
       "    <tr style=\"text-align: right;\">\n",
       "      <th></th>\n",
       "      <th>date</th>\n",
       "      <th>device_id</th>\n",
       "      <th>platform</th>\n",
       "      <th>ref_type_id</th>\n",
       "      <th>source_id</th>\n",
       "      <th>date_frame</th>\n",
       "    </tr>\n",
       "  </thead>\n",
       "  <tbody>\n",
       "    <tr>\n",
       "      <th>3</th>\n",
       "      <td>2019-03-11 14:18:36.167163</td>\n",
       "      <td>7829815350267792040</td>\n",
       "      <td>1</td>\n",
       "      <td>1</td>\n",
       "      <td>0</td>\n",
       "      <td>0</td>\n",
       "    </tr>\n",
       "    <tr>\n",
       "      <th>7</th>\n",
       "      <td>2019-03-11 14:18:42.823963</td>\n",
       "      <td>160071254383181872</td>\n",
       "      <td>1</td>\n",
       "      <td>1</td>\n",
       "      <td>0</td>\n",
       "      <td>0</td>\n",
       "    </tr>\n",
       "    <tr>\n",
       "      <th>9</th>\n",
       "      <td>2019-03-11 14:18:44.470248</td>\n",
       "      <td>2960551690927930513</td>\n",
       "      <td>1</td>\n",
       "      <td>1</td>\n",
       "      <td>0</td>\n",
       "      <td>0</td>\n",
       "    </tr>\n",
       "    <tr>\n",
       "      <th>10</th>\n",
       "      <td>2019-03-11 14:18:47.603990</td>\n",
       "      <td>6306824739731026067</td>\n",
       "      <td>1</td>\n",
       "      <td>1</td>\n",
       "      <td>0</td>\n",
       "      <td>0</td>\n",
       "    </tr>\n",
       "    <tr>\n",
       "      <th>11</th>\n",
       "      <td>2019-03-11 14:18:48.424327</td>\n",
       "      <td>3936313574333788462</td>\n",
       "      <td>1</td>\n",
       "      <td>1</td>\n",
       "      <td>0</td>\n",
       "      <td>0</td>\n",
       "    </tr>\n",
       "  </tbody>\n",
       "</table>\n",
       "</div>"
      ],
      "text/plain": [
       "                         date            device_id platform ref_type_id  \\\n",
       "3  2019-03-11 14:18:36.167163  7829815350267792040        1           1   \n",
       "7  2019-03-11 14:18:42.823963   160071254383181872        1           1   \n",
       "9  2019-03-11 14:18:44.470248  2960551690927930513        1           1   \n",
       "10 2019-03-11 14:18:47.603990  6306824739731026067        1           1   \n",
       "11 2019-03-11 14:18:48.424327  3936313574333788462        1           1   \n",
       "\n",
       "   source_id  date_frame  \n",
       "3          0           0  \n",
       "7          0           0  \n",
       "9          0           0  \n",
       "10         0           0  \n",
       "11         0           0  "
      ]
     },
     "execution_count": 7,
     "metadata": {},
     "output_type": "execute_result"
    }
   ],
   "source": [
    "#con app_dev_id calcular el tiempo entre una apricion y otra aparicion y promediarlo por usuario y luego por total.\n",
    "app_dev_id_filtered.head()"
   ]
  },
  {
   "cell_type": "code",
   "execution_count": 8,
   "metadata": {},
   "outputs": [
    {
     "name": "stdout",
     "output_type": "stream",
     "text": [
      "Wall time: 0 ns\n"
     ]
    },
    {
     "data": {
      "text/html": [
       "<div>\n",
       "<style scoped>\n",
       "    .dataframe tbody tr th:only-of-type {\n",
       "        vertical-align: middle;\n",
       "    }\n",
       "\n",
       "    .dataframe tbody tr th {\n",
       "        vertical-align: top;\n",
       "    }\n",
       "\n",
       "    .dataframe thead th {\n",
       "        text-align: right;\n",
       "    }\n",
       "</style>\n",
       "<table border=\"1\" class=\"dataframe\">\n",
       "  <thead>\n",
       "    <tr style=\"text-align: right;\">\n",
       "      <th></th>\n",
       "      <th></th>\n",
       "      <th>date</th>\n",
       "      <th>device_id</th>\n",
       "      <th>platform</th>\n",
       "      <th>ref_type_id</th>\n",
       "      <th>source_id</th>\n",
       "      <th>date_frame</th>\n",
       "    </tr>\n",
       "  </thead>\n",
       "  <tbody>\n",
       "    <tr>\n",
       "      <th rowspan=\"5\" valign=\"top\">0</th>\n",
       "      <th>16055271</th>\n",
       "      <td>2019-03-08 11:20:19.361762</td>\n",
       "      <td>113858820194433</td>\n",
       "      <td>1</td>\n",
       "      <td>1</td>\n",
       "      <td>0</td>\n",
       "      <td>0</td>\n",
       "    </tr>\n",
       "    <tr>\n",
       "      <th>7910618</th>\n",
       "      <td>2019-03-08 11:20:19.411501</td>\n",
       "      <td>113858820194433</td>\n",
       "      <td>1</td>\n",
       "      <td>1</td>\n",
       "      <td>0</td>\n",
       "      <td>0</td>\n",
       "    </tr>\n",
       "    <tr>\n",
       "      <th>10114916</th>\n",
       "      <td>2019-03-08 13:41:53.701108</td>\n",
       "      <td>113858820194433</td>\n",
       "      <td>1</td>\n",
       "      <td>1</td>\n",
       "      <td>0</td>\n",
       "      <td>0</td>\n",
       "    </tr>\n",
       "    <tr>\n",
       "      <th>10198607</th>\n",
       "      <td>2019-03-11 00:47:34.259903</td>\n",
       "      <td>113858820194433</td>\n",
       "      <td>1</td>\n",
       "      <td>1</td>\n",
       "      <td>0</td>\n",
       "      <td>0</td>\n",
       "    </tr>\n",
       "    <tr>\n",
       "      <th>17311907</th>\n",
       "      <td>2019-03-11 22:05:35.290441</td>\n",
       "      <td>113858820194433</td>\n",
       "      <td>1</td>\n",
       "      <td>1</td>\n",
       "      <td>0</td>\n",
       "      <td>0</td>\n",
       "    </tr>\n",
       "  </tbody>\n",
       "</table>\n",
       "</div>"
      ],
      "text/plain": [
       "                                 date        device_id platform ref_type_id  \\\n",
       "0 16055271 2019-03-08 11:20:19.361762  113858820194433        1           1   \n",
       "  7910618  2019-03-08 11:20:19.411501  113858820194433        1           1   \n",
       "  10114916 2019-03-08 13:41:53.701108  113858820194433        1           1   \n",
       "  10198607 2019-03-11 00:47:34.259903  113858820194433        1           1   \n",
       "  17311907 2019-03-11 22:05:35.290441  113858820194433        1           1   \n",
       "\n",
       "           source_id  date_frame  \n",
       "0 16055271         0           0  \n",
       "  7910618          0           0  \n",
       "  10114916         0           0  \n",
       "  10198607         0           0  \n",
       "  17311907         0           0  "
      ]
     },
     "execution_count": 8,
     "metadata": {},
     "output_type": "execute_result"
    }
   ],
   "source": [
    "%time\n",
    "grouped_ordered = app_dev_id_filtered.groupby(grp, as_index = False)\\\n",
    "                                     .apply(lambda x: x.sort_values(by='date'))\n",
    "grouped_ordered.head()"
   ]
  },
  {
   "cell_type": "code",
   "execution_count": 12,
   "metadata": {},
   "outputs": [],
   "source": [
    "grouped_ordered['next_date'] = grouped_ordered.groupby(grp, as_index = False)['date'].transform(lambda x: x.shift(-1))\n",
    "grouped_ordered = grouped_ordered.loc[(~grouped_ordered['next_date'].isnull())]\n",
    "grouped_ordered['secs_to_next'] = (grouped_ordered['next_date'] - grouped_ordered['date']).transform(lambda x: round(x.total_seconds(), 2))"
   ]
  },
  {
   "cell_type": "code",
   "execution_count": 16,
   "metadata": {},
   "outputs": [
    {
     "data": {
      "text/html": [
       "<div>\n",
       "<style scoped>\n",
       "    .dataframe tbody tr th:only-of-type {\n",
       "        vertical-align: middle;\n",
       "    }\n",
       "\n",
       "    .dataframe tbody tr th {\n",
       "        vertical-align: top;\n",
       "    }\n",
       "\n",
       "    .dataframe thead th {\n",
       "        text-align: right;\n",
       "    }\n",
       "</style>\n",
       "<table border=\"1\" class=\"dataframe\">\n",
       "  <thead>\n",
       "    <tr style=\"text-align: right;\">\n",
       "      <th></th>\n",
       "      <th></th>\n",
       "      <th>date</th>\n",
       "      <th>device_id</th>\n",
       "      <th>platform</th>\n",
       "      <th>ref_type_id</th>\n",
       "      <th>source_id</th>\n",
       "      <th>date_frame</th>\n",
       "      <th>next_date</th>\n",
       "      <th>secs_to_next</th>\n",
       "    </tr>\n",
       "  </thead>\n",
       "  <tbody>\n",
       "    <tr>\n",
       "      <th rowspan=\"5\" valign=\"top\">0</th>\n",
       "      <th>16055271</th>\n",
       "      <td>2019-03-08 11:20:19.361762</td>\n",
       "      <td>113858820194433</td>\n",
       "      <td>1</td>\n",
       "      <td>1</td>\n",
       "      <td>0</td>\n",
       "      <td>0</td>\n",
       "      <td>2019-03-08 11:20:19.411501</td>\n",
       "      <td>0.05</td>\n",
       "    </tr>\n",
       "    <tr>\n",
       "      <th>7910618</th>\n",
       "      <td>2019-03-08 11:20:19.411501</td>\n",
       "      <td>113858820194433</td>\n",
       "      <td>1</td>\n",
       "      <td>1</td>\n",
       "      <td>0</td>\n",
       "      <td>0</td>\n",
       "      <td>2019-03-08 13:41:53.701108</td>\n",
       "      <td>8494.29</td>\n",
       "    </tr>\n",
       "    <tr>\n",
       "      <th>10114916</th>\n",
       "      <td>2019-03-08 13:41:53.701108</td>\n",
       "      <td>113858820194433</td>\n",
       "      <td>1</td>\n",
       "      <td>1</td>\n",
       "      <td>0</td>\n",
       "      <td>0</td>\n",
       "      <td>2019-03-11 00:47:34.259903</td>\n",
       "      <td>212740.56</td>\n",
       "    </tr>\n",
       "    <tr>\n",
       "      <th>10198607</th>\n",
       "      <td>2019-03-11 00:47:34.259903</td>\n",
       "      <td>113858820194433</td>\n",
       "      <td>1</td>\n",
       "      <td>1</td>\n",
       "      <td>0</td>\n",
       "      <td>0</td>\n",
       "      <td>2019-03-11 22:05:35.290441</td>\n",
       "      <td>76681.03</td>\n",
       "    </tr>\n",
       "    <tr>\n",
       "      <th>17311907</th>\n",
       "      <td>2019-03-11 22:05:35.290441</td>\n",
       "      <td>113858820194433</td>\n",
       "      <td>1</td>\n",
       "      <td>1</td>\n",
       "      <td>0</td>\n",
       "      <td>0</td>\n",
       "      <td>2019-03-11 23:43:52.418474</td>\n",
       "      <td>5897.13</td>\n",
       "    </tr>\n",
       "  </tbody>\n",
       "</table>\n",
       "</div>"
      ],
      "text/plain": [
       "                                 date        device_id platform ref_type_id  \\\n",
       "0 16055271 2019-03-08 11:20:19.361762  113858820194433        1           1   \n",
       "  7910618  2019-03-08 11:20:19.411501  113858820194433        1           1   \n",
       "  10114916 2019-03-08 13:41:53.701108  113858820194433        1           1   \n",
       "  10198607 2019-03-11 00:47:34.259903  113858820194433        1           1   \n",
       "  17311907 2019-03-11 22:05:35.290441  113858820194433        1           1   \n",
       "\n",
       "           source_id  date_frame                  next_date  secs_to_next  \n",
       "0 16055271         0           0 2019-03-08 11:20:19.411501          0.05  \n",
       "  7910618          0           0 2019-03-08 13:41:53.701108       8494.29  \n",
       "  10114916         0           0 2019-03-11 00:47:34.259903     212740.56  \n",
       "  10198607         0           0 2019-03-11 22:05:35.290441      76681.03  \n",
       "  17311907         0           0 2019-03-11 23:43:52.418474       5897.13  "
      ]
     },
     "execution_count": 16,
     "metadata": {},
     "output_type": "execute_result"
    }
   ],
   "source": [
    "grouped_ordered.head()"
   ]
  }
 ],
 "metadata": {
  "kernelspec": {
   "display_name": "Python 3",
   "language": "python",
   "name": "python3"
  },
  "language_info": {
   "codemirror_mode": {
    "name": "ipython",
    "version": 3
   },
   "file_extension": ".py",
   "mimetype": "text/x-python",
   "name": "python",
   "nbconvert_exporter": "python",
   "pygments_lexer": "ipython3",
   "version": "3.7.0"
  }
 },
 "nbformat": 4,
 "nbformat_minor": 2
}
